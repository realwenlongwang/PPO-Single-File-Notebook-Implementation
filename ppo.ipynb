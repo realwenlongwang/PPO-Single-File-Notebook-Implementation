{
 "cells": [
  {
   "cell_type": "code",
   "execution_count": 8,
   "metadata": {},
   "outputs": [],
   "source": [
    "from torch import nn\n",
    "import torch.nn.functional as F\n",
    "import torch\n",
    "from torch.distributions import Categorical, Normal\n",
    "import gymnasium as gym\n",
    "from tqdm.notebook import tnrange\n",
    "import numpy as np\n",
    "import scipy\n",
    "import wandb\n",
    "from gymnasium.spaces import Box, Discrete\n",
    "import os\n",
    "import random\n",
    "from gymnasium.wrappers.record_video import RecordVideo"
   ]
  },
  {
   "cell_type": "code",
   "execution_count": 9,
   "metadata": {},
   "outputs": [],
   "source": [
    "def discount_cumsum(x, discount):\n",
    "    \"\"\"\n",
    "    magic from rllab for computing discounted cumulative sums of vectors.\n",
    "\n",
    "    input: \n",
    "        vector x, \n",
    "        [x0, \n",
    "         x1, \n",
    "         x2]\n",
    "\n",
    "    output:\n",
    "        [x0 + discount * x1 + discount^2 * x2,  \n",
    "         x1 + discount * x2,\n",
    "         x2]\n",
    "    \"\"\"\n",
    "    return scipy.signal.lfilter([1], [1, float(-discount)], x[::-1], axis=0)[::-1]\n",
    "\n",
    "\n",
    "def combined_shape(length, shape=None):\n",
    "    if shape is None:\n",
    "        return (length,)\n",
    "    return (length, shape) if np.isscalar(shape) else (length, *shape)\n",
    "\n",
    "class PPOBuffer():\n",
    "    def __init__(self, observation_dim, action_dim, capacity, gamma, lam):\n",
    "        self.obs_buf = np.zeros(combined_shape(capacity, observation_dim), dtype=np.float32)\n",
    "        self.act_buf = np.zeros(combined_shape(capacity, action_dim), dtype=np.float32)\n",
    "        self.adv_buf = np.zeros(capacity, dtype=np.float32)\n",
    "        self.rew_buf = np.zeros(capacity, dtype=np.float32)\n",
    "        self.rtg_buf = np.zeros(capacity, dtype=np.float32)\n",
    "        self.val_buf = np.zeros(capacity, dtype=np.float32)\n",
    "        self.logp_buf = np.zeros(capacity, dtype=np.float32)\n",
    "        # self.logp_buf = np.zeros(combined_shape(capacity, action_dim), dtype=np.float32)\n",
    "        self.capacity = capacity\n",
    "        self.idx = 0\n",
    "        self.path_idx = 0\n",
    "        self.gamma = gamma\n",
    "        self.lam = lam\n",
    "\n",
    "    def push(self, obs, act, rew, val, logp):\n",
    "        assert self.idx < self.capacity\n",
    "        self.obs_buf[self.idx] = obs\n",
    "        self.act_buf[self.idx] = act\n",
    "        self.rew_buf[self.idx] = rew\n",
    "        self.val_buf[self.idx] = val\n",
    "        self.logp_buf[self.idx] = logp\n",
    "\n",
    "        self.idx += 1\n",
    "\n",
    "    def GAE_cal(self, last_val):\n",
    "        path_slice = slice(self.path_idx, self.idx)\n",
    "        # to make the deltas the same dim\n",
    "        rewards = np.append(self.rew_buf[path_slice], last_val)\n",
    "        vals = np.append(self.val_buf[path_slice], last_val)\n",
    "\n",
    "        deltas = rewards[:-1] + self.gamma * vals[1:] - vals[:-1]\n",
    "        self.adv_buf[path_slice] = discount_cumsum(deltas, self.gamma * self.lam)\n",
    "\n",
    "        ### OpenAI spinning up implemetation comment: No ideal, big value loss when episode rewards are large\n",
    "        # self.rtg_buf[path_slice] = discount_cumsum(rewards, self.gamma)[:-1]\n",
    "\n",
    "        ### OpenAI stable_baseline3 implementation\n",
    "        ### in David Silver Lecture 4: https://www.youtube.com/watch?v=PnHCvfgC_ZA\n",
    "        ### TD(lambda) estimator, see \"Telescoping in TD(lambda)\"\n",
    "        self.rtg_buf[path_slice] = self.adv_buf[path_slice] + self.val_buf[path_slice]\n",
    "        \n",
    "        self.path_idx = self.idx\n",
    "\n",
    "                \n",
    "    def sample(self, minibatch_size, device):\n",
    "        \"\"\"This method sample a list of minibatches from the memory\n",
    "\n",
    "        Args:\n",
    "            minibatch_size (int): size of minibatch, usually 2^n\n",
    "            device (object): CPU or GPU\n",
    "\n",
    "        Returns:\n",
    "            list: a list of minibatches\n",
    "        \"\"\"\n",
    "        assert self.idx == self.capacity\n",
    "        # reset the index\n",
    "        self.idx, self.path_idx = 0, 0\n",
    "        # normalise advantage\n",
    "        self.adv_buf = (self.adv_buf - np.mean(self.adv_buf)) / (np.std(self.adv_buf) + 1e-8)\n",
    "        \n",
    "        inds = np.arange(self.capacity)\n",
    "        \n",
    "        np.random.shuffle(inds)\n",
    "        \n",
    "        data = []\n",
    "        for start in range(0, self.capacity, minibatch_size):\n",
    "            end = start + minibatch_size\n",
    "            minibatch_inds = inds[start:end]\n",
    "            minibatch = dict(obs=self.obs_buf[minibatch_inds], act=self.act_buf[minibatch_inds], \\\n",
    "                             rtg=self.rtg_buf[minibatch_inds], adv=self.adv_buf[minibatch_inds], \\\n",
    "                             logp=self.logp_buf[minibatch_inds])\n",
    "            data.append({k: torch.as_tensor(v, dtype=torch.float32, device=device) for k,v in minibatch.items()})\n",
    "        \n",
    "        return data"
   ]
  },
  {
   "cell_type": "code",
   "execution_count": 10,
   "metadata": {},
   "outputs": [],
   "source": [
    "def layer_init(layer, std=np.sqrt(2)):\n",
    "    nn.init.orthogonal_(layer.weight, std)\n",
    "    nn.init.constant_(layer.bias, 0.0)\n",
    "    return layer\n",
    "\n",
    "class Actor_Net(nn.Module):\n",
    "    def __init__(self, n_observations, n_actions, num_cells, continous_action, log_std_init=0.0):\n",
    "        super(Actor_Net,self).__init__()\n",
    "        \n",
    "        self.layer1 = layer_init(nn.Linear(n_observations, num_cells))\n",
    "        self.layer2 = layer_init(nn.Linear(num_cells, num_cells))\n",
    "        self.layer3 = layer_init(nn.Linear(num_cells, n_actions), std=0.01)\n",
    "\n",
    "        self.continous_action = continous_action\n",
    "        self.action_dim = n_actions\n",
    "        \n",
    "        if self.continous_action:\n",
    "            log_std = log_std_init * np.ones(self.action_dim, dtype=np.float32)\n",
    "            # Add it to the list of parameters\n",
    "            self.log_std = torch.nn.Parameter(torch.as_tensor(log_std), requires_grad=True)\n",
    "            #\n",
    "            ### https://iclr-blog-track.github.io/2022/03/25/ppo-implementation-details/  implementation\n",
    "            # self.log_std = nn.Parameter(torch.zeros(1, self.action_dim))  \n",
    "\n",
    "            ### Stable-baseline3 implementation\n",
    "            # self.log_std = nn.Parameter(torch.ones(self.action_dim) * log_std_init, requires_grad=False)      \n",
    "\n",
    "        \n",
    "\n",
    "    def forward(self, x):\n",
    "        activation1 = F.tanh(self.layer1(x))\n",
    "        activation2 = F.tanh(self.layer2(activation1))\n",
    "        activation3 = self.layer3(activation2)\n",
    "\n",
    "        return activation3\n",
    "    \n",
    "    def act(self, x):\n",
    "        if self.continous_action:\n",
    "            mu = self.forward(x)\n",
    "            std = torch.exp(self.log_std)\n",
    "            dist = Normal(mu, std)\n",
    "        else:\n",
    "            log_probs = F.log_softmax(self.forward(x), dim=1)\n",
    "            dist = Categorical(log_probs)\n",
    "    \n",
    "        action = dist.sample()\n",
    "        if self.continous_action:\n",
    "            action_logprob = dist.log_prob(action).sum(axis=-1)\n",
    "        else:\n",
    "            action_logprob = dist.log_prob(action)\n",
    "\n",
    "        return action.detach().cpu().numpy(), action_logprob.detach().cpu().numpy()\n",
    "    \n",
    "    def logprob_ent_from_state_acton(self, x, act):\n",
    "        if self.continous_action:\n",
    "            mu = self.forward(x)\n",
    "            std = torch.exp(self.log_std)\n",
    "            dist = Normal(mu, std)\n",
    "            # sum term is crucial to reduce dimension, otherwise the ratio = torch.exp(logp - logp_old) will have wrong result with boardcasting\n",
    "            act_logp = dist.log_prob(act).sum(axis=-1) \n",
    "        else:\n",
    "            dist = Categorical(F.softmax(self.forward(x)))\n",
    "            act_logp = dist.log_prob(act)\n",
    "        entropy = dist.entropy()\n",
    "        \n",
    "        return entropy, act_logp\n",
    "    \n",
    "   \n",
    "class Critic_Net(nn.Module):\n",
    "    def __init__(self, n_observations, num_cells):\n",
    "        super(Critic_Net,self).__init__()\n",
    "        self.layer1 = layer_init(nn.Linear(n_observations, num_cells))\n",
    "        self.layer2 = layer_init(nn.Linear(num_cells, num_cells))\n",
    "        self.layer3 = layer_init(nn.Linear(num_cells, 1), std=1.0)\n",
    "\n",
    "    def forward(self, x):\n",
    "        activation1 = F.tanh(self.layer1(x))\n",
    "        activation2 = F.tanh(self.layer2(activation1))\n",
    "        activation3 = self.layer3(activation2)\n",
    "\n",
    "        return activation3\n",
    "\n",
    "class Actor_Critic_net(nn.Module):\n",
    "    def __init__(self, obs_dim, act_dim, hidden_dim, continous_action, parameters_hardshare, log_std_init=0.0):\n",
    "\n",
    "        super(Actor_Critic_net, self).__init__()\n",
    "\n",
    "        self.parameters_hardshare = parameters_hardshare\n",
    "        self.continous_action = continous_action\n",
    "        self.action_dim = act_dim\n",
    "\n",
    "        if self.parameters_hardshare:\n",
    "            self.layer1 = layer_init(nn.Linear(obs_dim, hidden_dim))\n",
    "            self.layer2 = layer_init(nn.Linear(hidden_dim, hidden_dim))\n",
    "\n",
    "            self.actor_head = layer_init(nn.Linear(hidden_dim, act_dim), std=0.01)\n",
    "            self.critic_head = layer_init(nn.Linear(hidden_dim, 1), std=1.0)\n",
    "            if self.continous_action:\n",
    "                log_std = log_std_init * np.ones(self.action_dim, dtype=np.float32)\n",
    "                # Add it to the list of parameters\n",
    "                self.log_std = torch.nn.Parameter(torch.as_tensor(log_std), requires_grad=True)\n",
    "                #\n",
    "                ### https://iclr-blog-track.github.io/2022/03/25/ppo-implementation-details/  implementation\n",
    "                # self.log_std = nn.Parameter(torch.zeros(1, self.action_dim))  \n",
    "\n",
    "                ### Stable-baseline3 implementation\n",
    "                # self.log_std = nn.Parameter(torch.ones(self.act_dim) * log_std_init, requires_grad=False) \n",
    "\n",
    "        else:\n",
    "            self.actor = Actor_Net(obs_dim, act_dim, hidden_dim, continous_action)\n",
    "            self.critic = Critic_Net(obs_dim, hidden_dim)\n",
    "\n",
    "\n",
    "    def forward(self, x):\n",
    "        if self.parameters_hardshare:\n",
    "            activation1 = F.tanh(self.layer1(x))\n",
    "            activation2 = F.tanh(self.layer2(activation1))\n",
    "            actor_logits = self.actor_head(activation2)\n",
    "            value = self.critic_head(activation2)\n",
    "        else:\n",
    "            actor_logits = self.actor.forward(x)\n",
    "            value = self.critic.forward(x)\n",
    "\n",
    "        return actor_logits, value\n",
    "\n",
    "    def get_value(self, x):\n",
    "        return self.critic(x).item()\n",
    "\n",
    "    \n",
    "    def act(self, x):\n",
    "        if self.continous_action:\n",
    "            mu, value = self.forward(x)\n",
    "            log_std = self.log_std if self.parameters_hardshare else self.actor.log_std\n",
    "            std = torch.exp(log_std)\n",
    "            dist = Normal(mu, std)\n",
    "        else:\n",
    "            actor_logits, value = self.forward(x)\n",
    "            log_probs = F.log_softmax(actor_logits, dim=1)\n",
    "            dist = Categorical(log_probs)\n",
    "\n",
    "        action = dist.sample()\n",
    "        if self.continous_action:\n",
    "            action_logprob = dist.log_prob(action).sum(axis=-1)\n",
    "        else:\n",
    "            action_logprob = dist.log_prob(action)\n",
    "        \n",
    "\n",
    "        return action.cpu().numpy(), action_logprob.cpu().numpy(), value.item()     \n",
    "\n",
    "    def logprob_ent_from_state_acton(self, x, act):\n",
    "\n",
    "        if self.continous_action:\n",
    "            mu, value = self.forward(x)\n",
    "            log_std = self.log_std if self.parameters_hardshare else self.actor.log_std\n",
    "            std = torch.exp(log_std)\n",
    "            dist = Normal(mu, std)\n",
    "            # sum term is crucial to reduce dimension,-0.5 otherwise the ratio = torch.exp(logp - logp_old) will have wrong result with boardcasting\n",
    "            act_logp = dist.log_prob(act).sum(axis=-1) \n",
    "        else:\n",
    "            actor_logits, value = self.forward(x)\n",
    "            dist = Categorical(F.softmax(actor_logits))\n",
    "            act_logp = dist.log_prob(act)\n",
    "        entropy = dist.entropy().sum(axis=-1)\n",
    "        \n",
    "        return entropy, act_logp, value"
   ]
  },
  {
   "cell_type": "code",
   "execution_count": 11,
   "metadata": {},
   "outputs": [],
   "source": [
    "class PPO():\n",
    "    def __init__(self, gamma, lamb, eps_clip, K_epochs, \\\n",
    "                 observation_space, action_space, num_cells, \\\n",
    "                 actor_lr, critic_lr, memory_size , minibatch_size,\\\n",
    "                 max_training_iter, cal_total_loss, c1, c2, \\\n",
    "                 early_stop, kl_threshold, parameters_hardshare, \\\n",
    "                 max_grad_norm , device\n",
    "                 ):\n",
    "        self.gamma = gamma\n",
    "        self.lamb = lamb\n",
    "        self.eps_clip = eps_clip\n",
    "        self.K_epochs = K_epochs\n",
    "        self.max_training_iter = max_training_iter\n",
    "\n",
    "        self.observation_space = observation_space\n",
    "        self.action_space = action_space\n",
    "        self.memory_size = memory_size\n",
    "        self.minibatch_size = minibatch_size\n",
    "        \n",
    "        self.cal_total_loss = cal_total_loss\n",
    "        self.c1 = c1\n",
    "        self.c2 = c2\n",
    "        self.early_stop = early_stop\n",
    "        self.kl_threshold = kl_threshold\n",
    "\n",
    "        self.parameters_hardshare = parameters_hardshare\n",
    "        self.episode_count = 0\n",
    "        self.max_grad_norm = max_grad_norm\n",
    "        self.global_step = 0\n",
    "\n",
    "\n",
    "        if isinstance(action_space, Box):\n",
    "            self.continous_action = True\n",
    "        elif isinstance(action_space, Discrete):\n",
    "            self.continous_action = False\n",
    "        else:\n",
    "            raise AssertionError(f\"action space is not valid {action_space}\")\n",
    "\n",
    "\n",
    "        self.observtion_dim = observation_space.shape[0]\n",
    "\n",
    "        # self.actor = Actor_Net(self.observtion_dim, \\\n",
    "        #                        action_space.shape[0] if self.continous_action else action_space.n, \\\n",
    "        #                           num_cells, self.continous_action).to(device)\n",
    "          \n",
    "        # self.critic = Critic_Net(self.observtion_dim, num_cells).to(device)\n",
    "        self.actor_critic = Actor_Critic_net(self.observtion_dim, \\\n",
    "                               action_space.shape[0] if self.continous_action else action_space.n, \\\n",
    "                                  num_cells, self.continous_action, parameters_hardshare).to(device)\n",
    "\n",
    "        # self.actor_opt = torch.optim.Adam(self.actor.parameters(), lr=actor_lr)\n",
    "        # self.critic_opt = torch.optim.Adam(self.critic.parameters(), lr=critic_lr)\n",
    "        if parameters_hardshare:\n",
    "            ### eps=1e-5 follows stable-baseline3\n",
    "            self.actor_critic_opt = torch.optim.Adam(self.actor_critic.parameters(), lr=actor_lr, eps=1e-5)\n",
    "            \n",
    "        else:\n",
    "            self.actor_critic_opt = torch.optim.Adam([ \n",
    "                {'params': self.actor_critic.actor.parameters(), 'lr': actor_lr, 'eps' : 1e-5},\n",
    "                {'params': self.actor_critic.critic.parameters(), 'lr': critic_lr, 'eps' : 1e-5} \n",
    "            ])\n",
    "\n",
    "\n",
    "        self.memory = PPOBuffer(observation_space.shape, action_space.shape, memory_size, gamma, lamb)\n",
    "\n",
    "        self.device = device\n",
    "        \n",
    "        wandb.watch(self.actor_critic.actor, log='all', log_freq=1000, idx=1)\n",
    "        wandb.watch(self.actor_critic.critic, log='all', log_freq=1000, idx=2)\n",
    "        # wandb.watch(self.actor_critic, log='all', log_freq=1000)\n",
    "\n",
    "    def roll_out(self, env):\n",
    "        # TODO: implement multiple thread\n",
    "        # make a new environment instance\n",
    "        \n",
    "        \n",
    "\n",
    "        # Maybe a deep copy is necessary for multi-thread processing\n",
    "        obs, _ = env.reset()\n",
    "\n",
    "        ep_reward = 0\n",
    "        \n",
    "        action_shape = env.action_space.shape\n",
    "        # Run the policy for T timestep\n",
    "        for i in tnrange(self.memory_size, desc=\"roll_out\", leave=False):\n",
    "            with torch.no_grad():\n",
    "                obs_tensor = torch.tensor(obs, \\\n",
    "                                        dtype=torch.float32, device=self.device).unsqueeze(0)\n",
    "                \n",
    "                # action, action_logprob = self.actor.act(obs_tensor)\n",
    "\n",
    "                # action = action.reshape(action_shape)\n",
    "                \n",
    "                # value = self.critic.forward(obs_tensor).item()\n",
    "            \n",
    "            \n",
    "                action, action_logprob, value = self.actor_critic.act(obs_tensor)\n",
    "            \n",
    "            action = action.reshape(action_shape)\n",
    "\n",
    "            clipped_action = action\n",
    "\n",
    "            if self.continous_action:\n",
    "                clipped_action = np.clip(action, self.action_space.low, self.action_space.high)\n",
    "\n",
    "            next_obs, reward, terminated, truncated, _ = env.step(clipped_action)\n",
    "\n",
    "            self.global_step += 1\n",
    "\n",
    "            self.memory.push(obs, action, reward, value, action_logprob)\n",
    "\n",
    "            obs = next_obs\n",
    "\n",
    "            ep_reward += reward\n",
    "\n",
    "            if terminated or truncated:\n",
    "                if truncated:\n",
    "                    # last_value = self.critic.forward(torch.tensor(next_obs, dtype=torch.float32, device=self.device)).item()\n",
    "                    last_value = self.actor_critic.get_value(torch.tensor(next_obs, dtype=torch.float32, device=self.device))\n",
    "                else:\n",
    "                    last_value = 0\n",
    "                    \n",
    "\n",
    "                \n",
    "                self.memory.GAE_cal(last_value)\n",
    "\n",
    "                obs,_ = env.reset()\n",
    "                self.episode_count += 1\n",
    "                wandb.log({'episode_reward' : ep_reward}, step=self.global_step)\n",
    "                ep_reward = 0\n",
    "\n",
    "\n",
    "        \n",
    "        with torch.no_grad():\n",
    "            last_value = self.actor_critic.get_value(torch.tensor(next_obs, dtype=torch.float32, device=self.device))\n",
    "        self.memory.GAE_cal(last_value)\n",
    "\n",
    "\n",
    "    def evaluate_recording(self, env):\n",
    "        \n",
    "        env_name = env.spec.id\n",
    "\n",
    "        video_folder = os.path.join(wandb.run.dir, 'videos')\n",
    "\n",
    "        env = RecordVideo(env, video_folder, name_prefix=env_name)\n",
    "\n",
    "        obs, _ = env.reset()\n",
    "\n",
    "        done = False\n",
    "\n",
    "        action_shape = env.action_space.shape\n",
    "\n",
    "        while not done:\n",
    "            obs_tensor = torch.tensor(obs, \\\n",
    "                                    dtype=torch.float32, device=self.device).unsqueeze(0)\n",
    "            action, _, _ = self.actor_critic.act(obs_tensor)\n",
    "            action = action.reshape(action_shape)\n",
    "            next_obs, reward, terminated, truncated, _ = env.step(action)\n",
    "            done = terminated or truncated\n",
    "            obs = next_obs\n",
    "\n",
    "        \n",
    "        mp4_files = [file for file in os.listdir(video_folder) if file.endswith(\".mp4\")]\n",
    "\n",
    "        for mp4_file in mp4_files:\n",
    "            wandb.log({'Episode_recording': wandb.Video(os.path.join(video_folder, mp4_file))})\n",
    "\n",
    "        env.close()\n",
    "        \n",
    "\n",
    "\n",
    "\n",
    "\n",
    "    # def compute_loss(self, data):\n",
    "    #     observations, actions, logp_old = data['obs'], data['act'], data['logp']\n",
    "    #     advs, rtgs = data['adv'], data['rtg']\n",
    "\n",
    "    #     # Calculate the pi_theta (a_t|s_t)\n",
    "    #     entropy, logp = self.actor.logprob_ent_from_state_acton(observations, actions)\n",
    "    #     ratio = torch.exp(logp - logp_old)\n",
    "    #     # Kl approx according to http://joschu.net/blog/kl-approx.html\n",
    "    #     kl_apx = ((ratio - 1) - (logp - logp_old)).mean()\n",
    "    #     wandb.log({'KL approx': kl_apx})\n",
    "    #     clip_advs = torch.clamp(ratio, 1-self.eps_clip, 1+self.eps_clip) * advs\n",
    "    #     # Torch Adam implement tation mius the gradient, to plus the gradient, we need make the loss negative\n",
    "    #     actor_loss = -(torch.min(ratio*advs, clip_advs)).mean()\n",
    "\n",
    "    #     values = self.critic(observations).squeeze()\n",
    "    #     critic_loss = nn.MSELoss()(values, rtgs)\n",
    "\n",
    "    #     entropy_loss = entropy.mean()\n",
    "\n",
    "    #     return actor_loss, critic_loss, entropy_loss, kl_apx\n",
    "\n",
    "\n",
    "    def compute_loss(self, data):\n",
    "        observations, actions, logp_old = data['obs'], data['act'], data['logp']\n",
    "        advs, rtgs = data['adv'], data['rtg']\n",
    "\n",
    "        # Calculate the pi_theta (a_t|s_t)\n",
    "        entropy, logp, values = self.actor_critic.logprob_ent_from_state_acton(observations, actions)\n",
    "        ratio = torch.exp(logp - logp_old)\n",
    "        # Kl approx according to http://joschu.net/blog/kl-approx.html\n",
    "        kl_apx = ((ratio - 1) - (logp - logp_old)).mean()\n",
    "    \n",
    "        clip_advs = torch.clamp(ratio, 1-self.eps_clip, 1+self.eps_clip) * advs\n",
    "        # Torch Adam implement tation mius the gradient, to plus the gradient, we need make the loss negative\n",
    "        actor_loss = -(torch.min(ratio*advs, clip_advs)).mean()\n",
    "\n",
    "        values = values.flatten() # I used squeeze before, maybe a mistake\n",
    "\n",
    "        critic_loss = F.mse_loss(values, rtgs)\n",
    "        # critic_loss = ((values - rtgs) ** 2).mean()\n",
    "\n",
    "        entropy_loss = entropy.mean()\n",
    "\n",
    "        return actor_loss, critic_loss, entropy_loss, kl_apx        \n",
    "\n",
    "    def optimise(self):\n",
    "\n",
    "        data = self.memory.sample(self.minibatch_size, self.device)\n",
    "\n",
    "        early_stop_count = 0\n",
    "\n",
    "        entropy_loss_list = []\n",
    "        actor_loss_list = []\n",
    "        critic_loss_list = []\n",
    "        kl_approx_list = []\n",
    "        \n",
    "        # for _ in tnrange(self.K_epochs, desc=f\"epochs\", position=1, leave=False):\n",
    "        for _ in range(self.K_epochs):\n",
    "            \n",
    "            for minibatch in data:\n",
    "            \n",
    "                actor_loss, critic_loss, entropy_loss, kl_apx = self.compute_loss(minibatch)\n",
    "\n",
    "                entropy_loss_list.append(entropy_loss.item())\n",
    "                actor_loss_list.append(actor_loss.item())\n",
    "                critic_loss_list.append(critic_loss.item())\n",
    "                kl_approx_list.append(kl_apx.item())\n",
    "\n",
    "                if self.cal_total_loss:\n",
    "                    total_loss = actor_loss + self.c1 * critic_loss - self.c2 * entropy_loss\n",
    "\n",
    "                # If this update is too big, early stop and try next minibatch\n",
    "                if self.early_stop and kl_apx > self.kl_threshold:\n",
    "                    early_stop_count += 1\n",
    "                    continue\n",
    "\n",
    "                # self.actor_opt.zero_grad()\n",
    "                # self.critic_opt.zero_grad()\n",
    "                # if self.cal_total_loss:\n",
    "                #     wandb.log({'total_loss': total_loss})\n",
    "                #     total_loss.backward()\n",
    "                #     self.actor_opt.step()\n",
    "                #     self.critic_opt.step()\n",
    "                # else:\n",
    "                #     wandb.log({'actor_loss': actor_loss, 'critic_loss': critic_loss})\n",
    "                #     actor_loss.backward()\n",
    "                #     self.actor_opt.step()\n",
    "                #     critic_loss.backward()\n",
    "                #     self.critic_opt.step()\n",
    "                \n",
    "                self.actor_critic_opt.zero_grad()\n",
    "                if self.cal_total_loss:\n",
    "                    total_loss.backward()\n",
    "                    # Used by stable-baseline3, maybe more important for RNN\n",
    "                    torch.nn.utils.clip_grad_norm_(self.actor_critic.parameters(), self.max_grad_norm)\n",
    "                    self.actor_critic_opt.step()\n",
    "\n",
    "                else:\n",
    "                    actor_loss.backward()\n",
    "                    critic_loss.backward()\n",
    "                    # Used by stable-baseline3, maybe more important for RNN\n",
    "                    torch.nn.utils.clip_grad_norm_(self.actor_critic.parameters(), self.max_grad_norm)\n",
    "                    self.actor_critic_opt.step()\n",
    "            \n",
    "        # wandb.run.summary['early_stop_count'] = early_stop_count\n",
    "        # Logging, use the same metric as stable-baselines3 to compare performance\n",
    "        with torch.no_grad():\n",
    "            mean_std = self.actor_critic.actor.log_std.mean().item()\n",
    "\n",
    "        wandb.log(\n",
    "            {\n",
    "                'actor_loss': np.mean(actor_loss_list),\n",
    "                'critic_loss' : np.mean(critic_loss_list),\n",
    "                'entropy_loss' : np.mean(entropy_loss_list),\n",
    "                'KL_approx' : np.mean(kl_approx_list),\n",
    "                'mean_std' : mean_std\n",
    "            }, step=self.global_step\n",
    "        )    \n",
    "\n",
    "                \n",
    "    def train(self, env):\n",
    "\n",
    "        for i in tnrange(self.max_training_iter // self.memory_size):\n",
    "\n",
    "            self.roll_out(env)\n",
    "\n",
    "            self.optimise()\n",
    "\n",
    "        # save the model to the wandb run folder\n",
    "        # PATH = os.path.join(wandb.run.dir, \"actor_critic.pt\")\n",
    "        # torch.save(self.actor_critic.state_dict(), PATH)\n",
    "\n",
    "\n",
    "        wandb.run.summary['total_episode'] = self.episode_count\n",
    "\n",
    "        \n",
    "    \n",
    "            \n",
    "\n",
    "        \n"
   ]
  },
  {
   "cell_type": "markdown",
   "metadata": {},
   "source": [
    "### Sweep for HalfCheetah\n",
    "#### Continous action space"
   ]
  },
  {
   "cell_type": "code",
   "execution_count": 12,
   "metadata": {},
   "outputs": [],
   "source": [
    "sweep_configuration = {\n",
    "    'method': 'random',\n",
    "    'metric':{'goal':'maximize', 'name':'episode_reward'},\n",
    "    'parameters':\n",
    "    {\n",
    "        'actor_lr' : {'value' : 3e-4},\n",
    "        'memory_size' : {'value' : 2048},\n",
    "        'k_epochs' : {'value' : 10},\n",
    "        'gamma' : {'value' : 0.99},\n",
    "        'lam' : {'value' : 0.95}, \n",
    "        'early_stop': {'value': False},\n",
    "        'cal_total_loss' : {'value' : False},\n",
    "        'parameters_hardshare' : {'value' : False},\n",
    "        'c1' : {'value': 0.5},\n",
    "        'c2' : {'value' : 0},\n",
    "        # 'kl_threshold' : {'min': 0.01, 'max': 0.04},\n",
    "        'minibatch_size' : {'value' : 64}\n",
    "    }\n",
    "}"
   ]
  },
  {
   "cell_type": "code",
   "execution_count": 13,
   "metadata": {},
   "outputs": [],
   "source": [
    "def main():\n",
    "\n",
    "\n",
    "\n",
    "    device = torch.device(\"cuda\" if torch.cuda.is_available() else \"cpu\")\n",
    "\n",
    "    run = wandb.init(\n",
    "            project='PPO-HalfCheetah_cmp',\n",
    "            # mode='disabled',\n",
    "            # config = sweep_configuration\n",
    "        )\n",
    "\n",
    "\n",
    "    gamma = 0.99\n",
    "    # gamma = wandb.config.gamma\n",
    "    lamb = 0.95\n",
    "    # lamb = wandb.config.lam\n",
    "    eps_clip = 0.2\n",
    "    max_training_iter = 1_000_000\n",
    "    k_epochs = 10\n",
    "    # k_epochs = wandb.config.k_epochs\n",
    "    num_cells = 64\n",
    "    actor_lr = 3e-4 \n",
    "    # actor_lr = wandb.config.actor_lr\n",
    "    critic_lr = actor_lr\n",
    "    # critic_lr = wandb.config.critic_lr\n",
    "    memory_size = 2048\n",
    "    # memory_size = wandb.config.memory_size\n",
    "    minibatch_size = 64\n",
    "    # minibatch_size = wandb.config.minibatch_size\n",
    "    \n",
    "    c1 = 0.5\n",
    "    c2 = 0\n",
    "    kl_threshold = 0.013\n",
    "    # c1 = wandb.config.c1\n",
    "    # c2 = wandb.config.c2\n",
    "    # kl_threshold = wandb.config.kl_threshold\n",
    "    \n",
    "    env_name = \"HalfCheetah-v4\" # CartPole-v1\n",
    "    parameters_hardshare = False\n",
    "    early_stop = False\n",
    "    cal_total_loss = False\n",
    "    # parameters_hardshare = wandb.config.parameters_hardshare\n",
    "    # early_stop = wandb.config.early_stop\n",
    "    # cal_total_loss = wandb.config.cal_total_loss\n",
    "    max_grad_norm = 0.5\n",
    "\n",
    "    seed = 123\n",
    "\n",
    "    wandb.config.update(\n",
    "        {\n",
    "            'actor_lr' : actor_lr,\n",
    "            'critic_lr' : critic_lr,\n",
    "            'gamma' : gamma,\n",
    "            'lambda' : lamb,\n",
    "            'eps_clip' : eps_clip,\n",
    "            'max_training_iter' : max_training_iter,\n",
    "            'k_epochs' : k_epochs,\n",
    "            'hidden_cell_dim' : num_cells,\n",
    "            'memory_size' : memory_size,\n",
    "            'minibatch_size' : minibatch_size,\n",
    "            'cal_total_loss' : cal_total_loss,\n",
    "            'c1' : c1,\n",
    "            'c2' : c2,\n",
    "            'early_stop' : early_stop,\n",
    "            'env_name': env_name,\n",
    "            'kl_threshold' : kl_threshold\n",
    "\n",
    "        }\n",
    "    )\n",
    "\n",
    "    # wandb.define_metric(\"episode_reward\", summary=\"mean\")\n",
    "    # wandb.define_metric(\"KL_approx\", summary=\"mean\")\n",
    "        \n",
    "    # Using render_mode slow the training process down\n",
    "    env = gym.make(env_name)\n",
    "    recording_env = gym.make(env_name, render_mode = 'rgb_array_list')\n",
    "\n",
    "    # video_path = os.path.join(wandb.run.dir, 'recorded_episodes')\n",
    "    # print(f\"Videos are stored at {video_path}\")\n",
    "    # video_recorder = RecordVideo(env, video_path, episode_trigger=200)\n",
    "\n",
    "    # Seeding evaluation purpose\n",
    "    env.np_random = np.random.default_rng(seed)\n",
    "    env.action_space.seed(seed)\n",
    "    env.observation_space.seed(seed)\n",
    "\n",
    "    recording_env.np_random = np.random.default_rng(seed)\n",
    "    recording_env.action_space.seed(seed)\n",
    "    recording_env.observation_space.seed(seed)\n",
    "\n",
    "    random.seed(seed)\n",
    "    np.random.seed(seed)\n",
    "    torch.manual_seed(seed)\n",
    "    # Deterministic operations for CuDNN, it may impact performances\n",
    "    torch.backends.cudnn.deterministic = True\n",
    "    torch.backends.cudnn.benchmark = False\n",
    "\n",
    "    my_ppo = PPO(gamma, lamb, eps_clip, k_epochs, env.observation_space, env.action_space, num_cells,\\\n",
    "                 actor_lr, critic_lr, memory_size, minibatch_size, max_training_iter, \\\n",
    "                 cal_total_loss, c1, c2, early_stop, kl_threshold, parameters_hardshare, max_grad_norm, device)\n",
    "    \n",
    "    my_ppo.train(env)\n",
    "    my_ppo.evaluate_recording(recording_env)\n",
    "\n",
    "    env.close()\n",
    "    recording_env.close()\n",
    "    # video_recorder.close()\n",
    "    run.finish()"
   ]
  },
  {
   "cell_type": "code",
   "execution_count": 14,
   "metadata": {},
   "outputs": [
    {
     "data": {
      "text/html": [
       "Finishing last run (ID:jqq4m6wv) before initializing another..."
      ],
      "text/plain": [
       "<IPython.core.display.HTML object>"
      ]
     },
     "metadata": {},
     "output_type": "display_data"
    },
    {
     "data": {
      "text/html": [
       "Waiting for W&B process to finish... <strong style=\"color:green\">(success).</strong>"
      ],
      "text/plain": [
       "<IPython.core.display.HTML object>"
      ]
     },
     "metadata": {},
     "output_type": "display_data"
    },
    {
     "data": {
      "application/vnd.jupyter.widget-view+json": {
       "model_id": "9328b61e9e6e43148707e8b15b568973",
       "version_major": 2,
       "version_minor": 0
      },
      "text/plain": [
       "VBox(children=(Label(value='0.003 MB of 0.013 MB uploaded (0.000 MB deduped)\\r'), FloatProgress(value=0.240034…"
      ]
     },
     "metadata": {},
     "output_type": "display_data"
    },
    {
     "data": {
      "text/html": [
       "<style>\n",
       "    table.wandb td:nth-child(1) { padding: 0 10px; text-align: left ; width: auto;} td:nth-child(2) {text-align: left ; width: 100%}\n",
       "    .wandb-row { display: flex; flex-direction: row; flex-wrap: wrap; justify-content: flex-start; width: 100% }\n",
       "    .wandb-col { display: flex; flex-direction: column; flex-basis: 100%; flex: 1; padding: 10px; }\n",
       "    </style>\n",
       "<div class=\"wandb-row\"><div class=\"wandb-col\"><h3>Run history:</h3><br/><table class=\"wandb\"><tr><td>episode_reward</td><td>█▁</td></tr></table><br/></div><div class=\"wandb-col\"><h3>Run summary:</h3><br/><table class=\"wandb\"><tr><td>episode_reward</td><td>-440.41693</td></tr></table><br/></div></div>"
      ],
      "text/plain": [
       "<IPython.core.display.HTML object>"
      ]
     },
     "metadata": {},
     "output_type": "display_data"
    },
    {
     "data": {
      "text/html": [
       " View run <strong style=\"color:#cdcd00\">zesty-firebrand-161</strong> at: <a href='https://wandb.ai/tcd-clearway/PPO-HalfCheetah_cmp/runs/jqq4m6wv' target=\"_blank\">https://wandb.ai/tcd-clearway/PPO-HalfCheetah_cmp/runs/jqq4m6wv</a><br/>Synced 5 W&B file(s), 0 media file(s), 0 artifact file(s) and 0 other file(s)"
      ],
      "text/plain": [
       "<IPython.core.display.HTML object>"
      ]
     },
     "metadata": {},
     "output_type": "display_data"
    },
    {
     "data": {
      "text/html": [
       "Find logs at: <code>./wandb/run-20230803_090511-jqq4m6wv/logs</code>"
      ],
      "text/plain": [
       "<IPython.core.display.HTML object>"
      ]
     },
     "metadata": {},
     "output_type": "display_data"
    },
    {
     "data": {
      "text/html": [
       "Successfully finished last run (ID:jqq4m6wv). Initializing new run:<br/>"
      ],
      "text/plain": [
       "<IPython.core.display.HTML object>"
      ]
     },
     "metadata": {},
     "output_type": "display_data"
    },
    {
     "data": {
      "application/vnd.jupyter.widget-view+json": {
       "model_id": "da54a232131e4b20b83a28be0f045588",
       "version_major": 2,
       "version_minor": 0
      },
      "text/plain": [
       "VBox(children=(Label(value='Waiting for wandb.init()...\\r'), FloatProgress(value=0.016670751099991322, max=1.0…"
      ]
     },
     "metadata": {},
     "output_type": "display_data"
    },
    {
     "data": {
      "text/html": [
       "wandb version 0.15.8 is available!  To upgrade, please run:\n",
       " $ pip install wandb --upgrade"
      ],
      "text/plain": [
       "<IPython.core.display.HTML object>"
      ]
     },
     "metadata": {},
     "output_type": "display_data"
    },
    {
     "data": {
      "text/html": [
       "Tracking run with wandb version 0.15.5"
      ],
      "text/plain": [
       "<IPython.core.display.HTML object>"
      ]
     },
     "metadata": {},
     "output_type": "display_data"
    },
    {
     "data": {
      "text/html": [
       "Run data is saved locally in <code>/home/sky/Desktop/repositories/ppo/wandb/run-20230803_091043-u2nrnct8</code>"
      ],
      "text/plain": [
       "<IPython.core.display.HTML object>"
      ]
     },
     "metadata": {},
     "output_type": "display_data"
    },
    {
     "data": {
      "text/html": [
       "Syncing run <strong><a href='https://wandb.ai/tcd-clearway/PPO-HalfCheetah_cmp/runs/u2nrnct8' target=\"_blank\">crimson-energy-162</a></strong> to <a href='https://wandb.ai/tcd-clearway/PPO-HalfCheetah_cmp' target=\"_blank\">Weights & Biases</a> (<a href='https://wandb.me/run' target=\"_blank\">docs</a>)<br/>"
      ],
      "text/plain": [
       "<IPython.core.display.HTML object>"
      ]
     },
     "metadata": {},
     "output_type": "display_data"
    },
    {
     "data": {
      "text/html": [
       " View project at <a href='https://wandb.ai/tcd-clearway/PPO-HalfCheetah_cmp' target=\"_blank\">https://wandb.ai/tcd-clearway/PPO-HalfCheetah_cmp</a>"
      ],
      "text/plain": [
       "<IPython.core.display.HTML object>"
      ]
     },
     "metadata": {},
     "output_type": "display_data"
    },
    {
     "data": {
      "text/html": [
       " View run at <a href='https://wandb.ai/tcd-clearway/PPO-HalfCheetah_cmp/runs/u2nrnct8' target=\"_blank\">https://wandb.ai/tcd-clearway/PPO-HalfCheetah_cmp/runs/u2nrnct8</a>"
      ],
      "text/plain": [
       "<IPython.core.display.HTML object>"
      ]
     },
     "metadata": {},
     "output_type": "display_data"
    },
    {
     "data": {
      "application/vnd.jupyter.widget-view+json": {
       "model_id": "7d44f1c2b8d34af5a8957e52ed9d2b2d",
       "version_major": 2,
       "version_minor": 0
      },
      "text/plain": [
       "  0%|          | 0/488 [00:00<?, ?it/s]"
      ]
     },
     "metadata": {},
     "output_type": "display_data"
    },
    {
     "data": {
      "application/vnd.jupyter.widget-view+json": {
       "model_id": "d94b7d53c91643b2a7f5fadaf796ae24",
       "version_major": 2,
       "version_minor": 0
      },
      "text/plain": [
       "roll_out:   0%|          | 0/2048 [00:00<?, ?it/s]"
      ]
     },
     "metadata": {},
     "output_type": "display_data"
    },
    {
     "data": {
      "application/vnd.jupyter.widget-view+json": {
       "model_id": "e9d8b9fc7abc42bbb5f4ea3b1da4f22a",
       "version_major": 2,
       "version_minor": 0
      },
      "text/plain": [
       "roll_out:   0%|          | 0/2048 [00:00<?, ?it/s]"
      ]
     },
     "metadata": {},
     "output_type": "display_data"
    },
    {
     "data": {
      "application/vnd.jupyter.widget-view+json": {
       "model_id": "48be8abc3f814a1ab3c8b4ef82abdd30",
       "version_major": 2,
       "version_minor": 0
      },
      "text/plain": [
       "roll_out:   0%|          | 0/2048 [00:00<?, ?it/s]"
      ]
     },
     "metadata": {},
     "output_type": "display_data"
    },
    {
     "data": {
      "application/vnd.jupyter.widget-view+json": {
       "model_id": "e42a6c9484384592948dc52907e0f4a7",
       "version_major": 2,
       "version_minor": 0
      },
      "text/plain": [
       "roll_out:   0%|          | 0/2048 [00:00<?, ?it/s]"
      ]
     },
     "metadata": {},
     "output_type": "display_data"
    },
    {
     "data": {
      "application/vnd.jupyter.widget-view+json": {
       "model_id": "27326099dca14b65a65b78ea1d4b9a5b",
       "version_major": 2,
       "version_minor": 0
      },
      "text/plain": [
       "roll_out:   0%|          | 0/2048 [00:00<?, ?it/s]"
      ]
     },
     "metadata": {},
     "output_type": "display_data"
    },
    {
     "data": {
      "application/vnd.jupyter.widget-view+json": {
       "model_id": "b75d9939f6854d5bbb79d12bf228b618",
       "version_major": 2,
       "version_minor": 0
      },
      "text/plain": [
       "roll_out:   0%|          | 0/2048 [00:00<?, ?it/s]"
      ]
     },
     "metadata": {},
     "output_type": "display_data"
    },
    {
     "data": {
      "application/vnd.jupyter.widget-view+json": {
       "model_id": "29163d7350a8480ebe756eed33a68ef5",
       "version_major": 2,
       "version_minor": 0
      },
      "text/plain": [
       "roll_out:   0%|          | 0/2048 [00:00<?, ?it/s]"
      ]
     },
     "metadata": {},
     "output_type": "display_data"
    },
    {
     "data": {
      "application/vnd.jupyter.widget-view+json": {
       "model_id": "f5c7a82585b84f55bec8c3532b3ff6d9",
       "version_major": 2,
       "version_minor": 0
      },
      "text/plain": [
       "roll_out:   0%|          | 0/2048 [00:00<?, ?it/s]"
      ]
     },
     "metadata": {},
     "output_type": "display_data"
    },
    {
     "data": {
      "application/vnd.jupyter.widget-view+json": {
       "model_id": "e67080b105bb437eaab1f2230d7f8d38",
       "version_major": 2,
       "version_minor": 0
      },
      "text/plain": [
       "roll_out:   0%|          | 0/2048 [00:00<?, ?it/s]"
      ]
     },
     "metadata": {},
     "output_type": "display_data"
    },
    {
     "data": {
      "application/vnd.jupyter.widget-view+json": {
       "model_id": "b36a3e802000482aa99b52961f26f284",
       "version_major": 2,
       "version_minor": 0
      },
      "text/plain": [
       "roll_out:   0%|          | 0/2048 [00:00<?, ?it/s]"
      ]
     },
     "metadata": {},
     "output_type": "display_data"
    },
    {
     "data": {
      "application/vnd.jupyter.widget-view+json": {
       "model_id": "06592e8226a148968ded47715a16be57",
       "version_major": 2,
       "version_minor": 0
      },
      "text/plain": [
       "roll_out:   0%|          | 0/2048 [00:00<?, ?it/s]"
      ]
     },
     "metadata": {},
     "output_type": "display_data"
    },
    {
     "data": {
      "application/vnd.jupyter.widget-view+json": {
       "model_id": "aad8affed9314ae0ba5a869370a99e5f",
       "version_major": 2,
       "version_minor": 0
      },
      "text/plain": [
       "roll_out:   0%|          | 0/2048 [00:00<?, ?it/s]"
      ]
     },
     "metadata": {},
     "output_type": "display_data"
    },
    {
     "data": {
      "application/vnd.jupyter.widget-view+json": {
       "model_id": "28ff378f0d0e4377acb5e141effcccec",
       "version_major": 2,
       "version_minor": 0
      },
      "text/plain": [
       "roll_out:   0%|          | 0/2048 [00:00<?, ?it/s]"
      ]
     },
     "metadata": {},
     "output_type": "display_data"
    },
    {
     "data": {
      "application/vnd.jupyter.widget-view+json": {
       "model_id": "8e958a955dab4776b4efe7335a8cbdef",
       "version_major": 2,
       "version_minor": 0
      },
      "text/plain": [
       "roll_out:   0%|          | 0/2048 [00:00<?, ?it/s]"
      ]
     },
     "metadata": {},
     "output_type": "display_data"
    },
    {
     "data": {
      "application/vnd.jupyter.widget-view+json": {
       "model_id": "1bb9c58c84574f93baf4de0e82fb22e4",
       "version_major": 2,
       "version_minor": 0
      },
      "text/plain": [
       "roll_out:   0%|          | 0/2048 [00:00<?, ?it/s]"
      ]
     },
     "metadata": {},
     "output_type": "display_data"
    },
    {
     "data": {
      "application/vnd.jupyter.widget-view+json": {
       "model_id": "dcbcba9d9c3d42fbb44d7fb59a694a51",
       "version_major": 2,
       "version_minor": 0
      },
      "text/plain": [
       "roll_out:   0%|          | 0/2048 [00:00<?, ?it/s]"
      ]
     },
     "metadata": {},
     "output_type": "display_data"
    },
    {
     "data": {
      "application/vnd.jupyter.widget-view+json": {
       "model_id": "5e626be79e9c4d959fb2f1df937ed043",
       "version_major": 2,
       "version_minor": 0
      },
      "text/plain": [
       "roll_out:   0%|          | 0/2048 [00:00<?, ?it/s]"
      ]
     },
     "metadata": {},
     "output_type": "display_data"
    },
    {
     "data": {
      "application/vnd.jupyter.widget-view+json": {
       "model_id": "42544477a0984bb8b6f9f4ec231b3d71",
       "version_major": 2,
       "version_minor": 0
      },
      "text/plain": [
       "roll_out:   0%|          | 0/2048 [00:00<?, ?it/s]"
      ]
     },
     "metadata": {},
     "output_type": "display_data"
    },
    {
     "data": {
      "application/vnd.jupyter.widget-view+json": {
       "model_id": "12c705b9861f4d68a42d2a4c33674ff4",
       "version_major": 2,
       "version_minor": 0
      },
      "text/plain": [
       "roll_out:   0%|          | 0/2048 [00:00<?, ?it/s]"
      ]
     },
     "metadata": {},
     "output_type": "display_data"
    },
    {
     "data": {
      "application/vnd.jupyter.widget-view+json": {
       "model_id": "54a6ab0b438143c7bf373eda352743f5",
       "version_major": 2,
       "version_minor": 0
      },
      "text/plain": [
       "roll_out:   0%|          | 0/2048 [00:00<?, ?it/s]"
      ]
     },
     "metadata": {},
     "output_type": "display_data"
    },
    {
     "data": {
      "application/vnd.jupyter.widget-view+json": {
       "model_id": "1317d2d43586415e80d16852778311bf",
       "version_major": 2,
       "version_minor": 0
      },
      "text/plain": [
       "roll_out:   0%|          | 0/2048 [00:00<?, ?it/s]"
      ]
     },
     "metadata": {},
     "output_type": "display_data"
    },
    {
     "data": {
      "application/vnd.jupyter.widget-view+json": {
       "model_id": "5fdcf904e19a4d94bd220acfd5529059",
       "version_major": 2,
       "version_minor": 0
      },
      "text/plain": [
       "roll_out:   0%|          | 0/2048 [00:00<?, ?it/s]"
      ]
     },
     "metadata": {},
     "output_type": "display_data"
    },
    {
     "data": {
      "application/vnd.jupyter.widget-view+json": {
       "model_id": "307baa289718453592be0791b130bdeb",
       "version_major": 2,
       "version_minor": 0
      },
      "text/plain": [
       "roll_out:   0%|          | 0/2048 [00:00<?, ?it/s]"
      ]
     },
     "metadata": {},
     "output_type": "display_data"
    },
    {
     "data": {
      "application/vnd.jupyter.widget-view+json": {
       "model_id": "d3e12f66ccd3466fb634fc2e9a6d42b5",
       "version_major": 2,
       "version_minor": 0
      },
      "text/plain": [
       "roll_out:   0%|          | 0/2048 [00:00<?, ?it/s]"
      ]
     },
     "metadata": {},
     "output_type": "display_data"
    },
    {
     "data": {
      "application/vnd.jupyter.widget-view+json": {
       "model_id": "a9c28597a0d344aa8e5dc155d2fec7d7",
       "version_major": 2,
       "version_minor": 0
      },
      "text/plain": [
       "roll_out:   0%|          | 0/2048 [00:00<?, ?it/s]"
      ]
     },
     "metadata": {},
     "output_type": "display_data"
    },
    {
     "data": {
      "application/vnd.jupyter.widget-view+json": {
       "model_id": "becfe1cc8aa849ac84590243eb35c9ac",
       "version_major": 2,
       "version_minor": 0
      },
      "text/plain": [
       "roll_out:   0%|          | 0/2048 [00:00<?, ?it/s]"
      ]
     },
     "metadata": {},
     "output_type": "display_data"
    },
    {
     "data": {
      "application/vnd.jupyter.widget-view+json": {
       "model_id": "96112e4e7e6e49259ef178a29c621ed6",
       "version_major": 2,
       "version_minor": 0
      },
      "text/plain": [
       "roll_out:   0%|          | 0/2048 [00:00<?, ?it/s]"
      ]
     },
     "metadata": {},
     "output_type": "display_data"
    },
    {
     "data": {
      "application/vnd.jupyter.widget-view+json": {
       "model_id": "8649cde254b44daebdc13babdb2f6278",
       "version_major": 2,
       "version_minor": 0
      },
      "text/plain": [
       "roll_out:   0%|          | 0/2048 [00:00<?, ?it/s]"
      ]
     },
     "metadata": {},
     "output_type": "display_data"
    },
    {
     "data": {
      "application/vnd.jupyter.widget-view+json": {
       "model_id": "6c4376fa9f5247c2a0f3cfaa3c231ad7",
       "version_major": 2,
       "version_minor": 0
      },
      "text/plain": [
       "roll_out:   0%|          | 0/2048 [00:00<?, ?it/s]"
      ]
     },
     "metadata": {},
     "output_type": "display_data"
    },
    {
     "data": {
      "application/vnd.jupyter.widget-view+json": {
       "model_id": "5bd1cfdc100144bd99bfbe59a15ca7ab",
       "version_major": 2,
       "version_minor": 0
      },
      "text/plain": [
       "roll_out:   0%|          | 0/2048 [00:00<?, ?it/s]"
      ]
     },
     "metadata": {},
     "output_type": "display_data"
    },
    {
     "data": {
      "application/vnd.jupyter.widget-view+json": {
       "model_id": "7f24a49555af482fabab36d73c4aedb7",
       "version_major": 2,
       "version_minor": 0
      },
      "text/plain": [
       "roll_out:   0%|          | 0/2048 [00:00<?, ?it/s]"
      ]
     },
     "metadata": {},
     "output_type": "display_data"
    },
    {
     "data": {
      "application/vnd.jupyter.widget-view+json": {
       "model_id": "adc62322757145a1821e247d633aad47",
       "version_major": 2,
       "version_minor": 0
      },
      "text/plain": [
       "roll_out:   0%|          | 0/2048 [00:00<?, ?it/s]"
      ]
     },
     "metadata": {},
     "output_type": "display_data"
    },
    {
     "data": {
      "application/vnd.jupyter.widget-view+json": {
       "model_id": "b86b39d83de141d9b09e4fa29e2a56ea",
       "version_major": 2,
       "version_minor": 0
      },
      "text/plain": [
       "roll_out:   0%|          | 0/2048 [00:00<?, ?it/s]"
      ]
     },
     "metadata": {},
     "output_type": "display_data"
    },
    {
     "data": {
      "application/vnd.jupyter.widget-view+json": {
       "model_id": "d6f86eb1b3c5442783c4ad537632b329",
       "version_major": 2,
       "version_minor": 0
      },
      "text/plain": [
       "roll_out:   0%|          | 0/2048 [00:00<?, ?it/s]"
      ]
     },
     "metadata": {},
     "output_type": "display_data"
    },
    {
     "data": {
      "application/vnd.jupyter.widget-view+json": {
       "model_id": "18641dfb7b6c44ac8aa552e82769f0ff",
       "version_major": 2,
       "version_minor": 0
      },
      "text/plain": [
       "roll_out:   0%|          | 0/2048 [00:00<?, ?it/s]"
      ]
     },
     "metadata": {},
     "output_type": "display_data"
    },
    {
     "data": {
      "application/vnd.jupyter.widget-view+json": {
       "model_id": "57fd8095f8a94f72b19490529d4e2520",
       "version_major": 2,
       "version_minor": 0
      },
      "text/plain": [
       "roll_out:   0%|          | 0/2048 [00:00<?, ?it/s]"
      ]
     },
     "metadata": {},
     "output_type": "display_data"
    },
    {
     "data": {
      "application/vnd.jupyter.widget-view+json": {
       "model_id": "74baeb7276ba4b6aae3f5652bf774fe3",
       "version_major": 2,
       "version_minor": 0
      },
      "text/plain": [
       "roll_out:   0%|          | 0/2048 [00:00<?, ?it/s]"
      ]
     },
     "metadata": {},
     "output_type": "display_data"
    },
    {
     "data": {
      "application/vnd.jupyter.widget-view+json": {
       "model_id": "a9bc6aa600b94bb2b4d80df312c6abbe",
       "version_major": 2,
       "version_minor": 0
      },
      "text/plain": [
       "roll_out:   0%|          | 0/2048 [00:00<?, ?it/s]"
      ]
     },
     "metadata": {},
     "output_type": "display_data"
    },
    {
     "data": {
      "application/vnd.jupyter.widget-view+json": {
       "model_id": "095cf39c8f5d499692023d73e1d08ac2",
       "version_major": 2,
       "version_minor": 0
      },
      "text/plain": [
       "roll_out:   0%|          | 0/2048 [00:00<?, ?it/s]"
      ]
     },
     "metadata": {},
     "output_type": "display_data"
    },
    {
     "data": {
      "application/vnd.jupyter.widget-view+json": {
       "model_id": "5be057bfc5c2485b9381a3ec1483646d",
       "version_major": 2,
       "version_minor": 0
      },
      "text/plain": [
       "roll_out:   0%|          | 0/2048 [00:00<?, ?it/s]"
      ]
     },
     "metadata": {},
     "output_type": "display_data"
    },
    {
     "data": {
      "application/vnd.jupyter.widget-view+json": {
       "model_id": "5632eba9b70c4837909363b1ab609236",
       "version_major": 2,
       "version_minor": 0
      },
      "text/plain": [
       "roll_out:   0%|          | 0/2048 [00:00<?, ?it/s]"
      ]
     },
     "metadata": {},
     "output_type": "display_data"
    },
    {
     "data": {
      "application/vnd.jupyter.widget-view+json": {
       "model_id": "84193a62a8f74ba88017d96a0b435251",
       "version_major": 2,
       "version_minor": 0
      },
      "text/plain": [
       "roll_out:   0%|          | 0/2048 [00:00<?, ?it/s]"
      ]
     },
     "metadata": {},
     "output_type": "display_data"
    },
    {
     "data": {
      "application/vnd.jupyter.widget-view+json": {
       "model_id": "a96225327d86455cb494a17acf5cf237",
       "version_major": 2,
       "version_minor": 0
      },
      "text/plain": [
       "roll_out:   0%|          | 0/2048 [00:00<?, ?it/s]"
      ]
     },
     "metadata": {},
     "output_type": "display_data"
    },
    {
     "data": {
      "application/vnd.jupyter.widget-view+json": {
       "model_id": "e8ed520dbacb4833809b0910730dadef",
       "version_major": 2,
       "version_minor": 0
      },
      "text/plain": [
       "roll_out:   0%|          | 0/2048 [00:00<?, ?it/s]"
      ]
     },
     "metadata": {},
     "output_type": "display_data"
    },
    {
     "data": {
      "application/vnd.jupyter.widget-view+json": {
       "model_id": "4e757657f3094095a4aae39293c43b82",
       "version_major": 2,
       "version_minor": 0
      },
      "text/plain": [
       "roll_out:   0%|          | 0/2048 [00:00<?, ?it/s]"
      ]
     },
     "metadata": {},
     "output_type": "display_data"
    },
    {
     "data": {
      "application/vnd.jupyter.widget-view+json": {
       "model_id": "f14e69cd2ab24d7487002d1609c4c516",
       "version_major": 2,
       "version_minor": 0
      },
      "text/plain": [
       "roll_out:   0%|          | 0/2048 [00:00<?, ?it/s]"
      ]
     },
     "metadata": {},
     "output_type": "display_data"
    },
    {
     "data": {
      "application/vnd.jupyter.widget-view+json": {
       "model_id": "3da438eef37e4b00a5a384576173a16a",
       "version_major": 2,
       "version_minor": 0
      },
      "text/plain": [
       "roll_out:   0%|          | 0/2048 [00:00<?, ?it/s]"
      ]
     },
     "metadata": {},
     "output_type": "display_data"
    },
    {
     "data": {
      "application/vnd.jupyter.widget-view+json": {
       "model_id": "ad29416d150b4f82880af8db1391b90d",
       "version_major": 2,
       "version_minor": 0
      },
      "text/plain": [
       "roll_out:   0%|          | 0/2048 [00:00<?, ?it/s]"
      ]
     },
     "metadata": {},
     "output_type": "display_data"
    },
    {
     "data": {
      "application/vnd.jupyter.widget-view+json": {
       "model_id": "2287e108dcdd4d51ae4b1786d796c768",
       "version_major": 2,
       "version_minor": 0
      },
      "text/plain": [
       "roll_out:   0%|          | 0/2048 [00:00<?, ?it/s]"
      ]
     },
     "metadata": {},
     "output_type": "display_data"
    },
    {
     "data": {
      "application/vnd.jupyter.widget-view+json": {
       "model_id": "2a4f8745d0fb4af6b13cb5ff46db38a7",
       "version_major": 2,
       "version_minor": 0
      },
      "text/plain": [
       "roll_out:   0%|          | 0/2048 [00:00<?, ?it/s]"
      ]
     },
     "metadata": {},
     "output_type": "display_data"
    },
    {
     "data": {
      "application/vnd.jupyter.widget-view+json": {
       "model_id": "1bd1969927b74dfcacf98ea0850ece07",
       "version_major": 2,
       "version_minor": 0
      },
      "text/plain": [
       "roll_out:   0%|          | 0/2048 [00:00<?, ?it/s]"
      ]
     },
     "metadata": {},
     "output_type": "display_data"
    },
    {
     "data": {
      "application/vnd.jupyter.widget-view+json": {
       "model_id": "a211ee013a114dada60e4048274eeee0",
       "version_major": 2,
       "version_minor": 0
      },
      "text/plain": [
       "roll_out:   0%|          | 0/2048 [00:00<?, ?it/s]"
      ]
     },
     "metadata": {},
     "output_type": "display_data"
    },
    {
     "data": {
      "application/vnd.jupyter.widget-view+json": {
       "model_id": "3ac60bb9c682485eac53a9b896d5b87c",
       "version_major": 2,
       "version_minor": 0
      },
      "text/plain": [
       "roll_out:   0%|          | 0/2048 [00:00<?, ?it/s]"
      ]
     },
     "metadata": {},
     "output_type": "display_data"
    },
    {
     "data": {
      "application/vnd.jupyter.widget-view+json": {
       "model_id": "505b0dd4881849ebac6a3c2748ac04b2",
       "version_major": 2,
       "version_minor": 0
      },
      "text/plain": [
       "roll_out:   0%|          | 0/2048 [00:00<?, ?it/s]"
      ]
     },
     "metadata": {},
     "output_type": "display_data"
    },
    {
     "data": {
      "application/vnd.jupyter.widget-view+json": {
       "model_id": "defbd53a30e14ecea35e420d38fc1e04",
       "version_major": 2,
       "version_minor": 0
      },
      "text/plain": [
       "roll_out:   0%|          | 0/2048 [00:00<?, ?it/s]"
      ]
     },
     "metadata": {},
     "output_type": "display_data"
    },
    {
     "data": {
      "application/vnd.jupyter.widget-view+json": {
       "model_id": "7226359c19cf413c9bd59ea22f4e9e49",
       "version_major": 2,
       "version_minor": 0
      },
      "text/plain": [
       "roll_out:   0%|          | 0/2048 [00:00<?, ?it/s]"
      ]
     },
     "metadata": {},
     "output_type": "display_data"
    },
    {
     "data": {
      "application/vnd.jupyter.widget-view+json": {
       "model_id": "00db7af0f4bb432b8851074411ba89ab",
       "version_major": 2,
       "version_minor": 0
      },
      "text/plain": [
       "roll_out:   0%|          | 0/2048 [00:00<?, ?it/s]"
      ]
     },
     "metadata": {},
     "output_type": "display_data"
    },
    {
     "data": {
      "application/vnd.jupyter.widget-view+json": {
       "model_id": "f7a0c9a4eec841fcaf535c19f0dabb72",
       "version_major": 2,
       "version_minor": 0
      },
      "text/plain": [
       "roll_out:   0%|          | 0/2048 [00:00<?, ?it/s]"
      ]
     },
     "metadata": {},
     "output_type": "display_data"
    },
    {
     "data": {
      "application/vnd.jupyter.widget-view+json": {
       "model_id": "e658cfe6bbdf485db3707ba8a2621661",
       "version_major": 2,
       "version_minor": 0
      },
      "text/plain": [
       "roll_out:   0%|          | 0/2048 [00:00<?, ?it/s]"
      ]
     },
     "metadata": {},
     "output_type": "display_data"
    },
    {
     "data": {
      "application/vnd.jupyter.widget-view+json": {
       "model_id": "0c2534a94cee432683305c890639ca85",
       "version_major": 2,
       "version_minor": 0
      },
      "text/plain": [
       "roll_out:   0%|          | 0/2048 [00:00<?, ?it/s]"
      ]
     },
     "metadata": {},
     "output_type": "display_data"
    },
    {
     "data": {
      "application/vnd.jupyter.widget-view+json": {
       "model_id": "d0d3090559ea4c7d94abaf8c8b55a8a4",
       "version_major": 2,
       "version_minor": 0
      },
      "text/plain": [
       "roll_out:   0%|          | 0/2048 [00:00<?, ?it/s]"
      ]
     },
     "metadata": {},
     "output_type": "display_data"
    },
    {
     "data": {
      "application/vnd.jupyter.widget-view+json": {
       "model_id": "96d3b9b3b5ce494dbde149d1add54c37",
       "version_major": 2,
       "version_minor": 0
      },
      "text/plain": [
       "roll_out:   0%|          | 0/2048 [00:00<?, ?it/s]"
      ]
     },
     "metadata": {},
     "output_type": "display_data"
    },
    {
     "data": {
      "application/vnd.jupyter.widget-view+json": {
       "model_id": "c8ad4da79a5a402c8c9cf6fe1dd33210",
       "version_major": 2,
       "version_minor": 0
      },
      "text/plain": [
       "roll_out:   0%|          | 0/2048 [00:00<?, ?it/s]"
      ]
     },
     "metadata": {},
     "output_type": "display_data"
    },
    {
     "data": {
      "application/vnd.jupyter.widget-view+json": {
       "model_id": "ab68776d8ef543a9bbdd7bb6f81c62ca",
       "version_major": 2,
       "version_minor": 0
      },
      "text/plain": [
       "roll_out:   0%|          | 0/2048 [00:00<?, ?it/s]"
      ]
     },
     "metadata": {},
     "output_type": "display_data"
    },
    {
     "data": {
      "application/vnd.jupyter.widget-view+json": {
       "model_id": "92bac41e86f3465cb9a07bdaae508618",
       "version_major": 2,
       "version_minor": 0
      },
      "text/plain": [
       "roll_out:   0%|          | 0/2048 [00:00<?, ?it/s]"
      ]
     },
     "metadata": {},
     "output_type": "display_data"
    },
    {
     "data": {
      "application/vnd.jupyter.widget-view+json": {
       "model_id": "9da665ea001e4bccb56e69966aba0e03",
       "version_major": 2,
       "version_minor": 0
      },
      "text/plain": [
       "roll_out:   0%|          | 0/2048 [00:00<?, ?it/s]"
      ]
     },
     "metadata": {},
     "output_type": "display_data"
    },
    {
     "data": {
      "application/vnd.jupyter.widget-view+json": {
       "model_id": "f1ab6750666342738af5745c48e4d460",
       "version_major": 2,
       "version_minor": 0
      },
      "text/plain": [
       "roll_out:   0%|          | 0/2048 [00:00<?, ?it/s]"
      ]
     },
     "metadata": {},
     "output_type": "display_data"
    },
    {
     "data": {
      "application/vnd.jupyter.widget-view+json": {
       "model_id": "b5ceb026dcd6409ea711882f63756a2b",
       "version_major": 2,
       "version_minor": 0
      },
      "text/plain": [
       "roll_out:   0%|          | 0/2048 [00:00<?, ?it/s]"
      ]
     },
     "metadata": {},
     "output_type": "display_data"
    },
    {
     "data": {
      "application/vnd.jupyter.widget-view+json": {
       "model_id": "3c66fd43637347c39758c54da5d6623a",
       "version_major": 2,
       "version_minor": 0
      },
      "text/plain": [
       "roll_out:   0%|          | 0/2048 [00:00<?, ?it/s]"
      ]
     },
     "metadata": {},
     "output_type": "display_data"
    },
    {
     "data": {
      "application/vnd.jupyter.widget-view+json": {
       "model_id": "10f1619de25743e9b98c55c23597f02b",
       "version_major": 2,
       "version_minor": 0
      },
      "text/plain": [
       "roll_out:   0%|          | 0/2048 [00:00<?, ?it/s]"
      ]
     },
     "metadata": {},
     "output_type": "display_data"
    },
    {
     "data": {
      "application/vnd.jupyter.widget-view+json": {
       "model_id": "44a9f0ae97b04304a6bf04b19c444493",
       "version_major": 2,
       "version_minor": 0
      },
      "text/plain": [
       "roll_out:   0%|          | 0/2048 [00:00<?, ?it/s]"
      ]
     },
     "metadata": {},
     "output_type": "display_data"
    },
    {
     "data": {
      "application/vnd.jupyter.widget-view+json": {
       "model_id": "1e8ea1da6c444ffca4ced6dbf7ec35db",
       "version_major": 2,
       "version_minor": 0
      },
      "text/plain": [
       "roll_out:   0%|          | 0/2048 [00:00<?, ?it/s]"
      ]
     },
     "metadata": {},
     "output_type": "display_data"
    },
    {
     "data": {
      "application/vnd.jupyter.widget-view+json": {
       "model_id": "d4185c6a8a7e49e7bfd62731d5dae186",
       "version_major": 2,
       "version_minor": 0
      },
      "text/plain": [
       "roll_out:   0%|          | 0/2048 [00:00<?, ?it/s]"
      ]
     },
     "metadata": {},
     "output_type": "display_data"
    },
    {
     "data": {
      "application/vnd.jupyter.widget-view+json": {
       "model_id": "7bf0c53a3c1c42d7a64dbf954061bd9b",
       "version_major": 2,
       "version_minor": 0
      },
      "text/plain": [
       "roll_out:   0%|          | 0/2048 [00:00<?, ?it/s]"
      ]
     },
     "metadata": {},
     "output_type": "display_data"
    },
    {
     "data": {
      "application/vnd.jupyter.widget-view+json": {
       "model_id": "32f9d416df964744a7d267afcfe43d3e",
       "version_major": 2,
       "version_minor": 0
      },
      "text/plain": [
       "roll_out:   0%|          | 0/2048 [00:00<?, ?it/s]"
      ]
     },
     "metadata": {},
     "output_type": "display_data"
    },
    {
     "data": {
      "application/vnd.jupyter.widget-view+json": {
       "model_id": "d45765a7663d4ee6a5364f05e8afcb22",
       "version_major": 2,
       "version_minor": 0
      },
      "text/plain": [
       "roll_out:   0%|          | 0/2048 [00:00<?, ?it/s]"
      ]
     },
     "metadata": {},
     "output_type": "display_data"
    },
    {
     "data": {
      "application/vnd.jupyter.widget-view+json": {
       "model_id": "7999a1af671347e8b08f1a366e2e7f61",
       "version_major": 2,
       "version_minor": 0
      },
      "text/plain": [
       "roll_out:   0%|          | 0/2048 [00:00<?, ?it/s]"
      ]
     },
     "metadata": {},
     "output_type": "display_data"
    },
    {
     "data": {
      "application/vnd.jupyter.widget-view+json": {
       "model_id": "2e13cb2701114f90bea94371acc3a8b2",
       "version_major": 2,
       "version_minor": 0
      },
      "text/plain": [
       "roll_out:   0%|          | 0/2048 [00:00<?, ?it/s]"
      ]
     },
     "metadata": {},
     "output_type": "display_data"
    },
    {
     "data": {
      "application/vnd.jupyter.widget-view+json": {
       "model_id": "146a2983df634f4bba1b28c750882a73",
       "version_major": 2,
       "version_minor": 0
      },
      "text/plain": [
       "roll_out:   0%|          | 0/2048 [00:00<?, ?it/s]"
      ]
     },
     "metadata": {},
     "output_type": "display_data"
    },
    {
     "data": {
      "application/vnd.jupyter.widget-view+json": {
       "model_id": "846d66638758430ca62b16c92c3ad2fa",
       "version_major": 2,
       "version_minor": 0
      },
      "text/plain": [
       "roll_out:   0%|          | 0/2048 [00:00<?, ?it/s]"
      ]
     },
     "metadata": {},
     "output_type": "display_data"
    },
    {
     "data": {
      "application/vnd.jupyter.widget-view+json": {
       "model_id": "caeec1022e554288a33446023df34cb9",
       "version_major": 2,
       "version_minor": 0
      },
      "text/plain": [
       "roll_out:   0%|          | 0/2048 [00:00<?, ?it/s]"
      ]
     },
     "metadata": {},
     "output_type": "display_data"
    },
    {
     "data": {
      "application/vnd.jupyter.widget-view+json": {
       "model_id": "f4deabf0f2b24f229b80baafcd40b2e0",
       "version_major": 2,
       "version_minor": 0
      },
      "text/plain": [
       "roll_out:   0%|          | 0/2048 [00:00<?, ?it/s]"
      ]
     },
     "metadata": {},
     "output_type": "display_data"
    },
    {
     "data": {
      "application/vnd.jupyter.widget-view+json": {
       "model_id": "7a2ff7c3589d4c7a8a43aa27a220e31c",
       "version_major": 2,
       "version_minor": 0
      },
      "text/plain": [
       "roll_out:   0%|          | 0/2048 [00:00<?, ?it/s]"
      ]
     },
     "metadata": {},
     "output_type": "display_data"
    },
    {
     "data": {
      "application/vnd.jupyter.widget-view+json": {
       "model_id": "566172d6d01f4450b610d7faab1fc168",
       "version_major": 2,
       "version_minor": 0
      },
      "text/plain": [
       "roll_out:   0%|          | 0/2048 [00:00<?, ?it/s]"
      ]
     },
     "metadata": {},
     "output_type": "display_data"
    },
    {
     "data": {
      "application/vnd.jupyter.widget-view+json": {
       "model_id": "57dd66ab94554d2e90856d614113ffa2",
       "version_major": 2,
       "version_minor": 0
      },
      "text/plain": [
       "roll_out:   0%|          | 0/2048 [00:00<?, ?it/s]"
      ]
     },
     "metadata": {},
     "output_type": "display_data"
    },
    {
     "data": {
      "application/vnd.jupyter.widget-view+json": {
       "model_id": "29ba82ca04404a01a851aa0a0357f699",
       "version_major": 2,
       "version_minor": 0
      },
      "text/plain": [
       "roll_out:   0%|          | 0/2048 [00:00<?, ?it/s]"
      ]
     },
     "metadata": {},
     "output_type": "display_data"
    },
    {
     "data": {
      "application/vnd.jupyter.widget-view+json": {
       "model_id": "3ed7048db299426491de6e7728983ef0",
       "version_major": 2,
       "version_minor": 0
      },
      "text/plain": [
       "roll_out:   0%|          | 0/2048 [00:00<?, ?it/s]"
      ]
     },
     "metadata": {},
     "output_type": "display_data"
    },
    {
     "data": {
      "application/vnd.jupyter.widget-view+json": {
       "model_id": "83c76c6152db4e6eb9af28ade0c102ca",
       "version_major": 2,
       "version_minor": 0
      },
      "text/plain": [
       "roll_out:   0%|          | 0/2048 [00:00<?, ?it/s]"
      ]
     },
     "metadata": {},
     "output_type": "display_data"
    },
    {
     "data": {
      "application/vnd.jupyter.widget-view+json": {
       "model_id": "61c088c837f4424dbc501624134e5024",
       "version_major": 2,
       "version_minor": 0
      },
      "text/plain": [
       "roll_out:   0%|          | 0/2048 [00:00<?, ?it/s]"
      ]
     },
     "metadata": {},
     "output_type": "display_data"
    },
    {
     "data": {
      "application/vnd.jupyter.widget-view+json": {
       "model_id": "d76155c14336477f8164c846edd93e11",
       "version_major": 2,
       "version_minor": 0
      },
      "text/plain": [
       "roll_out:   0%|          | 0/2048 [00:00<?, ?it/s]"
      ]
     },
     "metadata": {},
     "output_type": "display_data"
    },
    {
     "data": {
      "application/vnd.jupyter.widget-view+json": {
       "model_id": "d81572cc8f8a4cfca8ca64620f843ae3",
       "version_major": 2,
       "version_minor": 0
      },
      "text/plain": [
       "roll_out:   0%|          | 0/2048 [00:00<?, ?it/s]"
      ]
     },
     "metadata": {},
     "output_type": "display_data"
    },
    {
     "data": {
      "application/vnd.jupyter.widget-view+json": {
       "model_id": "5a073aaa7d814338af59d665a64ff3d7",
       "version_major": 2,
       "version_minor": 0
      },
      "text/plain": [
       "roll_out:   0%|          | 0/2048 [00:00<?, ?it/s]"
      ]
     },
     "metadata": {},
     "output_type": "display_data"
    },
    {
     "data": {
      "application/vnd.jupyter.widget-view+json": {
       "model_id": "67efedd80e9445f39eb97de800ae229c",
       "version_major": 2,
       "version_minor": 0
      },
      "text/plain": [
       "roll_out:   0%|          | 0/2048 [00:00<?, ?it/s]"
      ]
     },
     "metadata": {},
     "output_type": "display_data"
    },
    {
     "data": {
      "application/vnd.jupyter.widget-view+json": {
       "model_id": "213fbbbbea0940b99fd7338705d7aa5b",
       "version_major": 2,
       "version_minor": 0
      },
      "text/plain": [
       "roll_out:   0%|          | 0/2048 [00:00<?, ?it/s]"
      ]
     },
     "metadata": {},
     "output_type": "display_data"
    },
    {
     "data": {
      "application/vnd.jupyter.widget-view+json": {
       "model_id": "10ef52818c0841adbb34504e513e9fb0",
       "version_major": 2,
       "version_minor": 0
      },
      "text/plain": [
       "roll_out:   0%|          | 0/2048 [00:00<?, ?it/s]"
      ]
     },
     "metadata": {},
     "output_type": "display_data"
    },
    {
     "data": {
      "application/vnd.jupyter.widget-view+json": {
       "model_id": "5eb6d53847724f5ead038c308eae7de8",
       "version_major": 2,
       "version_minor": 0
      },
      "text/plain": [
       "roll_out:   0%|          | 0/2048 [00:00<?, ?it/s]"
      ]
     },
     "metadata": {},
     "output_type": "display_data"
    },
    {
     "data": {
      "application/vnd.jupyter.widget-view+json": {
       "model_id": "5e97876e675642c39538eff873c0f967",
       "version_major": 2,
       "version_minor": 0
      },
      "text/plain": [
       "roll_out:   0%|          | 0/2048 [00:00<?, ?it/s]"
      ]
     },
     "metadata": {},
     "output_type": "display_data"
    },
    {
     "data": {
      "application/vnd.jupyter.widget-view+json": {
       "model_id": "e427099a0c9344918dd2643009306b0a",
       "version_major": 2,
       "version_minor": 0
      },
      "text/plain": [
       "roll_out:   0%|          | 0/2048 [00:00<?, ?it/s]"
      ]
     },
     "metadata": {},
     "output_type": "display_data"
    },
    {
     "data": {
      "application/vnd.jupyter.widget-view+json": {
       "model_id": "638f61fc74744a0d9584652ace5e352c",
       "version_major": 2,
       "version_minor": 0
      },
      "text/plain": [
       "roll_out:   0%|          | 0/2048 [00:00<?, ?it/s]"
      ]
     },
     "metadata": {},
     "output_type": "display_data"
    },
    {
     "data": {
      "application/vnd.jupyter.widget-view+json": {
       "model_id": "bfd496c07b43418da2430133bb9a00ae",
       "version_major": 2,
       "version_minor": 0
      },
      "text/plain": [
       "roll_out:   0%|          | 0/2048 [00:00<?, ?it/s]"
      ]
     },
     "metadata": {},
     "output_type": "display_data"
    },
    {
     "data": {
      "application/vnd.jupyter.widget-view+json": {
       "model_id": "ad95c0cfc4534ae0a6569304e1376603",
       "version_major": 2,
       "version_minor": 0
      },
      "text/plain": [
       "roll_out:   0%|          | 0/2048 [00:00<?, ?it/s]"
      ]
     },
     "metadata": {},
     "output_type": "display_data"
    },
    {
     "data": {
      "application/vnd.jupyter.widget-view+json": {
       "model_id": "5ea5548e33e3459e856b4872b9355e1e",
       "version_major": 2,
       "version_minor": 0
      },
      "text/plain": [
       "roll_out:   0%|          | 0/2048 [00:00<?, ?it/s]"
      ]
     },
     "metadata": {},
     "output_type": "display_data"
    },
    {
     "data": {
      "application/vnd.jupyter.widget-view+json": {
       "model_id": "57c50f9beacb446590d075c227eeb3df",
       "version_major": 2,
       "version_minor": 0
      },
      "text/plain": [
       "roll_out:   0%|          | 0/2048 [00:00<?, ?it/s]"
      ]
     },
     "metadata": {},
     "output_type": "display_data"
    },
    {
     "data": {
      "application/vnd.jupyter.widget-view+json": {
       "model_id": "ab823cb55791434593247cdbec77e997",
       "version_major": 2,
       "version_minor": 0
      },
      "text/plain": [
       "roll_out:   0%|          | 0/2048 [00:00<?, ?it/s]"
      ]
     },
     "metadata": {},
     "output_type": "display_data"
    },
    {
     "data": {
      "application/vnd.jupyter.widget-view+json": {
       "model_id": "b6a3136a525b4fd3b517e323383b8c44",
       "version_major": 2,
       "version_minor": 0
      },
      "text/plain": [
       "roll_out:   0%|          | 0/2048 [00:00<?, ?it/s]"
      ]
     },
     "metadata": {},
     "output_type": "display_data"
    },
    {
     "data": {
      "application/vnd.jupyter.widget-view+json": {
       "model_id": "b030c36a6c2241de85ae73259af9d0f6",
       "version_major": 2,
       "version_minor": 0
      },
      "text/plain": [
       "roll_out:   0%|          | 0/2048 [00:00<?, ?it/s]"
      ]
     },
     "metadata": {},
     "output_type": "display_data"
    },
    {
     "data": {
      "application/vnd.jupyter.widget-view+json": {
       "model_id": "5e3d0486531847f7a3c6a2e70bbee8e4",
       "version_major": 2,
       "version_minor": 0
      },
      "text/plain": [
       "roll_out:   0%|          | 0/2048 [00:00<?, ?it/s]"
      ]
     },
     "metadata": {},
     "output_type": "display_data"
    },
    {
     "data": {
      "application/vnd.jupyter.widget-view+json": {
       "model_id": "5c57d7a33c4143be9167656595a110ac",
       "version_major": 2,
       "version_minor": 0
      },
      "text/plain": [
       "roll_out:   0%|          | 0/2048 [00:00<?, ?it/s]"
      ]
     },
     "metadata": {},
     "output_type": "display_data"
    },
    {
     "data": {
      "application/vnd.jupyter.widget-view+json": {
       "model_id": "cfe439a729b94145b337c230b2b9b8f6",
       "version_major": 2,
       "version_minor": 0
      },
      "text/plain": [
       "roll_out:   0%|          | 0/2048 [00:00<?, ?it/s]"
      ]
     },
     "metadata": {},
     "output_type": "display_data"
    },
    {
     "data": {
      "application/vnd.jupyter.widget-view+json": {
       "model_id": "6f7067afe542419682af86f49e18bfd9",
       "version_major": 2,
       "version_minor": 0
      },
      "text/plain": [
       "roll_out:   0%|          | 0/2048 [00:00<?, ?it/s]"
      ]
     },
     "metadata": {},
     "output_type": "display_data"
    },
    {
     "data": {
      "application/vnd.jupyter.widget-view+json": {
       "model_id": "505b98b14b4641c3a7a273caebae1ec0",
       "version_major": 2,
       "version_minor": 0
      },
      "text/plain": [
       "roll_out:   0%|          | 0/2048 [00:00<?, ?it/s]"
      ]
     },
     "metadata": {},
     "output_type": "display_data"
    },
    {
     "data": {
      "application/vnd.jupyter.widget-view+json": {
       "model_id": "e939b5ef02804e5cb7ddbd0cd570b4d4",
       "version_major": 2,
       "version_minor": 0
      },
      "text/plain": [
       "roll_out:   0%|          | 0/2048 [00:00<?, ?it/s]"
      ]
     },
     "metadata": {},
     "output_type": "display_data"
    },
    {
     "data": {
      "application/vnd.jupyter.widget-view+json": {
       "model_id": "8b141ee88a2c45b6b55833ee47c5aeb4",
       "version_major": 2,
       "version_minor": 0
      },
      "text/plain": [
       "roll_out:   0%|          | 0/2048 [00:00<?, ?it/s]"
      ]
     },
     "metadata": {},
     "output_type": "display_data"
    },
    {
     "data": {
      "application/vnd.jupyter.widget-view+json": {
       "model_id": "d562bf3d63a444e5b247e819e5d559ac",
       "version_major": 2,
       "version_minor": 0
      },
      "text/plain": [
       "roll_out:   0%|          | 0/2048 [00:00<?, ?it/s]"
      ]
     },
     "metadata": {},
     "output_type": "display_data"
    },
    {
     "data": {
      "application/vnd.jupyter.widget-view+json": {
       "model_id": "573c6480ee294623967070fbd84c7a69",
       "version_major": 2,
       "version_minor": 0
      },
      "text/plain": [
       "roll_out:   0%|          | 0/2048 [00:00<?, ?it/s]"
      ]
     },
     "metadata": {},
     "output_type": "display_data"
    },
    {
     "data": {
      "application/vnd.jupyter.widget-view+json": {
       "model_id": "512b4021004a47ec9f6c0b92bbdecb86",
       "version_major": 2,
       "version_minor": 0
      },
      "text/plain": [
       "roll_out:   0%|          | 0/2048 [00:00<?, ?it/s]"
      ]
     },
     "metadata": {},
     "output_type": "display_data"
    },
    {
     "data": {
      "application/vnd.jupyter.widget-view+json": {
       "model_id": "25b07c5ecce541a2aebe9d874750dee2",
       "version_major": 2,
       "version_minor": 0
      },
      "text/plain": [
       "roll_out:   0%|          | 0/2048 [00:00<?, ?it/s]"
      ]
     },
     "metadata": {},
     "output_type": "display_data"
    },
    {
     "data": {
      "application/vnd.jupyter.widget-view+json": {
       "model_id": "60b2ccdf4c0e4113bb18f29408480490",
       "version_major": 2,
       "version_minor": 0
      },
      "text/plain": [
       "roll_out:   0%|          | 0/2048 [00:00<?, ?it/s]"
      ]
     },
     "metadata": {},
     "output_type": "display_data"
    },
    {
     "data": {
      "application/vnd.jupyter.widget-view+json": {
       "model_id": "e937a0f2e2514cf98bfaaeca99ab504e",
       "version_major": 2,
       "version_minor": 0
      },
      "text/plain": [
       "roll_out:   0%|          | 0/2048 [00:00<?, ?it/s]"
      ]
     },
     "metadata": {},
     "output_type": "display_data"
    },
    {
     "data": {
      "application/vnd.jupyter.widget-view+json": {
       "model_id": "49ef7dee89f842588eec0d43d553ea49",
       "version_major": 2,
       "version_minor": 0
      },
      "text/plain": [
       "roll_out:   0%|          | 0/2048 [00:00<?, ?it/s]"
      ]
     },
     "metadata": {},
     "output_type": "display_data"
    },
    {
     "data": {
      "application/vnd.jupyter.widget-view+json": {
       "model_id": "d7099936c90d4cdb944700c7f9cfa3c0",
       "version_major": 2,
       "version_minor": 0
      },
      "text/plain": [
       "roll_out:   0%|          | 0/2048 [00:00<?, ?it/s]"
      ]
     },
     "metadata": {},
     "output_type": "display_data"
    },
    {
     "data": {
      "application/vnd.jupyter.widget-view+json": {
       "model_id": "1e17779557814a31a4013eda9a26e5d8",
       "version_major": 2,
       "version_minor": 0
      },
      "text/plain": [
       "roll_out:   0%|          | 0/2048 [00:00<?, ?it/s]"
      ]
     },
     "metadata": {},
     "output_type": "display_data"
    },
    {
     "data": {
      "application/vnd.jupyter.widget-view+json": {
       "model_id": "cf7944c14722415297277a6be5e34f96",
       "version_major": 2,
       "version_minor": 0
      },
      "text/plain": [
       "roll_out:   0%|          | 0/2048 [00:00<?, ?it/s]"
      ]
     },
     "metadata": {},
     "output_type": "display_data"
    },
    {
     "data": {
      "application/vnd.jupyter.widget-view+json": {
       "model_id": "b70bc744ef1a454b9039d29cb97fa89d",
       "version_major": 2,
       "version_minor": 0
      },
      "text/plain": [
       "roll_out:   0%|          | 0/2048 [00:00<?, ?it/s]"
      ]
     },
     "metadata": {},
     "output_type": "display_data"
    },
    {
     "data": {
      "application/vnd.jupyter.widget-view+json": {
       "model_id": "5d71897a45564bb8a4620670b6782722",
       "version_major": 2,
       "version_minor": 0
      },
      "text/plain": [
       "roll_out:   0%|          | 0/2048 [00:00<?, ?it/s]"
      ]
     },
     "metadata": {},
     "output_type": "display_data"
    },
    {
     "data": {
      "application/vnd.jupyter.widget-view+json": {
       "model_id": "712747e14ec14c3f9ff13c3a4f2b5f61",
       "version_major": 2,
       "version_minor": 0
      },
      "text/plain": [
       "roll_out:   0%|          | 0/2048 [00:00<?, ?it/s]"
      ]
     },
     "metadata": {},
     "output_type": "display_data"
    },
    {
     "data": {
      "application/vnd.jupyter.widget-view+json": {
       "model_id": "341d6ff60a634b2d98dbd2f9ed1e9b35",
       "version_major": 2,
       "version_minor": 0
      },
      "text/plain": [
       "roll_out:   0%|          | 0/2048 [00:00<?, ?it/s]"
      ]
     },
     "metadata": {},
     "output_type": "display_data"
    },
    {
     "data": {
      "application/vnd.jupyter.widget-view+json": {
       "model_id": "4c71203f6cea45c5922aa04d1d115eb2",
       "version_major": 2,
       "version_minor": 0
      },
      "text/plain": [
       "roll_out:   0%|          | 0/2048 [00:00<?, ?it/s]"
      ]
     },
     "metadata": {},
     "output_type": "display_data"
    },
    {
     "data": {
      "application/vnd.jupyter.widget-view+json": {
       "model_id": "f14b50b71d594c93860822343fe7101d",
       "version_major": 2,
       "version_minor": 0
      },
      "text/plain": [
       "roll_out:   0%|          | 0/2048 [00:00<?, ?it/s]"
      ]
     },
     "metadata": {},
     "output_type": "display_data"
    },
    {
     "data": {
      "application/vnd.jupyter.widget-view+json": {
       "model_id": "1a7f13cf26c544feba06b33611770037",
       "version_major": 2,
       "version_minor": 0
      },
      "text/plain": [
       "roll_out:   0%|          | 0/2048 [00:00<?, ?it/s]"
      ]
     },
     "metadata": {},
     "output_type": "display_data"
    },
    {
     "data": {
      "application/vnd.jupyter.widget-view+json": {
       "model_id": "73371509910c4a9a8985d43b50407807",
       "version_major": 2,
       "version_minor": 0
      },
      "text/plain": [
       "roll_out:   0%|          | 0/2048 [00:00<?, ?it/s]"
      ]
     },
     "metadata": {},
     "output_type": "display_data"
    },
    {
     "data": {
      "application/vnd.jupyter.widget-view+json": {
       "model_id": "81a546f4a78141498fa03208346e9b8e",
       "version_major": 2,
       "version_minor": 0
      },
      "text/plain": [
       "roll_out:   0%|          | 0/2048 [00:00<?, ?it/s]"
      ]
     },
     "metadata": {},
     "output_type": "display_data"
    },
    {
     "data": {
      "application/vnd.jupyter.widget-view+json": {
       "model_id": "1002ec88e25f4936badbef8ba5df7078",
       "version_major": 2,
       "version_minor": 0
      },
      "text/plain": [
       "roll_out:   0%|          | 0/2048 [00:00<?, ?it/s]"
      ]
     },
     "metadata": {},
     "output_type": "display_data"
    },
    {
     "data": {
      "application/vnd.jupyter.widget-view+json": {
       "model_id": "a9d7fdaee51241d49b64c31783211713",
       "version_major": 2,
       "version_minor": 0
      },
      "text/plain": [
       "roll_out:   0%|          | 0/2048 [00:00<?, ?it/s]"
      ]
     },
     "metadata": {},
     "output_type": "display_data"
    },
    {
     "data": {
      "application/vnd.jupyter.widget-view+json": {
       "model_id": "8782313139114fba84f6ad5d2d097acb",
       "version_major": 2,
       "version_minor": 0
      },
      "text/plain": [
       "roll_out:   0%|          | 0/2048 [00:00<?, ?it/s]"
      ]
     },
     "metadata": {},
     "output_type": "display_data"
    },
    {
     "data": {
      "application/vnd.jupyter.widget-view+json": {
       "model_id": "bb79fb10116041e7b9dbddfa2e478851",
       "version_major": 2,
       "version_minor": 0
      },
      "text/plain": [
       "roll_out:   0%|          | 0/2048 [00:00<?, ?it/s]"
      ]
     },
     "metadata": {},
     "output_type": "display_data"
    },
    {
     "data": {
      "application/vnd.jupyter.widget-view+json": {
       "model_id": "3c0293b36d374c6eb2f4b5fb4eea45ab",
       "version_major": 2,
       "version_minor": 0
      },
      "text/plain": [
       "roll_out:   0%|          | 0/2048 [00:00<?, ?it/s]"
      ]
     },
     "metadata": {},
     "output_type": "display_data"
    },
    {
     "data": {
      "application/vnd.jupyter.widget-view+json": {
       "model_id": "414a148cb8314cf3ba27e0e547fb2148",
       "version_major": 2,
       "version_minor": 0
      },
      "text/plain": [
       "roll_out:   0%|          | 0/2048 [00:00<?, ?it/s]"
      ]
     },
     "metadata": {},
     "output_type": "display_data"
    },
    {
     "data": {
      "application/vnd.jupyter.widget-view+json": {
       "model_id": "54bde5d08ecb4e5fb5ed006d6cbf0b8b",
       "version_major": 2,
       "version_minor": 0
      },
      "text/plain": [
       "roll_out:   0%|          | 0/2048 [00:00<?, ?it/s]"
      ]
     },
     "metadata": {},
     "output_type": "display_data"
    },
    {
     "data": {
      "application/vnd.jupyter.widget-view+json": {
       "model_id": "d9fc2358dccb47a9be3d8d1593885105",
       "version_major": 2,
       "version_minor": 0
      },
      "text/plain": [
       "roll_out:   0%|          | 0/2048 [00:00<?, ?it/s]"
      ]
     },
     "metadata": {},
     "output_type": "display_data"
    },
    {
     "data": {
      "application/vnd.jupyter.widget-view+json": {
       "model_id": "7ee46ab845fc469786afd87912eede7f",
       "version_major": 2,
       "version_minor": 0
      },
      "text/plain": [
       "roll_out:   0%|          | 0/2048 [00:00<?, ?it/s]"
      ]
     },
     "metadata": {},
     "output_type": "display_data"
    },
    {
     "data": {
      "application/vnd.jupyter.widget-view+json": {
       "model_id": "734ecccafaa347b29a72147ad7fbb3c6",
       "version_major": 2,
       "version_minor": 0
      },
      "text/plain": [
       "roll_out:   0%|          | 0/2048 [00:00<?, ?it/s]"
      ]
     },
     "metadata": {},
     "output_type": "display_data"
    },
    {
     "data": {
      "application/vnd.jupyter.widget-view+json": {
       "model_id": "caab7cd55258465ca7940524b458c0d1",
       "version_major": 2,
       "version_minor": 0
      },
      "text/plain": [
       "roll_out:   0%|          | 0/2048 [00:00<?, ?it/s]"
      ]
     },
     "metadata": {},
     "output_type": "display_data"
    },
    {
     "data": {
      "application/vnd.jupyter.widget-view+json": {
       "model_id": "74c91a76da774c00a2422226f9c2eb34",
       "version_major": 2,
       "version_minor": 0
      },
      "text/plain": [
       "roll_out:   0%|          | 0/2048 [00:00<?, ?it/s]"
      ]
     },
     "metadata": {},
     "output_type": "display_data"
    },
    {
     "data": {
      "application/vnd.jupyter.widget-view+json": {
       "model_id": "45df2f57e7564651abe080b2d62dd26e",
       "version_major": 2,
       "version_minor": 0
      },
      "text/plain": [
       "roll_out:   0%|          | 0/2048 [00:00<?, ?it/s]"
      ]
     },
     "metadata": {},
     "output_type": "display_data"
    },
    {
     "data": {
      "application/vnd.jupyter.widget-view+json": {
       "model_id": "e871030ec1254ca7bbc053676d20b6ad",
       "version_major": 2,
       "version_minor": 0
      },
      "text/plain": [
       "roll_out:   0%|          | 0/2048 [00:00<?, ?it/s]"
      ]
     },
     "metadata": {},
     "output_type": "display_data"
    },
    {
     "data": {
      "application/vnd.jupyter.widget-view+json": {
       "model_id": "2b4ad505c49f4405b2194d59b19058e3",
       "version_major": 2,
       "version_minor": 0
      },
      "text/plain": [
       "roll_out:   0%|          | 0/2048 [00:00<?, ?it/s]"
      ]
     },
     "metadata": {},
     "output_type": "display_data"
    },
    {
     "data": {
      "application/vnd.jupyter.widget-view+json": {
       "model_id": "6301c5e63a2a4819af75afda08126730",
       "version_major": 2,
       "version_minor": 0
      },
      "text/plain": [
       "roll_out:   0%|          | 0/2048 [00:00<?, ?it/s]"
      ]
     },
     "metadata": {},
     "output_type": "display_data"
    },
    {
     "data": {
      "application/vnd.jupyter.widget-view+json": {
       "model_id": "1bd8947e14ec4bcfb1fb497246439ae7",
       "version_major": 2,
       "version_minor": 0
      },
      "text/plain": [
       "roll_out:   0%|          | 0/2048 [00:00<?, ?it/s]"
      ]
     },
     "metadata": {},
     "output_type": "display_data"
    },
    {
     "data": {
      "application/vnd.jupyter.widget-view+json": {
       "model_id": "af47dcf282554e5bb8495c4e3e14dbb3",
       "version_major": 2,
       "version_minor": 0
      },
      "text/plain": [
       "roll_out:   0%|          | 0/2048 [00:00<?, ?it/s]"
      ]
     },
     "metadata": {},
     "output_type": "display_data"
    },
    {
     "data": {
      "application/vnd.jupyter.widget-view+json": {
       "model_id": "81ce2efc7b994e8d8df3c4ebc396e4e9",
       "version_major": 2,
       "version_minor": 0
      },
      "text/plain": [
       "roll_out:   0%|          | 0/2048 [00:00<?, ?it/s]"
      ]
     },
     "metadata": {},
     "output_type": "display_data"
    },
    {
     "data": {
      "application/vnd.jupyter.widget-view+json": {
       "model_id": "7dd00ae4c8db4ccea2c7800ea7bf49f5",
       "version_major": 2,
       "version_minor": 0
      },
      "text/plain": [
       "roll_out:   0%|          | 0/2048 [00:00<?, ?it/s]"
      ]
     },
     "metadata": {},
     "output_type": "display_data"
    },
    {
     "data": {
      "application/vnd.jupyter.widget-view+json": {
       "model_id": "f4aa2a1ebcb9473dada8ce88dc9fef83",
       "version_major": 2,
       "version_minor": 0
      },
      "text/plain": [
       "roll_out:   0%|          | 0/2048 [00:00<?, ?it/s]"
      ]
     },
     "metadata": {},
     "output_type": "display_data"
    },
    {
     "data": {
      "application/vnd.jupyter.widget-view+json": {
       "model_id": "7bbeaca54ab74698a9e500059c03d7d8",
       "version_major": 2,
       "version_minor": 0
      },
      "text/plain": [
       "roll_out:   0%|          | 0/2048 [00:00<?, ?it/s]"
      ]
     },
     "metadata": {},
     "output_type": "display_data"
    },
    {
     "data": {
      "application/vnd.jupyter.widget-view+json": {
       "model_id": "9dd79cfceae94de6ba06a4b792d229a3",
       "version_major": 2,
       "version_minor": 0
      },
      "text/plain": [
       "roll_out:   0%|          | 0/2048 [00:00<?, ?it/s]"
      ]
     },
     "metadata": {},
     "output_type": "display_data"
    },
    {
     "data": {
      "application/vnd.jupyter.widget-view+json": {
       "model_id": "833e2669e623439ba05bb74a01f74ccd",
       "version_major": 2,
       "version_minor": 0
      },
      "text/plain": [
       "roll_out:   0%|          | 0/2048 [00:00<?, ?it/s]"
      ]
     },
     "metadata": {},
     "output_type": "display_data"
    },
    {
     "data": {
      "application/vnd.jupyter.widget-view+json": {
       "model_id": "9d318d9b8d744bd29a8732841ea8b484",
       "version_major": 2,
       "version_minor": 0
      },
      "text/plain": [
       "roll_out:   0%|          | 0/2048 [00:00<?, ?it/s]"
      ]
     },
     "metadata": {},
     "output_type": "display_data"
    },
    {
     "data": {
      "application/vnd.jupyter.widget-view+json": {
       "model_id": "0c6b36ef5b7c4a3ba004f5a0f4f17cc8",
       "version_major": 2,
       "version_minor": 0
      },
      "text/plain": [
       "roll_out:   0%|          | 0/2048 [00:00<?, ?it/s]"
      ]
     },
     "metadata": {},
     "output_type": "display_data"
    },
    {
     "data": {
      "application/vnd.jupyter.widget-view+json": {
       "model_id": "a314aa4cb07b44e4bcc3cd03d8550907",
       "version_major": 2,
       "version_minor": 0
      },
      "text/plain": [
       "roll_out:   0%|          | 0/2048 [00:00<?, ?it/s]"
      ]
     },
     "metadata": {},
     "output_type": "display_data"
    },
    {
     "data": {
      "application/vnd.jupyter.widget-view+json": {
       "model_id": "4cf3787832894fc6be0e7542b8681d4e",
       "version_major": 2,
       "version_minor": 0
      },
      "text/plain": [
       "roll_out:   0%|          | 0/2048 [00:00<?, ?it/s]"
      ]
     },
     "metadata": {},
     "output_type": "display_data"
    },
    {
     "data": {
      "application/vnd.jupyter.widget-view+json": {
       "model_id": "e6e83d24cabb4ee091649292a4ed651f",
       "version_major": 2,
       "version_minor": 0
      },
      "text/plain": [
       "roll_out:   0%|          | 0/2048 [00:00<?, ?it/s]"
      ]
     },
     "metadata": {},
     "output_type": "display_data"
    },
    {
     "data": {
      "application/vnd.jupyter.widget-view+json": {
       "model_id": "5d5486e48058444a9184c2bb0a777c2d",
       "version_major": 2,
       "version_minor": 0
      },
      "text/plain": [
       "roll_out:   0%|          | 0/2048 [00:00<?, ?it/s]"
      ]
     },
     "metadata": {},
     "output_type": "display_data"
    },
    {
     "data": {
      "application/vnd.jupyter.widget-view+json": {
       "model_id": "781e4a939f8e430da0652dc28140cd46",
       "version_major": 2,
       "version_minor": 0
      },
      "text/plain": [
       "roll_out:   0%|          | 0/2048 [00:00<?, ?it/s]"
      ]
     },
     "metadata": {},
     "output_type": "display_data"
    },
    {
     "data": {
      "application/vnd.jupyter.widget-view+json": {
       "model_id": "d0e6b354368843e8a5ba73851288a097",
       "version_major": 2,
       "version_minor": 0
      },
      "text/plain": [
       "roll_out:   0%|          | 0/2048 [00:00<?, ?it/s]"
      ]
     },
     "metadata": {},
     "output_type": "display_data"
    },
    {
     "data": {
      "application/vnd.jupyter.widget-view+json": {
       "model_id": "22fb9d51eb7748548ab8da6b105b3334",
       "version_major": 2,
       "version_minor": 0
      },
      "text/plain": [
       "roll_out:   0%|          | 0/2048 [00:00<?, ?it/s]"
      ]
     },
     "metadata": {},
     "output_type": "display_data"
    },
    {
     "data": {
      "application/vnd.jupyter.widget-view+json": {
       "model_id": "c1175c69bd0d4fca8b7e1d240e3b6e50",
       "version_major": 2,
       "version_minor": 0
      },
      "text/plain": [
       "roll_out:   0%|          | 0/2048 [00:00<?, ?it/s]"
      ]
     },
     "metadata": {},
     "output_type": "display_data"
    },
    {
     "data": {
      "application/vnd.jupyter.widget-view+json": {
       "model_id": "6c544f5e06e94813bb12fc127941ceef",
       "version_major": 2,
       "version_minor": 0
      },
      "text/plain": [
       "roll_out:   0%|          | 0/2048 [00:00<?, ?it/s]"
      ]
     },
     "metadata": {},
     "output_type": "display_data"
    },
    {
     "data": {
      "application/vnd.jupyter.widget-view+json": {
       "model_id": "9d39bd50d10c40c69416eabf01e9d91e",
       "version_major": 2,
       "version_minor": 0
      },
      "text/plain": [
       "roll_out:   0%|          | 0/2048 [00:00<?, ?it/s]"
      ]
     },
     "metadata": {},
     "output_type": "display_data"
    },
    {
     "data": {
      "application/vnd.jupyter.widget-view+json": {
       "model_id": "703390e7060f49a1abf9d9d4844991ab",
       "version_major": 2,
       "version_minor": 0
      },
      "text/plain": [
       "roll_out:   0%|          | 0/2048 [00:00<?, ?it/s]"
      ]
     },
     "metadata": {},
     "output_type": "display_data"
    },
    {
     "data": {
      "application/vnd.jupyter.widget-view+json": {
       "model_id": "6fc32daa68aa4f1990205bfe6bf74573",
       "version_major": 2,
       "version_minor": 0
      },
      "text/plain": [
       "roll_out:   0%|          | 0/2048 [00:00<?, ?it/s]"
      ]
     },
     "metadata": {},
     "output_type": "display_data"
    },
    {
     "data": {
      "application/vnd.jupyter.widget-view+json": {
       "model_id": "f64f7b7427244f07afa23c43b9c07f8f",
       "version_major": 2,
       "version_minor": 0
      },
      "text/plain": [
       "roll_out:   0%|          | 0/2048 [00:00<?, ?it/s]"
      ]
     },
     "metadata": {},
     "output_type": "display_data"
    },
    {
     "data": {
      "application/vnd.jupyter.widget-view+json": {
       "model_id": "4c8471dfcdaf49efb586547e6549d8a7",
       "version_major": 2,
       "version_minor": 0
      },
      "text/plain": [
       "roll_out:   0%|          | 0/2048 [00:00<?, ?it/s]"
      ]
     },
     "metadata": {},
     "output_type": "display_data"
    },
    {
     "data": {
      "application/vnd.jupyter.widget-view+json": {
       "model_id": "412e617aa1c94726badfdb9689fc8e37",
       "version_major": 2,
       "version_minor": 0
      },
      "text/plain": [
       "roll_out:   0%|          | 0/2048 [00:00<?, ?it/s]"
      ]
     },
     "metadata": {},
     "output_type": "display_data"
    },
    {
     "data": {
      "application/vnd.jupyter.widget-view+json": {
       "model_id": "fcb1123c2b6542c1966e851c04b0a113",
       "version_major": 2,
       "version_minor": 0
      },
      "text/plain": [
       "roll_out:   0%|          | 0/2048 [00:00<?, ?it/s]"
      ]
     },
     "metadata": {},
     "output_type": "display_data"
    },
    {
     "data": {
      "application/vnd.jupyter.widget-view+json": {
       "model_id": "9ccafb6dbaad4909a6d95e05b8d6f54b",
       "version_major": 2,
       "version_minor": 0
      },
      "text/plain": [
       "roll_out:   0%|          | 0/2048 [00:00<?, ?it/s]"
      ]
     },
     "metadata": {},
     "output_type": "display_data"
    },
    {
     "data": {
      "application/vnd.jupyter.widget-view+json": {
       "model_id": "ab4b83c41dcb4e01924dd6cb9575f674",
       "version_major": 2,
       "version_minor": 0
      },
      "text/plain": [
       "roll_out:   0%|          | 0/2048 [00:00<?, ?it/s]"
      ]
     },
     "metadata": {},
     "output_type": "display_data"
    },
    {
     "data": {
      "application/vnd.jupyter.widget-view+json": {
       "model_id": "66c4ea15ba7f4d4ca26f11bb2b353d69",
       "version_major": 2,
       "version_minor": 0
      },
      "text/plain": [
       "roll_out:   0%|          | 0/2048 [00:00<?, ?it/s]"
      ]
     },
     "metadata": {},
     "output_type": "display_data"
    },
    {
     "data": {
      "application/vnd.jupyter.widget-view+json": {
       "model_id": "4f3742cf1bb54c92ba6da3a09d0df1b6",
       "version_major": 2,
       "version_minor": 0
      },
      "text/plain": [
       "roll_out:   0%|          | 0/2048 [00:00<?, ?it/s]"
      ]
     },
     "metadata": {},
     "output_type": "display_data"
    },
    {
     "data": {
      "application/vnd.jupyter.widget-view+json": {
       "model_id": "4ac155bbb2584cdaac1af03a67966360",
       "version_major": 2,
       "version_minor": 0
      },
      "text/plain": [
       "roll_out:   0%|          | 0/2048 [00:00<?, ?it/s]"
      ]
     },
     "metadata": {},
     "output_type": "display_data"
    },
    {
     "data": {
      "application/vnd.jupyter.widget-view+json": {
       "model_id": "12067a8ac2dd4afc8a45953910ac16e6",
       "version_major": 2,
       "version_minor": 0
      },
      "text/plain": [
       "roll_out:   0%|          | 0/2048 [00:00<?, ?it/s]"
      ]
     },
     "metadata": {},
     "output_type": "display_data"
    },
    {
     "data": {
      "application/vnd.jupyter.widget-view+json": {
       "model_id": "daea5f67183c4a7390c99294307575ac",
       "version_major": 2,
       "version_minor": 0
      },
      "text/plain": [
       "roll_out:   0%|          | 0/2048 [00:00<?, ?it/s]"
      ]
     },
     "metadata": {},
     "output_type": "display_data"
    },
    {
     "data": {
      "application/vnd.jupyter.widget-view+json": {
       "model_id": "aca96423018144b0b20387b87d44950c",
       "version_major": 2,
       "version_minor": 0
      },
      "text/plain": [
       "roll_out:   0%|          | 0/2048 [00:00<?, ?it/s]"
      ]
     },
     "metadata": {},
     "output_type": "display_data"
    },
    {
     "data": {
      "application/vnd.jupyter.widget-view+json": {
       "model_id": "b7e90ba1dca34ac9ab6b08025f936623",
       "version_major": 2,
       "version_minor": 0
      },
      "text/plain": [
       "roll_out:   0%|          | 0/2048 [00:00<?, ?it/s]"
      ]
     },
     "metadata": {},
     "output_type": "display_data"
    },
    {
     "data": {
      "application/vnd.jupyter.widget-view+json": {
       "model_id": "8cab9b0b563642388faed5bd56d17938",
       "version_major": 2,
       "version_minor": 0
      },
      "text/plain": [
       "roll_out:   0%|          | 0/2048 [00:00<?, ?it/s]"
      ]
     },
     "metadata": {},
     "output_type": "display_data"
    },
    {
     "data": {
      "application/vnd.jupyter.widget-view+json": {
       "model_id": "614ba3c1a4ae425291b1d0fd0ced1daa",
       "version_major": 2,
       "version_minor": 0
      },
      "text/plain": [
       "roll_out:   0%|          | 0/2048 [00:00<?, ?it/s]"
      ]
     },
     "metadata": {},
     "output_type": "display_data"
    },
    {
     "data": {
      "application/vnd.jupyter.widget-view+json": {
       "model_id": "b61e5514eda543249eb4dfc8ce818160",
       "version_major": 2,
       "version_minor": 0
      },
      "text/plain": [
       "roll_out:   0%|          | 0/2048 [00:00<?, ?it/s]"
      ]
     },
     "metadata": {},
     "output_type": "display_data"
    },
    {
     "data": {
      "application/vnd.jupyter.widget-view+json": {
       "model_id": "0928b4b443c0414293a02dec1799e090",
       "version_major": 2,
       "version_minor": 0
      },
      "text/plain": [
       "roll_out:   0%|          | 0/2048 [00:00<?, ?it/s]"
      ]
     },
     "metadata": {},
     "output_type": "display_data"
    },
    {
     "data": {
      "application/vnd.jupyter.widget-view+json": {
       "model_id": "089acf050164451db108a71c5d877c9f",
       "version_major": 2,
       "version_minor": 0
      },
      "text/plain": [
       "roll_out:   0%|          | 0/2048 [00:00<?, ?it/s]"
      ]
     },
     "metadata": {},
     "output_type": "display_data"
    },
    {
     "data": {
      "application/vnd.jupyter.widget-view+json": {
       "model_id": "8622bbb9ff7b4ae3a05a5c14475aa13c",
       "version_major": 2,
       "version_minor": 0
      },
      "text/plain": [
       "roll_out:   0%|          | 0/2048 [00:00<?, ?it/s]"
      ]
     },
     "metadata": {},
     "output_type": "display_data"
    },
    {
     "data": {
      "application/vnd.jupyter.widget-view+json": {
       "model_id": "8e29db9678c94d50a2f7d71593d8bfc2",
       "version_major": 2,
       "version_minor": 0
      },
      "text/plain": [
       "roll_out:   0%|          | 0/2048 [00:00<?, ?it/s]"
      ]
     },
     "metadata": {},
     "output_type": "display_data"
    },
    {
     "data": {
      "application/vnd.jupyter.widget-view+json": {
       "model_id": "f2b9cb05309e44ca821b5c090b1f908a",
       "version_major": 2,
       "version_minor": 0
      },
      "text/plain": [
       "roll_out:   0%|          | 0/2048 [00:00<?, ?it/s]"
      ]
     },
     "metadata": {},
     "output_type": "display_data"
    },
    {
     "data": {
      "application/vnd.jupyter.widget-view+json": {
       "model_id": "a17cb49e01a84363bde4ed0cc3ba3566",
       "version_major": 2,
       "version_minor": 0
      },
      "text/plain": [
       "roll_out:   0%|          | 0/2048 [00:00<?, ?it/s]"
      ]
     },
     "metadata": {},
     "output_type": "display_data"
    },
    {
     "data": {
      "application/vnd.jupyter.widget-view+json": {
       "model_id": "f78cda0a2705462c8bed6921842544cf",
       "version_major": 2,
       "version_minor": 0
      },
      "text/plain": [
       "roll_out:   0%|          | 0/2048 [00:00<?, ?it/s]"
      ]
     },
     "metadata": {},
     "output_type": "display_data"
    },
    {
     "data": {
      "application/vnd.jupyter.widget-view+json": {
       "model_id": "d34864fc33f54a86b1dead3ded5c5e8a",
       "version_major": 2,
       "version_minor": 0
      },
      "text/plain": [
       "roll_out:   0%|          | 0/2048 [00:00<?, ?it/s]"
      ]
     },
     "metadata": {},
     "output_type": "display_data"
    },
    {
     "data": {
      "application/vnd.jupyter.widget-view+json": {
       "model_id": "295924b31e794465b7c2b0f4d4c5a01b",
       "version_major": 2,
       "version_minor": 0
      },
      "text/plain": [
       "roll_out:   0%|          | 0/2048 [00:00<?, ?it/s]"
      ]
     },
     "metadata": {},
     "output_type": "display_data"
    },
    {
     "data": {
      "application/vnd.jupyter.widget-view+json": {
       "model_id": "c3a23d6f032f4e1aa4f3ccd378d5e834",
       "version_major": 2,
       "version_minor": 0
      },
      "text/plain": [
       "roll_out:   0%|          | 0/2048 [00:00<?, ?it/s]"
      ]
     },
     "metadata": {},
     "output_type": "display_data"
    },
    {
     "data": {
      "application/vnd.jupyter.widget-view+json": {
       "model_id": "7f7a0d42374b4d9da6d4b6a7a584831b",
       "version_major": 2,
       "version_minor": 0
      },
      "text/plain": [
       "roll_out:   0%|          | 0/2048 [00:00<?, ?it/s]"
      ]
     },
     "metadata": {},
     "output_type": "display_data"
    },
    {
     "data": {
      "application/vnd.jupyter.widget-view+json": {
       "model_id": "b8df1ff3cad946ab91d835ba1f65d470",
       "version_major": 2,
       "version_minor": 0
      },
      "text/plain": [
       "roll_out:   0%|          | 0/2048 [00:00<?, ?it/s]"
      ]
     },
     "metadata": {},
     "output_type": "display_data"
    },
    {
     "data": {
      "application/vnd.jupyter.widget-view+json": {
       "model_id": "5eb4e92e6a3b470bbc6a6eaeed0c7027",
       "version_major": 2,
       "version_minor": 0
      },
      "text/plain": [
       "roll_out:   0%|          | 0/2048 [00:00<?, ?it/s]"
      ]
     },
     "metadata": {},
     "output_type": "display_data"
    },
    {
     "data": {
      "application/vnd.jupyter.widget-view+json": {
       "model_id": "69215d81b4844b0d90ce8c6f9d9948f3",
       "version_major": 2,
       "version_minor": 0
      },
      "text/plain": [
       "roll_out:   0%|          | 0/2048 [00:00<?, ?it/s]"
      ]
     },
     "metadata": {},
     "output_type": "display_data"
    },
    {
     "data": {
      "application/vnd.jupyter.widget-view+json": {
       "model_id": "62292b3148604dfca8d827725b39fad9",
       "version_major": 2,
       "version_minor": 0
      },
      "text/plain": [
       "roll_out:   0%|          | 0/2048 [00:00<?, ?it/s]"
      ]
     },
     "metadata": {},
     "output_type": "display_data"
    },
    {
     "data": {
      "application/vnd.jupyter.widget-view+json": {
       "model_id": "734e4c05315c4276b5e723a48af78dd7",
       "version_major": 2,
       "version_minor": 0
      },
      "text/plain": [
       "roll_out:   0%|          | 0/2048 [00:00<?, ?it/s]"
      ]
     },
     "metadata": {},
     "output_type": "display_data"
    },
    {
     "data": {
      "application/vnd.jupyter.widget-view+json": {
       "model_id": "ea2d174d028e41cdbbf8d0cb73c18b43",
       "version_major": 2,
       "version_minor": 0
      },
      "text/plain": [
       "roll_out:   0%|          | 0/2048 [00:00<?, ?it/s]"
      ]
     },
     "metadata": {},
     "output_type": "display_data"
    },
    {
     "data": {
      "application/vnd.jupyter.widget-view+json": {
       "model_id": "560611bde7294f1387a09777f639d7f2",
       "version_major": 2,
       "version_minor": 0
      },
      "text/plain": [
       "roll_out:   0%|          | 0/2048 [00:00<?, ?it/s]"
      ]
     },
     "metadata": {},
     "output_type": "display_data"
    },
    {
     "data": {
      "application/vnd.jupyter.widget-view+json": {
       "model_id": "4bc2844ca4ea4d8f91697c5533bc9b13",
       "version_major": 2,
       "version_minor": 0
      },
      "text/plain": [
       "roll_out:   0%|          | 0/2048 [00:00<?, ?it/s]"
      ]
     },
     "metadata": {},
     "output_type": "display_data"
    },
    {
     "data": {
      "application/vnd.jupyter.widget-view+json": {
       "model_id": "4cba8e29f639423897d597d20e0ce2fd",
       "version_major": 2,
       "version_minor": 0
      },
      "text/plain": [
       "roll_out:   0%|          | 0/2048 [00:00<?, ?it/s]"
      ]
     },
     "metadata": {},
     "output_type": "display_data"
    },
    {
     "data": {
      "application/vnd.jupyter.widget-view+json": {
       "model_id": "d8128309223b430ca981f445539d64f5",
       "version_major": 2,
       "version_minor": 0
      },
      "text/plain": [
       "roll_out:   0%|          | 0/2048 [00:00<?, ?it/s]"
      ]
     },
     "metadata": {},
     "output_type": "display_data"
    },
    {
     "data": {
      "application/vnd.jupyter.widget-view+json": {
       "model_id": "5d36f0477e864b739956104fc7856dec",
       "version_major": 2,
       "version_minor": 0
      },
      "text/plain": [
       "roll_out:   0%|          | 0/2048 [00:00<?, ?it/s]"
      ]
     },
     "metadata": {},
     "output_type": "display_data"
    },
    {
     "data": {
      "application/vnd.jupyter.widget-view+json": {
       "model_id": "15976d7d5c444bce900e6b56c4daa50c",
       "version_major": 2,
       "version_minor": 0
      },
      "text/plain": [
       "roll_out:   0%|          | 0/2048 [00:00<?, ?it/s]"
      ]
     },
     "metadata": {},
     "output_type": "display_data"
    },
    {
     "data": {
      "application/vnd.jupyter.widget-view+json": {
       "model_id": "a43f1d7627a6424a87fcbf8dd942c037",
       "version_major": 2,
       "version_minor": 0
      },
      "text/plain": [
       "roll_out:   0%|          | 0/2048 [00:00<?, ?it/s]"
      ]
     },
     "metadata": {},
     "output_type": "display_data"
    },
    {
     "data": {
      "application/vnd.jupyter.widget-view+json": {
       "model_id": "9008b8fa019a4acf897387b0d7b819b5",
       "version_major": 2,
       "version_minor": 0
      },
      "text/plain": [
       "roll_out:   0%|          | 0/2048 [00:00<?, ?it/s]"
      ]
     },
     "metadata": {},
     "output_type": "display_data"
    },
    {
     "data": {
      "application/vnd.jupyter.widget-view+json": {
       "model_id": "db5c12fdc1974aaf92418c2313721b9c",
       "version_major": 2,
       "version_minor": 0
      },
      "text/plain": [
       "roll_out:   0%|          | 0/2048 [00:00<?, ?it/s]"
      ]
     },
     "metadata": {},
     "output_type": "display_data"
    },
    {
     "data": {
      "application/vnd.jupyter.widget-view+json": {
       "model_id": "12a4b35d63404a63a39c84565d17bd36",
       "version_major": 2,
       "version_minor": 0
      },
      "text/plain": [
       "roll_out:   0%|          | 0/2048 [00:00<?, ?it/s]"
      ]
     },
     "metadata": {},
     "output_type": "display_data"
    },
    {
     "data": {
      "application/vnd.jupyter.widget-view+json": {
       "model_id": "a118598ecae94c06b5aec51f76ff6761",
       "version_major": 2,
       "version_minor": 0
      },
      "text/plain": [
       "roll_out:   0%|          | 0/2048 [00:00<?, ?it/s]"
      ]
     },
     "metadata": {},
     "output_type": "display_data"
    },
    {
     "data": {
      "application/vnd.jupyter.widget-view+json": {
       "model_id": "0f0416dc2acc42d18cb1e621443c8bc4",
       "version_major": 2,
       "version_minor": 0
      },
      "text/plain": [
       "roll_out:   0%|          | 0/2048 [00:00<?, ?it/s]"
      ]
     },
     "metadata": {},
     "output_type": "display_data"
    },
    {
     "data": {
      "application/vnd.jupyter.widget-view+json": {
       "model_id": "8d6d01bcae6e4203b95c98ecb59059c3",
       "version_major": 2,
       "version_minor": 0
      },
      "text/plain": [
       "roll_out:   0%|          | 0/2048 [00:00<?, ?it/s]"
      ]
     },
     "metadata": {},
     "output_type": "display_data"
    },
    {
     "data": {
      "application/vnd.jupyter.widget-view+json": {
       "model_id": "796784761dbf478dbf3ca68b1b98d478",
       "version_major": 2,
       "version_minor": 0
      },
      "text/plain": [
       "roll_out:   0%|          | 0/2048 [00:00<?, ?it/s]"
      ]
     },
     "metadata": {},
     "output_type": "display_data"
    },
    {
     "data": {
      "application/vnd.jupyter.widget-view+json": {
       "model_id": "7fb7c49e203f4c908cfd3a049a4739e4",
       "version_major": 2,
       "version_minor": 0
      },
      "text/plain": [
       "roll_out:   0%|          | 0/2048 [00:00<?, ?it/s]"
      ]
     },
     "metadata": {},
     "output_type": "display_data"
    },
    {
     "data": {
      "application/vnd.jupyter.widget-view+json": {
       "model_id": "15dd66bde50c4b588b5fc0c1eaed762a",
       "version_major": 2,
       "version_minor": 0
      },
      "text/plain": [
       "roll_out:   0%|          | 0/2048 [00:00<?, ?it/s]"
      ]
     },
     "metadata": {},
     "output_type": "display_data"
    },
    {
     "data": {
      "application/vnd.jupyter.widget-view+json": {
       "model_id": "6a390d7babd643539b050b2571b16054",
       "version_major": 2,
       "version_minor": 0
      },
      "text/plain": [
       "roll_out:   0%|          | 0/2048 [00:00<?, ?it/s]"
      ]
     },
     "metadata": {},
     "output_type": "display_data"
    },
    {
     "data": {
      "application/vnd.jupyter.widget-view+json": {
       "model_id": "f8f650d324c947ee857d6071c0effce0",
       "version_major": 2,
       "version_minor": 0
      },
      "text/plain": [
       "roll_out:   0%|          | 0/2048 [00:00<?, ?it/s]"
      ]
     },
     "metadata": {},
     "output_type": "display_data"
    },
    {
     "data": {
      "application/vnd.jupyter.widget-view+json": {
       "model_id": "fb450c7886664f32bca8ed006a7cecf3",
       "version_major": 2,
       "version_minor": 0
      },
      "text/plain": [
       "roll_out:   0%|          | 0/2048 [00:00<?, ?it/s]"
      ]
     },
     "metadata": {},
     "output_type": "display_data"
    },
    {
     "data": {
      "application/vnd.jupyter.widget-view+json": {
       "model_id": "8efe2fb2cfaa4fc989059a27cb354642",
       "version_major": 2,
       "version_minor": 0
      },
      "text/plain": [
       "roll_out:   0%|          | 0/2048 [00:00<?, ?it/s]"
      ]
     },
     "metadata": {},
     "output_type": "display_data"
    },
    {
     "data": {
      "application/vnd.jupyter.widget-view+json": {
       "model_id": "6375185bb59542bb92758ef93464c05f",
       "version_major": 2,
       "version_minor": 0
      },
      "text/plain": [
       "roll_out:   0%|          | 0/2048 [00:00<?, ?it/s]"
      ]
     },
     "metadata": {},
     "output_type": "display_data"
    },
    {
     "data": {
      "application/vnd.jupyter.widget-view+json": {
       "model_id": "a35e4352a6164ee9a720f53dbfa54149",
       "version_major": 2,
       "version_minor": 0
      },
      "text/plain": [
       "roll_out:   0%|          | 0/2048 [00:00<?, ?it/s]"
      ]
     },
     "metadata": {},
     "output_type": "display_data"
    },
    {
     "data": {
      "application/vnd.jupyter.widget-view+json": {
       "model_id": "251bea60879946f1b0edd8d0597adc5f",
       "version_major": 2,
       "version_minor": 0
      },
      "text/plain": [
       "roll_out:   0%|          | 0/2048 [00:00<?, ?it/s]"
      ]
     },
     "metadata": {},
     "output_type": "display_data"
    },
    {
     "data": {
      "application/vnd.jupyter.widget-view+json": {
       "model_id": "bf2b04ccbc1f4690a44ca6deff270078",
       "version_major": 2,
       "version_minor": 0
      },
      "text/plain": [
       "roll_out:   0%|          | 0/2048 [00:00<?, ?it/s]"
      ]
     },
     "metadata": {},
     "output_type": "display_data"
    },
    {
     "data": {
      "application/vnd.jupyter.widget-view+json": {
       "model_id": "01782dc381de4eca91d778656e70f163",
       "version_major": 2,
       "version_minor": 0
      },
      "text/plain": [
       "roll_out:   0%|          | 0/2048 [00:00<?, ?it/s]"
      ]
     },
     "metadata": {},
     "output_type": "display_data"
    },
    {
     "data": {
      "application/vnd.jupyter.widget-view+json": {
       "model_id": "92e5145b812a41ad91cd76e7a8d7fe20",
       "version_major": 2,
       "version_minor": 0
      },
      "text/plain": [
       "roll_out:   0%|          | 0/2048 [00:00<?, ?it/s]"
      ]
     },
     "metadata": {},
     "output_type": "display_data"
    },
    {
     "data": {
      "application/vnd.jupyter.widget-view+json": {
       "model_id": "751adbd6984c4e16a57558eb19859b7b",
       "version_major": 2,
       "version_minor": 0
      },
      "text/plain": [
       "roll_out:   0%|          | 0/2048 [00:00<?, ?it/s]"
      ]
     },
     "metadata": {},
     "output_type": "display_data"
    },
    {
     "data": {
      "application/vnd.jupyter.widget-view+json": {
       "model_id": "fad738ac219647d2a949f867ab8e366e",
       "version_major": 2,
       "version_minor": 0
      },
      "text/plain": [
       "roll_out:   0%|          | 0/2048 [00:00<?, ?it/s]"
      ]
     },
     "metadata": {},
     "output_type": "display_data"
    },
    {
     "data": {
      "application/vnd.jupyter.widget-view+json": {
       "model_id": "bd402c7229b34237bc1835ad50c1b92b",
       "version_major": 2,
       "version_minor": 0
      },
      "text/plain": [
       "roll_out:   0%|          | 0/2048 [00:00<?, ?it/s]"
      ]
     },
     "metadata": {},
     "output_type": "display_data"
    },
    {
     "data": {
      "application/vnd.jupyter.widget-view+json": {
       "model_id": "e1704ace49fe46cfb179bef4d753f623",
       "version_major": 2,
       "version_minor": 0
      },
      "text/plain": [
       "roll_out:   0%|          | 0/2048 [00:00<?, ?it/s]"
      ]
     },
     "metadata": {},
     "output_type": "display_data"
    },
    {
     "data": {
      "application/vnd.jupyter.widget-view+json": {
       "model_id": "54b2e0eaa20d4a95af6d98fce0d64e3d",
       "version_major": 2,
       "version_minor": 0
      },
      "text/plain": [
       "roll_out:   0%|          | 0/2048 [00:00<?, ?it/s]"
      ]
     },
     "metadata": {},
     "output_type": "display_data"
    },
    {
     "data": {
      "application/vnd.jupyter.widget-view+json": {
       "model_id": "8aa49f7c2a814a43afe09fcb293d9979",
       "version_major": 2,
       "version_minor": 0
      },
      "text/plain": [
       "roll_out:   0%|          | 0/2048 [00:00<?, ?it/s]"
      ]
     },
     "metadata": {},
     "output_type": "display_data"
    },
    {
     "data": {
      "application/vnd.jupyter.widget-view+json": {
       "model_id": "7c3786762bac4b0faad0983b897ffbc7",
       "version_major": 2,
       "version_minor": 0
      },
      "text/plain": [
       "roll_out:   0%|          | 0/2048 [00:00<?, ?it/s]"
      ]
     },
     "metadata": {},
     "output_type": "display_data"
    },
    {
     "data": {
      "application/vnd.jupyter.widget-view+json": {
       "model_id": "c46dfe962342413d849a0b7c0be65508",
       "version_major": 2,
       "version_minor": 0
      },
      "text/plain": [
       "roll_out:   0%|          | 0/2048 [00:00<?, ?it/s]"
      ]
     },
     "metadata": {},
     "output_type": "display_data"
    },
    {
     "data": {
      "application/vnd.jupyter.widget-view+json": {
       "model_id": "704e6fc809604858afa3149ca4d36e7e",
       "version_major": 2,
       "version_minor": 0
      },
      "text/plain": [
       "roll_out:   0%|          | 0/2048 [00:00<?, ?it/s]"
      ]
     },
     "metadata": {},
     "output_type": "display_data"
    },
    {
     "data": {
      "application/vnd.jupyter.widget-view+json": {
       "model_id": "1f50afd18860452f8d437de313f8348e",
       "version_major": 2,
       "version_minor": 0
      },
      "text/plain": [
       "roll_out:   0%|          | 0/2048 [00:00<?, ?it/s]"
      ]
     },
     "metadata": {},
     "output_type": "display_data"
    },
    {
     "data": {
      "application/vnd.jupyter.widget-view+json": {
       "model_id": "be3d5f6f1d51442aa3faee53e09df7f1",
       "version_major": 2,
       "version_minor": 0
      },
      "text/plain": [
       "roll_out:   0%|          | 0/2048 [00:00<?, ?it/s]"
      ]
     },
     "metadata": {},
     "output_type": "display_data"
    },
    {
     "data": {
      "application/vnd.jupyter.widget-view+json": {
       "model_id": "aae025ea92ee49bf95201032f05da258",
       "version_major": 2,
       "version_minor": 0
      },
      "text/plain": [
       "roll_out:   0%|          | 0/2048 [00:00<?, ?it/s]"
      ]
     },
     "metadata": {},
     "output_type": "display_data"
    },
    {
     "data": {
      "application/vnd.jupyter.widget-view+json": {
       "model_id": "53def6226c0c47679b56c307f5cc0786",
       "version_major": 2,
       "version_minor": 0
      },
      "text/plain": [
       "roll_out:   0%|          | 0/2048 [00:00<?, ?it/s]"
      ]
     },
     "metadata": {},
     "output_type": "display_data"
    },
    {
     "data": {
      "application/vnd.jupyter.widget-view+json": {
       "model_id": "345b671b0e764f6f83bb9c887824b66b",
       "version_major": 2,
       "version_minor": 0
      },
      "text/plain": [
       "roll_out:   0%|          | 0/2048 [00:00<?, ?it/s]"
      ]
     },
     "metadata": {},
     "output_type": "display_data"
    },
    {
     "data": {
      "application/vnd.jupyter.widget-view+json": {
       "model_id": "573c66c02c554b67886d90accdee1431",
       "version_major": 2,
       "version_minor": 0
      },
      "text/plain": [
       "roll_out:   0%|          | 0/2048 [00:00<?, ?it/s]"
      ]
     },
     "metadata": {},
     "output_type": "display_data"
    },
    {
     "data": {
      "application/vnd.jupyter.widget-view+json": {
       "model_id": "f6a64c483f7d402bade4e23021aca97e",
       "version_major": 2,
       "version_minor": 0
      },
      "text/plain": [
       "roll_out:   0%|          | 0/2048 [00:00<?, ?it/s]"
      ]
     },
     "metadata": {},
     "output_type": "display_data"
    },
    {
     "data": {
      "application/vnd.jupyter.widget-view+json": {
       "model_id": "55a0738483584b7cb79c855606d3c7e1",
       "version_major": 2,
       "version_minor": 0
      },
      "text/plain": [
       "roll_out:   0%|          | 0/2048 [00:00<?, ?it/s]"
      ]
     },
     "metadata": {},
     "output_type": "display_data"
    },
    {
     "data": {
      "application/vnd.jupyter.widget-view+json": {
       "model_id": "7fcd23264538437eab795a6f6d5d0b1a",
       "version_major": 2,
       "version_minor": 0
      },
      "text/plain": [
       "roll_out:   0%|          | 0/2048 [00:00<?, ?it/s]"
      ]
     },
     "metadata": {},
     "output_type": "display_data"
    },
    {
     "data": {
      "application/vnd.jupyter.widget-view+json": {
       "model_id": "29bc5d9bb0d0489fb64390e7ad565576",
       "version_major": 2,
       "version_minor": 0
      },
      "text/plain": [
       "roll_out:   0%|          | 0/2048 [00:00<?, ?it/s]"
      ]
     },
     "metadata": {},
     "output_type": "display_data"
    },
    {
     "data": {
      "application/vnd.jupyter.widget-view+json": {
       "model_id": "ef82b225f9094b0fb31337a717ade45b",
       "version_major": 2,
       "version_minor": 0
      },
      "text/plain": [
       "roll_out:   0%|          | 0/2048 [00:00<?, ?it/s]"
      ]
     },
     "metadata": {},
     "output_type": "display_data"
    },
    {
     "data": {
      "application/vnd.jupyter.widget-view+json": {
       "model_id": "a504c08c5fca489d93039bb5a2365925",
       "version_major": 2,
       "version_minor": 0
      },
      "text/plain": [
       "roll_out:   0%|          | 0/2048 [00:00<?, ?it/s]"
      ]
     },
     "metadata": {},
     "output_type": "display_data"
    },
    {
     "data": {
      "application/vnd.jupyter.widget-view+json": {
       "model_id": "a26bd50a67844a42adff212c9654a277",
       "version_major": 2,
       "version_minor": 0
      },
      "text/plain": [
       "roll_out:   0%|          | 0/2048 [00:00<?, ?it/s]"
      ]
     },
     "metadata": {},
     "output_type": "display_data"
    },
    {
     "data": {
      "application/vnd.jupyter.widget-view+json": {
       "model_id": "5fee63b4828f49649337f0329cb7cbfd",
       "version_major": 2,
       "version_minor": 0
      },
      "text/plain": [
       "roll_out:   0%|          | 0/2048 [00:00<?, ?it/s]"
      ]
     },
     "metadata": {},
     "output_type": "display_data"
    },
    {
     "data": {
      "application/vnd.jupyter.widget-view+json": {
       "model_id": "d6cc95205c88497d9df227e8981e7e87",
       "version_major": 2,
       "version_minor": 0
      },
      "text/plain": [
       "roll_out:   0%|          | 0/2048 [00:00<?, ?it/s]"
      ]
     },
     "metadata": {},
     "output_type": "display_data"
    },
    {
     "data": {
      "application/vnd.jupyter.widget-view+json": {
       "model_id": "a79800d55c5a4352a3e0369952a7cf60",
       "version_major": 2,
       "version_minor": 0
      },
      "text/plain": [
       "roll_out:   0%|          | 0/2048 [00:00<?, ?it/s]"
      ]
     },
     "metadata": {},
     "output_type": "display_data"
    },
    {
     "data": {
      "application/vnd.jupyter.widget-view+json": {
       "model_id": "901fdd5dfff24e0ca1cb2c71a065e926",
       "version_major": 2,
       "version_minor": 0
      },
      "text/plain": [
       "roll_out:   0%|          | 0/2048 [00:00<?, ?it/s]"
      ]
     },
     "metadata": {},
     "output_type": "display_data"
    },
    {
     "data": {
      "application/vnd.jupyter.widget-view+json": {
       "model_id": "9233cbdc601a40bfaf90e333c5aa306d",
       "version_major": 2,
       "version_minor": 0
      },
      "text/plain": [
       "roll_out:   0%|          | 0/2048 [00:00<?, ?it/s]"
      ]
     },
     "metadata": {},
     "output_type": "display_data"
    },
    {
     "data": {
      "application/vnd.jupyter.widget-view+json": {
       "model_id": "5bbf5a5835af421ba0791f51a187122e",
       "version_major": 2,
       "version_minor": 0
      },
      "text/plain": [
       "roll_out:   0%|          | 0/2048 [00:00<?, ?it/s]"
      ]
     },
     "metadata": {},
     "output_type": "display_data"
    },
    {
     "data": {
      "application/vnd.jupyter.widget-view+json": {
       "model_id": "69d27b846c74406791ca819822175e60",
       "version_major": 2,
       "version_minor": 0
      },
      "text/plain": [
       "roll_out:   0%|          | 0/2048 [00:00<?, ?it/s]"
      ]
     },
     "metadata": {},
     "output_type": "display_data"
    },
    {
     "data": {
      "application/vnd.jupyter.widget-view+json": {
       "model_id": "7e664ae72c26442494608c5f634b144d",
       "version_major": 2,
       "version_minor": 0
      },
      "text/plain": [
       "roll_out:   0%|          | 0/2048 [00:00<?, ?it/s]"
      ]
     },
     "metadata": {},
     "output_type": "display_data"
    },
    {
     "data": {
      "application/vnd.jupyter.widget-view+json": {
       "model_id": "3b5eb1e1c3cd4174ace66400394c1b2e",
       "version_major": 2,
       "version_minor": 0
      },
      "text/plain": [
       "roll_out:   0%|          | 0/2048 [00:00<?, ?it/s]"
      ]
     },
     "metadata": {},
     "output_type": "display_data"
    },
    {
     "data": {
      "application/vnd.jupyter.widget-view+json": {
       "model_id": "67726ef0e2ab448f9d32e6589cd57156",
       "version_major": 2,
       "version_minor": 0
      },
      "text/plain": [
       "roll_out:   0%|          | 0/2048 [00:00<?, ?it/s]"
      ]
     },
     "metadata": {},
     "output_type": "display_data"
    },
    {
     "data": {
      "application/vnd.jupyter.widget-view+json": {
       "model_id": "6d36a60e73c14d3b830f952f71e3722d",
       "version_major": 2,
       "version_minor": 0
      },
      "text/plain": [
       "roll_out:   0%|          | 0/2048 [00:00<?, ?it/s]"
      ]
     },
     "metadata": {},
     "output_type": "display_data"
    },
    {
     "data": {
      "application/vnd.jupyter.widget-view+json": {
       "model_id": "5b8c1cc5f8a34f528a790b67c6bcceb9",
       "version_major": 2,
       "version_minor": 0
      },
      "text/plain": [
       "roll_out:   0%|          | 0/2048 [00:00<?, ?it/s]"
      ]
     },
     "metadata": {},
     "output_type": "display_data"
    },
    {
     "data": {
      "application/vnd.jupyter.widget-view+json": {
       "model_id": "6a2a387ae0ba42fc8aac69c147ff2853",
       "version_major": 2,
       "version_minor": 0
      },
      "text/plain": [
       "roll_out:   0%|          | 0/2048 [00:00<?, ?it/s]"
      ]
     },
     "metadata": {},
     "output_type": "display_data"
    },
    {
     "data": {
      "application/vnd.jupyter.widget-view+json": {
       "model_id": "b65bcdb377e94a78a9e28bf8ccbbcde0",
       "version_major": 2,
       "version_minor": 0
      },
      "text/plain": [
       "roll_out:   0%|          | 0/2048 [00:00<?, ?it/s]"
      ]
     },
     "metadata": {},
     "output_type": "display_data"
    },
    {
     "data": {
      "application/vnd.jupyter.widget-view+json": {
       "model_id": "2ab5e0c9247d45e69578f9f19fb327ea",
       "version_major": 2,
       "version_minor": 0
      },
      "text/plain": [
       "roll_out:   0%|          | 0/2048 [00:00<?, ?it/s]"
      ]
     },
     "metadata": {},
     "output_type": "display_data"
    },
    {
     "data": {
      "application/vnd.jupyter.widget-view+json": {
       "model_id": "8d8a5976d60b421596f590da3252c292",
       "version_major": 2,
       "version_minor": 0
      },
      "text/plain": [
       "roll_out:   0%|          | 0/2048 [00:00<?, ?it/s]"
      ]
     },
     "metadata": {},
     "output_type": "display_data"
    },
    {
     "data": {
      "application/vnd.jupyter.widget-view+json": {
       "model_id": "c073609d6a89438c9cae25ec73b479b3",
       "version_major": 2,
       "version_minor": 0
      },
      "text/plain": [
       "roll_out:   0%|          | 0/2048 [00:00<?, ?it/s]"
      ]
     },
     "metadata": {},
     "output_type": "display_data"
    },
    {
     "data": {
      "application/vnd.jupyter.widget-view+json": {
       "model_id": "aa72880911f946c4b472d47a12260603",
       "version_major": 2,
       "version_minor": 0
      },
      "text/plain": [
       "roll_out:   0%|          | 0/2048 [00:00<?, ?it/s]"
      ]
     },
     "metadata": {},
     "output_type": "display_data"
    },
    {
     "data": {
      "application/vnd.jupyter.widget-view+json": {
       "model_id": "1f484b292a734021ab5b2f67bae9511d",
       "version_major": 2,
       "version_minor": 0
      },
      "text/plain": [
       "roll_out:   0%|          | 0/2048 [00:00<?, ?it/s]"
      ]
     },
     "metadata": {},
     "output_type": "display_data"
    },
    {
     "data": {
      "application/vnd.jupyter.widget-view+json": {
       "model_id": "b4c97a8bf9654f69a7f97145b90b64b6",
       "version_major": 2,
       "version_minor": 0
      },
      "text/plain": [
       "roll_out:   0%|          | 0/2048 [00:00<?, ?it/s]"
      ]
     },
     "metadata": {},
     "output_type": "display_data"
    },
    {
     "data": {
      "application/vnd.jupyter.widget-view+json": {
       "model_id": "7dee998f196f44bfa49db18dd4afc54d",
       "version_major": 2,
       "version_minor": 0
      },
      "text/plain": [
       "roll_out:   0%|          | 0/2048 [00:00<?, ?it/s]"
      ]
     },
     "metadata": {},
     "output_type": "display_data"
    },
    {
     "data": {
      "application/vnd.jupyter.widget-view+json": {
       "model_id": "4461409e62434a7fac374715674d9de2",
       "version_major": 2,
       "version_minor": 0
      },
      "text/plain": [
       "roll_out:   0%|          | 0/2048 [00:00<?, ?it/s]"
      ]
     },
     "metadata": {},
     "output_type": "display_data"
    },
    {
     "data": {
      "application/vnd.jupyter.widget-view+json": {
       "model_id": "da0d86e0418f41489e58a5cb0b6ba1a9",
       "version_major": 2,
       "version_minor": 0
      },
      "text/plain": [
       "roll_out:   0%|          | 0/2048 [00:00<?, ?it/s]"
      ]
     },
     "metadata": {},
     "output_type": "display_data"
    },
    {
     "data": {
      "application/vnd.jupyter.widget-view+json": {
       "model_id": "4b053802bd33496db3b1689aa6b9f4c3",
       "version_major": 2,
       "version_minor": 0
      },
      "text/plain": [
       "roll_out:   0%|          | 0/2048 [00:00<?, ?it/s]"
      ]
     },
     "metadata": {},
     "output_type": "display_data"
    },
    {
     "data": {
      "application/vnd.jupyter.widget-view+json": {
       "model_id": "2aa64f6b6cae4db1ac27dbe7a020378a",
       "version_major": 2,
       "version_minor": 0
      },
      "text/plain": [
       "roll_out:   0%|          | 0/2048 [00:00<?, ?it/s]"
      ]
     },
     "metadata": {},
     "output_type": "display_data"
    },
    {
     "data": {
      "application/vnd.jupyter.widget-view+json": {
       "model_id": "a7bfa2e6140a49ae808dccd7be19ba6e",
       "version_major": 2,
       "version_minor": 0
      },
      "text/plain": [
       "roll_out:   0%|          | 0/2048 [00:00<?, ?it/s]"
      ]
     },
     "metadata": {},
     "output_type": "display_data"
    },
    {
     "data": {
      "application/vnd.jupyter.widget-view+json": {
       "model_id": "b0593d4fbb084617ab45fd4dcd5bae85",
       "version_major": 2,
       "version_minor": 0
      },
      "text/plain": [
       "roll_out:   0%|          | 0/2048 [00:00<?, ?it/s]"
      ]
     },
     "metadata": {},
     "output_type": "display_data"
    },
    {
     "data": {
      "application/vnd.jupyter.widget-view+json": {
       "model_id": "64925484cc4a4a92861e10c1c41a138b",
       "version_major": 2,
       "version_minor": 0
      },
      "text/plain": [
       "roll_out:   0%|          | 0/2048 [00:00<?, ?it/s]"
      ]
     },
     "metadata": {},
     "output_type": "display_data"
    },
    {
     "data": {
      "application/vnd.jupyter.widget-view+json": {
       "model_id": "dba13c99736647fcabb2a8ec65c8fc4b",
       "version_major": 2,
       "version_minor": 0
      },
      "text/plain": [
       "roll_out:   0%|          | 0/2048 [00:00<?, ?it/s]"
      ]
     },
     "metadata": {},
     "output_type": "display_data"
    },
    {
     "data": {
      "application/vnd.jupyter.widget-view+json": {
       "model_id": "6ae65fad78b3459da55b9a0a68c41a79",
       "version_major": 2,
       "version_minor": 0
      },
      "text/plain": [
       "roll_out:   0%|          | 0/2048 [00:00<?, ?it/s]"
      ]
     },
     "metadata": {},
     "output_type": "display_data"
    },
    {
     "data": {
      "application/vnd.jupyter.widget-view+json": {
       "model_id": "5111c93601fa4e73a344273f2aa4a5c2",
       "version_major": 2,
       "version_minor": 0
      },
      "text/plain": [
       "roll_out:   0%|          | 0/2048 [00:00<?, ?it/s]"
      ]
     },
     "metadata": {},
     "output_type": "display_data"
    },
    {
     "data": {
      "application/vnd.jupyter.widget-view+json": {
       "model_id": "7ed3d6f2a07c4097b4e17fe08dab7107",
       "version_major": 2,
       "version_minor": 0
      },
      "text/plain": [
       "roll_out:   0%|          | 0/2048 [00:00<?, ?it/s]"
      ]
     },
     "metadata": {},
     "output_type": "display_data"
    },
    {
     "data": {
      "application/vnd.jupyter.widget-view+json": {
       "model_id": "3518bdd79aaa41a9bf46c403eaa5b9be",
       "version_major": 2,
       "version_minor": 0
      },
      "text/plain": [
       "roll_out:   0%|          | 0/2048 [00:00<?, ?it/s]"
      ]
     },
     "metadata": {},
     "output_type": "display_data"
    },
    {
     "data": {
      "application/vnd.jupyter.widget-view+json": {
       "model_id": "9d333aa25aa14860bde0c0734060a04f",
       "version_major": 2,
       "version_minor": 0
      },
      "text/plain": [
       "roll_out:   0%|          | 0/2048 [00:00<?, ?it/s]"
      ]
     },
     "metadata": {},
     "output_type": "display_data"
    },
    {
     "data": {
      "application/vnd.jupyter.widget-view+json": {
       "model_id": "ec0c553f998844e2becc23c546209a28",
       "version_major": 2,
       "version_minor": 0
      },
      "text/plain": [
       "roll_out:   0%|          | 0/2048 [00:00<?, ?it/s]"
      ]
     },
     "metadata": {},
     "output_type": "display_data"
    },
    {
     "data": {
      "application/vnd.jupyter.widget-view+json": {
       "model_id": "47c0c60746ab495480cc55870415f336",
       "version_major": 2,
       "version_minor": 0
      },
      "text/plain": [
       "roll_out:   0%|          | 0/2048 [00:00<?, ?it/s]"
      ]
     },
     "metadata": {},
     "output_type": "display_data"
    },
    {
     "data": {
      "application/vnd.jupyter.widget-view+json": {
       "model_id": "e6f8746ea01a47868039d86dbbcc80ba",
       "version_major": 2,
       "version_minor": 0
      },
      "text/plain": [
       "roll_out:   0%|          | 0/2048 [00:00<?, ?it/s]"
      ]
     },
     "metadata": {},
     "output_type": "display_data"
    },
    {
     "data": {
      "application/vnd.jupyter.widget-view+json": {
       "model_id": "3ffc57b110254a83a31081c267ca59e0",
       "version_major": 2,
       "version_minor": 0
      },
      "text/plain": [
       "roll_out:   0%|          | 0/2048 [00:00<?, ?it/s]"
      ]
     },
     "metadata": {},
     "output_type": "display_data"
    },
    {
     "data": {
      "application/vnd.jupyter.widget-view+json": {
       "model_id": "f00a73891ec94319b241ab7f2fb04097",
       "version_major": 2,
       "version_minor": 0
      },
      "text/plain": [
       "roll_out:   0%|          | 0/2048 [00:00<?, ?it/s]"
      ]
     },
     "metadata": {},
     "output_type": "display_data"
    },
    {
     "data": {
      "application/vnd.jupyter.widget-view+json": {
       "model_id": "4f992e239bd74cf198adf7f9537339dc",
       "version_major": 2,
       "version_minor": 0
      },
      "text/plain": [
       "roll_out:   0%|          | 0/2048 [00:00<?, ?it/s]"
      ]
     },
     "metadata": {},
     "output_type": "display_data"
    },
    {
     "data": {
      "application/vnd.jupyter.widget-view+json": {
       "model_id": "70401a25cf2547b79cd0ff2d54ba0edc",
       "version_major": 2,
       "version_minor": 0
      },
      "text/plain": [
       "roll_out:   0%|          | 0/2048 [00:00<?, ?it/s]"
      ]
     },
     "metadata": {},
     "output_type": "display_data"
    },
    {
     "data": {
      "application/vnd.jupyter.widget-view+json": {
       "model_id": "f0fac68d153e487892416087dc1f39f3",
       "version_major": 2,
       "version_minor": 0
      },
      "text/plain": [
       "roll_out:   0%|          | 0/2048 [00:00<?, ?it/s]"
      ]
     },
     "metadata": {},
     "output_type": "display_data"
    },
    {
     "data": {
      "application/vnd.jupyter.widget-view+json": {
       "model_id": "c11bb04391f94d978d1d7acc2cfae17d",
       "version_major": 2,
       "version_minor": 0
      },
      "text/plain": [
       "roll_out:   0%|          | 0/2048 [00:00<?, ?it/s]"
      ]
     },
     "metadata": {},
     "output_type": "display_data"
    },
    {
     "data": {
      "application/vnd.jupyter.widget-view+json": {
       "model_id": "293c826908ac4d509da67d3e1e24d045",
       "version_major": 2,
       "version_minor": 0
      },
      "text/plain": [
       "roll_out:   0%|          | 0/2048 [00:00<?, ?it/s]"
      ]
     },
     "metadata": {},
     "output_type": "display_data"
    },
    {
     "data": {
      "application/vnd.jupyter.widget-view+json": {
       "model_id": "a11c7c0fac2b44fb8b503306d7c91d9e",
       "version_major": 2,
       "version_minor": 0
      },
      "text/plain": [
       "roll_out:   0%|          | 0/2048 [00:00<?, ?it/s]"
      ]
     },
     "metadata": {},
     "output_type": "display_data"
    },
    {
     "data": {
      "application/vnd.jupyter.widget-view+json": {
       "model_id": "122add8608b04b8eb88abbf5102943e4",
       "version_major": 2,
       "version_minor": 0
      },
      "text/plain": [
       "roll_out:   0%|          | 0/2048 [00:00<?, ?it/s]"
      ]
     },
     "metadata": {},
     "output_type": "display_data"
    },
    {
     "data": {
      "application/vnd.jupyter.widget-view+json": {
       "model_id": "6b7710b5d5b64a3685da7786534b9021",
       "version_major": 2,
       "version_minor": 0
      },
      "text/plain": [
       "roll_out:   0%|          | 0/2048 [00:00<?, ?it/s]"
      ]
     },
     "metadata": {},
     "output_type": "display_data"
    },
    {
     "data": {
      "application/vnd.jupyter.widget-view+json": {
       "model_id": "748576b274c1458384ac63fab4d4cf79",
       "version_major": 2,
       "version_minor": 0
      },
      "text/plain": [
       "roll_out:   0%|          | 0/2048 [00:00<?, ?it/s]"
      ]
     },
     "metadata": {},
     "output_type": "display_data"
    },
    {
     "data": {
      "application/vnd.jupyter.widget-view+json": {
       "model_id": "133fdc7e5ed048d287ea109b27e4865e",
       "version_major": 2,
       "version_minor": 0
      },
      "text/plain": [
       "roll_out:   0%|          | 0/2048 [00:00<?, ?it/s]"
      ]
     },
     "metadata": {},
     "output_type": "display_data"
    },
    {
     "data": {
      "application/vnd.jupyter.widget-view+json": {
       "model_id": "efbe5073fc174269ab5aa1e797e55210",
       "version_major": 2,
       "version_minor": 0
      },
      "text/plain": [
       "roll_out:   0%|          | 0/2048 [00:00<?, ?it/s]"
      ]
     },
     "metadata": {},
     "output_type": "display_data"
    },
    {
     "data": {
      "application/vnd.jupyter.widget-view+json": {
       "model_id": "b684637bf564416e9ffbe583ba2d844c",
       "version_major": 2,
       "version_minor": 0
      },
      "text/plain": [
       "roll_out:   0%|          | 0/2048 [00:00<?, ?it/s]"
      ]
     },
     "metadata": {},
     "output_type": "display_data"
    },
    {
     "data": {
      "application/vnd.jupyter.widget-view+json": {
       "model_id": "216917f691074b1fa5700b620b45088d",
       "version_major": 2,
       "version_minor": 0
      },
      "text/plain": [
       "roll_out:   0%|          | 0/2048 [00:00<?, ?it/s]"
      ]
     },
     "metadata": {},
     "output_type": "display_data"
    },
    {
     "data": {
      "application/vnd.jupyter.widget-view+json": {
       "model_id": "9cab8e4958884364939d8e7d1c38f30d",
       "version_major": 2,
       "version_minor": 0
      },
      "text/plain": [
       "roll_out:   0%|          | 0/2048 [00:00<?, ?it/s]"
      ]
     },
     "metadata": {},
     "output_type": "display_data"
    },
    {
     "data": {
      "application/vnd.jupyter.widget-view+json": {
       "model_id": "4d9682512a894cd1a20d5aa535ab9373",
       "version_major": 2,
       "version_minor": 0
      },
      "text/plain": [
       "roll_out:   0%|          | 0/2048 [00:00<?, ?it/s]"
      ]
     },
     "metadata": {},
     "output_type": "display_data"
    },
    {
     "data": {
      "application/vnd.jupyter.widget-view+json": {
       "model_id": "26294a148a814e1baa9842301d9c0fee",
       "version_major": 2,
       "version_minor": 0
      },
      "text/plain": [
       "roll_out:   0%|          | 0/2048 [00:00<?, ?it/s]"
      ]
     },
     "metadata": {},
     "output_type": "display_data"
    },
    {
     "data": {
      "application/vnd.jupyter.widget-view+json": {
       "model_id": "cdf445463a264b80b82fc702b667f4cc",
       "version_major": 2,
       "version_minor": 0
      },
      "text/plain": [
       "roll_out:   0%|          | 0/2048 [00:00<?, ?it/s]"
      ]
     },
     "metadata": {},
     "output_type": "display_data"
    },
    {
     "data": {
      "application/vnd.jupyter.widget-view+json": {
       "model_id": "49e8f22e45ff42398269b3d338586390",
       "version_major": 2,
       "version_minor": 0
      },
      "text/plain": [
       "roll_out:   0%|          | 0/2048 [00:00<?, ?it/s]"
      ]
     },
     "metadata": {},
     "output_type": "display_data"
    },
    {
     "data": {
      "application/vnd.jupyter.widget-view+json": {
       "model_id": "1c99db20c2fc42539cc2f795ff54e179",
       "version_major": 2,
       "version_minor": 0
      },
      "text/plain": [
       "roll_out:   0%|          | 0/2048 [00:00<?, ?it/s]"
      ]
     },
     "metadata": {},
     "output_type": "display_data"
    },
    {
     "data": {
      "application/vnd.jupyter.widget-view+json": {
       "model_id": "a7358ce303594dc3959cba84b0c0c143",
       "version_major": 2,
       "version_minor": 0
      },
      "text/plain": [
       "roll_out:   0%|          | 0/2048 [00:00<?, ?it/s]"
      ]
     },
     "metadata": {},
     "output_type": "display_data"
    },
    {
     "data": {
      "application/vnd.jupyter.widget-view+json": {
       "model_id": "477e5e7981af4ff1b7e1cb5460f82531",
       "version_major": 2,
       "version_minor": 0
      },
      "text/plain": [
       "roll_out:   0%|          | 0/2048 [00:00<?, ?it/s]"
      ]
     },
     "metadata": {},
     "output_type": "display_data"
    },
    {
     "data": {
      "application/vnd.jupyter.widget-view+json": {
       "model_id": "c261eebc39ec4dc4b7117607122c6580",
       "version_major": 2,
       "version_minor": 0
      },
      "text/plain": [
       "roll_out:   0%|          | 0/2048 [00:00<?, ?it/s]"
      ]
     },
     "metadata": {},
     "output_type": "display_data"
    },
    {
     "data": {
      "application/vnd.jupyter.widget-view+json": {
       "model_id": "f7ef161df3a04c508330626d9bb15be6",
       "version_major": 2,
       "version_minor": 0
      },
      "text/plain": [
       "roll_out:   0%|          | 0/2048 [00:00<?, ?it/s]"
      ]
     },
     "metadata": {},
     "output_type": "display_data"
    },
    {
     "data": {
      "application/vnd.jupyter.widget-view+json": {
       "model_id": "5904d5e0a4774945ab39341a80779e9a",
       "version_major": 2,
       "version_minor": 0
      },
      "text/plain": [
       "roll_out:   0%|          | 0/2048 [00:00<?, ?it/s]"
      ]
     },
     "metadata": {},
     "output_type": "display_data"
    },
    {
     "data": {
      "application/vnd.jupyter.widget-view+json": {
       "model_id": "fabf03baec9e44dba847c27ba719eb4c",
       "version_major": 2,
       "version_minor": 0
      },
      "text/plain": [
       "roll_out:   0%|          | 0/2048 [00:00<?, ?it/s]"
      ]
     },
     "metadata": {},
     "output_type": "display_data"
    },
    {
     "data": {
      "application/vnd.jupyter.widget-view+json": {
       "model_id": "42cf491a3e5d43daac95cb7b7f411ef1",
       "version_major": 2,
       "version_minor": 0
      },
      "text/plain": [
       "roll_out:   0%|          | 0/2048 [00:00<?, ?it/s]"
      ]
     },
     "metadata": {},
     "output_type": "display_data"
    },
    {
     "data": {
      "application/vnd.jupyter.widget-view+json": {
       "model_id": "2f6b6af7c900498a9f1f1238a7747cef",
       "version_major": 2,
       "version_minor": 0
      },
      "text/plain": [
       "roll_out:   0%|          | 0/2048 [00:00<?, ?it/s]"
      ]
     },
     "metadata": {},
     "output_type": "display_data"
    },
    {
     "data": {
      "application/vnd.jupyter.widget-view+json": {
       "model_id": "cb4262dc4f094de8b63a354a493bdea9",
       "version_major": 2,
       "version_minor": 0
      },
      "text/plain": [
       "roll_out:   0%|          | 0/2048 [00:00<?, ?it/s]"
      ]
     },
     "metadata": {},
     "output_type": "display_data"
    },
    {
     "data": {
      "application/vnd.jupyter.widget-view+json": {
       "model_id": "a1b430854df948b38c777b31ecb68c31",
       "version_major": 2,
       "version_minor": 0
      },
      "text/plain": [
       "roll_out:   0%|          | 0/2048 [00:00<?, ?it/s]"
      ]
     },
     "metadata": {},
     "output_type": "display_data"
    },
    {
     "data": {
      "application/vnd.jupyter.widget-view+json": {
       "model_id": "ab1d9b7d35c64820bee29a44689c6849",
       "version_major": 2,
       "version_minor": 0
      },
      "text/plain": [
       "roll_out:   0%|          | 0/2048 [00:00<?, ?it/s]"
      ]
     },
     "metadata": {},
     "output_type": "display_data"
    },
    {
     "data": {
      "application/vnd.jupyter.widget-view+json": {
       "model_id": "9a5b1d76075646b88f9e7326d61bea7f",
       "version_major": 2,
       "version_minor": 0
      },
      "text/plain": [
       "roll_out:   0%|          | 0/2048 [00:00<?, ?it/s]"
      ]
     },
     "metadata": {},
     "output_type": "display_data"
    },
    {
     "data": {
      "application/vnd.jupyter.widget-view+json": {
       "model_id": "8ba97a540fe944e5a5cea1481801d775",
       "version_major": 2,
       "version_minor": 0
      },
      "text/plain": [
       "roll_out:   0%|          | 0/2048 [00:00<?, ?it/s]"
      ]
     },
     "metadata": {},
     "output_type": "display_data"
    },
    {
     "data": {
      "application/vnd.jupyter.widget-view+json": {
       "model_id": "fd711492edd44d4c9a5ad3561166d0c6",
       "version_major": 2,
       "version_minor": 0
      },
      "text/plain": [
       "roll_out:   0%|          | 0/2048 [00:00<?, ?it/s]"
      ]
     },
     "metadata": {},
     "output_type": "display_data"
    },
    {
     "data": {
      "application/vnd.jupyter.widget-view+json": {
       "model_id": "eb1be96406814797a4976f7502fc0224",
       "version_major": 2,
       "version_minor": 0
      },
      "text/plain": [
       "roll_out:   0%|          | 0/2048 [00:00<?, ?it/s]"
      ]
     },
     "metadata": {},
     "output_type": "display_data"
    },
    {
     "data": {
      "application/vnd.jupyter.widget-view+json": {
       "model_id": "3c7ca8c8a9d2464e8d8214bd69a6a28c",
       "version_major": 2,
       "version_minor": 0
      },
      "text/plain": [
       "roll_out:   0%|          | 0/2048 [00:00<?, ?it/s]"
      ]
     },
     "metadata": {},
     "output_type": "display_data"
    },
    {
     "data": {
      "application/vnd.jupyter.widget-view+json": {
       "model_id": "1e075174de6c473fb901edb861c1b885",
       "version_major": 2,
       "version_minor": 0
      },
      "text/plain": [
       "roll_out:   0%|          | 0/2048 [00:00<?, ?it/s]"
      ]
     },
     "metadata": {},
     "output_type": "display_data"
    },
    {
     "data": {
      "application/vnd.jupyter.widget-view+json": {
       "model_id": "1f9332b7236d4bdd910c2dc3fa5f61d1",
       "version_major": 2,
       "version_minor": 0
      },
      "text/plain": [
       "roll_out:   0%|          | 0/2048 [00:00<?, ?it/s]"
      ]
     },
     "metadata": {},
     "output_type": "display_data"
    },
    {
     "data": {
      "application/vnd.jupyter.widget-view+json": {
       "model_id": "3268c3c1a0ef46e993bcc9d5c577404f",
       "version_major": 2,
       "version_minor": 0
      },
      "text/plain": [
       "roll_out:   0%|          | 0/2048 [00:00<?, ?it/s]"
      ]
     },
     "metadata": {},
     "output_type": "display_data"
    },
    {
     "data": {
      "application/vnd.jupyter.widget-view+json": {
       "model_id": "8abbe8cb6ea1497f991e15870b2fa669",
       "version_major": 2,
       "version_minor": 0
      },
      "text/plain": [
       "roll_out:   0%|          | 0/2048 [00:00<?, ?it/s]"
      ]
     },
     "metadata": {},
     "output_type": "display_data"
    },
    {
     "data": {
      "application/vnd.jupyter.widget-view+json": {
       "model_id": "d62e459f940544f6a8070cd1d31f0b97",
       "version_major": 2,
       "version_minor": 0
      },
      "text/plain": [
       "roll_out:   0%|          | 0/2048 [00:00<?, ?it/s]"
      ]
     },
     "metadata": {},
     "output_type": "display_data"
    },
    {
     "data": {
      "application/vnd.jupyter.widget-view+json": {
       "model_id": "dd781f472c754776a3f8697304df4b5f",
       "version_major": 2,
       "version_minor": 0
      },
      "text/plain": [
       "roll_out:   0%|          | 0/2048 [00:00<?, ?it/s]"
      ]
     },
     "metadata": {},
     "output_type": "display_data"
    },
    {
     "data": {
      "application/vnd.jupyter.widget-view+json": {
       "model_id": "9bb64a385c134348a2a4ded7f7266ce9",
       "version_major": 2,
       "version_minor": 0
      },
      "text/plain": [
       "roll_out:   0%|          | 0/2048 [00:00<?, ?it/s]"
      ]
     },
     "metadata": {},
     "output_type": "display_data"
    },
    {
     "data": {
      "application/vnd.jupyter.widget-view+json": {
       "model_id": "92353d43a3724b5a8bd3ab97aed457c2",
       "version_major": 2,
       "version_minor": 0
      },
      "text/plain": [
       "roll_out:   0%|          | 0/2048 [00:00<?, ?it/s]"
      ]
     },
     "metadata": {},
     "output_type": "display_data"
    },
    {
     "data": {
      "application/vnd.jupyter.widget-view+json": {
       "model_id": "093721c07a074d4da4038456b7d8e3a4",
       "version_major": 2,
       "version_minor": 0
      },
      "text/plain": [
       "roll_out:   0%|          | 0/2048 [00:00<?, ?it/s]"
      ]
     },
     "metadata": {},
     "output_type": "display_data"
    },
    {
     "data": {
      "application/vnd.jupyter.widget-view+json": {
       "model_id": "89689640269c4f6ab7a793f2d25d39e7",
       "version_major": 2,
       "version_minor": 0
      },
      "text/plain": [
       "roll_out:   0%|          | 0/2048 [00:00<?, ?it/s]"
      ]
     },
     "metadata": {},
     "output_type": "display_data"
    },
    {
     "data": {
      "application/vnd.jupyter.widget-view+json": {
       "model_id": "99600043209f4e40adf651d515693bf2",
       "version_major": 2,
       "version_minor": 0
      },
      "text/plain": [
       "roll_out:   0%|          | 0/2048 [00:00<?, ?it/s]"
      ]
     },
     "metadata": {},
     "output_type": "display_data"
    },
    {
     "data": {
      "application/vnd.jupyter.widget-view+json": {
       "model_id": "e36061a95ec649259cb4b9082d9d1238",
       "version_major": 2,
       "version_minor": 0
      },
      "text/plain": [
       "roll_out:   0%|          | 0/2048 [00:00<?, ?it/s]"
      ]
     },
     "metadata": {},
     "output_type": "display_data"
    },
    {
     "data": {
      "application/vnd.jupyter.widget-view+json": {
       "model_id": "ba7f59ca369d4aea8e2d137226754fe1",
       "version_major": 2,
       "version_minor": 0
      },
      "text/plain": [
       "roll_out:   0%|          | 0/2048 [00:00<?, ?it/s]"
      ]
     },
     "metadata": {},
     "output_type": "display_data"
    },
    {
     "data": {
      "application/vnd.jupyter.widget-view+json": {
       "model_id": "158edb4d4afe404ebaa1739d384acb3e",
       "version_major": 2,
       "version_minor": 0
      },
      "text/plain": [
       "roll_out:   0%|          | 0/2048 [00:00<?, ?it/s]"
      ]
     },
     "metadata": {},
     "output_type": "display_data"
    },
    {
     "data": {
      "application/vnd.jupyter.widget-view+json": {
       "model_id": "0af1e499c6134f10a4c2a4bb86f237a2",
       "version_major": 2,
       "version_minor": 0
      },
      "text/plain": [
       "roll_out:   0%|          | 0/2048 [00:00<?, ?it/s]"
      ]
     },
     "metadata": {},
     "output_type": "display_data"
    },
    {
     "data": {
      "application/vnd.jupyter.widget-view+json": {
       "model_id": "8ffeeddc44fa4f768a70b7dc8129c6c3",
       "version_major": 2,
       "version_minor": 0
      },
      "text/plain": [
       "roll_out:   0%|          | 0/2048 [00:00<?, ?it/s]"
      ]
     },
     "metadata": {},
     "output_type": "display_data"
    },
    {
     "data": {
      "application/vnd.jupyter.widget-view+json": {
       "model_id": "fb68aacf09d54f08a6cb4a147d9213a7",
       "version_major": 2,
       "version_minor": 0
      },
      "text/plain": [
       "roll_out:   0%|          | 0/2048 [00:00<?, ?it/s]"
      ]
     },
     "metadata": {},
     "output_type": "display_data"
    },
    {
     "data": {
      "application/vnd.jupyter.widget-view+json": {
       "model_id": "b8fb9a2c74ee424fae01aa97affead24",
       "version_major": 2,
       "version_minor": 0
      },
      "text/plain": [
       "roll_out:   0%|          | 0/2048 [00:00<?, ?it/s]"
      ]
     },
     "metadata": {},
     "output_type": "display_data"
    },
    {
     "data": {
      "application/vnd.jupyter.widget-view+json": {
       "model_id": "2bbd478d9a8d469ca1ba5608d612cc7b",
       "version_major": 2,
       "version_minor": 0
      },
      "text/plain": [
       "roll_out:   0%|          | 0/2048 [00:00<?, ?it/s]"
      ]
     },
     "metadata": {},
     "output_type": "display_data"
    },
    {
     "data": {
      "application/vnd.jupyter.widget-view+json": {
       "model_id": "4dc6ffa8d3574e1f86b92025bed76b32",
       "version_major": 2,
       "version_minor": 0
      },
      "text/plain": [
       "roll_out:   0%|          | 0/2048 [00:00<?, ?it/s]"
      ]
     },
     "metadata": {},
     "output_type": "display_data"
    },
    {
     "data": {
      "application/vnd.jupyter.widget-view+json": {
       "model_id": "37d77b9a1f4f4e62ac3fc57dac1b749f",
       "version_major": 2,
       "version_minor": 0
      },
      "text/plain": [
       "roll_out:   0%|          | 0/2048 [00:00<?, ?it/s]"
      ]
     },
     "metadata": {},
     "output_type": "display_data"
    },
    {
     "data": {
      "application/vnd.jupyter.widget-view+json": {
       "model_id": "0995cba85c7d43c99058ec1434c80cdb",
       "version_major": 2,
       "version_minor": 0
      },
      "text/plain": [
       "roll_out:   0%|          | 0/2048 [00:00<?, ?it/s]"
      ]
     },
     "metadata": {},
     "output_type": "display_data"
    },
    {
     "data": {
      "application/vnd.jupyter.widget-view+json": {
       "model_id": "0c2ed9dd61b5475abf87c531f3e414f6",
       "version_major": 2,
       "version_minor": 0
      },
      "text/plain": [
       "roll_out:   0%|          | 0/2048 [00:00<?, ?it/s]"
      ]
     },
     "metadata": {},
     "output_type": "display_data"
    },
    {
     "data": {
      "application/vnd.jupyter.widget-view+json": {
       "model_id": "1dcfbddd1ba3469a98728e1d0e9a2fc5",
       "version_major": 2,
       "version_minor": 0
      },
      "text/plain": [
       "roll_out:   0%|          | 0/2048 [00:00<?, ?it/s]"
      ]
     },
     "metadata": {},
     "output_type": "display_data"
    },
    {
     "data": {
      "application/vnd.jupyter.widget-view+json": {
       "model_id": "3ae785e996bc4b0db12d2141d531cdc3",
       "version_major": 2,
       "version_minor": 0
      },
      "text/plain": [
       "roll_out:   0%|          | 0/2048 [00:00<?, ?it/s]"
      ]
     },
     "metadata": {},
     "output_type": "display_data"
    },
    {
     "data": {
      "application/vnd.jupyter.widget-view+json": {
       "model_id": "1f04b3e87dae4a56ba2e9107206c9514",
       "version_major": 2,
       "version_minor": 0
      },
      "text/plain": [
       "roll_out:   0%|          | 0/2048 [00:00<?, ?it/s]"
      ]
     },
     "metadata": {},
     "output_type": "display_data"
    },
    {
     "data": {
      "application/vnd.jupyter.widget-view+json": {
       "model_id": "f98320233500487ebfee2922ceb8454d",
       "version_major": 2,
       "version_minor": 0
      },
      "text/plain": [
       "roll_out:   0%|          | 0/2048 [00:00<?, ?it/s]"
      ]
     },
     "metadata": {},
     "output_type": "display_data"
    },
    {
     "data": {
      "application/vnd.jupyter.widget-view+json": {
       "model_id": "6705f1608f694e5c9b052e092f2ba5af",
       "version_major": 2,
       "version_minor": 0
      },
      "text/plain": [
       "roll_out:   0%|          | 0/2048 [00:00<?, ?it/s]"
      ]
     },
     "metadata": {},
     "output_type": "display_data"
    },
    {
     "data": {
      "application/vnd.jupyter.widget-view+json": {
       "model_id": "c297cb4c764142c587a5a13bd6588f2f",
       "version_major": 2,
       "version_minor": 0
      },
      "text/plain": [
       "roll_out:   0%|          | 0/2048 [00:00<?, ?it/s]"
      ]
     },
     "metadata": {},
     "output_type": "display_data"
    },
    {
     "data": {
      "application/vnd.jupyter.widget-view+json": {
       "model_id": "24559a8abc19497b87e18b3a9f475431",
       "version_major": 2,
       "version_minor": 0
      },
      "text/plain": [
       "roll_out:   0%|          | 0/2048 [00:00<?, ?it/s]"
      ]
     },
     "metadata": {},
     "output_type": "display_data"
    },
    {
     "data": {
      "application/vnd.jupyter.widget-view+json": {
       "model_id": "70920e722873415aaf190da4ac088dc6",
       "version_major": 2,
       "version_minor": 0
      },
      "text/plain": [
       "roll_out:   0%|          | 0/2048 [00:00<?, ?it/s]"
      ]
     },
     "metadata": {},
     "output_type": "display_data"
    },
    {
     "data": {
      "application/vnd.jupyter.widget-view+json": {
       "model_id": "fc22f9dc11c04545b798768e68925555",
       "version_major": 2,
       "version_minor": 0
      },
      "text/plain": [
       "roll_out:   0%|          | 0/2048 [00:00<?, ?it/s]"
      ]
     },
     "metadata": {},
     "output_type": "display_data"
    },
    {
     "data": {
      "application/vnd.jupyter.widget-view+json": {
       "model_id": "76e6e523dce640ff884f9f796bf88350",
       "version_major": 2,
       "version_minor": 0
      },
      "text/plain": [
       "roll_out:   0%|          | 0/2048 [00:00<?, ?it/s]"
      ]
     },
     "metadata": {},
     "output_type": "display_data"
    },
    {
     "data": {
      "application/vnd.jupyter.widget-view+json": {
       "model_id": "f2abfd0c713b4ad5a4f19b69364a3869",
       "version_major": 2,
       "version_minor": 0
      },
      "text/plain": [
       "roll_out:   0%|          | 0/2048 [00:00<?, ?it/s]"
      ]
     },
     "metadata": {},
     "output_type": "display_data"
    },
    {
     "data": {
      "application/vnd.jupyter.widget-view+json": {
       "model_id": "8b706c438c644993a477063f777c454c",
       "version_major": 2,
       "version_minor": 0
      },
      "text/plain": [
       "roll_out:   0%|          | 0/2048 [00:00<?, ?it/s]"
      ]
     },
     "metadata": {},
     "output_type": "display_data"
    },
    {
     "data": {
      "application/vnd.jupyter.widget-view+json": {
       "model_id": "5fd7608746204a819180c87c630ea1f2",
       "version_major": 2,
       "version_minor": 0
      },
      "text/plain": [
       "roll_out:   0%|          | 0/2048 [00:00<?, ?it/s]"
      ]
     },
     "metadata": {},
     "output_type": "display_data"
    },
    {
     "data": {
      "application/vnd.jupyter.widget-view+json": {
       "model_id": "1de93f9d294040e2b6566ccfd41592b9",
       "version_major": 2,
       "version_minor": 0
      },
      "text/plain": [
       "roll_out:   0%|          | 0/2048 [00:00<?, ?it/s]"
      ]
     },
     "metadata": {},
     "output_type": "display_data"
    },
    {
     "data": {
      "application/vnd.jupyter.widget-view+json": {
       "model_id": "4308b34f94ba460cb09f02b675b87bc7",
       "version_major": 2,
       "version_minor": 0
      },
      "text/plain": [
       "roll_out:   0%|          | 0/2048 [00:00<?, ?it/s]"
      ]
     },
     "metadata": {},
     "output_type": "display_data"
    },
    {
     "data": {
      "application/vnd.jupyter.widget-view+json": {
       "model_id": "218b1555d79c476c95490680db82c901",
       "version_major": 2,
       "version_minor": 0
      },
      "text/plain": [
       "roll_out:   0%|          | 0/2048 [00:00<?, ?it/s]"
      ]
     },
     "metadata": {},
     "output_type": "display_data"
    },
    {
     "data": {
      "application/vnd.jupyter.widget-view+json": {
       "model_id": "a600a4aa4a15406d9e2504a131dd671f",
       "version_major": 2,
       "version_minor": 0
      },
      "text/plain": [
       "roll_out:   0%|          | 0/2048 [00:00<?, ?it/s]"
      ]
     },
     "metadata": {},
     "output_type": "display_data"
    },
    {
     "data": {
      "application/vnd.jupyter.widget-view+json": {
       "model_id": "4ab590e14d294046a497fd75c7ba4cbe",
       "version_major": 2,
       "version_minor": 0
      },
      "text/plain": [
       "roll_out:   0%|          | 0/2048 [00:00<?, ?it/s]"
      ]
     },
     "metadata": {},
     "output_type": "display_data"
    },
    {
     "data": {
      "application/vnd.jupyter.widget-view+json": {
       "model_id": "6bcc24e48f204530a36635013947d03b",
       "version_major": 2,
       "version_minor": 0
      },
      "text/plain": [
       "roll_out:   0%|          | 0/2048 [00:00<?, ?it/s]"
      ]
     },
     "metadata": {},
     "output_type": "display_data"
    },
    {
     "data": {
      "application/vnd.jupyter.widget-view+json": {
       "model_id": "43ebe68404b44881a0c45f9abb8f03f9",
       "version_major": 2,
       "version_minor": 0
      },
      "text/plain": [
       "roll_out:   0%|          | 0/2048 [00:00<?, ?it/s]"
      ]
     },
     "metadata": {},
     "output_type": "display_data"
    },
    {
     "data": {
      "application/vnd.jupyter.widget-view+json": {
       "model_id": "6cb8125de4c14eeaa30a153aaded69f2",
       "version_major": 2,
       "version_minor": 0
      },
      "text/plain": [
       "roll_out:   0%|          | 0/2048 [00:00<?, ?it/s]"
      ]
     },
     "metadata": {},
     "output_type": "display_data"
    },
    {
     "data": {
      "application/vnd.jupyter.widget-view+json": {
       "model_id": "06c7738d738f448dbc710ca02d653ba8",
       "version_major": 2,
       "version_minor": 0
      },
      "text/plain": [
       "roll_out:   0%|          | 0/2048 [00:00<?, ?it/s]"
      ]
     },
     "metadata": {},
     "output_type": "display_data"
    },
    {
     "data": {
      "application/vnd.jupyter.widget-view+json": {
       "model_id": "197e987160394369a609190aced98cfe",
       "version_major": 2,
       "version_minor": 0
      },
      "text/plain": [
       "roll_out:   0%|          | 0/2048 [00:00<?, ?it/s]"
      ]
     },
     "metadata": {},
     "output_type": "display_data"
    },
    {
     "data": {
      "application/vnd.jupyter.widget-view+json": {
       "model_id": "6831f566798a4b21879fbcdc3bf24c0a",
       "version_major": 2,
       "version_minor": 0
      },
      "text/plain": [
       "roll_out:   0%|          | 0/2048 [00:00<?, ?it/s]"
      ]
     },
     "metadata": {},
     "output_type": "display_data"
    },
    {
     "data": {
      "application/vnd.jupyter.widget-view+json": {
       "model_id": "a026955b3fc34a4a892c6ae849670c0d",
       "version_major": 2,
       "version_minor": 0
      },
      "text/plain": [
       "roll_out:   0%|          | 0/2048 [00:00<?, ?it/s]"
      ]
     },
     "metadata": {},
     "output_type": "display_data"
    },
    {
     "data": {
      "application/vnd.jupyter.widget-view+json": {
       "model_id": "583f3d9c277b46459fde5dcb8dfbdcbc",
       "version_major": 2,
       "version_minor": 0
      },
      "text/plain": [
       "roll_out:   0%|          | 0/2048 [00:00<?, ?it/s]"
      ]
     },
     "metadata": {},
     "output_type": "display_data"
    },
    {
     "data": {
      "application/vnd.jupyter.widget-view+json": {
       "model_id": "39e72e2ef32d4d7ab1701dcdb6d85ff2",
       "version_major": 2,
       "version_minor": 0
      },
      "text/plain": [
       "roll_out:   0%|          | 0/2048 [00:00<?, ?it/s]"
      ]
     },
     "metadata": {},
     "output_type": "display_data"
    },
    {
     "data": {
      "application/vnd.jupyter.widget-view+json": {
       "model_id": "224e51566476472d97ab843042bac70b",
       "version_major": 2,
       "version_minor": 0
      },
      "text/plain": [
       "roll_out:   0%|          | 0/2048 [00:00<?, ?it/s]"
      ]
     },
     "metadata": {},
     "output_type": "display_data"
    },
    {
     "data": {
      "application/vnd.jupyter.widget-view+json": {
       "model_id": "c6b539f0a31148138f72d43cfeb76049",
       "version_major": 2,
       "version_minor": 0
      },
      "text/plain": [
       "roll_out:   0%|          | 0/2048 [00:00<?, ?it/s]"
      ]
     },
     "metadata": {},
     "output_type": "display_data"
    },
    {
     "data": {
      "application/vnd.jupyter.widget-view+json": {
       "model_id": "4528796ee1854539bb3118e962662b46",
       "version_major": 2,
       "version_minor": 0
      },
      "text/plain": [
       "roll_out:   0%|          | 0/2048 [00:00<?, ?it/s]"
      ]
     },
     "metadata": {},
     "output_type": "display_data"
    },
    {
     "data": {
      "application/vnd.jupyter.widget-view+json": {
       "model_id": "07c341b4cb7346f4a389476072c42920",
       "version_major": 2,
       "version_minor": 0
      },
      "text/plain": [
       "roll_out:   0%|          | 0/2048 [00:00<?, ?it/s]"
      ]
     },
     "metadata": {},
     "output_type": "display_data"
    },
    {
     "data": {
      "application/vnd.jupyter.widget-view+json": {
       "model_id": "76a73554681f4186b69b9cfbb09e27dc",
       "version_major": 2,
       "version_minor": 0
      },
      "text/plain": [
       "roll_out:   0%|          | 0/2048 [00:00<?, ?it/s]"
      ]
     },
     "metadata": {},
     "output_type": "display_data"
    },
    {
     "data": {
      "application/vnd.jupyter.widget-view+json": {
       "model_id": "ca8eb16d52c444d39497ae1606bb6db7",
       "version_major": 2,
       "version_minor": 0
      },
      "text/plain": [
       "roll_out:   0%|          | 0/2048 [00:00<?, ?it/s]"
      ]
     },
     "metadata": {},
     "output_type": "display_data"
    },
    {
     "data": {
      "application/vnd.jupyter.widget-view+json": {
       "model_id": "a271dbdb270442fe868e4b4997cdc976",
       "version_major": 2,
       "version_minor": 0
      },
      "text/plain": [
       "roll_out:   0%|          | 0/2048 [00:00<?, ?it/s]"
      ]
     },
     "metadata": {},
     "output_type": "display_data"
    },
    {
     "data": {
      "application/vnd.jupyter.widget-view+json": {
       "model_id": "9d96f7c05da7464a95fbebf2bfcb2084",
       "version_major": 2,
       "version_minor": 0
      },
      "text/plain": [
       "roll_out:   0%|          | 0/2048 [00:00<?, ?it/s]"
      ]
     },
     "metadata": {},
     "output_type": "display_data"
    },
    {
     "data": {
      "application/vnd.jupyter.widget-view+json": {
       "model_id": "3d8dfa92de8341868196bc26fb310193",
       "version_major": 2,
       "version_minor": 0
      },
      "text/plain": [
       "roll_out:   0%|          | 0/2048 [00:00<?, ?it/s]"
      ]
     },
     "metadata": {},
     "output_type": "display_data"
    },
    {
     "data": {
      "application/vnd.jupyter.widget-view+json": {
       "model_id": "a8aae8fb5b8541169d6b4da29dd6ee56",
       "version_major": 2,
       "version_minor": 0
      },
      "text/plain": [
       "roll_out:   0%|          | 0/2048 [00:00<?, ?it/s]"
      ]
     },
     "metadata": {},
     "output_type": "display_data"
    },
    {
     "data": {
      "application/vnd.jupyter.widget-view+json": {
       "model_id": "eb0a058660d1445285f31d6f0c6da69c",
       "version_major": 2,
       "version_minor": 0
      },
      "text/plain": [
       "roll_out:   0%|          | 0/2048 [00:00<?, ?it/s]"
      ]
     },
     "metadata": {},
     "output_type": "display_data"
    },
    {
     "data": {
      "application/vnd.jupyter.widget-view+json": {
       "model_id": "a3ac1d32c9be4b5aa7900bf2560a40f0",
       "version_major": 2,
       "version_minor": 0
      },
      "text/plain": [
       "roll_out:   0%|          | 0/2048 [00:00<?, ?it/s]"
      ]
     },
     "metadata": {},
     "output_type": "display_data"
    },
    {
     "data": {
      "application/vnd.jupyter.widget-view+json": {
       "model_id": "25e096fce3e446e6a2f7653f5214863d",
       "version_major": 2,
       "version_minor": 0
      },
      "text/plain": [
       "roll_out:   0%|          | 0/2048 [00:00<?, ?it/s]"
      ]
     },
     "metadata": {},
     "output_type": "display_data"
    },
    {
     "data": {
      "application/vnd.jupyter.widget-view+json": {
       "model_id": "aa6cece914a5427683acc7624c0a3ce1",
       "version_major": 2,
       "version_minor": 0
      },
      "text/plain": [
       "roll_out:   0%|          | 0/2048 [00:00<?, ?it/s]"
      ]
     },
     "metadata": {},
     "output_type": "display_data"
    },
    {
     "data": {
      "application/vnd.jupyter.widget-view+json": {
       "model_id": "8023cb6878234f4db983fe09bfbcd848",
       "version_major": 2,
       "version_minor": 0
      },
      "text/plain": [
       "roll_out:   0%|          | 0/2048 [00:00<?, ?it/s]"
      ]
     },
     "metadata": {},
     "output_type": "display_data"
    },
    {
     "data": {
      "application/vnd.jupyter.widget-view+json": {
       "model_id": "d87c8911db254c99afd205a6f5e8f799",
       "version_major": 2,
       "version_minor": 0
      },
      "text/plain": [
       "roll_out:   0%|          | 0/2048 [00:00<?, ?it/s]"
      ]
     },
     "metadata": {},
     "output_type": "display_data"
    },
    {
     "data": {
      "application/vnd.jupyter.widget-view+json": {
       "model_id": "6d9a8604c6b943d0920f95103230dba0",
       "version_major": 2,
       "version_minor": 0
      },
      "text/plain": [
       "roll_out:   0%|          | 0/2048 [00:00<?, ?it/s]"
      ]
     },
     "metadata": {},
     "output_type": "display_data"
    },
    {
     "data": {
      "application/vnd.jupyter.widget-view+json": {
       "model_id": "d4639266bd27444a8d18b1936904ea19",
       "version_major": 2,
       "version_minor": 0
      },
      "text/plain": [
       "roll_out:   0%|          | 0/2048 [00:00<?, ?it/s]"
      ]
     },
     "metadata": {},
     "output_type": "display_data"
    },
    {
     "data": {
      "application/vnd.jupyter.widget-view+json": {
       "model_id": "3f5cbbed1f56426a82c52e82221467bb",
       "version_major": 2,
       "version_minor": 0
      },
      "text/plain": [
       "roll_out:   0%|          | 0/2048 [00:00<?, ?it/s]"
      ]
     },
     "metadata": {},
     "output_type": "display_data"
    },
    {
     "data": {
      "application/vnd.jupyter.widget-view+json": {
       "model_id": "caf5074219164499b6fd428035720a73",
       "version_major": 2,
       "version_minor": 0
      },
      "text/plain": [
       "roll_out:   0%|          | 0/2048 [00:00<?, ?it/s]"
      ]
     },
     "metadata": {},
     "output_type": "display_data"
    },
    {
     "data": {
      "application/vnd.jupyter.widget-view+json": {
       "model_id": "272fbabaf0e746949f909f6551f5068d",
       "version_major": 2,
       "version_minor": 0
      },
      "text/plain": [
       "roll_out:   0%|          | 0/2048 [00:00<?, ?it/s]"
      ]
     },
     "metadata": {},
     "output_type": "display_data"
    },
    {
     "data": {
      "application/vnd.jupyter.widget-view+json": {
       "model_id": "e4608a14cb46483ca32fb40b7ff344d6",
       "version_major": 2,
       "version_minor": 0
      },
      "text/plain": [
       "roll_out:   0%|          | 0/2048 [00:00<?, ?it/s]"
      ]
     },
     "metadata": {},
     "output_type": "display_data"
    },
    {
     "data": {
      "application/vnd.jupyter.widget-view+json": {
       "model_id": "9fe6a0843cd043ccbec98de8dbb88a1f",
       "version_major": 2,
       "version_minor": 0
      },
      "text/plain": [
       "roll_out:   0%|          | 0/2048 [00:00<?, ?it/s]"
      ]
     },
     "metadata": {},
     "output_type": "display_data"
    },
    {
     "data": {
      "application/vnd.jupyter.widget-view+json": {
       "model_id": "8b44c3c9530c4cbf810ae8971646c716",
       "version_major": 2,
       "version_minor": 0
      },
      "text/plain": [
       "roll_out:   0%|          | 0/2048 [00:00<?, ?it/s]"
      ]
     },
     "metadata": {},
     "output_type": "display_data"
    },
    {
     "data": {
      "application/vnd.jupyter.widget-view+json": {
       "model_id": "452517b404f44d5d80b4d1ca3caf5e27",
       "version_major": 2,
       "version_minor": 0
      },
      "text/plain": [
       "roll_out:   0%|          | 0/2048 [00:00<?, ?it/s]"
      ]
     },
     "metadata": {},
     "output_type": "display_data"
    },
    {
     "data": {
      "application/vnd.jupyter.widget-view+json": {
       "model_id": "0f3593ba88f34a878780386e708f5d0d",
       "version_major": 2,
       "version_minor": 0
      },
      "text/plain": [
       "roll_out:   0%|          | 0/2048 [00:00<?, ?it/s]"
      ]
     },
     "metadata": {},
     "output_type": "display_data"
    },
    {
     "data": {
      "application/vnd.jupyter.widget-view+json": {
       "model_id": "8a53942807654a978814154c736d13ee",
       "version_major": 2,
       "version_minor": 0
      },
      "text/plain": [
       "roll_out:   0%|          | 0/2048 [00:00<?, ?it/s]"
      ]
     },
     "metadata": {},
     "output_type": "display_data"
    },
    {
     "data": {
      "application/vnd.jupyter.widget-view+json": {
       "model_id": "d990d2175b17487a8daad0176b7e0bf8",
       "version_major": 2,
       "version_minor": 0
      },
      "text/plain": [
       "roll_out:   0%|          | 0/2048 [00:00<?, ?it/s]"
      ]
     },
     "metadata": {},
     "output_type": "display_data"
    },
    {
     "data": {
      "application/vnd.jupyter.widget-view+json": {
       "model_id": "848a82b1de5143efaa0ecd524be5f123",
       "version_major": 2,
       "version_minor": 0
      },
      "text/plain": [
       "roll_out:   0%|          | 0/2048 [00:00<?, ?it/s]"
      ]
     },
     "metadata": {},
     "output_type": "display_data"
    },
    {
     "data": {
      "application/vnd.jupyter.widget-view+json": {
       "model_id": "e93cefa0e2454cba86e96f82982ceaef",
       "version_major": 2,
       "version_minor": 0
      },
      "text/plain": [
       "roll_out:   0%|          | 0/2048 [00:00<?, ?it/s]"
      ]
     },
     "metadata": {},
     "output_type": "display_data"
    },
    {
     "data": {
      "application/vnd.jupyter.widget-view+json": {
       "model_id": "324d0f2d373643e9a1d238a59e924be9",
       "version_major": 2,
       "version_minor": 0
      },
      "text/plain": [
       "roll_out:   0%|          | 0/2048 [00:00<?, ?it/s]"
      ]
     },
     "metadata": {},
     "output_type": "display_data"
    },
    {
     "data": {
      "application/vnd.jupyter.widget-view+json": {
       "model_id": "aeb86d366e774f03bfa54ec74e20bc6a",
       "version_major": 2,
       "version_minor": 0
      },
      "text/plain": [
       "roll_out:   0%|          | 0/2048 [00:00<?, ?it/s]"
      ]
     },
     "metadata": {},
     "output_type": "display_data"
    },
    {
     "data": {
      "application/vnd.jupyter.widget-view+json": {
       "model_id": "7cfe1c0348734d26913ddd566597e54d",
       "version_major": 2,
       "version_minor": 0
      },
      "text/plain": [
       "roll_out:   0%|          | 0/2048 [00:00<?, ?it/s]"
      ]
     },
     "metadata": {},
     "output_type": "display_data"
    },
    {
     "data": {
      "application/vnd.jupyter.widget-view+json": {
       "model_id": "fd78247ea4234ee0a87cdcdbb3c99279",
       "version_major": 2,
       "version_minor": 0
      },
      "text/plain": [
       "roll_out:   0%|          | 0/2048 [00:00<?, ?it/s]"
      ]
     },
     "metadata": {},
     "output_type": "display_data"
    },
    {
     "data": {
      "application/vnd.jupyter.widget-view+json": {
       "model_id": "b393563663844e85a35b517babb7ca2c",
       "version_major": 2,
       "version_minor": 0
      },
      "text/plain": [
       "roll_out:   0%|          | 0/2048 [00:00<?, ?it/s]"
      ]
     },
     "metadata": {},
     "output_type": "display_data"
    },
    {
     "data": {
      "application/vnd.jupyter.widget-view+json": {
       "model_id": "f5970b394f1c48f8bbb25c072c872708",
       "version_major": 2,
       "version_minor": 0
      },
      "text/plain": [
       "roll_out:   0%|          | 0/2048 [00:00<?, ?it/s]"
      ]
     },
     "metadata": {},
     "output_type": "display_data"
    },
    {
     "data": {
      "application/vnd.jupyter.widget-view+json": {
       "model_id": "d53d090d687f4b9abe036454cc2d8d3c",
       "version_major": 2,
       "version_minor": 0
      },
      "text/plain": [
       "roll_out:   0%|          | 0/2048 [00:00<?, ?it/s]"
      ]
     },
     "metadata": {},
     "output_type": "display_data"
    },
    {
     "data": {
      "application/vnd.jupyter.widget-view+json": {
       "model_id": "5399f862e74647ba84f2e4b43a297091",
       "version_major": 2,
       "version_minor": 0
      },
      "text/plain": [
       "roll_out:   0%|          | 0/2048 [00:00<?, ?it/s]"
      ]
     },
     "metadata": {},
     "output_type": "display_data"
    },
    {
     "data": {
      "application/vnd.jupyter.widget-view+json": {
       "model_id": "94056450904647098a58ca59853b891e",
       "version_major": 2,
       "version_minor": 0
      },
      "text/plain": [
       "roll_out:   0%|          | 0/2048 [00:00<?, ?it/s]"
      ]
     },
     "metadata": {},
     "output_type": "display_data"
    },
    {
     "data": {
      "application/vnd.jupyter.widget-view+json": {
       "model_id": "209491b187f544d0a93f56348f10812b",
       "version_major": 2,
       "version_minor": 0
      },
      "text/plain": [
       "roll_out:   0%|          | 0/2048 [00:00<?, ?it/s]"
      ]
     },
     "metadata": {},
     "output_type": "display_data"
    },
    {
     "data": {
      "application/vnd.jupyter.widget-view+json": {
       "model_id": "21307139029846bb9a3adccd83839389",
       "version_major": 2,
       "version_minor": 0
      },
      "text/plain": [
       "roll_out:   0%|          | 0/2048 [00:00<?, ?it/s]"
      ]
     },
     "metadata": {},
     "output_type": "display_data"
    },
    {
     "data": {
      "application/vnd.jupyter.widget-view+json": {
       "model_id": "49ac15cd5df94afe96d65d12d4600c20",
       "version_major": 2,
       "version_minor": 0
      },
      "text/plain": [
       "roll_out:   0%|          | 0/2048 [00:00<?, ?it/s]"
      ]
     },
     "metadata": {},
     "output_type": "display_data"
    },
    {
     "data": {
      "application/vnd.jupyter.widget-view+json": {
       "model_id": "944ce3e7d0df4c87a8d4d8225fd3ae0a",
       "version_major": 2,
       "version_minor": 0
      },
      "text/plain": [
       "roll_out:   0%|          | 0/2048 [00:00<?, ?it/s]"
      ]
     },
     "metadata": {},
     "output_type": "display_data"
    },
    {
     "data": {
      "application/vnd.jupyter.widget-view+json": {
       "model_id": "0376fb495dcf4e22989e407ceb594f40",
       "version_major": 2,
       "version_minor": 0
      },
      "text/plain": [
       "roll_out:   0%|          | 0/2048 [00:00<?, ?it/s]"
      ]
     },
     "metadata": {},
     "output_type": "display_data"
    },
    {
     "data": {
      "application/vnd.jupyter.widget-view+json": {
       "model_id": "be50fc7b291747ab86b69bf75df587c1",
       "version_major": 2,
       "version_minor": 0
      },
      "text/plain": [
       "roll_out:   0%|          | 0/2048 [00:00<?, ?it/s]"
      ]
     },
     "metadata": {},
     "output_type": "display_data"
    },
    {
     "data": {
      "application/vnd.jupyter.widget-view+json": {
       "model_id": "e1ed3e2dced8434f86da61a4b6a39a49",
       "version_major": 2,
       "version_minor": 0
      },
      "text/plain": [
       "roll_out:   0%|          | 0/2048 [00:00<?, ?it/s]"
      ]
     },
     "metadata": {},
     "output_type": "display_data"
    },
    {
     "data": {
      "application/vnd.jupyter.widget-view+json": {
       "model_id": "0c5d0e8e289f4dff8560448fb84dcdea",
       "version_major": 2,
       "version_minor": 0
      },
      "text/plain": [
       "roll_out:   0%|          | 0/2048 [00:00<?, ?it/s]"
      ]
     },
     "metadata": {},
     "output_type": "display_data"
    },
    {
     "data": {
      "application/vnd.jupyter.widget-view+json": {
       "model_id": "d8c12f48f8644f119fa791ce3942f8e0",
       "version_major": 2,
       "version_minor": 0
      },
      "text/plain": [
       "roll_out:   0%|          | 0/2048 [00:00<?, ?it/s]"
      ]
     },
     "metadata": {},
     "output_type": "display_data"
    },
    {
     "data": {
      "application/vnd.jupyter.widget-view+json": {
       "model_id": "f187036a20d44e648839d6380ac06c31",
       "version_major": 2,
       "version_minor": 0
      },
      "text/plain": [
       "roll_out:   0%|          | 0/2048 [00:00<?, ?it/s]"
      ]
     },
     "metadata": {},
     "output_type": "display_data"
    },
    {
     "data": {
      "application/vnd.jupyter.widget-view+json": {
       "model_id": "2d13f9b6d0ce481e85f63d1c053f1910",
       "version_major": 2,
       "version_minor": 0
      },
      "text/plain": [
       "roll_out:   0%|          | 0/2048 [00:00<?, ?it/s]"
      ]
     },
     "metadata": {},
     "output_type": "display_data"
    },
    {
     "data": {
      "application/vnd.jupyter.widget-view+json": {
       "model_id": "ce6643b826da4ff0b3e014beb21ff56e",
       "version_major": 2,
       "version_minor": 0
      },
      "text/plain": [
       "roll_out:   0%|          | 0/2048 [00:00<?, ?it/s]"
      ]
     },
     "metadata": {},
     "output_type": "display_data"
    },
    {
     "data": {
      "application/vnd.jupyter.widget-view+json": {
       "model_id": "955582c699a5448d8be87eff27597020",
       "version_major": 2,
       "version_minor": 0
      },
      "text/plain": [
       "roll_out:   0%|          | 0/2048 [00:00<?, ?it/s]"
      ]
     },
     "metadata": {},
     "output_type": "display_data"
    },
    {
     "data": {
      "application/vnd.jupyter.widget-view+json": {
       "model_id": "8f9570f326c846e3a68115d860350f18",
       "version_major": 2,
       "version_minor": 0
      },
      "text/plain": [
       "roll_out:   0%|          | 0/2048 [00:00<?, ?it/s]"
      ]
     },
     "metadata": {},
     "output_type": "display_data"
    },
    {
     "data": {
      "application/vnd.jupyter.widget-view+json": {
       "model_id": "5ea2576ec2184cbcaa310421bb66c807",
       "version_major": 2,
       "version_minor": 0
      },
      "text/plain": [
       "roll_out:   0%|          | 0/2048 [00:00<?, ?it/s]"
      ]
     },
     "metadata": {},
     "output_type": "display_data"
    },
    {
     "data": {
      "application/vnd.jupyter.widget-view+json": {
       "model_id": "0aebb9ea556b48e1bd66609380015803",
       "version_major": 2,
       "version_minor": 0
      },
      "text/plain": [
       "roll_out:   0%|          | 0/2048 [00:00<?, ?it/s]"
      ]
     },
     "metadata": {},
     "output_type": "display_data"
    },
    {
     "data": {
      "application/vnd.jupyter.widget-view+json": {
       "model_id": "59f20f7adf524ae5b178989ec0a9c2e6",
       "version_major": 2,
       "version_minor": 0
      },
      "text/plain": [
       "roll_out:   0%|          | 0/2048 [00:00<?, ?it/s]"
      ]
     },
     "metadata": {},
     "output_type": "display_data"
    },
    {
     "data": {
      "application/vnd.jupyter.widget-view+json": {
       "model_id": "4af842f951ac4ae98fde6df1fb85d1cc",
       "version_major": 2,
       "version_minor": 0
      },
      "text/plain": [
       "roll_out:   0%|          | 0/2048 [00:00<?, ?it/s]"
      ]
     },
     "metadata": {},
     "output_type": "display_data"
    },
    {
     "data": {
      "application/vnd.jupyter.widget-view+json": {
       "model_id": "163872b823054a79affd79a0a405b395",
       "version_major": 2,
       "version_minor": 0
      },
      "text/plain": [
       "roll_out:   0%|          | 0/2048 [00:00<?, ?it/s]"
      ]
     },
     "metadata": {},
     "output_type": "display_data"
    },
    {
     "data": {
      "application/vnd.jupyter.widget-view+json": {
       "model_id": "7697f32c46b54c2dae26a2d57633276c",
       "version_major": 2,
       "version_minor": 0
      },
      "text/plain": [
       "roll_out:   0%|          | 0/2048 [00:00<?, ?it/s]"
      ]
     },
     "metadata": {},
     "output_type": "display_data"
    },
    {
     "data": {
      "application/vnd.jupyter.widget-view+json": {
       "model_id": "5ace553a9b6744728ab9e965f67d8f52",
       "version_major": 2,
       "version_minor": 0
      },
      "text/plain": [
       "roll_out:   0%|          | 0/2048 [00:00<?, ?it/s]"
      ]
     },
     "metadata": {},
     "output_type": "display_data"
    },
    {
     "data": {
      "application/vnd.jupyter.widget-view+json": {
       "model_id": "32f84140961748129737e9c76b062519",
       "version_major": 2,
       "version_minor": 0
      },
      "text/plain": [
       "roll_out:   0%|          | 0/2048 [00:00<?, ?it/s]"
      ]
     },
     "metadata": {},
     "output_type": "display_data"
    },
    {
     "data": {
      "application/vnd.jupyter.widget-view+json": {
       "model_id": "fc9bfea45a3b4f14865786e84971bc90",
       "version_major": 2,
       "version_minor": 0
      },
      "text/plain": [
       "roll_out:   0%|          | 0/2048 [00:00<?, ?it/s]"
      ]
     },
     "metadata": {},
     "output_type": "display_data"
    },
    {
     "data": {
      "application/vnd.jupyter.widget-view+json": {
       "model_id": "57ebc75abcf442a39b864a8e25838c4f",
       "version_major": 2,
       "version_minor": 0
      },
      "text/plain": [
       "roll_out:   0%|          | 0/2048 [00:00<?, ?it/s]"
      ]
     },
     "metadata": {},
     "output_type": "display_data"
    },
    {
     "data": {
      "application/vnd.jupyter.widget-view+json": {
       "model_id": "173ae4a0e1934734aa5c1612187b1785",
       "version_major": 2,
       "version_minor": 0
      },
      "text/plain": [
       "roll_out:   0%|          | 0/2048 [00:00<?, ?it/s]"
      ]
     },
     "metadata": {},
     "output_type": "display_data"
    },
    {
     "data": {
      "application/vnd.jupyter.widget-view+json": {
       "model_id": "04cd5316601345f590eed6e4c3f19b34",
       "version_major": 2,
       "version_minor": 0
      },
      "text/plain": [
       "roll_out:   0%|          | 0/2048 [00:00<?, ?it/s]"
      ]
     },
     "metadata": {},
     "output_type": "display_data"
    },
    {
     "data": {
      "application/vnd.jupyter.widget-view+json": {
       "model_id": "d687df1426524fdd9cb20a521cadf7a7",
       "version_major": 2,
       "version_minor": 0
      },
      "text/plain": [
       "roll_out:   0%|          | 0/2048 [00:00<?, ?it/s]"
      ]
     },
     "metadata": {},
     "output_type": "display_data"
    },
    {
     "data": {
      "application/vnd.jupyter.widget-view+json": {
       "model_id": "f3f295b72fe54cda9c15d10c50599e90",
       "version_major": 2,
       "version_minor": 0
      },
      "text/plain": [
       "roll_out:   0%|          | 0/2048 [00:00<?, ?it/s]"
      ]
     },
     "metadata": {},
     "output_type": "display_data"
    },
    {
     "data": {
      "application/vnd.jupyter.widget-view+json": {
       "model_id": "12cb9292b1364a4ab577b3d09c658b10",
       "version_major": 2,
       "version_minor": 0
      },
      "text/plain": [
       "roll_out:   0%|          | 0/2048 [00:00<?, ?it/s]"
      ]
     },
     "metadata": {},
     "output_type": "display_data"
    },
    {
     "data": {
      "application/vnd.jupyter.widget-view+json": {
       "model_id": "6238539ac3f1494596b28d54782f203e",
       "version_major": 2,
       "version_minor": 0
      },
      "text/plain": [
       "roll_out:   0%|          | 0/2048 [00:00<?, ?it/s]"
      ]
     },
     "metadata": {},
     "output_type": "display_data"
    },
    {
     "data": {
      "application/vnd.jupyter.widget-view+json": {
       "model_id": "607f1b7cae674684806d7393de2e101c",
       "version_major": 2,
       "version_minor": 0
      },
      "text/plain": [
       "roll_out:   0%|          | 0/2048 [00:00<?, ?it/s]"
      ]
     },
     "metadata": {},
     "output_type": "display_data"
    },
    {
     "data": {
      "application/vnd.jupyter.widget-view+json": {
       "model_id": "7557b9222fec4e5a99bddc757386ecec",
       "version_major": 2,
       "version_minor": 0
      },
      "text/plain": [
       "roll_out:   0%|          | 0/2048 [00:00<?, ?it/s]"
      ]
     },
     "metadata": {},
     "output_type": "display_data"
    },
    {
     "data": {
      "application/vnd.jupyter.widget-view+json": {
       "model_id": "899188b6639e4ddbb0c0e354f3fc5d43",
       "version_major": 2,
       "version_minor": 0
      },
      "text/plain": [
       "roll_out:   0%|          | 0/2048 [00:00<?, ?it/s]"
      ]
     },
     "metadata": {},
     "output_type": "display_data"
    },
    {
     "data": {
      "application/vnd.jupyter.widget-view+json": {
       "model_id": "a0e094f93139436eb38fe5f36e34d40a",
       "version_major": 2,
       "version_minor": 0
      },
      "text/plain": [
       "roll_out:   0%|          | 0/2048 [00:00<?, ?it/s]"
      ]
     },
     "metadata": {},
     "output_type": "display_data"
    },
    {
     "data": {
      "application/vnd.jupyter.widget-view+json": {
       "model_id": "bc5dfed069284923a62eacef1bdb8298",
       "version_major": 2,
       "version_minor": 0
      },
      "text/plain": [
       "roll_out:   0%|          | 0/2048 [00:00<?, ?it/s]"
      ]
     },
     "metadata": {},
     "output_type": "display_data"
    },
    {
     "data": {
      "application/vnd.jupyter.widget-view+json": {
       "model_id": "9cd90b5c39034dd6b780990a111e9856",
       "version_major": 2,
       "version_minor": 0
      },
      "text/plain": [
       "roll_out:   0%|          | 0/2048 [00:00<?, ?it/s]"
      ]
     },
     "metadata": {},
     "output_type": "display_data"
    },
    {
     "data": {
      "application/vnd.jupyter.widget-view+json": {
       "model_id": "1d7a4e5ed27a4d749a865eee8e115a01",
       "version_major": 2,
       "version_minor": 0
      },
      "text/plain": [
       "roll_out:   0%|          | 0/2048 [00:00<?, ?it/s]"
      ]
     },
     "metadata": {},
     "output_type": "display_data"
    },
    {
     "data": {
      "application/vnd.jupyter.widget-view+json": {
       "model_id": "b6d8e84f89284c5d9e4cc7dcc9365e85",
       "version_major": 2,
       "version_minor": 0
      },
      "text/plain": [
       "roll_out:   0%|          | 0/2048 [00:00<?, ?it/s]"
      ]
     },
     "metadata": {},
     "output_type": "display_data"
    },
    {
     "data": {
      "application/vnd.jupyter.widget-view+json": {
       "model_id": "a3e88426359f44199ded91442dd2a43a",
       "version_major": 2,
       "version_minor": 0
      },
      "text/plain": [
       "roll_out:   0%|          | 0/2048 [00:00<?, ?it/s]"
      ]
     },
     "metadata": {},
     "output_type": "display_data"
    },
    {
     "data": {
      "application/vnd.jupyter.widget-view+json": {
       "model_id": "35632c7b490f444a841565dcdafa5982",
       "version_major": 2,
       "version_minor": 0
      },
      "text/plain": [
       "roll_out:   0%|          | 0/2048 [00:00<?, ?it/s]"
      ]
     },
     "metadata": {},
     "output_type": "display_data"
    },
    {
     "data": {
      "application/vnd.jupyter.widget-view+json": {
       "model_id": "1cbdbf757dc04653afc7cea3bdffceea",
       "version_major": 2,
       "version_minor": 0
      },
      "text/plain": [
       "roll_out:   0%|          | 0/2048 [00:00<?, ?it/s]"
      ]
     },
     "metadata": {},
     "output_type": "display_data"
    },
    {
     "data": {
      "application/vnd.jupyter.widget-view+json": {
       "model_id": "c85401dc8f194b84aa969d85211fcac2",
       "version_major": 2,
       "version_minor": 0
      },
      "text/plain": [
       "roll_out:   0%|          | 0/2048 [00:00<?, ?it/s]"
      ]
     },
     "metadata": {},
     "output_type": "display_data"
    },
    {
     "data": {
      "application/vnd.jupyter.widget-view+json": {
       "model_id": "b3676a5da70f419787ac30d40c689aa6",
       "version_major": 2,
       "version_minor": 0
      },
      "text/plain": [
       "roll_out:   0%|          | 0/2048 [00:00<?, ?it/s]"
      ]
     },
     "metadata": {},
     "output_type": "display_data"
    },
    {
     "data": {
      "application/vnd.jupyter.widget-view+json": {
       "model_id": "0730da86d0f84652802e68cf59a31324",
       "version_major": 2,
       "version_minor": 0
      },
      "text/plain": [
       "roll_out:   0%|          | 0/2048 [00:00<?, ?it/s]"
      ]
     },
     "metadata": {},
     "output_type": "display_data"
    },
    {
     "data": {
      "application/vnd.jupyter.widget-view+json": {
       "model_id": "eaea626b11c44b2990cc876bde5949df",
       "version_major": 2,
       "version_minor": 0
      },
      "text/plain": [
       "roll_out:   0%|          | 0/2048 [00:00<?, ?it/s]"
      ]
     },
     "metadata": {},
     "output_type": "display_data"
    },
    {
     "data": {
      "application/vnd.jupyter.widget-view+json": {
       "model_id": "aaf066aaf0044458b2fec643c9c58c15",
       "version_major": 2,
       "version_minor": 0
      },
      "text/plain": [
       "roll_out:   0%|          | 0/2048 [00:00<?, ?it/s]"
      ]
     },
     "metadata": {},
     "output_type": "display_data"
    },
    {
     "data": {
      "application/vnd.jupyter.widget-view+json": {
       "model_id": "1598b06e0ca24e8cb953a2e4ca405da6",
       "version_major": 2,
       "version_minor": 0
      },
      "text/plain": [
       "roll_out:   0%|          | 0/2048 [00:00<?, ?it/s]"
      ]
     },
     "metadata": {},
     "output_type": "display_data"
    },
    {
     "data": {
      "application/vnd.jupyter.widget-view+json": {
       "model_id": "6e504fd8661949b58cadf7b9bb50484b",
       "version_major": 2,
       "version_minor": 0
      },
      "text/plain": [
       "roll_out:   0%|          | 0/2048 [00:00<?, ?it/s]"
      ]
     },
     "metadata": {},
     "output_type": "display_data"
    },
    {
     "data": {
      "application/vnd.jupyter.widget-view+json": {
       "model_id": "841cb73d45724ee99ef8e082d9df385a",
       "version_major": 2,
       "version_minor": 0
      },
      "text/plain": [
       "roll_out:   0%|          | 0/2048 [00:00<?, ?it/s]"
      ]
     },
     "metadata": {},
     "output_type": "display_data"
    },
    {
     "data": {
      "application/vnd.jupyter.widget-view+json": {
       "model_id": "d9ab39335012401fbb0ddf1fa4f68fd4",
       "version_major": 2,
       "version_minor": 0
      },
      "text/plain": [
       "roll_out:   0%|          | 0/2048 [00:00<?, ?it/s]"
      ]
     },
     "metadata": {},
     "output_type": "display_data"
    },
    {
     "data": {
      "application/vnd.jupyter.widget-view+json": {
       "model_id": "8c49fb082bd34b2d99223cafbd51e114",
       "version_major": 2,
       "version_minor": 0
      },
      "text/plain": [
       "roll_out:   0%|          | 0/2048 [00:00<?, ?it/s]"
      ]
     },
     "metadata": {},
     "output_type": "display_data"
    },
    {
     "data": {
      "application/vnd.jupyter.widget-view+json": {
       "model_id": "86b5f6221c944c209ae36ecaa0e5bfe3",
       "version_major": 2,
       "version_minor": 0
      },
      "text/plain": [
       "roll_out:   0%|          | 0/2048 [00:00<?, ?it/s]"
      ]
     },
     "metadata": {},
     "output_type": "display_data"
    },
    {
     "data": {
      "application/vnd.jupyter.widget-view+json": {
       "model_id": "8abe6e34f6ed4e55b6b99b2744226874",
       "version_major": 2,
       "version_minor": 0
      },
      "text/plain": [
       "roll_out:   0%|          | 0/2048 [00:00<?, ?it/s]"
      ]
     },
     "metadata": {},
     "output_type": "display_data"
    },
    {
     "data": {
      "application/vnd.jupyter.widget-view+json": {
       "model_id": "b19c262400f548a09548d5d712b89d84",
       "version_major": 2,
       "version_minor": 0
      },
      "text/plain": [
       "roll_out:   0%|          | 0/2048 [00:00<?, ?it/s]"
      ]
     },
     "metadata": {},
     "output_type": "display_data"
    },
    {
     "data": {
      "application/vnd.jupyter.widget-view+json": {
       "model_id": "6a1866fd23a84216a9542b46c7567984",
       "version_major": 2,
       "version_minor": 0
      },
      "text/plain": [
       "roll_out:   0%|          | 0/2048 [00:00<?, ?it/s]"
      ]
     },
     "metadata": {},
     "output_type": "display_data"
    },
    {
     "data": {
      "application/vnd.jupyter.widget-view+json": {
       "model_id": "aca92ed65e154ff89cb2b9228a1cd375",
       "version_major": 2,
       "version_minor": 0
      },
      "text/plain": [
       "roll_out:   0%|          | 0/2048 [00:00<?, ?it/s]"
      ]
     },
     "metadata": {},
     "output_type": "display_data"
    },
    {
     "data": {
      "application/vnd.jupyter.widget-view+json": {
       "model_id": "e9ba28b051a64fd7a666aaacde3c299e",
       "version_major": 2,
       "version_minor": 0
      },
      "text/plain": [
       "roll_out:   0%|          | 0/2048 [00:00<?, ?it/s]"
      ]
     },
     "metadata": {},
     "output_type": "display_data"
    },
    {
     "data": {
      "application/vnd.jupyter.widget-view+json": {
       "model_id": "6a33d74e77c640afb363a05e0ebb0e0d",
       "version_major": 2,
       "version_minor": 0
      },
      "text/plain": [
       "roll_out:   0%|          | 0/2048 [00:00<?, ?it/s]"
      ]
     },
     "metadata": {},
     "output_type": "display_data"
    },
    {
     "data": {
      "application/vnd.jupyter.widget-view+json": {
       "model_id": "2c3a41eac84046068aa4b1c7dde48a7d",
       "version_major": 2,
       "version_minor": 0
      },
      "text/plain": [
       "roll_out:   0%|          | 0/2048 [00:00<?, ?it/s]"
      ]
     },
     "metadata": {},
     "output_type": "display_data"
    },
    {
     "data": {
      "application/vnd.jupyter.widget-view+json": {
       "model_id": "2fe23bf7af04458b8fb4674854d55bf8",
       "version_major": 2,
       "version_minor": 0
      },
      "text/plain": [
       "roll_out:   0%|          | 0/2048 [00:00<?, ?it/s]"
      ]
     },
     "metadata": {},
     "output_type": "display_data"
    },
    {
     "data": {
      "application/vnd.jupyter.widget-view+json": {
       "model_id": "650db8c10d144ce9a6b0fdf262383e85",
       "version_major": 2,
       "version_minor": 0
      },
      "text/plain": [
       "roll_out:   0%|          | 0/2048 [00:00<?, ?it/s]"
      ]
     },
     "metadata": {},
     "output_type": "display_data"
    },
    {
     "data": {
      "application/vnd.jupyter.widget-view+json": {
       "model_id": "9bca6c8285a041648f3626bc7cd9265d",
       "version_major": 2,
       "version_minor": 0
      },
      "text/plain": [
       "roll_out:   0%|          | 0/2048 [00:00<?, ?it/s]"
      ]
     },
     "metadata": {},
     "output_type": "display_data"
    },
    {
     "data": {
      "application/vnd.jupyter.widget-view+json": {
       "model_id": "d163f01a35eb4f0699844f61c74d0f79",
       "version_major": 2,
       "version_minor": 0
      },
      "text/plain": [
       "roll_out:   0%|          | 0/2048 [00:00<?, ?it/s]"
      ]
     },
     "metadata": {},
     "output_type": "display_data"
    },
    {
     "data": {
      "application/vnd.jupyter.widget-view+json": {
       "model_id": "0223219f32b549df8b9e569f01d1c920",
       "version_major": 2,
       "version_minor": 0
      },
      "text/plain": [
       "roll_out:   0%|          | 0/2048 [00:00<?, ?it/s]"
      ]
     },
     "metadata": {},
     "output_type": "display_data"
    },
    {
     "data": {
      "application/vnd.jupyter.widget-view+json": {
       "model_id": "4ce82fa09eaa44a68650a8baebec98fb",
       "version_major": 2,
       "version_minor": 0
      },
      "text/plain": [
       "roll_out:   0%|          | 0/2048 [00:00<?, ?it/s]"
      ]
     },
     "metadata": {},
     "output_type": "display_data"
    },
    {
     "data": {
      "application/vnd.jupyter.widget-view+json": {
       "model_id": "31c3bd22b24a4f8a9704241054c3ac0f",
       "version_major": 2,
       "version_minor": 0
      },
      "text/plain": [
       "roll_out:   0%|          | 0/2048 [00:00<?, ?it/s]"
      ]
     },
     "metadata": {},
     "output_type": "display_data"
    },
    {
     "data": {
      "application/vnd.jupyter.widget-view+json": {
       "model_id": "7dfd5bc2babb4f47a47de7d110313611",
       "version_major": 2,
       "version_minor": 0
      },
      "text/plain": [
       "roll_out:   0%|          | 0/2048 [00:00<?, ?it/s]"
      ]
     },
     "metadata": {},
     "output_type": "display_data"
    },
    {
     "data": {
      "application/vnd.jupyter.widget-view+json": {
       "model_id": "83d2b2d456d54db5995d447c0b799ebc",
       "version_major": 2,
       "version_minor": 0
      },
      "text/plain": [
       "roll_out:   0%|          | 0/2048 [00:00<?, ?it/s]"
      ]
     },
     "metadata": {},
     "output_type": "display_data"
    },
    {
     "data": {
      "application/vnd.jupyter.widget-view+json": {
       "model_id": "435aa471cf6641d1964ddd1a4c441a04",
       "version_major": 2,
       "version_minor": 0
      },
      "text/plain": [
       "roll_out:   0%|          | 0/2048 [00:00<?, ?it/s]"
      ]
     },
     "metadata": {},
     "output_type": "display_data"
    },
    {
     "data": {
      "application/vnd.jupyter.widget-view+json": {
       "model_id": "31a0ec56b49a4910838a5b995dae279e",
       "version_major": 2,
       "version_minor": 0
      },
      "text/plain": [
       "roll_out:   0%|          | 0/2048 [00:00<?, ?it/s]"
      ]
     },
     "metadata": {},
     "output_type": "display_data"
    },
    {
     "data": {
      "application/vnd.jupyter.widget-view+json": {
       "model_id": "3bf107ef946141849d9168cd0c65819d",
       "version_major": 2,
       "version_minor": 0
      },
      "text/plain": [
       "roll_out:   0%|          | 0/2048 [00:00<?, ?it/s]"
      ]
     },
     "metadata": {},
     "output_type": "display_data"
    },
    {
     "data": {
      "application/vnd.jupyter.widget-view+json": {
       "model_id": "6d5f52669068479bb5e95b3fd64225db",
       "version_major": 2,
       "version_minor": 0
      },
      "text/plain": [
       "roll_out:   0%|          | 0/2048 [00:00<?, ?it/s]"
      ]
     },
     "metadata": {},
     "output_type": "display_data"
    },
    {
     "data": {
      "application/vnd.jupyter.widget-view+json": {
       "model_id": "503e769d368247aeaa996ccf11a3755a",
       "version_major": 2,
       "version_minor": 0
      },
      "text/plain": [
       "roll_out:   0%|          | 0/2048 [00:00<?, ?it/s]"
      ]
     },
     "metadata": {},
     "output_type": "display_data"
    },
    {
     "data": {
      "application/vnd.jupyter.widget-view+json": {
       "model_id": "1308b727f93a4d7c8c49dfade1fba4f9",
       "version_major": 2,
       "version_minor": 0
      },
      "text/plain": [
       "roll_out:   0%|          | 0/2048 [00:00<?, ?it/s]"
      ]
     },
     "metadata": {},
     "output_type": "display_data"
    },
    {
     "ename": "RuntimeError",
     "evalue": "Can't call numpy() on Tensor that requires grad. Use tensor.detach().numpy() instead.",
     "output_type": "error",
     "traceback": [
      "\u001b[0;31m---------------------------------------------------------------------------\u001b[0m",
      "\u001b[0;31mRuntimeError\u001b[0m                              Traceback (most recent call last)",
      "Cell \u001b[0;32mIn[14], line 2\u001b[0m\n\u001b[1;32m      1\u001b[0m \u001b[39m# %%wandb\u001b[39;00m\n\u001b[0;32m----> 2\u001b[0m main()\n",
      "Cell \u001b[0;32mIn[13], line 104\u001b[0m, in \u001b[0;36mmain\u001b[0;34m()\u001b[0m\n\u001b[1;32m     99\u001b[0m my_ppo \u001b[39m=\u001b[39m PPO(gamma, lamb, eps_clip, k_epochs, env\u001b[39m.\u001b[39mobservation_space, env\u001b[39m.\u001b[39maction_space, num_cells,\\\n\u001b[1;32m    100\u001b[0m              actor_lr, critic_lr, memory_size, minibatch_size, max_training_iter, \\\n\u001b[1;32m    101\u001b[0m              cal_total_loss, c1, c2, early_stop, kl_threshold, parameters_hardshare, max_grad_norm, device)\n\u001b[1;32m    103\u001b[0m my_ppo\u001b[39m.\u001b[39mtrain(env)\n\u001b[0;32m--> 104\u001b[0m my_ppo\u001b[39m.\u001b[39;49mevaluate_recording(recording_env)\n\u001b[1;32m    106\u001b[0m env\u001b[39m.\u001b[39mclose()\n\u001b[1;32m    107\u001b[0m recording_env\u001b[39m.\u001b[39mclose()\n",
      "Cell \u001b[0;32mIn[11], line 156\u001b[0m, in \u001b[0;36mPPO.evaluate_recording\u001b[0;34m(self, env)\u001b[0m\n\u001b[1;32m    153\u001b[0m \u001b[39mwhile\u001b[39;00m \u001b[39mnot\u001b[39;00m done:\n\u001b[1;32m    154\u001b[0m     obs_tensor \u001b[39m=\u001b[39m torch\u001b[39m.\u001b[39mtensor(obs, \\\n\u001b[1;32m    155\u001b[0m                             dtype\u001b[39m=\u001b[39mtorch\u001b[39m.\u001b[39mfloat32, device\u001b[39m=\u001b[39m\u001b[39mself\u001b[39m\u001b[39m.\u001b[39mdevice)\u001b[39m.\u001b[39munsqueeze(\u001b[39m0\u001b[39m)\n\u001b[0;32m--> 156\u001b[0m     action, _, _ \u001b[39m=\u001b[39m \u001b[39mself\u001b[39;49m\u001b[39m.\u001b[39;49mactor_critic\u001b[39m.\u001b[39;49mact(obs_tensor)\n\u001b[1;32m    157\u001b[0m     action \u001b[39m=\u001b[39m action\u001b[39m.\u001b[39mreshape(action_shape)\n\u001b[1;32m    158\u001b[0m     next_obs, reward, terminated, truncated, _ \u001b[39m=\u001b[39m env\u001b[39m.\u001b[39mstep(action)\n",
      "Cell \u001b[0;32mIn[10], line 148\u001b[0m, in \u001b[0;36mActor_Critic_net.act\u001b[0;34m(self, x)\u001b[0m\n\u001b[1;32m    144\u001b[0m \u001b[39melse\u001b[39;00m:\n\u001b[1;32m    145\u001b[0m     action_logprob \u001b[39m=\u001b[39m dist\u001b[39m.\u001b[39mlog_prob(action)\n\u001b[0;32m--> 148\u001b[0m \u001b[39mreturn\u001b[39;00m action\u001b[39m.\u001b[39mcpu()\u001b[39m.\u001b[39mnumpy(), action_logprob\u001b[39m.\u001b[39;49mcpu()\u001b[39m.\u001b[39;49mnumpy(), value\u001b[39m.\u001b[39mitem()\n",
      "\u001b[0;31mRuntimeError\u001b[0m: Can't call numpy() on Tensor that requires grad. Use tensor.detach().numpy() instead."
     ]
    }
   ],
   "source": [
    "# %%wandb\n",
    "main()"
   ]
  },
  {
   "cell_type": "code",
   "execution_count": null,
   "metadata": {},
   "outputs": [],
   "source": [
    "\n",
    "# # %env \"WANDB_NOTEBOOK_NAME\" \"PPO_GYM\"\n",
    "# sweep_id = wandb.sweep(sweep=sweep_configuration, project='PPO-HalfCheetah_cmp')\n",
    "# wandb.agent(sweep_id, function=main, count=1)"
   ]
  },
  {
   "cell_type": "markdown",
   "metadata": {},
   "source": [
    "### Sweep configuration for Pendulum\n",
    "#### Continous action space"
   ]
  },
  {
   "cell_type": "code",
   "execution_count": null,
   "metadata": {},
   "outputs": [],
   "source": [
    "# sweep_configuration = {\n",
    "#     'method': 'grid',\n",
    "#     'metric':{'goal':'maximize', 'name':'episode_reward'},\n",
    "#     'parameters':\n",
    "#     {\n",
    "#         'early_stop': {'value': False},\n",
    "#         'cal_total_loss' : {'value' : True},\n",
    "#         'parameters_hardshare' : {'value' : False},\n",
    "#         'c1' : {'value': 0.5020639303776493},\n",
    "#         'c2' : {'value' : 0.910077248529638},\n",
    "#         # 'kl_threshold' : {'min': 0.01, 'max': 0.04},\n",
    "#         'minibatch_size' : {'values' : [128, 256, 512, 1024]}\n",
    "#     }\n",
    "# }\n",
    "# %env \"WANDB_NOTEBOOK_NAME\" \"PPO_GYM\"\n",
    "# sweep_id = wandb.sweep(sweep=sweep_configuration, project='PPO-Pendulum-2')\n",
    "# wandb.agent(sweep_id, function=main, count=4)"
   ]
  },
  {
   "cell_type": "code",
   "execution_count": null,
   "metadata": {},
   "outputs": [],
   "source": [
    "wandb.init(mode='disabled')\n",
    "device = torch.device(\"cuda\" if torch.cuda.is_available() else \"cpu\")\n",
    "gamma = 0.99\n",
    "# gamma = wandb.config.gamma\n",
    "lamb = 0.95\n",
    "# lamb = wandb.config.lam\n",
    "eps_clip = 0.2\n",
    "max_training_iter = 1_000_000\n",
    "k_epochs = 10\n",
    "# k_epochs = wandb.config.k_epochs\n",
    "num_cells = 64\n",
    "actor_lr = 3e-4 \n",
    "# actor_lr = wandb.config.actor_lr\n",
    "critic_lr = actor_lr\n",
    "# critic_lr = wandb.config.critic_lr\n",
    "memory_size = 2048\n",
    "# memory_size = wandb.config.memory_size\n",
    "minibatch_size = 64\n",
    "# minibatch_size = wandb.config.minibatch_size\n",
    "\n",
    "c1 = 0.5\n",
    "c2 = 0\n",
    "kl_threshold = 0.013\n",
    "# c1 = wandb.config.c1\n",
    "# c2 = wandb.config.c2\n",
    "# kl_threshold = wandb.config.kl_threshold\n",
    "\n",
    "env_name = \"HalfCheetah-v4\" # CartPole-v1\n",
    "parameters_hardshare = False\n",
    "early_stop = False\n",
    "cal_total_loss = True\n",
    "# parameters_hardshare = wandb.config.parameters_hardshare\n",
    "# early_stop = wandb.config.early_stop\n",
    "# cal_total_loss = wandb.config.cal_total_loss\n",
    "max_grad_norm = 0.5\n",
    "\n",
    "seed = 0\n",
    "\n",
    "env = gym.make(env_name)\n",
    "recording_env = gym.make(env_name, render_mode = 'rgb_array_list')\n",
    "\n",
    "env.np_random = np.random.default_rng(seed)\n",
    "env.action_space.seed(seed)\n",
    "env.observation_space.seed(seed)\n",
    "\n",
    "recording_env.np_random = np.random.default_rng(seed)\n",
    "recording_env.action_space.seed(seed)\n",
    "recording_env.observation_space.seed(seed)\n",
    "\n",
    "random.seed(seed)\n",
    "np.random.seed(seed)\n",
    "torch.manual_seed(seed)\n",
    "# Deterministic operations for CuDNN, it may impact performances\n",
    "torch.backends.cudnn.deterministic = True\n",
    "torch.backends.cudnn.benchmark = False\n",
    "\n",
    "my_ppo = PPO(gamma, lamb, eps_clip, k_epochs, env.observation_space, env.action_space, num_cells,\\\n",
    "                actor_lr, critic_lr, memory_size, minibatch_size, max_training_iter, \\\n",
    "                cal_total_loss, c1, c2, early_stop, kl_threshold, parameters_hardshare, max_grad_norm, device)"
   ]
  },
  {
   "cell_type": "code",
   "execution_count": null,
   "metadata": {},
   "outputs": [],
   "source": [
    "class Actor_Critic_net(nn.Module):\n",
    "    def __init__(self, obs_dim, act_dim, hidden_dim, continous_action, parameters_hardshare, log_std_init=0.0):\n",
    "        super(Actor_Critic_net, self).__init__()\n",
    "        self.parameters_hardshare = parameters_hardshare\n",
    "        self.continous_action = continous_action\n",
    "        self.action_dim = act_dim\n",
    "        self.actor = nn.Sequential(\n",
    "            layer_init(nn.Linear(obs_dim, hidden_dim)),\n",
    "            nn.Tanh(),\n",
    "            layer_init(nn.Linear(hidden_dim, hidden_dim)),\n",
    "            nn.Tanh(),\n",
    "            layer_init(nn.Linear(hidden_dim, act_dim), std=0.01)\n",
    "\n",
    "        )\n",
    "        self.critic = nn.Sequential(\n",
    "            layer_init(nn.Linear(obs_dim, hidden_dim)),\n",
    "            nn.Tanh(),\n",
    "            layer_init(nn.Linear(hidden_dim, hidden_dim)),\n",
    "            nn.Tanh(),\n",
    "            layer_init(nn.Linear(hidden_dim, 1), std=1.0)\n",
    "        )\n",
    "        if self.continous_action:\n",
    "            log_std = log_std_init * np.ones(self.action_dim, dtype=np.float32)\n",
    "            # Add it to the list of parameters\n",
    "            self.log_std = torch.nn.Parameter(torch.as_tensor(log_std), requires_grad=True)\n",
    "        #TODO: implement hard-sharing parameters\n",
    "\n",
    "    def get_value(self, x):\n",
    "        return self.critic(x).detach().item()\n",
    "\n",
    "    def act(self, x):\n",
    "        if self.continous_action:\n",
    "            mu = self.actor(x)\n",
    "            value = self.critic(x)\n",
    "            std = torch.exp(self.log_std)\n",
    "            dist = Normal(mu, std)\n",
    "        else:\n",
    "            actor_logits = self.actor(x)\n",
    "            value = self.critic(x)\n",
    "            log_probs = F.log_softmax(actor_logits, dim=1)\n",
    "            dist = Categorical(log_probs)\n",
    "\n",
    "        action = dist.sample()\n",
    "        if self.continous_action:\n",
    "            action_logprob = dist.log_prob(action).sum(axis=-1)\n",
    "        else:\n",
    "            action_logprob = dist.log_prob(action)\n",
    "        \n",
    "        return action.detach().cpu().numpy(), action_logprob.detach().cpu().numpy(), value.detach().item()   \n",
    "\n",
    "    def logprob_ent_from_state_acton(self, x, act):\n",
    "\n",
    "        if self.continous_action:\n",
    "            mu = self.actor(x)\n",
    "            std = torch.exp(self.log_std)\n",
    "            dist = Normal(mu, std)\n",
    "            # sum term is crucial to reduce dimension,-0.5 otherwise the ratio = torch.exp(logp - logp_old) will have wrong result with boardcasting\n",
    "            act_logp = dist.log_prob(act).sum(axis=-1) \n",
    "        else:\n",
    "            actor_logits = self.actor(x)\n",
    "            dist = Categorical(F.log_softmax(actor_logits, dim=1))\n",
    "            act_logp = dist.log_prob(act)\n",
    "\n",
    "        entropy = dist.entropy().sum(axis=-1)\n",
    "        value = self.critic(x)\n",
    "\n",
    "        return entropy, act_logp, value  "
   ]
  },
  {
   "cell_type": "code",
   "execution_count": null,
   "metadata": {},
   "outputs": [],
   "source": [
    "obs, _ = env.reset()\n",
    "print(obs)"
   ]
  },
  {
   "cell_type": "code",
   "execution_count": null,
   "metadata": {},
   "outputs": [],
   "source": [
    "my_ppo.actor_critic_opt"
   ]
  },
  {
   "cell_type": "code",
   "execution_count": null,
   "metadata": {},
   "outputs": [],
   "source": [
    "my_ppo.actor_critic.critic.state_dict"
   ]
  },
  {
   "cell_type": "code",
   "execution_count": null,
   "metadata": {},
   "outputs": [],
   "source": [
    "my_ppo.actor_critic.actor.state_dict()['4.weight']"
   ]
  },
  {
   "cell_type": "code",
   "execution_count": null,
   "metadata": {},
   "outputs": [],
   "source": [
    "obs_tensor = torch.tensor(obs, dtype=torch.float32, device=device)"
   ]
  },
  {
   "cell_type": "code",
   "execution_count": null,
   "metadata": {},
   "outputs": [],
   "source": [
    "\n",
    "action, action_logprob, value = my_ppo.actor_critic.act(obs_tensor)"
   ]
  },
  {
   "cell_type": "code",
   "execution_count": null,
   "metadata": {},
   "outputs": [],
   "source": [
    "action"
   ]
  },
  {
   "cell_type": "code",
   "execution_count": null,
   "metadata": {},
   "outputs": [],
   "source": [
    "value"
   ]
  },
  {
   "cell_type": "code",
   "execution_count": null,
   "metadata": {},
   "outputs": [],
   "source": [
    "action_logprob"
   ]
  },
  {
   "cell_type": "code",
   "execution_count": null,
   "metadata": {},
   "outputs": [],
   "source": [
    "next_obs, reward, terminated, truncated, _ = env.step(action)"
   ]
  },
  {
   "cell_type": "code",
   "execution_count": null,
   "metadata": {},
   "outputs": [],
   "source": [
    "next_obs"
   ]
  },
  {
   "cell_type": "code",
   "execution_count": null,
   "metadata": {},
   "outputs": [],
   "source": [
    "vector_parameters = torch.nn.utils.parameters_to_vector(my_ppo.actor_critic.parameters()).detach().cpu().numpy()"
   ]
  },
  {
   "cell_type": "code",
   "execution_count": null,
   "metadata": {},
   "outputs": [],
   "source": [
    "vector_parameters.shape"
   ]
  },
  {
   "cell_type": "code",
   "execution_count": null,
   "metadata": {},
   "outputs": [],
   "source": [
    "agent = Agent(env)"
   ]
  },
  {
   "cell_type": "code",
   "execution_count": null,
   "metadata": {},
   "outputs": [],
   "source": [
    "agent.get_action_and_value(obs_tensor)"
   ]
  },
  {
   "cell_type": "markdown",
   "metadata": {},
   "source": []
  },
  {
   "cell_type": "code",
   "execution_count": null,
   "metadata": {},
   "outputs": [],
   "source": []
  }
 ],
 "metadata": {
  "kernelspec": {
   "display_name": "Python 3",
   "language": "python",
   "name": "python3"
  },
  "language_info": {
   "codemirror_mode": {
    "name": "ipython",
    "version": 3
   },
   "file_extension": ".py",
   "mimetype": "text/x-python",
   "name": "python",
   "nbconvert_exporter": "python",
   "pygments_lexer": "ipython3",
   "version": "3.9.17"
  },
  "orig_nbformat": 4
 },
 "nbformat": 4,
 "nbformat_minor": 2
}

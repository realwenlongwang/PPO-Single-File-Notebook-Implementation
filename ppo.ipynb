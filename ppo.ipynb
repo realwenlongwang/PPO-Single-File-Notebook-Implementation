{
 "cells": [
  {
   "cell_type": "code",
   "execution_count": 3,
   "metadata": {},
   "outputs": [],
   "source": [
    "from torch import nn\n",
    "import torch.nn.functional as F\n",
    "import torch\n",
    "from torch.distributions import Categorical, Normal\n",
    "import gymnasium as gym\n",
    "from tqdm.notebook import tnrange\n",
    "import numpy as np\n",
    "import scipy\n",
    "import wandb\n",
    "from gymnasium.spaces import Box, Discrete\n",
    "import os\n",
    "\n",
    "# wandb.login()"
   ]
  },
  {
   "cell_type": "markdown",
   "metadata": {},
   "source": []
  },
  {
   "cell_type": "code",
   "execution_count": 2,
   "metadata": {},
   "outputs": [],
   "source": [
    "def discount_cumsum(x, discount):\n",
    "    \"\"\"\n",
    "    magic from rllab for computing discounted cumulative sums of vectors.\n",
    "\n",
    "    input: \n",
    "        vector x, \n",
    "        [x0, \n",
    "         x1, \n",
    "         x2]\n",
    "\n",
    "    output:\n",
    "        [x0 + discount * x1 + discount^2 * x2,  \n",
    "         x1 + discount * x2,\n",
    "         x2]\n",
    "    \"\"\"\n",
    "    return scipy.signal.lfilter([1], [1, float(-discount)], x[::-1], axis=0)[::-1]\n",
    "\n",
    "\n",
    "def combined_shape(length, shape=None):\n",
    "    if shape is None:\n",
    "        return (length,)\n",
    "    return (length, shape) if np.isscalar(shape) else (length, *shape)\n",
    "\n",
    "class PPOBuffer():\n",
    "    def __init__(self, observation_dim, action_dim, capacity, gamma, lam):\n",
    "        self.obs_buf = np.zeros(combined_shape(capacity, observation_dim), dtype=np.float32)\n",
    "        self.act_buf = np.zeros(combined_shape(capacity, action_dim), dtype=np.float32)\n",
    "        self.adv_buf = np.zeros(capacity, dtype=np.float32)\n",
    "        self.rew_buf = np.zeros(capacity, dtype=np.float32)\n",
    "        self.rtg_buf = np.zeros(capacity, dtype=np.float32)\n",
    "        self.val_buf = np.zeros(capacity, dtype=np.float32)\n",
    "        self.logp_buf = np.zeros(capacity, dtype=np.float32)\n",
    "        self.capacity = capacity\n",
    "        self.idx = 0\n",
    "        self.path_idx = 0\n",
    "        self.gamma = gamma\n",
    "        self.lam = lam\n",
    "\n",
    "    def push(self, obs, act, rew, val, logp):\n",
    "        assert self.idx < self.capacity\n",
    "        self.obs_buf[self.idx] = obs\n",
    "        self.act_buf[self.idx] = act\n",
    "        self.rew_buf[self.idx] = rew\n",
    "        self.val_buf[self.idx] = val\n",
    "        self.logp_buf[self.idx] = logp\n",
    "\n",
    "        self.idx += 1\n",
    "\n",
    "    def GAE_cal(self, last_val):\n",
    "        path_slice = slice(self.path_idx, self.idx)\n",
    "        # to make the deltas the same dim\n",
    "        rewards = np.append(self.rew_buf[path_slice], last_val)\n",
    "        vals = np.append(self.val_buf[path_slice], last_val)\n",
    "\n",
    "        deltas = rewards[:-1] + self.gamma * vals[1:] - vals[:-1]\n",
    "        self.adv_buf[path_slice] = discount_cumsum(deltas, self.gamma * self.lam)\n",
    "\n",
    "        self.rtg_buf[path_slice] = discount_cumsum(rewards, self.gamma)[:-1]\n",
    "        self.path_idx = self.idx\n",
    "\n",
    "                \n",
    "    def sample(self, minibatch_size, device):\n",
    "        \"\"\"This method sample a list of minibatches from the memory\n",
    "\n",
    "        Args:\n",
    "            minibatch_size (int): size of minibatch, usually 2^n\n",
    "            device (object): CPU or GPU\n",
    "\n",
    "        Returns:\n",
    "            list: a list of minibatches\n",
    "        \"\"\"\n",
    "        assert self.idx == self.capacity\n",
    "        # reset the index\n",
    "        self.idx, self.path_idx = 0, 0\n",
    "        # normalise advantage\n",
    "        self.adv_buf = (self.adv_buf - np.mean(self.adv_buf)) / (np.std(self.adv_buf) + 1e-7)\n",
    "        \n",
    "        inds = np.arange(self.capacity)\n",
    "        \n",
    "        np.random.shuffle(inds)\n",
    "        \n",
    "        data = []\n",
    "        for start in range(0, self.capacity, minibatch_size):\n",
    "            end = start + minibatch_size\n",
    "            minibatch_inds = inds[start:end]\n",
    "            minibatch = dict(obs=self.obs_buf[minibatch_inds], act=self.act_buf[minibatch_inds], \\\n",
    "                             rtg=self.rtg_buf[minibatch_inds], adv=self.adv_buf[minibatch_inds], \\\n",
    "                             logp=self.logp_buf[minibatch_inds])\n",
    "            data.append({k: torch.as_tensor(v, dtype=torch.float32, device=device) for k,v in minibatch.items()})\n",
    "        \n",
    "        return data"
   ]
  },
  {
   "cell_type": "code",
   "execution_count": 3,
   "metadata": {},
   "outputs": [],
   "source": [
    "class Actor_Net(nn.Module):\n",
    "    def __init__(self, n_observations, n_actions, num_cells, continous_action):\n",
    "        super(Actor_Net,self).__init__()\n",
    "        \n",
    "        self.layer1 = nn.Linear(n_observations, num_cells)\n",
    "        self.layer2 = nn.Linear(num_cells, num_cells)\n",
    "        self.layer3 = nn.Linear(num_cells, num_cells)\n",
    "        self.layer4 = nn.Linear(num_cells, n_actions)\n",
    "\n",
    "        self.continous_action = continous_action\n",
    "        self.action_dim = n_actions\n",
    "        \n",
    "        if self.continous_action:\n",
    "            log_std = -0.5 * np.ones(self.action_dim, dtype=np.float32)\n",
    "            # Add it to the list of parameters\n",
    "            self.log_std = torch.nn.Parameter(torch.as_tensor(log_std))            \n",
    "\n",
    "        \n",
    "\n",
    "    def forward(self, x):\n",
    "        activation1 = F.tanh(self.layer1(x))\n",
    "        activation2 = F.tanh(self.layer2(activation1))\n",
    "        activation3 = F.tanh(self.layer3(activation2))\n",
    "        activation4 = self.layer4(activation3)\n",
    "\n",
    "        return activation4\n",
    "    \n",
    "    def act(self, x):\n",
    "        if self.continous_action:\n",
    "            mu = self.forward(x)\n",
    "            std = torch.exp(self.log_std)\n",
    "            dist = Normal(mu, std)\n",
    "        else:\n",
    "            log_probs = F.log_softmax(self.forward(x), dim=1)\n",
    "            dist = Categorical(log_probs)\n",
    "        action = dist.sample()\n",
    "        action_logprob = dist.log_prob(action)\n",
    "        \n",
    "\n",
    "        return action.detach().cpu().numpy(), action_logprob.detach().cpu().numpy()\n",
    "    \n",
    "    def logprob_ent_from_state_acton(self, x, act):\n",
    "        if self.continous_action:\n",
    "            mu = self.forward(x)\n",
    "            std = torch.exp(self.log_std)\n",
    "            dist = Normal(mu, std)\n",
    "            # sum term is crucial to reduce dimension, otherwise the ratio = torch.exp(logp - logp_old) will have wrong result with boardcasting\n",
    "            act_logp = dist.log_prob(act).sum(axis=-1) \n",
    "        else:\n",
    "            dist = Categorical(F.softmax(self.forward(x)))\n",
    "            act_logp = dist.log_prob(act)\n",
    "        entropy = dist.entropy()\n",
    "        \n",
    "        return entropy, act_logp\n",
    "    \n",
    "   \n",
    "class Critic_Net(nn.Module):\n",
    "    def __init__(self, n_observations, num_cells):\n",
    "        super(Critic_Net,self).__init__()\n",
    "        self.layer1 = nn.Linear(n_observations, num_cells)\n",
    "        self.layer2 = nn.Linear(num_cells, num_cells)\n",
    "        self.layer3 = nn.Linear(num_cells, num_cells)\n",
    "        self.layer4 = nn.Linear(num_cells, 1)\n",
    "\n",
    "    def forward(self, x):\n",
    "        activation1 = F.tanh(self.layer1(x))\n",
    "        activation2 = F.tanh(self.layer2(activation1))\n",
    "        activation3 = F.tanh(self.layer3(activation2))\n",
    "        activation4 = self.layer4(activation3)\n",
    "\n",
    "        return activation4\n",
    "\n",
    "class Actor_Critic_net(nn.Module):\n",
    "    def __init__(self, obs_dim, act_dim, hidden_dim, continous_action, parameters_hardshare):\n",
    "\n",
    "        super(Actor_Critic_net, self).__init__()\n",
    "\n",
    "        self.parameters_hardshare = parameters_hardshare\n",
    "        self.continous_action = continous_action\n",
    "        self.act_dim = act_dim\n",
    "        if self.continous_action:\n",
    "            log_std = -0.5 * np.ones(self.act_dim, dtype=np.float32)\n",
    "            # Add it to the list of parameters\n",
    "            self.log_std = torch.nn.Parameter(torch.as_tensor(log_std))\n",
    "\n",
    "        if self.parameters_hardshare:\n",
    "            self.layer1 = nn.Linear(obs_dim, hidden_dim)\n",
    "            self.layer2 = nn.Linear(hidden_dim, hidden_dim)\n",
    "            self.layer3 = nn.Linear(hidden_dim, hidden_dim)\n",
    "\n",
    "            self.actor_head = nn.Linear(hidden_dim, act_dim)\n",
    "            self.critic_head = nn.Linear(hidden_dim, 1)\n",
    "\n",
    "        else:\n",
    "            self.actor = Actor_Net(obs_dim, act_dim, hidden_dim, continous_action)\n",
    "            self.critic = Critic_Net(obs_dim, hidden_dim)\n",
    "\n",
    "\n",
    "    def forward(self, x):\n",
    "\n",
    "        if self.parameters_hardshare:\n",
    "            activation1 = F.tanh(self.layer1(x))\n",
    "            activation2 = F.tanh(self.layer2(activation1))\n",
    "            activation3 = F.tanh(self.layer3(activation2))\n",
    "            actor_logits = self.actor_head(activation3)\n",
    "            value = self.critic_head(activation3)\n",
    "        else:\n",
    "            actor_logits = self.actor.forward(x)\n",
    "            value = self.critic.forward(x)\n",
    "\n",
    "        return actor_logits, value\n",
    "\n",
    "    \n",
    "    def act(self, x):\n",
    "        if self.continous_action:\n",
    "            mu, value = self.forward(x)\n",
    "            std = torch.exp(self.log_std)\n",
    "            dist = Normal(mu, std)\n",
    "        else:\n",
    "            actor_logits, value = self.forward(x)\n",
    "            log_probs = F.log_softmax(actor_logits, dim=1)\n",
    "            dist = Categorical(log_probs)\n",
    "        action = dist.sample()\n",
    "        action_logprob = dist.log_prob(action)\n",
    "        \n",
    "\n",
    "        return action.detach().cpu().numpy(), action_logprob.detach().cpu().numpy(), value.detach().item()     \n",
    "\n",
    "    def logprob_ent_from_state_acton(self, x, act):\n",
    "\n",
    "        if self.continous_action:\n",
    "            mu, value = self.forward(x)\n",
    "            std = torch.exp(self.log_std)\n",
    "            dist = Normal(mu, std)\n",
    "            # sum term is crucial to reduce dimension, otherwise the ratio = torch.exp(logp - logp_old) will have wrong result with boardcasting\n",
    "            act_logp = dist.log_prob(act).sum(axis=-1) \n",
    "        else:\n",
    "            actor_logits, value = self.forward(x)\n",
    "            dist = Categorical(F.softmax(actor_logits))\n",
    "            act_logp = dist.log_prob(act)\n",
    "        entropy = dist.entropy()\n",
    "        \n",
    "        return entropy, act_logp, value"
   ]
  },
  {
   "cell_type": "code",
   "execution_count": 4,
   "metadata": {},
   "outputs": [],
   "source": [
    "class PPO():\n",
    "    def __init__(self, gamma, lamb, eps_clip, K_epochs, \\\n",
    "                 observation_space, action_space, num_cells, \\\n",
    "                 actor_lr, critic_lr, memory_size , minibatch_size,\\\n",
    "                 max_training_iter, cal_total_loss, c1, c2, \\\n",
    "                    early_stop, kl_threshold, parameters_hardshare, device\n",
    "                 ):\n",
    "        self.gamma = gamma\n",
    "        self.lamb = lamb\n",
    "        self.eps_clip = eps_clip\n",
    "        self.K_epochs = K_epochs\n",
    "        self.max_training_iter = max_training_iter\n",
    "\n",
    "        self.n_observations = observation_space\n",
    "        self.n_actions = action_space\n",
    "        self.memory_size = memory_size\n",
    "        self.minibatch_size = minibatch_size\n",
    "        \n",
    "        self.cal_total_loss = cal_total_loss\n",
    "        self.c1 = c1\n",
    "        self.c2 = c2\n",
    "        self.early_stop = early_stop\n",
    "        self.kl_threshold = kl_threshold\n",
    "\n",
    "        self.parameters_hardshare = parameters_hardshare\n",
    "\n",
    "\n",
    "        if isinstance(action_space, Box):\n",
    "            self.continous_action = True\n",
    "        elif isinstance(action_space, Discrete):\n",
    "            self.continous_action = False\n",
    "        else:\n",
    "            raise AssertionError(f\"action space is not valid {action_space}\")\n",
    "\n",
    "\n",
    "        self.observtion_dim = observation_space.shape[0]\n",
    "\n",
    "        # self.actor = Actor_Net(self.observtion_dim, \\\n",
    "        #                        action_space.shape[0] if self.continous_action else action_space.n, \\\n",
    "        #                           num_cells, self.continous_action).to(device)\n",
    "          \n",
    "        # self.critic = Critic_Net(self.observtion_dim, num_cells).to(device)\n",
    "        self.actor_critic = Actor_Critic_net(self.observtion_dim, \\\n",
    "                               action_space.shape[0] if self.continous_action else action_space.n, \\\n",
    "                                  num_cells, self.continous_action, parameters_hardshare).to(device)\n",
    "\n",
    "        # self.actor_opt = torch.optim.Adam(self.actor.parameters(), lr=actor_lr)\n",
    "        # self.critic_opt = torch.optim.Adam(self.critic.parameters(), lr=critic_lr)\n",
    "        if parameters_hardshare:\n",
    "            self.actor_critic_opt = torch.optim.Adam(self.actor_critic.parameters(), lr=actor_lr)\n",
    "            \n",
    "        else:\n",
    "            self.actor_critic_opt = torch.optim.Adam([ \n",
    "                {'params': self.actor_critic.actor.parameters(), 'lr': actor_lr},\n",
    "                {'params': self.actor_critic.critic.parameters(), 'lr': critic_lr} \n",
    "            ])\n",
    "\n",
    "\n",
    "        self.memory = PPOBuffer(observation_space.shape, action_space.shape, memory_size, gamma, lamb)\n",
    "\n",
    "        self.device = device\n",
    "        \n",
    "        # wandb.watch(self.actor, log='all', log_freq=100, idx=1)\n",
    "        # wandb.watch(self.critic, log='all', log_freq=100, idx=2)\n",
    "        wandb.watch(self.actor_critic, log='all', log_freq=100)\n",
    "\n",
    "    def roll_out(self, env):\n",
    "        # TODO: implement multiple thread\n",
    "        # make a new environment instance\n",
    "        \n",
    "\n",
    "        # Maybe a deep copy is necessary for multi-thread processing\n",
    "        obs, _ = env.reset()\n",
    "\n",
    "        ep_reward = 0\n",
    "        ep_count = 0\n",
    "\n",
    "        action_shape = env.action_space.shape\n",
    "        # Run the policy for T timestep\n",
    "        for i in tnrange(self.memory_size, desc=\"roll_out\", leave=False):\n",
    "\n",
    "            obs_tensor = torch.tensor(obs, \\\n",
    "                                    dtype=torch.float32, device=self.device).unsqueeze(0)\n",
    "            \n",
    "            # action, action_logprob = self.actor.act(obs_tensor)\n",
    "\n",
    "            # action = action.reshape(action_shape)\n",
    "             \n",
    "            # value = self.critic.forward(obs_tensor).item()\n",
    "            \n",
    "\n",
    "            action, action_logprob, value = self.actor_critic.act(obs_tensor)\n",
    "            \n",
    "            action = action.reshape(action_shape)\n",
    "\n",
    "            next_obs, reward, terminated, truncated, _ = env.step(action)\n",
    "\n",
    "            self.memory.push(obs, action, reward, value, action_logprob)\n",
    "\n",
    "            obs = next_obs\n",
    "\n",
    "            ep_reward += reward\n",
    "\n",
    "            if terminated or truncated:\n",
    "                if truncated:\n",
    "                    # last_value = self.critic.forward(torch.tensor(next_obs, dtype=torch.float32, device=self.device)).item()\n",
    "                    _, last_value = self.actor_critic.forward(torch.tensor(next_obs, dtype=torch.float32, device=self.device))\n",
    "                    last_value = last_value.item()\n",
    "                else:\n",
    "                    last_value = 0\n",
    "\n",
    "                \n",
    "                self.memory.GAE_cal(last_value)\n",
    "          \n",
    "                obs,_ = env.reset()\n",
    "                ep_count += 1\n",
    "                wandb.log({'episode_reward':ep_reward})\n",
    "                ep_reward = 0\n",
    "\n",
    "\n",
    "    # def compute_loss(self, data):\n",
    "    #     observations, actions, logp_old = data['obs'], data['act'], data['logp']\n",
    "    #     advs, rtgs = data['adv'], data['rtg']\n",
    "\n",
    "    #     # Calculate the pi_theta (a_t|s_t)\n",
    "    #     entropy, logp = self.actor.logprob_ent_from_state_acton(observations, actions)\n",
    "    #     ratio = torch.exp(logp - logp_old)\n",
    "    #     # Kl approx according to http://joschu.net/blog/kl-approx.html\n",
    "    #     kl_apx = ((ratio - 1) - (logp - logp_old)).mean()\n",
    "    #     wandb.log({'KL approx': kl_apx})\n",
    "    #     clip_advs = torch.clamp(ratio, 1-self.eps_clip, 1+self.eps_clip) * advs\n",
    "    #     # Torch Adam implement tation mius the gradient, to plus the gradient, we need make the loss negative\n",
    "    #     actor_loss = -(torch.min(ratio*advs, clip_advs)).mean()\n",
    "\n",
    "    #     values = self.critic(observations).squeeze()\n",
    "    #     critic_loss = nn.MSELoss()(values, rtgs)\n",
    "\n",
    "    #     entropy_loss = entropy.mean()\n",
    "\n",
    "    #     return actor_loss, critic_loss, entropy_loss, kl_apx\n",
    "\n",
    "    def compute_loss(self, data):\n",
    "        observations, actions, logp_old = data['obs'], data['act'], data['logp']\n",
    "        advs, rtgs = data['adv'], data['rtg']\n",
    "\n",
    "        # Calculate the pi_theta (a_t|s_t)\n",
    "        entropy, logp, values = self.actor_critic.logprob_ent_from_state_acton(observations, actions)\n",
    "        ratio = torch.exp(logp - logp_old)\n",
    "        # Kl approx according to http://joschu.net/blog/kl-approx.html\n",
    "        kl_apx = ((ratio - 1) - (logp - logp_old)).mean()\n",
    "        wandb.log({'KL_approx': kl_apx})\n",
    "        clip_advs = torch.clamp(ratio, 1-self.eps_clip, 1+self.eps_clip) * advs\n",
    "        # Torch Adam implement tation mius the gradient, to plus the gradient, we need make the loss negative\n",
    "        actor_loss = -(torch.min(ratio*advs, clip_advs)).mean()\n",
    "\n",
    "        values = values.squeeze()\n",
    "        critic_loss = nn.MSELoss()(values, rtgs)\n",
    "\n",
    "        entropy_loss = entropy.mean()\n",
    "\n",
    "        return actor_loss, critic_loss, entropy_loss, kl_apx        \n",
    "\n",
    "    def optimise(self):\n",
    "\n",
    "        data = self.memory.sample(self.minibatch_size, self.device)\n",
    "\n",
    "        early_stop_count = 0\n",
    "        \n",
    "        # for _ in tnrange(self.K_epochs, desc=f\"epochs\", position=1, leave=False):\n",
    "        for _ in range(self.K_epochs):\n",
    "            \n",
    "            for minibatch in data:\n",
    "            \n",
    "                actor_loss, critic_loss, entropy_loss, kl_apx = self.compute_loss(minibatch)\n",
    "\n",
    "                if self.cal_total_loss:\n",
    "                    total_loss = actor_loss + self.c1 * critic_loss - self.c2 * entropy_loss\n",
    "\n",
    "                # If this update is too big, early stop and try next minibatch\n",
    "                if self.early_stop and kl_apx > self.kl_threshold:\n",
    "                    early_stop_count += 1\n",
    "                    continue\n",
    "\n",
    "                # self.actor_opt.zero_grad()\n",
    "                # self.critic_opt.zero_grad()\n",
    "                # if self.cal_total_loss:\n",
    "                #     wandb.log({'total_loss': total_loss})\n",
    "                #     total_loss.backward()\n",
    "                #     self.actor_opt.step()\n",
    "                #     self.critic_opt.step()\n",
    "                # else:\n",
    "                #     wandb.log({'actor_loss': actor_loss, 'critic_loss': critic_loss})\n",
    "                #     actor_loss.backward()\n",
    "                #     self.actor_opt.step()\n",
    "                #     critic_loss.backward()\n",
    "                #     self.critic_opt.step()\n",
    "                \n",
    "                self.actor_critic_opt.zero_grad()\n",
    "                if self.cal_total_loss:\n",
    "                    wandb.log({'total_loss': total_loss})\n",
    "                    total_loss.backward()\n",
    "                    self.actor_critic_opt.step()\n",
    "\n",
    "                else:\n",
    "                    wandb.log({'actor_loss': actor_loss, 'critic_loss': critic_loss})\n",
    "                    actor_loss.backward()\n",
    "                    critic_loss.backward()\n",
    "                    self.actor_critic_opt.step()\n",
    "            \n",
    "        wandb.run.summary['early_stop_count'] = early_stop_count    \n",
    "\n",
    "                \n",
    "    def train(self, env):\n",
    "\n",
    "        for i in tnrange(self.max_training_iter // self.memory_size):\n",
    "\n",
    "            self.roll_out(env)\n",
    "\n",
    "            self.optimise()\n",
    "\n",
    "        # save the model to the wandb run folder\n",
    "        PATH = os.path.join(wandb.run.dir, \"actor_critic.pt\")\n",
    "        torch.save(self.actor_critic.state_dict(), PATH)\n",
    "\n",
    "        \n",
    "    \n",
    "            \n",
    "\n",
    "        \n"
   ]
  },
  {
   "cell_type": "code",
   "execution_count": 5,
   "metadata": {},
   "outputs": [],
   "source": [
    "def main():\n",
    "\n",
    "\n",
    "\n",
    "    device = torch.device(\"cuda\" if torch.cuda.is_available() else \"cpu\")\n",
    "\n",
    "    run = wandb.init(\n",
    "            # project='PPO'\n",
    "        )\n",
    "\n",
    "\n",
    "    gamma = 0.95\n",
    "    # gamma = wandb.config.gamma\n",
    "    lamb = 0.99\n",
    "    # lamb = wandb.config.lam\n",
    "    eps_clip = 0.2\n",
    "    max_training_iter = 200000\n",
    "    K_epochs = 40\n",
    "    num_cells = 64\n",
    "    actor_lr = 4e-4 \n",
    "    # actor_lr = wandb.config.actor_lr\n",
    "    critic_lr = 5e-3\n",
    "    # critic_lr = wandb.config.critic_lr\n",
    "    memory_size = 1024\n",
    "    # minibatch_size = 256\n",
    "    minibatch_size = wandb.config.minibatch_size\n",
    "    \n",
    "    # c1 = 0.5\n",
    "    # c2 = 0.9\n",
    "    kl_threshold = 0.013\n",
    "    c1 = wandb.config.c1\n",
    "    c2 = wandb.config.c2\n",
    "    # kl_threshold = wandb.config.kl_threshold\n",
    "    \n",
    "    env_name = \"Pendulum-v1\" # CartPole-v1\n",
    "    # parameters_hardshare = False\n",
    "    # early_stop = True\n",
    "    # cal_total_loss = True\n",
    "    parameters_hardshare = wandb.config.parameters_hardshare\n",
    "    early_stop = wandb.config.early_stop\n",
    "    cal_total_loss = wandb.config.cal_total_loss\n",
    "\n",
    "    wandb.config.update(\n",
    "        {\n",
    "            'actor_lr' : actor_lr,\n",
    "            'critic_lr' : critic_lr,\n",
    "            'gamma' : gamma,\n",
    "            'lambda' : lamb,\n",
    "            'eps_clip' : eps_clip,\n",
    "            'max_training_iter' : max_training_iter,\n",
    "            'k_epochs' : K_epochs,\n",
    "            'hidden_cell_dim' : num_cells,\n",
    "            'memory_size' : memory_size,\n",
    "            'minibatch_size' : minibatch_size,\n",
    "            'cal_total_loss' : cal_total_loss,\n",
    "            'c1' : c1,\n",
    "            'c2' : c2,\n",
    "            'early_stop' : early_stop,\n",
    "            'env_name': env_name,\n",
    "            'kl_threshold' : kl_threshold\n",
    "\n",
    "        }\n",
    "    )\n",
    "\n",
    "    # wandb.define_metric(\"episode_reward\", summary=\"mean\")\n",
    "    wandb.define_metric(\"KL_approx\", summary=\"mean\")\n",
    "        \n",
    "           \n",
    "    env = gym.make(env_name)\n",
    "\n",
    "    my_ppo = PPO(gamma, lamb, eps_clip, K_epochs, env.observation_space, env.action_space, num_cells,\\\n",
    "                 actor_lr, critic_lr, memory_size, minibatch_size, max_training_iter, \\\n",
    "                 cal_total_loss, c1, c2, early_stop, kl_threshold, parameters_hardshare, device)\n",
    "    \n",
    "    my_ppo.train(env)\n",
    "\n",
    "    env.close()\n",
    "    run.finish()"
   ]
  },
  {
   "cell_type": "code",
   "execution_count": 6,
   "metadata": {},
   "outputs": [],
   "source": [
    "# %%wandb\n",
    "# main()"
   ]
  },
  {
   "cell_type": "markdown",
   "metadata": {},
   "source": [
    "### Sweep for HalfCheetah\n",
    "#### Continous action space"
   ]
  },
  {
   "cell_type": "code",
   "execution_count": null,
   "metadata": {},
   "outputs": [],
   "source": [
    "sweep_configuration = {\n",
    "    'method': 'random',\n",
    "    'metric':{'goal':'maximize', 'name':'episode_reward'},\n",
    "    'parameters':\n",
    "    {\n",
    "        'early_stop': {'value': False},\n",
    "        'cal_total_loss' : {'value' : True},\n",
    "        'parameters_hardshare' : {'value' : False},\n",
    "        'c1' : {'value': 0.5020639303776493},\n",
    "        'c2' : {'value' : 0.910077248529638},\n",
    "        # 'kl_threshold' : {'min': 0.01, 'max': 0.04},\n",
    "        'minibatch_size' : {'values' : [128, 256, 512, 1024]}\n",
    "    }\n",
    "}\n",
    "%env \"WANDB_NOTEBOOK_NAME\" \"PPO_GYM\"\n",
    "sweep_id = wandb.sweep(sweep=sweep_configuration, project='PPO-Pendulum-2')\n",
    "wandb.agent(sweep_id, function=main, count=4)"
   ]
  },
  {
   "cell_type": "markdown",
   "metadata": {},
   "source": [
    "### Sweep configuration for Pendulum\n",
    "#### Continous action space"
   ]
  },
  {
   "cell_type": "code",
   "execution_count": 7,
   "metadata": {},
   "outputs": [
    {
     "name": "stdout",
     "output_type": "stream",
     "text": [
      "env: \"WANDB_NOTEBOOK_NAME\"=\"PPO_GYM\"\n"
     ]
    },
    {
     "name": "stderr",
     "output_type": "stream",
     "text": [
      "Failed to detect the name of this notebook, you can set it manually with the WANDB_NOTEBOOK_NAME environment variable to enable code saving.\n"
     ]
    },
    {
     "name": "stdout",
     "output_type": "stream",
     "text": [
      "Create sweep with ID: 5au3cuvc\n",
      "Sweep URL: https://wandb.ai/tcd-clearway/PPO-Pendulum-2/sweeps/5au3cuvc\n"
     ]
    },
    {
     "name": "stderr",
     "output_type": "stream",
     "text": [
      "\u001b[34m\u001b[1mwandb\u001b[0m: Agent Starting Run: zktfg548 with config:\n",
      "\u001b[34m\u001b[1mwandb\u001b[0m: \tc1: 0.5020639303776493\n",
      "\u001b[34m\u001b[1mwandb\u001b[0m: \tc2: 0.910077248529638\n",
      "\u001b[34m\u001b[1mwandb\u001b[0m: \tcal_total_loss: True\n",
      "\u001b[34m\u001b[1mwandb\u001b[0m: \tearly_stop: False\n",
      "\u001b[34m\u001b[1mwandb\u001b[0m: \tminibatch_size: 128\n",
      "\u001b[34m\u001b[1mwandb\u001b[0m: \tparameters_hardshare: False\n",
      "Failed to detect the name of this notebook, you can set it manually with the WANDB_NOTEBOOK_NAME environment variable to enable code saving.\n",
      "\u001b[34m\u001b[1mwandb\u001b[0m: Currently logged in as: \u001b[33mstan-wenlong-wang\u001b[0m (\u001b[33mtcd-clearway\u001b[0m). Use \u001b[1m`wandb login --relogin`\u001b[0m to force relogin\n"
     ]
    },
    {
     "data": {
      "text/html": [
       "wandb version 0.15.5 is available!  To upgrade, please run:\n",
       " $ pip install wandb --upgrade"
      ],
      "text/plain": [
       "<IPython.core.display.HTML object>"
      ]
     },
     "metadata": {},
     "output_type": "display_data"
    },
    {
     "data": {
      "text/html": [
       "Tracking run with wandb version 0.15.4"
      ],
      "text/plain": [
       "<IPython.core.display.HTML object>"
      ]
     },
     "metadata": {},
     "output_type": "display_data"
    },
    {
     "data": {
      "text/html": [
       "Run data is saved locally in <code>c:\\Users\\stanw\\Desktop\\ppo\\wandb\\run-20230720_090845-zktfg548</code>"
      ],
      "text/plain": [
       "<IPython.core.display.HTML object>"
      ]
     },
     "metadata": {},
     "output_type": "display_data"
    },
    {
     "data": {
      "text/html": [
       "Syncing run <strong><a href='https://wandb.ai/tcd-clearway/PPO-Pendulum-2/runs/zktfg548' target=\"_blank\">divine-sweep-1</a></strong> to <a href='https://wandb.ai/tcd-clearway/PPO-Pendulum-2' target=\"_blank\">Weights & Biases</a> (<a href='https://wandb.me/run' target=\"_blank\">docs</a>)<br/>Sweep page: <a href='https://wandb.ai/tcd-clearway/PPO-Pendulum-2/sweeps/5au3cuvc' target=\"_blank\">https://wandb.ai/tcd-clearway/PPO-Pendulum-2/sweeps/5au3cuvc</a>"
      ],
      "text/plain": [
       "<IPython.core.display.HTML object>"
      ]
     },
     "metadata": {},
     "output_type": "display_data"
    },
    {
     "data": {
      "text/html": [
       " View project at <a href='https://wandb.ai/tcd-clearway/PPO-Pendulum-2' target=\"_blank\">https://wandb.ai/tcd-clearway/PPO-Pendulum-2</a>"
      ],
      "text/plain": [
       "<IPython.core.display.HTML object>"
      ]
     },
     "metadata": {},
     "output_type": "display_data"
    },
    {
     "data": {
      "text/html": [
       " View sweep at <a href='https://wandb.ai/tcd-clearway/PPO-Pendulum-2/sweeps/5au3cuvc' target=\"_blank\">https://wandb.ai/tcd-clearway/PPO-Pendulum-2/sweeps/5au3cuvc</a>"
      ],
      "text/plain": [
       "<IPython.core.display.HTML object>"
      ]
     },
     "metadata": {},
     "output_type": "display_data"
    },
    {
     "data": {
      "text/html": [
       " View run at <a href='https://wandb.ai/tcd-clearway/PPO-Pendulum-2/runs/zktfg548' target=\"_blank\">https://wandb.ai/tcd-clearway/PPO-Pendulum-2/runs/zktfg548</a>"
      ],
      "text/plain": [
       "<IPython.core.display.HTML object>"
      ]
     },
     "metadata": {},
     "output_type": "display_data"
    },
    {
     "name": "stderr",
     "output_type": "stream",
     "text": [
      "\u001b[34m\u001b[1mwandb\u001b[0m: \u001b[33mWARNING\u001b[0m Config item 'minibatch_size' was locked by 'sweep' (ignored update).\n",
      "\u001b[34m\u001b[1mwandb\u001b[0m: \u001b[33mWARNING\u001b[0m Config item 'cal_total_loss' was locked by 'sweep' (ignored update).\n",
      "\u001b[34m\u001b[1mwandb\u001b[0m: \u001b[33mWARNING\u001b[0m Config item 'c1' was locked by 'sweep' (ignored update).\n",
      "\u001b[34m\u001b[1mwandb\u001b[0m: \u001b[33mWARNING\u001b[0m Config item 'c2' was locked by 'sweep' (ignored update).\n",
      "\u001b[34m\u001b[1mwandb\u001b[0m: \u001b[33mWARNING\u001b[0m Config item 'early_stop' was locked by 'sweep' (ignored update).\n"
     ]
    },
    {
     "data": {
      "application/vnd.jupyter.widget-view+json": {
       "model_id": "9be45d5611694986a8bc69177bdf0fc4",
       "version_major": 2,
       "version_minor": 0
      },
      "text/plain": [
       "  0%|          | 0/195 [00:00<?, ?it/s]"
      ]
     },
     "metadata": {},
     "output_type": "display_data"
    },
    {
     "data": {
      "application/vnd.jupyter.widget-view+json": {
       "model_id": "dffb6712ba04455eaddea4b6cea951f2",
       "version_major": 2,
       "version_minor": 0
      },
      "text/plain": [
       "roll_out:   0%|          | 0/1024 [00:00<?, ?it/s]"
      ]
     },
     "metadata": {},
     "output_type": "display_data"
    },
    {
     "data": {
      "application/vnd.jupyter.widget-view+json": {
       "model_id": "80428480261c45d19888804d79e1f925",
       "version_major": 2,
       "version_minor": 0
      },
      "text/plain": [
       "roll_out:   0%|          | 0/1024 [00:00<?, ?it/s]"
      ]
     },
     "metadata": {},
     "output_type": "display_data"
    },
    {
     "data": {
      "application/vnd.jupyter.widget-view+json": {
       "model_id": "d66b4c1ee5df4abca196420170f89966",
       "version_major": 2,
       "version_minor": 0
      },
      "text/plain": [
       "roll_out:   0%|          | 0/1024 [00:00<?, ?it/s]"
      ]
     },
     "metadata": {},
     "output_type": "display_data"
    },
    {
     "data": {
      "application/vnd.jupyter.widget-view+json": {
       "model_id": "c461ca7bf72a49fdbaccae57ca054e4a",
       "version_major": 2,
       "version_minor": 0
      },
      "text/plain": [
       "roll_out:   0%|          | 0/1024 [00:00<?, ?it/s]"
      ]
     },
     "metadata": {},
     "output_type": "display_data"
    },
    {
     "data": {
      "application/vnd.jupyter.widget-view+json": {
       "model_id": "49b960e553ea4a35971dc4c82576ff7f",
       "version_major": 2,
       "version_minor": 0
      },
      "text/plain": [
       "roll_out:   0%|          | 0/1024 [00:00<?, ?it/s]"
      ]
     },
     "metadata": {},
     "output_type": "display_data"
    },
    {
     "data": {
      "application/vnd.jupyter.widget-view+json": {
       "model_id": "d36f5d402a424110be5cdcad6d3e76f1",
       "version_major": 2,
       "version_minor": 0
      },
      "text/plain": [
       "roll_out:   0%|          | 0/1024 [00:00<?, ?it/s]"
      ]
     },
     "metadata": {},
     "output_type": "display_data"
    },
    {
     "data": {
      "application/vnd.jupyter.widget-view+json": {
       "model_id": "c862e2ddc191414cb7998c65fa74ea09",
       "version_major": 2,
       "version_minor": 0
      },
      "text/plain": [
       "roll_out:   0%|          | 0/1024 [00:00<?, ?it/s]"
      ]
     },
     "metadata": {},
     "output_type": "display_data"
    },
    {
     "data": {
      "application/vnd.jupyter.widget-view+json": {
       "model_id": "31a147fdfcf943eaac9942fc33b05c04",
       "version_major": 2,
       "version_minor": 0
      },
      "text/plain": [
       "roll_out:   0%|          | 0/1024 [00:00<?, ?it/s]"
      ]
     },
     "metadata": {},
     "output_type": "display_data"
    },
    {
     "data": {
      "application/vnd.jupyter.widget-view+json": {
       "model_id": "bf78b0327f9443d3a45d50d5508d22cf",
       "version_major": 2,
       "version_minor": 0
      },
      "text/plain": [
       "roll_out:   0%|          | 0/1024 [00:00<?, ?it/s]"
      ]
     },
     "metadata": {},
     "output_type": "display_data"
    },
    {
     "data": {
      "application/vnd.jupyter.widget-view+json": {
       "model_id": "80012a96c35740d4b13208145a2fb73a",
       "version_major": 2,
       "version_minor": 0
      },
      "text/plain": [
       "roll_out:   0%|          | 0/1024 [00:00<?, ?it/s]"
      ]
     },
     "metadata": {},
     "output_type": "display_data"
    },
    {
     "data": {
      "application/vnd.jupyter.widget-view+json": {
       "model_id": "d6fa642d4bcc4f859460ce7c8b3b44a5",
       "version_major": 2,
       "version_minor": 0
      },
      "text/plain": [
       "roll_out:   0%|          | 0/1024 [00:00<?, ?it/s]"
      ]
     },
     "metadata": {},
     "output_type": "display_data"
    },
    {
     "data": {
      "application/vnd.jupyter.widget-view+json": {
       "model_id": "1f7faf64a950488db4dc64f1471ebbf0",
       "version_major": 2,
       "version_minor": 0
      },
      "text/plain": [
       "roll_out:   0%|          | 0/1024 [00:00<?, ?it/s]"
      ]
     },
     "metadata": {},
     "output_type": "display_data"
    },
    {
     "data": {
      "application/vnd.jupyter.widget-view+json": {
       "model_id": "db9747a631ed49ad85cf5041d5c44ec6",
       "version_major": 2,
       "version_minor": 0
      },
      "text/plain": [
       "roll_out:   0%|          | 0/1024 [00:00<?, ?it/s]"
      ]
     },
     "metadata": {},
     "output_type": "display_data"
    },
    {
     "data": {
      "application/vnd.jupyter.widget-view+json": {
       "model_id": "44f59c1c62c745a1b799e0f91e3d2883",
       "version_major": 2,
       "version_minor": 0
      },
      "text/plain": [
       "roll_out:   0%|          | 0/1024 [00:00<?, ?it/s]"
      ]
     },
     "metadata": {},
     "output_type": "display_data"
    },
    {
     "data": {
      "application/vnd.jupyter.widget-view+json": {
       "model_id": "0897ee1a529648d29572a21961fc7fe0",
       "version_major": 2,
       "version_minor": 0
      },
      "text/plain": [
       "roll_out:   0%|          | 0/1024 [00:00<?, ?it/s]"
      ]
     },
     "metadata": {},
     "output_type": "display_data"
    },
    {
     "data": {
      "application/vnd.jupyter.widget-view+json": {
       "model_id": "daca55fde9584d93af415469eae56507",
       "version_major": 2,
       "version_minor": 0
      },
      "text/plain": [
       "roll_out:   0%|          | 0/1024 [00:00<?, ?it/s]"
      ]
     },
     "metadata": {},
     "output_type": "display_data"
    },
    {
     "data": {
      "application/vnd.jupyter.widget-view+json": {
       "model_id": "15259bb3679e4c93b4ba876d5470854e",
       "version_major": 2,
       "version_minor": 0
      },
      "text/plain": [
       "roll_out:   0%|          | 0/1024 [00:00<?, ?it/s]"
      ]
     },
     "metadata": {},
     "output_type": "display_data"
    },
    {
     "data": {
      "application/vnd.jupyter.widget-view+json": {
       "model_id": "04cfcfb558c344f6b070fe724cc18256",
       "version_major": 2,
       "version_minor": 0
      },
      "text/plain": [
       "roll_out:   0%|          | 0/1024 [00:00<?, ?it/s]"
      ]
     },
     "metadata": {},
     "output_type": "display_data"
    },
    {
     "data": {
      "application/vnd.jupyter.widget-view+json": {
       "model_id": "1d66a85975644b67b73d417ea6fdccb8",
       "version_major": 2,
       "version_minor": 0
      },
      "text/plain": [
       "roll_out:   0%|          | 0/1024 [00:00<?, ?it/s]"
      ]
     },
     "metadata": {},
     "output_type": "display_data"
    },
    {
     "data": {
      "application/vnd.jupyter.widget-view+json": {
       "model_id": "3b4e4923603345ab9b17cf3b004ff6bb",
       "version_major": 2,
       "version_minor": 0
      },
      "text/plain": [
       "roll_out:   0%|          | 0/1024 [00:00<?, ?it/s]"
      ]
     },
     "metadata": {},
     "output_type": "display_data"
    },
    {
     "data": {
      "application/vnd.jupyter.widget-view+json": {
       "model_id": "4fbf5785b3794e08811efe8681e9e011",
       "version_major": 2,
       "version_minor": 0
      },
      "text/plain": [
       "roll_out:   0%|          | 0/1024 [00:00<?, ?it/s]"
      ]
     },
     "metadata": {},
     "output_type": "display_data"
    },
    {
     "data": {
      "application/vnd.jupyter.widget-view+json": {
       "model_id": "3355772d6ad5464f9223a8c8a69817cc",
       "version_major": 2,
       "version_minor": 0
      },
      "text/plain": [
       "roll_out:   0%|          | 0/1024 [00:00<?, ?it/s]"
      ]
     },
     "metadata": {},
     "output_type": "display_data"
    },
    {
     "data": {
      "application/vnd.jupyter.widget-view+json": {
       "model_id": "0658a475179946a8bb4ddf08b462e5f6",
       "version_major": 2,
       "version_minor": 0
      },
      "text/plain": [
       "roll_out:   0%|          | 0/1024 [00:00<?, ?it/s]"
      ]
     },
     "metadata": {},
     "output_type": "display_data"
    },
    {
     "data": {
      "application/vnd.jupyter.widget-view+json": {
       "model_id": "e57045c0577a4b1d9340e27e74509cc7",
       "version_major": 2,
       "version_minor": 0
      },
      "text/plain": [
       "roll_out:   0%|          | 0/1024 [00:00<?, ?it/s]"
      ]
     },
     "metadata": {},
     "output_type": "display_data"
    },
    {
     "data": {
      "application/vnd.jupyter.widget-view+json": {
       "model_id": "db3dd0c864604d0fbcef65b31b44c7db",
       "version_major": 2,
       "version_minor": 0
      },
      "text/plain": [
       "roll_out:   0%|          | 0/1024 [00:00<?, ?it/s]"
      ]
     },
     "metadata": {},
     "output_type": "display_data"
    },
    {
     "data": {
      "application/vnd.jupyter.widget-view+json": {
       "model_id": "1dfec8a6ea9e4287aa19f0123ef3f2a2",
       "version_major": 2,
       "version_minor": 0
      },
      "text/plain": [
       "roll_out:   0%|          | 0/1024 [00:00<?, ?it/s]"
      ]
     },
     "metadata": {},
     "output_type": "display_data"
    },
    {
     "data": {
      "application/vnd.jupyter.widget-view+json": {
       "model_id": "b7a765fda37d45088c2bef99d9d0a81d",
       "version_major": 2,
       "version_minor": 0
      },
      "text/plain": [
       "roll_out:   0%|          | 0/1024 [00:00<?, ?it/s]"
      ]
     },
     "metadata": {},
     "output_type": "display_data"
    },
    {
     "data": {
      "application/vnd.jupyter.widget-view+json": {
       "model_id": "85f0289775384c06a392cda8770f0677",
       "version_major": 2,
       "version_minor": 0
      },
      "text/plain": [
       "roll_out:   0%|          | 0/1024 [00:00<?, ?it/s]"
      ]
     },
     "metadata": {},
     "output_type": "display_data"
    },
    {
     "data": {
      "application/vnd.jupyter.widget-view+json": {
       "model_id": "2e9ddfa60feb432e94efd11ef82cd742",
       "version_major": 2,
       "version_minor": 0
      },
      "text/plain": [
       "roll_out:   0%|          | 0/1024 [00:00<?, ?it/s]"
      ]
     },
     "metadata": {},
     "output_type": "display_data"
    },
    {
     "data": {
      "application/vnd.jupyter.widget-view+json": {
       "model_id": "9e7ea2e874724f02aaaaa9c40a40029a",
       "version_major": 2,
       "version_minor": 0
      },
      "text/plain": [
       "roll_out:   0%|          | 0/1024 [00:00<?, ?it/s]"
      ]
     },
     "metadata": {},
     "output_type": "display_data"
    },
    {
     "data": {
      "application/vnd.jupyter.widget-view+json": {
       "model_id": "a1f66464c72e4b3e9ea1a099b72235c7",
       "version_major": 2,
       "version_minor": 0
      },
      "text/plain": [
       "roll_out:   0%|          | 0/1024 [00:00<?, ?it/s]"
      ]
     },
     "metadata": {},
     "output_type": "display_data"
    },
    {
     "data": {
      "application/vnd.jupyter.widget-view+json": {
       "model_id": "2acb1eb6759d438bb38234871f1e9b45",
       "version_major": 2,
       "version_minor": 0
      },
      "text/plain": [
       "roll_out:   0%|          | 0/1024 [00:00<?, ?it/s]"
      ]
     },
     "metadata": {},
     "output_type": "display_data"
    },
    {
     "data": {
      "application/vnd.jupyter.widget-view+json": {
       "model_id": "8dad6ea679244077a76a2dca2f8f5a7f",
       "version_major": 2,
       "version_minor": 0
      },
      "text/plain": [
       "roll_out:   0%|          | 0/1024 [00:00<?, ?it/s]"
      ]
     },
     "metadata": {},
     "output_type": "display_data"
    },
    {
     "data": {
      "application/vnd.jupyter.widget-view+json": {
       "model_id": "b1b1c666dd3043acbc01ba993929555d",
       "version_major": 2,
       "version_minor": 0
      },
      "text/plain": [
       "roll_out:   0%|          | 0/1024 [00:00<?, ?it/s]"
      ]
     },
     "metadata": {},
     "output_type": "display_data"
    },
    {
     "data": {
      "application/vnd.jupyter.widget-view+json": {
       "model_id": "4bbedace8eaf46fd89dedbce41c527ea",
       "version_major": 2,
       "version_minor": 0
      },
      "text/plain": [
       "roll_out:   0%|          | 0/1024 [00:00<?, ?it/s]"
      ]
     },
     "metadata": {},
     "output_type": "display_data"
    },
    {
     "data": {
      "application/vnd.jupyter.widget-view+json": {
       "model_id": "4dfd2ea5d661455f8cb92a3062db2748",
       "version_major": 2,
       "version_minor": 0
      },
      "text/plain": [
       "roll_out:   0%|          | 0/1024 [00:00<?, ?it/s]"
      ]
     },
     "metadata": {},
     "output_type": "display_data"
    },
    {
     "data": {
      "application/vnd.jupyter.widget-view+json": {
       "model_id": "0db1263ecdca476b8dd9600c2a20c26e",
       "version_major": 2,
       "version_minor": 0
      },
      "text/plain": [
       "roll_out:   0%|          | 0/1024 [00:00<?, ?it/s]"
      ]
     },
     "metadata": {},
     "output_type": "display_data"
    },
    {
     "data": {
      "application/vnd.jupyter.widget-view+json": {
       "model_id": "bbbca5aed4f04812b5fad9f672fc45a6",
       "version_major": 2,
       "version_minor": 0
      },
      "text/plain": [
       "roll_out:   0%|          | 0/1024 [00:00<?, ?it/s]"
      ]
     },
     "metadata": {},
     "output_type": "display_data"
    },
    {
     "data": {
      "application/vnd.jupyter.widget-view+json": {
       "model_id": "ccc675427c2940b999c0997720311723",
       "version_major": 2,
       "version_minor": 0
      },
      "text/plain": [
       "roll_out:   0%|          | 0/1024 [00:00<?, ?it/s]"
      ]
     },
     "metadata": {},
     "output_type": "display_data"
    },
    {
     "data": {
      "application/vnd.jupyter.widget-view+json": {
       "model_id": "77c71e91119442f2a202cde63b793a11",
       "version_major": 2,
       "version_minor": 0
      },
      "text/plain": [
       "roll_out:   0%|          | 0/1024 [00:00<?, ?it/s]"
      ]
     },
     "metadata": {},
     "output_type": "display_data"
    },
    {
     "data": {
      "application/vnd.jupyter.widget-view+json": {
       "model_id": "cde53fa83cc5426c9aab337f217be69e",
       "version_major": 2,
       "version_minor": 0
      },
      "text/plain": [
       "roll_out:   0%|          | 0/1024 [00:00<?, ?it/s]"
      ]
     },
     "metadata": {},
     "output_type": "display_data"
    },
    {
     "data": {
      "application/vnd.jupyter.widget-view+json": {
       "model_id": "f7bbb35d70d54b10ac537839df2927ff",
       "version_major": 2,
       "version_minor": 0
      },
      "text/plain": [
       "roll_out:   0%|          | 0/1024 [00:00<?, ?it/s]"
      ]
     },
     "metadata": {},
     "output_type": "display_data"
    },
    {
     "data": {
      "application/vnd.jupyter.widget-view+json": {
       "model_id": "471bc42cef184d8b90fe6f3bcd728954",
       "version_major": 2,
       "version_minor": 0
      },
      "text/plain": [
       "roll_out:   0%|          | 0/1024 [00:00<?, ?it/s]"
      ]
     },
     "metadata": {},
     "output_type": "display_data"
    },
    {
     "data": {
      "application/vnd.jupyter.widget-view+json": {
       "model_id": "c3e5b09ce0ea4b3aaf3b1ebbe28f8288",
       "version_major": 2,
       "version_minor": 0
      },
      "text/plain": [
       "roll_out:   0%|          | 0/1024 [00:00<?, ?it/s]"
      ]
     },
     "metadata": {},
     "output_type": "display_data"
    },
    {
     "data": {
      "application/vnd.jupyter.widget-view+json": {
       "model_id": "bb222375d25c4096927dddf509da664f",
       "version_major": 2,
       "version_minor": 0
      },
      "text/plain": [
       "roll_out:   0%|          | 0/1024 [00:00<?, ?it/s]"
      ]
     },
     "metadata": {},
     "output_type": "display_data"
    },
    {
     "data": {
      "application/vnd.jupyter.widget-view+json": {
       "model_id": "aac21d6d08594c9abaf2056044dd7179",
       "version_major": 2,
       "version_minor": 0
      },
      "text/plain": [
       "roll_out:   0%|          | 0/1024 [00:00<?, ?it/s]"
      ]
     },
     "metadata": {},
     "output_type": "display_data"
    },
    {
     "data": {
      "application/vnd.jupyter.widget-view+json": {
       "model_id": "768df632bc96461e9fe42c68321d2572",
       "version_major": 2,
       "version_minor": 0
      },
      "text/plain": [
       "roll_out:   0%|          | 0/1024 [00:00<?, ?it/s]"
      ]
     },
     "metadata": {},
     "output_type": "display_data"
    },
    {
     "data": {
      "application/vnd.jupyter.widget-view+json": {
       "model_id": "ed8f8f88f0874ac282a1eb7f5e4aa5f8",
       "version_major": 2,
       "version_minor": 0
      },
      "text/plain": [
       "roll_out:   0%|          | 0/1024 [00:00<?, ?it/s]"
      ]
     },
     "metadata": {},
     "output_type": "display_data"
    },
    {
     "data": {
      "application/vnd.jupyter.widget-view+json": {
       "model_id": "46757ff42d9a4b0aa4d458d2ddae772a",
       "version_major": 2,
       "version_minor": 0
      },
      "text/plain": [
       "roll_out:   0%|          | 0/1024 [00:00<?, ?it/s]"
      ]
     },
     "metadata": {},
     "output_type": "display_data"
    },
    {
     "data": {
      "application/vnd.jupyter.widget-view+json": {
       "model_id": "c7b9fbb3a79e4deb98cd8457dfdf9d4e",
       "version_major": 2,
       "version_minor": 0
      },
      "text/plain": [
       "roll_out:   0%|          | 0/1024 [00:00<?, ?it/s]"
      ]
     },
     "metadata": {},
     "output_type": "display_data"
    },
    {
     "data": {
      "application/vnd.jupyter.widget-view+json": {
       "model_id": "6e7c78292d41436289a45eaa94004c14",
       "version_major": 2,
       "version_minor": 0
      },
      "text/plain": [
       "roll_out:   0%|          | 0/1024 [00:00<?, ?it/s]"
      ]
     },
     "metadata": {},
     "output_type": "display_data"
    },
    {
     "data": {
      "application/vnd.jupyter.widget-view+json": {
       "model_id": "48e651eaff1d4083ad22404903c6c314",
       "version_major": 2,
       "version_minor": 0
      },
      "text/plain": [
       "roll_out:   0%|          | 0/1024 [00:00<?, ?it/s]"
      ]
     },
     "metadata": {},
     "output_type": "display_data"
    },
    {
     "data": {
      "application/vnd.jupyter.widget-view+json": {
       "model_id": "81204af7eebf4ee5bb7256224ece3760",
       "version_major": 2,
       "version_minor": 0
      },
      "text/plain": [
       "roll_out:   0%|          | 0/1024 [00:00<?, ?it/s]"
      ]
     },
     "metadata": {},
     "output_type": "display_data"
    },
    {
     "data": {
      "application/vnd.jupyter.widget-view+json": {
       "model_id": "a3dbc90cea2f4e9bbadd8e0c8fc322dc",
       "version_major": 2,
       "version_minor": 0
      },
      "text/plain": [
       "roll_out:   0%|          | 0/1024 [00:00<?, ?it/s]"
      ]
     },
     "metadata": {},
     "output_type": "display_data"
    },
    {
     "data": {
      "application/vnd.jupyter.widget-view+json": {
       "model_id": "50e25b47174442268935f9336775a322",
       "version_major": 2,
       "version_minor": 0
      },
      "text/plain": [
       "roll_out:   0%|          | 0/1024 [00:00<?, ?it/s]"
      ]
     },
     "metadata": {},
     "output_type": "display_data"
    },
    {
     "data": {
      "application/vnd.jupyter.widget-view+json": {
       "model_id": "e65885cf07f048cf90f65508db0ba329",
       "version_major": 2,
       "version_minor": 0
      },
      "text/plain": [
       "roll_out:   0%|          | 0/1024 [00:00<?, ?it/s]"
      ]
     },
     "metadata": {},
     "output_type": "display_data"
    },
    {
     "data": {
      "application/vnd.jupyter.widget-view+json": {
       "model_id": "cf6a6fd6bf04403eafac06a8c0a79b26",
       "version_major": 2,
       "version_minor": 0
      },
      "text/plain": [
       "roll_out:   0%|          | 0/1024 [00:00<?, ?it/s]"
      ]
     },
     "metadata": {},
     "output_type": "display_data"
    },
    {
     "data": {
      "application/vnd.jupyter.widget-view+json": {
       "model_id": "6a79425ad7b5462d9fd9c6a0022c082d",
       "version_major": 2,
       "version_minor": 0
      },
      "text/plain": [
       "roll_out:   0%|          | 0/1024 [00:00<?, ?it/s]"
      ]
     },
     "metadata": {},
     "output_type": "display_data"
    },
    {
     "data": {
      "application/vnd.jupyter.widget-view+json": {
       "model_id": "90dacb031a92496798ce612432ef024a",
       "version_major": 2,
       "version_minor": 0
      },
      "text/plain": [
       "roll_out:   0%|          | 0/1024 [00:00<?, ?it/s]"
      ]
     },
     "metadata": {},
     "output_type": "display_data"
    },
    {
     "data": {
      "application/vnd.jupyter.widget-view+json": {
       "model_id": "d723c308b6694ed18abdcdb591712763",
       "version_major": 2,
       "version_minor": 0
      },
      "text/plain": [
       "roll_out:   0%|          | 0/1024 [00:00<?, ?it/s]"
      ]
     },
     "metadata": {},
     "output_type": "display_data"
    },
    {
     "data": {
      "application/vnd.jupyter.widget-view+json": {
       "model_id": "26f348a4016b4aaca2249db75bcbd287",
       "version_major": 2,
       "version_minor": 0
      },
      "text/plain": [
       "roll_out:   0%|          | 0/1024 [00:00<?, ?it/s]"
      ]
     },
     "metadata": {},
     "output_type": "display_data"
    },
    {
     "data": {
      "application/vnd.jupyter.widget-view+json": {
       "model_id": "192ad502c2ab4abc9b1ce39c432b8ca6",
       "version_major": 2,
       "version_minor": 0
      },
      "text/plain": [
       "roll_out:   0%|          | 0/1024 [00:00<?, ?it/s]"
      ]
     },
     "metadata": {},
     "output_type": "display_data"
    },
    {
     "data": {
      "application/vnd.jupyter.widget-view+json": {
       "model_id": "b954b5c99624417ea29a1a12043c1cf3",
       "version_major": 2,
       "version_minor": 0
      },
      "text/plain": [
       "roll_out:   0%|          | 0/1024 [00:00<?, ?it/s]"
      ]
     },
     "metadata": {},
     "output_type": "display_data"
    },
    {
     "data": {
      "application/vnd.jupyter.widget-view+json": {
       "model_id": "8853680f70504dbd8212323ea3bb85d2",
       "version_major": 2,
       "version_minor": 0
      },
      "text/plain": [
       "roll_out:   0%|          | 0/1024 [00:00<?, ?it/s]"
      ]
     },
     "metadata": {},
     "output_type": "display_data"
    },
    {
     "data": {
      "application/vnd.jupyter.widget-view+json": {
       "model_id": "224fcc3a42194e06b1e3ef554fbc1936",
       "version_major": 2,
       "version_minor": 0
      },
      "text/plain": [
       "roll_out:   0%|          | 0/1024 [00:00<?, ?it/s]"
      ]
     },
     "metadata": {},
     "output_type": "display_data"
    },
    {
     "data": {
      "application/vnd.jupyter.widget-view+json": {
       "model_id": "c24131cf2686404ca6cc9d6e5cb59824",
       "version_major": 2,
       "version_minor": 0
      },
      "text/plain": [
       "roll_out:   0%|          | 0/1024 [00:00<?, ?it/s]"
      ]
     },
     "metadata": {},
     "output_type": "display_data"
    },
    {
     "data": {
      "application/vnd.jupyter.widget-view+json": {
       "model_id": "6f65845ac4b94f5d9b5776fb53c3f929",
       "version_major": 2,
       "version_minor": 0
      },
      "text/plain": [
       "roll_out:   0%|          | 0/1024 [00:00<?, ?it/s]"
      ]
     },
     "metadata": {},
     "output_type": "display_data"
    },
    {
     "data": {
      "application/vnd.jupyter.widget-view+json": {
       "model_id": "da5734d35fc143be9d083982996e6229",
       "version_major": 2,
       "version_minor": 0
      },
      "text/plain": [
       "roll_out:   0%|          | 0/1024 [00:00<?, ?it/s]"
      ]
     },
     "metadata": {},
     "output_type": "display_data"
    },
    {
     "data": {
      "application/vnd.jupyter.widget-view+json": {
       "model_id": "9c0d82b95f3e4ad9b6b3e7f2497a5d1f",
       "version_major": 2,
       "version_minor": 0
      },
      "text/plain": [
       "roll_out:   0%|          | 0/1024 [00:00<?, ?it/s]"
      ]
     },
     "metadata": {},
     "output_type": "display_data"
    },
    {
     "data": {
      "application/vnd.jupyter.widget-view+json": {
       "model_id": "2046315af5bb40208dc5cfc60e91ea0f",
       "version_major": 2,
       "version_minor": 0
      },
      "text/plain": [
       "roll_out:   0%|          | 0/1024 [00:00<?, ?it/s]"
      ]
     },
     "metadata": {},
     "output_type": "display_data"
    },
    {
     "data": {
      "application/vnd.jupyter.widget-view+json": {
       "model_id": "3d0e040a8f044933ab2c2815a18e6333",
       "version_major": 2,
       "version_minor": 0
      },
      "text/plain": [
       "roll_out:   0%|          | 0/1024 [00:00<?, ?it/s]"
      ]
     },
     "metadata": {},
     "output_type": "display_data"
    },
    {
     "data": {
      "application/vnd.jupyter.widget-view+json": {
       "model_id": "01c0ee2d94bf4d4fa757e3997c319580",
       "version_major": 2,
       "version_minor": 0
      },
      "text/plain": [
       "roll_out:   0%|          | 0/1024 [00:00<?, ?it/s]"
      ]
     },
     "metadata": {},
     "output_type": "display_data"
    },
    {
     "data": {
      "application/vnd.jupyter.widget-view+json": {
       "model_id": "3ee6fc447b5e493a80c03213a8d8d395",
       "version_major": 2,
       "version_minor": 0
      },
      "text/plain": [
       "roll_out:   0%|          | 0/1024 [00:00<?, ?it/s]"
      ]
     },
     "metadata": {},
     "output_type": "display_data"
    },
    {
     "data": {
      "application/vnd.jupyter.widget-view+json": {
       "model_id": "9398abff94c74794a701ce8e8fd58a7e",
       "version_major": 2,
       "version_minor": 0
      },
      "text/plain": [
       "roll_out:   0%|          | 0/1024 [00:00<?, ?it/s]"
      ]
     },
     "metadata": {},
     "output_type": "display_data"
    },
    {
     "data": {
      "application/vnd.jupyter.widget-view+json": {
       "model_id": "f2b5b3efe9fb4f44831aea4ed58cbad8",
       "version_major": 2,
       "version_minor": 0
      },
      "text/plain": [
       "roll_out:   0%|          | 0/1024 [00:00<?, ?it/s]"
      ]
     },
     "metadata": {},
     "output_type": "display_data"
    },
    {
     "data": {
      "application/vnd.jupyter.widget-view+json": {
       "model_id": "47fbe2d326304b45a4338ebfded8421e",
       "version_major": 2,
       "version_minor": 0
      },
      "text/plain": [
       "roll_out:   0%|          | 0/1024 [00:00<?, ?it/s]"
      ]
     },
     "metadata": {},
     "output_type": "display_data"
    },
    {
     "data": {
      "application/vnd.jupyter.widget-view+json": {
       "model_id": "15abcd0aa13f4b77a2e70364a7a34a24",
       "version_major": 2,
       "version_minor": 0
      },
      "text/plain": [
       "roll_out:   0%|          | 0/1024 [00:00<?, ?it/s]"
      ]
     },
     "metadata": {},
     "output_type": "display_data"
    },
    {
     "data": {
      "application/vnd.jupyter.widget-view+json": {
       "model_id": "90dc2875619340db8005a7e1008d13bb",
       "version_major": 2,
       "version_minor": 0
      },
      "text/plain": [
       "roll_out:   0%|          | 0/1024 [00:00<?, ?it/s]"
      ]
     },
     "metadata": {},
     "output_type": "display_data"
    },
    {
     "data": {
      "application/vnd.jupyter.widget-view+json": {
       "model_id": "370362982d7a4598b78401fc2a34d031",
       "version_major": 2,
       "version_minor": 0
      },
      "text/plain": [
       "roll_out:   0%|          | 0/1024 [00:00<?, ?it/s]"
      ]
     },
     "metadata": {},
     "output_type": "display_data"
    },
    {
     "data": {
      "application/vnd.jupyter.widget-view+json": {
       "model_id": "5d189fff42a04ab6b86598f73e79075c",
       "version_major": 2,
       "version_minor": 0
      },
      "text/plain": [
       "roll_out:   0%|          | 0/1024 [00:00<?, ?it/s]"
      ]
     },
     "metadata": {},
     "output_type": "display_data"
    },
    {
     "data": {
      "application/vnd.jupyter.widget-view+json": {
       "model_id": "024c6448a91741b1a586f4c53af231f0",
       "version_major": 2,
       "version_minor": 0
      },
      "text/plain": [
       "roll_out:   0%|          | 0/1024 [00:00<?, ?it/s]"
      ]
     },
     "metadata": {},
     "output_type": "display_data"
    },
    {
     "data": {
      "application/vnd.jupyter.widget-view+json": {
       "model_id": "c2238088e8484b6c972de2648357824b",
       "version_major": 2,
       "version_minor": 0
      },
      "text/plain": [
       "roll_out:   0%|          | 0/1024 [00:00<?, ?it/s]"
      ]
     },
     "metadata": {},
     "output_type": "display_data"
    },
    {
     "data": {
      "application/vnd.jupyter.widget-view+json": {
       "model_id": "1c27c31681f449e5b59f821aada2d8be",
       "version_major": 2,
       "version_minor": 0
      },
      "text/plain": [
       "roll_out:   0%|          | 0/1024 [00:00<?, ?it/s]"
      ]
     },
     "metadata": {},
     "output_type": "display_data"
    },
    {
     "data": {
      "application/vnd.jupyter.widget-view+json": {
       "model_id": "16ef0800b3424f828c760f58d608a38e",
       "version_major": 2,
       "version_minor": 0
      },
      "text/plain": [
       "roll_out:   0%|          | 0/1024 [00:00<?, ?it/s]"
      ]
     },
     "metadata": {},
     "output_type": "display_data"
    },
    {
     "data": {
      "application/vnd.jupyter.widget-view+json": {
       "model_id": "027c4b51d39e425f92cf0b30bb2cd03f",
       "version_major": 2,
       "version_minor": 0
      },
      "text/plain": [
       "roll_out:   0%|          | 0/1024 [00:00<?, ?it/s]"
      ]
     },
     "metadata": {},
     "output_type": "display_data"
    },
    {
     "data": {
      "application/vnd.jupyter.widget-view+json": {
       "model_id": "a40783f6f51448d3a2ed6f69bef73ee0",
       "version_major": 2,
       "version_minor": 0
      },
      "text/plain": [
       "roll_out:   0%|          | 0/1024 [00:00<?, ?it/s]"
      ]
     },
     "metadata": {},
     "output_type": "display_data"
    },
    {
     "data": {
      "application/vnd.jupyter.widget-view+json": {
       "model_id": "cd7de9ce3bd54dde8669951985501f1a",
       "version_major": 2,
       "version_minor": 0
      },
      "text/plain": [
       "roll_out:   0%|          | 0/1024 [00:00<?, ?it/s]"
      ]
     },
     "metadata": {},
     "output_type": "display_data"
    },
    {
     "data": {
      "application/vnd.jupyter.widget-view+json": {
       "model_id": "72b52bb2075e41dabdeebaac1e3b4d99",
       "version_major": 2,
       "version_minor": 0
      },
      "text/plain": [
       "roll_out:   0%|          | 0/1024 [00:00<?, ?it/s]"
      ]
     },
     "metadata": {},
     "output_type": "display_data"
    },
    {
     "data": {
      "application/vnd.jupyter.widget-view+json": {
       "model_id": "2d4158bb945b43f995b4eef23ad70716",
       "version_major": 2,
       "version_minor": 0
      },
      "text/plain": [
       "roll_out:   0%|          | 0/1024 [00:00<?, ?it/s]"
      ]
     },
     "metadata": {},
     "output_type": "display_data"
    },
    {
     "data": {
      "application/vnd.jupyter.widget-view+json": {
       "model_id": "374156fa4f894e4fb16117375165c6e8",
       "version_major": 2,
       "version_minor": 0
      },
      "text/plain": [
       "roll_out:   0%|          | 0/1024 [00:00<?, ?it/s]"
      ]
     },
     "metadata": {},
     "output_type": "display_data"
    },
    {
     "data": {
      "application/vnd.jupyter.widget-view+json": {
       "model_id": "ef964738971247f39c77dcd8bb676713",
       "version_major": 2,
       "version_minor": 0
      },
      "text/plain": [
       "roll_out:   0%|          | 0/1024 [00:00<?, ?it/s]"
      ]
     },
     "metadata": {},
     "output_type": "display_data"
    },
    {
     "data": {
      "application/vnd.jupyter.widget-view+json": {
       "model_id": "ad91916fef304027b57065fa5c3aa889",
       "version_major": 2,
       "version_minor": 0
      },
      "text/plain": [
       "roll_out:   0%|          | 0/1024 [00:00<?, ?it/s]"
      ]
     },
     "metadata": {},
     "output_type": "display_data"
    },
    {
     "data": {
      "application/vnd.jupyter.widget-view+json": {
       "model_id": "6828399991404fb2a48b510ff7692031",
       "version_major": 2,
       "version_minor": 0
      },
      "text/plain": [
       "roll_out:   0%|          | 0/1024 [00:00<?, ?it/s]"
      ]
     },
     "metadata": {},
     "output_type": "display_data"
    },
    {
     "data": {
      "application/vnd.jupyter.widget-view+json": {
       "model_id": "36bb151c2c9e4618a8e9c1caf822f810",
       "version_major": 2,
       "version_minor": 0
      },
      "text/plain": [
       "roll_out:   0%|          | 0/1024 [00:00<?, ?it/s]"
      ]
     },
     "metadata": {},
     "output_type": "display_data"
    },
    {
     "data": {
      "application/vnd.jupyter.widget-view+json": {
       "model_id": "6c3f52bbd57e4b87ba6a8ac38aa0fcbd",
       "version_major": 2,
       "version_minor": 0
      },
      "text/plain": [
       "roll_out:   0%|          | 0/1024 [00:00<?, ?it/s]"
      ]
     },
     "metadata": {},
     "output_type": "display_data"
    },
    {
     "data": {
      "application/vnd.jupyter.widget-view+json": {
       "model_id": "2ede0d6318484a97b019e6ad2e546dc5",
       "version_major": 2,
       "version_minor": 0
      },
      "text/plain": [
       "roll_out:   0%|          | 0/1024 [00:00<?, ?it/s]"
      ]
     },
     "metadata": {},
     "output_type": "display_data"
    },
    {
     "data": {
      "application/vnd.jupyter.widget-view+json": {
       "model_id": "37066dc3082743e49a3fbd0c1f7b81c1",
       "version_major": 2,
       "version_minor": 0
      },
      "text/plain": [
       "roll_out:   0%|          | 0/1024 [00:00<?, ?it/s]"
      ]
     },
     "metadata": {},
     "output_type": "display_data"
    },
    {
     "data": {
      "application/vnd.jupyter.widget-view+json": {
       "model_id": "278d133df91b4b9ab3ccb6a1d5c987a6",
       "version_major": 2,
       "version_minor": 0
      },
      "text/plain": [
       "roll_out:   0%|          | 0/1024 [00:00<?, ?it/s]"
      ]
     },
     "metadata": {},
     "output_type": "display_data"
    },
    {
     "data": {
      "application/vnd.jupyter.widget-view+json": {
       "model_id": "6d81eb97e97949b8a8da7b8f6cc0c811",
       "version_major": 2,
       "version_minor": 0
      },
      "text/plain": [
       "roll_out:   0%|          | 0/1024 [00:00<?, ?it/s]"
      ]
     },
     "metadata": {},
     "output_type": "display_data"
    },
    {
     "data": {
      "application/vnd.jupyter.widget-view+json": {
       "model_id": "e34d66f6e7ca459b8c7ecd65b7bde931",
       "version_major": 2,
       "version_minor": 0
      },
      "text/plain": [
       "roll_out:   0%|          | 0/1024 [00:00<?, ?it/s]"
      ]
     },
     "metadata": {},
     "output_type": "display_data"
    },
    {
     "data": {
      "application/vnd.jupyter.widget-view+json": {
       "model_id": "6654c3d4b16547888bbd393ab071faa8",
       "version_major": 2,
       "version_minor": 0
      },
      "text/plain": [
       "roll_out:   0%|          | 0/1024 [00:00<?, ?it/s]"
      ]
     },
     "metadata": {},
     "output_type": "display_data"
    },
    {
     "data": {
      "application/vnd.jupyter.widget-view+json": {
       "model_id": "aed011901d7f4401b2e05647faa53977",
       "version_major": 2,
       "version_minor": 0
      },
      "text/plain": [
       "roll_out:   0%|          | 0/1024 [00:00<?, ?it/s]"
      ]
     },
     "metadata": {},
     "output_type": "display_data"
    },
    {
     "data": {
      "application/vnd.jupyter.widget-view+json": {
       "model_id": "e8585621001e482d9895940d34219371",
       "version_major": 2,
       "version_minor": 0
      },
      "text/plain": [
       "roll_out:   0%|          | 0/1024 [00:00<?, ?it/s]"
      ]
     },
     "metadata": {},
     "output_type": "display_data"
    },
    {
     "data": {
      "application/vnd.jupyter.widget-view+json": {
       "model_id": "5f0b07362f4e4cabb71b9d64b3e5dc7c",
       "version_major": 2,
       "version_minor": 0
      },
      "text/plain": [
       "roll_out:   0%|          | 0/1024 [00:00<?, ?it/s]"
      ]
     },
     "metadata": {},
     "output_type": "display_data"
    },
    {
     "data": {
      "application/vnd.jupyter.widget-view+json": {
       "model_id": "f6c21c5e7a8244579cd8637c98e4293b",
       "version_major": 2,
       "version_minor": 0
      },
      "text/plain": [
       "roll_out:   0%|          | 0/1024 [00:00<?, ?it/s]"
      ]
     },
     "metadata": {},
     "output_type": "display_data"
    },
    {
     "data": {
      "application/vnd.jupyter.widget-view+json": {
       "model_id": "b2197a3a019e43afa435d96a3b8a3070",
       "version_major": 2,
       "version_minor": 0
      },
      "text/plain": [
       "roll_out:   0%|          | 0/1024 [00:00<?, ?it/s]"
      ]
     },
     "metadata": {},
     "output_type": "display_data"
    },
    {
     "data": {
      "application/vnd.jupyter.widget-view+json": {
       "model_id": "b2dfd35b28f44ff3b1095d79b7fe7d2e",
       "version_major": 2,
       "version_minor": 0
      },
      "text/plain": [
       "roll_out:   0%|          | 0/1024 [00:00<?, ?it/s]"
      ]
     },
     "metadata": {},
     "output_type": "display_data"
    },
    {
     "data": {
      "application/vnd.jupyter.widget-view+json": {
       "model_id": "1aff9578b9e647e380e25285464e188b",
       "version_major": 2,
       "version_minor": 0
      },
      "text/plain": [
       "roll_out:   0%|          | 0/1024 [00:00<?, ?it/s]"
      ]
     },
     "metadata": {},
     "output_type": "display_data"
    },
    {
     "data": {
      "application/vnd.jupyter.widget-view+json": {
       "model_id": "8c95b519de86419181675e859790cf21",
       "version_major": 2,
       "version_minor": 0
      },
      "text/plain": [
       "roll_out:   0%|          | 0/1024 [00:00<?, ?it/s]"
      ]
     },
     "metadata": {},
     "output_type": "display_data"
    },
    {
     "data": {
      "application/vnd.jupyter.widget-view+json": {
       "model_id": "3a35c21d552945718a919b1c9f4978ab",
       "version_major": 2,
       "version_minor": 0
      },
      "text/plain": [
       "roll_out:   0%|          | 0/1024 [00:00<?, ?it/s]"
      ]
     },
     "metadata": {},
     "output_type": "display_data"
    },
    {
     "data": {
      "application/vnd.jupyter.widget-view+json": {
       "model_id": "85312655536f4a828710944c18b9f8a7",
       "version_major": 2,
       "version_minor": 0
      },
      "text/plain": [
       "roll_out:   0%|          | 0/1024 [00:00<?, ?it/s]"
      ]
     },
     "metadata": {},
     "output_type": "display_data"
    },
    {
     "data": {
      "application/vnd.jupyter.widget-view+json": {
       "model_id": "bb9e2f37a3484b4eba916364e1ea8ba9",
       "version_major": 2,
       "version_minor": 0
      },
      "text/plain": [
       "roll_out:   0%|          | 0/1024 [00:00<?, ?it/s]"
      ]
     },
     "metadata": {},
     "output_type": "display_data"
    },
    {
     "data": {
      "application/vnd.jupyter.widget-view+json": {
       "model_id": "de28bffaa656427494622ce489bf1022",
       "version_major": 2,
       "version_minor": 0
      },
      "text/plain": [
       "roll_out:   0%|          | 0/1024 [00:00<?, ?it/s]"
      ]
     },
     "metadata": {},
     "output_type": "display_data"
    },
    {
     "data": {
      "application/vnd.jupyter.widget-view+json": {
       "model_id": "0bf62421d05f4ef98cb7211d5834cefc",
       "version_major": 2,
       "version_minor": 0
      },
      "text/plain": [
       "roll_out:   0%|          | 0/1024 [00:00<?, ?it/s]"
      ]
     },
     "metadata": {},
     "output_type": "display_data"
    },
    {
     "data": {
      "application/vnd.jupyter.widget-view+json": {
       "model_id": "1bbb76893fc949b8a92df03861798ab4",
       "version_major": 2,
       "version_minor": 0
      },
      "text/plain": [
       "roll_out:   0%|          | 0/1024 [00:00<?, ?it/s]"
      ]
     },
     "metadata": {},
     "output_type": "display_data"
    },
    {
     "data": {
      "application/vnd.jupyter.widget-view+json": {
       "model_id": "c8ea5d10b8ff4bbf80b1598cb92fda46",
       "version_major": 2,
       "version_minor": 0
      },
      "text/plain": [
       "roll_out:   0%|          | 0/1024 [00:00<?, ?it/s]"
      ]
     },
     "metadata": {},
     "output_type": "display_data"
    },
    {
     "data": {
      "application/vnd.jupyter.widget-view+json": {
       "model_id": "534a25c826614a7581b4ac992396980d",
       "version_major": 2,
       "version_minor": 0
      },
      "text/plain": [
       "roll_out:   0%|          | 0/1024 [00:00<?, ?it/s]"
      ]
     },
     "metadata": {},
     "output_type": "display_data"
    },
    {
     "data": {
      "application/vnd.jupyter.widget-view+json": {
       "model_id": "a04039dd844e4c73b044602e8a10bddb",
       "version_major": 2,
       "version_minor": 0
      },
      "text/plain": [
       "roll_out:   0%|          | 0/1024 [00:00<?, ?it/s]"
      ]
     },
     "metadata": {},
     "output_type": "display_data"
    },
    {
     "data": {
      "application/vnd.jupyter.widget-view+json": {
       "model_id": "f690d75483c046cc9ace90efdc1ea14e",
       "version_major": 2,
       "version_minor": 0
      },
      "text/plain": [
       "roll_out:   0%|          | 0/1024 [00:00<?, ?it/s]"
      ]
     },
     "metadata": {},
     "output_type": "display_data"
    },
    {
     "data": {
      "application/vnd.jupyter.widget-view+json": {
       "model_id": "9ae71853d81d43c4a2d8af65efb55824",
       "version_major": 2,
       "version_minor": 0
      },
      "text/plain": [
       "roll_out:   0%|          | 0/1024 [00:00<?, ?it/s]"
      ]
     },
     "metadata": {},
     "output_type": "display_data"
    },
    {
     "data": {
      "application/vnd.jupyter.widget-view+json": {
       "model_id": "cc4fae6ef24f48d58353ae5ca55410b8",
       "version_major": 2,
       "version_minor": 0
      },
      "text/plain": [
       "roll_out:   0%|          | 0/1024 [00:00<?, ?it/s]"
      ]
     },
     "metadata": {},
     "output_type": "display_data"
    },
    {
     "data": {
      "application/vnd.jupyter.widget-view+json": {
       "model_id": "647c904931334fdfbab3a826fbba517a",
       "version_major": 2,
       "version_minor": 0
      },
      "text/plain": [
       "roll_out:   0%|          | 0/1024 [00:00<?, ?it/s]"
      ]
     },
     "metadata": {},
     "output_type": "display_data"
    },
    {
     "data": {
      "application/vnd.jupyter.widget-view+json": {
       "model_id": "01a7fd0274cb459c92c2448e712c6f90",
       "version_major": 2,
       "version_minor": 0
      },
      "text/plain": [
       "roll_out:   0%|          | 0/1024 [00:00<?, ?it/s]"
      ]
     },
     "metadata": {},
     "output_type": "display_data"
    },
    {
     "data": {
      "application/vnd.jupyter.widget-view+json": {
       "model_id": "a5b4150cd9f741b286b1329b2a7f1210",
       "version_major": 2,
       "version_minor": 0
      },
      "text/plain": [
       "roll_out:   0%|          | 0/1024 [00:00<?, ?it/s]"
      ]
     },
     "metadata": {},
     "output_type": "display_data"
    },
    {
     "data": {
      "application/vnd.jupyter.widget-view+json": {
       "model_id": "42b3c1778d1045a5af8dea69b45ce86e",
       "version_major": 2,
       "version_minor": 0
      },
      "text/plain": [
       "roll_out:   0%|          | 0/1024 [00:00<?, ?it/s]"
      ]
     },
     "metadata": {},
     "output_type": "display_data"
    },
    {
     "data": {
      "application/vnd.jupyter.widget-view+json": {
       "model_id": "4748fd8d126347ae9e418050d7e63429",
       "version_major": 2,
       "version_minor": 0
      },
      "text/plain": [
       "roll_out:   0%|          | 0/1024 [00:00<?, ?it/s]"
      ]
     },
     "metadata": {},
     "output_type": "display_data"
    },
    {
     "data": {
      "application/vnd.jupyter.widget-view+json": {
       "model_id": "9bc740a8da694adc8d1e3c66d1c12ed2",
       "version_major": 2,
       "version_minor": 0
      },
      "text/plain": [
       "roll_out:   0%|          | 0/1024 [00:00<?, ?it/s]"
      ]
     },
     "metadata": {},
     "output_type": "display_data"
    },
    {
     "data": {
      "application/vnd.jupyter.widget-view+json": {
       "model_id": "6203ef6f2ce44ee0857b1acd22932645",
       "version_major": 2,
       "version_minor": 0
      },
      "text/plain": [
       "roll_out:   0%|          | 0/1024 [00:00<?, ?it/s]"
      ]
     },
     "metadata": {},
     "output_type": "display_data"
    },
    {
     "data": {
      "application/vnd.jupyter.widget-view+json": {
       "model_id": "c0fb3f54c7284cca9d722d42dda11b0a",
       "version_major": 2,
       "version_minor": 0
      },
      "text/plain": [
       "roll_out:   0%|          | 0/1024 [00:00<?, ?it/s]"
      ]
     },
     "metadata": {},
     "output_type": "display_data"
    },
    {
     "data": {
      "application/vnd.jupyter.widget-view+json": {
       "model_id": "a62222577f1b4cba8dabac4ffeaebf85",
       "version_major": 2,
       "version_minor": 0
      },
      "text/plain": [
       "roll_out:   0%|          | 0/1024 [00:00<?, ?it/s]"
      ]
     },
     "metadata": {},
     "output_type": "display_data"
    },
    {
     "data": {
      "application/vnd.jupyter.widget-view+json": {
       "model_id": "93b175392d784311aa11677e15b9086e",
       "version_major": 2,
       "version_minor": 0
      },
      "text/plain": [
       "roll_out:   0%|          | 0/1024 [00:00<?, ?it/s]"
      ]
     },
     "metadata": {},
     "output_type": "display_data"
    },
    {
     "data": {
      "application/vnd.jupyter.widget-view+json": {
       "model_id": "ffd7131157354e24b292454c9ea9e388",
       "version_major": 2,
       "version_minor": 0
      },
      "text/plain": [
       "roll_out:   0%|          | 0/1024 [00:00<?, ?it/s]"
      ]
     },
     "metadata": {},
     "output_type": "display_data"
    },
    {
     "data": {
      "application/vnd.jupyter.widget-view+json": {
       "model_id": "e0333ab069b14e52bb77c2a7c1f27c8e",
       "version_major": 2,
       "version_minor": 0
      },
      "text/plain": [
       "roll_out:   0%|          | 0/1024 [00:00<?, ?it/s]"
      ]
     },
     "metadata": {},
     "output_type": "display_data"
    },
    {
     "data": {
      "application/vnd.jupyter.widget-view+json": {
       "model_id": "cc4f7495e7c0472caa701f09651c4d11",
       "version_major": 2,
       "version_minor": 0
      },
      "text/plain": [
       "roll_out:   0%|          | 0/1024 [00:00<?, ?it/s]"
      ]
     },
     "metadata": {},
     "output_type": "display_data"
    },
    {
     "data": {
      "application/vnd.jupyter.widget-view+json": {
       "model_id": "0916eba907534aad8381386694ec1f61",
       "version_major": 2,
       "version_minor": 0
      },
      "text/plain": [
       "roll_out:   0%|          | 0/1024 [00:00<?, ?it/s]"
      ]
     },
     "metadata": {},
     "output_type": "display_data"
    },
    {
     "data": {
      "application/vnd.jupyter.widget-view+json": {
       "model_id": "e6157d444bdf4c3a9e669d6f2d6d6832",
       "version_major": 2,
       "version_minor": 0
      },
      "text/plain": [
       "roll_out:   0%|          | 0/1024 [00:00<?, ?it/s]"
      ]
     },
     "metadata": {},
     "output_type": "display_data"
    },
    {
     "data": {
      "application/vnd.jupyter.widget-view+json": {
       "model_id": "6bc2eb7dc3f247308fa5b3cce295a72d",
       "version_major": 2,
       "version_minor": 0
      },
      "text/plain": [
       "roll_out:   0%|          | 0/1024 [00:00<?, ?it/s]"
      ]
     },
     "metadata": {},
     "output_type": "display_data"
    },
    {
     "data": {
      "application/vnd.jupyter.widget-view+json": {
       "model_id": "38ccde7ebb5644ec91467c3196446a13",
       "version_major": 2,
       "version_minor": 0
      },
      "text/plain": [
       "roll_out:   0%|          | 0/1024 [00:00<?, ?it/s]"
      ]
     },
     "metadata": {},
     "output_type": "display_data"
    },
    {
     "data": {
      "application/vnd.jupyter.widget-view+json": {
       "model_id": "8437a7db3fce488da56a1179538f46b4",
       "version_major": 2,
       "version_minor": 0
      },
      "text/plain": [
       "roll_out:   0%|          | 0/1024 [00:00<?, ?it/s]"
      ]
     },
     "metadata": {},
     "output_type": "display_data"
    },
    {
     "data": {
      "application/vnd.jupyter.widget-view+json": {
       "model_id": "59e76c3d32cd4bcc8e92fe6a29127478",
       "version_major": 2,
       "version_minor": 0
      },
      "text/plain": [
       "roll_out:   0%|          | 0/1024 [00:00<?, ?it/s]"
      ]
     },
     "metadata": {},
     "output_type": "display_data"
    },
    {
     "data": {
      "application/vnd.jupyter.widget-view+json": {
       "model_id": "6f93c87107894b359f8b642486915146",
       "version_major": 2,
       "version_minor": 0
      },
      "text/plain": [
       "roll_out:   0%|          | 0/1024 [00:00<?, ?it/s]"
      ]
     },
     "metadata": {},
     "output_type": "display_data"
    },
    {
     "data": {
      "application/vnd.jupyter.widget-view+json": {
       "model_id": "61fb64b0a55e40089af8d47b61d9844f",
       "version_major": 2,
       "version_minor": 0
      },
      "text/plain": [
       "roll_out:   0%|          | 0/1024 [00:00<?, ?it/s]"
      ]
     },
     "metadata": {},
     "output_type": "display_data"
    },
    {
     "data": {
      "application/vnd.jupyter.widget-view+json": {
       "model_id": "84a05ac296ce45e4ba18f40dfb8fd480",
       "version_major": 2,
       "version_minor": 0
      },
      "text/plain": [
       "roll_out:   0%|          | 0/1024 [00:00<?, ?it/s]"
      ]
     },
     "metadata": {},
     "output_type": "display_data"
    },
    {
     "data": {
      "application/vnd.jupyter.widget-view+json": {
       "model_id": "b83880de7f574b928b270a7a7ee3894b",
       "version_major": 2,
       "version_minor": 0
      },
      "text/plain": [
       "roll_out:   0%|          | 0/1024 [00:00<?, ?it/s]"
      ]
     },
     "metadata": {},
     "output_type": "display_data"
    },
    {
     "data": {
      "application/vnd.jupyter.widget-view+json": {
       "model_id": "923a358dc1074376803146c7e5108a18",
       "version_major": 2,
       "version_minor": 0
      },
      "text/plain": [
       "roll_out:   0%|          | 0/1024 [00:00<?, ?it/s]"
      ]
     },
     "metadata": {},
     "output_type": "display_data"
    },
    {
     "data": {
      "application/vnd.jupyter.widget-view+json": {
       "model_id": "fef2bf7ae6ad4e88881c059b9d54d15d",
       "version_major": 2,
       "version_minor": 0
      },
      "text/plain": [
       "roll_out:   0%|          | 0/1024 [00:00<?, ?it/s]"
      ]
     },
     "metadata": {},
     "output_type": "display_data"
    },
    {
     "data": {
      "application/vnd.jupyter.widget-view+json": {
       "model_id": "d084acc58cee4dcb9de9e7e4e9a93d91",
       "version_major": 2,
       "version_minor": 0
      },
      "text/plain": [
       "roll_out:   0%|          | 0/1024 [00:00<?, ?it/s]"
      ]
     },
     "metadata": {},
     "output_type": "display_data"
    },
    {
     "data": {
      "application/vnd.jupyter.widget-view+json": {
       "model_id": "996718bd84314aa38e3d77bfb57c50a2",
       "version_major": 2,
       "version_minor": 0
      },
      "text/plain": [
       "roll_out:   0%|          | 0/1024 [00:00<?, ?it/s]"
      ]
     },
     "metadata": {},
     "output_type": "display_data"
    },
    {
     "data": {
      "application/vnd.jupyter.widget-view+json": {
       "model_id": "49c929c07f50486c913c68fc92fbf234",
       "version_major": 2,
       "version_minor": 0
      },
      "text/plain": [
       "roll_out:   0%|          | 0/1024 [00:00<?, ?it/s]"
      ]
     },
     "metadata": {},
     "output_type": "display_data"
    },
    {
     "data": {
      "application/vnd.jupyter.widget-view+json": {
       "model_id": "f55b2e569dfd4f0289f16fa6533200c7",
       "version_major": 2,
       "version_minor": 0
      },
      "text/plain": [
       "roll_out:   0%|          | 0/1024 [00:00<?, ?it/s]"
      ]
     },
     "metadata": {},
     "output_type": "display_data"
    },
    {
     "data": {
      "application/vnd.jupyter.widget-view+json": {
       "model_id": "e25b4c7df4d44da39bf748064e7a57cd",
       "version_major": 2,
       "version_minor": 0
      },
      "text/plain": [
       "roll_out:   0%|          | 0/1024 [00:00<?, ?it/s]"
      ]
     },
     "metadata": {},
     "output_type": "display_data"
    },
    {
     "data": {
      "application/vnd.jupyter.widget-view+json": {
       "model_id": "306f98b8da8b4cc2853bdcefe50b4b07",
       "version_major": 2,
       "version_minor": 0
      },
      "text/plain": [
       "roll_out:   0%|          | 0/1024 [00:00<?, ?it/s]"
      ]
     },
     "metadata": {},
     "output_type": "display_data"
    },
    {
     "data": {
      "application/vnd.jupyter.widget-view+json": {
       "model_id": "e11181662e394308a4bf414497207e40",
       "version_major": 2,
       "version_minor": 0
      },
      "text/plain": [
       "roll_out:   0%|          | 0/1024 [00:00<?, ?it/s]"
      ]
     },
     "metadata": {},
     "output_type": "display_data"
    },
    {
     "data": {
      "application/vnd.jupyter.widget-view+json": {
       "model_id": "acac49c680a5449a8d8a4e237b5998cf",
       "version_major": 2,
       "version_minor": 0
      },
      "text/plain": [
       "roll_out:   0%|          | 0/1024 [00:00<?, ?it/s]"
      ]
     },
     "metadata": {},
     "output_type": "display_data"
    },
    {
     "data": {
      "application/vnd.jupyter.widget-view+json": {
       "model_id": "9249c421060b4a1d9a3257c86a6571a3",
       "version_major": 2,
       "version_minor": 0
      },
      "text/plain": [
       "roll_out:   0%|          | 0/1024 [00:00<?, ?it/s]"
      ]
     },
     "metadata": {},
     "output_type": "display_data"
    },
    {
     "data": {
      "application/vnd.jupyter.widget-view+json": {
       "model_id": "1394939157eb45ed9dffa71f78cbd1fe",
       "version_major": 2,
       "version_minor": 0
      },
      "text/plain": [
       "roll_out:   0%|          | 0/1024 [00:00<?, ?it/s]"
      ]
     },
     "metadata": {},
     "output_type": "display_data"
    },
    {
     "data": {
      "application/vnd.jupyter.widget-view+json": {
       "model_id": "51c8cf8de48a40f98b07b16713de9dde",
       "version_major": 2,
       "version_minor": 0
      },
      "text/plain": [
       "roll_out:   0%|          | 0/1024 [00:00<?, ?it/s]"
      ]
     },
     "metadata": {},
     "output_type": "display_data"
    },
    {
     "data": {
      "application/vnd.jupyter.widget-view+json": {
       "model_id": "370266efabb146ac8e45ade00c9523ed",
       "version_major": 2,
       "version_minor": 0
      },
      "text/plain": [
       "roll_out:   0%|          | 0/1024 [00:00<?, ?it/s]"
      ]
     },
     "metadata": {},
     "output_type": "display_data"
    },
    {
     "data": {
      "application/vnd.jupyter.widget-view+json": {
       "model_id": "9d5538d3313348bcb8d2a32aea5a90e0",
       "version_major": 2,
       "version_minor": 0
      },
      "text/plain": [
       "roll_out:   0%|          | 0/1024 [00:00<?, ?it/s]"
      ]
     },
     "metadata": {},
     "output_type": "display_data"
    },
    {
     "data": {
      "application/vnd.jupyter.widget-view+json": {
       "model_id": "076135e22a054614b2e3ff5d39231741",
       "version_major": 2,
       "version_minor": 0
      },
      "text/plain": [
       "roll_out:   0%|          | 0/1024 [00:00<?, ?it/s]"
      ]
     },
     "metadata": {},
     "output_type": "display_data"
    },
    {
     "data": {
      "application/vnd.jupyter.widget-view+json": {
       "model_id": "56ad51c1bd4d4936ad85867c85c0fdf1",
       "version_major": 2,
       "version_minor": 0
      },
      "text/plain": [
       "roll_out:   0%|          | 0/1024 [00:00<?, ?it/s]"
      ]
     },
     "metadata": {},
     "output_type": "display_data"
    },
    {
     "data": {
      "application/vnd.jupyter.widget-view+json": {
       "model_id": "f68d2904b27e4167b4d335e18a294500",
       "version_major": 2,
       "version_minor": 0
      },
      "text/plain": [
       "roll_out:   0%|          | 0/1024 [00:00<?, ?it/s]"
      ]
     },
     "metadata": {},
     "output_type": "display_data"
    },
    {
     "data": {
      "application/vnd.jupyter.widget-view+json": {
       "model_id": "4653e379b5cc41e48ad819146e7c017c",
       "version_major": 2,
       "version_minor": 0
      },
      "text/plain": [
       "roll_out:   0%|          | 0/1024 [00:00<?, ?it/s]"
      ]
     },
     "metadata": {},
     "output_type": "display_data"
    },
    {
     "data": {
      "application/vnd.jupyter.widget-view+json": {
       "model_id": "051168558bcf45a284de791bbf51a548",
       "version_major": 2,
       "version_minor": 0
      },
      "text/plain": [
       "roll_out:   0%|          | 0/1024 [00:00<?, ?it/s]"
      ]
     },
     "metadata": {},
     "output_type": "display_data"
    },
    {
     "data": {
      "application/vnd.jupyter.widget-view+json": {
       "model_id": "8cf658be95ae46a9b76a931d199d9f85",
       "version_major": 2,
       "version_minor": 0
      },
      "text/plain": [
       "roll_out:   0%|          | 0/1024 [00:00<?, ?it/s]"
      ]
     },
     "metadata": {},
     "output_type": "display_data"
    },
    {
     "data": {
      "application/vnd.jupyter.widget-view+json": {
       "model_id": "4da5f88f786d4a709029d4a38d1d51f9",
       "version_major": 2,
       "version_minor": 0
      },
      "text/plain": [
       "roll_out:   0%|          | 0/1024 [00:00<?, ?it/s]"
      ]
     },
     "metadata": {},
     "output_type": "display_data"
    },
    {
     "data": {
      "application/vnd.jupyter.widget-view+json": {
       "model_id": "7ee4d7021922445981a24f2232689f04",
       "version_major": 2,
       "version_minor": 0
      },
      "text/plain": [
       "roll_out:   0%|          | 0/1024 [00:00<?, ?it/s]"
      ]
     },
     "metadata": {},
     "output_type": "display_data"
    },
    {
     "data": {
      "application/vnd.jupyter.widget-view+json": {
       "model_id": "a401451ee3a24168998b4a47c428a0e2",
       "version_major": 2,
       "version_minor": 0
      },
      "text/plain": [
       "roll_out:   0%|          | 0/1024 [00:00<?, ?it/s]"
      ]
     },
     "metadata": {},
     "output_type": "display_data"
    },
    {
     "data": {
      "application/vnd.jupyter.widget-view+json": {
       "model_id": "e34a9ac824624ccebc7b84cfe0573854",
       "version_major": 2,
       "version_minor": 0
      },
      "text/plain": [
       "roll_out:   0%|          | 0/1024 [00:00<?, ?it/s]"
      ]
     },
     "metadata": {},
     "output_type": "display_data"
    },
    {
     "data": {
      "application/vnd.jupyter.widget-view+json": {
       "model_id": "b55e26010eac4253be7ba3261c5faf88",
       "version_major": 2,
       "version_minor": 0
      },
      "text/plain": [
       "roll_out:   0%|          | 0/1024 [00:00<?, ?it/s]"
      ]
     },
     "metadata": {},
     "output_type": "display_data"
    },
    {
     "data": {
      "application/vnd.jupyter.widget-view+json": {
       "model_id": "bc58d909b09941cfa87cb5c9d04d1563",
       "version_major": 2,
       "version_minor": 0
      },
      "text/plain": [
       "roll_out:   0%|          | 0/1024 [00:00<?, ?it/s]"
      ]
     },
     "metadata": {},
     "output_type": "display_data"
    },
    {
     "data": {
      "application/vnd.jupyter.widget-view+json": {
       "model_id": "16b540c2216f42b5950702be10f9a5ed",
       "version_major": 2,
       "version_minor": 0
      },
      "text/plain": [
       "roll_out:   0%|          | 0/1024 [00:00<?, ?it/s]"
      ]
     },
     "metadata": {},
     "output_type": "display_data"
    },
    {
     "data": {
      "application/vnd.jupyter.widget-view+json": {
       "model_id": "3961a443d05f482d9421da6b93d7c522",
       "version_major": 2,
       "version_minor": 0
      },
      "text/plain": [
       "roll_out:   0%|          | 0/1024 [00:00<?, ?it/s]"
      ]
     },
     "metadata": {},
     "output_type": "display_data"
    },
    {
     "data": {
      "application/vnd.jupyter.widget-view+json": {
       "model_id": "d3593e3bdd804d1cbca62098b450d88c",
       "version_major": 2,
       "version_minor": 0
      },
      "text/plain": [
       "roll_out:   0%|          | 0/1024 [00:00<?, ?it/s]"
      ]
     },
     "metadata": {},
     "output_type": "display_data"
    },
    {
     "data": {
      "application/vnd.jupyter.widget-view+json": {
       "model_id": "f1c4b57520d64022b85e3e046838d29a",
       "version_major": 2,
       "version_minor": 0
      },
      "text/plain": [
       "roll_out:   0%|          | 0/1024 [00:00<?, ?it/s]"
      ]
     },
     "metadata": {},
     "output_type": "display_data"
    },
    {
     "data": {
      "application/vnd.jupyter.widget-view+json": {
       "model_id": "13c9aeea6a374885be8c787b5d7be5e1",
       "version_major": 2,
       "version_minor": 0
      },
      "text/plain": [
       "roll_out:   0%|          | 0/1024 [00:00<?, ?it/s]"
      ]
     },
     "metadata": {},
     "output_type": "display_data"
    },
    {
     "data": {
      "application/vnd.jupyter.widget-view+json": {
       "model_id": "65070adcb92643749fb4ad5783f03b0d",
       "version_major": 2,
       "version_minor": 0
      },
      "text/plain": [
       "roll_out:   0%|          | 0/1024 [00:00<?, ?it/s]"
      ]
     },
     "metadata": {},
     "output_type": "display_data"
    },
    {
     "data": {
      "application/vnd.jupyter.widget-view+json": {
       "model_id": "18465693bf46427c99c16d1d6165931a",
       "version_major": 2,
       "version_minor": 0
      },
      "text/plain": [
       "roll_out:   0%|          | 0/1024 [00:00<?, ?it/s]"
      ]
     },
     "metadata": {},
     "output_type": "display_data"
    },
    {
     "data": {
      "application/vnd.jupyter.widget-view+json": {
       "model_id": "952cafa5027041c4877feacfa49ce9f4",
       "version_major": 2,
       "version_minor": 0
      },
      "text/plain": [
       "roll_out:   0%|          | 0/1024 [00:00<?, ?it/s]"
      ]
     },
     "metadata": {},
     "output_type": "display_data"
    },
    {
     "data": {
      "application/vnd.jupyter.widget-view+json": {
       "model_id": "b2391655254043638827918a73485b7b",
       "version_major": 2,
       "version_minor": 0
      },
      "text/plain": [
       "roll_out:   0%|          | 0/1024 [00:00<?, ?it/s]"
      ]
     },
     "metadata": {},
     "output_type": "display_data"
    },
    {
     "data": {
      "application/vnd.jupyter.widget-view+json": {
       "model_id": "e48fa518025a423380e8ccb8c79cdfd6",
       "version_major": 2,
       "version_minor": 0
      },
      "text/plain": [
       "roll_out:   0%|          | 0/1024 [00:00<?, ?it/s]"
      ]
     },
     "metadata": {},
     "output_type": "display_data"
    },
    {
     "data": {
      "application/vnd.jupyter.widget-view+json": {
       "model_id": "7fc32d63abdb455789c03fa3c98ed083",
       "version_major": 2,
       "version_minor": 0
      },
      "text/plain": [
       "roll_out:   0%|          | 0/1024 [00:00<?, ?it/s]"
      ]
     },
     "metadata": {},
     "output_type": "display_data"
    },
    {
     "data": {
      "application/vnd.jupyter.widget-view+json": {
       "model_id": "bcdc35ad648f4d409253b675b79c5bf3",
       "version_major": 2,
       "version_minor": 0
      },
      "text/plain": [
       "roll_out:   0%|          | 0/1024 [00:00<?, ?it/s]"
      ]
     },
     "metadata": {},
     "output_type": "display_data"
    },
    {
     "data": {
      "application/vnd.jupyter.widget-view+json": {
       "model_id": "53b8e402a0524049ad00e8db5ede718e",
       "version_major": 2,
       "version_minor": 0
      },
      "text/plain": [
       "roll_out:   0%|          | 0/1024 [00:00<?, ?it/s]"
      ]
     },
     "metadata": {},
     "output_type": "display_data"
    },
    {
     "data": {
      "application/vnd.jupyter.widget-view+json": {
       "model_id": "7b329f8e34bc4e7290aea3998c0977c3",
       "version_major": 2,
       "version_minor": 0
      },
      "text/plain": [
       "roll_out:   0%|          | 0/1024 [00:00<?, ?it/s]"
      ]
     },
     "metadata": {},
     "output_type": "display_data"
    },
    {
     "data": {
      "application/vnd.jupyter.widget-view+json": {
       "model_id": "dd28d6cfbc4b4265ade8e0aeeebe20aa",
       "version_major": 2,
       "version_minor": 0
      },
      "text/plain": [
       "roll_out:   0%|          | 0/1024 [00:00<?, ?it/s]"
      ]
     },
     "metadata": {},
     "output_type": "display_data"
    },
    {
     "data": {
      "application/vnd.jupyter.widget-view+json": {
       "model_id": "5f86cbc378bc4c5da88662fe3d765373",
       "version_major": 2,
       "version_minor": 0
      },
      "text/plain": [
       "roll_out:   0%|          | 0/1024 [00:00<?, ?it/s]"
      ]
     },
     "metadata": {},
     "output_type": "display_data"
    },
    {
     "data": {
      "application/vnd.jupyter.widget-view+json": {
       "model_id": "410101183aff4047a62ed87a24ba8b86",
       "version_major": 2,
       "version_minor": 0
      },
      "text/plain": [
       "roll_out:   0%|          | 0/1024 [00:00<?, ?it/s]"
      ]
     },
     "metadata": {},
     "output_type": "display_data"
    },
    {
     "data": {
      "application/vnd.jupyter.widget-view+json": {
       "model_id": "136ff72fb1824b63971c9bfa125304e6",
       "version_major": 2,
       "version_minor": 0
      },
      "text/plain": [
       "roll_out:   0%|          | 0/1024 [00:00<?, ?it/s]"
      ]
     },
     "metadata": {},
     "output_type": "display_data"
    },
    {
     "data": {
      "application/vnd.jupyter.widget-view+json": {
       "model_id": "0cbf5e4a5b8349038eb53e117f966e1c",
       "version_major": 2,
       "version_minor": 0
      },
      "text/plain": [
       "roll_out:   0%|          | 0/1024 [00:00<?, ?it/s]"
      ]
     },
     "metadata": {},
     "output_type": "display_data"
    },
    {
     "data": {
      "application/vnd.jupyter.widget-view+json": {
       "model_id": "dbda923d9fa5428eb9331abb86f41439",
       "version_major": 2,
       "version_minor": 0
      },
      "text/plain": [
       "roll_out:   0%|          | 0/1024 [00:00<?, ?it/s]"
      ]
     },
     "metadata": {},
     "output_type": "display_data"
    },
    {
     "data": {
      "application/vnd.jupyter.widget-view+json": {
       "model_id": "9e1364e5e0724237b8ecc0140ac5ee20",
       "version_major": 2,
       "version_minor": 0
      },
      "text/plain": [
       "roll_out:   0%|          | 0/1024 [00:00<?, ?it/s]"
      ]
     },
     "metadata": {},
     "output_type": "display_data"
    },
    {
     "data": {
      "application/vnd.jupyter.widget-view+json": {
       "model_id": "296da43d1c3e4df1840b4dad32d84604",
       "version_major": 2,
       "version_minor": 0
      },
      "text/plain": [
       "roll_out:   0%|          | 0/1024 [00:00<?, ?it/s]"
      ]
     },
     "metadata": {},
     "output_type": "display_data"
    },
    {
     "data": {
      "application/vnd.jupyter.widget-view+json": {
       "model_id": "67b659f1423e4667a3ee6416fd2f1e56",
       "version_major": 2,
       "version_minor": 0
      },
      "text/plain": [
       "roll_out:   0%|          | 0/1024 [00:00<?, ?it/s]"
      ]
     },
     "metadata": {},
     "output_type": "display_data"
    },
    {
     "data": {
      "application/vnd.jupyter.widget-view+json": {
       "model_id": "5dcc0f2572354da9b466f8a0bce0e23e",
       "version_major": 2,
       "version_minor": 0
      },
      "text/plain": [
       "roll_out:   0%|          | 0/1024 [00:00<?, ?it/s]"
      ]
     },
     "metadata": {},
     "output_type": "display_data"
    },
    {
     "data": {
      "text/html": [
       "Waiting for W&B process to finish... <strong style=\"color:green\">(success).</strong>"
      ],
      "text/plain": [
       "<IPython.core.display.HTML object>"
      ]
     },
     "metadata": {},
     "output_type": "display_data"
    },
    {
     "data": {
      "application/vnd.jupyter.widget-view+json": {
       "model_id": "4f0a455d6d5d47c597a9f11dd67ac2f4",
       "version_major": 2,
       "version_minor": 0
      },
      "text/plain": [
       "VBox(children=(Label(value='0.001 MB of 0.001 MB uploaded (0.000 MB deduped)\\r'), FloatProgress(value=1.0, max…"
      ]
     },
     "metadata": {},
     "output_type": "display_data"
    },
    {
     "data": {
      "text/html": [
       "<style>\n",
       "    table.wandb td:nth-child(1) { padding: 0 10px; text-align: left ; width: auto;} td:nth-child(2) {text-align: left ; width: 100%}\n",
       "    .wandb-row { display: flex; flex-direction: row; flex-wrap: wrap; justify-content: flex-start; width: 100% }\n",
       "    .wandb-col { display: flex; flex-direction: column; flex-basis: 100%; flex: 1; padding: 10px; }\n",
       "    </style>\n",
       "<div class=\"wandb-row\"><div class=\"wandb-col\"><h3>Run history:</h3><br/><table class=\"wandb\"><tr><td>KL_approx</td><td>▁▁▁▁▁▂▁▁▁▁▁▁▃▁▁▁▁▁▁▁▁▁▁▁▂▂▁▁▁▂█▂▁▁▁▁▂▁▁▁</td></tr><tr><td>episode_reward</td><td>▃▄▄▄▄▆▇▇▇▇▇▇█▇▇▆▇▇▆▇▇▇▁▇▇▇▆▇█▇▇▆▄▇▇▆▇▇▇█</td></tr><tr><td>total_loss</td><td>█▃▆▃▃▂▃▄▂▁▃▁▁▁▁▂▂▁▂▁▂▄▁▂▁▁▁▁▂▁▂▂▂▁▁▂▁▂▅▁</td></tr></table><br/></div><div class=\"wandb-col\"><h3>Run summary:</h3><br/><table class=\"wandb\"><tr><td>early_stop_count</td><td>0</td></tr><tr><td>episode_reward</td><td>-130.87765</td></tr><tr><td>total_loss</td><td>2.7076</td></tr></table><br/></div></div>"
      ],
      "text/plain": [
       "<IPython.core.display.HTML object>"
      ]
     },
     "metadata": {},
     "output_type": "display_data"
    },
    {
     "data": {
      "text/html": [
       " View run <strong style=\"color:#cdcd00\">divine-sweep-1</strong> at: <a href='https://wandb.ai/tcd-clearway/PPO-Pendulum-2/runs/zktfg548' target=\"_blank\">https://wandb.ai/tcd-clearway/PPO-Pendulum-2/runs/zktfg548</a><br/>Synced 5 W&B file(s), 0 media file(s), 0 artifact file(s) and 1 other file(s)"
      ],
      "text/plain": [
       "<IPython.core.display.HTML object>"
      ]
     },
     "metadata": {},
     "output_type": "display_data"
    },
    {
     "data": {
      "text/html": [
       "Find logs at: <code>.\\wandb\\run-20230720_090845-zktfg548\\logs</code>"
      ],
      "text/plain": [
       "<IPython.core.display.HTML object>"
      ]
     },
     "metadata": {},
     "output_type": "display_data"
    },
    {
     "name": "stderr",
     "output_type": "stream",
     "text": [
      "\u001b[34m\u001b[1mwandb\u001b[0m: Agent Starting Run: 2i1pxj2d with config:\n",
      "\u001b[34m\u001b[1mwandb\u001b[0m: \tc1: 0.5020639303776493\n",
      "\u001b[34m\u001b[1mwandb\u001b[0m: \tc2: 0.910077248529638\n",
      "\u001b[34m\u001b[1mwandb\u001b[0m: \tcal_total_loss: True\n",
      "\u001b[34m\u001b[1mwandb\u001b[0m: \tearly_stop: False\n",
      "\u001b[34m\u001b[1mwandb\u001b[0m: \tminibatch_size: 256\n",
      "\u001b[34m\u001b[1mwandb\u001b[0m: \tparameters_hardshare: False\n",
      "Failed to detect the name of this notebook, you can set it manually with the WANDB_NOTEBOOK_NAME environment variable to enable code saving.\n"
     ]
    },
    {
     "data": {
      "text/html": [
       "wandb version 0.15.5 is available!  To upgrade, please run:\n",
       " $ pip install wandb --upgrade"
      ],
      "text/plain": [
       "<IPython.core.display.HTML object>"
      ]
     },
     "metadata": {},
     "output_type": "display_data"
    },
    {
     "data": {
      "text/html": [
       "Tracking run with wandb version 0.15.4"
      ],
      "text/plain": [
       "<IPython.core.display.HTML object>"
      ]
     },
     "metadata": {},
     "output_type": "display_data"
    },
    {
     "data": {
      "text/html": [
       "Run data is saved locally in <code>c:\\Users\\stanw\\Desktop\\ppo\\wandb\\run-20230720_092624-2i1pxj2d</code>"
      ],
      "text/plain": [
       "<IPython.core.display.HTML object>"
      ]
     },
     "metadata": {},
     "output_type": "display_data"
    },
    {
     "data": {
      "text/html": [
       "Syncing run <strong><a href='https://wandb.ai/tcd-clearway/PPO-Pendulum-2/runs/2i1pxj2d' target=\"_blank\">electric-sweep-2</a></strong> to <a href='https://wandb.ai/tcd-clearway/PPO-Pendulum-2' target=\"_blank\">Weights & Biases</a> (<a href='https://wandb.me/run' target=\"_blank\">docs</a>)<br/>Sweep page: <a href='https://wandb.ai/tcd-clearway/PPO-Pendulum-2/sweeps/5au3cuvc' target=\"_blank\">https://wandb.ai/tcd-clearway/PPO-Pendulum-2/sweeps/5au3cuvc</a>"
      ],
      "text/plain": [
       "<IPython.core.display.HTML object>"
      ]
     },
     "metadata": {},
     "output_type": "display_data"
    },
    {
     "data": {
      "text/html": [
       " View project at <a href='https://wandb.ai/tcd-clearway/PPO-Pendulum-2' target=\"_blank\">https://wandb.ai/tcd-clearway/PPO-Pendulum-2</a>"
      ],
      "text/plain": [
       "<IPython.core.display.HTML object>"
      ]
     },
     "metadata": {},
     "output_type": "display_data"
    },
    {
     "data": {
      "text/html": [
       " View sweep at <a href='https://wandb.ai/tcd-clearway/PPO-Pendulum-2/sweeps/5au3cuvc' target=\"_blank\">https://wandb.ai/tcd-clearway/PPO-Pendulum-2/sweeps/5au3cuvc</a>"
      ],
      "text/plain": [
       "<IPython.core.display.HTML object>"
      ]
     },
     "metadata": {},
     "output_type": "display_data"
    },
    {
     "data": {
      "text/html": [
       " View run at <a href='https://wandb.ai/tcd-clearway/PPO-Pendulum-2/runs/2i1pxj2d' target=\"_blank\">https://wandb.ai/tcd-clearway/PPO-Pendulum-2/runs/2i1pxj2d</a>"
      ],
      "text/plain": [
       "<IPython.core.display.HTML object>"
      ]
     },
     "metadata": {},
     "output_type": "display_data"
    },
    {
     "name": "stderr",
     "output_type": "stream",
     "text": [
      "\u001b[34m\u001b[1mwandb\u001b[0m: \u001b[33mWARNING\u001b[0m Config item 'minibatch_size' was locked by 'sweep' (ignored update).\n",
      "\u001b[34m\u001b[1mwandb\u001b[0m: \u001b[33mWARNING\u001b[0m Config item 'cal_total_loss' was locked by 'sweep' (ignored update).\n",
      "\u001b[34m\u001b[1mwandb\u001b[0m: \u001b[33mWARNING\u001b[0m Config item 'c1' was locked by 'sweep' (ignored update).\n",
      "\u001b[34m\u001b[1mwandb\u001b[0m: \u001b[33mWARNING\u001b[0m Config item 'c2' was locked by 'sweep' (ignored update).\n",
      "\u001b[34m\u001b[1mwandb\u001b[0m: \u001b[33mWARNING\u001b[0m Config item 'early_stop' was locked by 'sweep' (ignored update).\n"
     ]
    },
    {
     "data": {
      "application/vnd.jupyter.widget-view+json": {
       "model_id": "ba0983e7bcf74e33902a21e680f1228d",
       "version_major": 2,
       "version_minor": 0
      },
      "text/plain": [
       "  0%|          | 0/195 [00:00<?, ?it/s]"
      ]
     },
     "metadata": {},
     "output_type": "display_data"
    },
    {
     "data": {
      "application/vnd.jupyter.widget-view+json": {
       "model_id": "bc12a1cdfdb1454aae942d828302a7be",
       "version_major": 2,
       "version_minor": 0
      },
      "text/plain": [
       "roll_out:   0%|          | 0/1024 [00:00<?, ?it/s]"
      ]
     },
     "metadata": {},
     "output_type": "display_data"
    },
    {
     "data": {
      "application/vnd.jupyter.widget-view+json": {
       "model_id": "eb6806075fbd41e9ad9c94784f90ab08",
       "version_major": 2,
       "version_minor": 0
      },
      "text/plain": [
       "roll_out:   0%|          | 0/1024 [00:00<?, ?it/s]"
      ]
     },
     "metadata": {},
     "output_type": "display_data"
    },
    {
     "data": {
      "application/vnd.jupyter.widget-view+json": {
       "model_id": "7eb7e318424f482ba37a7c5785f6997b",
       "version_major": 2,
       "version_minor": 0
      },
      "text/plain": [
       "roll_out:   0%|          | 0/1024 [00:00<?, ?it/s]"
      ]
     },
     "metadata": {},
     "output_type": "display_data"
    },
    {
     "data": {
      "application/vnd.jupyter.widget-view+json": {
       "model_id": "73c752f34fb8407c8ad0833c1260ffdc",
       "version_major": 2,
       "version_minor": 0
      },
      "text/plain": [
       "roll_out:   0%|          | 0/1024 [00:00<?, ?it/s]"
      ]
     },
     "metadata": {},
     "output_type": "display_data"
    },
    {
     "data": {
      "application/vnd.jupyter.widget-view+json": {
       "model_id": "9dc20bc0ae0c4bd5a2e47ccf1465c6f6",
       "version_major": 2,
       "version_minor": 0
      },
      "text/plain": [
       "roll_out:   0%|          | 0/1024 [00:00<?, ?it/s]"
      ]
     },
     "metadata": {},
     "output_type": "display_data"
    },
    {
     "data": {
      "application/vnd.jupyter.widget-view+json": {
       "model_id": "f0afbddbcf7f42ae812fa3d0cd500275",
       "version_major": 2,
       "version_minor": 0
      },
      "text/plain": [
       "roll_out:   0%|          | 0/1024 [00:00<?, ?it/s]"
      ]
     },
     "metadata": {},
     "output_type": "display_data"
    },
    {
     "data": {
      "application/vnd.jupyter.widget-view+json": {
       "model_id": "e50d98dcf3b1482f8e1b6d9f253df6e5",
       "version_major": 2,
       "version_minor": 0
      },
      "text/plain": [
       "roll_out:   0%|          | 0/1024 [00:00<?, ?it/s]"
      ]
     },
     "metadata": {},
     "output_type": "display_data"
    },
    {
     "data": {
      "application/vnd.jupyter.widget-view+json": {
       "model_id": "5128c2dc7b4c4ad38a01c7fc979141d9",
       "version_major": 2,
       "version_minor": 0
      },
      "text/plain": [
       "roll_out:   0%|          | 0/1024 [00:00<?, ?it/s]"
      ]
     },
     "metadata": {},
     "output_type": "display_data"
    },
    {
     "data": {
      "application/vnd.jupyter.widget-view+json": {
       "model_id": "4aec0ca731414669a043ce2756ca7e9e",
       "version_major": 2,
       "version_minor": 0
      },
      "text/plain": [
       "roll_out:   0%|          | 0/1024 [00:00<?, ?it/s]"
      ]
     },
     "metadata": {},
     "output_type": "display_data"
    },
    {
     "data": {
      "application/vnd.jupyter.widget-view+json": {
       "model_id": "1eff7d1030904605b8e6de0c214cf52b",
       "version_major": 2,
       "version_minor": 0
      },
      "text/plain": [
       "roll_out:   0%|          | 0/1024 [00:00<?, ?it/s]"
      ]
     },
     "metadata": {},
     "output_type": "display_data"
    },
    {
     "data": {
      "application/vnd.jupyter.widget-view+json": {
       "model_id": "6370823a4af4417dba3ed3c8d08f06d7",
       "version_major": 2,
       "version_minor": 0
      },
      "text/plain": [
       "roll_out:   0%|          | 0/1024 [00:00<?, ?it/s]"
      ]
     },
     "metadata": {},
     "output_type": "display_data"
    },
    {
     "data": {
      "application/vnd.jupyter.widget-view+json": {
       "model_id": "6edf9374c662463abb3cfa5f492afad0",
       "version_major": 2,
       "version_minor": 0
      },
      "text/plain": [
       "roll_out:   0%|          | 0/1024 [00:00<?, ?it/s]"
      ]
     },
     "metadata": {},
     "output_type": "display_data"
    },
    {
     "data": {
      "application/vnd.jupyter.widget-view+json": {
       "model_id": "f15641198b254d99aa2207238aca04ea",
       "version_major": 2,
       "version_minor": 0
      },
      "text/plain": [
       "roll_out:   0%|          | 0/1024 [00:00<?, ?it/s]"
      ]
     },
     "metadata": {},
     "output_type": "display_data"
    },
    {
     "data": {
      "application/vnd.jupyter.widget-view+json": {
       "model_id": "59459edfff8a4bf3abfcf5eaa1a3dd5c",
       "version_major": 2,
       "version_minor": 0
      },
      "text/plain": [
       "roll_out:   0%|          | 0/1024 [00:00<?, ?it/s]"
      ]
     },
     "metadata": {},
     "output_type": "display_data"
    },
    {
     "data": {
      "application/vnd.jupyter.widget-view+json": {
       "model_id": "e0acebb697c040edb2d0b0b2b25c7470",
       "version_major": 2,
       "version_minor": 0
      },
      "text/plain": [
       "roll_out:   0%|          | 0/1024 [00:00<?, ?it/s]"
      ]
     },
     "metadata": {},
     "output_type": "display_data"
    },
    {
     "data": {
      "application/vnd.jupyter.widget-view+json": {
       "model_id": "724b80553d834b5bb6dfba7fab6e3d77",
       "version_major": 2,
       "version_minor": 0
      },
      "text/plain": [
       "roll_out:   0%|          | 0/1024 [00:00<?, ?it/s]"
      ]
     },
     "metadata": {},
     "output_type": "display_data"
    },
    {
     "data": {
      "application/vnd.jupyter.widget-view+json": {
       "model_id": "ffa3f4a1695448258122a158a70a5b28",
       "version_major": 2,
       "version_minor": 0
      },
      "text/plain": [
       "roll_out:   0%|          | 0/1024 [00:00<?, ?it/s]"
      ]
     },
     "metadata": {},
     "output_type": "display_data"
    },
    {
     "data": {
      "application/vnd.jupyter.widget-view+json": {
       "model_id": "7f303f90047148cc9c3ad9e6f30e77e6",
       "version_major": 2,
       "version_minor": 0
      },
      "text/plain": [
       "roll_out:   0%|          | 0/1024 [00:00<?, ?it/s]"
      ]
     },
     "metadata": {},
     "output_type": "display_data"
    },
    {
     "data": {
      "application/vnd.jupyter.widget-view+json": {
       "model_id": "e05b1a38bc7741e88eb63be5e5514f44",
       "version_major": 2,
       "version_minor": 0
      },
      "text/plain": [
       "roll_out:   0%|          | 0/1024 [00:00<?, ?it/s]"
      ]
     },
     "metadata": {},
     "output_type": "display_data"
    },
    {
     "data": {
      "application/vnd.jupyter.widget-view+json": {
       "model_id": "a12c1c09582d47d48f6d3ab1f16d740f",
       "version_major": 2,
       "version_minor": 0
      },
      "text/plain": [
       "roll_out:   0%|          | 0/1024 [00:00<?, ?it/s]"
      ]
     },
     "metadata": {},
     "output_type": "display_data"
    },
    {
     "data": {
      "application/vnd.jupyter.widget-view+json": {
       "model_id": "355cdc21671a474bafe07a223569bb1b",
       "version_major": 2,
       "version_minor": 0
      },
      "text/plain": [
       "roll_out:   0%|          | 0/1024 [00:00<?, ?it/s]"
      ]
     },
     "metadata": {},
     "output_type": "display_data"
    },
    {
     "data": {
      "application/vnd.jupyter.widget-view+json": {
       "model_id": "20dcc6ff7b224acd96e8b595fdc63dd4",
       "version_major": 2,
       "version_minor": 0
      },
      "text/plain": [
       "roll_out:   0%|          | 0/1024 [00:00<?, ?it/s]"
      ]
     },
     "metadata": {},
     "output_type": "display_data"
    },
    {
     "data": {
      "application/vnd.jupyter.widget-view+json": {
       "model_id": "5e68e3f68cc645149b1e597d13ed3003",
       "version_major": 2,
       "version_minor": 0
      },
      "text/plain": [
       "roll_out:   0%|          | 0/1024 [00:00<?, ?it/s]"
      ]
     },
     "metadata": {},
     "output_type": "display_data"
    },
    {
     "data": {
      "application/vnd.jupyter.widget-view+json": {
       "model_id": "055a01614d664dd6bb0d94fe3ccc46c3",
       "version_major": 2,
       "version_minor": 0
      },
      "text/plain": [
       "roll_out:   0%|          | 0/1024 [00:00<?, ?it/s]"
      ]
     },
     "metadata": {},
     "output_type": "display_data"
    },
    {
     "data": {
      "application/vnd.jupyter.widget-view+json": {
       "model_id": "f685bf41b1aa44f3be3c4d42bb40d22d",
       "version_major": 2,
       "version_minor": 0
      },
      "text/plain": [
       "roll_out:   0%|          | 0/1024 [00:00<?, ?it/s]"
      ]
     },
     "metadata": {},
     "output_type": "display_data"
    },
    {
     "data": {
      "application/vnd.jupyter.widget-view+json": {
       "model_id": "dc366bee83f444278ff6cf739ac8571b",
       "version_major": 2,
       "version_minor": 0
      },
      "text/plain": [
       "roll_out:   0%|          | 0/1024 [00:00<?, ?it/s]"
      ]
     },
     "metadata": {},
     "output_type": "display_data"
    },
    {
     "data": {
      "application/vnd.jupyter.widget-view+json": {
       "model_id": "a952cef1e7ed42cdac4663cd213f04a5",
       "version_major": 2,
       "version_minor": 0
      },
      "text/plain": [
       "roll_out:   0%|          | 0/1024 [00:00<?, ?it/s]"
      ]
     },
     "metadata": {},
     "output_type": "display_data"
    },
    {
     "data": {
      "application/vnd.jupyter.widget-view+json": {
       "model_id": "4a30cd46300b42d68c2c1954b334545f",
       "version_major": 2,
       "version_minor": 0
      },
      "text/plain": [
       "roll_out:   0%|          | 0/1024 [00:00<?, ?it/s]"
      ]
     },
     "metadata": {},
     "output_type": "display_data"
    },
    {
     "data": {
      "application/vnd.jupyter.widget-view+json": {
       "model_id": "328be16941b04d039fe44a3756f564fc",
       "version_major": 2,
       "version_minor": 0
      },
      "text/plain": [
       "roll_out:   0%|          | 0/1024 [00:00<?, ?it/s]"
      ]
     },
     "metadata": {},
     "output_type": "display_data"
    },
    {
     "data": {
      "application/vnd.jupyter.widget-view+json": {
       "model_id": "cbc00eec027843b6844acb5303c52ba0",
       "version_major": 2,
       "version_minor": 0
      },
      "text/plain": [
       "roll_out:   0%|          | 0/1024 [00:00<?, ?it/s]"
      ]
     },
     "metadata": {},
     "output_type": "display_data"
    },
    {
     "data": {
      "application/vnd.jupyter.widget-view+json": {
       "model_id": "6b313c2b326945789c1c6c6d2ef3a086",
       "version_major": 2,
       "version_minor": 0
      },
      "text/plain": [
       "roll_out:   0%|          | 0/1024 [00:00<?, ?it/s]"
      ]
     },
     "metadata": {},
     "output_type": "display_data"
    },
    {
     "data": {
      "application/vnd.jupyter.widget-view+json": {
       "model_id": "5f268e49f6a44c77a6db45cdbc1d00ab",
       "version_major": 2,
       "version_minor": 0
      },
      "text/plain": [
       "roll_out:   0%|          | 0/1024 [00:00<?, ?it/s]"
      ]
     },
     "metadata": {},
     "output_type": "display_data"
    },
    {
     "data": {
      "application/vnd.jupyter.widget-view+json": {
       "model_id": "ed2ec0a0ffa845cb87347f4ffdd9e33b",
       "version_major": 2,
       "version_minor": 0
      },
      "text/plain": [
       "roll_out:   0%|          | 0/1024 [00:00<?, ?it/s]"
      ]
     },
     "metadata": {},
     "output_type": "display_data"
    },
    {
     "data": {
      "application/vnd.jupyter.widget-view+json": {
       "model_id": "ba800f9a59dd4fbf964f3f7fd46c21c6",
       "version_major": 2,
       "version_minor": 0
      },
      "text/plain": [
       "roll_out:   0%|          | 0/1024 [00:00<?, ?it/s]"
      ]
     },
     "metadata": {},
     "output_type": "display_data"
    },
    {
     "data": {
      "application/vnd.jupyter.widget-view+json": {
       "model_id": "6dfff3794a9447cfb2290e0f871eba6b",
       "version_major": 2,
       "version_minor": 0
      },
      "text/plain": [
       "roll_out:   0%|          | 0/1024 [00:00<?, ?it/s]"
      ]
     },
     "metadata": {},
     "output_type": "display_data"
    },
    {
     "data": {
      "application/vnd.jupyter.widget-view+json": {
       "model_id": "27e80af047a7468299f7890777a7b10f",
       "version_major": 2,
       "version_minor": 0
      },
      "text/plain": [
       "roll_out:   0%|          | 0/1024 [00:00<?, ?it/s]"
      ]
     },
     "metadata": {},
     "output_type": "display_data"
    },
    {
     "data": {
      "application/vnd.jupyter.widget-view+json": {
       "model_id": "d0cfb62a63074eb2bf688283e5686b43",
       "version_major": 2,
       "version_minor": 0
      },
      "text/plain": [
       "roll_out:   0%|          | 0/1024 [00:00<?, ?it/s]"
      ]
     },
     "metadata": {},
     "output_type": "display_data"
    },
    {
     "data": {
      "application/vnd.jupyter.widget-view+json": {
       "model_id": "5904e779a28545d8afe897079850b648",
       "version_major": 2,
       "version_minor": 0
      },
      "text/plain": [
       "roll_out:   0%|          | 0/1024 [00:00<?, ?it/s]"
      ]
     },
     "metadata": {},
     "output_type": "display_data"
    },
    {
     "data": {
      "application/vnd.jupyter.widget-view+json": {
       "model_id": "4c55355f1eb64c84b8441e34446c3fed",
       "version_major": 2,
       "version_minor": 0
      },
      "text/plain": [
       "roll_out:   0%|          | 0/1024 [00:00<?, ?it/s]"
      ]
     },
     "metadata": {},
     "output_type": "display_data"
    },
    {
     "data": {
      "application/vnd.jupyter.widget-view+json": {
       "model_id": "288fec312f704942911f5c38a80e9647",
       "version_major": 2,
       "version_minor": 0
      },
      "text/plain": [
       "roll_out:   0%|          | 0/1024 [00:00<?, ?it/s]"
      ]
     },
     "metadata": {},
     "output_type": "display_data"
    },
    {
     "data": {
      "application/vnd.jupyter.widget-view+json": {
       "model_id": "cdc380c240464ab2a5c7838143bb8a58",
       "version_major": 2,
       "version_minor": 0
      },
      "text/plain": [
       "roll_out:   0%|          | 0/1024 [00:00<?, ?it/s]"
      ]
     },
     "metadata": {},
     "output_type": "display_data"
    },
    {
     "data": {
      "application/vnd.jupyter.widget-view+json": {
       "model_id": "35a898b63da64d0bbf9c37f0456fbbd3",
       "version_major": 2,
       "version_minor": 0
      },
      "text/plain": [
       "roll_out:   0%|          | 0/1024 [00:00<?, ?it/s]"
      ]
     },
     "metadata": {},
     "output_type": "display_data"
    },
    {
     "data": {
      "application/vnd.jupyter.widget-view+json": {
       "model_id": "ec65c1dc79014b6488e6a0fd7bf96592",
       "version_major": 2,
       "version_minor": 0
      },
      "text/plain": [
       "roll_out:   0%|          | 0/1024 [00:00<?, ?it/s]"
      ]
     },
     "metadata": {},
     "output_type": "display_data"
    },
    {
     "data": {
      "application/vnd.jupyter.widget-view+json": {
       "model_id": "f7839df22a8947cc8800f30cd6d8defa",
       "version_major": 2,
       "version_minor": 0
      },
      "text/plain": [
       "roll_out:   0%|          | 0/1024 [00:00<?, ?it/s]"
      ]
     },
     "metadata": {},
     "output_type": "display_data"
    },
    {
     "data": {
      "application/vnd.jupyter.widget-view+json": {
       "model_id": "c2dbcc31cde044b7bf467753fa162972",
       "version_major": 2,
       "version_minor": 0
      },
      "text/plain": [
       "roll_out:   0%|          | 0/1024 [00:00<?, ?it/s]"
      ]
     },
     "metadata": {},
     "output_type": "display_data"
    },
    {
     "data": {
      "application/vnd.jupyter.widget-view+json": {
       "model_id": "230fdd2e11c94e348383762c3eb13e8c",
       "version_major": 2,
       "version_minor": 0
      },
      "text/plain": [
       "roll_out:   0%|          | 0/1024 [00:00<?, ?it/s]"
      ]
     },
     "metadata": {},
     "output_type": "display_data"
    },
    {
     "data": {
      "application/vnd.jupyter.widget-view+json": {
       "model_id": "3223e88b205d47a8aa19a21a523246dd",
       "version_major": 2,
       "version_minor": 0
      },
      "text/plain": [
       "roll_out:   0%|          | 0/1024 [00:00<?, ?it/s]"
      ]
     },
     "metadata": {},
     "output_type": "display_data"
    },
    {
     "data": {
      "application/vnd.jupyter.widget-view+json": {
       "model_id": "d8c15229319f4d2b92ac148c0c9b171a",
       "version_major": 2,
       "version_minor": 0
      },
      "text/plain": [
       "roll_out:   0%|          | 0/1024 [00:00<?, ?it/s]"
      ]
     },
     "metadata": {},
     "output_type": "display_data"
    },
    {
     "data": {
      "application/vnd.jupyter.widget-view+json": {
       "model_id": "9d84e6a183a547fd8cad58693e311139",
       "version_major": 2,
       "version_minor": 0
      },
      "text/plain": [
       "roll_out:   0%|          | 0/1024 [00:00<?, ?it/s]"
      ]
     },
     "metadata": {},
     "output_type": "display_data"
    },
    {
     "data": {
      "application/vnd.jupyter.widget-view+json": {
       "model_id": "07a763693e43429fa74bea22e366c19f",
       "version_major": 2,
       "version_minor": 0
      },
      "text/plain": [
       "roll_out:   0%|          | 0/1024 [00:00<?, ?it/s]"
      ]
     },
     "metadata": {},
     "output_type": "display_data"
    },
    {
     "data": {
      "application/vnd.jupyter.widget-view+json": {
       "model_id": "d68e1f3260cc494a9e45559d70ec3c19",
       "version_major": 2,
       "version_minor": 0
      },
      "text/plain": [
       "roll_out:   0%|          | 0/1024 [00:00<?, ?it/s]"
      ]
     },
     "metadata": {},
     "output_type": "display_data"
    },
    {
     "data": {
      "application/vnd.jupyter.widget-view+json": {
       "model_id": "fccc93aef33d4ea19ea3c9a09f8ff38f",
       "version_major": 2,
       "version_minor": 0
      },
      "text/plain": [
       "roll_out:   0%|          | 0/1024 [00:00<?, ?it/s]"
      ]
     },
     "metadata": {},
     "output_type": "display_data"
    },
    {
     "data": {
      "application/vnd.jupyter.widget-view+json": {
       "model_id": "bdab9d4be3f4408e94b28f8ea1c4bb4b",
       "version_major": 2,
       "version_minor": 0
      },
      "text/plain": [
       "roll_out:   0%|          | 0/1024 [00:00<?, ?it/s]"
      ]
     },
     "metadata": {},
     "output_type": "display_data"
    },
    {
     "data": {
      "application/vnd.jupyter.widget-view+json": {
       "model_id": "90540737355345edb2ae1603e0feb04a",
       "version_major": 2,
       "version_minor": 0
      },
      "text/plain": [
       "roll_out:   0%|          | 0/1024 [00:00<?, ?it/s]"
      ]
     },
     "metadata": {},
     "output_type": "display_data"
    },
    {
     "data": {
      "application/vnd.jupyter.widget-view+json": {
       "model_id": "43eb0b4123ff4f408d1b7f8fa266c2f8",
       "version_major": 2,
       "version_minor": 0
      },
      "text/plain": [
       "roll_out:   0%|          | 0/1024 [00:00<?, ?it/s]"
      ]
     },
     "metadata": {},
     "output_type": "display_data"
    },
    {
     "data": {
      "application/vnd.jupyter.widget-view+json": {
       "model_id": "8d406a7450b34e7ea09aa06f32c9713e",
       "version_major": 2,
       "version_minor": 0
      },
      "text/plain": [
       "roll_out:   0%|          | 0/1024 [00:00<?, ?it/s]"
      ]
     },
     "metadata": {},
     "output_type": "display_data"
    },
    {
     "data": {
      "application/vnd.jupyter.widget-view+json": {
       "model_id": "2591f57fecb84646a889639aab12ef91",
       "version_major": 2,
       "version_minor": 0
      },
      "text/plain": [
       "roll_out:   0%|          | 0/1024 [00:00<?, ?it/s]"
      ]
     },
     "metadata": {},
     "output_type": "display_data"
    },
    {
     "data": {
      "application/vnd.jupyter.widget-view+json": {
       "model_id": "d454ebf5e4684c44bcc5cc012c57f252",
       "version_major": 2,
       "version_minor": 0
      },
      "text/plain": [
       "roll_out:   0%|          | 0/1024 [00:00<?, ?it/s]"
      ]
     },
     "metadata": {},
     "output_type": "display_data"
    },
    {
     "data": {
      "application/vnd.jupyter.widget-view+json": {
       "model_id": "1c57aff59993427daecd1b85eb6441c3",
       "version_major": 2,
       "version_minor": 0
      },
      "text/plain": [
       "roll_out:   0%|          | 0/1024 [00:00<?, ?it/s]"
      ]
     },
     "metadata": {},
     "output_type": "display_data"
    },
    {
     "data": {
      "application/vnd.jupyter.widget-view+json": {
       "model_id": "bd60744fd6f446e68273a7875baa07bc",
       "version_major": 2,
       "version_minor": 0
      },
      "text/plain": [
       "roll_out:   0%|          | 0/1024 [00:00<?, ?it/s]"
      ]
     },
     "metadata": {},
     "output_type": "display_data"
    },
    {
     "data": {
      "application/vnd.jupyter.widget-view+json": {
       "model_id": "7288248e1d8e4a989b1970f8e0012132",
       "version_major": 2,
       "version_minor": 0
      },
      "text/plain": [
       "roll_out:   0%|          | 0/1024 [00:00<?, ?it/s]"
      ]
     },
     "metadata": {},
     "output_type": "display_data"
    },
    {
     "data": {
      "application/vnd.jupyter.widget-view+json": {
       "model_id": "6382964f099c498aa5dea58708a0f1cd",
       "version_major": 2,
       "version_minor": 0
      },
      "text/plain": [
       "roll_out:   0%|          | 0/1024 [00:00<?, ?it/s]"
      ]
     },
     "metadata": {},
     "output_type": "display_data"
    },
    {
     "data": {
      "application/vnd.jupyter.widget-view+json": {
       "model_id": "5608c2dc50684310b3ef0518c43c7a61",
       "version_major": 2,
       "version_minor": 0
      },
      "text/plain": [
       "roll_out:   0%|          | 0/1024 [00:00<?, ?it/s]"
      ]
     },
     "metadata": {},
     "output_type": "display_data"
    },
    {
     "data": {
      "application/vnd.jupyter.widget-view+json": {
       "model_id": "ede3d5b0d1d8438e956a3756ac83e296",
       "version_major": 2,
       "version_minor": 0
      },
      "text/plain": [
       "roll_out:   0%|          | 0/1024 [00:00<?, ?it/s]"
      ]
     },
     "metadata": {},
     "output_type": "display_data"
    },
    {
     "data": {
      "application/vnd.jupyter.widget-view+json": {
       "model_id": "7044b88840d04c2db032a4b5e95af643",
       "version_major": 2,
       "version_minor": 0
      },
      "text/plain": [
       "roll_out:   0%|          | 0/1024 [00:00<?, ?it/s]"
      ]
     },
     "metadata": {},
     "output_type": "display_data"
    },
    {
     "data": {
      "application/vnd.jupyter.widget-view+json": {
       "model_id": "1322353940b344dead4dc676eb093fd7",
       "version_major": 2,
       "version_minor": 0
      },
      "text/plain": [
       "roll_out:   0%|          | 0/1024 [00:00<?, ?it/s]"
      ]
     },
     "metadata": {},
     "output_type": "display_data"
    },
    {
     "data": {
      "application/vnd.jupyter.widget-view+json": {
       "model_id": "3aaae230afc34c2a9aab5fc583d865bb",
       "version_major": 2,
       "version_minor": 0
      },
      "text/plain": [
       "roll_out:   0%|          | 0/1024 [00:00<?, ?it/s]"
      ]
     },
     "metadata": {},
     "output_type": "display_data"
    },
    {
     "data": {
      "application/vnd.jupyter.widget-view+json": {
       "model_id": "827e65fdc1f44f7398d0225707b7ff8e",
       "version_major": 2,
       "version_minor": 0
      },
      "text/plain": [
       "roll_out:   0%|          | 0/1024 [00:00<?, ?it/s]"
      ]
     },
     "metadata": {},
     "output_type": "display_data"
    },
    {
     "data": {
      "application/vnd.jupyter.widget-view+json": {
       "model_id": "6d586ee51c7b4826b757469f1b984593",
       "version_major": 2,
       "version_minor": 0
      },
      "text/plain": [
       "roll_out:   0%|          | 0/1024 [00:00<?, ?it/s]"
      ]
     },
     "metadata": {},
     "output_type": "display_data"
    },
    {
     "data": {
      "application/vnd.jupyter.widget-view+json": {
       "model_id": "3f6a032fdb7e4271989ffad0b6b3df68",
       "version_major": 2,
       "version_minor": 0
      },
      "text/plain": [
       "roll_out:   0%|          | 0/1024 [00:00<?, ?it/s]"
      ]
     },
     "metadata": {},
     "output_type": "display_data"
    },
    {
     "data": {
      "application/vnd.jupyter.widget-view+json": {
       "model_id": "91e5cd8c1d444bdfbe2dc2e1ff130317",
       "version_major": 2,
       "version_minor": 0
      },
      "text/plain": [
       "roll_out:   0%|          | 0/1024 [00:00<?, ?it/s]"
      ]
     },
     "metadata": {},
     "output_type": "display_data"
    },
    {
     "data": {
      "application/vnd.jupyter.widget-view+json": {
       "model_id": "84220b3fe46043138fb57291191d2140",
       "version_major": 2,
       "version_minor": 0
      },
      "text/plain": [
       "roll_out:   0%|          | 0/1024 [00:00<?, ?it/s]"
      ]
     },
     "metadata": {},
     "output_type": "display_data"
    },
    {
     "data": {
      "application/vnd.jupyter.widget-view+json": {
       "model_id": "f87d69d6169a49a1b43f81ef6448728b",
       "version_major": 2,
       "version_minor": 0
      },
      "text/plain": [
       "roll_out:   0%|          | 0/1024 [00:00<?, ?it/s]"
      ]
     },
     "metadata": {},
     "output_type": "display_data"
    },
    {
     "data": {
      "application/vnd.jupyter.widget-view+json": {
       "model_id": "ea344f46816a4d1bafb0c6cb7d59c579",
       "version_major": 2,
       "version_minor": 0
      },
      "text/plain": [
       "roll_out:   0%|          | 0/1024 [00:00<?, ?it/s]"
      ]
     },
     "metadata": {},
     "output_type": "display_data"
    },
    {
     "data": {
      "application/vnd.jupyter.widget-view+json": {
       "model_id": "9b70d46771ce4db89024d63f50737880",
       "version_major": 2,
       "version_minor": 0
      },
      "text/plain": [
       "roll_out:   0%|          | 0/1024 [00:00<?, ?it/s]"
      ]
     },
     "metadata": {},
     "output_type": "display_data"
    },
    {
     "data": {
      "application/vnd.jupyter.widget-view+json": {
       "model_id": "faa49f6e8da84859b955ef7b499d59ef",
       "version_major": 2,
       "version_minor": 0
      },
      "text/plain": [
       "roll_out:   0%|          | 0/1024 [00:00<?, ?it/s]"
      ]
     },
     "metadata": {},
     "output_type": "display_data"
    },
    {
     "data": {
      "application/vnd.jupyter.widget-view+json": {
       "model_id": "2e328dbe41ac4280a679ac6dd0c472b6",
       "version_major": 2,
       "version_minor": 0
      },
      "text/plain": [
       "roll_out:   0%|          | 0/1024 [00:00<?, ?it/s]"
      ]
     },
     "metadata": {},
     "output_type": "display_data"
    },
    {
     "data": {
      "application/vnd.jupyter.widget-view+json": {
       "model_id": "064be98ca24a4aad8c6eb76efbfb9f2c",
       "version_major": 2,
       "version_minor": 0
      },
      "text/plain": [
       "roll_out:   0%|          | 0/1024 [00:00<?, ?it/s]"
      ]
     },
     "metadata": {},
     "output_type": "display_data"
    },
    {
     "data": {
      "application/vnd.jupyter.widget-view+json": {
       "model_id": "c37f9913495443aebd4d369abf259dd7",
       "version_major": 2,
       "version_minor": 0
      },
      "text/plain": [
       "roll_out:   0%|          | 0/1024 [00:00<?, ?it/s]"
      ]
     },
     "metadata": {},
     "output_type": "display_data"
    },
    {
     "data": {
      "application/vnd.jupyter.widget-view+json": {
       "model_id": "f7ceff64ef3745b0b3a73a11f6ac0f64",
       "version_major": 2,
       "version_minor": 0
      },
      "text/plain": [
       "roll_out:   0%|          | 0/1024 [00:00<?, ?it/s]"
      ]
     },
     "metadata": {},
     "output_type": "display_data"
    },
    {
     "data": {
      "application/vnd.jupyter.widget-view+json": {
       "model_id": "322d407216a142d48e705fe3280b3e67",
       "version_major": 2,
       "version_minor": 0
      },
      "text/plain": [
       "roll_out:   0%|          | 0/1024 [00:00<?, ?it/s]"
      ]
     },
     "metadata": {},
     "output_type": "display_data"
    },
    {
     "data": {
      "application/vnd.jupyter.widget-view+json": {
       "model_id": "35e50980fe1d49b98e32890e91e73c23",
       "version_major": 2,
       "version_minor": 0
      },
      "text/plain": [
       "roll_out:   0%|          | 0/1024 [00:00<?, ?it/s]"
      ]
     },
     "metadata": {},
     "output_type": "display_data"
    },
    {
     "data": {
      "application/vnd.jupyter.widget-view+json": {
       "model_id": "7555b71ea13e4e3698133166a80a1d41",
       "version_major": 2,
       "version_minor": 0
      },
      "text/plain": [
       "roll_out:   0%|          | 0/1024 [00:00<?, ?it/s]"
      ]
     },
     "metadata": {},
     "output_type": "display_data"
    },
    {
     "data": {
      "application/vnd.jupyter.widget-view+json": {
       "model_id": "54311c34e1c743788941053bc78a7157",
       "version_major": 2,
       "version_minor": 0
      },
      "text/plain": [
       "roll_out:   0%|          | 0/1024 [00:00<?, ?it/s]"
      ]
     },
     "metadata": {},
     "output_type": "display_data"
    },
    {
     "data": {
      "application/vnd.jupyter.widget-view+json": {
       "model_id": "3ce3f16c3df94269ba21040985d99d8a",
       "version_major": 2,
       "version_minor": 0
      },
      "text/plain": [
       "roll_out:   0%|          | 0/1024 [00:00<?, ?it/s]"
      ]
     },
     "metadata": {},
     "output_type": "display_data"
    },
    {
     "data": {
      "application/vnd.jupyter.widget-view+json": {
       "model_id": "c2d4a85f7dc74cdf89ab3371840443e2",
       "version_major": 2,
       "version_minor": 0
      },
      "text/plain": [
       "roll_out:   0%|          | 0/1024 [00:00<?, ?it/s]"
      ]
     },
     "metadata": {},
     "output_type": "display_data"
    },
    {
     "data": {
      "application/vnd.jupyter.widget-view+json": {
       "model_id": "7348868ec72b4ca18648b3b7ba5f3d65",
       "version_major": 2,
       "version_minor": 0
      },
      "text/plain": [
       "roll_out:   0%|          | 0/1024 [00:00<?, ?it/s]"
      ]
     },
     "metadata": {},
     "output_type": "display_data"
    },
    {
     "data": {
      "application/vnd.jupyter.widget-view+json": {
       "model_id": "5831077038d94f7c8cd5e10166c886ba",
       "version_major": 2,
       "version_minor": 0
      },
      "text/plain": [
       "roll_out:   0%|          | 0/1024 [00:00<?, ?it/s]"
      ]
     },
     "metadata": {},
     "output_type": "display_data"
    },
    {
     "data": {
      "application/vnd.jupyter.widget-view+json": {
       "model_id": "c7657c62ef3e440ba766104d7acf23c0",
       "version_major": 2,
       "version_minor": 0
      },
      "text/plain": [
       "roll_out:   0%|          | 0/1024 [00:00<?, ?it/s]"
      ]
     },
     "metadata": {},
     "output_type": "display_data"
    },
    {
     "data": {
      "application/vnd.jupyter.widget-view+json": {
       "model_id": "0566c1ebf32c4829a447031e310edd87",
       "version_major": 2,
       "version_minor": 0
      },
      "text/plain": [
       "roll_out:   0%|          | 0/1024 [00:00<?, ?it/s]"
      ]
     },
     "metadata": {},
     "output_type": "display_data"
    },
    {
     "data": {
      "application/vnd.jupyter.widget-view+json": {
       "model_id": "9dc3dbea6b8f4fd7a693be6e3deb1b3d",
       "version_major": 2,
       "version_minor": 0
      },
      "text/plain": [
       "roll_out:   0%|          | 0/1024 [00:00<?, ?it/s]"
      ]
     },
     "metadata": {},
     "output_type": "display_data"
    },
    {
     "data": {
      "application/vnd.jupyter.widget-view+json": {
       "model_id": "f6711214ea26449889e739d7b2403ae7",
       "version_major": 2,
       "version_minor": 0
      },
      "text/plain": [
       "roll_out:   0%|          | 0/1024 [00:00<?, ?it/s]"
      ]
     },
     "metadata": {},
     "output_type": "display_data"
    },
    {
     "data": {
      "application/vnd.jupyter.widget-view+json": {
       "model_id": "cd94e28c017845e593b3aab8c87895cc",
       "version_major": 2,
       "version_minor": 0
      },
      "text/plain": [
       "roll_out:   0%|          | 0/1024 [00:00<?, ?it/s]"
      ]
     },
     "metadata": {},
     "output_type": "display_data"
    },
    {
     "data": {
      "application/vnd.jupyter.widget-view+json": {
       "model_id": "1ee63393a29a4cdda175841fd99c769e",
       "version_major": 2,
       "version_minor": 0
      },
      "text/plain": [
       "roll_out:   0%|          | 0/1024 [00:00<?, ?it/s]"
      ]
     },
     "metadata": {},
     "output_type": "display_data"
    },
    {
     "data": {
      "application/vnd.jupyter.widget-view+json": {
       "model_id": "f2a11b3e74504a7f8bc8812be0ee8567",
       "version_major": 2,
       "version_minor": 0
      },
      "text/plain": [
       "roll_out:   0%|          | 0/1024 [00:00<?, ?it/s]"
      ]
     },
     "metadata": {},
     "output_type": "display_data"
    },
    {
     "data": {
      "application/vnd.jupyter.widget-view+json": {
       "model_id": "48d37ae132c94e26a2b5acebaba065df",
       "version_major": 2,
       "version_minor": 0
      },
      "text/plain": [
       "roll_out:   0%|          | 0/1024 [00:00<?, ?it/s]"
      ]
     },
     "metadata": {},
     "output_type": "display_data"
    },
    {
     "data": {
      "application/vnd.jupyter.widget-view+json": {
       "model_id": "7a68f4fbc4054a9d9baa0b92d20b2d75",
       "version_major": 2,
       "version_minor": 0
      },
      "text/plain": [
       "roll_out:   0%|          | 0/1024 [00:00<?, ?it/s]"
      ]
     },
     "metadata": {},
     "output_type": "display_data"
    },
    {
     "data": {
      "application/vnd.jupyter.widget-view+json": {
       "model_id": "f6a2127661184ce6b3224b62e874b1fd",
       "version_major": 2,
       "version_minor": 0
      },
      "text/plain": [
       "roll_out:   0%|          | 0/1024 [00:00<?, ?it/s]"
      ]
     },
     "metadata": {},
     "output_type": "display_data"
    },
    {
     "data": {
      "application/vnd.jupyter.widget-view+json": {
       "model_id": "65b0ea55df7e471ea85ef3d7380d12e7",
       "version_major": 2,
       "version_minor": 0
      },
      "text/plain": [
       "roll_out:   0%|          | 0/1024 [00:00<?, ?it/s]"
      ]
     },
     "metadata": {},
     "output_type": "display_data"
    },
    {
     "data": {
      "application/vnd.jupyter.widget-view+json": {
       "model_id": "ac80677db0d24e08a949656cb40ea524",
       "version_major": 2,
       "version_minor": 0
      },
      "text/plain": [
       "roll_out:   0%|          | 0/1024 [00:00<?, ?it/s]"
      ]
     },
     "metadata": {},
     "output_type": "display_data"
    },
    {
     "data": {
      "application/vnd.jupyter.widget-view+json": {
       "model_id": "ed7c3615f1d341f19c0d79f04a23d8e6",
       "version_major": 2,
       "version_minor": 0
      },
      "text/plain": [
       "roll_out:   0%|          | 0/1024 [00:00<?, ?it/s]"
      ]
     },
     "metadata": {},
     "output_type": "display_data"
    },
    {
     "data": {
      "application/vnd.jupyter.widget-view+json": {
       "model_id": "769632a7d7564a1483f591878b78d62f",
       "version_major": 2,
       "version_minor": 0
      },
      "text/plain": [
       "roll_out:   0%|          | 0/1024 [00:00<?, ?it/s]"
      ]
     },
     "metadata": {},
     "output_type": "display_data"
    },
    {
     "data": {
      "application/vnd.jupyter.widget-view+json": {
       "model_id": "38eecc80ecf745c6ade149a5d403d75e",
       "version_major": 2,
       "version_minor": 0
      },
      "text/plain": [
       "roll_out:   0%|          | 0/1024 [00:00<?, ?it/s]"
      ]
     },
     "metadata": {},
     "output_type": "display_data"
    },
    {
     "data": {
      "application/vnd.jupyter.widget-view+json": {
       "model_id": "b331f36c20ab40a882fdda0e14b49119",
       "version_major": 2,
       "version_minor": 0
      },
      "text/plain": [
       "roll_out:   0%|          | 0/1024 [00:00<?, ?it/s]"
      ]
     },
     "metadata": {},
     "output_type": "display_data"
    },
    {
     "data": {
      "application/vnd.jupyter.widget-view+json": {
       "model_id": "bd6dac09de8d4020a82a10ebdab6a4c2",
       "version_major": 2,
       "version_minor": 0
      },
      "text/plain": [
       "roll_out:   0%|          | 0/1024 [00:00<?, ?it/s]"
      ]
     },
     "metadata": {},
     "output_type": "display_data"
    },
    {
     "data": {
      "application/vnd.jupyter.widget-view+json": {
       "model_id": "2cf3c6edf9b741488357034a567a99cf",
       "version_major": 2,
       "version_minor": 0
      },
      "text/plain": [
       "roll_out:   0%|          | 0/1024 [00:00<?, ?it/s]"
      ]
     },
     "metadata": {},
     "output_type": "display_data"
    },
    {
     "data": {
      "application/vnd.jupyter.widget-view+json": {
       "model_id": "8f1975ff4ee4484c9eb5b097c36eafb7",
       "version_major": 2,
       "version_minor": 0
      },
      "text/plain": [
       "roll_out:   0%|          | 0/1024 [00:00<?, ?it/s]"
      ]
     },
     "metadata": {},
     "output_type": "display_data"
    },
    {
     "data": {
      "application/vnd.jupyter.widget-view+json": {
       "model_id": "f5d3c6acc91049f6aeab5c83427b8fb8",
       "version_major": 2,
       "version_minor": 0
      },
      "text/plain": [
       "roll_out:   0%|          | 0/1024 [00:00<?, ?it/s]"
      ]
     },
     "metadata": {},
     "output_type": "display_data"
    },
    {
     "data": {
      "application/vnd.jupyter.widget-view+json": {
       "model_id": "f598708fec044e92b738fe29ac256584",
       "version_major": 2,
       "version_minor": 0
      },
      "text/plain": [
       "roll_out:   0%|          | 0/1024 [00:00<?, ?it/s]"
      ]
     },
     "metadata": {},
     "output_type": "display_data"
    },
    {
     "data": {
      "application/vnd.jupyter.widget-view+json": {
       "model_id": "df5b352f49a04ad8929ab620493e8b5c",
       "version_major": 2,
       "version_minor": 0
      },
      "text/plain": [
       "roll_out:   0%|          | 0/1024 [00:00<?, ?it/s]"
      ]
     },
     "metadata": {},
     "output_type": "display_data"
    },
    {
     "data": {
      "application/vnd.jupyter.widget-view+json": {
       "model_id": "8dd8bae0058849178cd3005288649a1b",
       "version_major": 2,
       "version_minor": 0
      },
      "text/plain": [
       "roll_out:   0%|          | 0/1024 [00:00<?, ?it/s]"
      ]
     },
     "metadata": {},
     "output_type": "display_data"
    },
    {
     "data": {
      "application/vnd.jupyter.widget-view+json": {
       "model_id": "f00c127d0a394e699fe52fa49fda3d6a",
       "version_major": 2,
       "version_minor": 0
      },
      "text/plain": [
       "roll_out:   0%|          | 0/1024 [00:00<?, ?it/s]"
      ]
     },
     "metadata": {},
     "output_type": "display_data"
    },
    {
     "data": {
      "application/vnd.jupyter.widget-view+json": {
       "model_id": "f556d15c78f347b28b07f97e937c83f6",
       "version_major": 2,
       "version_minor": 0
      },
      "text/plain": [
       "roll_out:   0%|          | 0/1024 [00:00<?, ?it/s]"
      ]
     },
     "metadata": {},
     "output_type": "display_data"
    },
    {
     "data": {
      "application/vnd.jupyter.widget-view+json": {
       "model_id": "a4a9a64f3c2a4ee2a3dd71a226713580",
       "version_major": 2,
       "version_minor": 0
      },
      "text/plain": [
       "roll_out:   0%|          | 0/1024 [00:00<?, ?it/s]"
      ]
     },
     "metadata": {},
     "output_type": "display_data"
    },
    {
     "data": {
      "application/vnd.jupyter.widget-view+json": {
       "model_id": "5d25320f70ea4068aa8fade9126f6e27",
       "version_major": 2,
       "version_minor": 0
      },
      "text/plain": [
       "roll_out:   0%|          | 0/1024 [00:00<?, ?it/s]"
      ]
     },
     "metadata": {},
     "output_type": "display_data"
    },
    {
     "data": {
      "application/vnd.jupyter.widget-view+json": {
       "model_id": "267455864a94445e98f2e7b8db69cffd",
       "version_major": 2,
       "version_minor": 0
      },
      "text/plain": [
       "roll_out:   0%|          | 0/1024 [00:00<?, ?it/s]"
      ]
     },
     "metadata": {},
     "output_type": "display_data"
    },
    {
     "data": {
      "application/vnd.jupyter.widget-view+json": {
       "model_id": "42ad3b0d28944562a504b03fc955a2d5",
       "version_major": 2,
       "version_minor": 0
      },
      "text/plain": [
       "roll_out:   0%|          | 0/1024 [00:00<?, ?it/s]"
      ]
     },
     "metadata": {},
     "output_type": "display_data"
    },
    {
     "data": {
      "application/vnd.jupyter.widget-view+json": {
       "model_id": "0a62cdaf2481477c83d9e7c1bd36d1b1",
       "version_major": 2,
       "version_minor": 0
      },
      "text/plain": [
       "roll_out:   0%|          | 0/1024 [00:00<?, ?it/s]"
      ]
     },
     "metadata": {},
     "output_type": "display_data"
    },
    {
     "data": {
      "application/vnd.jupyter.widget-view+json": {
       "model_id": "ae64bf8509c04249adf1f1aef22ef74e",
       "version_major": 2,
       "version_minor": 0
      },
      "text/plain": [
       "roll_out:   0%|          | 0/1024 [00:00<?, ?it/s]"
      ]
     },
     "metadata": {},
     "output_type": "display_data"
    },
    {
     "data": {
      "application/vnd.jupyter.widget-view+json": {
       "model_id": "a2308e77bfbe49718d5f5e5edee5b01d",
       "version_major": 2,
       "version_minor": 0
      },
      "text/plain": [
       "roll_out:   0%|          | 0/1024 [00:00<?, ?it/s]"
      ]
     },
     "metadata": {},
     "output_type": "display_data"
    },
    {
     "data": {
      "application/vnd.jupyter.widget-view+json": {
       "model_id": "524befb83ef541e49e5ff978f5a5a1fb",
       "version_major": 2,
       "version_minor": 0
      },
      "text/plain": [
       "roll_out:   0%|          | 0/1024 [00:00<?, ?it/s]"
      ]
     },
     "metadata": {},
     "output_type": "display_data"
    },
    {
     "data": {
      "application/vnd.jupyter.widget-view+json": {
       "model_id": "165b81c4da0c4bccaa2756e5a90c99aa",
       "version_major": 2,
       "version_minor": 0
      },
      "text/plain": [
       "roll_out:   0%|          | 0/1024 [00:00<?, ?it/s]"
      ]
     },
     "metadata": {},
     "output_type": "display_data"
    },
    {
     "data": {
      "application/vnd.jupyter.widget-view+json": {
       "model_id": "620e94e71d114671a703c2081d95f3ac",
       "version_major": 2,
       "version_minor": 0
      },
      "text/plain": [
       "roll_out:   0%|          | 0/1024 [00:00<?, ?it/s]"
      ]
     },
     "metadata": {},
     "output_type": "display_data"
    },
    {
     "data": {
      "application/vnd.jupyter.widget-view+json": {
       "model_id": "fc8ac63ccb55407a94e087459451c8f0",
       "version_major": 2,
       "version_minor": 0
      },
      "text/plain": [
       "roll_out:   0%|          | 0/1024 [00:00<?, ?it/s]"
      ]
     },
     "metadata": {},
     "output_type": "display_data"
    },
    {
     "data": {
      "application/vnd.jupyter.widget-view+json": {
       "model_id": "426c1b5328dc4ade9d8a43e97ee12d17",
       "version_major": 2,
       "version_minor": 0
      },
      "text/plain": [
       "roll_out:   0%|          | 0/1024 [00:00<?, ?it/s]"
      ]
     },
     "metadata": {},
     "output_type": "display_data"
    },
    {
     "data": {
      "application/vnd.jupyter.widget-view+json": {
       "model_id": "1fe61ba9d8f14ffe99e8d1a4c8fd3123",
       "version_major": 2,
       "version_minor": 0
      },
      "text/plain": [
       "roll_out:   0%|          | 0/1024 [00:00<?, ?it/s]"
      ]
     },
     "metadata": {},
     "output_type": "display_data"
    },
    {
     "data": {
      "application/vnd.jupyter.widget-view+json": {
       "model_id": "c131c66b9c354217aefb13e1957c1625",
       "version_major": 2,
       "version_minor": 0
      },
      "text/plain": [
       "roll_out:   0%|          | 0/1024 [00:00<?, ?it/s]"
      ]
     },
     "metadata": {},
     "output_type": "display_data"
    },
    {
     "data": {
      "application/vnd.jupyter.widget-view+json": {
       "model_id": "963e7a3be71f4373acfea82b98054449",
       "version_major": 2,
       "version_minor": 0
      },
      "text/plain": [
       "roll_out:   0%|          | 0/1024 [00:00<?, ?it/s]"
      ]
     },
     "metadata": {},
     "output_type": "display_data"
    },
    {
     "data": {
      "application/vnd.jupyter.widget-view+json": {
       "model_id": "ac2b6cae8c05496aa6e8dffa0113473d",
       "version_major": 2,
       "version_minor": 0
      },
      "text/plain": [
       "roll_out:   0%|          | 0/1024 [00:00<?, ?it/s]"
      ]
     },
     "metadata": {},
     "output_type": "display_data"
    },
    {
     "data": {
      "application/vnd.jupyter.widget-view+json": {
       "model_id": "6d1fdabba43842c5ab0d65413325e3c4",
       "version_major": 2,
       "version_minor": 0
      },
      "text/plain": [
       "roll_out:   0%|          | 0/1024 [00:00<?, ?it/s]"
      ]
     },
     "metadata": {},
     "output_type": "display_data"
    },
    {
     "data": {
      "application/vnd.jupyter.widget-view+json": {
       "model_id": "0dbeee68a36a4f04bf84b77b4e4fb30a",
       "version_major": 2,
       "version_minor": 0
      },
      "text/plain": [
       "roll_out:   0%|          | 0/1024 [00:00<?, ?it/s]"
      ]
     },
     "metadata": {},
     "output_type": "display_data"
    },
    {
     "data": {
      "application/vnd.jupyter.widget-view+json": {
       "model_id": "bd66afe712ea4383a68b495a48198463",
       "version_major": 2,
       "version_minor": 0
      },
      "text/plain": [
       "roll_out:   0%|          | 0/1024 [00:00<?, ?it/s]"
      ]
     },
     "metadata": {},
     "output_type": "display_data"
    },
    {
     "data": {
      "application/vnd.jupyter.widget-view+json": {
       "model_id": "6ef6d819c6bf4ab696b049a19dbf77b0",
       "version_major": 2,
       "version_minor": 0
      },
      "text/plain": [
       "roll_out:   0%|          | 0/1024 [00:00<?, ?it/s]"
      ]
     },
     "metadata": {},
     "output_type": "display_data"
    },
    {
     "data": {
      "application/vnd.jupyter.widget-view+json": {
       "model_id": "f1e7ad483a2c4c0880c49bb4145d8bc8",
       "version_major": 2,
       "version_minor": 0
      },
      "text/plain": [
       "roll_out:   0%|          | 0/1024 [00:00<?, ?it/s]"
      ]
     },
     "metadata": {},
     "output_type": "display_data"
    },
    {
     "data": {
      "application/vnd.jupyter.widget-view+json": {
       "model_id": "274b46d2990d4e929c3fc853d304b85c",
       "version_major": 2,
       "version_minor": 0
      },
      "text/plain": [
       "roll_out:   0%|          | 0/1024 [00:00<?, ?it/s]"
      ]
     },
     "metadata": {},
     "output_type": "display_data"
    },
    {
     "data": {
      "application/vnd.jupyter.widget-view+json": {
       "model_id": "17f9c64955374dfb8f24357713cbe213",
       "version_major": 2,
       "version_minor": 0
      },
      "text/plain": [
       "roll_out:   0%|          | 0/1024 [00:00<?, ?it/s]"
      ]
     },
     "metadata": {},
     "output_type": "display_data"
    },
    {
     "data": {
      "application/vnd.jupyter.widget-view+json": {
       "model_id": "381762597def4bea8f72a1bb94afff7f",
       "version_major": 2,
       "version_minor": 0
      },
      "text/plain": [
       "roll_out:   0%|          | 0/1024 [00:00<?, ?it/s]"
      ]
     },
     "metadata": {},
     "output_type": "display_data"
    },
    {
     "data": {
      "application/vnd.jupyter.widget-view+json": {
       "model_id": "b0105e75e2e44dfa8d15a9d710003b71",
       "version_major": 2,
       "version_minor": 0
      },
      "text/plain": [
       "roll_out:   0%|          | 0/1024 [00:00<?, ?it/s]"
      ]
     },
     "metadata": {},
     "output_type": "display_data"
    },
    {
     "data": {
      "application/vnd.jupyter.widget-view+json": {
       "model_id": "1e8685d149f8445496d0cc649fa8981d",
       "version_major": 2,
       "version_minor": 0
      },
      "text/plain": [
       "roll_out:   0%|          | 0/1024 [00:00<?, ?it/s]"
      ]
     },
     "metadata": {},
     "output_type": "display_data"
    },
    {
     "data": {
      "application/vnd.jupyter.widget-view+json": {
       "model_id": "f908c4ecf6e745dcba25a3d9b4227b05",
       "version_major": 2,
       "version_minor": 0
      },
      "text/plain": [
       "roll_out:   0%|          | 0/1024 [00:00<?, ?it/s]"
      ]
     },
     "metadata": {},
     "output_type": "display_data"
    },
    {
     "data": {
      "application/vnd.jupyter.widget-view+json": {
       "model_id": "7a19ef3369e24d9bb6b137510e88664c",
       "version_major": 2,
       "version_minor": 0
      },
      "text/plain": [
       "roll_out:   0%|          | 0/1024 [00:00<?, ?it/s]"
      ]
     },
     "metadata": {},
     "output_type": "display_data"
    },
    {
     "data": {
      "application/vnd.jupyter.widget-view+json": {
       "model_id": "0da453cdb5704710b8e1816214681f9f",
       "version_major": 2,
       "version_minor": 0
      },
      "text/plain": [
       "roll_out:   0%|          | 0/1024 [00:00<?, ?it/s]"
      ]
     },
     "metadata": {},
     "output_type": "display_data"
    },
    {
     "data": {
      "application/vnd.jupyter.widget-view+json": {
       "model_id": "993e5c83206141328e5f793262f3999d",
       "version_major": 2,
       "version_minor": 0
      },
      "text/plain": [
       "roll_out:   0%|          | 0/1024 [00:00<?, ?it/s]"
      ]
     },
     "metadata": {},
     "output_type": "display_data"
    },
    {
     "data": {
      "application/vnd.jupyter.widget-view+json": {
       "model_id": "bb1a823503a340c1baee5f6f9673e4ed",
       "version_major": 2,
       "version_minor": 0
      },
      "text/plain": [
       "roll_out:   0%|          | 0/1024 [00:00<?, ?it/s]"
      ]
     },
     "metadata": {},
     "output_type": "display_data"
    },
    {
     "data": {
      "application/vnd.jupyter.widget-view+json": {
       "model_id": "ab15dfb197dd424b89acd7b11d1e8922",
       "version_major": 2,
       "version_minor": 0
      },
      "text/plain": [
       "roll_out:   0%|          | 0/1024 [00:00<?, ?it/s]"
      ]
     },
     "metadata": {},
     "output_type": "display_data"
    },
    {
     "data": {
      "application/vnd.jupyter.widget-view+json": {
       "model_id": "3e388efaa14d4f21a20db4c54b0b05f9",
       "version_major": 2,
       "version_minor": 0
      },
      "text/plain": [
       "roll_out:   0%|          | 0/1024 [00:00<?, ?it/s]"
      ]
     },
     "metadata": {},
     "output_type": "display_data"
    },
    {
     "data": {
      "application/vnd.jupyter.widget-view+json": {
       "model_id": "f1723878ec794a1e9e71471e84d2d015",
       "version_major": 2,
       "version_minor": 0
      },
      "text/plain": [
       "roll_out:   0%|          | 0/1024 [00:00<?, ?it/s]"
      ]
     },
     "metadata": {},
     "output_type": "display_data"
    },
    {
     "data": {
      "application/vnd.jupyter.widget-view+json": {
       "model_id": "f7e569250ca94227b1eb6e41dfce99b0",
       "version_major": 2,
       "version_minor": 0
      },
      "text/plain": [
       "roll_out:   0%|          | 0/1024 [00:00<?, ?it/s]"
      ]
     },
     "metadata": {},
     "output_type": "display_data"
    },
    {
     "data": {
      "application/vnd.jupyter.widget-view+json": {
       "model_id": "314951957a0847ee95ecb1a164f2bc70",
       "version_major": 2,
       "version_minor": 0
      },
      "text/plain": [
       "roll_out:   0%|          | 0/1024 [00:00<?, ?it/s]"
      ]
     },
     "metadata": {},
     "output_type": "display_data"
    },
    {
     "data": {
      "application/vnd.jupyter.widget-view+json": {
       "model_id": "c0a8f6d536fa4ab9919535fedaff52cc",
       "version_major": 2,
       "version_minor": 0
      },
      "text/plain": [
       "roll_out:   0%|          | 0/1024 [00:00<?, ?it/s]"
      ]
     },
     "metadata": {},
     "output_type": "display_data"
    },
    {
     "data": {
      "application/vnd.jupyter.widget-view+json": {
       "model_id": "efe910cfb92744029de2a03401f9e832",
       "version_major": 2,
       "version_minor": 0
      },
      "text/plain": [
       "roll_out:   0%|          | 0/1024 [00:00<?, ?it/s]"
      ]
     },
     "metadata": {},
     "output_type": "display_data"
    },
    {
     "data": {
      "application/vnd.jupyter.widget-view+json": {
       "model_id": "e02f1dce9e4b48a38203107aaaae0b64",
       "version_major": 2,
       "version_minor": 0
      },
      "text/plain": [
       "roll_out:   0%|          | 0/1024 [00:00<?, ?it/s]"
      ]
     },
     "metadata": {},
     "output_type": "display_data"
    },
    {
     "data": {
      "application/vnd.jupyter.widget-view+json": {
       "model_id": "6ff10a0b62b04a15aaca1f61d85ef940",
       "version_major": 2,
       "version_minor": 0
      },
      "text/plain": [
       "roll_out:   0%|          | 0/1024 [00:00<?, ?it/s]"
      ]
     },
     "metadata": {},
     "output_type": "display_data"
    },
    {
     "data": {
      "application/vnd.jupyter.widget-view+json": {
       "model_id": "80a77eecd74f42638dde83a4284b47f9",
       "version_major": 2,
       "version_minor": 0
      },
      "text/plain": [
       "roll_out:   0%|          | 0/1024 [00:00<?, ?it/s]"
      ]
     },
     "metadata": {},
     "output_type": "display_data"
    },
    {
     "data": {
      "application/vnd.jupyter.widget-view+json": {
       "model_id": "68e999e611d5416da378a10096c803ad",
       "version_major": 2,
       "version_minor": 0
      },
      "text/plain": [
       "roll_out:   0%|          | 0/1024 [00:00<?, ?it/s]"
      ]
     },
     "metadata": {},
     "output_type": "display_data"
    },
    {
     "data": {
      "application/vnd.jupyter.widget-view+json": {
       "model_id": "cf05a2b7567d4fccbfd1684a19fbd78e",
       "version_major": 2,
       "version_minor": 0
      },
      "text/plain": [
       "roll_out:   0%|          | 0/1024 [00:00<?, ?it/s]"
      ]
     },
     "metadata": {},
     "output_type": "display_data"
    },
    {
     "data": {
      "application/vnd.jupyter.widget-view+json": {
       "model_id": "69f985def5924f1f8d78b82238a3741f",
       "version_major": 2,
       "version_minor": 0
      },
      "text/plain": [
       "roll_out:   0%|          | 0/1024 [00:00<?, ?it/s]"
      ]
     },
     "metadata": {},
     "output_type": "display_data"
    },
    {
     "data": {
      "application/vnd.jupyter.widget-view+json": {
       "model_id": "eab438443dd940c6bd6e0d1ab6edd149",
       "version_major": 2,
       "version_minor": 0
      },
      "text/plain": [
       "roll_out:   0%|          | 0/1024 [00:00<?, ?it/s]"
      ]
     },
     "metadata": {},
     "output_type": "display_data"
    },
    {
     "data": {
      "application/vnd.jupyter.widget-view+json": {
       "model_id": "4d2f90ac0d0940169961ef3ff5c890a5",
       "version_major": 2,
       "version_minor": 0
      },
      "text/plain": [
       "roll_out:   0%|          | 0/1024 [00:00<?, ?it/s]"
      ]
     },
     "metadata": {},
     "output_type": "display_data"
    },
    {
     "data": {
      "application/vnd.jupyter.widget-view+json": {
       "model_id": "7506391dc3d647039650091a4bf0ad2e",
       "version_major": 2,
       "version_minor": 0
      },
      "text/plain": [
       "roll_out:   0%|          | 0/1024 [00:00<?, ?it/s]"
      ]
     },
     "metadata": {},
     "output_type": "display_data"
    },
    {
     "data": {
      "application/vnd.jupyter.widget-view+json": {
       "model_id": "1a7daddc4d5642ae95aed82f4bbf2a86",
       "version_major": 2,
       "version_minor": 0
      },
      "text/plain": [
       "roll_out:   0%|          | 0/1024 [00:00<?, ?it/s]"
      ]
     },
     "metadata": {},
     "output_type": "display_data"
    },
    {
     "data": {
      "application/vnd.jupyter.widget-view+json": {
       "model_id": "f50814ddf48049d0aa100c2e9ec30c49",
       "version_major": 2,
       "version_minor": 0
      },
      "text/plain": [
       "roll_out:   0%|          | 0/1024 [00:00<?, ?it/s]"
      ]
     },
     "metadata": {},
     "output_type": "display_data"
    },
    {
     "data": {
      "application/vnd.jupyter.widget-view+json": {
       "model_id": "30decdee451847f981f8d0ac1cf136df",
       "version_major": 2,
       "version_minor": 0
      },
      "text/plain": [
       "roll_out:   0%|          | 0/1024 [00:00<?, ?it/s]"
      ]
     },
     "metadata": {},
     "output_type": "display_data"
    },
    {
     "data": {
      "application/vnd.jupyter.widget-view+json": {
       "model_id": "10b39f739c8f49b2b7ef55b7ee7112b4",
       "version_major": 2,
       "version_minor": 0
      },
      "text/plain": [
       "roll_out:   0%|          | 0/1024 [00:00<?, ?it/s]"
      ]
     },
     "metadata": {},
     "output_type": "display_data"
    },
    {
     "data": {
      "application/vnd.jupyter.widget-view+json": {
       "model_id": "7194eaae79db40c0ba145ef4cc22228c",
       "version_major": 2,
       "version_minor": 0
      },
      "text/plain": [
       "roll_out:   0%|          | 0/1024 [00:00<?, ?it/s]"
      ]
     },
     "metadata": {},
     "output_type": "display_data"
    },
    {
     "data": {
      "application/vnd.jupyter.widget-view+json": {
       "model_id": "c29a0d4693f24e53b529c73353a62651",
       "version_major": 2,
       "version_minor": 0
      },
      "text/plain": [
       "roll_out:   0%|          | 0/1024 [00:00<?, ?it/s]"
      ]
     },
     "metadata": {},
     "output_type": "display_data"
    },
    {
     "data": {
      "application/vnd.jupyter.widget-view+json": {
       "model_id": "e139e716ddc74dff94c5d115d76348ef",
       "version_major": 2,
       "version_minor": 0
      },
      "text/plain": [
       "roll_out:   0%|          | 0/1024 [00:00<?, ?it/s]"
      ]
     },
     "metadata": {},
     "output_type": "display_data"
    },
    {
     "data": {
      "application/vnd.jupyter.widget-view+json": {
       "model_id": "0b5e6d5f89f24b289178514f44f4f44e",
       "version_major": 2,
       "version_minor": 0
      },
      "text/plain": [
       "roll_out:   0%|          | 0/1024 [00:00<?, ?it/s]"
      ]
     },
     "metadata": {},
     "output_type": "display_data"
    },
    {
     "data": {
      "application/vnd.jupyter.widget-view+json": {
       "model_id": "d583435c00814fe1bd0e31716f83fe72",
       "version_major": 2,
       "version_minor": 0
      },
      "text/plain": [
       "roll_out:   0%|          | 0/1024 [00:00<?, ?it/s]"
      ]
     },
     "metadata": {},
     "output_type": "display_data"
    },
    {
     "data": {
      "application/vnd.jupyter.widget-view+json": {
       "model_id": "c1ed2c076b4f4039b2e5ff7d43b4a374",
       "version_major": 2,
       "version_minor": 0
      },
      "text/plain": [
       "roll_out:   0%|          | 0/1024 [00:00<?, ?it/s]"
      ]
     },
     "metadata": {},
     "output_type": "display_data"
    },
    {
     "data": {
      "application/vnd.jupyter.widget-view+json": {
       "model_id": "6e6973d89d8e497e8ff1f3dbed2be83a",
       "version_major": 2,
       "version_minor": 0
      },
      "text/plain": [
       "roll_out:   0%|          | 0/1024 [00:00<?, ?it/s]"
      ]
     },
     "metadata": {},
     "output_type": "display_data"
    },
    {
     "data": {
      "application/vnd.jupyter.widget-view+json": {
       "model_id": "ba60b50ac9c14a9caf24330caaf47d9d",
       "version_major": 2,
       "version_minor": 0
      },
      "text/plain": [
       "roll_out:   0%|          | 0/1024 [00:00<?, ?it/s]"
      ]
     },
     "metadata": {},
     "output_type": "display_data"
    },
    {
     "data": {
      "application/vnd.jupyter.widget-view+json": {
       "model_id": "3f9bb57d4c51460183e67767c828bbee",
       "version_major": 2,
       "version_minor": 0
      },
      "text/plain": [
       "roll_out:   0%|          | 0/1024 [00:00<?, ?it/s]"
      ]
     },
     "metadata": {},
     "output_type": "display_data"
    },
    {
     "data": {
      "application/vnd.jupyter.widget-view+json": {
       "model_id": "b9da76607c744af9804549e88a487663",
       "version_major": 2,
       "version_minor": 0
      },
      "text/plain": [
       "roll_out:   0%|          | 0/1024 [00:00<?, ?it/s]"
      ]
     },
     "metadata": {},
     "output_type": "display_data"
    },
    {
     "data": {
      "application/vnd.jupyter.widget-view+json": {
       "model_id": "c3b0551a8938441bbad3c3c3123248c4",
       "version_major": 2,
       "version_minor": 0
      },
      "text/plain": [
       "roll_out:   0%|          | 0/1024 [00:00<?, ?it/s]"
      ]
     },
     "metadata": {},
     "output_type": "display_data"
    },
    {
     "data": {
      "application/vnd.jupyter.widget-view+json": {
       "model_id": "bb66ed815cea46618657044f04ab5039",
       "version_major": 2,
       "version_minor": 0
      },
      "text/plain": [
       "roll_out:   0%|          | 0/1024 [00:00<?, ?it/s]"
      ]
     },
     "metadata": {},
     "output_type": "display_data"
    },
    {
     "data": {
      "application/vnd.jupyter.widget-view+json": {
       "model_id": "e430abd50ba5410fa4396d206eb99f7c",
       "version_major": 2,
       "version_minor": 0
      },
      "text/plain": [
       "roll_out:   0%|          | 0/1024 [00:00<?, ?it/s]"
      ]
     },
     "metadata": {},
     "output_type": "display_data"
    },
    {
     "data": {
      "application/vnd.jupyter.widget-view+json": {
       "model_id": "ca5512ea6e014ba28105043926db0c9f",
       "version_major": 2,
       "version_minor": 0
      },
      "text/plain": [
       "roll_out:   0%|          | 0/1024 [00:00<?, ?it/s]"
      ]
     },
     "metadata": {},
     "output_type": "display_data"
    },
    {
     "data": {
      "application/vnd.jupyter.widget-view+json": {
       "model_id": "2a1966219db64440b9a597a4bfade088",
       "version_major": 2,
       "version_minor": 0
      },
      "text/plain": [
       "roll_out:   0%|          | 0/1024 [00:00<?, ?it/s]"
      ]
     },
     "metadata": {},
     "output_type": "display_data"
    },
    {
     "data": {
      "application/vnd.jupyter.widget-view+json": {
       "model_id": "aa9740cb2ccd4b4fa70b328edfacc240",
       "version_major": 2,
       "version_minor": 0
      },
      "text/plain": [
       "roll_out:   0%|          | 0/1024 [00:00<?, ?it/s]"
      ]
     },
     "metadata": {},
     "output_type": "display_data"
    },
    {
     "data": {
      "application/vnd.jupyter.widget-view+json": {
       "model_id": "d451e26e1c9848c58be35763a26d0f50",
       "version_major": 2,
       "version_minor": 0
      },
      "text/plain": [
       "roll_out:   0%|          | 0/1024 [00:00<?, ?it/s]"
      ]
     },
     "metadata": {},
     "output_type": "display_data"
    },
    {
     "data": {
      "application/vnd.jupyter.widget-view+json": {
       "model_id": "69b3943102e74b5f97aafe37e0168b81",
       "version_major": 2,
       "version_minor": 0
      },
      "text/plain": [
       "roll_out:   0%|          | 0/1024 [00:00<?, ?it/s]"
      ]
     },
     "metadata": {},
     "output_type": "display_data"
    },
    {
     "data": {
      "application/vnd.jupyter.widget-view+json": {
       "model_id": "ce883b23bb50422a866a8cdcccfd7771",
       "version_major": 2,
       "version_minor": 0
      },
      "text/plain": [
       "roll_out:   0%|          | 0/1024 [00:00<?, ?it/s]"
      ]
     },
     "metadata": {},
     "output_type": "display_data"
    },
    {
     "data": {
      "application/vnd.jupyter.widget-view+json": {
       "model_id": "2bd91f59f37f49168ef7e89b1828b6cc",
       "version_major": 2,
       "version_minor": 0
      },
      "text/plain": [
       "roll_out:   0%|          | 0/1024 [00:00<?, ?it/s]"
      ]
     },
     "metadata": {},
     "output_type": "display_data"
    },
    {
     "data": {
      "application/vnd.jupyter.widget-view+json": {
       "model_id": "54249ec8e9724777a2b259dcc066eb58",
       "version_major": 2,
       "version_minor": 0
      },
      "text/plain": [
       "roll_out:   0%|          | 0/1024 [00:00<?, ?it/s]"
      ]
     },
     "metadata": {},
     "output_type": "display_data"
    },
    {
     "data": {
      "application/vnd.jupyter.widget-view+json": {
       "model_id": "e627461fc5ce4f438a85c00de2e41057",
       "version_major": 2,
       "version_minor": 0
      },
      "text/plain": [
       "roll_out:   0%|          | 0/1024 [00:00<?, ?it/s]"
      ]
     },
     "metadata": {},
     "output_type": "display_data"
    },
    {
     "data": {
      "application/vnd.jupyter.widget-view+json": {
       "model_id": "c6dff3ac4587479f9bc7eb357a113fbf",
       "version_major": 2,
       "version_minor": 0
      },
      "text/plain": [
       "roll_out:   0%|          | 0/1024 [00:00<?, ?it/s]"
      ]
     },
     "metadata": {},
     "output_type": "display_data"
    },
    {
     "data": {
      "application/vnd.jupyter.widget-view+json": {
       "model_id": "98f011fe4dad492cb7d3bc74e85fe473",
       "version_major": 2,
       "version_minor": 0
      },
      "text/plain": [
       "roll_out:   0%|          | 0/1024 [00:00<?, ?it/s]"
      ]
     },
     "metadata": {},
     "output_type": "display_data"
    },
    {
     "data": {
      "application/vnd.jupyter.widget-view+json": {
       "model_id": "21cdd64e899d4e98be23f342f26c7247",
       "version_major": 2,
       "version_minor": 0
      },
      "text/plain": [
       "roll_out:   0%|          | 0/1024 [00:00<?, ?it/s]"
      ]
     },
     "metadata": {},
     "output_type": "display_data"
    },
    {
     "data": {
      "application/vnd.jupyter.widget-view+json": {
       "model_id": "0ba60fbda871415490629fcab666890a",
       "version_major": 2,
       "version_minor": 0
      },
      "text/plain": [
       "roll_out:   0%|          | 0/1024 [00:00<?, ?it/s]"
      ]
     },
     "metadata": {},
     "output_type": "display_data"
    },
    {
     "data": {
      "application/vnd.jupyter.widget-view+json": {
       "model_id": "d7cb58fbae7c47b2b425fabc5fe4e129",
       "version_major": 2,
       "version_minor": 0
      },
      "text/plain": [
       "roll_out:   0%|          | 0/1024 [00:00<?, ?it/s]"
      ]
     },
     "metadata": {},
     "output_type": "display_data"
    },
    {
     "data": {
      "application/vnd.jupyter.widget-view+json": {
       "model_id": "04606c5cd2fb4ab7971b8ea0d2835b11",
       "version_major": 2,
       "version_minor": 0
      },
      "text/plain": [
       "roll_out:   0%|          | 0/1024 [00:00<?, ?it/s]"
      ]
     },
     "metadata": {},
     "output_type": "display_data"
    },
    {
     "data": {
      "application/vnd.jupyter.widget-view+json": {
       "model_id": "1196037a8a9d459a979163ef08f08a54",
       "version_major": 2,
       "version_minor": 0
      },
      "text/plain": [
       "roll_out:   0%|          | 0/1024 [00:00<?, ?it/s]"
      ]
     },
     "metadata": {},
     "output_type": "display_data"
    },
    {
     "data": {
      "application/vnd.jupyter.widget-view+json": {
       "model_id": "f54b39c468d14a63a89c5eec71baa020",
       "version_major": 2,
       "version_minor": 0
      },
      "text/plain": [
       "roll_out:   0%|          | 0/1024 [00:00<?, ?it/s]"
      ]
     },
     "metadata": {},
     "output_type": "display_data"
    },
    {
     "data": {
      "application/vnd.jupyter.widget-view+json": {
       "model_id": "db7a1eb1b52c49f6b6886e8fbcc9fa19",
       "version_major": 2,
       "version_minor": 0
      },
      "text/plain": [
       "roll_out:   0%|          | 0/1024 [00:00<?, ?it/s]"
      ]
     },
     "metadata": {},
     "output_type": "display_data"
    },
    {
     "data": {
      "text/html": [
       "Waiting for W&B process to finish... <strong style=\"color:green\">(success).</strong>"
      ],
      "text/plain": [
       "<IPython.core.display.HTML object>"
      ]
     },
     "metadata": {},
     "output_type": "display_data"
    },
    {
     "data": {
      "text/html": [
       "<style>\n",
       "    table.wandb td:nth-child(1) { padding: 0 10px; text-align: left ; width: auto;} td:nth-child(2) {text-align: left ; width: 100%}\n",
       "    .wandb-row { display: flex; flex-direction: row; flex-wrap: wrap; justify-content: flex-start; width: 100% }\n",
       "    .wandb-col { display: flex; flex-direction: column; flex-basis: 100%; flex: 1; padding: 10px; }\n",
       "    </style>\n",
       "<div class=\"wandb-row\"><div class=\"wandb-col\"><h3>Run history:</h3><br/><table class=\"wandb\"><tr><td>KL_approx</td><td>▁▁▁▂▂▂▂▃▂▁▂▁▂▁▂▁▂▄▄▁▁▁▂▁▂▂▂▂▂▂▂▅▂▁▃▄▂▂▄█</td></tr><tr><td>episode_reward</td><td>▂▁▃▂▄▅▅▅▇▇▇█▃▇█▇██▇▇▇▇▇███▇▇▇▇▇▇▇▇▇▇▇▇▆▇</td></tr><tr><td>total_loss</td><td>█▁▁▁▁▁▁▁▁▁▁▂▂▁▁▁▁▁▁▁▂▁▁▁▁▁▁▁▁▁▁▁▁▁▁▁▁▁▁▁</td></tr></table><br/></div><div class=\"wandb-col\"><h3>Run summary:</h3><br/><table class=\"wandb\"><tr><td>early_stop_count</td><td>0</td></tr><tr><td>episode_reward</td><td>-0.62468</td></tr><tr><td>total_loss</td><td>14.18579</td></tr></table><br/></div></div>"
      ],
      "text/plain": [
       "<IPython.core.display.HTML object>"
      ]
     },
     "metadata": {},
     "output_type": "display_data"
    },
    {
     "data": {
      "text/html": [
       " View run <strong style=\"color:#cdcd00\">electric-sweep-2</strong> at: <a href='https://wandb.ai/tcd-clearway/PPO-Pendulum-2/runs/2i1pxj2d' target=\"_blank\">https://wandb.ai/tcd-clearway/PPO-Pendulum-2/runs/2i1pxj2d</a><br/>Synced 5 W&B file(s), 0 media file(s), 0 artifact file(s) and 1 other file(s)"
      ],
      "text/plain": [
       "<IPython.core.display.HTML object>"
      ]
     },
     "metadata": {},
     "output_type": "display_data"
    },
    {
     "data": {
      "text/html": [
       "Find logs at: <code>.\\wandb\\run-20230720_092624-2i1pxj2d\\logs</code>"
      ],
      "text/plain": [
       "<IPython.core.display.HTML object>"
      ]
     },
     "metadata": {},
     "output_type": "display_data"
    },
    {
     "name": "stderr",
     "output_type": "stream",
     "text": [
      "\u001b[34m\u001b[1mwandb\u001b[0m: Agent Starting Run: qjkvcmdc with config:\n",
      "\u001b[34m\u001b[1mwandb\u001b[0m: \tc1: 0.5020639303776493\n",
      "\u001b[34m\u001b[1mwandb\u001b[0m: \tc2: 0.910077248529638\n",
      "\u001b[34m\u001b[1mwandb\u001b[0m: \tcal_total_loss: True\n",
      "\u001b[34m\u001b[1mwandb\u001b[0m: \tearly_stop: False\n",
      "\u001b[34m\u001b[1mwandb\u001b[0m: \tminibatch_size: 512\n",
      "\u001b[34m\u001b[1mwandb\u001b[0m: \tparameters_hardshare: False\n",
      "Failed to detect the name of this notebook, you can set it manually with the WANDB_NOTEBOOK_NAME environment variable to enable code saving.\n"
     ]
    },
    {
     "data": {
      "application/vnd.jupyter.widget-view+json": {
       "model_id": "ef42c07b7f29455b8de89cda964ef98b",
       "version_major": 2,
       "version_minor": 0
      },
      "text/plain": [
       "VBox(children=(Label(value='Waiting for wandb.init()...\\r'), FloatProgress(value=0.016916666666899498, max=1.0…"
      ]
     },
     "metadata": {},
     "output_type": "display_data"
    },
    {
     "data": {
      "text/html": [
       "wandb version 0.15.5 is available!  To upgrade, please run:\n",
       " $ pip install wandb --upgrade"
      ],
      "text/plain": [
       "<IPython.core.display.HTML object>"
      ]
     },
     "metadata": {},
     "output_type": "display_data"
    },
    {
     "data": {
      "text/html": [
       "Tracking run with wandb version 0.15.4"
      ],
      "text/plain": [
       "<IPython.core.display.HTML object>"
      ]
     },
     "metadata": {},
     "output_type": "display_data"
    },
    {
     "data": {
      "text/html": [
       "Run data is saved locally in <code>c:\\Users\\stanw\\Desktop\\ppo\\wandb\\run-20230720_094024-qjkvcmdc</code>"
      ],
      "text/plain": [
       "<IPython.core.display.HTML object>"
      ]
     },
     "metadata": {},
     "output_type": "display_data"
    },
    {
     "data": {
      "text/html": [
       "Syncing run <strong><a href='https://wandb.ai/tcd-clearway/PPO-Pendulum-2/runs/qjkvcmdc' target=\"_blank\">celestial-sweep-3</a></strong> to <a href='https://wandb.ai/tcd-clearway/PPO-Pendulum-2' target=\"_blank\">Weights & Biases</a> (<a href='https://wandb.me/run' target=\"_blank\">docs</a>)<br/>Sweep page: <a href='https://wandb.ai/tcd-clearway/PPO-Pendulum-2/sweeps/5au3cuvc' target=\"_blank\">https://wandb.ai/tcd-clearway/PPO-Pendulum-2/sweeps/5au3cuvc</a>"
      ],
      "text/plain": [
       "<IPython.core.display.HTML object>"
      ]
     },
     "metadata": {},
     "output_type": "display_data"
    },
    {
     "data": {
      "text/html": [
       " View project at <a href='https://wandb.ai/tcd-clearway/PPO-Pendulum-2' target=\"_blank\">https://wandb.ai/tcd-clearway/PPO-Pendulum-2</a>"
      ],
      "text/plain": [
       "<IPython.core.display.HTML object>"
      ]
     },
     "metadata": {},
     "output_type": "display_data"
    },
    {
     "data": {
      "text/html": [
       " View sweep at <a href='https://wandb.ai/tcd-clearway/PPO-Pendulum-2/sweeps/5au3cuvc' target=\"_blank\">https://wandb.ai/tcd-clearway/PPO-Pendulum-2/sweeps/5au3cuvc</a>"
      ],
      "text/plain": [
       "<IPython.core.display.HTML object>"
      ]
     },
     "metadata": {},
     "output_type": "display_data"
    },
    {
     "data": {
      "text/html": [
       " View run at <a href='https://wandb.ai/tcd-clearway/PPO-Pendulum-2/runs/qjkvcmdc' target=\"_blank\">https://wandb.ai/tcd-clearway/PPO-Pendulum-2/runs/qjkvcmdc</a>"
      ],
      "text/plain": [
       "<IPython.core.display.HTML object>"
      ]
     },
     "metadata": {},
     "output_type": "display_data"
    },
    {
     "name": "stderr",
     "output_type": "stream",
     "text": [
      "\u001b[34m\u001b[1mwandb\u001b[0m: \u001b[33mWARNING\u001b[0m Config item 'minibatch_size' was locked by 'sweep' (ignored update).\n",
      "\u001b[34m\u001b[1mwandb\u001b[0m: \u001b[33mWARNING\u001b[0m Config item 'cal_total_loss' was locked by 'sweep' (ignored update).\n",
      "\u001b[34m\u001b[1mwandb\u001b[0m: \u001b[33mWARNING\u001b[0m Config item 'c1' was locked by 'sweep' (ignored update).\n",
      "\u001b[34m\u001b[1mwandb\u001b[0m: \u001b[33mWARNING\u001b[0m Config item 'c2' was locked by 'sweep' (ignored update).\n",
      "\u001b[34m\u001b[1mwandb\u001b[0m: \u001b[33mWARNING\u001b[0m Config item 'early_stop' was locked by 'sweep' (ignored update).\n"
     ]
    },
    {
     "data": {
      "application/vnd.jupyter.widget-view+json": {
       "model_id": "d3d9b10aace449a6a1e4b009b3a11c26",
       "version_major": 2,
       "version_minor": 0
      },
      "text/plain": [
       "  0%|          | 0/195 [00:00<?, ?it/s]"
      ]
     },
     "metadata": {},
     "output_type": "display_data"
    },
    {
     "data": {
      "application/vnd.jupyter.widget-view+json": {
       "model_id": "3fff64ba0c2f46f98fb0d555dbd8a211",
       "version_major": 2,
       "version_minor": 0
      },
      "text/plain": [
       "roll_out:   0%|          | 0/1024 [00:00<?, ?it/s]"
      ]
     },
     "metadata": {},
     "output_type": "display_data"
    },
    {
     "data": {
      "application/vnd.jupyter.widget-view+json": {
       "model_id": "9777e75943974628a03fd649f35c86b3",
       "version_major": 2,
       "version_minor": 0
      },
      "text/plain": [
       "roll_out:   0%|          | 0/1024 [00:00<?, ?it/s]"
      ]
     },
     "metadata": {},
     "output_type": "display_data"
    },
    {
     "data": {
      "application/vnd.jupyter.widget-view+json": {
       "model_id": "579d1fefa16a4a60aca6ab6ca0598c53",
       "version_major": 2,
       "version_minor": 0
      },
      "text/plain": [
       "roll_out:   0%|          | 0/1024 [00:00<?, ?it/s]"
      ]
     },
     "metadata": {},
     "output_type": "display_data"
    },
    {
     "data": {
      "application/vnd.jupyter.widget-view+json": {
       "model_id": "a583f99fc731487ca3fabd3ebfa2159d",
       "version_major": 2,
       "version_minor": 0
      },
      "text/plain": [
       "roll_out:   0%|          | 0/1024 [00:00<?, ?it/s]"
      ]
     },
     "metadata": {},
     "output_type": "display_data"
    },
    {
     "data": {
      "application/vnd.jupyter.widget-view+json": {
       "model_id": "1bcea30edc9b422fa15412b64271a43a",
       "version_major": 2,
       "version_minor": 0
      },
      "text/plain": [
       "roll_out:   0%|          | 0/1024 [00:00<?, ?it/s]"
      ]
     },
     "metadata": {},
     "output_type": "display_data"
    },
    {
     "data": {
      "application/vnd.jupyter.widget-view+json": {
       "model_id": "a5e0e256456e464f8d0b238a20a769a5",
       "version_major": 2,
       "version_minor": 0
      },
      "text/plain": [
       "roll_out:   0%|          | 0/1024 [00:00<?, ?it/s]"
      ]
     },
     "metadata": {},
     "output_type": "display_data"
    },
    {
     "data": {
      "application/vnd.jupyter.widget-view+json": {
       "model_id": "691a58b757204259967d35b5c03c376d",
       "version_major": 2,
       "version_minor": 0
      },
      "text/plain": [
       "roll_out:   0%|          | 0/1024 [00:00<?, ?it/s]"
      ]
     },
     "metadata": {},
     "output_type": "display_data"
    },
    {
     "data": {
      "application/vnd.jupyter.widget-view+json": {
       "model_id": "e7eb8c8769ac462ba93a98b70d229cd4",
       "version_major": 2,
       "version_minor": 0
      },
      "text/plain": [
       "roll_out:   0%|          | 0/1024 [00:00<?, ?it/s]"
      ]
     },
     "metadata": {},
     "output_type": "display_data"
    },
    {
     "data": {
      "application/vnd.jupyter.widget-view+json": {
       "model_id": "6723bdf2bcc240e1b215d05b6f17aee8",
       "version_major": 2,
       "version_minor": 0
      },
      "text/plain": [
       "roll_out:   0%|          | 0/1024 [00:00<?, ?it/s]"
      ]
     },
     "metadata": {},
     "output_type": "display_data"
    },
    {
     "data": {
      "application/vnd.jupyter.widget-view+json": {
       "model_id": "a9b7d8c56ec4499a862d5194d9d34c26",
       "version_major": 2,
       "version_minor": 0
      },
      "text/plain": [
       "roll_out:   0%|          | 0/1024 [00:00<?, ?it/s]"
      ]
     },
     "metadata": {},
     "output_type": "display_data"
    },
    {
     "data": {
      "application/vnd.jupyter.widget-view+json": {
       "model_id": "6d323f7ae8114f9e980f14f47af0e983",
       "version_major": 2,
       "version_minor": 0
      },
      "text/plain": [
       "roll_out:   0%|          | 0/1024 [00:00<?, ?it/s]"
      ]
     },
     "metadata": {},
     "output_type": "display_data"
    },
    {
     "data": {
      "application/vnd.jupyter.widget-view+json": {
       "model_id": "5931383850c5411c8baf295a1e774abb",
       "version_major": 2,
       "version_minor": 0
      },
      "text/plain": [
       "roll_out:   0%|          | 0/1024 [00:00<?, ?it/s]"
      ]
     },
     "metadata": {},
     "output_type": "display_data"
    },
    {
     "data": {
      "application/vnd.jupyter.widget-view+json": {
       "model_id": "91c24247a6084441b086ae8b3e77924c",
       "version_major": 2,
       "version_minor": 0
      },
      "text/plain": [
       "roll_out:   0%|          | 0/1024 [00:00<?, ?it/s]"
      ]
     },
     "metadata": {},
     "output_type": "display_data"
    },
    {
     "data": {
      "application/vnd.jupyter.widget-view+json": {
       "model_id": "a0f9bf84509b44f5a4594e1e27c07229",
       "version_major": 2,
       "version_minor": 0
      },
      "text/plain": [
       "roll_out:   0%|          | 0/1024 [00:00<?, ?it/s]"
      ]
     },
     "metadata": {},
     "output_type": "display_data"
    },
    {
     "data": {
      "application/vnd.jupyter.widget-view+json": {
       "model_id": "3aff186e8d554f9babcaee512aace2e6",
       "version_major": 2,
       "version_minor": 0
      },
      "text/plain": [
       "roll_out:   0%|          | 0/1024 [00:00<?, ?it/s]"
      ]
     },
     "metadata": {},
     "output_type": "display_data"
    },
    {
     "data": {
      "application/vnd.jupyter.widget-view+json": {
       "model_id": "469f9ce8d938404f80d8cf774f74173d",
       "version_major": 2,
       "version_minor": 0
      },
      "text/plain": [
       "roll_out:   0%|          | 0/1024 [00:00<?, ?it/s]"
      ]
     },
     "metadata": {},
     "output_type": "display_data"
    },
    {
     "data": {
      "application/vnd.jupyter.widget-view+json": {
       "model_id": "d5b51fdac19b41b5b98fadd282599809",
       "version_major": 2,
       "version_minor": 0
      },
      "text/plain": [
       "roll_out:   0%|          | 0/1024 [00:00<?, ?it/s]"
      ]
     },
     "metadata": {},
     "output_type": "display_data"
    },
    {
     "data": {
      "application/vnd.jupyter.widget-view+json": {
       "model_id": "e6abe00b8d4047d9ace4c909bc5bab81",
       "version_major": 2,
       "version_minor": 0
      },
      "text/plain": [
       "roll_out:   0%|          | 0/1024 [00:00<?, ?it/s]"
      ]
     },
     "metadata": {},
     "output_type": "display_data"
    },
    {
     "data": {
      "application/vnd.jupyter.widget-view+json": {
       "model_id": "83c4cd4ddde64a1cbbcb785207960100",
       "version_major": 2,
       "version_minor": 0
      },
      "text/plain": [
       "roll_out:   0%|          | 0/1024 [00:00<?, ?it/s]"
      ]
     },
     "metadata": {},
     "output_type": "display_data"
    },
    {
     "data": {
      "application/vnd.jupyter.widget-view+json": {
       "model_id": "c0b253d1183142b196cbf9a691e745a0",
       "version_major": 2,
       "version_minor": 0
      },
      "text/plain": [
       "roll_out:   0%|          | 0/1024 [00:00<?, ?it/s]"
      ]
     },
     "metadata": {},
     "output_type": "display_data"
    },
    {
     "data": {
      "application/vnd.jupyter.widget-view+json": {
       "model_id": "165e05b825714683bdb2f35441012ad2",
       "version_major": 2,
       "version_minor": 0
      },
      "text/plain": [
       "roll_out:   0%|          | 0/1024 [00:00<?, ?it/s]"
      ]
     },
     "metadata": {},
     "output_type": "display_data"
    },
    {
     "data": {
      "application/vnd.jupyter.widget-view+json": {
       "model_id": "ac749fcbd8bf401ca62687107666142f",
       "version_major": 2,
       "version_minor": 0
      },
      "text/plain": [
       "roll_out:   0%|          | 0/1024 [00:00<?, ?it/s]"
      ]
     },
     "metadata": {},
     "output_type": "display_data"
    },
    {
     "data": {
      "application/vnd.jupyter.widget-view+json": {
       "model_id": "6eab81acba634c1e938936c23377e441",
       "version_major": 2,
       "version_minor": 0
      },
      "text/plain": [
       "roll_out:   0%|          | 0/1024 [00:00<?, ?it/s]"
      ]
     },
     "metadata": {},
     "output_type": "display_data"
    },
    {
     "data": {
      "application/vnd.jupyter.widget-view+json": {
       "model_id": "4372b246c7f54962843e91bf1e81f7dd",
       "version_major": 2,
       "version_minor": 0
      },
      "text/plain": [
       "roll_out:   0%|          | 0/1024 [00:00<?, ?it/s]"
      ]
     },
     "metadata": {},
     "output_type": "display_data"
    },
    {
     "data": {
      "application/vnd.jupyter.widget-view+json": {
       "model_id": "08f6428cc4cb429d90fdab73fedf958a",
       "version_major": 2,
       "version_minor": 0
      },
      "text/plain": [
       "roll_out:   0%|          | 0/1024 [00:00<?, ?it/s]"
      ]
     },
     "metadata": {},
     "output_type": "display_data"
    },
    {
     "data": {
      "application/vnd.jupyter.widget-view+json": {
       "model_id": "ec0d7038b82c4680a895f98e6ea9ab6b",
       "version_major": 2,
       "version_minor": 0
      },
      "text/plain": [
       "roll_out:   0%|          | 0/1024 [00:00<?, ?it/s]"
      ]
     },
     "metadata": {},
     "output_type": "display_data"
    },
    {
     "data": {
      "application/vnd.jupyter.widget-view+json": {
       "model_id": "acb327c0127e467ead9f8c9078a8f24a",
       "version_major": 2,
       "version_minor": 0
      },
      "text/plain": [
       "roll_out:   0%|          | 0/1024 [00:00<?, ?it/s]"
      ]
     },
     "metadata": {},
     "output_type": "display_data"
    },
    {
     "data": {
      "application/vnd.jupyter.widget-view+json": {
       "model_id": "775b1ed9a4c7421a8ad267ba6efe250c",
       "version_major": 2,
       "version_minor": 0
      },
      "text/plain": [
       "roll_out:   0%|          | 0/1024 [00:00<?, ?it/s]"
      ]
     },
     "metadata": {},
     "output_type": "display_data"
    },
    {
     "data": {
      "application/vnd.jupyter.widget-view+json": {
       "model_id": "37d94611a35b4995aaa18ced351daa78",
       "version_major": 2,
       "version_minor": 0
      },
      "text/plain": [
       "roll_out:   0%|          | 0/1024 [00:00<?, ?it/s]"
      ]
     },
     "metadata": {},
     "output_type": "display_data"
    },
    {
     "data": {
      "application/vnd.jupyter.widget-view+json": {
       "model_id": "508e749682544f6586b8cc397badfc8a",
       "version_major": 2,
       "version_minor": 0
      },
      "text/plain": [
       "roll_out:   0%|          | 0/1024 [00:00<?, ?it/s]"
      ]
     },
     "metadata": {},
     "output_type": "display_data"
    },
    {
     "data": {
      "application/vnd.jupyter.widget-view+json": {
       "model_id": "3c3bc571cb7c4a929dcb3b3feb220d34",
       "version_major": 2,
       "version_minor": 0
      },
      "text/plain": [
       "roll_out:   0%|          | 0/1024 [00:00<?, ?it/s]"
      ]
     },
     "metadata": {},
     "output_type": "display_data"
    },
    {
     "data": {
      "application/vnd.jupyter.widget-view+json": {
       "model_id": "4273d4f294dc4041a19e73329bed2756",
       "version_major": 2,
       "version_minor": 0
      },
      "text/plain": [
       "roll_out:   0%|          | 0/1024 [00:00<?, ?it/s]"
      ]
     },
     "metadata": {},
     "output_type": "display_data"
    },
    {
     "data": {
      "application/vnd.jupyter.widget-view+json": {
       "model_id": "9cfaa99180974e5985770f9f55018cd2",
       "version_major": 2,
       "version_minor": 0
      },
      "text/plain": [
       "roll_out:   0%|          | 0/1024 [00:00<?, ?it/s]"
      ]
     },
     "metadata": {},
     "output_type": "display_data"
    },
    {
     "data": {
      "application/vnd.jupyter.widget-view+json": {
       "model_id": "bd1a2fd495c6408abad324cfa170715a",
       "version_major": 2,
       "version_minor": 0
      },
      "text/plain": [
       "roll_out:   0%|          | 0/1024 [00:00<?, ?it/s]"
      ]
     },
     "metadata": {},
     "output_type": "display_data"
    },
    {
     "data": {
      "application/vnd.jupyter.widget-view+json": {
       "model_id": "6dbe3b1683b9424dacca13810c6b27b7",
       "version_major": 2,
       "version_minor": 0
      },
      "text/plain": [
       "roll_out:   0%|          | 0/1024 [00:00<?, ?it/s]"
      ]
     },
     "metadata": {},
     "output_type": "display_data"
    },
    {
     "data": {
      "application/vnd.jupyter.widget-view+json": {
       "model_id": "8645c1d99a6b4ace85582c3f2d63acd0",
       "version_major": 2,
       "version_minor": 0
      },
      "text/plain": [
       "roll_out:   0%|          | 0/1024 [00:00<?, ?it/s]"
      ]
     },
     "metadata": {},
     "output_type": "display_data"
    },
    {
     "data": {
      "application/vnd.jupyter.widget-view+json": {
       "model_id": "d0a37474d34945cf9b3a8664498f300f",
       "version_major": 2,
       "version_minor": 0
      },
      "text/plain": [
       "roll_out:   0%|          | 0/1024 [00:00<?, ?it/s]"
      ]
     },
     "metadata": {},
     "output_type": "display_data"
    },
    {
     "data": {
      "application/vnd.jupyter.widget-view+json": {
       "model_id": "aa8d21b7b7e84c04af93896fc42084a0",
       "version_major": 2,
       "version_minor": 0
      },
      "text/plain": [
       "roll_out:   0%|          | 0/1024 [00:00<?, ?it/s]"
      ]
     },
     "metadata": {},
     "output_type": "display_data"
    },
    {
     "data": {
      "application/vnd.jupyter.widget-view+json": {
       "model_id": "ba4e21fa77084e13bebd31d539ff6575",
       "version_major": 2,
       "version_minor": 0
      },
      "text/plain": [
       "roll_out:   0%|          | 0/1024 [00:00<?, ?it/s]"
      ]
     },
     "metadata": {},
     "output_type": "display_data"
    },
    {
     "data": {
      "application/vnd.jupyter.widget-view+json": {
       "model_id": "6d6c31b9a6fd4af5afbdd774dfff79ab",
       "version_major": 2,
       "version_minor": 0
      },
      "text/plain": [
       "roll_out:   0%|          | 0/1024 [00:00<?, ?it/s]"
      ]
     },
     "metadata": {},
     "output_type": "display_data"
    },
    {
     "data": {
      "application/vnd.jupyter.widget-view+json": {
       "model_id": "c45372a0fe8d4f568b60927315c2f89c",
       "version_major": 2,
       "version_minor": 0
      },
      "text/plain": [
       "roll_out:   0%|          | 0/1024 [00:00<?, ?it/s]"
      ]
     },
     "metadata": {},
     "output_type": "display_data"
    },
    {
     "data": {
      "application/vnd.jupyter.widget-view+json": {
       "model_id": "3b1fb171c2b84c5ca6a41f86e3fd21d6",
       "version_major": 2,
       "version_minor": 0
      },
      "text/plain": [
       "roll_out:   0%|          | 0/1024 [00:00<?, ?it/s]"
      ]
     },
     "metadata": {},
     "output_type": "display_data"
    },
    {
     "data": {
      "application/vnd.jupyter.widget-view+json": {
       "model_id": "8cbf5f50dcb340338f4b219731e35de6",
       "version_major": 2,
       "version_minor": 0
      },
      "text/plain": [
       "roll_out:   0%|          | 0/1024 [00:00<?, ?it/s]"
      ]
     },
     "metadata": {},
     "output_type": "display_data"
    },
    {
     "data": {
      "application/vnd.jupyter.widget-view+json": {
       "model_id": "82bb494db12b467bb8fe4ce263956404",
       "version_major": 2,
       "version_minor": 0
      },
      "text/plain": [
       "roll_out:   0%|          | 0/1024 [00:00<?, ?it/s]"
      ]
     },
     "metadata": {},
     "output_type": "display_data"
    },
    {
     "data": {
      "application/vnd.jupyter.widget-view+json": {
       "model_id": "1db76998ae68460b93022f2ab60640e0",
       "version_major": 2,
       "version_minor": 0
      },
      "text/plain": [
       "roll_out:   0%|          | 0/1024 [00:00<?, ?it/s]"
      ]
     },
     "metadata": {},
     "output_type": "display_data"
    },
    {
     "data": {
      "application/vnd.jupyter.widget-view+json": {
       "model_id": "578218efb4ae4e76a5b4b16204ab9be5",
       "version_major": 2,
       "version_minor": 0
      },
      "text/plain": [
       "roll_out:   0%|          | 0/1024 [00:00<?, ?it/s]"
      ]
     },
     "metadata": {},
     "output_type": "display_data"
    },
    {
     "data": {
      "application/vnd.jupyter.widget-view+json": {
       "model_id": "400594e2e77f47d0b8f8b68cf62e83a8",
       "version_major": 2,
       "version_minor": 0
      },
      "text/plain": [
       "roll_out:   0%|          | 0/1024 [00:00<?, ?it/s]"
      ]
     },
     "metadata": {},
     "output_type": "display_data"
    },
    {
     "data": {
      "application/vnd.jupyter.widget-view+json": {
       "model_id": "9745bbe6671b4ac6bcc4ee0c0e809567",
       "version_major": 2,
       "version_minor": 0
      },
      "text/plain": [
       "roll_out:   0%|          | 0/1024 [00:00<?, ?it/s]"
      ]
     },
     "metadata": {},
     "output_type": "display_data"
    },
    {
     "data": {
      "application/vnd.jupyter.widget-view+json": {
       "model_id": "b12f2f5b7c96411d90113a86ecc4bd05",
       "version_major": 2,
       "version_minor": 0
      },
      "text/plain": [
       "roll_out:   0%|          | 0/1024 [00:00<?, ?it/s]"
      ]
     },
     "metadata": {},
     "output_type": "display_data"
    },
    {
     "data": {
      "application/vnd.jupyter.widget-view+json": {
       "model_id": "58bdc364691240e38739f59f4278678b",
       "version_major": 2,
       "version_minor": 0
      },
      "text/plain": [
       "roll_out:   0%|          | 0/1024 [00:00<?, ?it/s]"
      ]
     },
     "metadata": {},
     "output_type": "display_data"
    },
    {
     "data": {
      "application/vnd.jupyter.widget-view+json": {
       "model_id": "42133250a1ae49159daf4f95fa4f621b",
       "version_major": 2,
       "version_minor": 0
      },
      "text/plain": [
       "roll_out:   0%|          | 0/1024 [00:00<?, ?it/s]"
      ]
     },
     "metadata": {},
     "output_type": "display_data"
    },
    {
     "data": {
      "application/vnd.jupyter.widget-view+json": {
       "model_id": "1bdd9621e31d4fe5a3695324b4a3eeef",
       "version_major": 2,
       "version_minor": 0
      },
      "text/plain": [
       "roll_out:   0%|          | 0/1024 [00:00<?, ?it/s]"
      ]
     },
     "metadata": {},
     "output_type": "display_data"
    },
    {
     "data": {
      "application/vnd.jupyter.widget-view+json": {
       "model_id": "06c7973522744b33b91641cce193968b",
       "version_major": 2,
       "version_minor": 0
      },
      "text/plain": [
       "roll_out:   0%|          | 0/1024 [00:00<?, ?it/s]"
      ]
     },
     "metadata": {},
     "output_type": "display_data"
    },
    {
     "data": {
      "application/vnd.jupyter.widget-view+json": {
       "model_id": "821c3ce09a74441aacf9f714c3f2cdf7",
       "version_major": 2,
       "version_minor": 0
      },
      "text/plain": [
       "roll_out:   0%|          | 0/1024 [00:00<?, ?it/s]"
      ]
     },
     "metadata": {},
     "output_type": "display_data"
    },
    {
     "data": {
      "application/vnd.jupyter.widget-view+json": {
       "model_id": "520ab386f0194c5a95adbfa0e96c2070",
       "version_major": 2,
       "version_minor": 0
      },
      "text/plain": [
       "roll_out:   0%|          | 0/1024 [00:00<?, ?it/s]"
      ]
     },
     "metadata": {},
     "output_type": "display_data"
    },
    {
     "data": {
      "application/vnd.jupyter.widget-view+json": {
       "model_id": "f1d7edaf559346e08988974d3ec8eea4",
       "version_major": 2,
       "version_minor": 0
      },
      "text/plain": [
       "roll_out:   0%|          | 0/1024 [00:00<?, ?it/s]"
      ]
     },
     "metadata": {},
     "output_type": "display_data"
    },
    {
     "data": {
      "application/vnd.jupyter.widget-view+json": {
       "model_id": "42979ae0065a413e92b3168f705fe0de",
       "version_major": 2,
       "version_minor": 0
      },
      "text/plain": [
       "roll_out:   0%|          | 0/1024 [00:00<?, ?it/s]"
      ]
     },
     "metadata": {},
     "output_type": "display_data"
    },
    {
     "data": {
      "application/vnd.jupyter.widget-view+json": {
       "model_id": "0f40e6a10d5844e4a73b5d98f17ea5e6",
       "version_major": 2,
       "version_minor": 0
      },
      "text/plain": [
       "roll_out:   0%|          | 0/1024 [00:00<?, ?it/s]"
      ]
     },
     "metadata": {},
     "output_type": "display_data"
    },
    {
     "data": {
      "application/vnd.jupyter.widget-view+json": {
       "model_id": "73f445dd144f473181d5fd4814067279",
       "version_major": 2,
       "version_minor": 0
      },
      "text/plain": [
       "roll_out:   0%|          | 0/1024 [00:00<?, ?it/s]"
      ]
     },
     "metadata": {},
     "output_type": "display_data"
    },
    {
     "data": {
      "application/vnd.jupyter.widget-view+json": {
       "model_id": "ab66c030b750444182d1e96f62203dd9",
       "version_major": 2,
       "version_minor": 0
      },
      "text/plain": [
       "roll_out:   0%|          | 0/1024 [00:00<?, ?it/s]"
      ]
     },
     "metadata": {},
     "output_type": "display_data"
    },
    {
     "data": {
      "application/vnd.jupyter.widget-view+json": {
       "model_id": "d21b32f58df943419da9d5ffaaddcdd8",
       "version_major": 2,
       "version_minor": 0
      },
      "text/plain": [
       "roll_out:   0%|          | 0/1024 [00:00<?, ?it/s]"
      ]
     },
     "metadata": {},
     "output_type": "display_data"
    },
    {
     "data": {
      "application/vnd.jupyter.widget-view+json": {
       "model_id": "e5e1aa4354ae4e1892d36a6e9e7824a3",
       "version_major": 2,
       "version_minor": 0
      },
      "text/plain": [
       "roll_out:   0%|          | 0/1024 [00:00<?, ?it/s]"
      ]
     },
     "metadata": {},
     "output_type": "display_data"
    },
    {
     "data": {
      "application/vnd.jupyter.widget-view+json": {
       "model_id": "85eb4dde861e4326b8342dac467700dd",
       "version_major": 2,
       "version_minor": 0
      },
      "text/plain": [
       "roll_out:   0%|          | 0/1024 [00:00<?, ?it/s]"
      ]
     },
     "metadata": {},
     "output_type": "display_data"
    },
    {
     "data": {
      "application/vnd.jupyter.widget-view+json": {
       "model_id": "fe99dc8b223b4dcb9de3433a9e60e34a",
       "version_major": 2,
       "version_minor": 0
      },
      "text/plain": [
       "roll_out:   0%|          | 0/1024 [00:00<?, ?it/s]"
      ]
     },
     "metadata": {},
     "output_type": "display_data"
    },
    {
     "data": {
      "application/vnd.jupyter.widget-view+json": {
       "model_id": "4c456e70ceb84d858ecd6cfa8fa8b81a",
       "version_major": 2,
       "version_minor": 0
      },
      "text/plain": [
       "roll_out:   0%|          | 0/1024 [00:00<?, ?it/s]"
      ]
     },
     "metadata": {},
     "output_type": "display_data"
    },
    {
     "data": {
      "application/vnd.jupyter.widget-view+json": {
       "model_id": "6ace08d3c45e4beea3ba61de7f369b71",
       "version_major": 2,
       "version_minor": 0
      },
      "text/plain": [
       "roll_out:   0%|          | 0/1024 [00:00<?, ?it/s]"
      ]
     },
     "metadata": {},
     "output_type": "display_data"
    },
    {
     "data": {
      "application/vnd.jupyter.widget-view+json": {
       "model_id": "68a77f19c4de4c9ab74c0480bcc7af71",
       "version_major": 2,
       "version_minor": 0
      },
      "text/plain": [
       "roll_out:   0%|          | 0/1024 [00:00<?, ?it/s]"
      ]
     },
     "metadata": {},
     "output_type": "display_data"
    },
    {
     "data": {
      "application/vnd.jupyter.widget-view+json": {
       "model_id": "1df6211743d94ab1a20a911464ba3fd0",
       "version_major": 2,
       "version_minor": 0
      },
      "text/plain": [
       "roll_out:   0%|          | 0/1024 [00:00<?, ?it/s]"
      ]
     },
     "metadata": {},
     "output_type": "display_data"
    },
    {
     "data": {
      "application/vnd.jupyter.widget-view+json": {
       "model_id": "fc974c94f18c47f28cb8b1687509bf8f",
       "version_major": 2,
       "version_minor": 0
      },
      "text/plain": [
       "roll_out:   0%|          | 0/1024 [00:00<?, ?it/s]"
      ]
     },
     "metadata": {},
     "output_type": "display_data"
    },
    {
     "data": {
      "application/vnd.jupyter.widget-view+json": {
       "model_id": "79aa205a0f894161b86d14783abab74a",
       "version_major": 2,
       "version_minor": 0
      },
      "text/plain": [
       "roll_out:   0%|          | 0/1024 [00:00<?, ?it/s]"
      ]
     },
     "metadata": {},
     "output_type": "display_data"
    },
    {
     "data": {
      "application/vnd.jupyter.widget-view+json": {
       "model_id": "43b2b8a54d8e422eaa310705673c3dcf",
       "version_major": 2,
       "version_minor": 0
      },
      "text/plain": [
       "roll_out:   0%|          | 0/1024 [00:00<?, ?it/s]"
      ]
     },
     "metadata": {},
     "output_type": "display_data"
    },
    {
     "data": {
      "application/vnd.jupyter.widget-view+json": {
       "model_id": "0a8e3098248748c5aa9302fb63567947",
       "version_major": 2,
       "version_minor": 0
      },
      "text/plain": [
       "roll_out:   0%|          | 0/1024 [00:00<?, ?it/s]"
      ]
     },
     "metadata": {},
     "output_type": "display_data"
    },
    {
     "data": {
      "application/vnd.jupyter.widget-view+json": {
       "model_id": "ecf26b563e7c41c7b7975b92dec67ff7",
       "version_major": 2,
       "version_minor": 0
      },
      "text/plain": [
       "roll_out:   0%|          | 0/1024 [00:00<?, ?it/s]"
      ]
     },
     "metadata": {},
     "output_type": "display_data"
    },
    {
     "data": {
      "application/vnd.jupyter.widget-view+json": {
       "model_id": "2b2ce56f427e456db08851db84f52957",
       "version_major": 2,
       "version_minor": 0
      },
      "text/plain": [
       "roll_out:   0%|          | 0/1024 [00:00<?, ?it/s]"
      ]
     },
     "metadata": {},
     "output_type": "display_data"
    },
    {
     "data": {
      "application/vnd.jupyter.widget-view+json": {
       "model_id": "52aed6169b654fbdbf29e6da10856e1b",
       "version_major": 2,
       "version_minor": 0
      },
      "text/plain": [
       "roll_out:   0%|          | 0/1024 [00:00<?, ?it/s]"
      ]
     },
     "metadata": {},
     "output_type": "display_data"
    },
    {
     "data": {
      "application/vnd.jupyter.widget-view+json": {
       "model_id": "4bf9fc1640234fcf8ec4124c4daf39cf",
       "version_major": 2,
       "version_minor": 0
      },
      "text/plain": [
       "roll_out:   0%|          | 0/1024 [00:00<?, ?it/s]"
      ]
     },
     "metadata": {},
     "output_type": "display_data"
    },
    {
     "data": {
      "application/vnd.jupyter.widget-view+json": {
       "model_id": "6eabd7386a904048a10bccc1b1c9fea3",
       "version_major": 2,
       "version_minor": 0
      },
      "text/plain": [
       "roll_out:   0%|          | 0/1024 [00:00<?, ?it/s]"
      ]
     },
     "metadata": {},
     "output_type": "display_data"
    },
    {
     "data": {
      "application/vnd.jupyter.widget-view+json": {
       "model_id": "e335bbd63ddc490aae31549da68fc74f",
       "version_major": 2,
       "version_minor": 0
      },
      "text/plain": [
       "roll_out:   0%|          | 0/1024 [00:00<?, ?it/s]"
      ]
     },
     "metadata": {},
     "output_type": "display_data"
    },
    {
     "data": {
      "application/vnd.jupyter.widget-view+json": {
       "model_id": "53d822f0a9e34d8eb01943ca2281c3f4",
       "version_major": 2,
       "version_minor": 0
      },
      "text/plain": [
       "roll_out:   0%|          | 0/1024 [00:00<?, ?it/s]"
      ]
     },
     "metadata": {},
     "output_type": "display_data"
    },
    {
     "data": {
      "application/vnd.jupyter.widget-view+json": {
       "model_id": "446805cacaae4ebbb3ae94b3168de1a0",
       "version_major": 2,
       "version_minor": 0
      },
      "text/plain": [
       "roll_out:   0%|          | 0/1024 [00:00<?, ?it/s]"
      ]
     },
     "metadata": {},
     "output_type": "display_data"
    },
    {
     "data": {
      "application/vnd.jupyter.widget-view+json": {
       "model_id": "ab18152fb0a2483cbf99dc75e074c5f5",
       "version_major": 2,
       "version_minor": 0
      },
      "text/plain": [
       "roll_out:   0%|          | 0/1024 [00:00<?, ?it/s]"
      ]
     },
     "metadata": {},
     "output_type": "display_data"
    },
    {
     "data": {
      "application/vnd.jupyter.widget-view+json": {
       "model_id": "bcabf03f21534d1ab554a6a912f36b9f",
       "version_major": 2,
       "version_minor": 0
      },
      "text/plain": [
       "roll_out:   0%|          | 0/1024 [00:00<?, ?it/s]"
      ]
     },
     "metadata": {},
     "output_type": "display_data"
    },
    {
     "data": {
      "application/vnd.jupyter.widget-view+json": {
       "model_id": "762593bc6b574878a1882ce4b83f2d17",
       "version_major": 2,
       "version_minor": 0
      },
      "text/plain": [
       "roll_out:   0%|          | 0/1024 [00:00<?, ?it/s]"
      ]
     },
     "metadata": {},
     "output_type": "display_data"
    },
    {
     "data": {
      "application/vnd.jupyter.widget-view+json": {
       "model_id": "f81d3a2de205428792c3121c6bba7dad",
       "version_major": 2,
       "version_minor": 0
      },
      "text/plain": [
       "roll_out:   0%|          | 0/1024 [00:00<?, ?it/s]"
      ]
     },
     "metadata": {},
     "output_type": "display_data"
    },
    {
     "data": {
      "application/vnd.jupyter.widget-view+json": {
       "model_id": "28af3c98387e4515b25d87d152aa8428",
       "version_major": 2,
       "version_minor": 0
      },
      "text/plain": [
       "roll_out:   0%|          | 0/1024 [00:00<?, ?it/s]"
      ]
     },
     "metadata": {},
     "output_type": "display_data"
    },
    {
     "data": {
      "application/vnd.jupyter.widget-view+json": {
       "model_id": "2895b35a1704470f885f8945bfb0a90c",
       "version_major": 2,
       "version_minor": 0
      },
      "text/plain": [
       "roll_out:   0%|          | 0/1024 [00:00<?, ?it/s]"
      ]
     },
     "metadata": {},
     "output_type": "display_data"
    },
    {
     "data": {
      "application/vnd.jupyter.widget-view+json": {
       "model_id": "1e3be2d4e2f541c3b6008d9216d3df5a",
       "version_major": 2,
       "version_minor": 0
      },
      "text/plain": [
       "roll_out:   0%|          | 0/1024 [00:00<?, ?it/s]"
      ]
     },
     "metadata": {},
     "output_type": "display_data"
    },
    {
     "data": {
      "application/vnd.jupyter.widget-view+json": {
       "model_id": "d0aebcc6575a42b28418e78a74f69cbc",
       "version_major": 2,
       "version_minor": 0
      },
      "text/plain": [
       "roll_out:   0%|          | 0/1024 [00:00<?, ?it/s]"
      ]
     },
     "metadata": {},
     "output_type": "display_data"
    },
    {
     "data": {
      "application/vnd.jupyter.widget-view+json": {
       "model_id": "72ab6b6551b144169d9c438a1c5efccd",
       "version_major": 2,
       "version_minor": 0
      },
      "text/plain": [
       "roll_out:   0%|          | 0/1024 [00:00<?, ?it/s]"
      ]
     },
     "metadata": {},
     "output_type": "display_data"
    },
    {
     "data": {
      "application/vnd.jupyter.widget-view+json": {
       "model_id": "8a1cbc0b382b419ea0640bdd06d9454a",
       "version_major": 2,
       "version_minor": 0
      },
      "text/plain": [
       "roll_out:   0%|          | 0/1024 [00:00<?, ?it/s]"
      ]
     },
     "metadata": {},
     "output_type": "display_data"
    },
    {
     "data": {
      "application/vnd.jupyter.widget-view+json": {
       "model_id": "9fe030ec2af24847a8e2c674744db669",
       "version_major": 2,
       "version_minor": 0
      },
      "text/plain": [
       "roll_out:   0%|          | 0/1024 [00:00<?, ?it/s]"
      ]
     },
     "metadata": {},
     "output_type": "display_data"
    },
    {
     "data": {
      "application/vnd.jupyter.widget-view+json": {
       "model_id": "7d05feda4e4542df9914d5bb61877f3f",
       "version_major": 2,
       "version_minor": 0
      },
      "text/plain": [
       "roll_out:   0%|          | 0/1024 [00:00<?, ?it/s]"
      ]
     },
     "metadata": {},
     "output_type": "display_data"
    },
    {
     "data": {
      "application/vnd.jupyter.widget-view+json": {
       "model_id": "b1b6b8dd3fe243208212b63882bafda9",
       "version_major": 2,
       "version_minor": 0
      },
      "text/plain": [
       "roll_out:   0%|          | 0/1024 [00:00<?, ?it/s]"
      ]
     },
     "metadata": {},
     "output_type": "display_data"
    },
    {
     "data": {
      "application/vnd.jupyter.widget-view+json": {
       "model_id": "d871a013e5474d6abb9557cfe708e3f2",
       "version_major": 2,
       "version_minor": 0
      },
      "text/plain": [
       "roll_out:   0%|          | 0/1024 [00:00<?, ?it/s]"
      ]
     },
     "metadata": {},
     "output_type": "display_data"
    },
    {
     "data": {
      "application/vnd.jupyter.widget-view+json": {
       "model_id": "40fe3767724648eb90b2bcbb7becd2bf",
       "version_major": 2,
       "version_minor": 0
      },
      "text/plain": [
       "roll_out:   0%|          | 0/1024 [00:00<?, ?it/s]"
      ]
     },
     "metadata": {},
     "output_type": "display_data"
    },
    {
     "data": {
      "application/vnd.jupyter.widget-view+json": {
       "model_id": "21f34b7bc65c47529d27b56800169976",
       "version_major": 2,
       "version_minor": 0
      },
      "text/plain": [
       "roll_out:   0%|          | 0/1024 [00:00<?, ?it/s]"
      ]
     },
     "metadata": {},
     "output_type": "display_data"
    },
    {
     "data": {
      "application/vnd.jupyter.widget-view+json": {
       "model_id": "d3f1aab2d56a4c96ac71108753922c75",
       "version_major": 2,
       "version_minor": 0
      },
      "text/plain": [
       "roll_out:   0%|          | 0/1024 [00:00<?, ?it/s]"
      ]
     },
     "metadata": {},
     "output_type": "display_data"
    },
    {
     "data": {
      "application/vnd.jupyter.widget-view+json": {
       "model_id": "00861188692746be81fcfece70fdf764",
       "version_major": 2,
       "version_minor": 0
      },
      "text/plain": [
       "roll_out:   0%|          | 0/1024 [00:00<?, ?it/s]"
      ]
     },
     "metadata": {},
     "output_type": "display_data"
    },
    {
     "data": {
      "application/vnd.jupyter.widget-view+json": {
       "model_id": "3119ce75bdcc40848bd77ec9fc60b066",
       "version_major": 2,
       "version_minor": 0
      },
      "text/plain": [
       "roll_out:   0%|          | 0/1024 [00:00<?, ?it/s]"
      ]
     },
     "metadata": {},
     "output_type": "display_data"
    },
    {
     "data": {
      "application/vnd.jupyter.widget-view+json": {
       "model_id": "a79bcbd419f248f7860e57b6fb210b00",
       "version_major": 2,
       "version_minor": 0
      },
      "text/plain": [
       "roll_out:   0%|          | 0/1024 [00:00<?, ?it/s]"
      ]
     },
     "metadata": {},
     "output_type": "display_data"
    },
    {
     "data": {
      "application/vnd.jupyter.widget-view+json": {
       "model_id": "e40c0ae8b776429184de617e5541bada",
       "version_major": 2,
       "version_minor": 0
      },
      "text/plain": [
       "roll_out:   0%|          | 0/1024 [00:00<?, ?it/s]"
      ]
     },
     "metadata": {},
     "output_type": "display_data"
    },
    {
     "data": {
      "application/vnd.jupyter.widget-view+json": {
       "model_id": "e688c79c59f74970932c05b41cc7832d",
       "version_major": 2,
       "version_minor": 0
      },
      "text/plain": [
       "roll_out:   0%|          | 0/1024 [00:00<?, ?it/s]"
      ]
     },
     "metadata": {},
     "output_type": "display_data"
    },
    {
     "data": {
      "application/vnd.jupyter.widget-view+json": {
       "model_id": "131fd63cffca406fa15cf988d32fc5ef",
       "version_major": 2,
       "version_minor": 0
      },
      "text/plain": [
       "roll_out:   0%|          | 0/1024 [00:00<?, ?it/s]"
      ]
     },
     "metadata": {},
     "output_type": "display_data"
    },
    {
     "data": {
      "application/vnd.jupyter.widget-view+json": {
       "model_id": "13ca1c23d88a47e38f8a1d44a9716452",
       "version_major": 2,
       "version_minor": 0
      },
      "text/plain": [
       "roll_out:   0%|          | 0/1024 [00:00<?, ?it/s]"
      ]
     },
     "metadata": {},
     "output_type": "display_data"
    },
    {
     "data": {
      "application/vnd.jupyter.widget-view+json": {
       "model_id": "d1883a8a58004f9985c9e99c7e93b991",
       "version_major": 2,
       "version_minor": 0
      },
      "text/plain": [
       "roll_out:   0%|          | 0/1024 [00:00<?, ?it/s]"
      ]
     },
     "metadata": {},
     "output_type": "display_data"
    },
    {
     "data": {
      "application/vnd.jupyter.widget-view+json": {
       "model_id": "7a8a634ee5fd4af2954f4c403267656e",
       "version_major": 2,
       "version_minor": 0
      },
      "text/plain": [
       "roll_out:   0%|          | 0/1024 [00:00<?, ?it/s]"
      ]
     },
     "metadata": {},
     "output_type": "display_data"
    },
    {
     "data": {
      "application/vnd.jupyter.widget-view+json": {
       "model_id": "738afdf302b541ea8b9a80df8ee1e03a",
       "version_major": 2,
       "version_minor": 0
      },
      "text/plain": [
       "roll_out:   0%|          | 0/1024 [00:00<?, ?it/s]"
      ]
     },
     "metadata": {},
     "output_type": "display_data"
    },
    {
     "data": {
      "application/vnd.jupyter.widget-view+json": {
       "model_id": "54eb2dc2845244f18cbb6e58f523fd98",
       "version_major": 2,
       "version_minor": 0
      },
      "text/plain": [
       "roll_out:   0%|          | 0/1024 [00:00<?, ?it/s]"
      ]
     },
     "metadata": {},
     "output_type": "display_data"
    },
    {
     "data": {
      "application/vnd.jupyter.widget-view+json": {
       "model_id": "59ca7563d16c4866969b08e12835507d",
       "version_major": 2,
       "version_minor": 0
      },
      "text/plain": [
       "roll_out:   0%|          | 0/1024 [00:00<?, ?it/s]"
      ]
     },
     "metadata": {},
     "output_type": "display_data"
    },
    {
     "data": {
      "application/vnd.jupyter.widget-view+json": {
       "model_id": "d5cfbcd619bc4d0f8780743f542a38f4",
       "version_major": 2,
       "version_minor": 0
      },
      "text/plain": [
       "roll_out:   0%|          | 0/1024 [00:00<?, ?it/s]"
      ]
     },
     "metadata": {},
     "output_type": "display_data"
    },
    {
     "data": {
      "application/vnd.jupyter.widget-view+json": {
       "model_id": "86f4ee60caec4e7e805d2da19e8d6dcc",
       "version_major": 2,
       "version_minor": 0
      },
      "text/plain": [
       "roll_out:   0%|          | 0/1024 [00:00<?, ?it/s]"
      ]
     },
     "metadata": {},
     "output_type": "display_data"
    },
    {
     "data": {
      "application/vnd.jupyter.widget-view+json": {
       "model_id": "62d563af68da4644bc6afc7a20208697",
       "version_major": 2,
       "version_minor": 0
      },
      "text/plain": [
       "roll_out:   0%|          | 0/1024 [00:00<?, ?it/s]"
      ]
     },
     "metadata": {},
     "output_type": "display_data"
    },
    {
     "data": {
      "application/vnd.jupyter.widget-view+json": {
       "model_id": "d339d9c33e3f43f6bd1ec2815273448f",
       "version_major": 2,
       "version_minor": 0
      },
      "text/plain": [
       "roll_out:   0%|          | 0/1024 [00:00<?, ?it/s]"
      ]
     },
     "metadata": {},
     "output_type": "display_data"
    },
    {
     "data": {
      "application/vnd.jupyter.widget-view+json": {
       "model_id": "c541c4e5e2804340b3703f54aa5a8fc9",
       "version_major": 2,
       "version_minor": 0
      },
      "text/plain": [
       "roll_out:   0%|          | 0/1024 [00:00<?, ?it/s]"
      ]
     },
     "metadata": {},
     "output_type": "display_data"
    },
    {
     "data": {
      "application/vnd.jupyter.widget-view+json": {
       "model_id": "7a5996f52de04b17a4c7a23c3d47011f",
       "version_major": 2,
       "version_minor": 0
      },
      "text/plain": [
       "roll_out:   0%|          | 0/1024 [00:00<?, ?it/s]"
      ]
     },
     "metadata": {},
     "output_type": "display_data"
    },
    {
     "data": {
      "application/vnd.jupyter.widget-view+json": {
       "model_id": "5d5e6596a1ee47ed9dfbdce47f1b3acf",
       "version_major": 2,
       "version_minor": 0
      },
      "text/plain": [
       "roll_out:   0%|          | 0/1024 [00:00<?, ?it/s]"
      ]
     },
     "metadata": {},
     "output_type": "display_data"
    },
    {
     "data": {
      "application/vnd.jupyter.widget-view+json": {
       "model_id": "af9958da64304b1db9b2a72609be1d71",
       "version_major": 2,
       "version_minor": 0
      },
      "text/plain": [
       "roll_out:   0%|          | 0/1024 [00:00<?, ?it/s]"
      ]
     },
     "metadata": {},
     "output_type": "display_data"
    },
    {
     "data": {
      "application/vnd.jupyter.widget-view+json": {
       "model_id": "f6e9a63493554b0aa972844bb30bd28a",
       "version_major": 2,
       "version_minor": 0
      },
      "text/plain": [
       "roll_out:   0%|          | 0/1024 [00:00<?, ?it/s]"
      ]
     },
     "metadata": {},
     "output_type": "display_data"
    },
    {
     "data": {
      "application/vnd.jupyter.widget-view+json": {
       "model_id": "5322ed1a63e2403b9e2e22ff96d348f7",
       "version_major": 2,
       "version_minor": 0
      },
      "text/plain": [
       "roll_out:   0%|          | 0/1024 [00:00<?, ?it/s]"
      ]
     },
     "metadata": {},
     "output_type": "display_data"
    },
    {
     "data": {
      "application/vnd.jupyter.widget-view+json": {
       "model_id": "fd4dd93c60ce4ad7a2ab417ac1a91708",
       "version_major": 2,
       "version_minor": 0
      },
      "text/plain": [
       "roll_out:   0%|          | 0/1024 [00:00<?, ?it/s]"
      ]
     },
     "metadata": {},
     "output_type": "display_data"
    },
    {
     "data": {
      "application/vnd.jupyter.widget-view+json": {
       "model_id": "fbfca8a3ae5b4c3d9320246de82ee3cc",
       "version_major": 2,
       "version_minor": 0
      },
      "text/plain": [
       "roll_out:   0%|          | 0/1024 [00:00<?, ?it/s]"
      ]
     },
     "metadata": {},
     "output_type": "display_data"
    },
    {
     "data": {
      "application/vnd.jupyter.widget-view+json": {
       "model_id": "956ff12af7d442e889ab393430fbddf6",
       "version_major": 2,
       "version_minor": 0
      },
      "text/plain": [
       "roll_out:   0%|          | 0/1024 [00:00<?, ?it/s]"
      ]
     },
     "metadata": {},
     "output_type": "display_data"
    },
    {
     "data": {
      "application/vnd.jupyter.widget-view+json": {
       "model_id": "d8239629b5174654917de6a47ffe6caf",
       "version_major": 2,
       "version_minor": 0
      },
      "text/plain": [
       "roll_out:   0%|          | 0/1024 [00:00<?, ?it/s]"
      ]
     },
     "metadata": {},
     "output_type": "display_data"
    },
    {
     "data": {
      "application/vnd.jupyter.widget-view+json": {
       "model_id": "d9e0da1f03e04c259110108fcd065da6",
       "version_major": 2,
       "version_minor": 0
      },
      "text/plain": [
       "roll_out:   0%|          | 0/1024 [00:00<?, ?it/s]"
      ]
     },
     "metadata": {},
     "output_type": "display_data"
    },
    {
     "data": {
      "application/vnd.jupyter.widget-view+json": {
       "model_id": "26b4063e00e64bdba3bbf05beb5f7dcc",
       "version_major": 2,
       "version_minor": 0
      },
      "text/plain": [
       "roll_out:   0%|          | 0/1024 [00:00<?, ?it/s]"
      ]
     },
     "metadata": {},
     "output_type": "display_data"
    },
    {
     "data": {
      "application/vnd.jupyter.widget-view+json": {
       "model_id": "278d7bffadb1464a955c30f7245abff7",
       "version_major": 2,
       "version_minor": 0
      },
      "text/plain": [
       "roll_out:   0%|          | 0/1024 [00:00<?, ?it/s]"
      ]
     },
     "metadata": {},
     "output_type": "display_data"
    },
    {
     "data": {
      "application/vnd.jupyter.widget-view+json": {
       "model_id": "93c63ef89db842bfa0a383b49f182c0f",
       "version_major": 2,
       "version_minor": 0
      },
      "text/plain": [
       "roll_out:   0%|          | 0/1024 [00:00<?, ?it/s]"
      ]
     },
     "metadata": {},
     "output_type": "display_data"
    },
    {
     "data": {
      "application/vnd.jupyter.widget-view+json": {
       "model_id": "18cb955b4a0a4789a7aeca999dca9f0f",
       "version_major": 2,
       "version_minor": 0
      },
      "text/plain": [
       "roll_out:   0%|          | 0/1024 [00:00<?, ?it/s]"
      ]
     },
     "metadata": {},
     "output_type": "display_data"
    },
    {
     "data": {
      "application/vnd.jupyter.widget-view+json": {
       "model_id": "2f3f17377bcf4eba839ac39c5ec3f6db",
       "version_major": 2,
       "version_minor": 0
      },
      "text/plain": [
       "roll_out:   0%|          | 0/1024 [00:00<?, ?it/s]"
      ]
     },
     "metadata": {},
     "output_type": "display_data"
    },
    {
     "data": {
      "application/vnd.jupyter.widget-view+json": {
       "model_id": "005077e00a0c42dd81697bf165b57154",
       "version_major": 2,
       "version_minor": 0
      },
      "text/plain": [
       "roll_out:   0%|          | 0/1024 [00:00<?, ?it/s]"
      ]
     },
     "metadata": {},
     "output_type": "display_data"
    },
    {
     "data": {
      "application/vnd.jupyter.widget-view+json": {
       "model_id": "a5248a87013449e69a493335cc880ad9",
       "version_major": 2,
       "version_minor": 0
      },
      "text/plain": [
       "roll_out:   0%|          | 0/1024 [00:00<?, ?it/s]"
      ]
     },
     "metadata": {},
     "output_type": "display_data"
    },
    {
     "data": {
      "application/vnd.jupyter.widget-view+json": {
       "model_id": "296b4581ba774eee99fd432d395a3494",
       "version_major": 2,
       "version_minor": 0
      },
      "text/plain": [
       "roll_out:   0%|          | 0/1024 [00:00<?, ?it/s]"
      ]
     },
     "metadata": {},
     "output_type": "display_data"
    },
    {
     "data": {
      "application/vnd.jupyter.widget-view+json": {
       "model_id": "e0a27c2b904f4a0a9e188538f9ac0055",
       "version_major": 2,
       "version_minor": 0
      },
      "text/plain": [
       "roll_out:   0%|          | 0/1024 [00:00<?, ?it/s]"
      ]
     },
     "metadata": {},
     "output_type": "display_data"
    },
    {
     "data": {
      "application/vnd.jupyter.widget-view+json": {
       "model_id": "00d5d7b8fa524f59b0d7a72e4d7db4d1",
       "version_major": 2,
       "version_minor": 0
      },
      "text/plain": [
       "roll_out:   0%|          | 0/1024 [00:00<?, ?it/s]"
      ]
     },
     "metadata": {},
     "output_type": "display_data"
    },
    {
     "data": {
      "application/vnd.jupyter.widget-view+json": {
       "model_id": "1c06b8d96be04383b3679f481d58432b",
       "version_major": 2,
       "version_minor": 0
      },
      "text/plain": [
       "roll_out:   0%|          | 0/1024 [00:00<?, ?it/s]"
      ]
     },
     "metadata": {},
     "output_type": "display_data"
    },
    {
     "data": {
      "application/vnd.jupyter.widget-view+json": {
       "model_id": "13315e524b7f4777955e3754f26c2e87",
       "version_major": 2,
       "version_minor": 0
      },
      "text/plain": [
       "roll_out:   0%|          | 0/1024 [00:00<?, ?it/s]"
      ]
     },
     "metadata": {},
     "output_type": "display_data"
    },
    {
     "data": {
      "application/vnd.jupyter.widget-view+json": {
       "model_id": "89f91cd34c104dfd98479e524f25b9be",
       "version_major": 2,
       "version_minor": 0
      },
      "text/plain": [
       "roll_out:   0%|          | 0/1024 [00:00<?, ?it/s]"
      ]
     },
     "metadata": {},
     "output_type": "display_data"
    },
    {
     "data": {
      "application/vnd.jupyter.widget-view+json": {
       "model_id": "08f97555754543a0a6be1d30771713db",
       "version_major": 2,
       "version_minor": 0
      },
      "text/plain": [
       "roll_out:   0%|          | 0/1024 [00:00<?, ?it/s]"
      ]
     },
     "metadata": {},
     "output_type": "display_data"
    },
    {
     "data": {
      "application/vnd.jupyter.widget-view+json": {
       "model_id": "50be8898b23648dea02cc35a754881f2",
       "version_major": 2,
       "version_minor": 0
      },
      "text/plain": [
       "roll_out:   0%|          | 0/1024 [00:00<?, ?it/s]"
      ]
     },
     "metadata": {},
     "output_type": "display_data"
    },
    {
     "data": {
      "application/vnd.jupyter.widget-view+json": {
       "model_id": "56f20098a157407f9d5d5048639e289e",
       "version_major": 2,
       "version_minor": 0
      },
      "text/plain": [
       "roll_out:   0%|          | 0/1024 [00:00<?, ?it/s]"
      ]
     },
     "metadata": {},
     "output_type": "display_data"
    },
    {
     "data": {
      "application/vnd.jupyter.widget-view+json": {
       "model_id": "7009013e6e814e36ae10811a02edfa5f",
       "version_major": 2,
       "version_minor": 0
      },
      "text/plain": [
       "roll_out:   0%|          | 0/1024 [00:00<?, ?it/s]"
      ]
     },
     "metadata": {},
     "output_type": "display_data"
    },
    {
     "data": {
      "application/vnd.jupyter.widget-view+json": {
       "model_id": "52f66f18005c4bda9cb87e6361a0d338",
       "version_major": 2,
       "version_minor": 0
      },
      "text/plain": [
       "roll_out:   0%|          | 0/1024 [00:00<?, ?it/s]"
      ]
     },
     "metadata": {},
     "output_type": "display_data"
    },
    {
     "data": {
      "application/vnd.jupyter.widget-view+json": {
       "model_id": "ab9cd0dc5999460aab0067f4fccf8e3c",
       "version_major": 2,
       "version_minor": 0
      },
      "text/plain": [
       "roll_out:   0%|          | 0/1024 [00:00<?, ?it/s]"
      ]
     },
     "metadata": {},
     "output_type": "display_data"
    },
    {
     "data": {
      "application/vnd.jupyter.widget-view+json": {
       "model_id": "36a9506345be419a82ebbd8b3b59e334",
       "version_major": 2,
       "version_minor": 0
      },
      "text/plain": [
       "roll_out:   0%|          | 0/1024 [00:00<?, ?it/s]"
      ]
     },
     "metadata": {},
     "output_type": "display_data"
    },
    {
     "data": {
      "application/vnd.jupyter.widget-view+json": {
       "model_id": "c4d8881baf08488e8a4a87f839d18feb",
       "version_major": 2,
       "version_minor": 0
      },
      "text/plain": [
       "roll_out:   0%|          | 0/1024 [00:00<?, ?it/s]"
      ]
     },
     "metadata": {},
     "output_type": "display_data"
    },
    {
     "data": {
      "application/vnd.jupyter.widget-view+json": {
       "model_id": "be9d8573660b40de8eaf3d78d4248c6d",
       "version_major": 2,
       "version_minor": 0
      },
      "text/plain": [
       "roll_out:   0%|          | 0/1024 [00:00<?, ?it/s]"
      ]
     },
     "metadata": {},
     "output_type": "display_data"
    },
    {
     "data": {
      "application/vnd.jupyter.widget-view+json": {
       "model_id": "4c75089283f64e3c9c62a6f67c313252",
       "version_major": 2,
       "version_minor": 0
      },
      "text/plain": [
       "roll_out:   0%|          | 0/1024 [00:00<?, ?it/s]"
      ]
     },
     "metadata": {},
     "output_type": "display_data"
    },
    {
     "data": {
      "application/vnd.jupyter.widget-view+json": {
       "model_id": "7f45305948a44eb892e771de89b879a8",
       "version_major": 2,
       "version_minor": 0
      },
      "text/plain": [
       "roll_out:   0%|          | 0/1024 [00:00<?, ?it/s]"
      ]
     },
     "metadata": {},
     "output_type": "display_data"
    },
    {
     "data": {
      "application/vnd.jupyter.widget-view+json": {
       "model_id": "99e0d7784568457cbef37516456245d6",
       "version_major": 2,
       "version_minor": 0
      },
      "text/plain": [
       "roll_out:   0%|          | 0/1024 [00:00<?, ?it/s]"
      ]
     },
     "metadata": {},
     "output_type": "display_data"
    },
    {
     "data": {
      "application/vnd.jupyter.widget-view+json": {
       "model_id": "fd05ed7c92cf442da955f31c259ce7de",
       "version_major": 2,
       "version_minor": 0
      },
      "text/plain": [
       "roll_out:   0%|          | 0/1024 [00:00<?, ?it/s]"
      ]
     },
     "metadata": {},
     "output_type": "display_data"
    },
    {
     "data": {
      "application/vnd.jupyter.widget-view+json": {
       "model_id": "dac85c2df45840d5be5cdc1ff083a828",
       "version_major": 2,
       "version_minor": 0
      },
      "text/plain": [
       "roll_out:   0%|          | 0/1024 [00:00<?, ?it/s]"
      ]
     },
     "metadata": {},
     "output_type": "display_data"
    },
    {
     "data": {
      "application/vnd.jupyter.widget-view+json": {
       "model_id": "e22a8b0a9edb4a62ade6e2a16ac95576",
       "version_major": 2,
       "version_minor": 0
      },
      "text/plain": [
       "roll_out:   0%|          | 0/1024 [00:00<?, ?it/s]"
      ]
     },
     "metadata": {},
     "output_type": "display_data"
    },
    {
     "data": {
      "application/vnd.jupyter.widget-view+json": {
       "model_id": "d4a0b3515e2649ddbc5257b4bf4ba46e",
       "version_major": 2,
       "version_minor": 0
      },
      "text/plain": [
       "roll_out:   0%|          | 0/1024 [00:00<?, ?it/s]"
      ]
     },
     "metadata": {},
     "output_type": "display_data"
    },
    {
     "data": {
      "application/vnd.jupyter.widget-view+json": {
       "model_id": "fb32615905f84464b8bc53af82147ede",
       "version_major": 2,
       "version_minor": 0
      },
      "text/plain": [
       "roll_out:   0%|          | 0/1024 [00:00<?, ?it/s]"
      ]
     },
     "metadata": {},
     "output_type": "display_data"
    },
    {
     "data": {
      "application/vnd.jupyter.widget-view+json": {
       "model_id": "e84bc32eb2574e839bd4ad1b6690bac6",
       "version_major": 2,
       "version_minor": 0
      },
      "text/plain": [
       "roll_out:   0%|          | 0/1024 [00:00<?, ?it/s]"
      ]
     },
     "metadata": {},
     "output_type": "display_data"
    },
    {
     "data": {
      "application/vnd.jupyter.widget-view+json": {
       "model_id": "049e7dfa55774dbfb86952fe54ae5579",
       "version_major": 2,
       "version_minor": 0
      },
      "text/plain": [
       "roll_out:   0%|          | 0/1024 [00:00<?, ?it/s]"
      ]
     },
     "metadata": {},
     "output_type": "display_data"
    },
    {
     "data": {
      "application/vnd.jupyter.widget-view+json": {
       "model_id": "a4ccb946133e466ca659813ecc8d220a",
       "version_major": 2,
       "version_minor": 0
      },
      "text/plain": [
       "roll_out:   0%|          | 0/1024 [00:00<?, ?it/s]"
      ]
     },
     "metadata": {},
     "output_type": "display_data"
    },
    {
     "data": {
      "application/vnd.jupyter.widget-view+json": {
       "model_id": "10800a5645114cba8241aefc054326db",
       "version_major": 2,
       "version_minor": 0
      },
      "text/plain": [
       "roll_out:   0%|          | 0/1024 [00:00<?, ?it/s]"
      ]
     },
     "metadata": {},
     "output_type": "display_data"
    },
    {
     "data": {
      "application/vnd.jupyter.widget-view+json": {
       "model_id": "7320c72293d942c39f932c418d375ff4",
       "version_major": 2,
       "version_minor": 0
      },
      "text/plain": [
       "roll_out:   0%|          | 0/1024 [00:00<?, ?it/s]"
      ]
     },
     "metadata": {},
     "output_type": "display_data"
    },
    {
     "data": {
      "application/vnd.jupyter.widget-view+json": {
       "model_id": "da1c94d022b944ee8e5e1aed23ee79fa",
       "version_major": 2,
       "version_minor": 0
      },
      "text/plain": [
       "roll_out:   0%|          | 0/1024 [00:00<?, ?it/s]"
      ]
     },
     "metadata": {},
     "output_type": "display_data"
    },
    {
     "data": {
      "application/vnd.jupyter.widget-view+json": {
       "model_id": "51fe28d28ca842a2b280c7a32b1b9596",
       "version_major": 2,
       "version_minor": 0
      },
      "text/plain": [
       "roll_out:   0%|          | 0/1024 [00:00<?, ?it/s]"
      ]
     },
     "metadata": {},
     "output_type": "display_data"
    },
    {
     "data": {
      "application/vnd.jupyter.widget-view+json": {
       "model_id": "ff6d8b853ecc4e119a06802121aa6834",
       "version_major": 2,
       "version_minor": 0
      },
      "text/plain": [
       "roll_out:   0%|          | 0/1024 [00:00<?, ?it/s]"
      ]
     },
     "metadata": {},
     "output_type": "display_data"
    },
    {
     "data": {
      "application/vnd.jupyter.widget-view+json": {
       "model_id": "979302a553174fb2bdde0f444bce5dd1",
       "version_major": 2,
       "version_minor": 0
      },
      "text/plain": [
       "roll_out:   0%|          | 0/1024 [00:00<?, ?it/s]"
      ]
     },
     "metadata": {},
     "output_type": "display_data"
    },
    {
     "data": {
      "application/vnd.jupyter.widget-view+json": {
       "model_id": "ba7527bf15d94772be79e86a63788eca",
       "version_major": 2,
       "version_minor": 0
      },
      "text/plain": [
       "roll_out:   0%|          | 0/1024 [00:00<?, ?it/s]"
      ]
     },
     "metadata": {},
     "output_type": "display_data"
    },
    {
     "data": {
      "application/vnd.jupyter.widget-view+json": {
       "model_id": "53fd1e7b5d344e6f856f45ca18db998e",
       "version_major": 2,
       "version_minor": 0
      },
      "text/plain": [
       "roll_out:   0%|          | 0/1024 [00:00<?, ?it/s]"
      ]
     },
     "metadata": {},
     "output_type": "display_data"
    },
    {
     "data": {
      "application/vnd.jupyter.widget-view+json": {
       "model_id": "e05634ed446b4fb1b3def0f3a57e9b62",
       "version_major": 2,
       "version_minor": 0
      },
      "text/plain": [
       "roll_out:   0%|          | 0/1024 [00:00<?, ?it/s]"
      ]
     },
     "metadata": {},
     "output_type": "display_data"
    },
    {
     "data": {
      "application/vnd.jupyter.widget-view+json": {
       "model_id": "3bc8b962db6e468287ffca5d9b0f81f2",
       "version_major": 2,
       "version_minor": 0
      },
      "text/plain": [
       "roll_out:   0%|          | 0/1024 [00:00<?, ?it/s]"
      ]
     },
     "metadata": {},
     "output_type": "display_data"
    },
    {
     "data": {
      "application/vnd.jupyter.widget-view+json": {
       "model_id": "5f8824e55e1c441388cb0106c436ff03",
       "version_major": 2,
       "version_minor": 0
      },
      "text/plain": [
       "roll_out:   0%|          | 0/1024 [00:00<?, ?it/s]"
      ]
     },
     "metadata": {},
     "output_type": "display_data"
    },
    {
     "data": {
      "application/vnd.jupyter.widget-view+json": {
       "model_id": "0f37a7b18dd345ecb376693da5c0952c",
       "version_major": 2,
       "version_minor": 0
      },
      "text/plain": [
       "roll_out:   0%|          | 0/1024 [00:00<?, ?it/s]"
      ]
     },
     "metadata": {},
     "output_type": "display_data"
    },
    {
     "data": {
      "application/vnd.jupyter.widget-view+json": {
       "model_id": "e31c0c0528194015937ab5ff0ad5267d",
       "version_major": 2,
       "version_minor": 0
      },
      "text/plain": [
       "roll_out:   0%|          | 0/1024 [00:00<?, ?it/s]"
      ]
     },
     "metadata": {},
     "output_type": "display_data"
    },
    {
     "data": {
      "application/vnd.jupyter.widget-view+json": {
       "model_id": "4ec6e68e31e44912a39eb750623ba432",
       "version_major": 2,
       "version_minor": 0
      },
      "text/plain": [
       "roll_out:   0%|          | 0/1024 [00:00<?, ?it/s]"
      ]
     },
     "metadata": {},
     "output_type": "display_data"
    },
    {
     "data": {
      "application/vnd.jupyter.widget-view+json": {
       "model_id": "f58308c85bb74003801920bdeef6f457",
       "version_major": 2,
       "version_minor": 0
      },
      "text/plain": [
       "roll_out:   0%|          | 0/1024 [00:00<?, ?it/s]"
      ]
     },
     "metadata": {},
     "output_type": "display_data"
    },
    {
     "data": {
      "application/vnd.jupyter.widget-view+json": {
       "model_id": "c49724cb60a149268f33978b079367c4",
       "version_major": 2,
       "version_minor": 0
      },
      "text/plain": [
       "roll_out:   0%|          | 0/1024 [00:00<?, ?it/s]"
      ]
     },
     "metadata": {},
     "output_type": "display_data"
    },
    {
     "data": {
      "application/vnd.jupyter.widget-view+json": {
       "model_id": "a7b597815d1040609b36a2691487917a",
       "version_major": 2,
       "version_minor": 0
      },
      "text/plain": [
       "roll_out:   0%|          | 0/1024 [00:00<?, ?it/s]"
      ]
     },
     "metadata": {},
     "output_type": "display_data"
    },
    {
     "data": {
      "application/vnd.jupyter.widget-view+json": {
       "model_id": "24da81b1c3bc48a6ac195ac30ee1f2fa",
       "version_major": 2,
       "version_minor": 0
      },
      "text/plain": [
       "roll_out:   0%|          | 0/1024 [00:00<?, ?it/s]"
      ]
     },
     "metadata": {},
     "output_type": "display_data"
    },
    {
     "data": {
      "application/vnd.jupyter.widget-view+json": {
       "model_id": "19a0f27139924e7ca27a743729b18334",
       "version_major": 2,
       "version_minor": 0
      },
      "text/plain": [
       "roll_out:   0%|          | 0/1024 [00:00<?, ?it/s]"
      ]
     },
     "metadata": {},
     "output_type": "display_data"
    },
    {
     "data": {
      "application/vnd.jupyter.widget-view+json": {
       "model_id": "cfc0ec88fbfe44e89252c5496ae6008e",
       "version_major": 2,
       "version_minor": 0
      },
      "text/plain": [
       "roll_out:   0%|          | 0/1024 [00:00<?, ?it/s]"
      ]
     },
     "metadata": {},
     "output_type": "display_data"
    },
    {
     "data": {
      "application/vnd.jupyter.widget-view+json": {
       "model_id": "2a4a431403ea4b2b93ff4161e1a7cf22",
       "version_major": 2,
       "version_minor": 0
      },
      "text/plain": [
       "roll_out:   0%|          | 0/1024 [00:00<?, ?it/s]"
      ]
     },
     "metadata": {},
     "output_type": "display_data"
    },
    {
     "data": {
      "application/vnd.jupyter.widget-view+json": {
       "model_id": "82d9857c215a404c9631a220292ae9f7",
       "version_major": 2,
       "version_minor": 0
      },
      "text/plain": [
       "roll_out:   0%|          | 0/1024 [00:00<?, ?it/s]"
      ]
     },
     "metadata": {},
     "output_type": "display_data"
    },
    {
     "data": {
      "application/vnd.jupyter.widget-view+json": {
       "model_id": "55d735049ce543529cbb512533c4b395",
       "version_major": 2,
       "version_minor": 0
      },
      "text/plain": [
       "roll_out:   0%|          | 0/1024 [00:00<?, ?it/s]"
      ]
     },
     "metadata": {},
     "output_type": "display_data"
    },
    {
     "data": {
      "application/vnd.jupyter.widget-view+json": {
       "model_id": "0f5b7d3db68943d28fa81e7a7a933b5e",
       "version_major": 2,
       "version_minor": 0
      },
      "text/plain": [
       "roll_out:   0%|          | 0/1024 [00:00<?, ?it/s]"
      ]
     },
     "metadata": {},
     "output_type": "display_data"
    },
    {
     "data": {
      "application/vnd.jupyter.widget-view+json": {
       "model_id": "1edf310418b34075abc70cdd130d51ab",
       "version_major": 2,
       "version_minor": 0
      },
      "text/plain": [
       "roll_out:   0%|          | 0/1024 [00:00<?, ?it/s]"
      ]
     },
     "metadata": {},
     "output_type": "display_data"
    },
    {
     "data": {
      "application/vnd.jupyter.widget-view+json": {
       "model_id": "46dcab7f6edd4038b88ef1f5a8f728f9",
       "version_major": 2,
       "version_minor": 0
      },
      "text/plain": [
       "roll_out:   0%|          | 0/1024 [00:00<?, ?it/s]"
      ]
     },
     "metadata": {},
     "output_type": "display_data"
    },
    {
     "data": {
      "application/vnd.jupyter.widget-view+json": {
       "model_id": "9ee8c77504f2401c9bd0cdf13036b734",
       "version_major": 2,
       "version_minor": 0
      },
      "text/plain": [
       "roll_out:   0%|          | 0/1024 [00:00<?, ?it/s]"
      ]
     },
     "metadata": {},
     "output_type": "display_data"
    },
    {
     "data": {
      "application/vnd.jupyter.widget-view+json": {
       "model_id": "8936460078a449bea9759a2b01fbd318",
       "version_major": 2,
       "version_minor": 0
      },
      "text/plain": [
       "roll_out:   0%|          | 0/1024 [00:00<?, ?it/s]"
      ]
     },
     "metadata": {},
     "output_type": "display_data"
    },
    {
     "data": {
      "application/vnd.jupyter.widget-view+json": {
       "model_id": "03978a8372f1458b9d51c7a5b272b17a",
       "version_major": 2,
       "version_minor": 0
      },
      "text/plain": [
       "roll_out:   0%|          | 0/1024 [00:00<?, ?it/s]"
      ]
     },
     "metadata": {},
     "output_type": "display_data"
    },
    {
     "data": {
      "application/vnd.jupyter.widget-view+json": {
       "model_id": "fe9d7d43fd80421aa811446559532977",
       "version_major": 2,
       "version_minor": 0
      },
      "text/plain": [
       "roll_out:   0%|          | 0/1024 [00:00<?, ?it/s]"
      ]
     },
     "metadata": {},
     "output_type": "display_data"
    },
    {
     "data": {
      "application/vnd.jupyter.widget-view+json": {
       "model_id": "d61a39b7734d4799a20e7722fedcf31d",
       "version_major": 2,
       "version_minor": 0
      },
      "text/plain": [
       "roll_out:   0%|          | 0/1024 [00:00<?, ?it/s]"
      ]
     },
     "metadata": {},
     "output_type": "display_data"
    },
    {
     "data": {
      "application/vnd.jupyter.widget-view+json": {
       "model_id": "cf4f3088a4884c398000a3e85a4dbb31",
       "version_major": 2,
       "version_minor": 0
      },
      "text/plain": [
       "roll_out:   0%|          | 0/1024 [00:00<?, ?it/s]"
      ]
     },
     "metadata": {},
     "output_type": "display_data"
    },
    {
     "data": {
      "application/vnd.jupyter.widget-view+json": {
       "model_id": "d20aa565b1244daa96d6c64e0abce369",
       "version_major": 2,
       "version_minor": 0
      },
      "text/plain": [
       "roll_out:   0%|          | 0/1024 [00:00<?, ?it/s]"
      ]
     },
     "metadata": {},
     "output_type": "display_data"
    },
    {
     "data": {
      "application/vnd.jupyter.widget-view+json": {
       "model_id": "535f34608a6a4367867ce95f12b9d077",
       "version_major": 2,
       "version_minor": 0
      },
      "text/plain": [
       "roll_out:   0%|          | 0/1024 [00:00<?, ?it/s]"
      ]
     },
     "metadata": {},
     "output_type": "display_data"
    },
    {
     "data": {
      "application/vnd.jupyter.widget-view+json": {
       "model_id": "2e1e307475c34508ac0430bc0749cba4",
       "version_major": 2,
       "version_minor": 0
      },
      "text/plain": [
       "roll_out:   0%|          | 0/1024 [00:00<?, ?it/s]"
      ]
     },
     "metadata": {},
     "output_type": "display_data"
    },
    {
     "data": {
      "application/vnd.jupyter.widget-view+json": {
       "model_id": "3c5d4d66c5c64cb3a5317cb6db5e045e",
       "version_major": 2,
       "version_minor": 0
      },
      "text/plain": [
       "roll_out:   0%|          | 0/1024 [00:00<?, ?it/s]"
      ]
     },
     "metadata": {},
     "output_type": "display_data"
    },
    {
     "data": {
      "application/vnd.jupyter.widget-view+json": {
       "model_id": "f1ac17be1bea4e3e940517362f5ec133",
       "version_major": 2,
       "version_minor": 0
      },
      "text/plain": [
       "roll_out:   0%|          | 0/1024 [00:00<?, ?it/s]"
      ]
     },
     "metadata": {},
     "output_type": "display_data"
    },
    {
     "data": {
      "application/vnd.jupyter.widget-view+json": {
       "model_id": "c196fff9f3004b478f633ae9d50bd629",
       "version_major": 2,
       "version_minor": 0
      },
      "text/plain": [
       "roll_out:   0%|          | 0/1024 [00:00<?, ?it/s]"
      ]
     },
     "metadata": {},
     "output_type": "display_data"
    },
    {
     "data": {
      "text/html": [
       "Waiting for W&B process to finish... <strong style=\"color:green\">(success).</strong>"
      ],
      "text/plain": [
       "<IPython.core.display.HTML object>"
      ]
     },
     "metadata": {},
     "output_type": "display_data"
    },
    {
     "data": {
      "application/vnd.jupyter.widget-view+json": {
       "model_id": "ff4f2e5eae5442c7b503ca1d0f784f88",
       "version_major": 2,
       "version_minor": 0
      },
      "text/plain": [
       "VBox(children=(Label(value='0.001 MB of 0.001 MB uploaded (0.000 MB deduped)\\r'), FloatProgress(value=1.0, max…"
      ]
     },
     "metadata": {},
     "output_type": "display_data"
    },
    {
     "data": {
      "text/html": [
       "<style>\n",
       "    table.wandb td:nth-child(1) { padding: 0 10px; text-align: left ; width: auto;} td:nth-child(2) {text-align: left ; width: 100%}\n",
       "    .wandb-row { display: flex; flex-direction: row; flex-wrap: wrap; justify-content: flex-start; width: 100% }\n",
       "    .wandb-col { display: flex; flex-direction: column; flex-basis: 100%; flex: 1; padding: 10px; }\n",
       "    </style>\n",
       "<div class=\"wandb-row\"><div class=\"wandb-col\"><h3>Run history:</h3><br/><table class=\"wandb\"><tr><td>KL_approx</td><td>▂▁▂▂▃▃▁▂▂▃▂▂▄▄▃▂▂▂▃▁▂▂▄▂▄▃▂▁▁▅▂▂▅▂▂▆▂█▂▃</td></tr><tr><td>episode_reward</td><td>▂▄▄▄▂▄▄▄▃▃▃▁▄▄▆▇▇▇▇▇██▇▃▆▆▇▇▇█▄▇▇▇▆█▇▇▇▇</td></tr><tr><td>total_loss</td><td>█▃▂▂▂▂▂▄▂▂▂▃▂▁▁▁▁▁▁▁▁▁▁▁▁▁▁▁▁▁▁▁▁▁▁▁▁▁▁▁</td></tr></table><br/></div><div class=\"wandb-col\"><h3>Run summary:</h3><br/><table class=\"wandb\"><tr><td>early_stop_count</td><td>0</td></tr><tr><td>episode_reward</td><td>-129.76039</td></tr><tr><td>total_loss</td><td>3.01893</td></tr></table><br/></div></div>"
      ],
      "text/plain": [
       "<IPython.core.display.HTML object>"
      ]
     },
     "metadata": {},
     "output_type": "display_data"
    },
    {
     "data": {
      "text/html": [
       " View run <strong style=\"color:#cdcd00\">celestial-sweep-3</strong> at: <a href='https://wandb.ai/tcd-clearway/PPO-Pendulum-2/runs/qjkvcmdc' target=\"_blank\">https://wandb.ai/tcd-clearway/PPO-Pendulum-2/runs/qjkvcmdc</a><br/>Synced 5 W&B file(s), 0 media file(s), 0 artifact file(s) and 1 other file(s)"
      ],
      "text/plain": [
       "<IPython.core.display.HTML object>"
      ]
     },
     "metadata": {},
     "output_type": "display_data"
    },
    {
     "data": {
      "text/html": [
       "Find logs at: <code>.\\wandb\\run-20230720_094024-qjkvcmdc\\logs</code>"
      ],
      "text/plain": [
       "<IPython.core.display.HTML object>"
      ]
     },
     "metadata": {},
     "output_type": "display_data"
    },
    {
     "name": "stderr",
     "output_type": "stream",
     "text": [
      "\u001b[34m\u001b[1mwandb\u001b[0m: Agent Starting Run: 2mggyfu5 with config:\n",
      "\u001b[34m\u001b[1mwandb\u001b[0m: \tc1: 0.5020639303776493\n",
      "\u001b[34m\u001b[1mwandb\u001b[0m: \tc2: 0.910077248529638\n",
      "\u001b[34m\u001b[1mwandb\u001b[0m: \tcal_total_loss: True\n",
      "\u001b[34m\u001b[1mwandb\u001b[0m: \tearly_stop: False\n",
      "\u001b[34m\u001b[1mwandb\u001b[0m: \tminibatch_size: 1024\n",
      "\u001b[34m\u001b[1mwandb\u001b[0m: \tparameters_hardshare: False\n",
      "Failed to detect the name of this notebook, you can set it manually with the WANDB_NOTEBOOK_NAME environment variable to enable code saving.\n"
     ]
    },
    {
     "data": {
      "text/html": [
       "wandb version 0.15.5 is available!  To upgrade, please run:\n",
       " $ pip install wandb --upgrade"
      ],
      "text/plain": [
       "<IPython.core.display.HTML object>"
      ]
     },
     "metadata": {},
     "output_type": "display_data"
    },
    {
     "data": {
      "text/html": [
       "Tracking run with wandb version 0.15.4"
      ],
      "text/plain": [
       "<IPython.core.display.HTML object>"
      ]
     },
     "metadata": {},
     "output_type": "display_data"
    },
    {
     "data": {
      "text/html": [
       "Run data is saved locally in <code>c:\\Users\\stanw\\Desktop\\ppo\\wandb\\run-20230720_095017-2mggyfu5</code>"
      ],
      "text/plain": [
       "<IPython.core.display.HTML object>"
      ]
     },
     "metadata": {},
     "output_type": "display_data"
    },
    {
     "data": {
      "text/html": [
       "Syncing run <strong><a href='https://wandb.ai/tcd-clearway/PPO-Pendulum-2/runs/2mggyfu5' target=\"_blank\">brisk-sweep-4</a></strong> to <a href='https://wandb.ai/tcd-clearway/PPO-Pendulum-2' target=\"_blank\">Weights & Biases</a> (<a href='https://wandb.me/run' target=\"_blank\">docs</a>)<br/>Sweep page: <a href='https://wandb.ai/tcd-clearway/PPO-Pendulum-2/sweeps/5au3cuvc' target=\"_blank\">https://wandb.ai/tcd-clearway/PPO-Pendulum-2/sweeps/5au3cuvc</a>"
      ],
      "text/plain": [
       "<IPython.core.display.HTML object>"
      ]
     },
     "metadata": {},
     "output_type": "display_data"
    },
    {
     "data": {
      "text/html": [
       " View project at <a href='https://wandb.ai/tcd-clearway/PPO-Pendulum-2' target=\"_blank\">https://wandb.ai/tcd-clearway/PPO-Pendulum-2</a>"
      ],
      "text/plain": [
       "<IPython.core.display.HTML object>"
      ]
     },
     "metadata": {},
     "output_type": "display_data"
    },
    {
     "data": {
      "text/html": [
       " View sweep at <a href='https://wandb.ai/tcd-clearway/PPO-Pendulum-2/sweeps/5au3cuvc' target=\"_blank\">https://wandb.ai/tcd-clearway/PPO-Pendulum-2/sweeps/5au3cuvc</a>"
      ],
      "text/plain": [
       "<IPython.core.display.HTML object>"
      ]
     },
     "metadata": {},
     "output_type": "display_data"
    },
    {
     "data": {
      "text/html": [
       " View run at <a href='https://wandb.ai/tcd-clearway/PPO-Pendulum-2/runs/2mggyfu5' target=\"_blank\">https://wandb.ai/tcd-clearway/PPO-Pendulum-2/runs/2mggyfu5</a>"
      ],
      "text/plain": [
       "<IPython.core.display.HTML object>"
      ]
     },
     "metadata": {},
     "output_type": "display_data"
    },
    {
     "name": "stderr",
     "output_type": "stream",
     "text": [
      "\u001b[34m\u001b[1mwandb\u001b[0m: \u001b[33mWARNING\u001b[0m Config item 'minibatch_size' was locked by 'sweep' (ignored update).\n",
      "\u001b[34m\u001b[1mwandb\u001b[0m: \u001b[33mWARNING\u001b[0m Config item 'cal_total_loss' was locked by 'sweep' (ignored update).\n",
      "\u001b[34m\u001b[1mwandb\u001b[0m: \u001b[33mWARNING\u001b[0m Config item 'c1' was locked by 'sweep' (ignored update).\n",
      "\u001b[34m\u001b[1mwandb\u001b[0m: \u001b[33mWARNING\u001b[0m Config item 'c2' was locked by 'sweep' (ignored update).\n",
      "\u001b[34m\u001b[1mwandb\u001b[0m: \u001b[33mWARNING\u001b[0m Config item 'early_stop' was locked by 'sweep' (ignored update).\n"
     ]
    },
    {
     "data": {
      "application/vnd.jupyter.widget-view+json": {
       "model_id": "b01b3dc5eff2479480ca5d9c5a908476",
       "version_major": 2,
       "version_minor": 0
      },
      "text/plain": [
       "  0%|          | 0/195 [00:00<?, ?it/s]"
      ]
     },
     "metadata": {},
     "output_type": "display_data"
    },
    {
     "data": {
      "application/vnd.jupyter.widget-view+json": {
       "model_id": "ab46447206bb4383a3d583cbebb8c719",
       "version_major": 2,
       "version_minor": 0
      },
      "text/plain": [
       "roll_out:   0%|          | 0/1024 [00:00<?, ?it/s]"
      ]
     },
     "metadata": {},
     "output_type": "display_data"
    },
    {
     "data": {
      "application/vnd.jupyter.widget-view+json": {
       "model_id": "495d5020d03f44e9afc0e9eef7eed8a4",
       "version_major": 2,
       "version_minor": 0
      },
      "text/plain": [
       "roll_out:   0%|          | 0/1024 [00:00<?, ?it/s]"
      ]
     },
     "metadata": {},
     "output_type": "display_data"
    },
    {
     "data": {
      "application/vnd.jupyter.widget-view+json": {
       "model_id": "f57e89c966c245688b4b1660a94bfebf",
       "version_major": 2,
       "version_minor": 0
      },
      "text/plain": [
       "roll_out:   0%|          | 0/1024 [00:00<?, ?it/s]"
      ]
     },
     "metadata": {},
     "output_type": "display_data"
    },
    {
     "data": {
      "application/vnd.jupyter.widget-view+json": {
       "model_id": "679dd57f57ae4c8cb42218b4e22f1a6f",
       "version_major": 2,
       "version_minor": 0
      },
      "text/plain": [
       "roll_out:   0%|          | 0/1024 [00:00<?, ?it/s]"
      ]
     },
     "metadata": {},
     "output_type": "display_data"
    },
    {
     "data": {
      "application/vnd.jupyter.widget-view+json": {
       "model_id": "f9ce1936f8df46e89589b1e9fce4f916",
       "version_major": 2,
       "version_minor": 0
      },
      "text/plain": [
       "roll_out:   0%|          | 0/1024 [00:00<?, ?it/s]"
      ]
     },
     "metadata": {},
     "output_type": "display_data"
    },
    {
     "data": {
      "application/vnd.jupyter.widget-view+json": {
       "model_id": "901eb7a91dd44c84bc9bd20c198efe98",
       "version_major": 2,
       "version_minor": 0
      },
      "text/plain": [
       "roll_out:   0%|          | 0/1024 [00:00<?, ?it/s]"
      ]
     },
     "metadata": {},
     "output_type": "display_data"
    },
    {
     "data": {
      "application/vnd.jupyter.widget-view+json": {
       "model_id": "565533e3a42147958fe057a94a2b5cb7",
       "version_major": 2,
       "version_minor": 0
      },
      "text/plain": [
       "roll_out:   0%|          | 0/1024 [00:00<?, ?it/s]"
      ]
     },
     "metadata": {},
     "output_type": "display_data"
    },
    {
     "data": {
      "application/vnd.jupyter.widget-view+json": {
       "model_id": "6999bb1dea234e82a126eecb095c90aa",
       "version_major": 2,
       "version_minor": 0
      },
      "text/plain": [
       "roll_out:   0%|          | 0/1024 [00:00<?, ?it/s]"
      ]
     },
     "metadata": {},
     "output_type": "display_data"
    },
    {
     "data": {
      "application/vnd.jupyter.widget-view+json": {
       "model_id": "8b8471e5cbac4fbfa3e5ae125ffd16f2",
       "version_major": 2,
       "version_minor": 0
      },
      "text/plain": [
       "roll_out:   0%|          | 0/1024 [00:00<?, ?it/s]"
      ]
     },
     "metadata": {},
     "output_type": "display_data"
    },
    {
     "data": {
      "application/vnd.jupyter.widget-view+json": {
       "model_id": "f8d0d269261e43a1a69da545b20a9570",
       "version_major": 2,
       "version_minor": 0
      },
      "text/plain": [
       "roll_out:   0%|          | 0/1024 [00:00<?, ?it/s]"
      ]
     },
     "metadata": {},
     "output_type": "display_data"
    },
    {
     "data": {
      "application/vnd.jupyter.widget-view+json": {
       "model_id": "5d8051cc27b740d5be5cc4d1e4b51bd4",
       "version_major": 2,
       "version_minor": 0
      },
      "text/plain": [
       "roll_out:   0%|          | 0/1024 [00:00<?, ?it/s]"
      ]
     },
     "metadata": {},
     "output_type": "display_data"
    },
    {
     "data": {
      "application/vnd.jupyter.widget-view+json": {
       "model_id": "10ba2468a3764d6f88ff30be08b4d5e0",
       "version_major": 2,
       "version_minor": 0
      },
      "text/plain": [
       "roll_out:   0%|          | 0/1024 [00:00<?, ?it/s]"
      ]
     },
     "metadata": {},
     "output_type": "display_data"
    },
    {
     "data": {
      "application/vnd.jupyter.widget-view+json": {
       "model_id": "c7df6a7b828346c4b2e9d17b1c39cabf",
       "version_major": 2,
       "version_minor": 0
      },
      "text/plain": [
       "roll_out:   0%|          | 0/1024 [00:00<?, ?it/s]"
      ]
     },
     "metadata": {},
     "output_type": "display_data"
    },
    {
     "data": {
      "application/vnd.jupyter.widget-view+json": {
       "model_id": "b29c8f9aeb0d4557b05bb5d027d88e6c",
       "version_major": 2,
       "version_minor": 0
      },
      "text/plain": [
       "roll_out:   0%|          | 0/1024 [00:00<?, ?it/s]"
      ]
     },
     "metadata": {},
     "output_type": "display_data"
    },
    {
     "data": {
      "application/vnd.jupyter.widget-view+json": {
       "model_id": "e15128cad553401793288cee990701c9",
       "version_major": 2,
       "version_minor": 0
      },
      "text/plain": [
       "roll_out:   0%|          | 0/1024 [00:00<?, ?it/s]"
      ]
     },
     "metadata": {},
     "output_type": "display_data"
    },
    {
     "data": {
      "application/vnd.jupyter.widget-view+json": {
       "model_id": "6fa6bab42a6a453a8d340bc5c524335b",
       "version_major": 2,
       "version_minor": 0
      },
      "text/plain": [
       "roll_out:   0%|          | 0/1024 [00:00<?, ?it/s]"
      ]
     },
     "metadata": {},
     "output_type": "display_data"
    },
    {
     "data": {
      "application/vnd.jupyter.widget-view+json": {
       "model_id": "68cbc4b836a343e7996754da04ffaa24",
       "version_major": 2,
       "version_minor": 0
      },
      "text/plain": [
       "roll_out:   0%|          | 0/1024 [00:00<?, ?it/s]"
      ]
     },
     "metadata": {},
     "output_type": "display_data"
    },
    {
     "data": {
      "application/vnd.jupyter.widget-view+json": {
       "model_id": "012e48febbdd417f937b4e48b4e47c79",
       "version_major": 2,
       "version_minor": 0
      },
      "text/plain": [
       "roll_out:   0%|          | 0/1024 [00:00<?, ?it/s]"
      ]
     },
     "metadata": {},
     "output_type": "display_data"
    },
    {
     "data": {
      "application/vnd.jupyter.widget-view+json": {
       "model_id": "03902ee52f2145e78c6e58c3b12a9d55",
       "version_major": 2,
       "version_minor": 0
      },
      "text/plain": [
       "roll_out:   0%|          | 0/1024 [00:00<?, ?it/s]"
      ]
     },
     "metadata": {},
     "output_type": "display_data"
    },
    {
     "data": {
      "application/vnd.jupyter.widget-view+json": {
       "model_id": "d8e9a23c88ec4ea1b33c75192f459e18",
       "version_major": 2,
       "version_minor": 0
      },
      "text/plain": [
       "roll_out:   0%|          | 0/1024 [00:00<?, ?it/s]"
      ]
     },
     "metadata": {},
     "output_type": "display_data"
    },
    {
     "data": {
      "application/vnd.jupyter.widget-view+json": {
       "model_id": "4a8686ec6f7b4677869987f952ec0aee",
       "version_major": 2,
       "version_minor": 0
      },
      "text/plain": [
       "roll_out:   0%|          | 0/1024 [00:00<?, ?it/s]"
      ]
     },
     "metadata": {},
     "output_type": "display_data"
    },
    {
     "data": {
      "application/vnd.jupyter.widget-view+json": {
       "model_id": "eb606bebf32649ce83f7c8110e790df5",
       "version_major": 2,
       "version_minor": 0
      },
      "text/plain": [
       "roll_out:   0%|          | 0/1024 [00:00<?, ?it/s]"
      ]
     },
     "metadata": {},
     "output_type": "display_data"
    },
    {
     "data": {
      "application/vnd.jupyter.widget-view+json": {
       "model_id": "2a3ed37f538f4395b9a0679f5892f124",
       "version_major": 2,
       "version_minor": 0
      },
      "text/plain": [
       "roll_out:   0%|          | 0/1024 [00:00<?, ?it/s]"
      ]
     },
     "metadata": {},
     "output_type": "display_data"
    },
    {
     "data": {
      "application/vnd.jupyter.widget-view+json": {
       "model_id": "5ab957670a2a4f0fa699592c5d85ea5f",
       "version_major": 2,
       "version_minor": 0
      },
      "text/plain": [
       "roll_out:   0%|          | 0/1024 [00:00<?, ?it/s]"
      ]
     },
     "metadata": {},
     "output_type": "display_data"
    },
    {
     "data": {
      "application/vnd.jupyter.widget-view+json": {
       "model_id": "ed2903cc9f944330be26d2e1624d1055",
       "version_major": 2,
       "version_minor": 0
      },
      "text/plain": [
       "roll_out:   0%|          | 0/1024 [00:00<?, ?it/s]"
      ]
     },
     "metadata": {},
     "output_type": "display_data"
    },
    {
     "data": {
      "application/vnd.jupyter.widget-view+json": {
       "model_id": "0fbfc552b9194715bcf984e43b47dc52",
       "version_major": 2,
       "version_minor": 0
      },
      "text/plain": [
       "roll_out:   0%|          | 0/1024 [00:00<?, ?it/s]"
      ]
     },
     "metadata": {},
     "output_type": "display_data"
    },
    {
     "data": {
      "application/vnd.jupyter.widget-view+json": {
       "model_id": "4e4bf2c183f34c1aa5a01652c040f7e3",
       "version_major": 2,
       "version_minor": 0
      },
      "text/plain": [
       "roll_out:   0%|          | 0/1024 [00:00<?, ?it/s]"
      ]
     },
     "metadata": {},
     "output_type": "display_data"
    },
    {
     "data": {
      "application/vnd.jupyter.widget-view+json": {
       "model_id": "d5c68a461e8a4ea29cb3436c7a0e248d",
       "version_major": 2,
       "version_minor": 0
      },
      "text/plain": [
       "roll_out:   0%|          | 0/1024 [00:00<?, ?it/s]"
      ]
     },
     "metadata": {},
     "output_type": "display_data"
    },
    {
     "data": {
      "application/vnd.jupyter.widget-view+json": {
       "model_id": "edbfdf671aea48bbbfa628fd0afcff02",
       "version_major": 2,
       "version_minor": 0
      },
      "text/plain": [
       "roll_out:   0%|          | 0/1024 [00:00<?, ?it/s]"
      ]
     },
     "metadata": {},
     "output_type": "display_data"
    },
    {
     "data": {
      "application/vnd.jupyter.widget-view+json": {
       "model_id": "3d2a88d96b75494faa940833e9e96ba9",
       "version_major": 2,
       "version_minor": 0
      },
      "text/plain": [
       "roll_out:   0%|          | 0/1024 [00:00<?, ?it/s]"
      ]
     },
     "metadata": {},
     "output_type": "display_data"
    },
    {
     "data": {
      "application/vnd.jupyter.widget-view+json": {
       "model_id": "495b84c5df704081bbccbafb4c6ef08f",
       "version_major": 2,
       "version_minor": 0
      },
      "text/plain": [
       "roll_out:   0%|          | 0/1024 [00:00<?, ?it/s]"
      ]
     },
     "metadata": {},
     "output_type": "display_data"
    },
    {
     "data": {
      "application/vnd.jupyter.widget-view+json": {
       "model_id": "895be7c2a9ae4189b7e78a7d3b1fa526",
       "version_major": 2,
       "version_minor": 0
      },
      "text/plain": [
       "roll_out:   0%|          | 0/1024 [00:00<?, ?it/s]"
      ]
     },
     "metadata": {},
     "output_type": "display_data"
    },
    {
     "data": {
      "application/vnd.jupyter.widget-view+json": {
       "model_id": "fb1ff91945a74a75983c8bf7e273990d",
       "version_major": 2,
       "version_minor": 0
      },
      "text/plain": [
       "roll_out:   0%|          | 0/1024 [00:00<?, ?it/s]"
      ]
     },
     "metadata": {},
     "output_type": "display_data"
    },
    {
     "data": {
      "application/vnd.jupyter.widget-view+json": {
       "model_id": "e05a60d63f954e84838d73de8a4cdc36",
       "version_major": 2,
       "version_minor": 0
      },
      "text/plain": [
       "roll_out:   0%|          | 0/1024 [00:00<?, ?it/s]"
      ]
     },
     "metadata": {},
     "output_type": "display_data"
    },
    {
     "data": {
      "application/vnd.jupyter.widget-view+json": {
       "model_id": "45f64e7c3f0a4f98bcbae38e1ccef8a9",
       "version_major": 2,
       "version_minor": 0
      },
      "text/plain": [
       "roll_out:   0%|          | 0/1024 [00:00<?, ?it/s]"
      ]
     },
     "metadata": {},
     "output_type": "display_data"
    },
    {
     "data": {
      "application/vnd.jupyter.widget-view+json": {
       "model_id": "c0dac2c72c7142fca5d9c77cb389190c",
       "version_major": 2,
       "version_minor": 0
      },
      "text/plain": [
       "roll_out:   0%|          | 0/1024 [00:00<?, ?it/s]"
      ]
     },
     "metadata": {},
     "output_type": "display_data"
    },
    {
     "data": {
      "application/vnd.jupyter.widget-view+json": {
       "model_id": "8899498470a146a4aeb473208594f825",
       "version_major": 2,
       "version_minor": 0
      },
      "text/plain": [
       "roll_out:   0%|          | 0/1024 [00:00<?, ?it/s]"
      ]
     },
     "metadata": {},
     "output_type": "display_data"
    },
    {
     "data": {
      "application/vnd.jupyter.widget-view+json": {
       "model_id": "c66a354242a944dd9ecd1e79c0c8bf43",
       "version_major": 2,
       "version_minor": 0
      },
      "text/plain": [
       "roll_out:   0%|          | 0/1024 [00:00<?, ?it/s]"
      ]
     },
     "metadata": {},
     "output_type": "display_data"
    },
    {
     "data": {
      "application/vnd.jupyter.widget-view+json": {
       "model_id": "712619d89ab44bc5bdc836cbfb3664a7",
       "version_major": 2,
       "version_minor": 0
      },
      "text/plain": [
       "roll_out:   0%|          | 0/1024 [00:00<?, ?it/s]"
      ]
     },
     "metadata": {},
     "output_type": "display_data"
    },
    {
     "data": {
      "application/vnd.jupyter.widget-view+json": {
       "model_id": "63313e748af34853ab881946e2f4ed6d",
       "version_major": 2,
       "version_minor": 0
      },
      "text/plain": [
       "roll_out:   0%|          | 0/1024 [00:00<?, ?it/s]"
      ]
     },
     "metadata": {},
     "output_type": "display_data"
    },
    {
     "data": {
      "application/vnd.jupyter.widget-view+json": {
       "model_id": "64a446fd6dc349f799b5f2913959f48f",
       "version_major": 2,
       "version_minor": 0
      },
      "text/plain": [
       "roll_out:   0%|          | 0/1024 [00:00<?, ?it/s]"
      ]
     },
     "metadata": {},
     "output_type": "display_data"
    },
    {
     "data": {
      "application/vnd.jupyter.widget-view+json": {
       "model_id": "b97771d7d0d14887a4484f42e3e1649f",
       "version_major": 2,
       "version_minor": 0
      },
      "text/plain": [
       "roll_out:   0%|          | 0/1024 [00:00<?, ?it/s]"
      ]
     },
     "metadata": {},
     "output_type": "display_data"
    },
    {
     "data": {
      "application/vnd.jupyter.widget-view+json": {
       "model_id": "9c2146165ed24b9dbbd35dc2721ebf6c",
       "version_major": 2,
       "version_minor": 0
      },
      "text/plain": [
       "roll_out:   0%|          | 0/1024 [00:00<?, ?it/s]"
      ]
     },
     "metadata": {},
     "output_type": "display_data"
    },
    {
     "data": {
      "application/vnd.jupyter.widget-view+json": {
       "model_id": "30a7031fcec34f8780e3e62cabd376e8",
       "version_major": 2,
       "version_minor": 0
      },
      "text/plain": [
       "roll_out:   0%|          | 0/1024 [00:00<?, ?it/s]"
      ]
     },
     "metadata": {},
     "output_type": "display_data"
    },
    {
     "data": {
      "application/vnd.jupyter.widget-view+json": {
       "model_id": "28da32fdcc8049a29ef08982da76a039",
       "version_major": 2,
       "version_minor": 0
      },
      "text/plain": [
       "roll_out:   0%|          | 0/1024 [00:00<?, ?it/s]"
      ]
     },
     "metadata": {},
     "output_type": "display_data"
    },
    {
     "data": {
      "application/vnd.jupyter.widget-view+json": {
       "model_id": "0e7fafa6c9fb47ddb711645dc29fc182",
       "version_major": 2,
       "version_minor": 0
      },
      "text/plain": [
       "roll_out:   0%|          | 0/1024 [00:00<?, ?it/s]"
      ]
     },
     "metadata": {},
     "output_type": "display_data"
    },
    {
     "data": {
      "application/vnd.jupyter.widget-view+json": {
       "model_id": "e63527934c70417e9041e3ab97b8d78a",
       "version_major": 2,
       "version_minor": 0
      },
      "text/plain": [
       "roll_out:   0%|          | 0/1024 [00:00<?, ?it/s]"
      ]
     },
     "metadata": {},
     "output_type": "display_data"
    },
    {
     "data": {
      "application/vnd.jupyter.widget-view+json": {
       "model_id": "fc5bceceec5a4564b71fbd241d75ee91",
       "version_major": 2,
       "version_minor": 0
      },
      "text/plain": [
       "roll_out:   0%|          | 0/1024 [00:00<?, ?it/s]"
      ]
     },
     "metadata": {},
     "output_type": "display_data"
    },
    {
     "data": {
      "application/vnd.jupyter.widget-view+json": {
       "model_id": "f744b95c5624414c882803f9370e0329",
       "version_major": 2,
       "version_minor": 0
      },
      "text/plain": [
       "roll_out:   0%|          | 0/1024 [00:00<?, ?it/s]"
      ]
     },
     "metadata": {},
     "output_type": "display_data"
    },
    {
     "data": {
      "application/vnd.jupyter.widget-view+json": {
       "model_id": "3d51e3c6bcd0462fb0eb2517cdb381d1",
       "version_major": 2,
       "version_minor": 0
      },
      "text/plain": [
       "roll_out:   0%|          | 0/1024 [00:00<?, ?it/s]"
      ]
     },
     "metadata": {},
     "output_type": "display_data"
    },
    {
     "data": {
      "application/vnd.jupyter.widget-view+json": {
       "model_id": "12155050d6834417b7f730fcc9288392",
       "version_major": 2,
       "version_minor": 0
      },
      "text/plain": [
       "roll_out:   0%|          | 0/1024 [00:00<?, ?it/s]"
      ]
     },
     "metadata": {},
     "output_type": "display_data"
    },
    {
     "data": {
      "application/vnd.jupyter.widget-view+json": {
       "model_id": "08ed10e549c449809ff652da30dcfdaa",
       "version_major": 2,
       "version_minor": 0
      },
      "text/plain": [
       "roll_out:   0%|          | 0/1024 [00:00<?, ?it/s]"
      ]
     },
     "metadata": {},
     "output_type": "display_data"
    },
    {
     "data": {
      "application/vnd.jupyter.widget-view+json": {
       "model_id": "8a3792743d6649deaed0f78c15d468a6",
       "version_major": 2,
       "version_minor": 0
      },
      "text/plain": [
       "roll_out:   0%|          | 0/1024 [00:00<?, ?it/s]"
      ]
     },
     "metadata": {},
     "output_type": "display_data"
    },
    {
     "data": {
      "application/vnd.jupyter.widget-view+json": {
       "model_id": "714b1ec217634814b1a538c0cce22e1f",
       "version_major": 2,
       "version_minor": 0
      },
      "text/plain": [
       "roll_out:   0%|          | 0/1024 [00:00<?, ?it/s]"
      ]
     },
     "metadata": {},
     "output_type": "display_data"
    },
    {
     "data": {
      "application/vnd.jupyter.widget-view+json": {
       "model_id": "0f598e0eeff540c6b9365cbd4f3d62a0",
       "version_major": 2,
       "version_minor": 0
      },
      "text/plain": [
       "roll_out:   0%|          | 0/1024 [00:00<?, ?it/s]"
      ]
     },
     "metadata": {},
     "output_type": "display_data"
    },
    {
     "data": {
      "application/vnd.jupyter.widget-view+json": {
       "model_id": "739a63f9929c41979c56cd9d9f752327",
       "version_major": 2,
       "version_minor": 0
      },
      "text/plain": [
       "roll_out:   0%|          | 0/1024 [00:00<?, ?it/s]"
      ]
     },
     "metadata": {},
     "output_type": "display_data"
    },
    {
     "data": {
      "application/vnd.jupyter.widget-view+json": {
       "model_id": "b62806fbc7124e2989ddb0fcfe3f0fde",
       "version_major": 2,
       "version_minor": 0
      },
      "text/plain": [
       "roll_out:   0%|          | 0/1024 [00:00<?, ?it/s]"
      ]
     },
     "metadata": {},
     "output_type": "display_data"
    },
    {
     "data": {
      "application/vnd.jupyter.widget-view+json": {
       "model_id": "9a427f9af9ac4f778990bfcd50cf6db3",
       "version_major": 2,
       "version_minor": 0
      },
      "text/plain": [
       "roll_out:   0%|          | 0/1024 [00:00<?, ?it/s]"
      ]
     },
     "metadata": {},
     "output_type": "display_data"
    },
    {
     "data": {
      "application/vnd.jupyter.widget-view+json": {
       "model_id": "37eb221d564849149af65ef2721f0f6b",
       "version_major": 2,
       "version_minor": 0
      },
      "text/plain": [
       "roll_out:   0%|          | 0/1024 [00:00<?, ?it/s]"
      ]
     },
     "metadata": {},
     "output_type": "display_data"
    },
    {
     "data": {
      "application/vnd.jupyter.widget-view+json": {
       "model_id": "ec0c6e9c12554e80b190bd02da62128b",
       "version_major": 2,
       "version_minor": 0
      },
      "text/plain": [
       "roll_out:   0%|          | 0/1024 [00:00<?, ?it/s]"
      ]
     },
     "metadata": {},
     "output_type": "display_data"
    },
    {
     "data": {
      "application/vnd.jupyter.widget-view+json": {
       "model_id": "aabc56f3fdc9416daec2fdac4a1da598",
       "version_major": 2,
       "version_minor": 0
      },
      "text/plain": [
       "roll_out:   0%|          | 0/1024 [00:00<?, ?it/s]"
      ]
     },
     "metadata": {},
     "output_type": "display_data"
    },
    {
     "data": {
      "application/vnd.jupyter.widget-view+json": {
       "model_id": "365d7f28c4d14c9fb833b27f3f385181",
       "version_major": 2,
       "version_minor": 0
      },
      "text/plain": [
       "roll_out:   0%|          | 0/1024 [00:00<?, ?it/s]"
      ]
     },
     "metadata": {},
     "output_type": "display_data"
    },
    {
     "data": {
      "application/vnd.jupyter.widget-view+json": {
       "model_id": "53bf08c0a16e445ca0da805fe214c6ca",
       "version_major": 2,
       "version_minor": 0
      },
      "text/plain": [
       "roll_out:   0%|          | 0/1024 [00:00<?, ?it/s]"
      ]
     },
     "metadata": {},
     "output_type": "display_data"
    },
    {
     "data": {
      "application/vnd.jupyter.widget-view+json": {
       "model_id": "ebc0186248f1459d9e00a8fad1c32eea",
       "version_major": 2,
       "version_minor": 0
      },
      "text/plain": [
       "roll_out:   0%|          | 0/1024 [00:00<?, ?it/s]"
      ]
     },
     "metadata": {},
     "output_type": "display_data"
    },
    {
     "data": {
      "application/vnd.jupyter.widget-view+json": {
       "model_id": "ae89abc73e3f4e948570ded12879a8ae",
       "version_major": 2,
       "version_minor": 0
      },
      "text/plain": [
       "roll_out:   0%|          | 0/1024 [00:00<?, ?it/s]"
      ]
     },
     "metadata": {},
     "output_type": "display_data"
    },
    {
     "data": {
      "application/vnd.jupyter.widget-view+json": {
       "model_id": "cf9c27ccf1914f669e9b092b9dc25d1a",
       "version_major": 2,
       "version_minor": 0
      },
      "text/plain": [
       "roll_out:   0%|          | 0/1024 [00:00<?, ?it/s]"
      ]
     },
     "metadata": {},
     "output_type": "display_data"
    },
    {
     "data": {
      "application/vnd.jupyter.widget-view+json": {
       "model_id": "329ddbd71f334dfd9f0df2ff71049f45",
       "version_major": 2,
       "version_minor": 0
      },
      "text/plain": [
       "roll_out:   0%|          | 0/1024 [00:00<?, ?it/s]"
      ]
     },
     "metadata": {},
     "output_type": "display_data"
    },
    {
     "data": {
      "application/vnd.jupyter.widget-view+json": {
       "model_id": "dd5baaf20bc9444ba2d6aaa2ca738802",
       "version_major": 2,
       "version_minor": 0
      },
      "text/plain": [
       "roll_out:   0%|          | 0/1024 [00:00<?, ?it/s]"
      ]
     },
     "metadata": {},
     "output_type": "display_data"
    },
    {
     "data": {
      "application/vnd.jupyter.widget-view+json": {
       "model_id": "c5a69469da6f4a2f8977331f09fadd48",
       "version_major": 2,
       "version_minor": 0
      },
      "text/plain": [
       "roll_out:   0%|          | 0/1024 [00:00<?, ?it/s]"
      ]
     },
     "metadata": {},
     "output_type": "display_data"
    },
    {
     "data": {
      "application/vnd.jupyter.widget-view+json": {
       "model_id": "19d2bf94f8f44c08b4639b3bbad2355a",
       "version_major": 2,
       "version_minor": 0
      },
      "text/plain": [
       "roll_out:   0%|          | 0/1024 [00:00<?, ?it/s]"
      ]
     },
     "metadata": {},
     "output_type": "display_data"
    },
    {
     "data": {
      "application/vnd.jupyter.widget-view+json": {
       "model_id": "c9c245308415457a95055b75d7afb59f",
       "version_major": 2,
       "version_minor": 0
      },
      "text/plain": [
       "roll_out:   0%|          | 0/1024 [00:00<?, ?it/s]"
      ]
     },
     "metadata": {},
     "output_type": "display_data"
    },
    {
     "data": {
      "application/vnd.jupyter.widget-view+json": {
       "model_id": "481e761a3dcd4d5681a1e4452ff3286c",
       "version_major": 2,
       "version_minor": 0
      },
      "text/plain": [
       "roll_out:   0%|          | 0/1024 [00:00<?, ?it/s]"
      ]
     },
     "metadata": {},
     "output_type": "display_data"
    },
    {
     "data": {
      "application/vnd.jupyter.widget-view+json": {
       "model_id": "cb77dbc692ae4c189a53c10eef0f49fe",
       "version_major": 2,
       "version_minor": 0
      },
      "text/plain": [
       "roll_out:   0%|          | 0/1024 [00:00<?, ?it/s]"
      ]
     },
     "metadata": {},
     "output_type": "display_data"
    },
    {
     "data": {
      "application/vnd.jupyter.widget-view+json": {
       "model_id": "e485c2e17ac24230b4199aeb67b42855",
       "version_major": 2,
       "version_minor": 0
      },
      "text/plain": [
       "roll_out:   0%|          | 0/1024 [00:00<?, ?it/s]"
      ]
     },
     "metadata": {},
     "output_type": "display_data"
    },
    {
     "data": {
      "application/vnd.jupyter.widget-view+json": {
       "model_id": "20dca38dc7b4457aa7befb102e2e16bf",
       "version_major": 2,
       "version_minor": 0
      },
      "text/plain": [
       "roll_out:   0%|          | 0/1024 [00:00<?, ?it/s]"
      ]
     },
     "metadata": {},
     "output_type": "display_data"
    },
    {
     "data": {
      "application/vnd.jupyter.widget-view+json": {
       "model_id": "fdf7df0dd854433eac395aca00188a6c",
       "version_major": 2,
       "version_minor": 0
      },
      "text/plain": [
       "roll_out:   0%|          | 0/1024 [00:00<?, ?it/s]"
      ]
     },
     "metadata": {},
     "output_type": "display_data"
    },
    {
     "data": {
      "application/vnd.jupyter.widget-view+json": {
       "model_id": "ccf65628194340b1b8d6529d34b6c052",
       "version_major": 2,
       "version_minor": 0
      },
      "text/plain": [
       "roll_out:   0%|          | 0/1024 [00:00<?, ?it/s]"
      ]
     },
     "metadata": {},
     "output_type": "display_data"
    },
    {
     "data": {
      "application/vnd.jupyter.widget-view+json": {
       "model_id": "6047f948b900401ab9c8e12b72cb48d7",
       "version_major": 2,
       "version_minor": 0
      },
      "text/plain": [
       "roll_out:   0%|          | 0/1024 [00:00<?, ?it/s]"
      ]
     },
     "metadata": {},
     "output_type": "display_data"
    },
    {
     "data": {
      "application/vnd.jupyter.widget-view+json": {
       "model_id": "1b7cad1aaf8f4881a42c7f7b9b580fee",
       "version_major": 2,
       "version_minor": 0
      },
      "text/plain": [
       "roll_out:   0%|          | 0/1024 [00:00<?, ?it/s]"
      ]
     },
     "metadata": {},
     "output_type": "display_data"
    },
    {
     "data": {
      "application/vnd.jupyter.widget-view+json": {
       "model_id": "9dfca8571484407abb07ccc7230b6b85",
       "version_major": 2,
       "version_minor": 0
      },
      "text/plain": [
       "roll_out:   0%|          | 0/1024 [00:00<?, ?it/s]"
      ]
     },
     "metadata": {},
     "output_type": "display_data"
    },
    {
     "data": {
      "application/vnd.jupyter.widget-view+json": {
       "model_id": "ccc9b786dcc94d02b92ceb5232a8f6d7",
       "version_major": 2,
       "version_minor": 0
      },
      "text/plain": [
       "roll_out:   0%|          | 0/1024 [00:00<?, ?it/s]"
      ]
     },
     "metadata": {},
     "output_type": "display_data"
    },
    {
     "data": {
      "application/vnd.jupyter.widget-view+json": {
       "model_id": "26a727245c4a49cea976f6c224086daf",
       "version_major": 2,
       "version_minor": 0
      },
      "text/plain": [
       "roll_out:   0%|          | 0/1024 [00:00<?, ?it/s]"
      ]
     },
     "metadata": {},
     "output_type": "display_data"
    },
    {
     "data": {
      "application/vnd.jupyter.widget-view+json": {
       "model_id": "7b50f0c241e94d2196fcf5df790f5234",
       "version_major": 2,
       "version_minor": 0
      },
      "text/plain": [
       "roll_out:   0%|          | 0/1024 [00:00<?, ?it/s]"
      ]
     },
     "metadata": {},
     "output_type": "display_data"
    },
    {
     "data": {
      "application/vnd.jupyter.widget-view+json": {
       "model_id": "4d26983c09ea4844ab3ffe6ae9fc5ff6",
       "version_major": 2,
       "version_minor": 0
      },
      "text/plain": [
       "roll_out:   0%|          | 0/1024 [00:00<?, ?it/s]"
      ]
     },
     "metadata": {},
     "output_type": "display_data"
    },
    {
     "data": {
      "application/vnd.jupyter.widget-view+json": {
       "model_id": "0f77d411b2a349ccbecac64f14fcc08b",
       "version_major": 2,
       "version_minor": 0
      },
      "text/plain": [
       "roll_out:   0%|          | 0/1024 [00:00<?, ?it/s]"
      ]
     },
     "metadata": {},
     "output_type": "display_data"
    },
    {
     "data": {
      "application/vnd.jupyter.widget-view+json": {
       "model_id": "07dfbf8f12d44a7b8c43a3a9db162f24",
       "version_major": 2,
       "version_minor": 0
      },
      "text/plain": [
       "roll_out:   0%|          | 0/1024 [00:00<?, ?it/s]"
      ]
     },
     "metadata": {},
     "output_type": "display_data"
    },
    {
     "data": {
      "application/vnd.jupyter.widget-view+json": {
       "model_id": "4b00129069db4e30b5677a387cf48ba2",
       "version_major": 2,
       "version_minor": 0
      },
      "text/plain": [
       "roll_out:   0%|          | 0/1024 [00:00<?, ?it/s]"
      ]
     },
     "metadata": {},
     "output_type": "display_data"
    },
    {
     "data": {
      "application/vnd.jupyter.widget-view+json": {
       "model_id": "4e8c3a87451148859294ce687ece9cab",
       "version_major": 2,
       "version_minor": 0
      },
      "text/plain": [
       "roll_out:   0%|          | 0/1024 [00:00<?, ?it/s]"
      ]
     },
     "metadata": {},
     "output_type": "display_data"
    },
    {
     "data": {
      "application/vnd.jupyter.widget-view+json": {
       "model_id": "f9c8f6845d5546c49a90aa33d41272cc",
       "version_major": 2,
       "version_minor": 0
      },
      "text/plain": [
       "roll_out:   0%|          | 0/1024 [00:00<?, ?it/s]"
      ]
     },
     "metadata": {},
     "output_type": "display_data"
    },
    {
     "data": {
      "application/vnd.jupyter.widget-view+json": {
       "model_id": "664bb3da6aec4cae9bda1e504544b92a",
       "version_major": 2,
       "version_minor": 0
      },
      "text/plain": [
       "roll_out:   0%|          | 0/1024 [00:00<?, ?it/s]"
      ]
     },
     "metadata": {},
     "output_type": "display_data"
    },
    {
     "data": {
      "application/vnd.jupyter.widget-view+json": {
       "model_id": "9782f611cf4444d58f8340950c26627e",
       "version_major": 2,
       "version_minor": 0
      },
      "text/plain": [
       "roll_out:   0%|          | 0/1024 [00:00<?, ?it/s]"
      ]
     },
     "metadata": {},
     "output_type": "display_data"
    },
    {
     "data": {
      "application/vnd.jupyter.widget-view+json": {
       "model_id": "c061ae57b8a24c39b97051cb33695e99",
       "version_major": 2,
       "version_minor": 0
      },
      "text/plain": [
       "roll_out:   0%|          | 0/1024 [00:00<?, ?it/s]"
      ]
     },
     "metadata": {},
     "output_type": "display_data"
    },
    {
     "data": {
      "application/vnd.jupyter.widget-view+json": {
       "model_id": "1a7b0aafa33f4e889a7ffff6e0d86608",
       "version_major": 2,
       "version_minor": 0
      },
      "text/plain": [
       "roll_out:   0%|          | 0/1024 [00:00<?, ?it/s]"
      ]
     },
     "metadata": {},
     "output_type": "display_data"
    },
    {
     "data": {
      "application/vnd.jupyter.widget-view+json": {
       "model_id": "e4940bc864b54ee0976465dc0db5cf38",
       "version_major": 2,
       "version_minor": 0
      },
      "text/plain": [
       "roll_out:   0%|          | 0/1024 [00:00<?, ?it/s]"
      ]
     },
     "metadata": {},
     "output_type": "display_data"
    },
    {
     "data": {
      "application/vnd.jupyter.widget-view+json": {
       "model_id": "741e5b3302b8442f8a64ded9bb6c2e37",
       "version_major": 2,
       "version_minor": 0
      },
      "text/plain": [
       "roll_out:   0%|          | 0/1024 [00:00<?, ?it/s]"
      ]
     },
     "metadata": {},
     "output_type": "display_data"
    },
    {
     "data": {
      "application/vnd.jupyter.widget-view+json": {
       "model_id": "e2b6567c3e854519b0547a0982937651",
       "version_major": 2,
       "version_minor": 0
      },
      "text/plain": [
       "roll_out:   0%|          | 0/1024 [00:00<?, ?it/s]"
      ]
     },
     "metadata": {},
     "output_type": "display_data"
    },
    {
     "data": {
      "application/vnd.jupyter.widget-view+json": {
       "model_id": "1ce4177ee2f44d99a14f13c41f84910a",
       "version_major": 2,
       "version_minor": 0
      },
      "text/plain": [
       "roll_out:   0%|          | 0/1024 [00:00<?, ?it/s]"
      ]
     },
     "metadata": {},
     "output_type": "display_data"
    },
    {
     "data": {
      "application/vnd.jupyter.widget-view+json": {
       "model_id": "650b9831cb624ee48c8a041a943b5590",
       "version_major": 2,
       "version_minor": 0
      },
      "text/plain": [
       "roll_out:   0%|          | 0/1024 [00:00<?, ?it/s]"
      ]
     },
     "metadata": {},
     "output_type": "display_data"
    },
    {
     "data": {
      "application/vnd.jupyter.widget-view+json": {
       "model_id": "08c8cacca9504eeab6a4d275bf2c7e06",
       "version_major": 2,
       "version_minor": 0
      },
      "text/plain": [
       "roll_out:   0%|          | 0/1024 [00:00<?, ?it/s]"
      ]
     },
     "metadata": {},
     "output_type": "display_data"
    },
    {
     "data": {
      "application/vnd.jupyter.widget-view+json": {
       "model_id": "60e605355e264264a4a9c77b8dc78bea",
       "version_major": 2,
       "version_minor": 0
      },
      "text/plain": [
       "roll_out:   0%|          | 0/1024 [00:00<?, ?it/s]"
      ]
     },
     "metadata": {},
     "output_type": "display_data"
    },
    {
     "data": {
      "application/vnd.jupyter.widget-view+json": {
       "model_id": "7cb569104af3453abe0e0840f9463001",
       "version_major": 2,
       "version_minor": 0
      },
      "text/plain": [
       "roll_out:   0%|          | 0/1024 [00:00<?, ?it/s]"
      ]
     },
     "metadata": {},
     "output_type": "display_data"
    },
    {
     "data": {
      "application/vnd.jupyter.widget-view+json": {
       "model_id": "a67a42113d8d4a35b8406b672273815f",
       "version_major": 2,
       "version_minor": 0
      },
      "text/plain": [
       "roll_out:   0%|          | 0/1024 [00:00<?, ?it/s]"
      ]
     },
     "metadata": {},
     "output_type": "display_data"
    },
    {
     "data": {
      "application/vnd.jupyter.widget-view+json": {
       "model_id": "e31c5cbe36404b51a912fe0b2d1f9b07",
       "version_major": 2,
       "version_minor": 0
      },
      "text/plain": [
       "roll_out:   0%|          | 0/1024 [00:00<?, ?it/s]"
      ]
     },
     "metadata": {},
     "output_type": "display_data"
    },
    {
     "data": {
      "application/vnd.jupyter.widget-view+json": {
       "model_id": "1b3f6f561f0040bda5f7d9aa8b99dd9d",
       "version_major": 2,
       "version_minor": 0
      },
      "text/plain": [
       "roll_out:   0%|          | 0/1024 [00:00<?, ?it/s]"
      ]
     },
     "metadata": {},
     "output_type": "display_data"
    },
    {
     "data": {
      "application/vnd.jupyter.widget-view+json": {
       "model_id": "4817c2ce8c844ea38acb3352e5640b40",
       "version_major": 2,
       "version_minor": 0
      },
      "text/plain": [
       "roll_out:   0%|          | 0/1024 [00:00<?, ?it/s]"
      ]
     },
     "metadata": {},
     "output_type": "display_data"
    },
    {
     "data": {
      "application/vnd.jupyter.widget-view+json": {
       "model_id": "f85b3150d3604e23a2f2243110074bcf",
       "version_major": 2,
       "version_minor": 0
      },
      "text/plain": [
       "roll_out:   0%|          | 0/1024 [00:00<?, ?it/s]"
      ]
     },
     "metadata": {},
     "output_type": "display_data"
    },
    {
     "data": {
      "application/vnd.jupyter.widget-view+json": {
       "model_id": "2b7f5e5ec07546ed9a4b441620f7c924",
       "version_major": 2,
       "version_minor": 0
      },
      "text/plain": [
       "roll_out:   0%|          | 0/1024 [00:00<?, ?it/s]"
      ]
     },
     "metadata": {},
     "output_type": "display_data"
    },
    {
     "data": {
      "application/vnd.jupyter.widget-view+json": {
       "model_id": "bf9bf087f5544ec0817dbe7d5a18c204",
       "version_major": 2,
       "version_minor": 0
      },
      "text/plain": [
       "roll_out:   0%|          | 0/1024 [00:00<?, ?it/s]"
      ]
     },
     "metadata": {},
     "output_type": "display_data"
    },
    {
     "data": {
      "application/vnd.jupyter.widget-view+json": {
       "model_id": "e4903e0318cd4c998a81466697cd06b9",
       "version_major": 2,
       "version_minor": 0
      },
      "text/plain": [
       "roll_out:   0%|          | 0/1024 [00:00<?, ?it/s]"
      ]
     },
     "metadata": {},
     "output_type": "display_data"
    },
    {
     "data": {
      "application/vnd.jupyter.widget-view+json": {
       "model_id": "5bdd73ad895b4beda59c65a3014cbb81",
       "version_major": 2,
       "version_minor": 0
      },
      "text/plain": [
       "roll_out:   0%|          | 0/1024 [00:00<?, ?it/s]"
      ]
     },
     "metadata": {},
     "output_type": "display_data"
    },
    {
     "data": {
      "application/vnd.jupyter.widget-view+json": {
       "model_id": "4104bdd33ad5471385553d7dd320525b",
       "version_major": 2,
       "version_minor": 0
      },
      "text/plain": [
       "roll_out:   0%|          | 0/1024 [00:00<?, ?it/s]"
      ]
     },
     "metadata": {},
     "output_type": "display_data"
    },
    {
     "data": {
      "application/vnd.jupyter.widget-view+json": {
       "model_id": "ca2877323425488194813c5bc933efcd",
       "version_major": 2,
       "version_minor": 0
      },
      "text/plain": [
       "roll_out:   0%|          | 0/1024 [00:00<?, ?it/s]"
      ]
     },
     "metadata": {},
     "output_type": "display_data"
    },
    {
     "data": {
      "application/vnd.jupyter.widget-view+json": {
       "model_id": "03a028ec1d844fa9a0cee6a2f78da2af",
       "version_major": 2,
       "version_minor": 0
      },
      "text/plain": [
       "roll_out:   0%|          | 0/1024 [00:00<?, ?it/s]"
      ]
     },
     "metadata": {},
     "output_type": "display_data"
    },
    {
     "data": {
      "application/vnd.jupyter.widget-view+json": {
       "model_id": "85765ef8b64a43b8871d336d969e7f34",
       "version_major": 2,
       "version_minor": 0
      },
      "text/plain": [
       "roll_out:   0%|          | 0/1024 [00:00<?, ?it/s]"
      ]
     },
     "metadata": {},
     "output_type": "display_data"
    },
    {
     "data": {
      "application/vnd.jupyter.widget-view+json": {
       "model_id": "0dca2f987ad14759b24a186011d9edd5",
       "version_major": 2,
       "version_minor": 0
      },
      "text/plain": [
       "roll_out:   0%|          | 0/1024 [00:00<?, ?it/s]"
      ]
     },
     "metadata": {},
     "output_type": "display_data"
    },
    {
     "data": {
      "application/vnd.jupyter.widget-view+json": {
       "model_id": "861ea0fec6a144809f23bd350950421c",
       "version_major": 2,
       "version_minor": 0
      },
      "text/plain": [
       "roll_out:   0%|          | 0/1024 [00:00<?, ?it/s]"
      ]
     },
     "metadata": {},
     "output_type": "display_data"
    },
    {
     "data": {
      "application/vnd.jupyter.widget-view+json": {
       "model_id": "3979812d37f746faafb0a5792125dff6",
       "version_major": 2,
       "version_minor": 0
      },
      "text/plain": [
       "roll_out:   0%|          | 0/1024 [00:00<?, ?it/s]"
      ]
     },
     "metadata": {},
     "output_type": "display_data"
    },
    {
     "data": {
      "application/vnd.jupyter.widget-view+json": {
       "model_id": "e80003f24ab9430683b44cbb783a047d",
       "version_major": 2,
       "version_minor": 0
      },
      "text/plain": [
       "roll_out:   0%|          | 0/1024 [00:00<?, ?it/s]"
      ]
     },
     "metadata": {},
     "output_type": "display_data"
    },
    {
     "data": {
      "application/vnd.jupyter.widget-view+json": {
       "model_id": "05abb91cf0fc463bbfd18de694ef797c",
       "version_major": 2,
       "version_minor": 0
      },
      "text/plain": [
       "roll_out:   0%|          | 0/1024 [00:00<?, ?it/s]"
      ]
     },
     "metadata": {},
     "output_type": "display_data"
    },
    {
     "data": {
      "application/vnd.jupyter.widget-view+json": {
       "model_id": "a03269b13b7943f6badb7a03004a31e1",
       "version_major": 2,
       "version_minor": 0
      },
      "text/plain": [
       "roll_out:   0%|          | 0/1024 [00:00<?, ?it/s]"
      ]
     },
     "metadata": {},
     "output_type": "display_data"
    },
    {
     "data": {
      "application/vnd.jupyter.widget-view+json": {
       "model_id": "49cb6c69595b4cf59f631f2f6a52aa0f",
       "version_major": 2,
       "version_minor": 0
      },
      "text/plain": [
       "roll_out:   0%|          | 0/1024 [00:00<?, ?it/s]"
      ]
     },
     "metadata": {},
     "output_type": "display_data"
    },
    {
     "data": {
      "application/vnd.jupyter.widget-view+json": {
       "model_id": "48dc03f311ca42a1bc00e8873aef74b8",
       "version_major": 2,
       "version_minor": 0
      },
      "text/plain": [
       "roll_out:   0%|          | 0/1024 [00:00<?, ?it/s]"
      ]
     },
     "metadata": {},
     "output_type": "display_data"
    },
    {
     "data": {
      "application/vnd.jupyter.widget-view+json": {
       "model_id": "05c1246d4fd048459e2a77e61c13b6c3",
       "version_major": 2,
       "version_minor": 0
      },
      "text/plain": [
       "roll_out:   0%|          | 0/1024 [00:00<?, ?it/s]"
      ]
     },
     "metadata": {},
     "output_type": "display_data"
    },
    {
     "data": {
      "application/vnd.jupyter.widget-view+json": {
       "model_id": "17b02d71221444fda2ce3f4ae931988b",
       "version_major": 2,
       "version_minor": 0
      },
      "text/plain": [
       "roll_out:   0%|          | 0/1024 [00:00<?, ?it/s]"
      ]
     },
     "metadata": {},
     "output_type": "display_data"
    },
    {
     "data": {
      "application/vnd.jupyter.widget-view+json": {
       "model_id": "90a09a9fddcf4d4db89d3318b60db1fb",
       "version_major": 2,
       "version_minor": 0
      },
      "text/plain": [
       "roll_out:   0%|          | 0/1024 [00:00<?, ?it/s]"
      ]
     },
     "metadata": {},
     "output_type": "display_data"
    },
    {
     "data": {
      "application/vnd.jupyter.widget-view+json": {
       "model_id": "37eb5c7526e84ae3abea4f2ecc5df9e6",
       "version_major": 2,
       "version_minor": 0
      },
      "text/plain": [
       "roll_out:   0%|          | 0/1024 [00:00<?, ?it/s]"
      ]
     },
     "metadata": {},
     "output_type": "display_data"
    },
    {
     "data": {
      "application/vnd.jupyter.widget-view+json": {
       "model_id": "66a5aa6dceed45afa410a50cba49b891",
       "version_major": 2,
       "version_minor": 0
      },
      "text/plain": [
       "roll_out:   0%|          | 0/1024 [00:00<?, ?it/s]"
      ]
     },
     "metadata": {},
     "output_type": "display_data"
    },
    {
     "data": {
      "application/vnd.jupyter.widget-view+json": {
       "model_id": "fedc6b3cae6847b98816c91ad5ab40cc",
       "version_major": 2,
       "version_minor": 0
      },
      "text/plain": [
       "roll_out:   0%|          | 0/1024 [00:00<?, ?it/s]"
      ]
     },
     "metadata": {},
     "output_type": "display_data"
    },
    {
     "data": {
      "application/vnd.jupyter.widget-view+json": {
       "model_id": "04bae63645bb468481c07df23f539dc0",
       "version_major": 2,
       "version_minor": 0
      },
      "text/plain": [
       "roll_out:   0%|          | 0/1024 [00:00<?, ?it/s]"
      ]
     },
     "metadata": {},
     "output_type": "display_data"
    },
    {
     "data": {
      "application/vnd.jupyter.widget-view+json": {
       "model_id": "af53892e69bb46f0a8362e877df65f84",
       "version_major": 2,
       "version_minor": 0
      },
      "text/plain": [
       "roll_out:   0%|          | 0/1024 [00:00<?, ?it/s]"
      ]
     },
     "metadata": {},
     "output_type": "display_data"
    },
    {
     "data": {
      "application/vnd.jupyter.widget-view+json": {
       "model_id": "e37a7677bb6c40dd8be2704fbff44180",
       "version_major": 2,
       "version_minor": 0
      },
      "text/plain": [
       "roll_out:   0%|          | 0/1024 [00:00<?, ?it/s]"
      ]
     },
     "metadata": {},
     "output_type": "display_data"
    },
    {
     "data": {
      "application/vnd.jupyter.widget-view+json": {
       "model_id": "1f7f719f7cc2489084a4863a92712bfc",
       "version_major": 2,
       "version_minor": 0
      },
      "text/plain": [
       "roll_out:   0%|          | 0/1024 [00:00<?, ?it/s]"
      ]
     },
     "metadata": {},
     "output_type": "display_data"
    },
    {
     "data": {
      "application/vnd.jupyter.widget-view+json": {
       "model_id": "28a5b23adfc245cb9c8c504d929f5d51",
       "version_major": 2,
       "version_minor": 0
      },
      "text/plain": [
       "roll_out:   0%|          | 0/1024 [00:00<?, ?it/s]"
      ]
     },
     "metadata": {},
     "output_type": "display_data"
    },
    {
     "data": {
      "application/vnd.jupyter.widget-view+json": {
       "model_id": "7cfa4689b7614ffabfd8183256eb2d43",
       "version_major": 2,
       "version_minor": 0
      },
      "text/plain": [
       "roll_out:   0%|          | 0/1024 [00:00<?, ?it/s]"
      ]
     },
     "metadata": {},
     "output_type": "display_data"
    },
    {
     "data": {
      "application/vnd.jupyter.widget-view+json": {
       "model_id": "5e785ca05c004ff58282c1813d18d254",
       "version_major": 2,
       "version_minor": 0
      },
      "text/plain": [
       "roll_out:   0%|          | 0/1024 [00:00<?, ?it/s]"
      ]
     },
     "metadata": {},
     "output_type": "display_data"
    },
    {
     "data": {
      "application/vnd.jupyter.widget-view+json": {
       "model_id": "1ce28601a8d743dea735e78b424f6978",
       "version_major": 2,
       "version_minor": 0
      },
      "text/plain": [
       "roll_out:   0%|          | 0/1024 [00:00<?, ?it/s]"
      ]
     },
     "metadata": {},
     "output_type": "display_data"
    },
    {
     "data": {
      "application/vnd.jupyter.widget-view+json": {
       "model_id": "4a212e4dd5994d54b9a41fa3e1a9fffb",
       "version_major": 2,
       "version_minor": 0
      },
      "text/plain": [
       "roll_out:   0%|          | 0/1024 [00:00<?, ?it/s]"
      ]
     },
     "metadata": {},
     "output_type": "display_data"
    },
    {
     "data": {
      "application/vnd.jupyter.widget-view+json": {
       "model_id": "37ef20200ec44db890caab2e5f0737cc",
       "version_major": 2,
       "version_minor": 0
      },
      "text/plain": [
       "roll_out:   0%|          | 0/1024 [00:00<?, ?it/s]"
      ]
     },
     "metadata": {},
     "output_type": "display_data"
    },
    {
     "data": {
      "application/vnd.jupyter.widget-view+json": {
       "model_id": "17aa0e4d53f245dbbe55f4b695404512",
       "version_major": 2,
       "version_minor": 0
      },
      "text/plain": [
       "roll_out:   0%|          | 0/1024 [00:00<?, ?it/s]"
      ]
     },
     "metadata": {},
     "output_type": "display_data"
    },
    {
     "data": {
      "application/vnd.jupyter.widget-view+json": {
       "model_id": "dcc48f4c5a2e4f4382cd33630e82eaac",
       "version_major": 2,
       "version_minor": 0
      },
      "text/plain": [
       "roll_out:   0%|          | 0/1024 [00:00<?, ?it/s]"
      ]
     },
     "metadata": {},
     "output_type": "display_data"
    },
    {
     "data": {
      "application/vnd.jupyter.widget-view+json": {
       "model_id": "b02010cf63c3465d9cc299471adee487",
       "version_major": 2,
       "version_minor": 0
      },
      "text/plain": [
       "roll_out:   0%|          | 0/1024 [00:00<?, ?it/s]"
      ]
     },
     "metadata": {},
     "output_type": "display_data"
    },
    {
     "data": {
      "application/vnd.jupyter.widget-view+json": {
       "model_id": "b226003d60f148b28299c7d3b5f39015",
       "version_major": 2,
       "version_minor": 0
      },
      "text/plain": [
       "roll_out:   0%|          | 0/1024 [00:00<?, ?it/s]"
      ]
     },
     "metadata": {},
     "output_type": "display_data"
    },
    {
     "data": {
      "application/vnd.jupyter.widget-view+json": {
       "model_id": "d56719be16dc4fb28892075799c41f44",
       "version_major": 2,
       "version_minor": 0
      },
      "text/plain": [
       "roll_out:   0%|          | 0/1024 [00:00<?, ?it/s]"
      ]
     },
     "metadata": {},
     "output_type": "display_data"
    },
    {
     "data": {
      "application/vnd.jupyter.widget-view+json": {
       "model_id": "8161df69bfc44964818e5bb14f55acd8",
       "version_major": 2,
       "version_minor": 0
      },
      "text/plain": [
       "roll_out:   0%|          | 0/1024 [00:00<?, ?it/s]"
      ]
     },
     "metadata": {},
     "output_type": "display_data"
    },
    {
     "data": {
      "application/vnd.jupyter.widget-view+json": {
       "model_id": "47a09976f4a241d29435680be7691449",
       "version_major": 2,
       "version_minor": 0
      },
      "text/plain": [
       "roll_out:   0%|          | 0/1024 [00:00<?, ?it/s]"
      ]
     },
     "metadata": {},
     "output_type": "display_data"
    },
    {
     "data": {
      "application/vnd.jupyter.widget-view+json": {
       "model_id": "69e30bb29fc14eb2aa17fc3c4ec62a56",
       "version_major": 2,
       "version_minor": 0
      },
      "text/plain": [
       "roll_out:   0%|          | 0/1024 [00:00<?, ?it/s]"
      ]
     },
     "metadata": {},
     "output_type": "display_data"
    },
    {
     "data": {
      "application/vnd.jupyter.widget-view+json": {
       "model_id": "79162a1246ca4f47ad99463041dcd83b",
       "version_major": 2,
       "version_minor": 0
      },
      "text/plain": [
       "roll_out:   0%|          | 0/1024 [00:00<?, ?it/s]"
      ]
     },
     "metadata": {},
     "output_type": "display_data"
    },
    {
     "data": {
      "application/vnd.jupyter.widget-view+json": {
       "model_id": "6c6ed647251f407e8ffc480164a1ef29",
       "version_major": 2,
       "version_minor": 0
      },
      "text/plain": [
       "roll_out:   0%|          | 0/1024 [00:00<?, ?it/s]"
      ]
     },
     "metadata": {},
     "output_type": "display_data"
    },
    {
     "data": {
      "application/vnd.jupyter.widget-view+json": {
       "model_id": "8b0129eb412b410b80f831f1e9c835fc",
       "version_major": 2,
       "version_minor": 0
      },
      "text/plain": [
       "roll_out:   0%|          | 0/1024 [00:00<?, ?it/s]"
      ]
     },
     "metadata": {},
     "output_type": "display_data"
    },
    {
     "data": {
      "application/vnd.jupyter.widget-view+json": {
       "model_id": "c743eea4be4e43e9954458a0c000f2e7",
       "version_major": 2,
       "version_minor": 0
      },
      "text/plain": [
       "roll_out:   0%|          | 0/1024 [00:00<?, ?it/s]"
      ]
     },
     "metadata": {},
     "output_type": "display_data"
    },
    {
     "data": {
      "application/vnd.jupyter.widget-view+json": {
       "model_id": "24e0fc553bbd4d2480833c95d05ed387",
       "version_major": 2,
       "version_minor": 0
      },
      "text/plain": [
       "roll_out:   0%|          | 0/1024 [00:00<?, ?it/s]"
      ]
     },
     "metadata": {},
     "output_type": "display_data"
    },
    {
     "data": {
      "application/vnd.jupyter.widget-view+json": {
       "model_id": "982f93906eb74c2ea3f06b3a55b85ff4",
       "version_major": 2,
       "version_minor": 0
      },
      "text/plain": [
       "roll_out:   0%|          | 0/1024 [00:00<?, ?it/s]"
      ]
     },
     "metadata": {},
     "output_type": "display_data"
    },
    {
     "data": {
      "application/vnd.jupyter.widget-view+json": {
       "model_id": "28d7f77914b84c42bfc62f9c12881376",
       "version_major": 2,
       "version_minor": 0
      },
      "text/plain": [
       "roll_out:   0%|          | 0/1024 [00:00<?, ?it/s]"
      ]
     },
     "metadata": {},
     "output_type": "display_data"
    },
    {
     "data": {
      "application/vnd.jupyter.widget-view+json": {
       "model_id": "c02a85439355476098899c8f2cdc6ecc",
       "version_major": 2,
       "version_minor": 0
      },
      "text/plain": [
       "roll_out:   0%|          | 0/1024 [00:00<?, ?it/s]"
      ]
     },
     "metadata": {},
     "output_type": "display_data"
    },
    {
     "data": {
      "application/vnd.jupyter.widget-view+json": {
       "model_id": "f7a52dc8ca0c419a9d3213e7c5d7eadf",
       "version_major": 2,
       "version_minor": 0
      },
      "text/plain": [
       "roll_out:   0%|          | 0/1024 [00:00<?, ?it/s]"
      ]
     },
     "metadata": {},
     "output_type": "display_data"
    },
    {
     "data": {
      "application/vnd.jupyter.widget-view+json": {
       "model_id": "9f78515fba3c4fe4b51c63f4b8454686",
       "version_major": 2,
       "version_minor": 0
      },
      "text/plain": [
       "roll_out:   0%|          | 0/1024 [00:00<?, ?it/s]"
      ]
     },
     "metadata": {},
     "output_type": "display_data"
    },
    {
     "data": {
      "application/vnd.jupyter.widget-view+json": {
       "model_id": "79375bd137ec46bbaee873ff622d6114",
       "version_major": 2,
       "version_minor": 0
      },
      "text/plain": [
       "roll_out:   0%|          | 0/1024 [00:00<?, ?it/s]"
      ]
     },
     "metadata": {},
     "output_type": "display_data"
    },
    {
     "data": {
      "application/vnd.jupyter.widget-view+json": {
       "model_id": "c84a2139ddaf47b186c4d609af618f10",
       "version_major": 2,
       "version_minor": 0
      },
      "text/plain": [
       "roll_out:   0%|          | 0/1024 [00:00<?, ?it/s]"
      ]
     },
     "metadata": {},
     "output_type": "display_data"
    },
    {
     "data": {
      "application/vnd.jupyter.widget-view+json": {
       "model_id": "e952610d69594d3f8d849dbea4fc0c6b",
       "version_major": 2,
       "version_minor": 0
      },
      "text/plain": [
       "roll_out:   0%|          | 0/1024 [00:00<?, ?it/s]"
      ]
     },
     "metadata": {},
     "output_type": "display_data"
    },
    {
     "data": {
      "application/vnd.jupyter.widget-view+json": {
       "model_id": "d1e82055d7fa406d818ec79d284e1270",
       "version_major": 2,
       "version_minor": 0
      },
      "text/plain": [
       "roll_out:   0%|          | 0/1024 [00:00<?, ?it/s]"
      ]
     },
     "metadata": {},
     "output_type": "display_data"
    },
    {
     "data": {
      "application/vnd.jupyter.widget-view+json": {
       "model_id": "19c4d89323214dc8b0c85d5ede6c7140",
       "version_major": 2,
       "version_minor": 0
      },
      "text/plain": [
       "roll_out:   0%|          | 0/1024 [00:00<?, ?it/s]"
      ]
     },
     "metadata": {},
     "output_type": "display_data"
    },
    {
     "data": {
      "application/vnd.jupyter.widget-view+json": {
       "model_id": "77f0b2ee76124a329eb77cf4d2b2fffb",
       "version_major": 2,
       "version_minor": 0
      },
      "text/plain": [
       "roll_out:   0%|          | 0/1024 [00:00<?, ?it/s]"
      ]
     },
     "metadata": {},
     "output_type": "display_data"
    },
    {
     "data": {
      "application/vnd.jupyter.widget-view+json": {
       "model_id": "8405b8ed48fa464ca26ed91c9e5a1ac8",
       "version_major": 2,
       "version_minor": 0
      },
      "text/plain": [
       "roll_out:   0%|          | 0/1024 [00:00<?, ?it/s]"
      ]
     },
     "metadata": {},
     "output_type": "display_data"
    },
    {
     "data": {
      "application/vnd.jupyter.widget-view+json": {
       "model_id": "cb7249aaa67546ef970100cdeacb02a7",
       "version_major": 2,
       "version_minor": 0
      },
      "text/plain": [
       "roll_out:   0%|          | 0/1024 [00:00<?, ?it/s]"
      ]
     },
     "metadata": {},
     "output_type": "display_data"
    },
    {
     "data": {
      "application/vnd.jupyter.widget-view+json": {
       "model_id": "76f6261671174b51baa370bb8ceeac33",
       "version_major": 2,
       "version_minor": 0
      },
      "text/plain": [
       "roll_out:   0%|          | 0/1024 [00:00<?, ?it/s]"
      ]
     },
     "metadata": {},
     "output_type": "display_data"
    },
    {
     "data": {
      "application/vnd.jupyter.widget-view+json": {
       "model_id": "e13496288de14d87a8b4794e7092c817",
       "version_major": 2,
       "version_minor": 0
      },
      "text/plain": [
       "roll_out:   0%|          | 0/1024 [00:00<?, ?it/s]"
      ]
     },
     "metadata": {},
     "output_type": "display_data"
    },
    {
     "data": {
      "application/vnd.jupyter.widget-view+json": {
       "model_id": "76d5bfd12c2f461586f5afbc87248069",
       "version_major": 2,
       "version_minor": 0
      },
      "text/plain": [
       "roll_out:   0%|          | 0/1024 [00:00<?, ?it/s]"
      ]
     },
     "metadata": {},
     "output_type": "display_data"
    },
    {
     "data": {
      "application/vnd.jupyter.widget-view+json": {
       "model_id": "2467dfcd9e5f402680cdc6bcee178764",
       "version_major": 2,
       "version_minor": 0
      },
      "text/plain": [
       "roll_out:   0%|          | 0/1024 [00:00<?, ?it/s]"
      ]
     },
     "metadata": {},
     "output_type": "display_data"
    },
    {
     "data": {
      "application/vnd.jupyter.widget-view+json": {
       "model_id": "22c3671d592442d9a8da8499c5910149",
       "version_major": 2,
       "version_minor": 0
      },
      "text/plain": [
       "roll_out:   0%|          | 0/1024 [00:00<?, ?it/s]"
      ]
     },
     "metadata": {},
     "output_type": "display_data"
    },
    {
     "data": {
      "application/vnd.jupyter.widget-view+json": {
       "model_id": "c887e5f5361d49d1aec8e3908f64beab",
       "version_major": 2,
       "version_minor": 0
      },
      "text/plain": [
       "roll_out:   0%|          | 0/1024 [00:00<?, ?it/s]"
      ]
     },
     "metadata": {},
     "output_type": "display_data"
    },
    {
     "data": {
      "application/vnd.jupyter.widget-view+json": {
       "model_id": "432114402f33445781761c01b40820bb",
       "version_major": 2,
       "version_minor": 0
      },
      "text/plain": [
       "roll_out:   0%|          | 0/1024 [00:00<?, ?it/s]"
      ]
     },
     "metadata": {},
     "output_type": "display_data"
    },
    {
     "data": {
      "application/vnd.jupyter.widget-view+json": {
       "model_id": "3e01e32524694a94988b6ca681790083",
       "version_major": 2,
       "version_minor": 0
      },
      "text/plain": [
       "roll_out:   0%|          | 0/1024 [00:00<?, ?it/s]"
      ]
     },
     "metadata": {},
     "output_type": "display_data"
    },
    {
     "data": {
      "application/vnd.jupyter.widget-view+json": {
       "model_id": "8df4e3223601400d920de0a9f683c3f8",
       "version_major": 2,
       "version_minor": 0
      },
      "text/plain": [
       "roll_out:   0%|          | 0/1024 [00:00<?, ?it/s]"
      ]
     },
     "metadata": {},
     "output_type": "display_data"
    },
    {
     "data": {
      "application/vnd.jupyter.widget-view+json": {
       "model_id": "b211246d23e242329dddfac017542e6f",
       "version_major": 2,
       "version_minor": 0
      },
      "text/plain": [
       "roll_out:   0%|          | 0/1024 [00:00<?, ?it/s]"
      ]
     },
     "metadata": {},
     "output_type": "display_data"
    },
    {
     "data": {
      "application/vnd.jupyter.widget-view+json": {
       "model_id": "6ee86b5480674e578baa7a5603803761",
       "version_major": 2,
       "version_minor": 0
      },
      "text/plain": [
       "roll_out:   0%|          | 0/1024 [00:00<?, ?it/s]"
      ]
     },
     "metadata": {},
     "output_type": "display_data"
    },
    {
     "data": {
      "application/vnd.jupyter.widget-view+json": {
       "model_id": "66b4300409de4ffc87668e7abd7dd19c",
       "version_major": 2,
       "version_minor": 0
      },
      "text/plain": [
       "roll_out:   0%|          | 0/1024 [00:00<?, ?it/s]"
      ]
     },
     "metadata": {},
     "output_type": "display_data"
    },
    {
     "data": {
      "application/vnd.jupyter.widget-view+json": {
       "model_id": "f615fb77ca1a49a48157dbfc8c8dd2fa",
       "version_major": 2,
       "version_minor": 0
      },
      "text/plain": [
       "roll_out:   0%|          | 0/1024 [00:00<?, ?it/s]"
      ]
     },
     "metadata": {},
     "output_type": "display_data"
    },
    {
     "data": {
      "application/vnd.jupyter.widget-view+json": {
       "model_id": "c477e4944e904b789deae9a4f75b07dd",
       "version_major": 2,
       "version_minor": 0
      },
      "text/plain": [
       "roll_out:   0%|          | 0/1024 [00:00<?, ?it/s]"
      ]
     },
     "metadata": {},
     "output_type": "display_data"
    },
    {
     "data": {
      "application/vnd.jupyter.widget-view+json": {
       "model_id": "5920fc09225d429f822b0055143c6771",
       "version_major": 2,
       "version_minor": 0
      },
      "text/plain": [
       "roll_out:   0%|          | 0/1024 [00:00<?, ?it/s]"
      ]
     },
     "metadata": {},
     "output_type": "display_data"
    },
    {
     "data": {
      "application/vnd.jupyter.widget-view+json": {
       "model_id": "eec26034f0ce4cfbb625623a3793d4c4",
       "version_major": 2,
       "version_minor": 0
      },
      "text/plain": [
       "roll_out:   0%|          | 0/1024 [00:00<?, ?it/s]"
      ]
     },
     "metadata": {},
     "output_type": "display_data"
    },
    {
     "data": {
      "application/vnd.jupyter.widget-view+json": {
       "model_id": "4d3910de8d5d4804afd783abdcf87312",
       "version_major": 2,
       "version_minor": 0
      },
      "text/plain": [
       "roll_out:   0%|          | 0/1024 [00:00<?, ?it/s]"
      ]
     },
     "metadata": {},
     "output_type": "display_data"
    },
    {
     "data": {
      "application/vnd.jupyter.widget-view+json": {
       "model_id": "8c1fade6a8c44fd7bdc5999b6149f90d",
       "version_major": 2,
       "version_minor": 0
      },
      "text/plain": [
       "roll_out:   0%|          | 0/1024 [00:00<?, ?it/s]"
      ]
     },
     "metadata": {},
     "output_type": "display_data"
    },
    {
     "data": {
      "application/vnd.jupyter.widget-view+json": {
       "model_id": "c61bd7004b8b498888384cb76e9cf3db",
       "version_major": 2,
       "version_minor": 0
      },
      "text/plain": [
       "roll_out:   0%|          | 0/1024 [00:00<?, ?it/s]"
      ]
     },
     "metadata": {},
     "output_type": "display_data"
    },
    {
     "data": {
      "application/vnd.jupyter.widget-view+json": {
       "model_id": "a66d698ccff84f89bcfec7cf845fdbba",
       "version_major": 2,
       "version_minor": 0
      },
      "text/plain": [
       "roll_out:   0%|          | 0/1024 [00:00<?, ?it/s]"
      ]
     },
     "metadata": {},
     "output_type": "display_data"
    },
    {
     "data": {
      "application/vnd.jupyter.widget-view+json": {
       "model_id": "2b9e7cfe089f40f1876f59fabaf3e07d",
       "version_major": 2,
       "version_minor": 0
      },
      "text/plain": [
       "roll_out:   0%|          | 0/1024 [00:00<?, ?it/s]"
      ]
     },
     "metadata": {},
     "output_type": "display_data"
    },
    {
     "data": {
      "application/vnd.jupyter.widget-view+json": {
       "model_id": "38f6b1a827b446c39decb698f0c35467",
       "version_major": 2,
       "version_minor": 0
      },
      "text/plain": [
       "roll_out:   0%|          | 0/1024 [00:00<?, ?it/s]"
      ]
     },
     "metadata": {},
     "output_type": "display_data"
    },
    {
     "data": {
      "application/vnd.jupyter.widget-view+json": {
       "model_id": "19f274794c554cf3a71b5434c0bb7a1e",
       "version_major": 2,
       "version_minor": 0
      },
      "text/plain": [
       "roll_out:   0%|          | 0/1024 [00:00<?, ?it/s]"
      ]
     },
     "metadata": {},
     "output_type": "display_data"
    },
    {
     "data": {
      "application/vnd.jupyter.widget-view+json": {
       "model_id": "e584864226ef465b87e7559e6354be43",
       "version_major": 2,
       "version_minor": 0
      },
      "text/plain": [
       "roll_out:   0%|          | 0/1024 [00:00<?, ?it/s]"
      ]
     },
     "metadata": {},
     "output_type": "display_data"
    },
    {
     "data": {
      "application/vnd.jupyter.widget-view+json": {
       "model_id": "3ad88f21ecfa48eb84a8021e7df3c411",
       "version_major": 2,
       "version_minor": 0
      },
      "text/plain": [
       "roll_out:   0%|          | 0/1024 [00:00<?, ?it/s]"
      ]
     },
     "metadata": {},
     "output_type": "display_data"
    },
    {
     "data": {
      "application/vnd.jupyter.widget-view+json": {
       "model_id": "27c4f582bad34edea5578dfc8224c141",
       "version_major": 2,
       "version_minor": 0
      },
      "text/plain": [
       "roll_out:   0%|          | 0/1024 [00:00<?, ?it/s]"
      ]
     },
     "metadata": {},
     "output_type": "display_data"
    },
    {
     "data": {
      "application/vnd.jupyter.widget-view+json": {
       "model_id": "1d82cd0113be45b38cdc5ae530a253a9",
       "version_major": 2,
       "version_minor": 0
      },
      "text/plain": [
       "roll_out:   0%|          | 0/1024 [00:00<?, ?it/s]"
      ]
     },
     "metadata": {},
     "output_type": "display_data"
    },
    {
     "data": {
      "application/vnd.jupyter.widget-view+json": {
       "model_id": "40dc4fed7da24f518b1ce711fa0dbb33",
       "version_major": 2,
       "version_minor": 0
      },
      "text/plain": [
       "roll_out:   0%|          | 0/1024 [00:00<?, ?it/s]"
      ]
     },
     "metadata": {},
     "output_type": "display_data"
    },
    {
     "data": {
      "application/vnd.jupyter.widget-view+json": {
       "model_id": "a84abed54d8f449a9e16692458f67368",
       "version_major": 2,
       "version_minor": 0
      },
      "text/plain": [
       "roll_out:   0%|          | 0/1024 [00:00<?, ?it/s]"
      ]
     },
     "metadata": {},
     "output_type": "display_data"
    },
    {
     "data": {
      "application/vnd.jupyter.widget-view+json": {
       "model_id": "9fcdc3cc903a421481459d1c050ea6ff",
       "version_major": 2,
       "version_minor": 0
      },
      "text/plain": [
       "roll_out:   0%|          | 0/1024 [00:00<?, ?it/s]"
      ]
     },
     "metadata": {},
     "output_type": "display_data"
    },
    {
     "data": {
      "application/vnd.jupyter.widget-view+json": {
       "model_id": "bd17fb5d5b03407b8774b98eae6ddd1d",
       "version_major": 2,
       "version_minor": 0
      },
      "text/plain": [
       "roll_out:   0%|          | 0/1024 [00:00<?, ?it/s]"
      ]
     },
     "metadata": {},
     "output_type": "display_data"
    },
    {
     "data": {
      "text/html": [
       "Waiting for W&B process to finish... <strong style=\"color:green\">(success).</strong>"
      ],
      "text/plain": [
       "<IPython.core.display.HTML object>"
      ]
     },
     "metadata": {},
     "output_type": "display_data"
    },
    {
     "data": {
      "application/vnd.jupyter.widget-view+json": {
       "model_id": "a029111cb4744e819adb24b1a0dca091",
       "version_major": 2,
       "version_minor": 0
      },
      "text/plain": [
       "VBox(children=(Label(value='0.001 MB of 0.077 MB uploaded (0.000 MB deduped)\\r'), FloatProgress(value=0.016737…"
      ]
     },
     "metadata": {},
     "output_type": "display_data"
    },
    {
     "data": {
      "text/html": [
       "<style>\n",
       "    table.wandb td:nth-child(1) { padding: 0 10px; text-align: left ; width: auto;} td:nth-child(2) {text-align: left ; width: 100%}\n",
       "    .wandb-row { display: flex; flex-direction: row; flex-wrap: wrap; justify-content: flex-start; width: 100% }\n",
       "    .wandb-col { display: flex; flex-direction: column; flex-basis: 100%; flex: 1; padding: 10px; }\n",
       "    </style>\n",
       "<div class=\"wandb-row\"><div class=\"wandb-col\"><h3>Run history:</h3><br/><table class=\"wandb\"><tr><td>KL_approx</td><td>▂▂▁▃▃▃█▅▃▄▆▄▆▄▂▄▃▅▅▂▄█▃▂▇▃▅▂▃▂▃▂▃▁▅▅▇▄▄▂</td></tr><tr><td>episode_reward</td><td>▄▁▃▄▂▃▃▄▅▄▅▅▇▇▇▇▇▇▇▇▇▇▄█▇▇▇▇▅▇▆▇▂▇▇▇▇██▄</td></tr><tr><td>total_loss</td><td>█▄▂▂▂▁▁▁▁▁▁▁▁▁▁▁▁▁▁▁▁▁▁▁▁▁▁▁▁▁▁▁▁▁▁▁▁▁▁▁</td></tr></table><br/></div><div class=\"wandb-col\"><h3>Run summary:</h3><br/><table class=\"wandb\"><tr><td>early_stop_count</td><td>0</td></tr><tr><td>episode_reward</td><td>-120.12987</td></tr><tr><td>total_loss</td><td>25.297</td></tr></table><br/></div></div>"
      ],
      "text/plain": [
       "<IPython.core.display.HTML object>"
      ]
     },
     "metadata": {},
     "output_type": "display_data"
    },
    {
     "data": {
      "text/html": [
       " View run <strong style=\"color:#cdcd00\">brisk-sweep-4</strong> at: <a href='https://wandb.ai/tcd-clearway/PPO-Pendulum-2/runs/2mggyfu5' target=\"_blank\">https://wandb.ai/tcd-clearway/PPO-Pendulum-2/runs/2mggyfu5</a><br/>Synced 5 W&B file(s), 0 media file(s), 0 artifact file(s) and 1 other file(s)"
      ],
      "text/plain": [
       "<IPython.core.display.HTML object>"
      ]
     },
     "metadata": {},
     "output_type": "display_data"
    },
    {
     "data": {
      "text/html": [
       "Find logs at: <code>.\\wandb\\run-20230720_095017-2mggyfu5\\logs</code>"
      ],
      "text/plain": [
       "<IPython.core.display.HTML object>"
      ]
     },
     "metadata": {},
     "output_type": "display_data"
    }
   ],
   "source": [
    "sweep_configuration = {\n",
    "    'method': 'grid',\n",
    "    'metric':{'goal':'maximize', 'name':'episode_reward'},\n",
    "    'parameters':\n",
    "    {\n",
    "        'early_stop': {'value': False},\n",
    "        'cal_total_loss' : {'value' : True},\n",
    "        'parameters_hardshare' : {'value' : False},\n",
    "        'c1' : {'value': 0.5020639303776493},\n",
    "        'c2' : {'value' : 0.910077248529638},\n",
    "        # 'kl_threshold' : {'min': 0.01, 'max': 0.04},\n",
    "        'minibatch_size' : {'values' : [128, 256, 512, 1024]}\n",
    "    }\n",
    "}\n",
    "%env \"WANDB_NOTEBOOK_NAME\" \"PPO_GYM\"\n",
    "sweep_id = wandb.sweep(sweep=sweep_configuration, project='PPO-Pendulum-2')\n",
    "wandb.agent(sweep_id, function=main, count=4)"
   ]
  },
  {
   "cell_type": "code",
   "execution_count": null,
   "metadata": {},
   "outputs": [],
   "source": []
  },
  {
   "cell_type": "code",
   "execution_count": null,
   "metadata": {},
   "outputs": [],
   "source": []
  },
  {
   "cell_type": "code",
   "execution_count": null,
   "metadata": {},
   "outputs": [],
   "source": []
  },
  {
   "cell_type": "code",
   "execution_count": null,
   "metadata": {},
   "outputs": [],
   "source": []
  },
  {
   "cell_type": "code",
   "execution_count": null,
   "metadata": {},
   "outputs": [],
   "source": []
  },
  {
   "cell_type": "code",
   "execution_count": null,
   "metadata": {},
   "outputs": [],
   "source": []
  },
  {
   "cell_type": "code",
   "execution_count": null,
   "metadata": {},
   "outputs": [],
   "source": []
  }
 ],
 "metadata": {
  "kernelspec": {
   "display_name": "Python 3",
   "language": "python",
   "name": "python3"
  },
  "language_info": {
   "codemirror_mode": {
    "name": "ipython",
    "version": 3
   },
   "file_extension": ".py",
   "mimetype": "text/x-python",
   "name": "python",
   "nbconvert_exporter": "python",
   "pygments_lexer": "ipython3",
   "version": "3.9.17"
  },
  "orig_nbformat": 4
 },
 "nbformat": 4,
 "nbformat_minor": 2
}

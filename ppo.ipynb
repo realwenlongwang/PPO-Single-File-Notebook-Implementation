{
 "cells": [
  {
   "cell_type": "code",
   "execution_count": 1,
   "metadata": {},
   "outputs": [],
   "source": [
    "from torch import nn\n",
    "import torch.nn.functional as F\n",
    "import torch\n",
    "from torch.distributions import Categorical, Normal\n",
    "import gymnasium as gym\n",
    "from tqdm.notebook import tnrange\n",
    "import numpy as np\n",
    "import scipy\n",
    "import wandb\n",
    "from gymnasium.spaces import Box, Discrete\n",
    "import os"
   ]
  },
  {
   "cell_type": "markdown",
   "metadata": {},
   "source": []
  },
  {
   "cell_type": "code",
   "execution_count": 2,
   "metadata": {},
   "outputs": [],
   "source": [
    "def discount_cumsum(x, discount):\n",
    "    \"\"\"\n",
    "    magic from rllab for computing discounted cumulative sums of vectors.\n",
    "\n",
    "    input: \n",
    "        vector x, \n",
    "        [x0, \n",
    "         x1, \n",
    "         x2]\n",
    "\n",
    "    output:\n",
    "        [x0 + discount * x1 + discount^2 * x2,  \n",
    "         x1 + discount * x2,\n",
    "         x2]\n",
    "    \"\"\"\n",
    "    return scipy.signal.lfilter([1], [1, float(-discount)], x[::-1], axis=0)[::-1]\n",
    "\n",
    "\n",
    "def combined_shape(length, shape=None):\n",
    "    if shape is None:\n",
    "        return (length,)\n",
    "    return (length, shape) if np.isscalar(shape) else (length, *shape)\n",
    "\n",
    "class PPOBuffer():\n",
    "    def __init__(self, observation_dim, action_dim, capacity, gamma, lam):\n",
    "        self.obs_buf = np.zeros(combined_shape(capacity, observation_dim), dtype=np.float32)\n",
    "        self.act_buf = np.zeros(combined_shape(capacity, action_dim), dtype=np.float32)\n",
    "        self.adv_buf = np.zeros(capacity, dtype=np.float32)\n",
    "        self.rew_buf = np.zeros(capacity, dtype=np.float32)\n",
    "        self.rtg_buf = np.zeros(capacity, dtype=np.float32)\n",
    "        self.val_buf = np.zeros(capacity, dtype=np.float32)\n",
    "        self.logp_buf = np.zeros(capacity, dtype=np.float32)\n",
    "        # self.logp_buf = np.zeros(combined_shape(capacity, action_dim), dtype=np.float32)\n",
    "        self.capacity = capacity\n",
    "        self.idx = 0\n",
    "        self.path_idx = 0\n",
    "        self.gamma = gamma\n",
    "        self.lam = lam\n",
    "\n",
    "    def push(self, obs, act, rew, val, logp):\n",
    "        assert self.idx < self.capacity\n",
    "        self.obs_buf[self.idx] = obs\n",
    "        self.act_buf[self.idx] = act\n",
    "        self.rew_buf[self.idx] = rew\n",
    "        self.val_buf[self.idx] = val\n",
    "        self.logp_buf[self.idx] = logp\n",
    "\n",
    "        self.idx += 1\n",
    "\n",
    "    def GAE_cal(self, last_val):\n",
    "        path_slice = slice(self.path_idx, self.idx)\n",
    "        # to make the deltas the same dim\n",
    "        rewards = np.append(self.rew_buf[path_slice], last_val)\n",
    "        vals = np.append(self.val_buf[path_slice], last_val)\n",
    "\n",
    "        deltas = rewards[:-1] + self.gamma * vals[1:] - vals[:-1]\n",
    "        self.adv_buf[path_slice] = discount_cumsum(deltas, self.gamma * self.lam)\n",
    "\n",
    "        self.rtg_buf[path_slice] = discount_cumsum(rewards, self.gamma)[:-1]\n",
    "        self.path_idx = self.idx\n",
    "\n",
    "                \n",
    "    def sample(self, minibatch_size, device):\n",
    "        \"\"\"This method sample a list of minibatches from the memory\n",
    "\n",
    "        Args:\n",
    "            minibatch_size (int): size of minibatch, usually 2^n\n",
    "            device (object): CPU or GPU\n",
    "\n",
    "        Returns:\n",
    "            list: a list of minibatches\n",
    "        \"\"\"\n",
    "        assert self.idx == self.capacity\n",
    "        # reset the index\n",
    "        self.idx, self.path_idx = 0, 0\n",
    "        # normalise advantage\n",
    "        self.adv_buf = (self.adv_buf - np.mean(self.adv_buf)) / (np.std(self.adv_buf) + 1e-7)\n",
    "        \n",
    "        inds = np.arange(self.capacity)\n",
    "        \n",
    "        np.random.shuffle(inds)\n",
    "        \n",
    "        data = []\n",
    "        for start in range(0, self.capacity, minibatch_size):\n",
    "            end = start + minibatch_size\n",
    "            minibatch_inds = inds[start:end]\n",
    "            minibatch = dict(obs=self.obs_buf[minibatch_inds], act=self.act_buf[minibatch_inds], \\\n",
    "                             rtg=self.rtg_buf[minibatch_inds], adv=self.adv_buf[minibatch_inds], \\\n",
    "                             logp=self.logp_buf[minibatch_inds])\n",
    "            data.append({k: torch.as_tensor(v, dtype=torch.float32, device=device) for k,v in minibatch.items()})\n",
    "        \n",
    "        return data"
   ]
  },
  {
   "cell_type": "code",
   "execution_count": 3,
   "metadata": {},
   "outputs": [],
   "source": [
    "class Actor_Net(nn.Module):\n",
    "    def __init__(self, n_observations, n_actions, num_cells, continous_action):\n",
    "        super(Actor_Net,self).__init__()\n",
    "        \n",
    "        self.layer1 = nn.Linear(n_observations, num_cells)\n",
    "        self.layer2 = nn.Linear(num_cells, num_cells)\n",
    "        self.layer3 = nn.Linear(num_cells, n_actions)\n",
    "\n",
    "        self.continous_action = continous_action\n",
    "        self.action_dim = n_actions\n",
    "        \n",
    "        if self.continous_action:\n",
    "            log_std = -0.5 * np.ones(self.action_dim, dtype=np.float32)\n",
    "            # Add it to the list of parameters\n",
    "            self.log_std = torch.nn.Parameter(torch.as_tensor(log_std))            \n",
    "\n",
    "        \n",
    "\n",
    "    def forward(self, x):\n",
    "        activation1 = F.tanh(self.layer1(x))\n",
    "        activation2 = F.tanh(self.layer2(activation1))\n",
    "        activation3 = self.layer3(activation2)\n",
    "\n",
    "        return activation3\n",
    "    \n",
    "    def act(self, x):\n",
    "        if self.continous_action:\n",
    "            mu = self.forward(x)\n",
    "            std = torch.exp(self.log_std)\n",
    "            dist = Normal(mu, std)\n",
    "        else:\n",
    "            log_probs = F.log_softmax(self.forward(x), dim=1)\n",
    "            dist = Categorical(log_probs)\n",
    "    \n",
    "        action = dist.sample()\n",
    "        if self.continous_action:\n",
    "            action_logprob = dist.log_prob(action).sum(axis=-1)\n",
    "        else:\n",
    "            action_logprob = dist.log_prob(action)\n",
    "\n",
    "        return action.detach().cpu().numpy(), action_logprob.detach().cpu().numpy()\n",
    "    \n",
    "    def logprob_ent_from_state_acton(self, x, act):\n",
    "        if self.continous_action:\n",
    "            mu = self.forward(x)\n",
    "            std = torch.exp(self.log_std)\n",
    "            dist = Normal(mu, std)\n",
    "            # sum term is crucial to reduce dimension, otherwise the ratio = torch.exp(logp - logp_old) will have wrong result with boardcasting\n",
    "            act_logp = dist.log_prob(act).sum(axis=-1) \n",
    "        else:\n",
    "            dist = Categorical(F.softmax(self.forward(x)))\n",
    "            act_logp = dist.log_prob(act)\n",
    "        entropy = dist.entropy()\n",
    "        \n",
    "        return entropy, act_logp\n",
    "    \n",
    "   \n",
    "class Critic_Net(nn.Module):\n",
    "    def __init__(self, n_observations, num_cells):\n",
    "        super(Critic_Net,self).__init__()\n",
    "        self.layer1 = nn.Linear(n_observations, num_cells)\n",
    "        self.layer2 = nn.Linear(num_cells, num_cells)\n",
    "        self.layer3 = nn.Linear(num_cells, 1)\n",
    "\n",
    "    def forward(self, x):\n",
    "        activation1 = F.tanh(self.layer1(x))\n",
    "        activation2 = F.tanh(self.layer2(activation1))\n",
    "        activation3 = self.layer3(activation2)\n",
    "\n",
    "        return activation3\n",
    "\n",
    "class Actor_Critic_net(nn.Module):\n",
    "    def __init__(self, obs_dim, act_dim, hidden_dim, continous_action, parameters_hardshare):\n",
    "\n",
    "        super(Actor_Critic_net, self).__init__()\n",
    "\n",
    "        self.parameters_hardshare = parameters_hardshare\n",
    "        self.continous_action = continous_action\n",
    "        self.act_dim = act_dim\n",
    "        if self.continous_action:\n",
    "            log_std = -0.5 * np.ones(self.act_dim, dtype=np.float32)\n",
    "            # Add it to the list of parameters\n",
    "            self.log_std = torch.nn.Parameter(torch.as_tensor(log_std))\n",
    "\n",
    "        if self.parameters_hardshare:\n",
    "            self.layer1 = nn.Linear(obs_dim, hidden_dim)\n",
    "            self.layer2 = nn.Linear(hidden_dim, hidden_dim)\n",
    "\n",
    "            self.actor_head = nn.Linear(hidden_dim, act_dim)\n",
    "            self.critic_head = nn.Linear(hidden_dim, 1)\n",
    "\n",
    "        else:\n",
    "            self.actor = Actor_Net(obs_dim, act_dim, hidden_dim, continous_action)\n",
    "            self.critic = Critic_Net(obs_dim, hidden_dim)\n",
    "\n",
    "\n",
    "    def forward(self, x):\n",
    "        if self.parameters_hardshare:\n",
    "            activation1 = F.tanh(self.layer1(x))\n",
    "            activation2 = F.tanh(self.layer2(activation1))\n",
    "            actor_logits = self.actor_head(activation2)\n",
    "            value = self.critic_head(activation2)\n",
    "        else:\n",
    "            actor_logits = self.actor.forward(x)\n",
    "            value = self.critic.forward(x)\n",
    "\n",
    "        return actor_logits, value\n",
    "\n",
    "    \n",
    "    def act(self, x):\n",
    "        if self.continous_action:\n",
    "            mu, value = self.forward(x)\n",
    "            std = torch.exp(self.log_std)\n",
    "            dist = Normal(mu, std)\n",
    "        else:\n",
    "            actor_logits, value = self.forward(x)\n",
    "            log_probs = F.log_softmax(actor_logits, dim=1)\n",
    "            dist = Categorical(log_probs)\n",
    "\n",
    "        action = dist.sample()\n",
    "        if self.continous_action:\n",
    "            action_logprob = dist.log_prob(action).sum(axis=-1)\n",
    "        else:\n",
    "            action_logprob = dist.log_prob(action)\n",
    "        \n",
    "\n",
    "        return action.detach().cpu().numpy(), action_logprob.detach().cpu().numpy(), value.detach().item()     \n",
    "\n",
    "    def logprob_ent_from_state_acton(self, x, act):\n",
    "\n",
    "        if self.continous_action:\n",
    "            mu, value = self.forward(x)\n",
    "            std = torch.exp(self.log_std)\n",
    "            dist = Normal(mu, std)\n",
    "            # sum term is crucial to reduce dimension, otherwise the ratio = torch.exp(logp - logp_old) will have wrong result with boardcasting\n",
    "            act_logp = dist.log_prob(act).sum(axis=-1) \n",
    "        else:\n",
    "            actor_logits, value = self.forward(x)\n",
    "            dist = Categorical(F.softmax(actor_logits))\n",
    "            act_logp = dist.log_prob(act)\n",
    "        entropy = dist.entropy().sum(axis=-1)\n",
    "        \n",
    "        return entropy, act_logp, value"
   ]
  },
  {
   "cell_type": "code",
   "execution_count": 4,
   "metadata": {},
   "outputs": [],
   "source": [
    "class PPO():\n",
    "    def __init__(self, gamma, lamb, eps_clip, K_epochs, \\\n",
    "                 observation_space, action_space, num_cells, \\\n",
    "                 actor_lr, critic_lr, memory_size , minibatch_size,\\\n",
    "                 max_training_iter, cal_total_loss, c1, c2, \\\n",
    "                    early_stop, kl_threshold, parameters_hardshare, device\n",
    "                 ):\n",
    "        self.gamma = gamma\n",
    "        self.lamb = lamb\n",
    "        self.eps_clip = eps_clip\n",
    "        self.K_epochs = K_epochs\n",
    "        self.max_training_iter = max_training_iter\n",
    "\n",
    "        self.n_observations = observation_space\n",
    "        self.n_actions = action_space\n",
    "        self.memory_size = memory_size\n",
    "        self.minibatch_size = minibatch_size\n",
    "        \n",
    "        self.cal_total_loss = cal_total_loss\n",
    "        self.c1 = c1\n",
    "        self.c2 = c2\n",
    "        self.early_stop = early_stop\n",
    "        self.kl_threshold = kl_threshold\n",
    "\n",
    "        self.parameters_hardshare = parameters_hardshare\n",
    "        self.episode_count = 0\n",
    "\n",
    "\n",
    "        if isinstance(action_space, Box):\n",
    "            self.continous_action = True\n",
    "        elif isinstance(action_space, Discrete):\n",
    "            self.continous_action = False\n",
    "        else:\n",
    "            raise AssertionError(f\"action space is not valid {action_space}\")\n",
    "\n",
    "\n",
    "        self.observtion_dim = observation_space.shape[0]\n",
    "\n",
    "        # self.actor = Actor_Net(self.observtion_dim, \\\n",
    "        #                        action_space.shape[0] if self.continous_action else action_space.n, \\\n",
    "        #                           num_cells, self.continous_action).to(device)\n",
    "          \n",
    "        # self.critic = Critic_Net(self.observtion_dim, num_cells).to(device)\n",
    "        self.actor_critic = Actor_Critic_net(self.observtion_dim, \\\n",
    "                               action_space.shape[0] if self.continous_action else action_space.n, \\\n",
    "                                  num_cells, self.continous_action, parameters_hardshare).to(device)\n",
    "\n",
    "        # self.actor_opt = torch.optim.Adam(self.actor.parameters(), lr=actor_lr)\n",
    "        # self.critic_opt = torch.optim.Adam(self.critic.parameters(), lr=critic_lr)\n",
    "        if parameters_hardshare:\n",
    "            self.actor_critic_opt = torch.optim.Adam(self.actor_critic.parameters(), lr=actor_lr)\n",
    "            \n",
    "        else:\n",
    "            self.actor_critic_opt = torch.optim.Adam([ \n",
    "                {'params': self.actor_critic.actor.parameters(), 'lr': actor_lr},\n",
    "                {'params': self.actor_critic.critic.parameters(), 'lr': critic_lr} \n",
    "            ])\n",
    "\n",
    "\n",
    "        self.memory = PPOBuffer(observation_space.shape, action_space.shape, memory_size, gamma, lamb)\n",
    "\n",
    "        self.device = device\n",
    "        \n",
    "        # wandb.watch(self.actor, log='all', log_freq=100, idx=1)\n",
    "        # wandb.watch(self.critic, log='all', log_freq=100, idx=2)\n",
    "        wandb.watch(self.actor_critic, log='all', log_freq=100)\n",
    "\n",
    "    def roll_out(self, env):\n",
    "        # TODO: implement multiple thread\n",
    "        # make a new environment instance\n",
    "        \n",
    "\n",
    "        # Maybe a deep copy is necessary for multi-thread processing\n",
    "        obs, _ = env.reset()\n",
    "\n",
    "        ep_reward = 0\n",
    "        \n",
    "\n",
    "        action_shape = env.action_space.shape\n",
    "        # Run the policy for T timestep\n",
    "        for i in tnrange(self.memory_size, desc=\"roll_out\", leave=False):\n",
    "\n",
    "            obs_tensor = torch.tensor(obs, \\\n",
    "                                    dtype=torch.float32, device=self.device).unsqueeze(0)\n",
    "            \n",
    "            # action, action_logprob = self.actor.act(obs_tensor)\n",
    "\n",
    "            # action = action.reshape(action_shape)\n",
    "             \n",
    "            # value = self.critic.forward(obs_tensor).item()\n",
    "            \n",
    "\n",
    "            action, action_logprob, value = self.actor_critic.act(obs_tensor)\n",
    "            \n",
    "            action = action.reshape(action_shape)\n",
    "\n",
    "            next_obs, reward, terminated, truncated, _ = env.step(action)\n",
    "\n",
    "            self.memory.push(obs, action, reward, value, action_logprob)\n",
    "\n",
    "            obs = next_obs\n",
    "\n",
    "            ep_reward += reward\n",
    "\n",
    "            if terminated or truncated:\n",
    "                if truncated:\n",
    "                    # last_value = self.critic.forward(torch.tensor(next_obs, dtype=torch.float32, device=self.device)).item()\n",
    "                    _, last_value = self.actor_critic.forward(torch.tensor(next_obs, dtype=torch.float32, device=self.device))\n",
    "                    last_value = last_value.item()\n",
    "                else:\n",
    "                    last_value = 0\n",
    "\n",
    "                \n",
    "                self.memory.GAE_cal(last_value)\n",
    "          \n",
    "                obs,_ = env.reset()\n",
    "                self.episode_count += 1\n",
    "                wandb.log({'episode_reward':ep_reward})\n",
    "                ep_reward = 0\n",
    "\n",
    "\n",
    "    # def compute_loss(self, data):\n",
    "    #     observations, actions, logp_old = data['obs'], data['act'], data['logp']\n",
    "    #     advs, rtgs = data['adv'], data['rtg']\n",
    "\n",
    "    #     # Calculate the pi_theta (a_t|s_t)\n",
    "    #     entropy, logp = self.actor.logprob_ent_from_state_acton(observations, actions)\n",
    "    #     ratio = torch.exp(logp - logp_old)\n",
    "    #     # Kl approx according to http://joschu.net/blog/kl-approx.html\n",
    "    #     kl_apx = ((ratio - 1) - (logp - logp_old)).mean()\n",
    "    #     wandb.log({'KL approx': kl_apx})\n",
    "    #     clip_advs = torch.clamp(ratio, 1-self.eps_clip, 1+self.eps_clip) * advs\n",
    "    #     # Torch Adam implement tation mius the gradient, to plus the gradient, we need make the loss negative\n",
    "    #     actor_loss = -(torch.min(ratio*advs, clip_advs)).mean()\n",
    "\n",
    "    #     values = self.critic(observations).squeeze()\n",
    "    #     critic_loss = nn.MSELoss()(values, rtgs)\n",
    "\n",
    "    #     entropy_loss = entropy.mean()\n",
    "\n",
    "    #     return actor_loss, critic_loss, entropy_loss, kl_apx\n",
    "\n",
    "    def compute_loss(self, data):\n",
    "        observations, actions, logp_old = data['obs'], data['act'], data['logp']\n",
    "        advs, rtgs = data['adv'], data['rtg']\n",
    "\n",
    "        # Calculate the pi_theta (a_t|s_t)\n",
    "        entropy, logp, values = self.actor_critic.logprob_ent_from_state_acton(observations, actions)\n",
    "        ratio = torch.exp(logp - logp_old)\n",
    "        # Kl approx according to http://joschu.net/blog/kl-approx.html\n",
    "        kl_apx = ((ratio - 1) - (logp - logp_old)).mean()\n",
    "        wandb.log({'KL_approx': kl_apx})\n",
    "        clip_advs = torch.clamp(ratio, 1-self.eps_clip, 1+self.eps_clip) * advs\n",
    "        # Torch Adam implement tation mius the gradient, to plus the gradient, we need make the loss negative\n",
    "        actor_loss = -(torch.min(ratio*advs, clip_advs)).mean()\n",
    "\n",
    "        values = values.squeeze()\n",
    "\n",
    "        critic_loss = nn.MSELoss()(values, rtgs)\n",
    "        # critic_loss = ((values - rtgs) ** 2).mean()\n",
    "\n",
    "        wandb.log({'values_mean': values.mean(), 'rtgs_mean': rtgs.mean()})\n",
    "\n",
    "        entropy_loss = entropy.mean()\n",
    "\n",
    "        return actor_loss, critic_loss, entropy_loss, kl_apx        \n",
    "\n",
    "    def optimise(self):\n",
    "\n",
    "        data = self.memory.sample(self.minibatch_size, self.device)\n",
    "\n",
    "        early_stop_count = 0\n",
    "        \n",
    "        # for _ in tnrange(self.K_epochs, desc=f\"epochs\", position=1, leave=False):\n",
    "        for _ in range(self.K_epochs):\n",
    "            \n",
    "            for minibatch in data:\n",
    "            \n",
    "                actor_loss, critic_loss, entropy_loss, kl_apx = self.compute_loss(minibatch)\n",
    "\n",
    "                if self.cal_total_loss:\n",
    "                    total_loss = actor_loss + self.c1 * critic_loss - self.c2 * entropy_loss\n",
    "\n",
    "                # If this update is too big, early stop and try next minibatch\n",
    "                if self.early_stop and kl_apx > self.kl_threshold:\n",
    "                    early_stop_count += 1\n",
    "                    continue\n",
    "\n",
    "                # self.actor_opt.zero_grad()\n",
    "                # self.critic_opt.zero_grad()\n",
    "                # if self.cal_total_loss:\n",
    "                #     wandb.log({'total_loss': total_loss})\n",
    "                #     total_loss.backward()\n",
    "                #     self.actor_opt.step()\n",
    "                #     self.critic_opt.step()\n",
    "                # else:\n",
    "                #     wandb.log({'actor_loss': actor_loss, 'critic_loss': critic_loss})\n",
    "                #     actor_loss.backward()\n",
    "                #     self.actor_opt.step()\n",
    "                #     critic_loss.backward()\n",
    "                #     self.critic_opt.step()\n",
    "                \n",
    "                self.actor_critic_opt.zero_grad()\n",
    "                if self.cal_total_loss:\n",
    "                    wandb.log({'actor_loss': actor_loss, 'critic_loss': critic_loss})\n",
    "                    total_loss.backward()\n",
    "                    self.actor_critic_opt.step()\n",
    "\n",
    "                else:\n",
    "                    wandb.log({'actor_loss': actor_loss, 'critic_loss': critic_loss})\n",
    "                    actor_loss.backward()\n",
    "                    critic_loss.backward()\n",
    "                    self.actor_critic_opt.step()\n",
    "            \n",
    "        wandb.run.summary['early_stop_count'] = early_stop_count    \n",
    "\n",
    "                \n",
    "    def train(self, env):\n",
    "\n",
    "        for i in tnrange(self.max_training_iter // self.memory_size):\n",
    "\n",
    "            self.roll_out(env)\n",
    "\n",
    "            self.optimise()\n",
    "\n",
    "        # save the model to the wandb run folder\n",
    "        # PATH = os.path.join(wandb.run.dir, \"actor_critic.pt\")\n",
    "        # torch.save(self.actor_critic.state_dict(), PATH)\n",
    "\n",
    "        wandb.run.summary['total_episode'] = self.episode_count\n",
    "\n",
    "        \n",
    "    \n",
    "            \n",
    "\n",
    "        \n"
   ]
  },
  {
   "cell_type": "code",
   "execution_count": 5,
   "metadata": {},
   "outputs": [],
   "source": [
    "def main():\n",
    "\n",
    "\n",
    "\n",
    "    device = torch.device(\"cuda\" if torch.cuda.is_available() else \"cpu\")\n",
    "\n",
    "    run = wandb.init(\n",
    "            # project='PPO'\n",
    "        )\n",
    "\n",
    "\n",
    "    # gamma = 0.95\n",
    "    gamma = wandb.config.gamma\n",
    "    # lamb = 0.99\n",
    "    lamb = wandb.config.lam\n",
    "    eps_clip = 0.2\n",
    "    max_training_iter = 1_000_000\n",
    "    # K_epochs = 40\n",
    "    k_epochs = wandb.config.k_epochs\n",
    "    num_cells = 64\n",
    "    # actor_lr = 4e-4 \n",
    "    actor_lr = wandb.config.actor_lr\n",
    "    critic_lr = actor_lr\n",
    "    # critic_lr = wandb.config.critic_lr\n",
    "    # memory_size = 1024\n",
    "    memory_size = wandb.config.memory_size\n",
    "    # minibatch_size = 256\n",
    "    minibatch_size = wandb.config.minibatch_size\n",
    "    \n",
    "    # c1 = 0.5\n",
    "    # c2 = 0.9\n",
    "    kl_threshold = 0.013\n",
    "    c1 = wandb.config.c1\n",
    "    c2 = wandb.config.c2\n",
    "    # kl_threshold = wandb.config.kl_threshold\n",
    "    \n",
    "    env_name = \"HalfCheetah-v4\" # CartPole-v1\n",
    "    # parameters_hardshare = False\n",
    "    # early_stop = True\n",
    "    # cal_total_loss = True\n",
    "    parameters_hardshare = wandb.config.parameters_hardshare\n",
    "    early_stop = wandb.config.early_stop\n",
    "    cal_total_loss = wandb.config.cal_total_loss\n",
    "\n",
    "    seed = 0\n",
    "\n",
    "    wandb.config.update(\n",
    "        {\n",
    "            'actor_lr' : actor_lr,\n",
    "            'critic_lr' : critic_lr,\n",
    "            'gamma' : gamma,\n",
    "            'lambda' : lamb,\n",
    "            'eps_clip' : eps_clip,\n",
    "            'max_training_iter' : max_training_iter,\n",
    "            'k_epochs' : k_epochs,\n",
    "            'hidden_cell_dim' : num_cells,\n",
    "            'memory_size' : memory_size,\n",
    "            'minibatch_size' : minibatch_size,\n",
    "            'cal_total_loss' : cal_total_loss,\n",
    "            'c1' : c1,\n",
    "            'c2' : c2,\n",
    "            'early_stop' : early_stop,\n",
    "            'env_name': env_name,\n",
    "            'kl_threshold' : kl_threshold\n",
    "\n",
    "        }\n",
    "    )\n",
    "\n",
    "    # wandb.define_metric(\"episode_reward\", summary=\"mean\")\n",
    "    wandb.define_metric(\"KL_approx\", summary=\"mean\")\n",
    "        \n",
    "           \n",
    "    env = gym.make(env_name)\n",
    "\n",
    "    # Seeding evaluation purpose\n",
    "    env.action_space.seed(seed)\n",
    "    env.observation_space.seed(seed)\n",
    "    np.random.seed(seed)\n",
    "    torch.manual_seed(seed)\n",
    "\n",
    "    my_ppo = PPO(gamma, lamb, eps_clip, k_epochs, env.observation_space, env.action_space, num_cells,\\\n",
    "                 actor_lr, critic_lr, memory_size, minibatch_size, max_training_iter, \\\n",
    "                 cal_total_loss, c1, c2, early_stop, kl_threshold, parameters_hardshare, device)\n",
    "    \n",
    "    my_ppo.train(env)\n",
    "\n",
    "    env.close()\n",
    "    run.finish()"
   ]
  },
  {
   "cell_type": "code",
   "execution_count": 6,
   "metadata": {},
   "outputs": [],
   "source": [
    "# %%wandb\n",
    "# main()"
   ]
  },
  {
   "cell_type": "markdown",
   "metadata": {},
   "source": [
    "### Sweep for HalfCheetah\n",
    "#### Continous action space"
   ]
  },
  {
   "cell_type": "code",
   "execution_count": 7,
   "metadata": {},
   "outputs": [
    {
     "name": "stderr",
     "output_type": "stream",
     "text": [
      "Failed to detect the name of this notebook, you can set it manually with the WANDB_NOTEBOOK_NAME environment variable to enable code saving.\n"
     ]
    },
    {
     "name": "stdout",
     "output_type": "stream",
     "text": [
      "env: \"WANDB_NOTEBOOK_NAME\"=\"PPO_GYM\"\n",
      "Create sweep with ID: zvnkto69\n",
      "Sweep URL: https://wandb.ai/tcd-clearway/PPO-HalfCheetah-v2/sweeps/zvnkto69\n"
     ]
    },
    {
     "name": "stderr",
     "output_type": "stream",
     "text": [
      "\u001b[34m\u001b[1mwandb\u001b[0m: Agent Starting Run: plk7tszp with config:\n",
      "\u001b[34m\u001b[1mwandb\u001b[0m: \tactor_lr: 0.0003\n",
      "\u001b[34m\u001b[1mwandb\u001b[0m: \tc1: 0.5\n",
      "\u001b[34m\u001b[1mwandb\u001b[0m: \tc2: 0\n",
      "\u001b[34m\u001b[1mwandb\u001b[0m: \tcal_total_loss: False\n",
      "\u001b[34m\u001b[1mwandb\u001b[0m: \tearly_stop: False\n",
      "\u001b[34m\u001b[1mwandb\u001b[0m: \tgamma: 0.99\n",
      "\u001b[34m\u001b[1mwandb\u001b[0m: \tk_epochs: 10\n",
      "\u001b[34m\u001b[1mwandb\u001b[0m: \tlam: 0.95\n",
      "\u001b[34m\u001b[1mwandb\u001b[0m: \tmemory_size: 2048\n",
      "\u001b[34m\u001b[1mwandb\u001b[0m: \tminibatch_size: 64\n",
      "\u001b[34m\u001b[1mwandb\u001b[0m: \tparameters_hardshare: False\n",
      "Failed to detect the name of this notebook, you can set it manually with the WANDB_NOTEBOOK_NAME environment variable to enable code saving.\n",
      "\u001b[34m\u001b[1mwandb\u001b[0m: Currently logged in as: \u001b[33mstan-wenlong-wang\u001b[0m (\u001b[33mtcd-clearway\u001b[0m). Use \u001b[1m`wandb login --relogin`\u001b[0m to force relogin\n"
     ]
    },
    {
     "data": {
      "text/html": [
       "wandb version 0.15.6 is available!  To upgrade, please run:\n",
       " $ pip install wandb --upgrade"
      ],
      "text/plain": [
       "<IPython.core.display.HTML object>"
      ]
     },
     "metadata": {},
     "output_type": "display_data"
    },
    {
     "data": {
      "text/html": [
       "Tracking run with wandb version 0.15.5"
      ],
      "text/plain": [
       "<IPython.core.display.HTML object>"
      ]
     },
     "metadata": {},
     "output_type": "display_data"
    },
    {
     "data": {
      "text/html": [
       "Run data is saved locally in <code>/home/sky/Desktop/ppo-main/wandb/run-20230725_100232-plk7tszp</code>"
      ],
      "text/plain": [
       "<IPython.core.display.HTML object>"
      ]
     },
     "metadata": {},
     "output_type": "display_data"
    },
    {
     "data": {
      "text/html": [
       "Syncing run <strong><a href='https://wandb.ai/tcd-clearway/PPO-HalfCheetah-v2/runs/plk7tszp' target=\"_blank\">skilled-sweep-1</a></strong> to <a href='https://wandb.ai/tcd-clearway/PPO-HalfCheetah-v2' target=\"_blank\">Weights & Biases</a> (<a href='https://wandb.me/run' target=\"_blank\">docs</a>)<br/>Sweep page: <a href='https://wandb.ai/tcd-clearway/PPO-HalfCheetah-v2/sweeps/zvnkto69' target=\"_blank\">https://wandb.ai/tcd-clearway/PPO-HalfCheetah-v2/sweeps/zvnkto69</a>"
      ],
      "text/plain": [
       "<IPython.core.display.HTML object>"
      ]
     },
     "metadata": {},
     "output_type": "display_data"
    },
    {
     "data": {
      "text/html": [
       " View project at <a href='https://wandb.ai/tcd-clearway/PPO-HalfCheetah-v2' target=\"_blank\">https://wandb.ai/tcd-clearway/PPO-HalfCheetah-v2</a>"
      ],
      "text/plain": [
       "<IPython.core.display.HTML object>"
      ]
     },
     "metadata": {},
     "output_type": "display_data"
    },
    {
     "data": {
      "text/html": [
       " View sweep at <a href='https://wandb.ai/tcd-clearway/PPO-HalfCheetah-v2/sweeps/zvnkto69' target=\"_blank\">https://wandb.ai/tcd-clearway/PPO-HalfCheetah-v2/sweeps/zvnkto69</a>"
      ],
      "text/plain": [
       "<IPython.core.display.HTML object>"
      ]
     },
     "metadata": {},
     "output_type": "display_data"
    },
    {
     "data": {
      "text/html": [
       " View run at <a href='https://wandb.ai/tcd-clearway/PPO-HalfCheetah-v2/runs/plk7tszp' target=\"_blank\">https://wandb.ai/tcd-clearway/PPO-HalfCheetah-v2/runs/plk7tszp</a>"
      ],
      "text/plain": [
       "<IPython.core.display.HTML object>"
      ]
     },
     "metadata": {},
     "output_type": "display_data"
    },
    {
     "name": "stderr",
     "output_type": "stream",
     "text": [
      "\u001b[34m\u001b[1mwandb\u001b[0m: \u001b[33mWARNING\u001b[0m Config item 'actor_lr' was locked by 'sweep' (ignored update).\n",
      "\u001b[34m\u001b[1mwandb\u001b[0m: \u001b[33mWARNING\u001b[0m Config item 'gamma' was locked by 'sweep' (ignored update).\n",
      "\u001b[34m\u001b[1mwandb\u001b[0m: \u001b[33mWARNING\u001b[0m Config item 'k_epochs' was locked by 'sweep' (ignored update).\n",
      "\u001b[34m\u001b[1mwandb\u001b[0m: \u001b[33mWARNING\u001b[0m Config item 'memory_size' was locked by 'sweep' (ignored update).\n",
      "\u001b[34m\u001b[1mwandb\u001b[0m: \u001b[33mWARNING\u001b[0m Config item 'minibatch_size' was locked by 'sweep' (ignored update).\n",
      "\u001b[34m\u001b[1mwandb\u001b[0m: \u001b[33mWARNING\u001b[0m Config item 'cal_total_loss' was locked by 'sweep' (ignored update).\n",
      "\u001b[34m\u001b[1mwandb\u001b[0m: \u001b[33mWARNING\u001b[0m Config item 'c1' was locked by 'sweep' (ignored update).\n",
      "\u001b[34m\u001b[1mwandb\u001b[0m: \u001b[33mWARNING\u001b[0m Config item 'c2' was locked by 'sweep' (ignored update).\n",
      "\u001b[34m\u001b[1mwandb\u001b[0m: \u001b[33mWARNING\u001b[0m Config item 'early_stop' was locked by 'sweep' (ignored update).\n"
     ]
    },
    {
     "data": {
      "application/vnd.jupyter.widget-view+json": {
       "model_id": "8aa5ad2c932f45318786463bad8251ae",
       "version_major": 2,
       "version_minor": 0
      },
      "text/plain": [
       "  0%|          | 0/488 [00:00<?, ?it/s]"
      ]
     },
     "metadata": {},
     "output_type": "display_data"
    },
    {
     "data": {
      "application/vnd.jupyter.widget-view+json": {
       "model_id": "90baa909ae0d4a50abf61a267d46e844",
       "version_major": 2,
       "version_minor": 0
      },
      "text/plain": [
       "roll_out:   0%|          | 0/2048 [00:00<?, ?it/s]"
      ]
     },
     "metadata": {},
     "output_type": "display_data"
    },
    {
     "data": {
      "application/vnd.jupyter.widget-view+json": {
       "model_id": "33ec397b81e94a489cfc5ac33d974dcb",
       "version_major": 2,
       "version_minor": 0
      },
      "text/plain": [
       "roll_out:   0%|          | 0/2048 [00:00<?, ?it/s]"
      ]
     },
     "metadata": {},
     "output_type": "display_data"
    },
    {
     "data": {
      "application/vnd.jupyter.widget-view+json": {
       "model_id": "4554ce073f9f46ed9f09e7c80324a624",
       "version_major": 2,
       "version_minor": 0
      },
      "text/plain": [
       "roll_out:   0%|          | 0/2048 [00:00<?, ?it/s]"
      ]
     },
     "metadata": {},
     "output_type": "display_data"
    },
    {
     "data": {
      "application/vnd.jupyter.widget-view+json": {
       "model_id": "99f00acd4ca24192916eddb4abbae2d1",
       "version_major": 2,
       "version_minor": 0
      },
      "text/plain": [
       "roll_out:   0%|          | 0/2048 [00:00<?, ?it/s]"
      ]
     },
     "metadata": {},
     "output_type": "display_data"
    },
    {
     "data": {
      "application/vnd.jupyter.widget-view+json": {
       "model_id": "69ab722844c047a891d9bd075265fff7",
       "version_major": 2,
       "version_minor": 0
      },
      "text/plain": [
       "roll_out:   0%|          | 0/2048 [00:00<?, ?it/s]"
      ]
     },
     "metadata": {},
     "output_type": "display_data"
    },
    {
     "data": {
      "application/vnd.jupyter.widget-view+json": {
       "model_id": "7afcb01a690e468cb2193890480cc0e7",
       "version_major": 2,
       "version_minor": 0
      },
      "text/plain": [
       "roll_out:   0%|          | 0/2048 [00:00<?, ?it/s]"
      ]
     },
     "metadata": {},
     "output_type": "display_data"
    },
    {
     "data": {
      "application/vnd.jupyter.widget-view+json": {
       "model_id": "decdabdf9a8f4d8abe973ee41a7fff74",
       "version_major": 2,
       "version_minor": 0
      },
      "text/plain": [
       "roll_out:   0%|          | 0/2048 [00:00<?, ?it/s]"
      ]
     },
     "metadata": {},
     "output_type": "display_data"
    },
    {
     "data": {
      "application/vnd.jupyter.widget-view+json": {
       "model_id": "149a7db06f874705bbb9acfc36aac06d",
       "version_major": 2,
       "version_minor": 0
      },
      "text/plain": [
       "roll_out:   0%|          | 0/2048 [00:00<?, ?it/s]"
      ]
     },
     "metadata": {},
     "output_type": "display_data"
    },
    {
     "data": {
      "application/vnd.jupyter.widget-view+json": {
       "model_id": "f52fd088c7b64337a57977d39128fc54",
       "version_major": 2,
       "version_minor": 0
      },
      "text/plain": [
       "roll_out:   0%|          | 0/2048 [00:00<?, ?it/s]"
      ]
     },
     "metadata": {},
     "output_type": "display_data"
    },
    {
     "data": {
      "application/vnd.jupyter.widget-view+json": {
       "model_id": "6d48b4283503450689132cebbbe93286",
       "version_major": 2,
       "version_minor": 0
      },
      "text/plain": [
       "roll_out:   0%|          | 0/2048 [00:00<?, ?it/s]"
      ]
     },
     "metadata": {},
     "output_type": "display_data"
    },
    {
     "data": {
      "application/vnd.jupyter.widget-view+json": {
       "model_id": "17862e8479cd4d34b2f9ce52b4b17f8c",
       "version_major": 2,
       "version_minor": 0
      },
      "text/plain": [
       "roll_out:   0%|          | 0/2048 [00:00<?, ?it/s]"
      ]
     },
     "metadata": {},
     "output_type": "display_data"
    },
    {
     "data": {
      "application/vnd.jupyter.widget-view+json": {
       "model_id": "937044ecdc5e47da93b6c9db4a28a882",
       "version_major": 2,
       "version_minor": 0
      },
      "text/plain": [
       "roll_out:   0%|          | 0/2048 [00:00<?, ?it/s]"
      ]
     },
     "metadata": {},
     "output_type": "display_data"
    },
    {
     "data": {
      "application/vnd.jupyter.widget-view+json": {
       "model_id": "3e1ef09e0cf947a6a18484e0b2e7679a",
       "version_major": 2,
       "version_minor": 0
      },
      "text/plain": [
       "roll_out:   0%|          | 0/2048 [00:00<?, ?it/s]"
      ]
     },
     "metadata": {},
     "output_type": "display_data"
    },
    {
     "data": {
      "application/vnd.jupyter.widget-view+json": {
       "model_id": "1c108a07aba34e62a33d179d372f7231",
       "version_major": 2,
       "version_minor": 0
      },
      "text/plain": [
       "roll_out:   0%|          | 0/2048 [00:00<?, ?it/s]"
      ]
     },
     "metadata": {},
     "output_type": "display_data"
    },
    {
     "data": {
      "application/vnd.jupyter.widget-view+json": {
       "model_id": "dfb6486b98114c818028af07478aabfb",
       "version_major": 2,
       "version_minor": 0
      },
      "text/plain": [
       "roll_out:   0%|          | 0/2048 [00:00<?, ?it/s]"
      ]
     },
     "metadata": {},
     "output_type": "display_data"
    },
    {
     "data": {
      "application/vnd.jupyter.widget-view+json": {
       "model_id": "80679b1521c342f48c2bb835a16bd08a",
       "version_major": 2,
       "version_minor": 0
      },
      "text/plain": [
       "roll_out:   0%|          | 0/2048 [00:00<?, ?it/s]"
      ]
     },
     "metadata": {},
     "output_type": "display_data"
    },
    {
     "data": {
      "application/vnd.jupyter.widget-view+json": {
       "model_id": "befe89bc473f460eb26e002115895601",
       "version_major": 2,
       "version_minor": 0
      },
      "text/plain": [
       "roll_out:   0%|          | 0/2048 [00:00<?, ?it/s]"
      ]
     },
     "metadata": {},
     "output_type": "display_data"
    },
    {
     "data": {
      "application/vnd.jupyter.widget-view+json": {
       "model_id": "141e1ad34cb94c2d9181cb9afd113a09",
       "version_major": 2,
       "version_minor": 0
      },
      "text/plain": [
       "roll_out:   0%|          | 0/2048 [00:00<?, ?it/s]"
      ]
     },
     "metadata": {},
     "output_type": "display_data"
    },
    {
     "data": {
      "application/vnd.jupyter.widget-view+json": {
       "model_id": "df17be1041094b5eb0399dbdc961f9fc",
       "version_major": 2,
       "version_minor": 0
      },
      "text/plain": [
       "roll_out:   0%|          | 0/2048 [00:00<?, ?it/s]"
      ]
     },
     "metadata": {},
     "output_type": "display_data"
    },
    {
     "data": {
      "application/vnd.jupyter.widget-view+json": {
       "model_id": "759750a5d3df4234b6b52d2c8158972c",
       "version_major": 2,
       "version_minor": 0
      },
      "text/plain": [
       "roll_out:   0%|          | 0/2048 [00:00<?, ?it/s]"
      ]
     },
     "metadata": {},
     "output_type": "display_data"
    },
    {
     "data": {
      "application/vnd.jupyter.widget-view+json": {
       "model_id": "a9714110d2114f5fbf9661563a93dff4",
       "version_major": 2,
       "version_minor": 0
      },
      "text/plain": [
       "roll_out:   0%|          | 0/2048 [00:00<?, ?it/s]"
      ]
     },
     "metadata": {},
     "output_type": "display_data"
    },
    {
     "data": {
      "application/vnd.jupyter.widget-view+json": {
       "model_id": "0411feb04f714414bd295e38fc927b33",
       "version_major": 2,
       "version_minor": 0
      },
      "text/plain": [
       "roll_out:   0%|          | 0/2048 [00:00<?, ?it/s]"
      ]
     },
     "metadata": {},
     "output_type": "display_data"
    },
    {
     "data": {
      "application/vnd.jupyter.widget-view+json": {
       "model_id": "d3acfbfe8d914075a57366f66e4fa569",
       "version_major": 2,
       "version_minor": 0
      },
      "text/plain": [
       "roll_out:   0%|          | 0/2048 [00:00<?, ?it/s]"
      ]
     },
     "metadata": {},
     "output_type": "display_data"
    },
    {
     "data": {
      "application/vnd.jupyter.widget-view+json": {
       "model_id": "ebb8b7a6f82842339bdb05b2ae3cfa93",
       "version_major": 2,
       "version_minor": 0
      },
      "text/plain": [
       "roll_out:   0%|          | 0/2048 [00:00<?, ?it/s]"
      ]
     },
     "metadata": {},
     "output_type": "display_data"
    },
    {
     "data": {
      "application/vnd.jupyter.widget-view+json": {
       "model_id": "666aa03f10804632907a8ba8791bbc42",
       "version_major": 2,
       "version_minor": 0
      },
      "text/plain": [
       "roll_out:   0%|          | 0/2048 [00:00<?, ?it/s]"
      ]
     },
     "metadata": {},
     "output_type": "display_data"
    },
    {
     "data": {
      "application/vnd.jupyter.widget-view+json": {
       "model_id": "d0bbc4ee978a4ce9be1bc4d3ce5f5afc",
       "version_major": 2,
       "version_minor": 0
      },
      "text/plain": [
       "roll_out:   0%|          | 0/2048 [00:00<?, ?it/s]"
      ]
     },
     "metadata": {},
     "output_type": "display_data"
    },
    {
     "data": {
      "application/vnd.jupyter.widget-view+json": {
       "model_id": "da8022ef90244027b8bc1429216c32b6",
       "version_major": 2,
       "version_minor": 0
      },
      "text/plain": [
       "roll_out:   0%|          | 0/2048 [00:00<?, ?it/s]"
      ]
     },
     "metadata": {},
     "output_type": "display_data"
    },
    {
     "data": {
      "application/vnd.jupyter.widget-view+json": {
       "model_id": "8cd27a451ba147058384357893e18bf1",
       "version_major": 2,
       "version_minor": 0
      },
      "text/plain": [
       "roll_out:   0%|          | 0/2048 [00:00<?, ?it/s]"
      ]
     },
     "metadata": {},
     "output_type": "display_data"
    },
    {
     "data": {
      "application/vnd.jupyter.widget-view+json": {
       "model_id": "8c5e7b89ae614ac992735eff21e6b7f6",
       "version_major": 2,
       "version_minor": 0
      },
      "text/plain": [
       "roll_out:   0%|          | 0/2048 [00:00<?, ?it/s]"
      ]
     },
     "metadata": {},
     "output_type": "display_data"
    },
    {
     "data": {
      "application/vnd.jupyter.widget-view+json": {
       "model_id": "3d57dfcc8b9d4e6baf5ddb69c28f5ef4",
       "version_major": 2,
       "version_minor": 0
      },
      "text/plain": [
       "roll_out:   0%|          | 0/2048 [00:00<?, ?it/s]"
      ]
     },
     "metadata": {},
     "output_type": "display_data"
    },
    {
     "data": {
      "application/vnd.jupyter.widget-view+json": {
       "model_id": "84c9580ea4de40c09605e2e8b69ab6e5",
       "version_major": 2,
       "version_minor": 0
      },
      "text/plain": [
       "roll_out:   0%|          | 0/2048 [00:00<?, ?it/s]"
      ]
     },
     "metadata": {},
     "output_type": "display_data"
    },
    {
     "data": {
      "application/vnd.jupyter.widget-view+json": {
       "model_id": "855ed8d9c57a4f9fa8018fce1f149879",
       "version_major": 2,
       "version_minor": 0
      },
      "text/plain": [
       "roll_out:   0%|          | 0/2048 [00:00<?, ?it/s]"
      ]
     },
     "metadata": {},
     "output_type": "display_data"
    },
    {
     "data": {
      "application/vnd.jupyter.widget-view+json": {
       "model_id": "5b8858f0b94444838df019aec1a4323c",
       "version_major": 2,
       "version_minor": 0
      },
      "text/plain": [
       "roll_out:   0%|          | 0/2048 [00:00<?, ?it/s]"
      ]
     },
     "metadata": {},
     "output_type": "display_data"
    },
    {
     "data": {
      "application/vnd.jupyter.widget-view+json": {
       "model_id": "a4b1cea66cc649eb952ca9ef67ce6294",
       "version_major": 2,
       "version_minor": 0
      },
      "text/plain": [
       "roll_out:   0%|          | 0/2048 [00:00<?, ?it/s]"
      ]
     },
     "metadata": {},
     "output_type": "display_data"
    },
    {
     "data": {
      "application/vnd.jupyter.widget-view+json": {
       "model_id": "ec6b896a3a2140518ea8f8c4896e3740",
       "version_major": 2,
       "version_minor": 0
      },
      "text/plain": [
       "roll_out:   0%|          | 0/2048 [00:00<?, ?it/s]"
      ]
     },
     "metadata": {},
     "output_type": "display_data"
    },
    {
     "data": {
      "application/vnd.jupyter.widget-view+json": {
       "model_id": "d12a3bfb03f44f819b2ba7bdde6c6cb1",
       "version_major": 2,
       "version_minor": 0
      },
      "text/plain": [
       "roll_out:   0%|          | 0/2048 [00:00<?, ?it/s]"
      ]
     },
     "metadata": {},
     "output_type": "display_data"
    },
    {
     "data": {
      "application/vnd.jupyter.widget-view+json": {
       "model_id": "0f8d41f2dc5c4603a1876efee5c8b6ac",
       "version_major": 2,
       "version_minor": 0
      },
      "text/plain": [
       "roll_out:   0%|          | 0/2048 [00:00<?, ?it/s]"
      ]
     },
     "metadata": {},
     "output_type": "display_data"
    },
    {
     "data": {
      "application/vnd.jupyter.widget-view+json": {
       "model_id": "187ce219f50b40efaf72b07c22f45201",
       "version_major": 2,
       "version_minor": 0
      },
      "text/plain": [
       "roll_out:   0%|          | 0/2048 [00:00<?, ?it/s]"
      ]
     },
     "metadata": {},
     "output_type": "display_data"
    },
    {
     "data": {
      "application/vnd.jupyter.widget-view+json": {
       "model_id": "1582698500454d0fb1a56157e07603da",
       "version_major": 2,
       "version_minor": 0
      },
      "text/plain": [
       "roll_out:   0%|          | 0/2048 [00:00<?, ?it/s]"
      ]
     },
     "metadata": {},
     "output_type": "display_data"
    },
    {
     "data": {
      "application/vnd.jupyter.widget-view+json": {
       "model_id": "d28c8d6cda274796af0513203494b6c4",
       "version_major": 2,
       "version_minor": 0
      },
      "text/plain": [
       "roll_out:   0%|          | 0/2048 [00:00<?, ?it/s]"
      ]
     },
     "metadata": {},
     "output_type": "display_data"
    },
    {
     "data": {
      "application/vnd.jupyter.widget-view+json": {
       "model_id": "f15710cbe01d4f10bed391aa32604ea3",
       "version_major": 2,
       "version_minor": 0
      },
      "text/plain": [
       "roll_out:   0%|          | 0/2048 [00:00<?, ?it/s]"
      ]
     },
     "metadata": {},
     "output_type": "display_data"
    },
    {
     "data": {
      "application/vnd.jupyter.widget-view+json": {
       "model_id": "acb34c40b10c4d1fb23366e4aab7d80e",
       "version_major": 2,
       "version_minor": 0
      },
      "text/plain": [
       "roll_out:   0%|          | 0/2048 [00:00<?, ?it/s]"
      ]
     },
     "metadata": {},
     "output_type": "display_data"
    },
    {
     "data": {
      "application/vnd.jupyter.widget-view+json": {
       "model_id": "b73d33a0ceac4d89b3fb0287563612fe",
       "version_major": 2,
       "version_minor": 0
      },
      "text/plain": [
       "roll_out:   0%|          | 0/2048 [00:00<?, ?it/s]"
      ]
     },
     "metadata": {},
     "output_type": "display_data"
    },
    {
     "data": {
      "application/vnd.jupyter.widget-view+json": {
       "model_id": "f7713ac5ca9b4e85b20ba499e95a5239",
       "version_major": 2,
       "version_minor": 0
      },
      "text/plain": [
       "roll_out:   0%|          | 0/2048 [00:00<?, ?it/s]"
      ]
     },
     "metadata": {},
     "output_type": "display_data"
    },
    {
     "data": {
      "application/vnd.jupyter.widget-view+json": {
       "model_id": "e67ad014b0264169b03133375ae9e6f6",
       "version_major": 2,
       "version_minor": 0
      },
      "text/plain": [
       "roll_out:   0%|          | 0/2048 [00:00<?, ?it/s]"
      ]
     },
     "metadata": {},
     "output_type": "display_data"
    },
    {
     "data": {
      "application/vnd.jupyter.widget-view+json": {
       "model_id": "6af154014fb8477086dc0001ce8434da",
       "version_major": 2,
       "version_minor": 0
      },
      "text/plain": [
       "roll_out:   0%|          | 0/2048 [00:00<?, ?it/s]"
      ]
     },
     "metadata": {},
     "output_type": "display_data"
    },
    {
     "data": {
      "application/vnd.jupyter.widget-view+json": {
       "model_id": "ba619b07f37b4f849b4e021afd461331",
       "version_major": 2,
       "version_minor": 0
      },
      "text/plain": [
       "roll_out:   0%|          | 0/2048 [00:00<?, ?it/s]"
      ]
     },
     "metadata": {},
     "output_type": "display_data"
    },
    {
     "data": {
      "application/vnd.jupyter.widget-view+json": {
       "model_id": "8badce4271914b87bd5ee5f7c32f4117",
       "version_major": 2,
       "version_minor": 0
      },
      "text/plain": [
       "roll_out:   0%|          | 0/2048 [00:00<?, ?it/s]"
      ]
     },
     "metadata": {},
     "output_type": "display_data"
    },
    {
     "data": {
      "application/vnd.jupyter.widget-view+json": {
       "model_id": "baddf840f91d463da1423fb45ecc48cd",
       "version_major": 2,
       "version_minor": 0
      },
      "text/plain": [
       "roll_out:   0%|          | 0/2048 [00:00<?, ?it/s]"
      ]
     },
     "metadata": {},
     "output_type": "display_data"
    },
    {
     "data": {
      "application/vnd.jupyter.widget-view+json": {
       "model_id": "bebf636063a54b0099561d2bb9181933",
       "version_major": 2,
       "version_minor": 0
      },
      "text/plain": [
       "roll_out:   0%|          | 0/2048 [00:00<?, ?it/s]"
      ]
     },
     "metadata": {},
     "output_type": "display_data"
    },
    {
     "data": {
      "application/vnd.jupyter.widget-view+json": {
       "model_id": "c5f31f043e224abf90daeddaf7597800",
       "version_major": 2,
       "version_minor": 0
      },
      "text/plain": [
       "roll_out:   0%|          | 0/2048 [00:00<?, ?it/s]"
      ]
     },
     "metadata": {},
     "output_type": "display_data"
    },
    {
     "data": {
      "application/vnd.jupyter.widget-view+json": {
       "model_id": "e9798a5023854ac7af641ea466982dcf",
       "version_major": 2,
       "version_minor": 0
      },
      "text/plain": [
       "roll_out:   0%|          | 0/2048 [00:00<?, ?it/s]"
      ]
     },
     "metadata": {},
     "output_type": "display_data"
    },
    {
     "data": {
      "application/vnd.jupyter.widget-view+json": {
       "model_id": "7239f51dc5e84c87944d3734bb8f9ae1",
       "version_major": 2,
       "version_minor": 0
      },
      "text/plain": [
       "roll_out:   0%|          | 0/2048 [00:00<?, ?it/s]"
      ]
     },
     "metadata": {},
     "output_type": "display_data"
    },
    {
     "data": {
      "application/vnd.jupyter.widget-view+json": {
       "model_id": "3e5454e179084deba618f9ac489f3ba0",
       "version_major": 2,
       "version_minor": 0
      },
      "text/plain": [
       "roll_out:   0%|          | 0/2048 [00:00<?, ?it/s]"
      ]
     },
     "metadata": {},
     "output_type": "display_data"
    },
    {
     "data": {
      "application/vnd.jupyter.widget-view+json": {
       "model_id": "7ab0e06205c944d0b0f9e15951f22ea1",
       "version_major": 2,
       "version_minor": 0
      },
      "text/plain": [
       "roll_out:   0%|          | 0/2048 [00:00<?, ?it/s]"
      ]
     },
     "metadata": {},
     "output_type": "display_data"
    },
    {
     "data": {
      "application/vnd.jupyter.widget-view+json": {
       "model_id": "bef50479a84a46d7b99d230170764de4",
       "version_major": 2,
       "version_minor": 0
      },
      "text/plain": [
       "roll_out:   0%|          | 0/2048 [00:00<?, ?it/s]"
      ]
     },
     "metadata": {},
     "output_type": "display_data"
    },
    {
     "data": {
      "application/vnd.jupyter.widget-view+json": {
       "model_id": "7a9973abb3f84709a89a2a2a8f312f80",
       "version_major": 2,
       "version_minor": 0
      },
      "text/plain": [
       "roll_out:   0%|          | 0/2048 [00:00<?, ?it/s]"
      ]
     },
     "metadata": {},
     "output_type": "display_data"
    },
    {
     "data": {
      "application/vnd.jupyter.widget-view+json": {
       "model_id": "b4a4a6cd0a1d4bf5a501a41a68e31326",
       "version_major": 2,
       "version_minor": 0
      },
      "text/plain": [
       "roll_out:   0%|          | 0/2048 [00:00<?, ?it/s]"
      ]
     },
     "metadata": {},
     "output_type": "display_data"
    },
    {
     "data": {
      "application/vnd.jupyter.widget-view+json": {
       "model_id": "427df07b70ee46309e890e0214c16ea4",
       "version_major": 2,
       "version_minor": 0
      },
      "text/plain": [
       "roll_out:   0%|          | 0/2048 [00:00<?, ?it/s]"
      ]
     },
     "metadata": {},
     "output_type": "display_data"
    },
    {
     "data": {
      "application/vnd.jupyter.widget-view+json": {
       "model_id": "466696c5e020420a8c558e0bf44112e2",
       "version_major": 2,
       "version_minor": 0
      },
      "text/plain": [
       "roll_out:   0%|          | 0/2048 [00:00<?, ?it/s]"
      ]
     },
     "metadata": {},
     "output_type": "display_data"
    },
    {
     "data": {
      "application/vnd.jupyter.widget-view+json": {
       "model_id": "c298784592f6405f87da98339e6e9e84",
       "version_major": 2,
       "version_minor": 0
      },
      "text/plain": [
       "roll_out:   0%|          | 0/2048 [00:00<?, ?it/s]"
      ]
     },
     "metadata": {},
     "output_type": "display_data"
    },
    {
     "data": {
      "application/vnd.jupyter.widget-view+json": {
       "model_id": "608a7735fa1d41159d9a7a50f4e2ac3d",
       "version_major": 2,
       "version_minor": 0
      },
      "text/plain": [
       "roll_out:   0%|          | 0/2048 [00:00<?, ?it/s]"
      ]
     },
     "metadata": {},
     "output_type": "display_data"
    },
    {
     "data": {
      "application/vnd.jupyter.widget-view+json": {
       "model_id": "08e2f14404b24f389a60849711fae912",
       "version_major": 2,
       "version_minor": 0
      },
      "text/plain": [
       "roll_out:   0%|          | 0/2048 [00:00<?, ?it/s]"
      ]
     },
     "metadata": {},
     "output_type": "display_data"
    },
    {
     "data": {
      "application/vnd.jupyter.widget-view+json": {
       "model_id": "c35e5bb1687945d78564514b0c47fd91",
       "version_major": 2,
       "version_minor": 0
      },
      "text/plain": [
       "roll_out:   0%|          | 0/2048 [00:00<?, ?it/s]"
      ]
     },
     "metadata": {},
     "output_type": "display_data"
    },
    {
     "data": {
      "application/vnd.jupyter.widget-view+json": {
       "model_id": "96b21fa2617d4a2da2a7ee7459a5534f",
       "version_major": 2,
       "version_minor": 0
      },
      "text/plain": [
       "roll_out:   0%|          | 0/2048 [00:00<?, ?it/s]"
      ]
     },
     "metadata": {},
     "output_type": "display_data"
    },
    {
     "data": {
      "application/vnd.jupyter.widget-view+json": {
       "model_id": "4e9f0017995c4f478415eb9aa2615b15",
       "version_major": 2,
       "version_minor": 0
      },
      "text/plain": [
       "roll_out:   0%|          | 0/2048 [00:00<?, ?it/s]"
      ]
     },
     "metadata": {},
     "output_type": "display_data"
    },
    {
     "data": {
      "application/vnd.jupyter.widget-view+json": {
       "model_id": "a111835582034de9847a839ce4668a4c",
       "version_major": 2,
       "version_minor": 0
      },
      "text/plain": [
       "roll_out:   0%|          | 0/2048 [00:00<?, ?it/s]"
      ]
     },
     "metadata": {},
     "output_type": "display_data"
    },
    {
     "data": {
      "application/vnd.jupyter.widget-view+json": {
       "model_id": "de3b574f01704b7bb3bebe8fa14c6367",
       "version_major": 2,
       "version_minor": 0
      },
      "text/plain": [
       "roll_out:   0%|          | 0/2048 [00:00<?, ?it/s]"
      ]
     },
     "metadata": {},
     "output_type": "display_data"
    },
    {
     "data": {
      "application/vnd.jupyter.widget-view+json": {
       "model_id": "2fd31b3c712147de931cc1e5f9c59a27",
       "version_major": 2,
       "version_minor": 0
      },
      "text/plain": [
       "roll_out:   0%|          | 0/2048 [00:00<?, ?it/s]"
      ]
     },
     "metadata": {},
     "output_type": "display_data"
    },
    {
     "data": {
      "application/vnd.jupyter.widget-view+json": {
       "model_id": "0bc671d904d748349d2951299cc7dcbc",
       "version_major": 2,
       "version_minor": 0
      },
      "text/plain": [
       "roll_out:   0%|          | 0/2048 [00:00<?, ?it/s]"
      ]
     },
     "metadata": {},
     "output_type": "display_data"
    },
    {
     "data": {
      "application/vnd.jupyter.widget-view+json": {
       "model_id": "80925fc31a1a43008c8cca8e5b56a33d",
       "version_major": 2,
       "version_minor": 0
      },
      "text/plain": [
       "roll_out:   0%|          | 0/2048 [00:00<?, ?it/s]"
      ]
     },
     "metadata": {},
     "output_type": "display_data"
    },
    {
     "data": {
      "application/vnd.jupyter.widget-view+json": {
       "model_id": "9fc5c47820f14220a4dd9c69276b8454",
       "version_major": 2,
       "version_minor": 0
      },
      "text/plain": [
       "roll_out:   0%|          | 0/2048 [00:00<?, ?it/s]"
      ]
     },
     "metadata": {},
     "output_type": "display_data"
    },
    {
     "data": {
      "application/vnd.jupyter.widget-view+json": {
       "model_id": "b8730eea79214a0787f9424fa2f2ca18",
       "version_major": 2,
       "version_minor": 0
      },
      "text/plain": [
       "roll_out:   0%|          | 0/2048 [00:00<?, ?it/s]"
      ]
     },
     "metadata": {},
     "output_type": "display_data"
    },
    {
     "data": {
      "application/vnd.jupyter.widget-view+json": {
       "model_id": "15020de6390b4df48665e5ad081c94c6",
       "version_major": 2,
       "version_minor": 0
      },
      "text/plain": [
       "roll_out:   0%|          | 0/2048 [00:00<?, ?it/s]"
      ]
     },
     "metadata": {},
     "output_type": "display_data"
    },
    {
     "data": {
      "application/vnd.jupyter.widget-view+json": {
       "model_id": "73be02c2a81746fabb8a3c0ec62f34b4",
       "version_major": 2,
       "version_minor": 0
      },
      "text/plain": [
       "roll_out:   0%|          | 0/2048 [00:00<?, ?it/s]"
      ]
     },
     "metadata": {},
     "output_type": "display_data"
    },
    {
     "data": {
      "application/vnd.jupyter.widget-view+json": {
       "model_id": "fb25b38d0d47427b83fe9123c5e15c2e",
       "version_major": 2,
       "version_minor": 0
      },
      "text/plain": [
       "roll_out:   0%|          | 0/2048 [00:00<?, ?it/s]"
      ]
     },
     "metadata": {},
     "output_type": "display_data"
    },
    {
     "data": {
      "application/vnd.jupyter.widget-view+json": {
       "model_id": "70ca39bf64db481ca91a4c7198236775",
       "version_major": 2,
       "version_minor": 0
      },
      "text/plain": [
       "roll_out:   0%|          | 0/2048 [00:00<?, ?it/s]"
      ]
     },
     "metadata": {},
     "output_type": "display_data"
    },
    {
     "data": {
      "application/vnd.jupyter.widget-view+json": {
       "model_id": "4a79735bd1fb43c2815ad25e7a52d14d",
       "version_major": 2,
       "version_minor": 0
      },
      "text/plain": [
       "roll_out:   0%|          | 0/2048 [00:00<?, ?it/s]"
      ]
     },
     "metadata": {},
     "output_type": "display_data"
    },
    {
     "data": {
      "application/vnd.jupyter.widget-view+json": {
       "model_id": "a6996f8690f34d278b18503a0df8be67",
       "version_major": 2,
       "version_minor": 0
      },
      "text/plain": [
       "roll_out:   0%|          | 0/2048 [00:00<?, ?it/s]"
      ]
     },
     "metadata": {},
     "output_type": "display_data"
    },
    {
     "data": {
      "application/vnd.jupyter.widget-view+json": {
       "model_id": "c47bc06ada414fcba1aebc2c80ff6ebf",
       "version_major": 2,
       "version_minor": 0
      },
      "text/plain": [
       "roll_out:   0%|          | 0/2048 [00:00<?, ?it/s]"
      ]
     },
     "metadata": {},
     "output_type": "display_data"
    },
    {
     "data": {
      "application/vnd.jupyter.widget-view+json": {
       "model_id": "f63f50e15a4c448a81e039eaa970c6ac",
       "version_major": 2,
       "version_minor": 0
      },
      "text/plain": [
       "roll_out:   0%|          | 0/2048 [00:00<?, ?it/s]"
      ]
     },
     "metadata": {},
     "output_type": "display_data"
    },
    {
     "data": {
      "application/vnd.jupyter.widget-view+json": {
       "model_id": "f9253c1d5ded4b9682b3b6aa569923ad",
       "version_major": 2,
       "version_minor": 0
      },
      "text/plain": [
       "roll_out:   0%|          | 0/2048 [00:00<?, ?it/s]"
      ]
     },
     "metadata": {},
     "output_type": "display_data"
    },
    {
     "data": {
      "application/vnd.jupyter.widget-view+json": {
       "model_id": "7d3fa3bde82540319e16755b528d10d8",
       "version_major": 2,
       "version_minor": 0
      },
      "text/plain": [
       "roll_out:   0%|          | 0/2048 [00:00<?, ?it/s]"
      ]
     },
     "metadata": {},
     "output_type": "display_data"
    },
    {
     "data": {
      "application/vnd.jupyter.widget-view+json": {
       "model_id": "c7df1183e82e4c48ab3bca05ec356bdf",
       "version_major": 2,
       "version_minor": 0
      },
      "text/plain": [
       "roll_out:   0%|          | 0/2048 [00:00<?, ?it/s]"
      ]
     },
     "metadata": {},
     "output_type": "display_data"
    },
    {
     "data": {
      "application/vnd.jupyter.widget-view+json": {
       "model_id": "4879ae69264144069cb92b0e975ed9ae",
       "version_major": 2,
       "version_minor": 0
      },
      "text/plain": [
       "roll_out:   0%|          | 0/2048 [00:00<?, ?it/s]"
      ]
     },
     "metadata": {},
     "output_type": "display_data"
    },
    {
     "data": {
      "application/vnd.jupyter.widget-view+json": {
       "model_id": "126a42b5b1e6446a8584d9bde8386e40",
       "version_major": 2,
       "version_minor": 0
      },
      "text/plain": [
       "roll_out:   0%|          | 0/2048 [00:00<?, ?it/s]"
      ]
     },
     "metadata": {},
     "output_type": "display_data"
    },
    {
     "data": {
      "application/vnd.jupyter.widget-view+json": {
       "model_id": "852ad88dc2ad4a4b8d9b9bc4b583f452",
       "version_major": 2,
       "version_minor": 0
      },
      "text/plain": [
       "roll_out:   0%|          | 0/2048 [00:00<?, ?it/s]"
      ]
     },
     "metadata": {},
     "output_type": "display_data"
    },
    {
     "data": {
      "application/vnd.jupyter.widget-view+json": {
       "model_id": "b5248a354c3f4d0cb9bc4147e5afb3ae",
       "version_major": 2,
       "version_minor": 0
      },
      "text/plain": [
       "roll_out:   0%|          | 0/2048 [00:00<?, ?it/s]"
      ]
     },
     "metadata": {},
     "output_type": "display_data"
    },
    {
     "data": {
      "application/vnd.jupyter.widget-view+json": {
       "model_id": "b45f5ddc2358400a8c31bb24adf65af4",
       "version_major": 2,
       "version_minor": 0
      },
      "text/plain": [
       "roll_out:   0%|          | 0/2048 [00:00<?, ?it/s]"
      ]
     },
     "metadata": {},
     "output_type": "display_data"
    },
    {
     "data": {
      "application/vnd.jupyter.widget-view+json": {
       "model_id": "d3e4aefe14de4c20a28be9cd10f4b442",
       "version_major": 2,
       "version_minor": 0
      },
      "text/plain": [
       "roll_out:   0%|          | 0/2048 [00:00<?, ?it/s]"
      ]
     },
     "metadata": {},
     "output_type": "display_data"
    },
    {
     "data": {
      "application/vnd.jupyter.widget-view+json": {
       "model_id": "de1846c1376e42ffba6600cda07324f7",
       "version_major": 2,
       "version_minor": 0
      },
      "text/plain": [
       "roll_out:   0%|          | 0/2048 [00:00<?, ?it/s]"
      ]
     },
     "metadata": {},
     "output_type": "display_data"
    },
    {
     "data": {
      "application/vnd.jupyter.widget-view+json": {
       "model_id": "a4fb6727e88549c794ab2e5eda3accdf",
       "version_major": 2,
       "version_minor": 0
      },
      "text/plain": [
       "roll_out:   0%|          | 0/2048 [00:00<?, ?it/s]"
      ]
     },
     "metadata": {},
     "output_type": "display_data"
    },
    {
     "data": {
      "application/vnd.jupyter.widget-view+json": {
       "model_id": "0e202033b2bd44a2849f97e8992c2e54",
       "version_major": 2,
       "version_minor": 0
      },
      "text/plain": [
       "roll_out:   0%|          | 0/2048 [00:00<?, ?it/s]"
      ]
     },
     "metadata": {},
     "output_type": "display_data"
    },
    {
     "data": {
      "application/vnd.jupyter.widget-view+json": {
       "model_id": "f94c3b4ab4ab4b93b442cf4f145ed8cc",
       "version_major": 2,
       "version_minor": 0
      },
      "text/plain": [
       "roll_out:   0%|          | 0/2048 [00:00<?, ?it/s]"
      ]
     },
     "metadata": {},
     "output_type": "display_data"
    },
    {
     "data": {
      "application/vnd.jupyter.widget-view+json": {
       "model_id": "7973863ce71d410ea284637ee209e9d5",
       "version_major": 2,
       "version_minor": 0
      },
      "text/plain": [
       "roll_out:   0%|          | 0/2048 [00:00<?, ?it/s]"
      ]
     },
     "metadata": {},
     "output_type": "display_data"
    },
    {
     "data": {
      "application/vnd.jupyter.widget-view+json": {
       "model_id": "07d7420af95745eca530b190b183ce7c",
       "version_major": 2,
       "version_minor": 0
      },
      "text/plain": [
       "roll_out:   0%|          | 0/2048 [00:00<?, ?it/s]"
      ]
     },
     "metadata": {},
     "output_type": "display_data"
    },
    {
     "data": {
      "application/vnd.jupyter.widget-view+json": {
       "model_id": "70005ac0f9b14d2f83e965bbda96f13b",
       "version_major": 2,
       "version_minor": 0
      },
      "text/plain": [
       "roll_out:   0%|          | 0/2048 [00:00<?, ?it/s]"
      ]
     },
     "metadata": {},
     "output_type": "display_data"
    },
    {
     "data": {
      "application/vnd.jupyter.widget-view+json": {
       "model_id": "52263bca0b154646988d26423fb4cae6",
       "version_major": 2,
       "version_minor": 0
      },
      "text/plain": [
       "roll_out:   0%|          | 0/2048 [00:00<?, ?it/s]"
      ]
     },
     "metadata": {},
     "output_type": "display_data"
    },
    {
     "data": {
      "application/vnd.jupyter.widget-view+json": {
       "model_id": "c6a23fe15e314389b1b007fb4a1dbf29",
       "version_major": 2,
       "version_minor": 0
      },
      "text/plain": [
       "roll_out:   0%|          | 0/2048 [00:00<?, ?it/s]"
      ]
     },
     "metadata": {},
     "output_type": "display_data"
    },
    {
     "data": {
      "application/vnd.jupyter.widget-view+json": {
       "model_id": "c626c9eba4ce4917a8ef34aa49102251",
       "version_major": 2,
       "version_minor": 0
      },
      "text/plain": [
       "roll_out:   0%|          | 0/2048 [00:00<?, ?it/s]"
      ]
     },
     "metadata": {},
     "output_type": "display_data"
    },
    {
     "data": {
      "application/vnd.jupyter.widget-view+json": {
       "model_id": "0beedefdc0e147558e42964ff236a3a6",
       "version_major": 2,
       "version_minor": 0
      },
      "text/plain": [
       "roll_out:   0%|          | 0/2048 [00:00<?, ?it/s]"
      ]
     },
     "metadata": {},
     "output_type": "display_data"
    },
    {
     "data": {
      "application/vnd.jupyter.widget-view+json": {
       "model_id": "6fc5e103ceab41eab2ac1fbbd7909e92",
       "version_major": 2,
       "version_minor": 0
      },
      "text/plain": [
       "roll_out:   0%|          | 0/2048 [00:00<?, ?it/s]"
      ]
     },
     "metadata": {},
     "output_type": "display_data"
    },
    {
     "data": {
      "application/vnd.jupyter.widget-view+json": {
       "model_id": "79d332c89cba42fda32434736900eace",
       "version_major": 2,
       "version_minor": 0
      },
      "text/plain": [
       "roll_out:   0%|          | 0/2048 [00:00<?, ?it/s]"
      ]
     },
     "metadata": {},
     "output_type": "display_data"
    },
    {
     "data": {
      "application/vnd.jupyter.widget-view+json": {
       "model_id": "6f0baf9bb6634c61a489c86ac1a1c7b3",
       "version_major": 2,
       "version_minor": 0
      },
      "text/plain": [
       "roll_out:   0%|          | 0/2048 [00:00<?, ?it/s]"
      ]
     },
     "metadata": {},
     "output_type": "display_data"
    },
    {
     "data": {
      "application/vnd.jupyter.widget-view+json": {
       "model_id": "db7981b4c722401785f805fefd2cb4ca",
       "version_major": 2,
       "version_minor": 0
      },
      "text/plain": [
       "roll_out:   0%|          | 0/2048 [00:00<?, ?it/s]"
      ]
     },
     "metadata": {},
     "output_type": "display_data"
    },
    {
     "data": {
      "application/vnd.jupyter.widget-view+json": {
       "model_id": "fd89426ef14340e0b73ab5928e790af9",
       "version_major": 2,
       "version_minor": 0
      },
      "text/plain": [
       "roll_out:   0%|          | 0/2048 [00:00<?, ?it/s]"
      ]
     },
     "metadata": {},
     "output_type": "display_data"
    },
    {
     "data": {
      "application/vnd.jupyter.widget-view+json": {
       "model_id": "a990c3aaf972400e882c2dc14766e47d",
       "version_major": 2,
       "version_minor": 0
      },
      "text/plain": [
       "roll_out:   0%|          | 0/2048 [00:00<?, ?it/s]"
      ]
     },
     "metadata": {},
     "output_type": "display_data"
    },
    {
     "data": {
      "application/vnd.jupyter.widget-view+json": {
       "model_id": "c22c1dbd26294e2386277988b7cc49a4",
       "version_major": 2,
       "version_minor": 0
      },
      "text/plain": [
       "roll_out:   0%|          | 0/2048 [00:00<?, ?it/s]"
      ]
     },
     "metadata": {},
     "output_type": "display_data"
    },
    {
     "data": {
      "application/vnd.jupyter.widget-view+json": {
       "model_id": "c5d9de2644e0490b8ec27a99bd73a160",
       "version_major": 2,
       "version_minor": 0
      },
      "text/plain": [
       "roll_out:   0%|          | 0/2048 [00:00<?, ?it/s]"
      ]
     },
     "metadata": {},
     "output_type": "display_data"
    },
    {
     "data": {
      "application/vnd.jupyter.widget-view+json": {
       "model_id": "d790205c6a9b4a6d9aab06f3411b87d4",
       "version_major": 2,
       "version_minor": 0
      },
      "text/plain": [
       "roll_out:   0%|          | 0/2048 [00:00<?, ?it/s]"
      ]
     },
     "metadata": {},
     "output_type": "display_data"
    },
    {
     "data": {
      "application/vnd.jupyter.widget-view+json": {
       "model_id": "ca6fa34a801d4b63bc65a3b4846a9893",
       "version_major": 2,
       "version_minor": 0
      },
      "text/plain": [
       "roll_out:   0%|          | 0/2048 [00:00<?, ?it/s]"
      ]
     },
     "metadata": {},
     "output_type": "display_data"
    },
    {
     "data": {
      "application/vnd.jupyter.widget-view+json": {
       "model_id": "b1db49f13924444a81087117697472a3",
       "version_major": 2,
       "version_minor": 0
      },
      "text/plain": [
       "roll_out:   0%|          | 0/2048 [00:00<?, ?it/s]"
      ]
     },
     "metadata": {},
     "output_type": "display_data"
    },
    {
     "data": {
      "application/vnd.jupyter.widget-view+json": {
       "model_id": "cd456e0cb54943fcbd6cd8766a0948fe",
       "version_major": 2,
       "version_minor": 0
      },
      "text/plain": [
       "roll_out:   0%|          | 0/2048 [00:00<?, ?it/s]"
      ]
     },
     "metadata": {},
     "output_type": "display_data"
    },
    {
     "data": {
      "application/vnd.jupyter.widget-view+json": {
       "model_id": "9d47d8614e7940e0bd03464ee70d5515",
       "version_major": 2,
       "version_minor": 0
      },
      "text/plain": [
       "roll_out:   0%|          | 0/2048 [00:00<?, ?it/s]"
      ]
     },
     "metadata": {},
     "output_type": "display_data"
    },
    {
     "data": {
      "application/vnd.jupyter.widget-view+json": {
       "model_id": "f55355aa10434243874e49bdd5665323",
       "version_major": 2,
       "version_minor": 0
      },
      "text/plain": [
       "roll_out:   0%|          | 0/2048 [00:00<?, ?it/s]"
      ]
     },
     "metadata": {},
     "output_type": "display_data"
    },
    {
     "data": {
      "application/vnd.jupyter.widget-view+json": {
       "model_id": "02cdbdc126674acd96022a44a1f2a535",
       "version_major": 2,
       "version_minor": 0
      },
      "text/plain": [
       "roll_out:   0%|          | 0/2048 [00:00<?, ?it/s]"
      ]
     },
     "metadata": {},
     "output_type": "display_data"
    },
    {
     "data": {
      "application/vnd.jupyter.widget-view+json": {
       "model_id": "36bbe00ab952490e847a37b45d9c7786",
       "version_major": 2,
       "version_minor": 0
      },
      "text/plain": [
       "roll_out:   0%|          | 0/2048 [00:00<?, ?it/s]"
      ]
     },
     "metadata": {},
     "output_type": "display_data"
    },
    {
     "data": {
      "application/vnd.jupyter.widget-view+json": {
       "model_id": "08aab5a7ca0c400380d09f121a3dfeab",
       "version_major": 2,
       "version_minor": 0
      },
      "text/plain": [
       "roll_out:   0%|          | 0/2048 [00:00<?, ?it/s]"
      ]
     },
     "metadata": {},
     "output_type": "display_data"
    },
    {
     "data": {
      "application/vnd.jupyter.widget-view+json": {
       "model_id": "c8059cf3458748978fd918f6e398b7f1",
       "version_major": 2,
       "version_minor": 0
      },
      "text/plain": [
       "roll_out:   0%|          | 0/2048 [00:00<?, ?it/s]"
      ]
     },
     "metadata": {},
     "output_type": "display_data"
    },
    {
     "data": {
      "application/vnd.jupyter.widget-view+json": {
       "model_id": "9e4b74535bed4f5a9fd10b6eb6564572",
       "version_major": 2,
       "version_minor": 0
      },
      "text/plain": [
       "roll_out:   0%|          | 0/2048 [00:00<?, ?it/s]"
      ]
     },
     "metadata": {},
     "output_type": "display_data"
    },
    {
     "data": {
      "application/vnd.jupyter.widget-view+json": {
       "model_id": "31b84a4f81194661b035a741e421eccb",
       "version_major": 2,
       "version_minor": 0
      },
      "text/plain": [
       "roll_out:   0%|          | 0/2048 [00:00<?, ?it/s]"
      ]
     },
     "metadata": {},
     "output_type": "display_data"
    },
    {
     "data": {
      "application/vnd.jupyter.widget-view+json": {
       "model_id": "4c6ff02ba0a3498db6d855c0e5fc1ede",
       "version_major": 2,
       "version_minor": 0
      },
      "text/plain": [
       "roll_out:   0%|          | 0/2048 [00:00<?, ?it/s]"
      ]
     },
     "metadata": {},
     "output_type": "display_data"
    },
    {
     "data": {
      "application/vnd.jupyter.widget-view+json": {
       "model_id": "57719e5e4508464abb01e8bf2b886361",
       "version_major": 2,
       "version_minor": 0
      },
      "text/plain": [
       "roll_out:   0%|          | 0/2048 [00:00<?, ?it/s]"
      ]
     },
     "metadata": {},
     "output_type": "display_data"
    },
    {
     "data": {
      "application/vnd.jupyter.widget-view+json": {
       "model_id": "485c2d0698d34d1ca91e2cddd3049629",
       "version_major": 2,
       "version_minor": 0
      },
      "text/plain": [
       "roll_out:   0%|          | 0/2048 [00:00<?, ?it/s]"
      ]
     },
     "metadata": {},
     "output_type": "display_data"
    },
    {
     "data": {
      "application/vnd.jupyter.widget-view+json": {
       "model_id": "d6bc0a1e6d0e4491a0b961da1db1e8d5",
       "version_major": 2,
       "version_minor": 0
      },
      "text/plain": [
       "roll_out:   0%|          | 0/2048 [00:00<?, ?it/s]"
      ]
     },
     "metadata": {},
     "output_type": "display_data"
    },
    {
     "data": {
      "application/vnd.jupyter.widget-view+json": {
       "model_id": "e9571fd8a74c4004ba47e1f516082006",
       "version_major": 2,
       "version_minor": 0
      },
      "text/plain": [
       "roll_out:   0%|          | 0/2048 [00:00<?, ?it/s]"
      ]
     },
     "metadata": {},
     "output_type": "display_data"
    },
    {
     "data": {
      "application/vnd.jupyter.widget-view+json": {
       "model_id": "4144b8733fb14efc8b4225a07356392d",
       "version_major": 2,
       "version_minor": 0
      },
      "text/plain": [
       "roll_out:   0%|          | 0/2048 [00:00<?, ?it/s]"
      ]
     },
     "metadata": {},
     "output_type": "display_data"
    },
    {
     "data": {
      "application/vnd.jupyter.widget-view+json": {
       "model_id": "f3859b00d80047ae9b9482098b648981",
       "version_major": 2,
       "version_minor": 0
      },
      "text/plain": [
       "roll_out:   0%|          | 0/2048 [00:00<?, ?it/s]"
      ]
     },
     "metadata": {},
     "output_type": "display_data"
    },
    {
     "data": {
      "application/vnd.jupyter.widget-view+json": {
       "model_id": "5fc4bfd86df34c10ba9d1676905443e3",
       "version_major": 2,
       "version_minor": 0
      },
      "text/plain": [
       "roll_out:   0%|          | 0/2048 [00:00<?, ?it/s]"
      ]
     },
     "metadata": {},
     "output_type": "display_data"
    },
    {
     "data": {
      "application/vnd.jupyter.widget-view+json": {
       "model_id": "f7f58bb5d74b4c84b138ac5fb853ecf1",
       "version_major": 2,
       "version_minor": 0
      },
      "text/plain": [
       "roll_out:   0%|          | 0/2048 [00:00<?, ?it/s]"
      ]
     },
     "metadata": {},
     "output_type": "display_data"
    },
    {
     "data": {
      "application/vnd.jupyter.widget-view+json": {
       "model_id": "6dd29035437445929f06129c3dffb695",
       "version_major": 2,
       "version_minor": 0
      },
      "text/plain": [
       "roll_out:   0%|          | 0/2048 [00:00<?, ?it/s]"
      ]
     },
     "metadata": {},
     "output_type": "display_data"
    },
    {
     "data": {
      "application/vnd.jupyter.widget-view+json": {
       "model_id": "1d35538c68484e4d9f15eb4eb8181d93",
       "version_major": 2,
       "version_minor": 0
      },
      "text/plain": [
       "roll_out:   0%|          | 0/2048 [00:00<?, ?it/s]"
      ]
     },
     "metadata": {},
     "output_type": "display_data"
    },
    {
     "data": {
      "application/vnd.jupyter.widget-view+json": {
       "model_id": "4211dfdf27b14c6ca1907112a48ce68f",
       "version_major": 2,
       "version_minor": 0
      },
      "text/plain": [
       "roll_out:   0%|          | 0/2048 [00:00<?, ?it/s]"
      ]
     },
     "metadata": {},
     "output_type": "display_data"
    },
    {
     "data": {
      "application/vnd.jupyter.widget-view+json": {
       "model_id": "0a171cc7c25346f89cd1f3bde46e55d6",
       "version_major": 2,
       "version_minor": 0
      },
      "text/plain": [
       "roll_out:   0%|          | 0/2048 [00:00<?, ?it/s]"
      ]
     },
     "metadata": {},
     "output_type": "display_data"
    },
    {
     "data": {
      "application/vnd.jupyter.widget-view+json": {
       "model_id": "ff37d93a2b0d4d1b93aa9c4d18ab5e2c",
       "version_major": 2,
       "version_minor": 0
      },
      "text/plain": [
       "roll_out:   0%|          | 0/2048 [00:00<?, ?it/s]"
      ]
     },
     "metadata": {},
     "output_type": "display_data"
    },
    {
     "data": {
      "application/vnd.jupyter.widget-view+json": {
       "model_id": "1523c7a20c5d4a0bae6e2684c69bffb5",
       "version_major": 2,
       "version_minor": 0
      },
      "text/plain": [
       "roll_out:   0%|          | 0/2048 [00:00<?, ?it/s]"
      ]
     },
     "metadata": {},
     "output_type": "display_data"
    },
    {
     "data": {
      "application/vnd.jupyter.widget-view+json": {
       "model_id": "45ffad110e6d40d6b28eba9fca72ab84",
       "version_major": 2,
       "version_minor": 0
      },
      "text/plain": [
       "roll_out:   0%|          | 0/2048 [00:00<?, ?it/s]"
      ]
     },
     "metadata": {},
     "output_type": "display_data"
    },
    {
     "data": {
      "application/vnd.jupyter.widget-view+json": {
       "model_id": "2794e66819464bcaa007286cbcd520b6",
       "version_major": 2,
       "version_minor": 0
      },
      "text/plain": [
       "roll_out:   0%|          | 0/2048 [00:00<?, ?it/s]"
      ]
     },
     "metadata": {},
     "output_type": "display_data"
    },
    {
     "data": {
      "application/vnd.jupyter.widget-view+json": {
       "model_id": "254e5f93dcee417d88941652382213ad",
       "version_major": 2,
       "version_minor": 0
      },
      "text/plain": [
       "roll_out:   0%|          | 0/2048 [00:00<?, ?it/s]"
      ]
     },
     "metadata": {},
     "output_type": "display_data"
    },
    {
     "data": {
      "application/vnd.jupyter.widget-view+json": {
       "model_id": "a21f47b5dae4408cb0aaa09a86c9d39b",
       "version_major": 2,
       "version_minor": 0
      },
      "text/plain": [
       "roll_out:   0%|          | 0/2048 [00:00<?, ?it/s]"
      ]
     },
     "metadata": {},
     "output_type": "display_data"
    },
    {
     "data": {
      "application/vnd.jupyter.widget-view+json": {
       "model_id": "9d878867f17d428c983fb8708df489e6",
       "version_major": 2,
       "version_minor": 0
      },
      "text/plain": [
       "roll_out:   0%|          | 0/2048 [00:00<?, ?it/s]"
      ]
     },
     "metadata": {},
     "output_type": "display_data"
    },
    {
     "data": {
      "application/vnd.jupyter.widget-view+json": {
       "model_id": "f767dd928c794b069a890da5b9a9e4db",
       "version_major": 2,
       "version_minor": 0
      },
      "text/plain": [
       "roll_out:   0%|          | 0/2048 [00:00<?, ?it/s]"
      ]
     },
     "metadata": {},
     "output_type": "display_data"
    },
    {
     "data": {
      "application/vnd.jupyter.widget-view+json": {
       "model_id": "ceaddb45cfb84e669cc441c8ca143611",
       "version_major": 2,
       "version_minor": 0
      },
      "text/plain": [
       "roll_out:   0%|          | 0/2048 [00:00<?, ?it/s]"
      ]
     },
     "metadata": {},
     "output_type": "display_data"
    },
    {
     "data": {
      "application/vnd.jupyter.widget-view+json": {
       "model_id": "3e561fe5c8d64584b11a166a9bf2bf76",
       "version_major": 2,
       "version_minor": 0
      },
      "text/plain": [
       "roll_out:   0%|          | 0/2048 [00:00<?, ?it/s]"
      ]
     },
     "metadata": {},
     "output_type": "display_data"
    },
    {
     "data": {
      "application/vnd.jupyter.widget-view+json": {
       "model_id": "bf47506924554199b0041120640e1f8e",
       "version_major": 2,
       "version_minor": 0
      },
      "text/plain": [
       "roll_out:   0%|          | 0/2048 [00:00<?, ?it/s]"
      ]
     },
     "metadata": {},
     "output_type": "display_data"
    },
    {
     "data": {
      "application/vnd.jupyter.widget-view+json": {
       "model_id": "62b1e3841a4a4bce90f4513cf3b51045",
       "version_major": 2,
       "version_minor": 0
      },
      "text/plain": [
       "roll_out:   0%|          | 0/2048 [00:00<?, ?it/s]"
      ]
     },
     "metadata": {},
     "output_type": "display_data"
    },
    {
     "data": {
      "application/vnd.jupyter.widget-view+json": {
       "model_id": "a6017044139640ebaa3388503ac8ba97",
       "version_major": 2,
       "version_minor": 0
      },
      "text/plain": [
       "roll_out:   0%|          | 0/2048 [00:00<?, ?it/s]"
      ]
     },
     "metadata": {},
     "output_type": "display_data"
    },
    {
     "data": {
      "application/vnd.jupyter.widget-view+json": {
       "model_id": "040decc2af924ae490efc1e3778388b8",
       "version_major": 2,
       "version_minor": 0
      },
      "text/plain": [
       "roll_out:   0%|          | 0/2048 [00:00<?, ?it/s]"
      ]
     },
     "metadata": {},
     "output_type": "display_data"
    },
    {
     "data": {
      "application/vnd.jupyter.widget-view+json": {
       "model_id": "da029260e8764c27ad91c048f8b8a44e",
       "version_major": 2,
       "version_minor": 0
      },
      "text/plain": [
       "roll_out:   0%|          | 0/2048 [00:00<?, ?it/s]"
      ]
     },
     "metadata": {},
     "output_type": "display_data"
    },
    {
     "data": {
      "application/vnd.jupyter.widget-view+json": {
       "model_id": "c1cd4eae064e44da93d4bf830c565ceb",
       "version_major": 2,
       "version_minor": 0
      },
      "text/plain": [
       "roll_out:   0%|          | 0/2048 [00:00<?, ?it/s]"
      ]
     },
     "metadata": {},
     "output_type": "display_data"
    },
    {
     "data": {
      "application/vnd.jupyter.widget-view+json": {
       "model_id": "54da9d13de04468a9c629a9516f6679b",
       "version_major": 2,
       "version_minor": 0
      },
      "text/plain": [
       "roll_out:   0%|          | 0/2048 [00:00<?, ?it/s]"
      ]
     },
     "metadata": {},
     "output_type": "display_data"
    },
    {
     "data": {
      "application/vnd.jupyter.widget-view+json": {
       "model_id": "4b66cf6e58d34a2ab9635d241e771956",
       "version_major": 2,
       "version_minor": 0
      },
      "text/plain": [
       "roll_out:   0%|          | 0/2048 [00:00<?, ?it/s]"
      ]
     },
     "metadata": {},
     "output_type": "display_data"
    },
    {
     "data": {
      "application/vnd.jupyter.widget-view+json": {
       "model_id": "4dc37516b3734f3f89e98cc6450b36f5",
       "version_major": 2,
       "version_minor": 0
      },
      "text/plain": [
       "roll_out:   0%|          | 0/2048 [00:00<?, ?it/s]"
      ]
     },
     "metadata": {},
     "output_type": "display_data"
    },
    {
     "data": {
      "application/vnd.jupyter.widget-view+json": {
       "model_id": "026d6a8ab11b40edb5bd94d7c8dfd56b",
       "version_major": 2,
       "version_minor": 0
      },
      "text/plain": [
       "roll_out:   0%|          | 0/2048 [00:00<?, ?it/s]"
      ]
     },
     "metadata": {},
     "output_type": "display_data"
    },
    {
     "data": {
      "application/vnd.jupyter.widget-view+json": {
       "model_id": "3eb85cf7e7de46e5bc2d399d3023be89",
       "version_major": 2,
       "version_minor": 0
      },
      "text/plain": [
       "roll_out:   0%|          | 0/2048 [00:00<?, ?it/s]"
      ]
     },
     "metadata": {},
     "output_type": "display_data"
    },
    {
     "data": {
      "application/vnd.jupyter.widget-view+json": {
       "model_id": "546df2a866274c878f7f8eb0873c9713",
       "version_major": 2,
       "version_minor": 0
      },
      "text/plain": [
       "roll_out:   0%|          | 0/2048 [00:00<?, ?it/s]"
      ]
     },
     "metadata": {},
     "output_type": "display_data"
    },
    {
     "data": {
      "application/vnd.jupyter.widget-view+json": {
       "model_id": "b58b460acd8b4df08286e4d6125c2bd5",
       "version_major": 2,
       "version_minor": 0
      },
      "text/plain": [
       "roll_out:   0%|          | 0/2048 [00:00<?, ?it/s]"
      ]
     },
     "metadata": {},
     "output_type": "display_data"
    },
    {
     "data": {
      "application/vnd.jupyter.widget-view+json": {
       "model_id": "abf3a5aae48241bc8eb439253ec20623",
       "version_major": 2,
       "version_minor": 0
      },
      "text/plain": [
       "roll_out:   0%|          | 0/2048 [00:00<?, ?it/s]"
      ]
     },
     "metadata": {},
     "output_type": "display_data"
    },
    {
     "data": {
      "application/vnd.jupyter.widget-view+json": {
       "model_id": "ed62a7feabdc4529905cafcb8d2b145d",
       "version_major": 2,
       "version_minor": 0
      },
      "text/plain": [
       "roll_out:   0%|          | 0/2048 [00:00<?, ?it/s]"
      ]
     },
     "metadata": {},
     "output_type": "display_data"
    },
    {
     "data": {
      "application/vnd.jupyter.widget-view+json": {
       "model_id": "3cb2d8e8c9254dcf8b483008ed956f81",
       "version_major": 2,
       "version_minor": 0
      },
      "text/plain": [
       "roll_out:   0%|          | 0/2048 [00:00<?, ?it/s]"
      ]
     },
     "metadata": {},
     "output_type": "display_data"
    },
    {
     "data": {
      "application/vnd.jupyter.widget-view+json": {
       "model_id": "1bd7ab830cc04c24890168dbd7b3229c",
       "version_major": 2,
       "version_minor": 0
      },
      "text/plain": [
       "roll_out:   0%|          | 0/2048 [00:00<?, ?it/s]"
      ]
     },
     "metadata": {},
     "output_type": "display_data"
    },
    {
     "data": {
      "application/vnd.jupyter.widget-view+json": {
       "model_id": "f5de7ab630c74616bb342e1cc0f64f25",
       "version_major": 2,
       "version_minor": 0
      },
      "text/plain": [
       "roll_out:   0%|          | 0/2048 [00:00<?, ?it/s]"
      ]
     },
     "metadata": {},
     "output_type": "display_data"
    },
    {
     "data": {
      "application/vnd.jupyter.widget-view+json": {
       "model_id": "47a9171c6eea48c2ba2b2ce4a662cc84",
       "version_major": 2,
       "version_minor": 0
      },
      "text/plain": [
       "roll_out:   0%|          | 0/2048 [00:00<?, ?it/s]"
      ]
     },
     "metadata": {},
     "output_type": "display_data"
    },
    {
     "data": {
      "application/vnd.jupyter.widget-view+json": {
       "model_id": "e674c7ddd75b4769ae344eca8327fcc2",
       "version_major": 2,
       "version_minor": 0
      },
      "text/plain": [
       "roll_out:   0%|          | 0/2048 [00:00<?, ?it/s]"
      ]
     },
     "metadata": {},
     "output_type": "display_data"
    },
    {
     "data": {
      "application/vnd.jupyter.widget-view+json": {
       "model_id": "401772e65cf7440fb8987f2d50f2bf51",
       "version_major": 2,
       "version_minor": 0
      },
      "text/plain": [
       "roll_out:   0%|          | 0/2048 [00:00<?, ?it/s]"
      ]
     },
     "metadata": {},
     "output_type": "display_data"
    },
    {
     "data": {
      "application/vnd.jupyter.widget-view+json": {
       "model_id": "0d1d9cb824984d7183bbfde226c48546",
       "version_major": 2,
       "version_minor": 0
      },
      "text/plain": [
       "roll_out:   0%|          | 0/2048 [00:00<?, ?it/s]"
      ]
     },
     "metadata": {},
     "output_type": "display_data"
    },
    {
     "data": {
      "application/vnd.jupyter.widget-view+json": {
       "model_id": "8e7b27823d4f4d0e985350e0b452dce0",
       "version_major": 2,
       "version_minor": 0
      },
      "text/plain": [
       "roll_out:   0%|          | 0/2048 [00:00<?, ?it/s]"
      ]
     },
     "metadata": {},
     "output_type": "display_data"
    },
    {
     "data": {
      "application/vnd.jupyter.widget-view+json": {
       "model_id": "5520248cc62744359699d7ec3897ee97",
       "version_major": 2,
       "version_minor": 0
      },
      "text/plain": [
       "roll_out:   0%|          | 0/2048 [00:00<?, ?it/s]"
      ]
     },
     "metadata": {},
     "output_type": "display_data"
    },
    {
     "data": {
      "application/vnd.jupyter.widget-view+json": {
       "model_id": "c7c35c7ea0b546f39643188c41b024fd",
       "version_major": 2,
       "version_minor": 0
      },
      "text/plain": [
       "roll_out:   0%|          | 0/2048 [00:00<?, ?it/s]"
      ]
     },
     "metadata": {},
     "output_type": "display_data"
    },
    {
     "data": {
      "application/vnd.jupyter.widget-view+json": {
       "model_id": "4eabef04d37b441ba27bec6b8f9db19f",
       "version_major": 2,
       "version_minor": 0
      },
      "text/plain": [
       "roll_out:   0%|          | 0/2048 [00:00<?, ?it/s]"
      ]
     },
     "metadata": {},
     "output_type": "display_data"
    },
    {
     "data": {
      "application/vnd.jupyter.widget-view+json": {
       "model_id": "1335dc8e3b9e493b87214a1642c83011",
       "version_major": 2,
       "version_minor": 0
      },
      "text/plain": [
       "roll_out:   0%|          | 0/2048 [00:00<?, ?it/s]"
      ]
     },
     "metadata": {},
     "output_type": "display_data"
    },
    {
     "data": {
      "application/vnd.jupyter.widget-view+json": {
       "model_id": "dc07546b8d2043bcbf3b77f6c12b8880",
       "version_major": 2,
       "version_minor": 0
      },
      "text/plain": [
       "roll_out:   0%|          | 0/2048 [00:00<?, ?it/s]"
      ]
     },
     "metadata": {},
     "output_type": "display_data"
    },
    {
     "data": {
      "application/vnd.jupyter.widget-view+json": {
       "model_id": "45d6f1c8708c4f10bd05411497cfcba0",
       "version_major": 2,
       "version_minor": 0
      },
      "text/plain": [
       "roll_out:   0%|          | 0/2048 [00:00<?, ?it/s]"
      ]
     },
     "metadata": {},
     "output_type": "display_data"
    },
    {
     "data": {
      "application/vnd.jupyter.widget-view+json": {
       "model_id": "aa9bade9b4f6480fa000fbf66a728d07",
       "version_major": 2,
       "version_minor": 0
      },
      "text/plain": [
       "roll_out:   0%|          | 0/2048 [00:00<?, ?it/s]"
      ]
     },
     "metadata": {},
     "output_type": "display_data"
    },
    {
     "data": {
      "application/vnd.jupyter.widget-view+json": {
       "model_id": "5e9e0b85736a44809e358e4092207e2a",
       "version_major": 2,
       "version_minor": 0
      },
      "text/plain": [
       "roll_out:   0%|          | 0/2048 [00:00<?, ?it/s]"
      ]
     },
     "metadata": {},
     "output_type": "display_data"
    },
    {
     "data": {
      "application/vnd.jupyter.widget-view+json": {
       "model_id": "57cb67869784492795aae73dde29ec86",
       "version_major": 2,
       "version_minor": 0
      },
      "text/plain": [
       "roll_out:   0%|          | 0/2048 [00:00<?, ?it/s]"
      ]
     },
     "metadata": {},
     "output_type": "display_data"
    },
    {
     "data": {
      "application/vnd.jupyter.widget-view+json": {
       "model_id": "e0641efaaf5e45e18a16072e377801c4",
       "version_major": 2,
       "version_minor": 0
      },
      "text/plain": [
       "roll_out:   0%|          | 0/2048 [00:00<?, ?it/s]"
      ]
     },
     "metadata": {},
     "output_type": "display_data"
    },
    {
     "data": {
      "application/vnd.jupyter.widget-view+json": {
       "model_id": "78747f94cbd249579c649532d4dc434c",
       "version_major": 2,
       "version_minor": 0
      },
      "text/plain": [
       "roll_out:   0%|          | 0/2048 [00:00<?, ?it/s]"
      ]
     },
     "metadata": {},
     "output_type": "display_data"
    },
    {
     "data": {
      "application/vnd.jupyter.widget-view+json": {
       "model_id": "ba6655383bce4fc19239bdb24762ee89",
       "version_major": 2,
       "version_minor": 0
      },
      "text/plain": [
       "roll_out:   0%|          | 0/2048 [00:00<?, ?it/s]"
      ]
     },
     "metadata": {},
     "output_type": "display_data"
    },
    {
     "data": {
      "application/vnd.jupyter.widget-view+json": {
       "model_id": "7f89fc703faf4ae6a233954d417d187b",
       "version_major": 2,
       "version_minor": 0
      },
      "text/plain": [
       "roll_out:   0%|          | 0/2048 [00:00<?, ?it/s]"
      ]
     },
     "metadata": {},
     "output_type": "display_data"
    },
    {
     "data": {
      "application/vnd.jupyter.widget-view+json": {
       "model_id": "8d90be8e5c7745b7980c8d998e292741",
       "version_major": 2,
       "version_minor": 0
      },
      "text/plain": [
       "roll_out:   0%|          | 0/2048 [00:00<?, ?it/s]"
      ]
     },
     "metadata": {},
     "output_type": "display_data"
    },
    {
     "data": {
      "application/vnd.jupyter.widget-view+json": {
       "model_id": "96b8fd3a5ea548478bb6b63c043bf6cd",
       "version_major": 2,
       "version_minor": 0
      },
      "text/plain": [
       "roll_out:   0%|          | 0/2048 [00:00<?, ?it/s]"
      ]
     },
     "metadata": {},
     "output_type": "display_data"
    },
    {
     "data": {
      "application/vnd.jupyter.widget-view+json": {
       "model_id": "46750f982ffb4bbba8ba700730cae750",
       "version_major": 2,
       "version_minor": 0
      },
      "text/plain": [
       "roll_out:   0%|          | 0/2048 [00:00<?, ?it/s]"
      ]
     },
     "metadata": {},
     "output_type": "display_data"
    },
    {
     "data": {
      "application/vnd.jupyter.widget-view+json": {
       "model_id": "c4e3df52269d4cf7ac59d4de89d52c5d",
       "version_major": 2,
       "version_minor": 0
      },
      "text/plain": [
       "roll_out:   0%|          | 0/2048 [00:00<?, ?it/s]"
      ]
     },
     "metadata": {},
     "output_type": "display_data"
    },
    {
     "data": {
      "application/vnd.jupyter.widget-view+json": {
       "model_id": "e61e97b5b42748aa856c12a8f11e69af",
       "version_major": 2,
       "version_minor": 0
      },
      "text/plain": [
       "roll_out:   0%|          | 0/2048 [00:00<?, ?it/s]"
      ]
     },
     "metadata": {},
     "output_type": "display_data"
    },
    {
     "data": {
      "application/vnd.jupyter.widget-view+json": {
       "model_id": "aebc8c986dd541b99b27de374c415545",
       "version_major": 2,
       "version_minor": 0
      },
      "text/plain": [
       "roll_out:   0%|          | 0/2048 [00:00<?, ?it/s]"
      ]
     },
     "metadata": {},
     "output_type": "display_data"
    },
    {
     "data": {
      "application/vnd.jupyter.widget-view+json": {
       "model_id": "a6f39cbc19e3415591e5d914bf43ab44",
       "version_major": 2,
       "version_minor": 0
      },
      "text/plain": [
       "roll_out:   0%|          | 0/2048 [00:00<?, ?it/s]"
      ]
     },
     "metadata": {},
     "output_type": "display_data"
    },
    {
     "data": {
      "application/vnd.jupyter.widget-view+json": {
       "model_id": "e7a481230b744d82aa03466b56d92181",
       "version_major": 2,
       "version_minor": 0
      },
      "text/plain": [
       "roll_out:   0%|          | 0/2048 [00:00<?, ?it/s]"
      ]
     },
     "metadata": {},
     "output_type": "display_data"
    },
    {
     "data": {
      "application/vnd.jupyter.widget-view+json": {
       "model_id": "3cd700ae566f4f1e9f5408f2fb8e5c1a",
       "version_major": 2,
       "version_minor": 0
      },
      "text/plain": [
       "roll_out:   0%|          | 0/2048 [00:00<?, ?it/s]"
      ]
     },
     "metadata": {},
     "output_type": "display_data"
    },
    {
     "data": {
      "application/vnd.jupyter.widget-view+json": {
       "model_id": "d7792115f606466880305dac0877b1ae",
       "version_major": 2,
       "version_minor": 0
      },
      "text/plain": [
       "roll_out:   0%|          | 0/2048 [00:00<?, ?it/s]"
      ]
     },
     "metadata": {},
     "output_type": "display_data"
    },
    {
     "data": {
      "application/vnd.jupyter.widget-view+json": {
       "model_id": "96f771e9c47840ca851a43630e8b37c4",
       "version_major": 2,
       "version_minor": 0
      },
      "text/plain": [
       "roll_out:   0%|          | 0/2048 [00:00<?, ?it/s]"
      ]
     },
     "metadata": {},
     "output_type": "display_data"
    },
    {
     "data": {
      "application/vnd.jupyter.widget-view+json": {
       "model_id": "0c00108bf4744b6485eee000c67f9558",
       "version_major": 2,
       "version_minor": 0
      },
      "text/plain": [
       "roll_out:   0%|          | 0/2048 [00:00<?, ?it/s]"
      ]
     },
     "metadata": {},
     "output_type": "display_data"
    },
    {
     "data": {
      "application/vnd.jupyter.widget-view+json": {
       "model_id": "67ab1669e6f94a6596112a5507b2542a",
       "version_major": 2,
       "version_minor": 0
      },
      "text/plain": [
       "roll_out:   0%|          | 0/2048 [00:00<?, ?it/s]"
      ]
     },
     "metadata": {},
     "output_type": "display_data"
    },
    {
     "data": {
      "application/vnd.jupyter.widget-view+json": {
       "model_id": "ad81797c208442fd8f0da78d64ee2f4f",
       "version_major": 2,
       "version_minor": 0
      },
      "text/plain": [
       "roll_out:   0%|          | 0/2048 [00:00<?, ?it/s]"
      ]
     },
     "metadata": {},
     "output_type": "display_data"
    },
    {
     "data": {
      "application/vnd.jupyter.widget-view+json": {
       "model_id": "de1f0d0e644544e5802fef24c6482c52",
       "version_major": 2,
       "version_minor": 0
      },
      "text/plain": [
       "roll_out:   0%|          | 0/2048 [00:00<?, ?it/s]"
      ]
     },
     "metadata": {},
     "output_type": "display_data"
    },
    {
     "data": {
      "application/vnd.jupyter.widget-view+json": {
       "model_id": "180abdc896f647eaa8bbe0b20a9c31fe",
       "version_major": 2,
       "version_minor": 0
      },
      "text/plain": [
       "roll_out:   0%|          | 0/2048 [00:00<?, ?it/s]"
      ]
     },
     "metadata": {},
     "output_type": "display_data"
    },
    {
     "data": {
      "application/vnd.jupyter.widget-view+json": {
       "model_id": "b49bc23acc724826bd68b5e6919ff328",
       "version_major": 2,
       "version_minor": 0
      },
      "text/plain": [
       "roll_out:   0%|          | 0/2048 [00:00<?, ?it/s]"
      ]
     },
     "metadata": {},
     "output_type": "display_data"
    },
    {
     "data": {
      "application/vnd.jupyter.widget-view+json": {
       "model_id": "2c4baf1f63f24842acd740a6a8c789d1",
       "version_major": 2,
       "version_minor": 0
      },
      "text/plain": [
       "roll_out:   0%|          | 0/2048 [00:00<?, ?it/s]"
      ]
     },
     "metadata": {},
     "output_type": "display_data"
    },
    {
     "data": {
      "application/vnd.jupyter.widget-view+json": {
       "model_id": "458f132b4203405781743e9a1357f687",
       "version_major": 2,
       "version_minor": 0
      },
      "text/plain": [
       "roll_out:   0%|          | 0/2048 [00:00<?, ?it/s]"
      ]
     },
     "metadata": {},
     "output_type": "display_data"
    },
    {
     "data": {
      "application/vnd.jupyter.widget-view+json": {
       "model_id": "7852c212c5154cad999a1478939971f1",
       "version_major": 2,
       "version_minor": 0
      },
      "text/plain": [
       "roll_out:   0%|          | 0/2048 [00:00<?, ?it/s]"
      ]
     },
     "metadata": {},
     "output_type": "display_data"
    },
    {
     "data": {
      "application/vnd.jupyter.widget-view+json": {
       "model_id": "9f068e35aa7c4934a28a66ddc5310729",
       "version_major": 2,
       "version_minor": 0
      },
      "text/plain": [
       "roll_out:   0%|          | 0/2048 [00:00<?, ?it/s]"
      ]
     },
     "metadata": {},
     "output_type": "display_data"
    },
    {
     "data": {
      "application/vnd.jupyter.widget-view+json": {
       "model_id": "1a7bb1cbb312438b936f6aac70a2472c",
       "version_major": 2,
       "version_minor": 0
      },
      "text/plain": [
       "roll_out:   0%|          | 0/2048 [00:00<?, ?it/s]"
      ]
     },
     "metadata": {},
     "output_type": "display_data"
    },
    {
     "data": {
      "application/vnd.jupyter.widget-view+json": {
       "model_id": "6f20bd4adc7a4bed91960e8f7ff1ce7d",
       "version_major": 2,
       "version_minor": 0
      },
      "text/plain": [
       "roll_out:   0%|          | 0/2048 [00:00<?, ?it/s]"
      ]
     },
     "metadata": {},
     "output_type": "display_data"
    },
    {
     "data": {
      "application/vnd.jupyter.widget-view+json": {
       "model_id": "a1f5b471627d47158c072760a7b36700",
       "version_major": 2,
       "version_minor": 0
      },
      "text/plain": [
       "roll_out:   0%|          | 0/2048 [00:00<?, ?it/s]"
      ]
     },
     "metadata": {},
     "output_type": "display_data"
    },
    {
     "data": {
      "application/vnd.jupyter.widget-view+json": {
       "model_id": "e9e400fb961249688a9a4997e8294167",
       "version_major": 2,
       "version_minor": 0
      },
      "text/plain": [
       "roll_out:   0%|          | 0/2048 [00:00<?, ?it/s]"
      ]
     },
     "metadata": {},
     "output_type": "display_data"
    },
    {
     "data": {
      "application/vnd.jupyter.widget-view+json": {
       "model_id": "3f0eb261731f4116bcf1e5fb88f0b250",
       "version_major": 2,
       "version_minor": 0
      },
      "text/plain": [
       "roll_out:   0%|          | 0/2048 [00:00<?, ?it/s]"
      ]
     },
     "metadata": {},
     "output_type": "display_data"
    },
    {
     "data": {
      "application/vnd.jupyter.widget-view+json": {
       "model_id": "f836cf09a99847c49bc49c645a9e1cb0",
       "version_major": 2,
       "version_minor": 0
      },
      "text/plain": [
       "roll_out:   0%|          | 0/2048 [00:00<?, ?it/s]"
      ]
     },
     "metadata": {},
     "output_type": "display_data"
    },
    {
     "data": {
      "application/vnd.jupyter.widget-view+json": {
       "model_id": "7479957fdc2c4a31a4b381f12f14679b",
       "version_major": 2,
       "version_minor": 0
      },
      "text/plain": [
       "roll_out:   0%|          | 0/2048 [00:00<?, ?it/s]"
      ]
     },
     "metadata": {},
     "output_type": "display_data"
    },
    {
     "data": {
      "application/vnd.jupyter.widget-view+json": {
       "model_id": "dbb6dc82b533489ea4ad116b10ae4fc3",
       "version_major": 2,
       "version_minor": 0
      },
      "text/plain": [
       "roll_out:   0%|          | 0/2048 [00:00<?, ?it/s]"
      ]
     },
     "metadata": {},
     "output_type": "display_data"
    },
    {
     "data": {
      "application/vnd.jupyter.widget-view+json": {
       "model_id": "2b9da1ee8e57438abc70d2d3757988a2",
       "version_major": 2,
       "version_minor": 0
      },
      "text/plain": [
       "roll_out:   0%|          | 0/2048 [00:00<?, ?it/s]"
      ]
     },
     "metadata": {},
     "output_type": "display_data"
    },
    {
     "data": {
      "application/vnd.jupyter.widget-view+json": {
       "model_id": "9ffccae9a167458681b2d0173dfdc00b",
       "version_major": 2,
       "version_minor": 0
      },
      "text/plain": [
       "roll_out:   0%|          | 0/2048 [00:00<?, ?it/s]"
      ]
     },
     "metadata": {},
     "output_type": "display_data"
    },
    {
     "data": {
      "application/vnd.jupyter.widget-view+json": {
       "model_id": "a82756d78d8540969bd2a6c358b94cc3",
       "version_major": 2,
       "version_minor": 0
      },
      "text/plain": [
       "roll_out:   0%|          | 0/2048 [00:00<?, ?it/s]"
      ]
     },
     "metadata": {},
     "output_type": "display_data"
    },
    {
     "data": {
      "application/vnd.jupyter.widget-view+json": {
       "model_id": "5270a9c4748d46e783e3dff3b5629c7a",
       "version_major": 2,
       "version_minor": 0
      },
      "text/plain": [
       "roll_out:   0%|          | 0/2048 [00:00<?, ?it/s]"
      ]
     },
     "metadata": {},
     "output_type": "display_data"
    },
    {
     "data": {
      "application/vnd.jupyter.widget-view+json": {
       "model_id": "bfb8822509d84c4c9f2bdfc6f273f7a7",
       "version_major": 2,
       "version_minor": 0
      },
      "text/plain": [
       "roll_out:   0%|          | 0/2048 [00:00<?, ?it/s]"
      ]
     },
     "metadata": {},
     "output_type": "display_data"
    },
    {
     "data": {
      "application/vnd.jupyter.widget-view+json": {
       "model_id": "b2d0cc7c2f4c491f907eb4b4de11747d",
       "version_major": 2,
       "version_minor": 0
      },
      "text/plain": [
       "roll_out:   0%|          | 0/2048 [00:00<?, ?it/s]"
      ]
     },
     "metadata": {},
     "output_type": "display_data"
    },
    {
     "data": {
      "application/vnd.jupyter.widget-view+json": {
       "model_id": "0e96008c0dc24e14b4e5798f20fb3a98",
       "version_major": 2,
       "version_minor": 0
      },
      "text/plain": [
       "roll_out:   0%|          | 0/2048 [00:00<?, ?it/s]"
      ]
     },
     "metadata": {},
     "output_type": "display_data"
    },
    {
     "data": {
      "application/vnd.jupyter.widget-view+json": {
       "model_id": "f64aa9414c8549d3ba177af6e8468cab",
       "version_major": 2,
       "version_minor": 0
      },
      "text/plain": [
       "roll_out:   0%|          | 0/2048 [00:00<?, ?it/s]"
      ]
     },
     "metadata": {},
     "output_type": "display_data"
    },
    {
     "data": {
      "application/vnd.jupyter.widget-view+json": {
       "model_id": "51138384338b4c14b081a0cb6c32a7d7",
       "version_major": 2,
       "version_minor": 0
      },
      "text/plain": [
       "roll_out:   0%|          | 0/2048 [00:00<?, ?it/s]"
      ]
     },
     "metadata": {},
     "output_type": "display_data"
    },
    {
     "data": {
      "application/vnd.jupyter.widget-view+json": {
       "model_id": "af924a70d85a46808ace8448d9d0ab9a",
       "version_major": 2,
       "version_minor": 0
      },
      "text/plain": [
       "roll_out:   0%|          | 0/2048 [00:00<?, ?it/s]"
      ]
     },
     "metadata": {},
     "output_type": "display_data"
    },
    {
     "data": {
      "application/vnd.jupyter.widget-view+json": {
       "model_id": "619e7db7faae4cba88f079a6745dc1b0",
       "version_major": 2,
       "version_minor": 0
      },
      "text/plain": [
       "roll_out:   0%|          | 0/2048 [00:00<?, ?it/s]"
      ]
     },
     "metadata": {},
     "output_type": "display_data"
    },
    {
     "data": {
      "application/vnd.jupyter.widget-view+json": {
       "model_id": "0ad59501fecf4669b2b1c590355792ff",
       "version_major": 2,
       "version_minor": 0
      },
      "text/plain": [
       "roll_out:   0%|          | 0/2048 [00:00<?, ?it/s]"
      ]
     },
     "metadata": {},
     "output_type": "display_data"
    },
    {
     "data": {
      "application/vnd.jupyter.widget-view+json": {
       "model_id": "29faf887565c434db770285d05c0e5f5",
       "version_major": 2,
       "version_minor": 0
      },
      "text/plain": [
       "roll_out:   0%|          | 0/2048 [00:00<?, ?it/s]"
      ]
     },
     "metadata": {},
     "output_type": "display_data"
    },
    {
     "data": {
      "application/vnd.jupyter.widget-view+json": {
       "model_id": "1668fbca7d2d44bf824edba452a2bf22",
       "version_major": 2,
       "version_minor": 0
      },
      "text/plain": [
       "roll_out:   0%|          | 0/2048 [00:00<?, ?it/s]"
      ]
     },
     "metadata": {},
     "output_type": "display_data"
    },
    {
     "data": {
      "application/vnd.jupyter.widget-view+json": {
       "model_id": "53790da60b064facadbda16ccff2b4d7",
       "version_major": 2,
       "version_minor": 0
      },
      "text/plain": [
       "roll_out:   0%|          | 0/2048 [00:00<?, ?it/s]"
      ]
     },
     "metadata": {},
     "output_type": "display_data"
    },
    {
     "data": {
      "application/vnd.jupyter.widget-view+json": {
       "model_id": "f9f0f1ef7adf4a71b31697e84f3335a6",
       "version_major": 2,
       "version_minor": 0
      },
      "text/plain": [
       "roll_out:   0%|          | 0/2048 [00:00<?, ?it/s]"
      ]
     },
     "metadata": {},
     "output_type": "display_data"
    },
    {
     "data": {
      "application/vnd.jupyter.widget-view+json": {
       "model_id": "608749b410934a0884ce14b3b96fcd84",
       "version_major": 2,
       "version_minor": 0
      },
      "text/plain": [
       "roll_out:   0%|          | 0/2048 [00:00<?, ?it/s]"
      ]
     },
     "metadata": {},
     "output_type": "display_data"
    },
    {
     "data": {
      "application/vnd.jupyter.widget-view+json": {
       "model_id": "9b92c7c1459c4224963e52764248ec6b",
       "version_major": 2,
       "version_minor": 0
      },
      "text/plain": [
       "roll_out:   0%|          | 0/2048 [00:00<?, ?it/s]"
      ]
     },
     "metadata": {},
     "output_type": "display_data"
    },
    {
     "data": {
      "application/vnd.jupyter.widget-view+json": {
       "model_id": "57669a6d8c83413ca8022103cc95cddd",
       "version_major": 2,
       "version_minor": 0
      },
      "text/plain": [
       "roll_out:   0%|          | 0/2048 [00:00<?, ?it/s]"
      ]
     },
     "metadata": {},
     "output_type": "display_data"
    },
    {
     "data": {
      "application/vnd.jupyter.widget-view+json": {
       "model_id": "add271c5e18e45e2a601606dcb89e1bf",
       "version_major": 2,
       "version_minor": 0
      },
      "text/plain": [
       "roll_out:   0%|          | 0/2048 [00:00<?, ?it/s]"
      ]
     },
     "metadata": {},
     "output_type": "display_data"
    },
    {
     "data": {
      "application/vnd.jupyter.widget-view+json": {
       "model_id": "836a533d1f7d4e91a78b761d5a78be44",
       "version_major": 2,
       "version_minor": 0
      },
      "text/plain": [
       "roll_out:   0%|          | 0/2048 [00:00<?, ?it/s]"
      ]
     },
     "metadata": {},
     "output_type": "display_data"
    },
    {
     "data": {
      "application/vnd.jupyter.widget-view+json": {
       "model_id": "92e5504b6862485093224f7177e41842",
       "version_major": 2,
       "version_minor": 0
      },
      "text/plain": [
       "roll_out:   0%|          | 0/2048 [00:00<?, ?it/s]"
      ]
     },
     "metadata": {},
     "output_type": "display_data"
    },
    {
     "data": {
      "application/vnd.jupyter.widget-view+json": {
       "model_id": "9cc4341157d64ca6b366296944b80f39",
       "version_major": 2,
       "version_minor": 0
      },
      "text/plain": [
       "roll_out:   0%|          | 0/2048 [00:00<?, ?it/s]"
      ]
     },
     "metadata": {},
     "output_type": "display_data"
    },
    {
     "data": {
      "application/vnd.jupyter.widget-view+json": {
       "model_id": "2d75a0b657d34206816481d381179337",
       "version_major": 2,
       "version_minor": 0
      },
      "text/plain": [
       "roll_out:   0%|          | 0/2048 [00:00<?, ?it/s]"
      ]
     },
     "metadata": {},
     "output_type": "display_data"
    },
    {
     "data": {
      "application/vnd.jupyter.widget-view+json": {
       "model_id": "33de13618b134bcd8dce29de5baee323",
       "version_major": 2,
       "version_minor": 0
      },
      "text/plain": [
       "roll_out:   0%|          | 0/2048 [00:00<?, ?it/s]"
      ]
     },
     "metadata": {},
     "output_type": "display_data"
    },
    {
     "data": {
      "application/vnd.jupyter.widget-view+json": {
       "model_id": "e354255ba5e74b6095d52c875b4fced0",
       "version_major": 2,
       "version_minor": 0
      },
      "text/plain": [
       "roll_out:   0%|          | 0/2048 [00:00<?, ?it/s]"
      ]
     },
     "metadata": {},
     "output_type": "display_data"
    },
    {
     "data": {
      "application/vnd.jupyter.widget-view+json": {
       "model_id": "f568fc1e10e74ee5bf8dc5a251f498d0",
       "version_major": 2,
       "version_minor": 0
      },
      "text/plain": [
       "roll_out:   0%|          | 0/2048 [00:00<?, ?it/s]"
      ]
     },
     "metadata": {},
     "output_type": "display_data"
    },
    {
     "data": {
      "application/vnd.jupyter.widget-view+json": {
       "model_id": "0b1489ed91884482a012f87094d0466a",
       "version_major": 2,
       "version_minor": 0
      },
      "text/plain": [
       "roll_out:   0%|          | 0/2048 [00:00<?, ?it/s]"
      ]
     },
     "metadata": {},
     "output_type": "display_data"
    },
    {
     "data": {
      "application/vnd.jupyter.widget-view+json": {
       "model_id": "25648919b5c0410aaa4efd7c7c2e4b99",
       "version_major": 2,
       "version_minor": 0
      },
      "text/plain": [
       "roll_out:   0%|          | 0/2048 [00:00<?, ?it/s]"
      ]
     },
     "metadata": {},
     "output_type": "display_data"
    },
    {
     "data": {
      "application/vnd.jupyter.widget-view+json": {
       "model_id": "3d58656d020d46e486a13b9e8a12b604",
       "version_major": 2,
       "version_minor": 0
      },
      "text/plain": [
       "roll_out:   0%|          | 0/2048 [00:00<?, ?it/s]"
      ]
     },
     "metadata": {},
     "output_type": "display_data"
    },
    {
     "data": {
      "application/vnd.jupyter.widget-view+json": {
       "model_id": "1a6caed1fdf1405a82b90233ae38ef4f",
       "version_major": 2,
       "version_minor": 0
      },
      "text/plain": [
       "roll_out:   0%|          | 0/2048 [00:00<?, ?it/s]"
      ]
     },
     "metadata": {},
     "output_type": "display_data"
    },
    {
     "data": {
      "application/vnd.jupyter.widget-view+json": {
       "model_id": "2818375421444ab585d504c3098dd57a",
       "version_major": 2,
       "version_minor": 0
      },
      "text/plain": [
       "roll_out:   0%|          | 0/2048 [00:00<?, ?it/s]"
      ]
     },
     "metadata": {},
     "output_type": "display_data"
    },
    {
     "data": {
      "application/vnd.jupyter.widget-view+json": {
       "model_id": "678600472d3946258942de780a35242b",
       "version_major": 2,
       "version_minor": 0
      },
      "text/plain": [
       "roll_out:   0%|          | 0/2048 [00:00<?, ?it/s]"
      ]
     },
     "metadata": {},
     "output_type": "display_data"
    },
    {
     "data": {
      "application/vnd.jupyter.widget-view+json": {
       "model_id": "c38e001f52f244878c2cfadb340630c0",
       "version_major": 2,
       "version_minor": 0
      },
      "text/plain": [
       "roll_out:   0%|          | 0/2048 [00:00<?, ?it/s]"
      ]
     },
     "metadata": {},
     "output_type": "display_data"
    },
    {
     "data": {
      "application/vnd.jupyter.widget-view+json": {
       "model_id": "cdec7281e812460cade93872a6155ee2",
       "version_major": 2,
       "version_minor": 0
      },
      "text/plain": [
       "roll_out:   0%|          | 0/2048 [00:00<?, ?it/s]"
      ]
     },
     "metadata": {},
     "output_type": "display_data"
    },
    {
     "data": {
      "application/vnd.jupyter.widget-view+json": {
       "model_id": "5a949b46d8374539877aeb9c33b93fb9",
       "version_major": 2,
       "version_minor": 0
      },
      "text/plain": [
       "roll_out:   0%|          | 0/2048 [00:00<?, ?it/s]"
      ]
     },
     "metadata": {},
     "output_type": "display_data"
    },
    {
     "data": {
      "application/vnd.jupyter.widget-view+json": {
       "model_id": "ad67af361a5e49078dfc310d76644421",
       "version_major": 2,
       "version_minor": 0
      },
      "text/plain": [
       "roll_out:   0%|          | 0/2048 [00:00<?, ?it/s]"
      ]
     },
     "metadata": {},
     "output_type": "display_data"
    },
    {
     "data": {
      "application/vnd.jupyter.widget-view+json": {
       "model_id": "4761023764fd46cbb3d82231f213cefb",
       "version_major": 2,
       "version_minor": 0
      },
      "text/plain": [
       "roll_out:   0%|          | 0/2048 [00:00<?, ?it/s]"
      ]
     },
     "metadata": {},
     "output_type": "display_data"
    },
    {
     "data": {
      "application/vnd.jupyter.widget-view+json": {
       "model_id": "111b9e166100455f9ab6128285c7c9e3",
       "version_major": 2,
       "version_minor": 0
      },
      "text/plain": [
       "roll_out:   0%|          | 0/2048 [00:00<?, ?it/s]"
      ]
     },
     "metadata": {},
     "output_type": "display_data"
    },
    {
     "data": {
      "application/vnd.jupyter.widget-view+json": {
       "model_id": "410245971f5f42a68e1aa84240e99761",
       "version_major": 2,
       "version_minor": 0
      },
      "text/plain": [
       "roll_out:   0%|          | 0/2048 [00:00<?, ?it/s]"
      ]
     },
     "metadata": {},
     "output_type": "display_data"
    },
    {
     "data": {
      "application/vnd.jupyter.widget-view+json": {
       "model_id": "5d0a61e2326643cc8d6e51ac0a409f7e",
       "version_major": 2,
       "version_minor": 0
      },
      "text/plain": [
       "roll_out:   0%|          | 0/2048 [00:00<?, ?it/s]"
      ]
     },
     "metadata": {},
     "output_type": "display_data"
    },
    {
     "data": {
      "application/vnd.jupyter.widget-view+json": {
       "model_id": "929a338ef8f043b0bcddd65bedbc15a8",
       "version_major": 2,
       "version_minor": 0
      },
      "text/plain": [
       "roll_out:   0%|          | 0/2048 [00:00<?, ?it/s]"
      ]
     },
     "metadata": {},
     "output_type": "display_data"
    },
    {
     "data": {
      "application/vnd.jupyter.widget-view+json": {
       "model_id": "0b3dd719a09943e2a548e03715c34833",
       "version_major": 2,
       "version_minor": 0
      },
      "text/plain": [
       "roll_out:   0%|          | 0/2048 [00:00<?, ?it/s]"
      ]
     },
     "metadata": {},
     "output_type": "display_data"
    },
    {
     "data": {
      "application/vnd.jupyter.widget-view+json": {
       "model_id": "d3015025b47f4105b1c0fd319d75b477",
       "version_major": 2,
       "version_minor": 0
      },
      "text/plain": [
       "roll_out:   0%|          | 0/2048 [00:00<?, ?it/s]"
      ]
     },
     "metadata": {},
     "output_type": "display_data"
    },
    {
     "data": {
      "application/vnd.jupyter.widget-view+json": {
       "model_id": "194814ea1168466fafcdc3b78045bfc1",
       "version_major": 2,
       "version_minor": 0
      },
      "text/plain": [
       "roll_out:   0%|          | 0/2048 [00:00<?, ?it/s]"
      ]
     },
     "metadata": {},
     "output_type": "display_data"
    },
    {
     "data": {
      "application/vnd.jupyter.widget-view+json": {
       "model_id": "2dd47a3664904b2fa9f9f7b30dd9ea2c",
       "version_major": 2,
       "version_minor": 0
      },
      "text/plain": [
       "roll_out:   0%|          | 0/2048 [00:00<?, ?it/s]"
      ]
     },
     "metadata": {},
     "output_type": "display_data"
    },
    {
     "data": {
      "application/vnd.jupyter.widget-view+json": {
       "model_id": "d4b4a8d15a074075bea7a4ac9ec74089",
       "version_major": 2,
       "version_minor": 0
      },
      "text/plain": [
       "roll_out:   0%|          | 0/2048 [00:00<?, ?it/s]"
      ]
     },
     "metadata": {},
     "output_type": "display_data"
    },
    {
     "data": {
      "application/vnd.jupyter.widget-view+json": {
       "model_id": "d523a12fae78468bbca9754d88bbb5fa",
       "version_major": 2,
       "version_minor": 0
      },
      "text/plain": [
       "roll_out:   0%|          | 0/2048 [00:00<?, ?it/s]"
      ]
     },
     "metadata": {},
     "output_type": "display_data"
    },
    {
     "data": {
      "application/vnd.jupyter.widget-view+json": {
       "model_id": "b96968953af2408198d37aff2dad672c",
       "version_major": 2,
       "version_minor": 0
      },
      "text/plain": [
       "roll_out:   0%|          | 0/2048 [00:00<?, ?it/s]"
      ]
     },
     "metadata": {},
     "output_type": "display_data"
    },
    {
     "data": {
      "application/vnd.jupyter.widget-view+json": {
       "model_id": "f1222b247067432282a340ef7c688392",
       "version_major": 2,
       "version_minor": 0
      },
      "text/plain": [
       "roll_out:   0%|          | 0/2048 [00:00<?, ?it/s]"
      ]
     },
     "metadata": {},
     "output_type": "display_data"
    },
    {
     "data": {
      "application/vnd.jupyter.widget-view+json": {
       "model_id": "02ff1f9c3462416ba8fcbc673dc365d5",
       "version_major": 2,
       "version_minor": 0
      },
      "text/plain": [
       "roll_out:   0%|          | 0/2048 [00:00<?, ?it/s]"
      ]
     },
     "metadata": {},
     "output_type": "display_data"
    },
    {
     "data": {
      "application/vnd.jupyter.widget-view+json": {
       "model_id": "d95229b4bed24038bf665bb9d5f51f25",
       "version_major": 2,
       "version_minor": 0
      },
      "text/plain": [
       "roll_out:   0%|          | 0/2048 [00:00<?, ?it/s]"
      ]
     },
     "metadata": {},
     "output_type": "display_data"
    },
    {
     "data": {
      "application/vnd.jupyter.widget-view+json": {
       "model_id": "d549eea1e7454f308a4e3ea8965f6fa5",
       "version_major": 2,
       "version_minor": 0
      },
      "text/plain": [
       "roll_out:   0%|          | 0/2048 [00:00<?, ?it/s]"
      ]
     },
     "metadata": {},
     "output_type": "display_data"
    },
    {
     "data": {
      "application/vnd.jupyter.widget-view+json": {
       "model_id": "5d68e8522c5748bd9536908562542af4",
       "version_major": 2,
       "version_minor": 0
      },
      "text/plain": [
       "roll_out:   0%|          | 0/2048 [00:00<?, ?it/s]"
      ]
     },
     "metadata": {},
     "output_type": "display_data"
    },
    {
     "data": {
      "application/vnd.jupyter.widget-view+json": {
       "model_id": "11188bb59c4243dba65109abed4cb65b",
       "version_major": 2,
       "version_minor": 0
      },
      "text/plain": [
       "roll_out:   0%|          | 0/2048 [00:00<?, ?it/s]"
      ]
     },
     "metadata": {},
     "output_type": "display_data"
    },
    {
     "data": {
      "application/vnd.jupyter.widget-view+json": {
       "model_id": "38688f07213a4799b8834bbe40929570",
       "version_major": 2,
       "version_minor": 0
      },
      "text/plain": [
       "roll_out:   0%|          | 0/2048 [00:00<?, ?it/s]"
      ]
     },
     "metadata": {},
     "output_type": "display_data"
    },
    {
     "data": {
      "application/vnd.jupyter.widget-view+json": {
       "model_id": "84d4d8d23d474c5b8473e503ec36004b",
       "version_major": 2,
       "version_minor": 0
      },
      "text/plain": [
       "roll_out:   0%|          | 0/2048 [00:00<?, ?it/s]"
      ]
     },
     "metadata": {},
     "output_type": "display_data"
    },
    {
     "data": {
      "application/vnd.jupyter.widget-view+json": {
       "model_id": "0edb0cb9551b46bd8785c558535e8871",
       "version_major": 2,
       "version_minor": 0
      },
      "text/plain": [
       "roll_out:   0%|          | 0/2048 [00:00<?, ?it/s]"
      ]
     },
     "metadata": {},
     "output_type": "display_data"
    },
    {
     "data": {
      "application/vnd.jupyter.widget-view+json": {
       "model_id": "53ff9a1d51834e78929caa3e240b988e",
       "version_major": 2,
       "version_minor": 0
      },
      "text/plain": [
       "roll_out:   0%|          | 0/2048 [00:00<?, ?it/s]"
      ]
     },
     "metadata": {},
     "output_type": "display_data"
    },
    {
     "data": {
      "application/vnd.jupyter.widget-view+json": {
       "model_id": "fc9809824561469e9da53b74e2ae9c69",
       "version_major": 2,
       "version_minor": 0
      },
      "text/plain": [
       "roll_out:   0%|          | 0/2048 [00:00<?, ?it/s]"
      ]
     },
     "metadata": {},
     "output_type": "display_data"
    },
    {
     "data": {
      "application/vnd.jupyter.widget-view+json": {
       "model_id": "2b473c6a42f64ac7aad19d8e61dee2df",
       "version_major": 2,
       "version_minor": 0
      },
      "text/plain": [
       "roll_out:   0%|          | 0/2048 [00:00<?, ?it/s]"
      ]
     },
     "metadata": {},
     "output_type": "display_data"
    },
    {
     "data": {
      "application/vnd.jupyter.widget-view+json": {
       "model_id": "1b356e767bd74b8fb4fbc8763ff08ebb",
       "version_major": 2,
       "version_minor": 0
      },
      "text/plain": [
       "roll_out:   0%|          | 0/2048 [00:00<?, ?it/s]"
      ]
     },
     "metadata": {},
     "output_type": "display_data"
    },
    {
     "data": {
      "application/vnd.jupyter.widget-view+json": {
       "model_id": "083dbc5126e14341afecaa1b6fd5c04d",
       "version_major": 2,
       "version_minor": 0
      },
      "text/plain": [
       "roll_out:   0%|          | 0/2048 [00:00<?, ?it/s]"
      ]
     },
     "metadata": {},
     "output_type": "display_data"
    },
    {
     "data": {
      "application/vnd.jupyter.widget-view+json": {
       "model_id": "25a46e0ba3e84abf8700169b7e1815db",
       "version_major": 2,
       "version_minor": 0
      },
      "text/plain": [
       "roll_out:   0%|          | 0/2048 [00:00<?, ?it/s]"
      ]
     },
     "metadata": {},
     "output_type": "display_data"
    },
    {
     "data": {
      "application/vnd.jupyter.widget-view+json": {
       "model_id": "aa6b31d235a64334aaf0de337b688636",
       "version_major": 2,
       "version_minor": 0
      },
      "text/plain": [
       "roll_out:   0%|          | 0/2048 [00:00<?, ?it/s]"
      ]
     },
     "metadata": {},
     "output_type": "display_data"
    },
    {
     "data": {
      "application/vnd.jupyter.widget-view+json": {
       "model_id": "063d73e59680400e9525d408c01e3316",
       "version_major": 2,
       "version_minor": 0
      },
      "text/plain": [
       "roll_out:   0%|          | 0/2048 [00:00<?, ?it/s]"
      ]
     },
     "metadata": {},
     "output_type": "display_data"
    },
    {
     "data": {
      "application/vnd.jupyter.widget-view+json": {
       "model_id": "1a30b9db956b4f72848dedb80f286c3d",
       "version_major": 2,
       "version_minor": 0
      },
      "text/plain": [
       "roll_out:   0%|          | 0/2048 [00:00<?, ?it/s]"
      ]
     },
     "metadata": {},
     "output_type": "display_data"
    },
    {
     "data": {
      "application/vnd.jupyter.widget-view+json": {
       "model_id": "164c28d963a045bfa144930a8a8a41ff",
       "version_major": 2,
       "version_minor": 0
      },
      "text/plain": [
       "roll_out:   0%|          | 0/2048 [00:00<?, ?it/s]"
      ]
     },
     "metadata": {},
     "output_type": "display_data"
    },
    {
     "data": {
      "application/vnd.jupyter.widget-view+json": {
       "model_id": "be1af6bc1eff4efa91177768fce945c7",
       "version_major": 2,
       "version_minor": 0
      },
      "text/plain": [
       "roll_out:   0%|          | 0/2048 [00:00<?, ?it/s]"
      ]
     },
     "metadata": {},
     "output_type": "display_data"
    },
    {
     "data": {
      "application/vnd.jupyter.widget-view+json": {
       "model_id": "2d57911a238745b19e986304ebd8602a",
       "version_major": 2,
       "version_minor": 0
      },
      "text/plain": [
       "roll_out:   0%|          | 0/2048 [00:00<?, ?it/s]"
      ]
     },
     "metadata": {},
     "output_type": "display_data"
    },
    {
     "data": {
      "application/vnd.jupyter.widget-view+json": {
       "model_id": "3927cc91a3be4ab3865457a0da64b146",
       "version_major": 2,
       "version_minor": 0
      },
      "text/plain": [
       "roll_out:   0%|          | 0/2048 [00:00<?, ?it/s]"
      ]
     },
     "metadata": {},
     "output_type": "display_data"
    },
    {
     "data": {
      "application/vnd.jupyter.widget-view+json": {
       "model_id": "8694d51d35cb44d6981fcbb890f2bdd8",
       "version_major": 2,
       "version_minor": 0
      },
      "text/plain": [
       "roll_out:   0%|          | 0/2048 [00:00<?, ?it/s]"
      ]
     },
     "metadata": {},
     "output_type": "display_data"
    },
    {
     "data": {
      "application/vnd.jupyter.widget-view+json": {
       "model_id": "5847e81ab20f4828bd1caf354ce34a70",
       "version_major": 2,
       "version_minor": 0
      },
      "text/plain": [
       "roll_out:   0%|          | 0/2048 [00:00<?, ?it/s]"
      ]
     },
     "metadata": {},
     "output_type": "display_data"
    },
    {
     "data": {
      "application/vnd.jupyter.widget-view+json": {
       "model_id": "d0289a25e1d547cbabcc57284e4a50ef",
       "version_major": 2,
       "version_minor": 0
      },
      "text/plain": [
       "roll_out:   0%|          | 0/2048 [00:00<?, ?it/s]"
      ]
     },
     "metadata": {},
     "output_type": "display_data"
    },
    {
     "data": {
      "application/vnd.jupyter.widget-view+json": {
       "model_id": "8af33020edc64d27b43b8140514b9ea7",
       "version_major": 2,
       "version_minor": 0
      },
      "text/plain": [
       "roll_out:   0%|          | 0/2048 [00:00<?, ?it/s]"
      ]
     },
     "metadata": {},
     "output_type": "display_data"
    },
    {
     "data": {
      "application/vnd.jupyter.widget-view+json": {
       "model_id": "21f198b3c8f944c5a71d14350f782954",
       "version_major": 2,
       "version_minor": 0
      },
      "text/plain": [
       "roll_out:   0%|          | 0/2048 [00:00<?, ?it/s]"
      ]
     },
     "metadata": {},
     "output_type": "display_data"
    },
    {
     "data": {
      "application/vnd.jupyter.widget-view+json": {
       "model_id": "ae63146c968c4e81aff396a19c96d4a9",
       "version_major": 2,
       "version_minor": 0
      },
      "text/plain": [
       "roll_out:   0%|          | 0/2048 [00:00<?, ?it/s]"
      ]
     },
     "metadata": {},
     "output_type": "display_data"
    },
    {
     "data": {
      "application/vnd.jupyter.widget-view+json": {
       "model_id": "faf70e3f061d448a90a1a1a9b2570641",
       "version_major": 2,
       "version_minor": 0
      },
      "text/plain": [
       "roll_out:   0%|          | 0/2048 [00:00<?, ?it/s]"
      ]
     },
     "metadata": {},
     "output_type": "display_data"
    },
    {
     "data": {
      "application/vnd.jupyter.widget-view+json": {
       "model_id": "c11f144029fe4424a980aeaa5eef0224",
       "version_major": 2,
       "version_minor": 0
      },
      "text/plain": [
       "roll_out:   0%|          | 0/2048 [00:00<?, ?it/s]"
      ]
     },
     "metadata": {},
     "output_type": "display_data"
    },
    {
     "data": {
      "application/vnd.jupyter.widget-view+json": {
       "model_id": "e68a596b1c0e4d93b4c06982991a5b14",
       "version_major": 2,
       "version_minor": 0
      },
      "text/plain": [
       "roll_out:   0%|          | 0/2048 [00:00<?, ?it/s]"
      ]
     },
     "metadata": {},
     "output_type": "display_data"
    },
    {
     "data": {
      "application/vnd.jupyter.widget-view+json": {
       "model_id": "eea3442571504b7f8efa8afaff425aed",
       "version_major": 2,
       "version_minor": 0
      },
      "text/plain": [
       "roll_out:   0%|          | 0/2048 [00:00<?, ?it/s]"
      ]
     },
     "metadata": {},
     "output_type": "display_data"
    },
    {
     "data": {
      "application/vnd.jupyter.widget-view+json": {
       "model_id": "80aca628b3864f01b59fce82e8cc82fa",
       "version_major": 2,
       "version_minor": 0
      },
      "text/plain": [
       "roll_out:   0%|          | 0/2048 [00:00<?, ?it/s]"
      ]
     },
     "metadata": {},
     "output_type": "display_data"
    },
    {
     "data": {
      "application/vnd.jupyter.widget-view+json": {
       "model_id": "bec84f9a1ba8439aa67222037f57b9aa",
       "version_major": 2,
       "version_minor": 0
      },
      "text/plain": [
       "roll_out:   0%|          | 0/2048 [00:00<?, ?it/s]"
      ]
     },
     "metadata": {},
     "output_type": "display_data"
    },
    {
     "data": {
      "application/vnd.jupyter.widget-view+json": {
       "model_id": "e199604a3e8d4c8cbf0f5ab97b0a866d",
       "version_major": 2,
       "version_minor": 0
      },
      "text/plain": [
       "roll_out:   0%|          | 0/2048 [00:00<?, ?it/s]"
      ]
     },
     "metadata": {},
     "output_type": "display_data"
    },
    {
     "data": {
      "application/vnd.jupyter.widget-view+json": {
       "model_id": "eed02e2906294053986a3a786a4eee48",
       "version_major": 2,
       "version_minor": 0
      },
      "text/plain": [
       "roll_out:   0%|          | 0/2048 [00:00<?, ?it/s]"
      ]
     },
     "metadata": {},
     "output_type": "display_data"
    },
    {
     "data": {
      "application/vnd.jupyter.widget-view+json": {
       "model_id": "62975c4c6d52489cb3656b2f9c0cb934",
       "version_major": 2,
       "version_minor": 0
      },
      "text/plain": [
       "roll_out:   0%|          | 0/2048 [00:00<?, ?it/s]"
      ]
     },
     "metadata": {},
     "output_type": "display_data"
    },
    {
     "data": {
      "application/vnd.jupyter.widget-view+json": {
       "model_id": "c4ed4ff162534b9f938b9f5d8c39220b",
       "version_major": 2,
       "version_minor": 0
      },
      "text/plain": [
       "roll_out:   0%|          | 0/2048 [00:00<?, ?it/s]"
      ]
     },
     "metadata": {},
     "output_type": "display_data"
    },
    {
     "data": {
      "application/vnd.jupyter.widget-view+json": {
       "model_id": "fe9bb419254f4058a6a1121b3759a050",
       "version_major": 2,
       "version_minor": 0
      },
      "text/plain": [
       "roll_out:   0%|          | 0/2048 [00:00<?, ?it/s]"
      ]
     },
     "metadata": {},
     "output_type": "display_data"
    },
    {
     "data": {
      "application/vnd.jupyter.widget-view+json": {
       "model_id": "3235f4c19d8448b5beff45e414cd1344",
       "version_major": 2,
       "version_minor": 0
      },
      "text/plain": [
       "roll_out:   0%|          | 0/2048 [00:00<?, ?it/s]"
      ]
     },
     "metadata": {},
     "output_type": "display_data"
    },
    {
     "data": {
      "application/vnd.jupyter.widget-view+json": {
       "model_id": "39a3887286394f75abdb3d382efe741f",
       "version_major": 2,
       "version_minor": 0
      },
      "text/plain": [
       "roll_out:   0%|          | 0/2048 [00:00<?, ?it/s]"
      ]
     },
     "metadata": {},
     "output_type": "display_data"
    },
    {
     "data": {
      "application/vnd.jupyter.widget-view+json": {
       "model_id": "9835c7b2c22147d8a76133e41c13170a",
       "version_major": 2,
       "version_minor": 0
      },
      "text/plain": [
       "roll_out:   0%|          | 0/2048 [00:00<?, ?it/s]"
      ]
     },
     "metadata": {},
     "output_type": "display_data"
    },
    {
     "data": {
      "application/vnd.jupyter.widget-view+json": {
       "model_id": "898374bc0926454092c28b30b348a1c3",
       "version_major": 2,
       "version_minor": 0
      },
      "text/plain": [
       "roll_out:   0%|          | 0/2048 [00:00<?, ?it/s]"
      ]
     },
     "metadata": {},
     "output_type": "display_data"
    },
    {
     "data": {
      "application/vnd.jupyter.widget-view+json": {
       "model_id": "6ccb12f8bbdb46988a2ef26d4a97ef6b",
       "version_major": 2,
       "version_minor": 0
      },
      "text/plain": [
       "roll_out:   0%|          | 0/2048 [00:00<?, ?it/s]"
      ]
     },
     "metadata": {},
     "output_type": "display_data"
    },
    {
     "data": {
      "application/vnd.jupyter.widget-view+json": {
       "model_id": "9f70009cf4334d41beb0cb301ad647d7",
       "version_major": 2,
       "version_minor": 0
      },
      "text/plain": [
       "roll_out:   0%|          | 0/2048 [00:00<?, ?it/s]"
      ]
     },
     "metadata": {},
     "output_type": "display_data"
    },
    {
     "data": {
      "application/vnd.jupyter.widget-view+json": {
       "model_id": "bd5a4f8b39534759a77966ebcd8ea0c3",
       "version_major": 2,
       "version_minor": 0
      },
      "text/plain": [
       "roll_out:   0%|          | 0/2048 [00:00<?, ?it/s]"
      ]
     },
     "metadata": {},
     "output_type": "display_data"
    },
    {
     "data": {
      "application/vnd.jupyter.widget-view+json": {
       "model_id": "edb6edb6ae0949c4b90b15c99189d000",
       "version_major": 2,
       "version_minor": 0
      },
      "text/plain": [
       "roll_out:   0%|          | 0/2048 [00:00<?, ?it/s]"
      ]
     },
     "metadata": {},
     "output_type": "display_data"
    },
    {
     "data": {
      "application/vnd.jupyter.widget-view+json": {
       "model_id": "e05aaf9b7f8c45dc9e0d49dd6475dcfd",
       "version_major": 2,
       "version_minor": 0
      },
      "text/plain": [
       "roll_out:   0%|          | 0/2048 [00:00<?, ?it/s]"
      ]
     },
     "metadata": {},
     "output_type": "display_data"
    },
    {
     "data": {
      "application/vnd.jupyter.widget-view+json": {
       "model_id": "28f6a58229124ae0a4a6e1e23a797e2c",
       "version_major": 2,
       "version_minor": 0
      },
      "text/plain": [
       "roll_out:   0%|          | 0/2048 [00:00<?, ?it/s]"
      ]
     },
     "metadata": {},
     "output_type": "display_data"
    },
    {
     "data": {
      "application/vnd.jupyter.widget-view+json": {
       "model_id": "9d44de04265a4069833f1f3201660343",
       "version_major": 2,
       "version_minor": 0
      },
      "text/plain": [
       "roll_out:   0%|          | 0/2048 [00:00<?, ?it/s]"
      ]
     },
     "metadata": {},
     "output_type": "display_data"
    },
    {
     "data": {
      "application/vnd.jupyter.widget-view+json": {
       "model_id": "34dd970dc27f458fbd296c6551042069",
       "version_major": 2,
       "version_minor": 0
      },
      "text/plain": [
       "roll_out:   0%|          | 0/2048 [00:00<?, ?it/s]"
      ]
     },
     "metadata": {},
     "output_type": "display_data"
    },
    {
     "data": {
      "application/vnd.jupyter.widget-view+json": {
       "model_id": "a05abec793bb4103a4c8686089c79114",
       "version_major": 2,
       "version_minor": 0
      },
      "text/plain": [
       "roll_out:   0%|          | 0/2048 [00:00<?, ?it/s]"
      ]
     },
     "metadata": {},
     "output_type": "display_data"
    },
    {
     "data": {
      "application/vnd.jupyter.widget-view+json": {
       "model_id": "581571ed1a054424bcdbad7114279b45",
       "version_major": 2,
       "version_minor": 0
      },
      "text/plain": [
       "roll_out:   0%|          | 0/2048 [00:00<?, ?it/s]"
      ]
     },
     "metadata": {},
     "output_type": "display_data"
    },
    {
     "data": {
      "application/vnd.jupyter.widget-view+json": {
       "model_id": "8d3f32c2cc3f45488891eec161e0ce9c",
       "version_major": 2,
       "version_minor": 0
      },
      "text/plain": [
       "roll_out:   0%|          | 0/2048 [00:00<?, ?it/s]"
      ]
     },
     "metadata": {},
     "output_type": "display_data"
    },
    {
     "data": {
      "application/vnd.jupyter.widget-view+json": {
       "model_id": "d739b16445f14a1bbac4279ff2397a3d",
       "version_major": 2,
       "version_minor": 0
      },
      "text/plain": [
       "roll_out:   0%|          | 0/2048 [00:00<?, ?it/s]"
      ]
     },
     "metadata": {},
     "output_type": "display_data"
    },
    {
     "data": {
      "application/vnd.jupyter.widget-view+json": {
       "model_id": "1c52a5dde3464fb7b52e01477baa89e4",
       "version_major": 2,
       "version_minor": 0
      },
      "text/plain": [
       "roll_out:   0%|          | 0/2048 [00:00<?, ?it/s]"
      ]
     },
     "metadata": {},
     "output_type": "display_data"
    },
    {
     "data": {
      "application/vnd.jupyter.widget-view+json": {
       "model_id": "7dcec4d765de47f891c01e98c18f87cf",
       "version_major": 2,
       "version_minor": 0
      },
      "text/plain": [
       "roll_out:   0%|          | 0/2048 [00:00<?, ?it/s]"
      ]
     },
     "metadata": {},
     "output_type": "display_data"
    },
    {
     "data": {
      "application/vnd.jupyter.widget-view+json": {
       "model_id": "6dfdc5bafa2441d5a5fdd92b8eee2d3f",
       "version_major": 2,
       "version_minor": 0
      },
      "text/plain": [
       "roll_out:   0%|          | 0/2048 [00:00<?, ?it/s]"
      ]
     },
     "metadata": {},
     "output_type": "display_data"
    },
    {
     "data": {
      "application/vnd.jupyter.widget-view+json": {
       "model_id": "e4190b7b2a4a41cf98f8025a0d078548",
       "version_major": 2,
       "version_minor": 0
      },
      "text/plain": [
       "roll_out:   0%|          | 0/2048 [00:00<?, ?it/s]"
      ]
     },
     "metadata": {},
     "output_type": "display_data"
    },
    {
     "data": {
      "application/vnd.jupyter.widget-view+json": {
       "model_id": "883ea773621e4b0caa87f86d25ec3b6f",
       "version_major": 2,
       "version_minor": 0
      },
      "text/plain": [
       "roll_out:   0%|          | 0/2048 [00:00<?, ?it/s]"
      ]
     },
     "metadata": {},
     "output_type": "display_data"
    },
    {
     "data": {
      "application/vnd.jupyter.widget-view+json": {
       "model_id": "4a389db8ba9f4dc5aada329adbc1617f",
       "version_major": 2,
       "version_minor": 0
      },
      "text/plain": [
       "roll_out:   0%|          | 0/2048 [00:00<?, ?it/s]"
      ]
     },
     "metadata": {},
     "output_type": "display_data"
    },
    {
     "data": {
      "application/vnd.jupyter.widget-view+json": {
       "model_id": "ab42e6c42d1543cf88fbd697db20575a",
       "version_major": 2,
       "version_minor": 0
      },
      "text/plain": [
       "roll_out:   0%|          | 0/2048 [00:00<?, ?it/s]"
      ]
     },
     "metadata": {},
     "output_type": "display_data"
    },
    {
     "data": {
      "application/vnd.jupyter.widget-view+json": {
       "model_id": "7a892ebf76214607ad798577e209c143",
       "version_major": 2,
       "version_minor": 0
      },
      "text/plain": [
       "roll_out:   0%|          | 0/2048 [00:00<?, ?it/s]"
      ]
     },
     "metadata": {},
     "output_type": "display_data"
    },
    {
     "data": {
      "application/vnd.jupyter.widget-view+json": {
       "model_id": "acc67c40ec7146e2be336a40cbeb0923",
       "version_major": 2,
       "version_minor": 0
      },
      "text/plain": [
       "roll_out:   0%|          | 0/2048 [00:00<?, ?it/s]"
      ]
     },
     "metadata": {},
     "output_type": "display_data"
    },
    {
     "data": {
      "application/vnd.jupyter.widget-view+json": {
       "model_id": "1955ac2596844901a897c8463ef641b8",
       "version_major": 2,
       "version_minor": 0
      },
      "text/plain": [
       "roll_out:   0%|          | 0/2048 [00:00<?, ?it/s]"
      ]
     },
     "metadata": {},
     "output_type": "display_data"
    },
    {
     "data": {
      "application/vnd.jupyter.widget-view+json": {
       "model_id": "3246b50ca5a145d89bfa9a014efdcee5",
       "version_major": 2,
       "version_minor": 0
      },
      "text/plain": [
       "roll_out:   0%|          | 0/2048 [00:00<?, ?it/s]"
      ]
     },
     "metadata": {},
     "output_type": "display_data"
    },
    {
     "data": {
      "application/vnd.jupyter.widget-view+json": {
       "model_id": "d0a4d474732f46eb96cccb9bdd3c37f1",
       "version_major": 2,
       "version_minor": 0
      },
      "text/plain": [
       "roll_out:   0%|          | 0/2048 [00:00<?, ?it/s]"
      ]
     },
     "metadata": {},
     "output_type": "display_data"
    },
    {
     "data": {
      "application/vnd.jupyter.widget-view+json": {
       "model_id": "461be1476307432ca642bbb8f788ba7d",
       "version_major": 2,
       "version_minor": 0
      },
      "text/plain": [
       "roll_out:   0%|          | 0/2048 [00:00<?, ?it/s]"
      ]
     },
     "metadata": {},
     "output_type": "display_data"
    },
    {
     "data": {
      "application/vnd.jupyter.widget-view+json": {
       "model_id": "9d5a6cb69bc54ec0b24463d8b3a4d3ad",
       "version_major": 2,
       "version_minor": 0
      },
      "text/plain": [
       "roll_out:   0%|          | 0/2048 [00:00<?, ?it/s]"
      ]
     },
     "metadata": {},
     "output_type": "display_data"
    },
    {
     "data": {
      "application/vnd.jupyter.widget-view+json": {
       "model_id": "1a0890ff7e684ede945c23ffe200f12f",
       "version_major": 2,
       "version_minor": 0
      },
      "text/plain": [
       "roll_out:   0%|          | 0/2048 [00:00<?, ?it/s]"
      ]
     },
     "metadata": {},
     "output_type": "display_data"
    },
    {
     "data": {
      "application/vnd.jupyter.widget-view+json": {
       "model_id": "6d5980dd2eeb4bc0b7c80a64915890f5",
       "version_major": 2,
       "version_minor": 0
      },
      "text/plain": [
       "roll_out:   0%|          | 0/2048 [00:00<?, ?it/s]"
      ]
     },
     "metadata": {},
     "output_type": "display_data"
    },
    {
     "data": {
      "application/vnd.jupyter.widget-view+json": {
       "model_id": "b48d6ed0d95544efb1620f09b4575181",
       "version_major": 2,
       "version_minor": 0
      },
      "text/plain": [
       "roll_out:   0%|          | 0/2048 [00:00<?, ?it/s]"
      ]
     },
     "metadata": {},
     "output_type": "display_data"
    },
    {
     "data": {
      "application/vnd.jupyter.widget-view+json": {
       "model_id": "91afec9af35748a9ad44b0a4df282f86",
       "version_major": 2,
       "version_minor": 0
      },
      "text/plain": [
       "roll_out:   0%|          | 0/2048 [00:00<?, ?it/s]"
      ]
     },
     "metadata": {},
     "output_type": "display_data"
    },
    {
     "data": {
      "application/vnd.jupyter.widget-view+json": {
       "model_id": "e3fad9202b634841a65e8ab2b4a1bad9",
       "version_major": 2,
       "version_minor": 0
      },
      "text/plain": [
       "roll_out:   0%|          | 0/2048 [00:00<?, ?it/s]"
      ]
     },
     "metadata": {},
     "output_type": "display_data"
    },
    {
     "data": {
      "application/vnd.jupyter.widget-view+json": {
       "model_id": "6919b542358948928440cbcd0034cc71",
       "version_major": 2,
       "version_minor": 0
      },
      "text/plain": [
       "roll_out:   0%|          | 0/2048 [00:00<?, ?it/s]"
      ]
     },
     "metadata": {},
     "output_type": "display_data"
    },
    {
     "data": {
      "application/vnd.jupyter.widget-view+json": {
       "model_id": "87673031db2e408a9fca60395ea65bed",
       "version_major": 2,
       "version_minor": 0
      },
      "text/plain": [
       "roll_out:   0%|          | 0/2048 [00:00<?, ?it/s]"
      ]
     },
     "metadata": {},
     "output_type": "display_data"
    },
    {
     "data": {
      "application/vnd.jupyter.widget-view+json": {
       "model_id": "cbea2b0eb7e14f479eb7ef9ee2e17693",
       "version_major": 2,
       "version_minor": 0
      },
      "text/plain": [
       "roll_out:   0%|          | 0/2048 [00:00<?, ?it/s]"
      ]
     },
     "metadata": {},
     "output_type": "display_data"
    },
    {
     "data": {
      "application/vnd.jupyter.widget-view+json": {
       "model_id": "f4c258de393d42739e78ab030f979efc",
       "version_major": 2,
       "version_minor": 0
      },
      "text/plain": [
       "roll_out:   0%|          | 0/2048 [00:00<?, ?it/s]"
      ]
     },
     "metadata": {},
     "output_type": "display_data"
    },
    {
     "data": {
      "application/vnd.jupyter.widget-view+json": {
       "model_id": "524f91b95523432cb4c2f2c56e1f67a1",
       "version_major": 2,
       "version_minor": 0
      },
      "text/plain": [
       "roll_out:   0%|          | 0/2048 [00:00<?, ?it/s]"
      ]
     },
     "metadata": {},
     "output_type": "display_data"
    },
    {
     "data": {
      "application/vnd.jupyter.widget-view+json": {
       "model_id": "da8248d4d4f144b796cde203719f4fee",
       "version_major": 2,
       "version_minor": 0
      },
      "text/plain": [
       "roll_out:   0%|          | 0/2048 [00:00<?, ?it/s]"
      ]
     },
     "metadata": {},
     "output_type": "display_data"
    },
    {
     "data": {
      "application/vnd.jupyter.widget-view+json": {
       "model_id": "2075c0005f414b1eb8ccf2a1b07954a9",
       "version_major": 2,
       "version_minor": 0
      },
      "text/plain": [
       "roll_out:   0%|          | 0/2048 [00:00<?, ?it/s]"
      ]
     },
     "metadata": {},
     "output_type": "display_data"
    },
    {
     "data": {
      "application/vnd.jupyter.widget-view+json": {
       "model_id": "33ae33bda51b45019543b452be7d0fbc",
       "version_major": 2,
       "version_minor": 0
      },
      "text/plain": [
       "roll_out:   0%|          | 0/2048 [00:00<?, ?it/s]"
      ]
     },
     "metadata": {},
     "output_type": "display_data"
    },
    {
     "data": {
      "application/vnd.jupyter.widget-view+json": {
       "model_id": "6ad64c59a07542d7a14669685f6b125f",
       "version_major": 2,
       "version_minor": 0
      },
      "text/plain": [
       "roll_out:   0%|          | 0/2048 [00:00<?, ?it/s]"
      ]
     },
     "metadata": {},
     "output_type": "display_data"
    },
    {
     "data": {
      "application/vnd.jupyter.widget-view+json": {
       "model_id": "9f9733c584da4d1fa4894cbd521e81e8",
       "version_major": 2,
       "version_minor": 0
      },
      "text/plain": [
       "roll_out:   0%|          | 0/2048 [00:00<?, ?it/s]"
      ]
     },
     "metadata": {},
     "output_type": "display_data"
    },
    {
     "data": {
      "application/vnd.jupyter.widget-view+json": {
       "model_id": "d2af38aac59c47fd8279182ab209cb1b",
       "version_major": 2,
       "version_minor": 0
      },
      "text/plain": [
       "roll_out:   0%|          | 0/2048 [00:00<?, ?it/s]"
      ]
     },
     "metadata": {},
     "output_type": "display_data"
    },
    {
     "data": {
      "application/vnd.jupyter.widget-view+json": {
       "model_id": "51168f0458a145dea28f6756caaff9ec",
       "version_major": 2,
       "version_minor": 0
      },
      "text/plain": [
       "roll_out:   0%|          | 0/2048 [00:00<?, ?it/s]"
      ]
     },
     "metadata": {},
     "output_type": "display_data"
    },
    {
     "data": {
      "application/vnd.jupyter.widget-view+json": {
       "model_id": "393b234a9130457e88132b4fb4268010",
       "version_major": 2,
       "version_minor": 0
      },
      "text/plain": [
       "roll_out:   0%|          | 0/2048 [00:00<?, ?it/s]"
      ]
     },
     "metadata": {},
     "output_type": "display_data"
    },
    {
     "data": {
      "application/vnd.jupyter.widget-view+json": {
       "model_id": "5567aa11e352476d87241335b021e099",
       "version_major": 2,
       "version_minor": 0
      },
      "text/plain": [
       "roll_out:   0%|          | 0/2048 [00:00<?, ?it/s]"
      ]
     },
     "metadata": {},
     "output_type": "display_data"
    },
    {
     "data": {
      "application/vnd.jupyter.widget-view+json": {
       "model_id": "cde5e379badb403594bb5f579ae8419d",
       "version_major": 2,
       "version_minor": 0
      },
      "text/plain": [
       "roll_out:   0%|          | 0/2048 [00:00<?, ?it/s]"
      ]
     },
     "metadata": {},
     "output_type": "display_data"
    },
    {
     "data": {
      "application/vnd.jupyter.widget-view+json": {
       "model_id": "1fd2b5b149c6451e8e45c969a3ba7a4c",
       "version_major": 2,
       "version_minor": 0
      },
      "text/plain": [
       "roll_out:   0%|          | 0/2048 [00:00<?, ?it/s]"
      ]
     },
     "metadata": {},
     "output_type": "display_data"
    },
    {
     "data": {
      "application/vnd.jupyter.widget-view+json": {
       "model_id": "ea313382e35048a89898e0bc848f1f83",
       "version_major": 2,
       "version_minor": 0
      },
      "text/plain": [
       "roll_out:   0%|          | 0/2048 [00:00<?, ?it/s]"
      ]
     },
     "metadata": {},
     "output_type": "display_data"
    },
    {
     "data": {
      "application/vnd.jupyter.widget-view+json": {
       "model_id": "500355cd0d41425e919ba9fd46d14d37",
       "version_major": 2,
       "version_minor": 0
      },
      "text/plain": [
       "roll_out:   0%|          | 0/2048 [00:00<?, ?it/s]"
      ]
     },
     "metadata": {},
     "output_type": "display_data"
    },
    {
     "data": {
      "application/vnd.jupyter.widget-view+json": {
       "model_id": "ee9c51c58e3040f981cfc37f78503c71",
       "version_major": 2,
       "version_minor": 0
      },
      "text/plain": [
       "roll_out:   0%|          | 0/2048 [00:00<?, ?it/s]"
      ]
     },
     "metadata": {},
     "output_type": "display_data"
    },
    {
     "data": {
      "application/vnd.jupyter.widget-view+json": {
       "model_id": "c3e902ea880746f08b9e5e6934c1d3d3",
       "version_major": 2,
       "version_minor": 0
      },
      "text/plain": [
       "roll_out:   0%|          | 0/2048 [00:00<?, ?it/s]"
      ]
     },
     "metadata": {},
     "output_type": "display_data"
    },
    {
     "data": {
      "application/vnd.jupyter.widget-view+json": {
       "model_id": "208739e855204baab0226be428819eb9",
       "version_major": 2,
       "version_minor": 0
      },
      "text/plain": [
       "roll_out:   0%|          | 0/2048 [00:00<?, ?it/s]"
      ]
     },
     "metadata": {},
     "output_type": "display_data"
    },
    {
     "data": {
      "application/vnd.jupyter.widget-view+json": {
       "model_id": "c6d0cd3de1ae4afeb9669c31960f3412",
       "version_major": 2,
       "version_minor": 0
      },
      "text/plain": [
       "roll_out:   0%|          | 0/2048 [00:00<?, ?it/s]"
      ]
     },
     "metadata": {},
     "output_type": "display_data"
    },
    {
     "data": {
      "application/vnd.jupyter.widget-view+json": {
       "model_id": "f1b3133378a9477894d045bd2995f09e",
       "version_major": 2,
       "version_minor": 0
      },
      "text/plain": [
       "roll_out:   0%|          | 0/2048 [00:00<?, ?it/s]"
      ]
     },
     "metadata": {},
     "output_type": "display_data"
    },
    {
     "data": {
      "application/vnd.jupyter.widget-view+json": {
       "model_id": "70b5abbfdd2a42b389a02bbfb26e6bd5",
       "version_major": 2,
       "version_minor": 0
      },
      "text/plain": [
       "roll_out:   0%|          | 0/2048 [00:00<?, ?it/s]"
      ]
     },
     "metadata": {},
     "output_type": "display_data"
    },
    {
     "data": {
      "application/vnd.jupyter.widget-view+json": {
       "model_id": "084f192e135f40a7b359abd233ff8570",
       "version_major": 2,
       "version_minor": 0
      },
      "text/plain": [
       "roll_out:   0%|          | 0/2048 [00:00<?, ?it/s]"
      ]
     },
     "metadata": {},
     "output_type": "display_data"
    },
    {
     "data": {
      "application/vnd.jupyter.widget-view+json": {
       "model_id": "e54ce146f8f94eb0af7576a0c627d2cf",
       "version_major": 2,
       "version_minor": 0
      },
      "text/plain": [
       "roll_out:   0%|          | 0/2048 [00:00<?, ?it/s]"
      ]
     },
     "metadata": {},
     "output_type": "display_data"
    },
    {
     "data": {
      "application/vnd.jupyter.widget-view+json": {
       "model_id": "28c59594cb0f4367a2b0cac2c1cc6c04",
       "version_major": 2,
       "version_minor": 0
      },
      "text/plain": [
       "roll_out:   0%|          | 0/2048 [00:00<?, ?it/s]"
      ]
     },
     "metadata": {},
     "output_type": "display_data"
    },
    {
     "data": {
      "application/vnd.jupyter.widget-view+json": {
       "model_id": "a875e25e5fdd4db5b0ecb2e8a531fb46",
       "version_major": 2,
       "version_minor": 0
      },
      "text/plain": [
       "roll_out:   0%|          | 0/2048 [00:00<?, ?it/s]"
      ]
     },
     "metadata": {},
     "output_type": "display_data"
    },
    {
     "data": {
      "application/vnd.jupyter.widget-view+json": {
       "model_id": "4ea6aeba3f4b4f9798f8dbc33f8d3c15",
       "version_major": 2,
       "version_minor": 0
      },
      "text/plain": [
       "roll_out:   0%|          | 0/2048 [00:00<?, ?it/s]"
      ]
     },
     "metadata": {},
     "output_type": "display_data"
    },
    {
     "data": {
      "application/vnd.jupyter.widget-view+json": {
       "model_id": "046130b8099f45be94bbdfdd852ac72e",
       "version_major": 2,
       "version_minor": 0
      },
      "text/plain": [
       "roll_out:   0%|          | 0/2048 [00:00<?, ?it/s]"
      ]
     },
     "metadata": {},
     "output_type": "display_data"
    },
    {
     "data": {
      "application/vnd.jupyter.widget-view+json": {
       "model_id": "0efb6ca61feb4262afc455e23a0c7e6d",
       "version_major": 2,
       "version_minor": 0
      },
      "text/plain": [
       "roll_out:   0%|          | 0/2048 [00:00<?, ?it/s]"
      ]
     },
     "metadata": {},
     "output_type": "display_data"
    },
    {
     "data": {
      "application/vnd.jupyter.widget-view+json": {
       "model_id": "c9a64384f5c9403cb8f4cb3f0ea95145",
       "version_major": 2,
       "version_minor": 0
      },
      "text/plain": [
       "roll_out:   0%|          | 0/2048 [00:00<?, ?it/s]"
      ]
     },
     "metadata": {},
     "output_type": "display_data"
    },
    {
     "data": {
      "application/vnd.jupyter.widget-view+json": {
       "model_id": "bfa4bc273ee44faf81f6b54b866ddb6b",
       "version_major": 2,
       "version_minor": 0
      },
      "text/plain": [
       "roll_out:   0%|          | 0/2048 [00:00<?, ?it/s]"
      ]
     },
     "metadata": {},
     "output_type": "display_data"
    },
    {
     "data": {
      "application/vnd.jupyter.widget-view+json": {
       "model_id": "1d37c05df3b44afdb882bca8204df005",
       "version_major": 2,
       "version_minor": 0
      },
      "text/plain": [
       "roll_out:   0%|          | 0/2048 [00:00<?, ?it/s]"
      ]
     },
     "metadata": {},
     "output_type": "display_data"
    },
    {
     "data": {
      "application/vnd.jupyter.widget-view+json": {
       "model_id": "6e4833409e574ee186e2b0a7aeadf21a",
       "version_major": 2,
       "version_minor": 0
      },
      "text/plain": [
       "roll_out:   0%|          | 0/2048 [00:00<?, ?it/s]"
      ]
     },
     "metadata": {},
     "output_type": "display_data"
    },
    {
     "data": {
      "application/vnd.jupyter.widget-view+json": {
       "model_id": "99ed8f499a734be18abea2b139e234b0",
       "version_major": 2,
       "version_minor": 0
      },
      "text/plain": [
       "roll_out:   0%|          | 0/2048 [00:00<?, ?it/s]"
      ]
     },
     "metadata": {},
     "output_type": "display_data"
    },
    {
     "data": {
      "application/vnd.jupyter.widget-view+json": {
       "model_id": "5da7fbeb653e4906a67ea9459b43ccbe",
       "version_major": 2,
       "version_minor": 0
      },
      "text/plain": [
       "roll_out:   0%|          | 0/2048 [00:00<?, ?it/s]"
      ]
     },
     "metadata": {},
     "output_type": "display_data"
    },
    {
     "data": {
      "application/vnd.jupyter.widget-view+json": {
       "model_id": "7ec7fdca3fd141089d4b6851e9d8999c",
       "version_major": 2,
       "version_minor": 0
      },
      "text/plain": [
       "roll_out:   0%|          | 0/2048 [00:00<?, ?it/s]"
      ]
     },
     "metadata": {},
     "output_type": "display_data"
    },
    {
     "data": {
      "application/vnd.jupyter.widget-view+json": {
       "model_id": "29086480ca3a431fbe3833e2e481f041",
       "version_major": 2,
       "version_minor": 0
      },
      "text/plain": [
       "roll_out:   0%|          | 0/2048 [00:00<?, ?it/s]"
      ]
     },
     "metadata": {},
     "output_type": "display_data"
    },
    {
     "data": {
      "application/vnd.jupyter.widget-view+json": {
       "model_id": "f66124c271ac48afb2f758896caa56ae",
       "version_major": 2,
       "version_minor": 0
      },
      "text/plain": [
       "roll_out:   0%|          | 0/2048 [00:00<?, ?it/s]"
      ]
     },
     "metadata": {},
     "output_type": "display_data"
    },
    {
     "data": {
      "application/vnd.jupyter.widget-view+json": {
       "model_id": "5cc9b24716e84ad68d8762c9738b90c7",
       "version_major": 2,
       "version_minor": 0
      },
      "text/plain": [
       "roll_out:   0%|          | 0/2048 [00:00<?, ?it/s]"
      ]
     },
     "metadata": {},
     "output_type": "display_data"
    },
    {
     "data": {
      "application/vnd.jupyter.widget-view+json": {
       "model_id": "dc08adebbe06433ba6f9e4f50f2a3610",
       "version_major": 2,
       "version_minor": 0
      },
      "text/plain": [
       "roll_out:   0%|          | 0/2048 [00:00<?, ?it/s]"
      ]
     },
     "metadata": {},
     "output_type": "display_data"
    },
    {
     "data": {
      "application/vnd.jupyter.widget-view+json": {
       "model_id": "e1e9c6a7e0234a66bf701732a1591921",
       "version_major": 2,
       "version_minor": 0
      },
      "text/plain": [
       "roll_out:   0%|          | 0/2048 [00:00<?, ?it/s]"
      ]
     },
     "metadata": {},
     "output_type": "display_data"
    },
    {
     "data": {
      "application/vnd.jupyter.widget-view+json": {
       "model_id": "9d29be9e7e8348f5a5944ceac8752a50",
       "version_major": 2,
       "version_minor": 0
      },
      "text/plain": [
       "roll_out:   0%|          | 0/2048 [00:00<?, ?it/s]"
      ]
     },
     "metadata": {},
     "output_type": "display_data"
    },
    {
     "data": {
      "application/vnd.jupyter.widget-view+json": {
       "model_id": "75fd446e99024746a09a46f24754d189",
       "version_major": 2,
       "version_minor": 0
      },
      "text/plain": [
       "roll_out:   0%|          | 0/2048 [00:00<?, ?it/s]"
      ]
     },
     "metadata": {},
     "output_type": "display_data"
    },
    {
     "data": {
      "application/vnd.jupyter.widget-view+json": {
       "model_id": "0c6203da035a4fc5b51e7d227be91ac6",
       "version_major": 2,
       "version_minor": 0
      },
      "text/plain": [
       "roll_out:   0%|          | 0/2048 [00:00<?, ?it/s]"
      ]
     },
     "metadata": {},
     "output_type": "display_data"
    },
    {
     "data": {
      "application/vnd.jupyter.widget-view+json": {
       "model_id": "2569f56bc05b489a88be11e8f140137c",
       "version_major": 2,
       "version_minor": 0
      },
      "text/plain": [
       "roll_out:   0%|          | 0/2048 [00:00<?, ?it/s]"
      ]
     },
     "metadata": {},
     "output_type": "display_data"
    },
    {
     "data": {
      "application/vnd.jupyter.widget-view+json": {
       "model_id": "cd879e720f104d57956c43474c11278d",
       "version_major": 2,
       "version_minor": 0
      },
      "text/plain": [
       "roll_out:   0%|          | 0/2048 [00:00<?, ?it/s]"
      ]
     },
     "metadata": {},
     "output_type": "display_data"
    },
    {
     "data": {
      "application/vnd.jupyter.widget-view+json": {
       "model_id": "feb1fd20b3de41ffaafe2827838f7958",
       "version_major": 2,
       "version_minor": 0
      },
      "text/plain": [
       "roll_out:   0%|          | 0/2048 [00:00<?, ?it/s]"
      ]
     },
     "metadata": {},
     "output_type": "display_data"
    },
    {
     "data": {
      "application/vnd.jupyter.widget-view+json": {
       "model_id": "f6b2e37fa4ac4f0e9e98f6df074f3f96",
       "version_major": 2,
       "version_minor": 0
      },
      "text/plain": [
       "roll_out:   0%|          | 0/2048 [00:00<?, ?it/s]"
      ]
     },
     "metadata": {},
     "output_type": "display_data"
    },
    {
     "data": {
      "application/vnd.jupyter.widget-view+json": {
       "model_id": "ed9d9c9189eb42c4b74f1a63a0c233f9",
       "version_major": 2,
       "version_minor": 0
      },
      "text/plain": [
       "roll_out:   0%|          | 0/2048 [00:00<?, ?it/s]"
      ]
     },
     "metadata": {},
     "output_type": "display_data"
    },
    {
     "data": {
      "application/vnd.jupyter.widget-view+json": {
       "model_id": "d6cd7f996148460f9d923b161f5c2dd7",
       "version_major": 2,
       "version_minor": 0
      },
      "text/plain": [
       "roll_out:   0%|          | 0/2048 [00:00<?, ?it/s]"
      ]
     },
     "metadata": {},
     "output_type": "display_data"
    },
    {
     "data": {
      "application/vnd.jupyter.widget-view+json": {
       "model_id": "3742118208c542aa9eeef0ba664a5368",
       "version_major": 2,
       "version_minor": 0
      },
      "text/plain": [
       "roll_out:   0%|          | 0/2048 [00:00<?, ?it/s]"
      ]
     },
     "metadata": {},
     "output_type": "display_data"
    },
    {
     "data": {
      "application/vnd.jupyter.widget-view+json": {
       "model_id": "0c33a9f2986643b99b998126a4cd3687",
       "version_major": 2,
       "version_minor": 0
      },
      "text/plain": [
       "roll_out:   0%|          | 0/2048 [00:00<?, ?it/s]"
      ]
     },
     "metadata": {},
     "output_type": "display_data"
    },
    {
     "data": {
      "application/vnd.jupyter.widget-view+json": {
       "model_id": "48c8a95867604e14a1bbc41709f7e86a",
       "version_major": 2,
       "version_minor": 0
      },
      "text/plain": [
       "roll_out:   0%|          | 0/2048 [00:00<?, ?it/s]"
      ]
     },
     "metadata": {},
     "output_type": "display_data"
    },
    {
     "data": {
      "application/vnd.jupyter.widget-view+json": {
       "model_id": "148d08f2e28a4bf5907e9a1133b9f610",
       "version_major": 2,
       "version_minor": 0
      },
      "text/plain": [
       "roll_out:   0%|          | 0/2048 [00:00<?, ?it/s]"
      ]
     },
     "metadata": {},
     "output_type": "display_data"
    },
    {
     "data": {
      "application/vnd.jupyter.widget-view+json": {
       "model_id": "d601e659ab9f4a2b8ce41c7f050f97d8",
       "version_major": 2,
       "version_minor": 0
      },
      "text/plain": [
       "roll_out:   0%|          | 0/2048 [00:00<?, ?it/s]"
      ]
     },
     "metadata": {},
     "output_type": "display_data"
    },
    {
     "data": {
      "application/vnd.jupyter.widget-view+json": {
       "model_id": "937dd35d8d4d4cb4a89300fca618bd32",
       "version_major": 2,
       "version_minor": 0
      },
      "text/plain": [
       "roll_out:   0%|          | 0/2048 [00:00<?, ?it/s]"
      ]
     },
     "metadata": {},
     "output_type": "display_data"
    },
    {
     "data": {
      "application/vnd.jupyter.widget-view+json": {
       "model_id": "b25167eecf08417397643bacb2ecb7c7",
       "version_major": 2,
       "version_minor": 0
      },
      "text/plain": [
       "roll_out:   0%|          | 0/2048 [00:00<?, ?it/s]"
      ]
     },
     "metadata": {},
     "output_type": "display_data"
    },
    {
     "data": {
      "application/vnd.jupyter.widget-view+json": {
       "model_id": "9a16bae41cd643e48873a2fc0a5496fd",
       "version_major": 2,
       "version_minor": 0
      },
      "text/plain": [
       "roll_out:   0%|          | 0/2048 [00:00<?, ?it/s]"
      ]
     },
     "metadata": {},
     "output_type": "display_data"
    },
    {
     "data": {
      "application/vnd.jupyter.widget-view+json": {
       "model_id": "5a4470de5269480c8a05278e7933d9b8",
       "version_major": 2,
       "version_minor": 0
      },
      "text/plain": [
       "roll_out:   0%|          | 0/2048 [00:00<?, ?it/s]"
      ]
     },
     "metadata": {},
     "output_type": "display_data"
    },
    {
     "data": {
      "application/vnd.jupyter.widget-view+json": {
       "model_id": "7950a5585f8a4cbc923e19a00912c934",
       "version_major": 2,
       "version_minor": 0
      },
      "text/plain": [
       "roll_out:   0%|          | 0/2048 [00:00<?, ?it/s]"
      ]
     },
     "metadata": {},
     "output_type": "display_data"
    },
    {
     "data": {
      "application/vnd.jupyter.widget-view+json": {
       "model_id": "c782703b53274385a9cb59d26eba314a",
       "version_major": 2,
       "version_minor": 0
      },
      "text/plain": [
       "roll_out:   0%|          | 0/2048 [00:00<?, ?it/s]"
      ]
     },
     "metadata": {},
     "output_type": "display_data"
    },
    {
     "data": {
      "application/vnd.jupyter.widget-view+json": {
       "model_id": "12974a002aac406dbacbff551332ce5b",
       "version_major": 2,
       "version_minor": 0
      },
      "text/plain": [
       "roll_out:   0%|          | 0/2048 [00:00<?, ?it/s]"
      ]
     },
     "metadata": {},
     "output_type": "display_data"
    },
    {
     "data": {
      "application/vnd.jupyter.widget-view+json": {
       "model_id": "06fbef0f3b1a4d6486d233efef200fd1",
       "version_major": 2,
       "version_minor": 0
      },
      "text/plain": [
       "roll_out:   0%|          | 0/2048 [00:00<?, ?it/s]"
      ]
     },
     "metadata": {},
     "output_type": "display_data"
    },
    {
     "data": {
      "application/vnd.jupyter.widget-view+json": {
       "model_id": "8baa3ddece1e445f828466b738eb4c9a",
       "version_major": 2,
       "version_minor": 0
      },
      "text/plain": [
       "roll_out:   0%|          | 0/2048 [00:00<?, ?it/s]"
      ]
     },
     "metadata": {},
     "output_type": "display_data"
    },
    {
     "data": {
      "application/vnd.jupyter.widget-view+json": {
       "model_id": "4039a6ae765c4ccbb097e67253e8e8ce",
       "version_major": 2,
       "version_minor": 0
      },
      "text/plain": [
       "roll_out:   0%|          | 0/2048 [00:00<?, ?it/s]"
      ]
     },
     "metadata": {},
     "output_type": "display_data"
    },
    {
     "data": {
      "application/vnd.jupyter.widget-view+json": {
       "model_id": "53c50403be5144139361f829b68fc8da",
       "version_major": 2,
       "version_minor": 0
      },
      "text/plain": [
       "roll_out:   0%|          | 0/2048 [00:00<?, ?it/s]"
      ]
     },
     "metadata": {},
     "output_type": "display_data"
    },
    {
     "data": {
      "application/vnd.jupyter.widget-view+json": {
       "model_id": "5a721859f36e4d13a24862a8b9816610",
       "version_major": 2,
       "version_minor": 0
      },
      "text/plain": [
       "roll_out:   0%|          | 0/2048 [00:00<?, ?it/s]"
      ]
     },
     "metadata": {},
     "output_type": "display_data"
    },
    {
     "data": {
      "application/vnd.jupyter.widget-view+json": {
       "model_id": "f251f2c3d11f48fd82a0c730ea2533c6",
       "version_major": 2,
       "version_minor": 0
      },
      "text/plain": [
       "roll_out:   0%|          | 0/2048 [00:00<?, ?it/s]"
      ]
     },
     "metadata": {},
     "output_type": "display_data"
    },
    {
     "data": {
      "application/vnd.jupyter.widget-view+json": {
       "model_id": "d9352cdfa0444a11a695168433cf675a",
       "version_major": 2,
       "version_minor": 0
      },
      "text/plain": [
       "roll_out:   0%|          | 0/2048 [00:00<?, ?it/s]"
      ]
     },
     "metadata": {},
     "output_type": "display_data"
    },
    {
     "data": {
      "application/vnd.jupyter.widget-view+json": {
       "model_id": "c1346d0a88d64360909572b52caecd54",
       "version_major": 2,
       "version_minor": 0
      },
      "text/plain": [
       "roll_out:   0%|          | 0/2048 [00:00<?, ?it/s]"
      ]
     },
     "metadata": {},
     "output_type": "display_data"
    },
    {
     "data": {
      "application/vnd.jupyter.widget-view+json": {
       "model_id": "bdc1a628e7d2426cba75bdcc1f439371",
       "version_major": 2,
       "version_minor": 0
      },
      "text/plain": [
       "roll_out:   0%|          | 0/2048 [00:00<?, ?it/s]"
      ]
     },
     "metadata": {},
     "output_type": "display_data"
    },
    {
     "data": {
      "application/vnd.jupyter.widget-view+json": {
       "model_id": "cb8d14032fa34df4a3b676b0fea2667b",
       "version_major": 2,
       "version_minor": 0
      },
      "text/plain": [
       "roll_out:   0%|          | 0/2048 [00:00<?, ?it/s]"
      ]
     },
     "metadata": {},
     "output_type": "display_data"
    },
    {
     "data": {
      "application/vnd.jupyter.widget-view+json": {
       "model_id": "5b280036b34e48d587bd994a7b2df573",
       "version_major": 2,
       "version_minor": 0
      },
      "text/plain": [
       "roll_out:   0%|          | 0/2048 [00:00<?, ?it/s]"
      ]
     },
     "metadata": {},
     "output_type": "display_data"
    },
    {
     "data": {
      "application/vnd.jupyter.widget-view+json": {
       "model_id": "c3fa75db11b94137b6661ceb508dd8cf",
       "version_major": 2,
       "version_minor": 0
      },
      "text/plain": [
       "roll_out:   0%|          | 0/2048 [00:00<?, ?it/s]"
      ]
     },
     "metadata": {},
     "output_type": "display_data"
    },
    {
     "data": {
      "application/vnd.jupyter.widget-view+json": {
       "model_id": "f24ac70a14ea49eaa7bf463d4bcd3e89",
       "version_major": 2,
       "version_minor": 0
      },
      "text/plain": [
       "roll_out:   0%|          | 0/2048 [00:00<?, ?it/s]"
      ]
     },
     "metadata": {},
     "output_type": "display_data"
    },
    {
     "data": {
      "application/vnd.jupyter.widget-view+json": {
       "model_id": "63cc00d48bd74b4f892b1d8f03b562cf",
       "version_major": 2,
       "version_minor": 0
      },
      "text/plain": [
       "roll_out:   0%|          | 0/2048 [00:00<?, ?it/s]"
      ]
     },
     "metadata": {},
     "output_type": "display_data"
    },
    {
     "data": {
      "application/vnd.jupyter.widget-view+json": {
       "model_id": "d3fc524f2ba94246b65a4fa65c2b7f4e",
       "version_major": 2,
       "version_minor": 0
      },
      "text/plain": [
       "roll_out:   0%|          | 0/2048 [00:00<?, ?it/s]"
      ]
     },
     "metadata": {},
     "output_type": "display_data"
    },
    {
     "data": {
      "application/vnd.jupyter.widget-view+json": {
       "model_id": "52b804873bba4b1787416772719636c0",
       "version_major": 2,
       "version_minor": 0
      },
      "text/plain": [
       "roll_out:   0%|          | 0/2048 [00:00<?, ?it/s]"
      ]
     },
     "metadata": {},
     "output_type": "display_data"
    },
    {
     "data": {
      "application/vnd.jupyter.widget-view+json": {
       "model_id": "329a4cb176dd4bd9bf9b48bd01a0d89c",
       "version_major": 2,
       "version_minor": 0
      },
      "text/plain": [
       "roll_out:   0%|          | 0/2048 [00:00<?, ?it/s]"
      ]
     },
     "metadata": {},
     "output_type": "display_data"
    },
    {
     "data": {
      "application/vnd.jupyter.widget-view+json": {
       "model_id": "b5f44b8ad1dc47639457ba89295c4a9e",
       "version_major": 2,
       "version_minor": 0
      },
      "text/plain": [
       "roll_out:   0%|          | 0/2048 [00:00<?, ?it/s]"
      ]
     },
     "metadata": {},
     "output_type": "display_data"
    },
    {
     "data": {
      "application/vnd.jupyter.widget-view+json": {
       "model_id": "3e47274768fc474d8f37a8b62f814d66",
       "version_major": 2,
       "version_minor": 0
      },
      "text/plain": [
       "roll_out:   0%|          | 0/2048 [00:00<?, ?it/s]"
      ]
     },
     "metadata": {},
     "output_type": "display_data"
    },
    {
     "data": {
      "application/vnd.jupyter.widget-view+json": {
       "model_id": "e6ea82d33d124f34891ff5454cc2537f",
       "version_major": 2,
       "version_minor": 0
      },
      "text/plain": [
       "roll_out:   0%|          | 0/2048 [00:00<?, ?it/s]"
      ]
     },
     "metadata": {},
     "output_type": "display_data"
    },
    {
     "data": {
      "application/vnd.jupyter.widget-view+json": {
       "model_id": "759b92fecfda4c6baa03f72674ed57a7",
       "version_major": 2,
       "version_minor": 0
      },
      "text/plain": [
       "roll_out:   0%|          | 0/2048 [00:00<?, ?it/s]"
      ]
     },
     "metadata": {},
     "output_type": "display_data"
    },
    {
     "data": {
      "application/vnd.jupyter.widget-view+json": {
       "model_id": "87a2266e6d9f4df09a78d13c13bdccf5",
       "version_major": 2,
       "version_minor": 0
      },
      "text/plain": [
       "roll_out:   0%|          | 0/2048 [00:00<?, ?it/s]"
      ]
     },
     "metadata": {},
     "output_type": "display_data"
    },
    {
     "data": {
      "application/vnd.jupyter.widget-view+json": {
       "model_id": "dd42bbdb3efe4a8b96bb64bbb726e4d4",
       "version_major": 2,
       "version_minor": 0
      },
      "text/plain": [
       "roll_out:   0%|          | 0/2048 [00:00<?, ?it/s]"
      ]
     },
     "metadata": {},
     "output_type": "display_data"
    },
    {
     "data": {
      "application/vnd.jupyter.widget-view+json": {
       "model_id": "44d6f033d6c847b0912eb83b775c5d2e",
       "version_major": 2,
       "version_minor": 0
      },
      "text/plain": [
       "roll_out:   0%|          | 0/2048 [00:00<?, ?it/s]"
      ]
     },
     "metadata": {},
     "output_type": "display_data"
    },
    {
     "data": {
      "application/vnd.jupyter.widget-view+json": {
       "model_id": "ce4d9c358a6b48a598ae865299698da8",
       "version_major": 2,
       "version_minor": 0
      },
      "text/plain": [
       "roll_out:   0%|          | 0/2048 [00:00<?, ?it/s]"
      ]
     },
     "metadata": {},
     "output_type": "display_data"
    },
    {
     "data": {
      "application/vnd.jupyter.widget-view+json": {
       "model_id": "688912a05f3b4a9fa56fed51618fb07f",
       "version_major": 2,
       "version_minor": 0
      },
      "text/plain": [
       "roll_out:   0%|          | 0/2048 [00:00<?, ?it/s]"
      ]
     },
     "metadata": {},
     "output_type": "display_data"
    },
    {
     "data": {
      "application/vnd.jupyter.widget-view+json": {
       "model_id": "2c3b1e28fecb4c1f8b9926e4cc4da05f",
       "version_major": 2,
       "version_minor": 0
      },
      "text/plain": [
       "roll_out:   0%|          | 0/2048 [00:00<?, ?it/s]"
      ]
     },
     "metadata": {},
     "output_type": "display_data"
    },
    {
     "data": {
      "application/vnd.jupyter.widget-view+json": {
       "model_id": "9efc233cec494d87bbb925bced95830b",
       "version_major": 2,
       "version_minor": 0
      },
      "text/plain": [
       "roll_out:   0%|          | 0/2048 [00:00<?, ?it/s]"
      ]
     },
     "metadata": {},
     "output_type": "display_data"
    },
    {
     "data": {
      "application/vnd.jupyter.widget-view+json": {
       "model_id": "116874498a2843349afcf2813fb44995",
       "version_major": 2,
       "version_minor": 0
      },
      "text/plain": [
       "roll_out:   0%|          | 0/2048 [00:00<?, ?it/s]"
      ]
     },
     "metadata": {},
     "output_type": "display_data"
    },
    {
     "data": {
      "application/vnd.jupyter.widget-view+json": {
       "model_id": "7f21092cc47449f9bbb2a73c40200a81",
       "version_major": 2,
       "version_minor": 0
      },
      "text/plain": [
       "roll_out:   0%|          | 0/2048 [00:00<?, ?it/s]"
      ]
     },
     "metadata": {},
     "output_type": "display_data"
    },
    {
     "data": {
      "application/vnd.jupyter.widget-view+json": {
       "model_id": "0eb87255a3374b65a82aa610f72eae13",
       "version_major": 2,
       "version_minor": 0
      },
      "text/plain": [
       "roll_out:   0%|          | 0/2048 [00:00<?, ?it/s]"
      ]
     },
     "metadata": {},
     "output_type": "display_data"
    },
    {
     "data": {
      "application/vnd.jupyter.widget-view+json": {
       "model_id": "1bcc0dc95bf14409b12dc7fa3b8d94eb",
       "version_major": 2,
       "version_minor": 0
      },
      "text/plain": [
       "roll_out:   0%|          | 0/2048 [00:00<?, ?it/s]"
      ]
     },
     "metadata": {},
     "output_type": "display_data"
    },
    {
     "data": {
      "application/vnd.jupyter.widget-view+json": {
       "model_id": "cf006621a46a4abd93b5c647bdc4b72c",
       "version_major": 2,
       "version_minor": 0
      },
      "text/plain": [
       "roll_out:   0%|          | 0/2048 [00:00<?, ?it/s]"
      ]
     },
     "metadata": {},
     "output_type": "display_data"
    },
    {
     "data": {
      "application/vnd.jupyter.widget-view+json": {
       "model_id": "abf6aef0426845e79b10abbd222d0289",
       "version_major": 2,
       "version_minor": 0
      },
      "text/plain": [
       "roll_out:   0%|          | 0/2048 [00:00<?, ?it/s]"
      ]
     },
     "metadata": {},
     "output_type": "display_data"
    },
    {
     "data": {
      "application/vnd.jupyter.widget-view+json": {
       "model_id": "017430f1aa5b43bd9e30fc07eb2494be",
       "version_major": 2,
       "version_minor": 0
      },
      "text/plain": [
       "roll_out:   0%|          | 0/2048 [00:00<?, ?it/s]"
      ]
     },
     "metadata": {},
     "output_type": "display_data"
    },
    {
     "data": {
      "application/vnd.jupyter.widget-view+json": {
       "model_id": "42ec89594a274946af5d48fbef93ac62",
       "version_major": 2,
       "version_minor": 0
      },
      "text/plain": [
       "roll_out:   0%|          | 0/2048 [00:00<?, ?it/s]"
      ]
     },
     "metadata": {},
     "output_type": "display_data"
    },
    {
     "data": {
      "application/vnd.jupyter.widget-view+json": {
       "model_id": "ba619e70b6044f96bbc2b1fbcbc8a1b4",
       "version_major": 2,
       "version_minor": 0
      },
      "text/plain": [
       "roll_out:   0%|          | 0/2048 [00:00<?, ?it/s]"
      ]
     },
     "metadata": {},
     "output_type": "display_data"
    },
    {
     "data": {
      "application/vnd.jupyter.widget-view+json": {
       "model_id": "589d7e17148a4d13b14e8443981a37a1",
       "version_major": 2,
       "version_minor": 0
      },
      "text/plain": [
       "roll_out:   0%|          | 0/2048 [00:00<?, ?it/s]"
      ]
     },
     "metadata": {},
     "output_type": "display_data"
    },
    {
     "data": {
      "application/vnd.jupyter.widget-view+json": {
       "model_id": "e1d76eac0e344e1eb7ba63f79e96994f",
       "version_major": 2,
       "version_minor": 0
      },
      "text/plain": [
       "roll_out:   0%|          | 0/2048 [00:00<?, ?it/s]"
      ]
     },
     "metadata": {},
     "output_type": "display_data"
    },
    {
     "data": {
      "application/vnd.jupyter.widget-view+json": {
       "model_id": "b0840d44ecb8405da636fe9e7f5dfd00",
       "version_major": 2,
       "version_minor": 0
      },
      "text/plain": [
       "roll_out:   0%|          | 0/2048 [00:00<?, ?it/s]"
      ]
     },
     "metadata": {},
     "output_type": "display_data"
    },
    {
     "data": {
      "application/vnd.jupyter.widget-view+json": {
       "model_id": "bca4fb4ebe5a448ca49c87f8e3874b00",
       "version_major": 2,
       "version_minor": 0
      },
      "text/plain": [
       "roll_out:   0%|          | 0/2048 [00:00<?, ?it/s]"
      ]
     },
     "metadata": {},
     "output_type": "display_data"
    },
    {
     "data": {
      "application/vnd.jupyter.widget-view+json": {
       "model_id": "a194b2f802ed4ca58130872e206e4d70",
       "version_major": 2,
       "version_minor": 0
      },
      "text/plain": [
       "roll_out:   0%|          | 0/2048 [00:00<?, ?it/s]"
      ]
     },
     "metadata": {},
     "output_type": "display_data"
    },
    {
     "data": {
      "application/vnd.jupyter.widget-view+json": {
       "model_id": "51c846bc3a754512a312db056df1a7f4",
       "version_major": 2,
       "version_minor": 0
      },
      "text/plain": [
       "roll_out:   0%|          | 0/2048 [00:00<?, ?it/s]"
      ]
     },
     "metadata": {},
     "output_type": "display_data"
    },
    {
     "data": {
      "application/vnd.jupyter.widget-view+json": {
       "model_id": "3a7fffd58f164f06a7baa44c5a83855a",
       "version_major": 2,
       "version_minor": 0
      },
      "text/plain": [
       "roll_out:   0%|          | 0/2048 [00:00<?, ?it/s]"
      ]
     },
     "metadata": {},
     "output_type": "display_data"
    },
    {
     "data": {
      "application/vnd.jupyter.widget-view+json": {
       "model_id": "4963c98680e041159d75c7d19b796c58",
       "version_major": 2,
       "version_minor": 0
      },
      "text/plain": [
       "roll_out:   0%|          | 0/2048 [00:00<?, ?it/s]"
      ]
     },
     "metadata": {},
     "output_type": "display_data"
    },
    {
     "data": {
      "application/vnd.jupyter.widget-view+json": {
       "model_id": "c0b0d6e2fc3c4f25a131632aea7472fc",
       "version_major": 2,
       "version_minor": 0
      },
      "text/plain": [
       "roll_out:   0%|          | 0/2048 [00:00<?, ?it/s]"
      ]
     },
     "metadata": {},
     "output_type": "display_data"
    },
    {
     "data": {
      "application/vnd.jupyter.widget-view+json": {
       "model_id": "137728eb13f34e2c8ad41bac73d82e39",
       "version_major": 2,
       "version_minor": 0
      },
      "text/plain": [
       "roll_out:   0%|          | 0/2048 [00:00<?, ?it/s]"
      ]
     },
     "metadata": {},
     "output_type": "display_data"
    },
    {
     "data": {
      "application/vnd.jupyter.widget-view+json": {
       "model_id": "3fbd015968d74536ae33282e0e22d042",
       "version_major": 2,
       "version_minor": 0
      },
      "text/plain": [
       "roll_out:   0%|          | 0/2048 [00:00<?, ?it/s]"
      ]
     },
     "metadata": {},
     "output_type": "display_data"
    },
    {
     "data": {
      "application/vnd.jupyter.widget-view+json": {
       "model_id": "117428f16c29452bae1744590de4ae48",
       "version_major": 2,
       "version_minor": 0
      },
      "text/plain": [
       "roll_out:   0%|          | 0/2048 [00:00<?, ?it/s]"
      ]
     },
     "metadata": {},
     "output_type": "display_data"
    },
    {
     "data": {
      "application/vnd.jupyter.widget-view+json": {
       "model_id": "bb13885cd7d7492a80543e2ca5ba83de",
       "version_major": 2,
       "version_minor": 0
      },
      "text/plain": [
       "roll_out:   0%|          | 0/2048 [00:00<?, ?it/s]"
      ]
     },
     "metadata": {},
     "output_type": "display_data"
    },
    {
     "data": {
      "application/vnd.jupyter.widget-view+json": {
       "model_id": "8df174b4abea469f9115e550f0dcc950",
       "version_major": 2,
       "version_minor": 0
      },
      "text/plain": [
       "roll_out:   0%|          | 0/2048 [00:00<?, ?it/s]"
      ]
     },
     "metadata": {},
     "output_type": "display_data"
    },
    {
     "data": {
      "application/vnd.jupyter.widget-view+json": {
       "model_id": "b57a6eab60bc486f9db48cfbf9f2304a",
       "version_major": 2,
       "version_minor": 0
      },
      "text/plain": [
       "roll_out:   0%|          | 0/2048 [00:00<?, ?it/s]"
      ]
     },
     "metadata": {},
     "output_type": "display_data"
    },
    {
     "data": {
      "application/vnd.jupyter.widget-view+json": {
       "model_id": "8cf931a515de4681b9c4638d724b96f5",
       "version_major": 2,
       "version_minor": 0
      },
      "text/plain": [
       "roll_out:   0%|          | 0/2048 [00:00<?, ?it/s]"
      ]
     },
     "metadata": {},
     "output_type": "display_data"
    },
    {
     "data": {
      "application/vnd.jupyter.widget-view+json": {
       "model_id": "c968a7449452404395727a7d7ee13336",
       "version_major": 2,
       "version_minor": 0
      },
      "text/plain": [
       "roll_out:   0%|          | 0/2048 [00:00<?, ?it/s]"
      ]
     },
     "metadata": {},
     "output_type": "display_data"
    },
    {
     "data": {
      "application/vnd.jupyter.widget-view+json": {
       "model_id": "03be0a2dbb454e9ab68f249f6b5e5cad",
       "version_major": 2,
       "version_minor": 0
      },
      "text/plain": [
       "roll_out:   0%|          | 0/2048 [00:00<?, ?it/s]"
      ]
     },
     "metadata": {},
     "output_type": "display_data"
    },
    {
     "data": {
      "application/vnd.jupyter.widget-view+json": {
       "model_id": "968fc6a2f4124d7186d16835e4e9114e",
       "version_major": 2,
       "version_minor": 0
      },
      "text/plain": [
       "roll_out:   0%|          | 0/2048 [00:00<?, ?it/s]"
      ]
     },
     "metadata": {},
     "output_type": "display_data"
    },
    {
     "data": {
      "application/vnd.jupyter.widget-view+json": {
       "model_id": "759b38862ee142e8a705d1c92d662d44",
       "version_major": 2,
       "version_minor": 0
      },
      "text/plain": [
       "roll_out:   0%|          | 0/2048 [00:00<?, ?it/s]"
      ]
     },
     "metadata": {},
     "output_type": "display_data"
    },
    {
     "data": {
      "application/vnd.jupyter.widget-view+json": {
       "model_id": "a865271301f64aaf94f32f1d412e95af",
       "version_major": 2,
       "version_minor": 0
      },
      "text/plain": [
       "roll_out:   0%|          | 0/2048 [00:00<?, ?it/s]"
      ]
     },
     "metadata": {},
     "output_type": "display_data"
    },
    {
     "data": {
      "application/vnd.jupyter.widget-view+json": {
       "model_id": "2c1b84dfbf374f83a7eca0fa2b263fff",
       "version_major": 2,
       "version_minor": 0
      },
      "text/plain": [
       "roll_out:   0%|          | 0/2048 [00:00<?, ?it/s]"
      ]
     },
     "metadata": {},
     "output_type": "display_data"
    },
    {
     "data": {
      "application/vnd.jupyter.widget-view+json": {
       "model_id": "0bacac961b01410b9f5b4ebb76b0c4a1",
       "version_major": 2,
       "version_minor": 0
      },
      "text/plain": [
       "roll_out:   0%|          | 0/2048 [00:00<?, ?it/s]"
      ]
     },
     "metadata": {},
     "output_type": "display_data"
    },
    {
     "data": {
      "application/vnd.jupyter.widget-view+json": {
       "model_id": "676329725d724d689614aa4d662c220f",
       "version_major": 2,
       "version_minor": 0
      },
      "text/plain": [
       "roll_out:   0%|          | 0/2048 [00:00<?, ?it/s]"
      ]
     },
     "metadata": {},
     "output_type": "display_data"
    },
    {
     "data": {
      "application/vnd.jupyter.widget-view+json": {
       "model_id": "0ac89eb28b20404a809eff7a09ba804a",
       "version_major": 2,
       "version_minor": 0
      },
      "text/plain": [
       "roll_out:   0%|          | 0/2048 [00:00<?, ?it/s]"
      ]
     },
     "metadata": {},
     "output_type": "display_data"
    },
    {
     "data": {
      "application/vnd.jupyter.widget-view+json": {
       "model_id": "9fcfbf3550434456937a337aec6a4707",
       "version_major": 2,
       "version_minor": 0
      },
      "text/plain": [
       "roll_out:   0%|          | 0/2048 [00:00<?, ?it/s]"
      ]
     },
     "metadata": {},
     "output_type": "display_data"
    },
    {
     "data": {
      "application/vnd.jupyter.widget-view+json": {
       "model_id": "e0e22111dc7d4a68a352275e13673f78",
       "version_major": 2,
       "version_minor": 0
      },
      "text/plain": [
       "roll_out:   0%|          | 0/2048 [00:00<?, ?it/s]"
      ]
     },
     "metadata": {},
     "output_type": "display_data"
    },
    {
     "data": {
      "application/vnd.jupyter.widget-view+json": {
       "model_id": "9014a12cecdb4158aa43110727c0305b",
       "version_major": 2,
       "version_minor": 0
      },
      "text/plain": [
       "roll_out:   0%|          | 0/2048 [00:00<?, ?it/s]"
      ]
     },
     "metadata": {},
     "output_type": "display_data"
    },
    {
     "data": {
      "application/vnd.jupyter.widget-view+json": {
       "model_id": "fad0bd6944eb4def8d440acaef7b1a49",
       "version_major": 2,
       "version_minor": 0
      },
      "text/plain": [
       "roll_out:   0%|          | 0/2048 [00:00<?, ?it/s]"
      ]
     },
     "metadata": {},
     "output_type": "display_data"
    },
    {
     "data": {
      "application/vnd.jupyter.widget-view+json": {
       "model_id": "2a8faf7ba1534e0b8519c20e99c2846b",
       "version_major": 2,
       "version_minor": 0
      },
      "text/plain": [
       "roll_out:   0%|          | 0/2048 [00:00<?, ?it/s]"
      ]
     },
     "metadata": {},
     "output_type": "display_data"
    },
    {
     "data": {
      "application/vnd.jupyter.widget-view+json": {
       "model_id": "572d2611d5104fbea9561e9ea9fe1440",
       "version_major": 2,
       "version_minor": 0
      },
      "text/plain": [
       "roll_out:   0%|          | 0/2048 [00:00<?, ?it/s]"
      ]
     },
     "metadata": {},
     "output_type": "display_data"
    },
    {
     "data": {
      "application/vnd.jupyter.widget-view+json": {
       "model_id": "eb4c5cee1dc443a5b70a345605be8bb9",
       "version_major": 2,
       "version_minor": 0
      },
      "text/plain": [
       "roll_out:   0%|          | 0/2048 [00:00<?, ?it/s]"
      ]
     },
     "metadata": {},
     "output_type": "display_data"
    },
    {
     "data": {
      "application/vnd.jupyter.widget-view+json": {
       "model_id": "d889feef65a54c43ad5aa9e0b3724ed0",
       "version_major": 2,
       "version_minor": 0
      },
      "text/plain": [
       "roll_out:   0%|          | 0/2048 [00:00<?, ?it/s]"
      ]
     },
     "metadata": {},
     "output_type": "display_data"
    },
    {
     "data": {
      "application/vnd.jupyter.widget-view+json": {
       "model_id": "97db44a80aea415e8b18b9627303f0d4",
       "version_major": 2,
       "version_minor": 0
      },
      "text/plain": [
       "roll_out:   0%|          | 0/2048 [00:00<?, ?it/s]"
      ]
     },
     "metadata": {},
     "output_type": "display_data"
    },
    {
     "data": {
      "application/vnd.jupyter.widget-view+json": {
       "model_id": "ea212f5c1463476b8fff88dddbb22006",
       "version_major": 2,
       "version_minor": 0
      },
      "text/plain": [
       "roll_out:   0%|          | 0/2048 [00:00<?, ?it/s]"
      ]
     },
     "metadata": {},
     "output_type": "display_data"
    },
    {
     "data": {
      "application/vnd.jupyter.widget-view+json": {
       "model_id": "70f3675036854b6d936124eb87e19373",
       "version_major": 2,
       "version_minor": 0
      },
      "text/plain": [
       "roll_out:   0%|          | 0/2048 [00:00<?, ?it/s]"
      ]
     },
     "metadata": {},
     "output_type": "display_data"
    },
    {
     "data": {
      "application/vnd.jupyter.widget-view+json": {
       "model_id": "4f36757748b84007b2a14a10b225eba0",
       "version_major": 2,
       "version_minor": 0
      },
      "text/plain": [
       "roll_out:   0%|          | 0/2048 [00:00<?, ?it/s]"
      ]
     },
     "metadata": {},
     "output_type": "display_data"
    },
    {
     "data": {
      "application/vnd.jupyter.widget-view+json": {
       "model_id": "bcb2cdfb80d54987a7e4ac05c8703d36",
       "version_major": 2,
       "version_minor": 0
      },
      "text/plain": [
       "roll_out:   0%|          | 0/2048 [00:00<?, ?it/s]"
      ]
     },
     "metadata": {},
     "output_type": "display_data"
    },
    {
     "data": {
      "application/vnd.jupyter.widget-view+json": {
       "model_id": "e36b578f3aed41cb845b6385aa221f3e",
       "version_major": 2,
       "version_minor": 0
      },
      "text/plain": [
       "roll_out:   0%|          | 0/2048 [00:00<?, ?it/s]"
      ]
     },
     "metadata": {},
     "output_type": "display_data"
    },
    {
     "data": {
      "application/vnd.jupyter.widget-view+json": {
       "model_id": "05d451b5e7a344c382a16d75a29bba42",
       "version_major": 2,
       "version_minor": 0
      },
      "text/plain": [
       "roll_out:   0%|          | 0/2048 [00:00<?, ?it/s]"
      ]
     },
     "metadata": {},
     "output_type": "display_data"
    },
    {
     "data": {
      "application/vnd.jupyter.widget-view+json": {
       "model_id": "af0ba14b32054c7db08e244b22abaea4",
       "version_major": 2,
       "version_minor": 0
      },
      "text/plain": [
       "roll_out:   0%|          | 0/2048 [00:00<?, ?it/s]"
      ]
     },
     "metadata": {},
     "output_type": "display_data"
    },
    {
     "data": {
      "application/vnd.jupyter.widget-view+json": {
       "model_id": "e13aaf2373bd4c8ebf603113a3782e57",
       "version_major": 2,
       "version_minor": 0
      },
      "text/plain": [
       "roll_out:   0%|          | 0/2048 [00:00<?, ?it/s]"
      ]
     },
     "metadata": {},
     "output_type": "display_data"
    },
    {
     "data": {
      "application/vnd.jupyter.widget-view+json": {
       "model_id": "6ee7eafb7c68445e8e3d092b7daa23a2",
       "version_major": 2,
       "version_minor": 0
      },
      "text/plain": [
       "roll_out:   0%|          | 0/2048 [00:00<?, ?it/s]"
      ]
     },
     "metadata": {},
     "output_type": "display_data"
    },
    {
     "data": {
      "application/vnd.jupyter.widget-view+json": {
       "model_id": "d43fe3ac098c484dbb65433ea5c38b20",
       "version_major": 2,
       "version_minor": 0
      },
      "text/plain": [
       "roll_out:   0%|          | 0/2048 [00:00<?, ?it/s]"
      ]
     },
     "metadata": {},
     "output_type": "display_data"
    },
    {
     "data": {
      "application/vnd.jupyter.widget-view+json": {
       "model_id": "f06f0436d5344bca9c1f1485c6630f36",
       "version_major": 2,
       "version_minor": 0
      },
      "text/plain": [
       "roll_out:   0%|          | 0/2048 [00:00<?, ?it/s]"
      ]
     },
     "metadata": {},
     "output_type": "display_data"
    },
    {
     "data": {
      "application/vnd.jupyter.widget-view+json": {
       "model_id": "fd5b8082b8d34446bf312b23b92ddd43",
       "version_major": 2,
       "version_minor": 0
      },
      "text/plain": [
       "roll_out:   0%|          | 0/2048 [00:00<?, ?it/s]"
      ]
     },
     "metadata": {},
     "output_type": "display_data"
    },
    {
     "data": {
      "application/vnd.jupyter.widget-view+json": {
       "model_id": "245ca3c501994f169f03276f2d7bbae3",
       "version_major": 2,
       "version_minor": 0
      },
      "text/plain": [
       "roll_out:   0%|          | 0/2048 [00:00<?, ?it/s]"
      ]
     },
     "metadata": {},
     "output_type": "display_data"
    },
    {
     "data": {
      "application/vnd.jupyter.widget-view+json": {
       "model_id": "f0b87a69d7724e19a6f1f56c88726bf9",
       "version_major": 2,
       "version_minor": 0
      },
      "text/plain": [
       "roll_out:   0%|          | 0/2048 [00:00<?, ?it/s]"
      ]
     },
     "metadata": {},
     "output_type": "display_data"
    },
    {
     "data": {
      "application/vnd.jupyter.widget-view+json": {
       "model_id": "f2e4cb45ed71444b8871c82244c84b13",
       "version_major": 2,
       "version_minor": 0
      },
      "text/plain": [
       "roll_out:   0%|          | 0/2048 [00:00<?, ?it/s]"
      ]
     },
     "metadata": {},
     "output_type": "display_data"
    },
    {
     "data": {
      "application/vnd.jupyter.widget-view+json": {
       "model_id": "b5763b0f31fe44e9aab066372615b4a2",
       "version_major": 2,
       "version_minor": 0
      },
      "text/plain": [
       "roll_out:   0%|          | 0/2048 [00:00<?, ?it/s]"
      ]
     },
     "metadata": {},
     "output_type": "display_data"
    },
    {
     "data": {
      "application/vnd.jupyter.widget-view+json": {
       "model_id": "de2740fa343941b7927210caa32cf251",
       "version_major": 2,
       "version_minor": 0
      },
      "text/plain": [
       "roll_out:   0%|          | 0/2048 [00:00<?, ?it/s]"
      ]
     },
     "metadata": {},
     "output_type": "display_data"
    },
    {
     "data": {
      "application/vnd.jupyter.widget-view+json": {
       "model_id": "db4504bd9f834aee9d9a6740ac82ab9a",
       "version_major": 2,
       "version_minor": 0
      },
      "text/plain": [
       "roll_out:   0%|          | 0/2048 [00:00<?, ?it/s]"
      ]
     },
     "metadata": {},
     "output_type": "display_data"
    },
    {
     "data": {
      "application/vnd.jupyter.widget-view+json": {
       "model_id": "a7695a8b2fbf4fddb96435a404980589",
       "version_major": 2,
       "version_minor": 0
      },
      "text/plain": [
       "roll_out:   0%|          | 0/2048 [00:00<?, ?it/s]"
      ]
     },
     "metadata": {},
     "output_type": "display_data"
    },
    {
     "data": {
      "application/vnd.jupyter.widget-view+json": {
       "model_id": "9231915feeb8452698a4990416bd75cf",
       "version_major": 2,
       "version_minor": 0
      },
      "text/plain": [
       "roll_out:   0%|          | 0/2048 [00:00<?, ?it/s]"
      ]
     },
     "metadata": {},
     "output_type": "display_data"
    },
    {
     "data": {
      "application/vnd.jupyter.widget-view+json": {
       "model_id": "c213e8c71eba483bb7ad0379e28456d1",
       "version_major": 2,
       "version_minor": 0
      },
      "text/plain": [
       "roll_out:   0%|          | 0/2048 [00:00<?, ?it/s]"
      ]
     },
     "metadata": {},
     "output_type": "display_data"
    },
    {
     "data": {
      "text/html": [
       "Waiting for W&B process to finish... <strong style=\"color:green\">(success).</strong>"
      ],
      "text/plain": [
       "<IPython.core.display.HTML object>"
      ]
     },
     "metadata": {},
     "output_type": "display_data"
    },
    {
     "data": {
      "application/vnd.jupyter.widget-view+json": {
       "model_id": "d9f89e5bcf614858a4ea90d153df4a59",
       "version_major": 2,
       "version_minor": 0
      },
      "text/plain": [
       "VBox(children=(Label(value='0.003 MB of 0.003 MB uploaded (0.000 MB deduped)\\r'), FloatProgress(value=1.0, max…"
      ]
     },
     "metadata": {},
     "output_type": "display_data"
    },
    {
     "data": {
      "text/html": [
       "<style>\n",
       "    table.wandb td:nth-child(1) { padding: 0 10px; text-align: left ; width: auto;} td:nth-child(2) {text-align: left ; width: 100%}\n",
       "    .wandb-row { display: flex; flex-direction: row; flex-wrap: wrap; justify-content: flex-start; width: 100% }\n",
       "    .wandb-col { display: flex; flex-direction: column; flex-basis: 100%; flex: 1; padding: 10px; }\n",
       "    </style>\n",
       "<div class=\"wandb-row\"><div class=\"wandb-col\"><h3>Run history:</h3><br/><table class=\"wandb\"><tr><td>KL_approx</td><td>▁▂▃▁▂▄▃▄▂▃▄█▄▄▅▃▄▄▃▃▃▂▅▃▄▃▄▄▅▃▄▄▄▄▄▄▄▅▄▅</td></tr><tr><td>actor_loss</td><td>▅▃▅▇▄▃▄▅▂▆▂▇▅▇▁▆▃▆▅█▂▆█▃▃▅▇▃▁▂▆▃▄▅▅▁▇▆▂▅</td></tr><tr><td>critic_loss</td><td>▁▁▁▂▁▂▂▃▂▂▂▂▃▂▃▃▂▃▃▃▄▂▃▄▃▃▂▄▄▄▂▃▆▃█▅▃▅█▆</td></tr><tr><td>episode_reward</td><td>▂▃▃▃▃▄▄▄▄▄▄▄▄▅▅▄▅▅▅▅▆▆▆▆▆▇▆▇▇▇▇▇█▂█▇▆▇█▁</td></tr><tr><td>rtgs_mean</td><td>▁▁▂▂▃▃▂▃▄▃▃▃▄▃▄▄▂▄▄▅▄▅▆▆▂▃▆▃▆▇▇█▇▇▅█▆▅▄█</td></tr><tr><td>values_mean</td><td>▁▁▂▂▂▃▂▃▃▃▃▃▃▃▄▄▂▄▄▅▄▅▆▆▂▂▆▃▆▆▇█▇▇▅▇▅▅▄█</td></tr></table><br/></div><div class=\"wandb-col\"><h3>Run summary:</h3><br/><table class=\"wandb\"><tr><td>actor_loss</td><td>-0.01664</td></tr><tr><td>critic_loss</td><td>1358.78003</td></tr><tr><td>early_stop_count</td><td>0</td></tr><tr><td>episode_reward</td><td>-744.52039</td></tr><tr><td>rtgs_mean</td><td>-30.4379</td></tr><tr><td>total_episode</td><td>976</td></tr><tr><td>values_mean</td><td>-27.15597</td></tr></table><br/></div></div>"
      ],
      "text/plain": [
       "<IPython.core.display.HTML object>"
      ]
     },
     "metadata": {},
     "output_type": "display_data"
    },
    {
     "data": {
      "text/html": [
       " View run <strong style=\"color:#cdcd00\">skilled-sweep-1</strong> at: <a href='https://wandb.ai/tcd-clearway/PPO-HalfCheetah-v2/runs/plk7tszp' target=\"_blank\">https://wandb.ai/tcd-clearway/PPO-HalfCheetah-v2/runs/plk7tszp</a><br/>Synced 6 W&B file(s), 0 media file(s), 0 artifact file(s) and 0 other file(s)"
      ],
      "text/plain": [
       "<IPython.core.display.HTML object>"
      ]
     },
     "metadata": {},
     "output_type": "display_data"
    },
    {
     "data": {
      "text/html": [
       "Find logs at: <code>./wandb/run-20230725_100232-plk7tszp/logs</code>"
      ],
      "text/plain": [
       "<IPython.core.display.HTML object>"
      ]
     },
     "metadata": {},
     "output_type": "display_data"
    }
   ],
   "source": [
    "sweep_configuration = {\n",
    "    'method': 'random',\n",
    "    'metric':{'goal':'maximize', 'name':'episode_reward'},\n",
    "    'parameters':\n",
    "    {\n",
    "        'actor_lr' : {'value' : 3e-4},\n",
    "        'memory_size' : {'value' : 2048},\n",
    "        'k_epochs' : {'value' : 10},\n",
    "        'gamma' : {'value' : 0.99},\n",
    "        'lam' : {'value' : 0.95}, \n",
    "        'early_stop': {'value': False},\n",
    "        'cal_total_loss' : {'value' : False},\n",
    "        'parameters_hardshare' : {'value' : False},\n",
    "        'c1' : {'value': 0.5},\n",
    "        'c2' : {'value' : 0},\n",
    "        # 'kl_threshold' : {'min': 0.01, 'max': 0.04},\n",
    "        'minibatch_size' : {'value' : 64}\n",
    "    }\n",
    "}\n",
    "%env \"WANDB_NOTEBOOK_NAME\" \"PPO_GYM\"\n",
    "sweep_id = wandb.sweep(sweep=sweep_configuration, project='PPO-HalfCheetah-v2')\n",
    "wandb.agent(sweep_id, function=main, count=1)"
   ]
  },
  {
   "cell_type": "markdown",
   "metadata": {},
   "source": [
    "### Sweep configuration for Pendulum\n",
    "#### Continous action space"
   ]
  },
  {
   "cell_type": "code",
   "execution_count": null,
   "metadata": {},
   "outputs": [],
   "source": [
    "sweep_configuration = {\n",
    "    'method': 'grid',\n",
    "    'metric':{'goal':'maximize', 'name':'episode_reward'},\n",
    "    'parameters':\n",
    "    {\n",
    "        'early_stop': {'value': False},\n",
    "        'cal_total_loss' : {'value' : True},\n",
    "        'parameters_hardshare' : {'value' : False},\n",
    "        'c1' : {'value': 0.5020639303776493},\n",
    "        'c2' : {'value' : 0.910077248529638},\n",
    "        # 'kl_threshold' : {'min': 0.01, 'max': 0.04},\n",
    "        'minibatch_size' : {'values' : [128, 256, 512, 1024]}\n",
    "    }\n",
    "}\n",
    "%env \"WANDB_NOTEBOOK_NAME\" \"PPO_GYM\"\n",
    "sweep_id = wandb.sweep(sweep=sweep_configuration, project='PPO-Pendulum-2')\n",
    "wandb.agent(sweep_id, function=main, count=4)"
   ]
  },
  {
   "cell_type": "code",
   "execution_count": null,
   "metadata": {},
   "outputs": [],
   "source": []
  },
  {
   "cell_type": "code",
   "execution_count": null,
   "metadata": {},
   "outputs": [],
   "source": []
  },
  {
   "cell_type": "code",
   "execution_count": null,
   "metadata": {},
   "outputs": [],
   "source": []
  },
  {
   "cell_type": "code",
   "execution_count": null,
   "metadata": {},
   "outputs": [],
   "source": []
  },
  {
   "cell_type": "code",
   "execution_count": null,
   "metadata": {},
   "outputs": [],
   "source": []
  },
  {
   "cell_type": "code",
   "execution_count": null,
   "metadata": {},
   "outputs": [],
   "source": []
  },
  {
   "cell_type": "code",
   "execution_count": null,
   "metadata": {},
   "outputs": [],
   "source": []
  }
 ],
 "metadata": {
  "kernelspec": {
   "display_name": "Python 3",
   "language": "python",
   "name": "python3"
  },
  "language_info": {
   "codemirror_mode": {
    "name": "ipython",
    "version": 3
   },
   "file_extension": ".py",
   "mimetype": "text/x-python",
   "name": "python",
   "nbconvert_exporter": "python",
   "pygments_lexer": "ipython3",
   "version": "3.9.17"
  },
  "orig_nbformat": 4
 },
 "nbformat": 4,
 "nbformat_minor": 2
}

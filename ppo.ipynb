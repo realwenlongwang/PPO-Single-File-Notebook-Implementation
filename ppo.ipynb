{
 "cells": [
  {
   "cell_type": "code",
   "execution_count": 14,
   "metadata": {},
   "outputs": [],
   "source": [
    "from torch import nn\n",
    "import torch.nn.functional as F\n",
    "import torch\n",
    "from torch.distributions import Categorical, Normal\n",
    "import gymnasium as gym\n",
    "from tqdm.notebook import tnrange\n",
    "import numpy as np\n",
    "import scipy\n",
    "import wandb\n",
    "from gymnasium.spaces import Box, Discrete\n",
    "import os"
   ]
  },
  {
   "cell_type": "code",
   "execution_count": 15,
   "metadata": {},
   "outputs": [],
   "source": [
    "def discount_cumsum(x, discount):\n",
    "    \"\"\"\n",
    "    magic from rllab for computing discounted cumulative sums of vectors.\n",
    "\n",
    "    input: \n",
    "        vector x, \n",
    "        [x0, \n",
    "         x1, \n",
    "         x2]\n",
    "\n",
    "    output:\n",
    "        [x0 + discount * x1 + discount^2 * x2,  \n",
    "         x1 + discount * x2,\n",
    "         x2]\n",
    "    \"\"\"\n",
    "    return scipy.signal.lfilter([1], [1, float(-discount)], x[::-1], axis=0)[::-1]\n",
    "\n",
    "\n",
    "def combined_shape(length, shape=None):\n",
    "    if shape is None:\n",
    "        return (length,)\n",
    "    return (length, shape) if np.isscalar(shape) else (length, *shape)\n",
    "\n",
    "class PPOBuffer():\n",
    "    def __init__(self, observation_dim, action_dim, capacity, gamma, lam):\n",
    "        self.obs_buf = np.zeros(combined_shape(capacity, observation_dim), dtype=np.float32)\n",
    "        self.act_buf = np.zeros(combined_shape(capacity, action_dim), dtype=np.float32)\n",
    "        self.adv_buf = np.zeros(capacity, dtype=np.float32)\n",
    "        self.rew_buf = np.zeros(capacity, dtype=np.float32)\n",
    "        self.rtg_buf = np.zeros(capacity, dtype=np.float32)\n",
    "        self.val_buf = np.zeros(capacity, dtype=np.float32)\n",
    "        self.logp_buf = np.zeros(capacity, dtype=np.float32)\n",
    "        # self.logp_buf = np.zeros(combined_shape(capacity, action_dim), dtype=np.float32)\n",
    "        self.capacity = capacity\n",
    "        self.idx = 0\n",
    "        self.path_idx = 0\n",
    "        self.gamma = gamma\n",
    "        self.lam = lam\n",
    "\n",
    "    def push(self, obs, act, rew, val, logp):\n",
    "        assert self.idx < self.capacity\n",
    "        self.obs_buf[self.idx] = obs\n",
    "        self.act_buf[self.idx] = act\n",
    "        self.rew_buf[self.idx] = rew\n",
    "        self.val_buf[self.idx] = val\n",
    "        self.logp_buf[self.idx] = logp\n",
    "\n",
    "        self.idx += 1\n",
    "\n",
    "    def GAE_cal(self, last_val):\n",
    "        path_slice = slice(self.path_idx, self.idx)\n",
    "        # to make the deltas the same dim\n",
    "        rewards = np.append(self.rew_buf[path_slice], last_val)\n",
    "        vals = np.append(self.val_buf[path_slice], last_val)\n",
    "\n",
    "        deltas = rewards[:-1] + self.gamma * vals[1:] - vals[:-1]\n",
    "        self.adv_buf[path_slice] = discount_cumsum(deltas, self.gamma * self.lam)\n",
    "\n",
    "        ### OpenAI spinning up implemetation comment: No ideal, big value loss when episode rewards are large\n",
    "        # self.rtg_buf[path_slice] = discount_cumsum(rewards, self.gamma)[:-1]\n",
    "\n",
    "        ### OpenAI stable_baseline3 implementation\n",
    "        ### in David Silver Lecture 4: https://www.youtube.com/watch?v=PnHCvfgC_ZA\n",
    "        ### TD(lambda) estimator, see \"Telescoping in TD(lambda)\"\n",
    "        self.rtg_buf[path_slice] = self.adv_buf[path_slice] + self.val_buf[path_slice]\n",
    "        \n",
    "        self.path_idx = self.idx\n",
    "\n",
    "                \n",
    "    def sample(self, minibatch_size, device):\n",
    "        \"\"\"This method sample a list of minibatches from the memory\n",
    "\n",
    "        Args:\n",
    "            minibatch_size (int): size of minibatch, usually 2^n\n",
    "            device (object): CPU or GPU\n",
    "\n",
    "        Returns:\n",
    "            list: a list of minibatches\n",
    "        \"\"\"\n",
    "        assert self.idx == self.capacity\n",
    "        # reset the index\n",
    "        self.idx, self.path_idx = 0, 0\n",
    "        # normalise advantage\n",
    "        self.adv_buf = (self.adv_buf - np.mean(self.adv_buf)) / (np.std(self.adv_buf) + 1e-7)\n",
    "        \n",
    "        inds = np.arange(self.capacity)\n",
    "        \n",
    "        np.random.shuffle(inds)\n",
    "        \n",
    "        data = []\n",
    "        for start in range(0, self.capacity, minibatch_size):\n",
    "            end = start + minibatch_size\n",
    "            minibatch_inds = inds[start:end]\n",
    "            minibatch = dict(obs=self.obs_buf[minibatch_inds], act=self.act_buf[minibatch_inds], \\\n",
    "                             rtg=self.rtg_buf[minibatch_inds], adv=self.adv_buf[minibatch_inds], \\\n",
    "                             logp=self.logp_buf[minibatch_inds])\n",
    "            data.append({k: torch.as_tensor(v, dtype=torch.float32, device=device) for k,v in minibatch.items()})\n",
    "        \n",
    "        return data"
   ]
  },
  {
   "cell_type": "code",
   "execution_count": 16,
   "metadata": {},
   "outputs": [],
   "source": [
    "class Actor_Net(nn.Module):\n",
    "    def __init__(self, n_observations, n_actions, num_cells, continous_action):\n",
    "        super(Actor_Net,self).__init__()\n",
    "        \n",
    "        self.layer1 = nn.Linear(n_observations, num_cells)\n",
    "        self.layer2 = nn.Linear(num_cells, num_cells)\n",
    "        self.layer3 = nn.Linear(num_cells, n_actions)\n",
    "\n",
    "        self.continous_action = continous_action\n",
    "        self.action_dim = n_actions\n",
    "        \n",
    "        if self.continous_action:\n",
    "            log_std = -0.5 * np.ones(self.action_dim, dtype=np.float32)\n",
    "            # Add it to the list of parameters\n",
    "            self.log_std = torch.nn.Parameter(torch.as_tensor(log_std))            \n",
    "\n",
    "        \n",
    "\n",
    "    def forward(self, x):\n",
    "        activation1 = F.tanh(self.layer1(x))\n",
    "        activation2 = F.tanh(self.layer2(activation1))\n",
    "        activation3 = self.layer3(activation2)\n",
    "\n",
    "        return activation3\n",
    "    \n",
    "    def act(self, x):\n",
    "        if self.continous_action:\n",
    "            mu = self.forward(x)\n",
    "            std = torch.exp(self.log_std)\n",
    "            dist = Normal(mu, std)\n",
    "        else:\n",
    "            log_probs = F.log_softmax(self.forward(x), dim=1)\n",
    "            dist = Categorical(log_probs)\n",
    "    \n",
    "        action = dist.sample()\n",
    "        if self.continous_action:\n",
    "            action_logprob = dist.log_prob(action).sum(axis=-1)\n",
    "        else:\n",
    "            action_logprob = dist.log_prob(action)\n",
    "\n",
    "        return action.detach().cpu().numpy(), action_logprob.detach().cpu().numpy()\n",
    "    \n",
    "    def logprob_ent_from_state_acton(self, x, act):\n",
    "        if self.continous_action:\n",
    "            mu = self.forward(x)\n",
    "            std = torch.exp(self.log_std)\n",
    "            dist = Normal(mu, std)\n",
    "            # sum term is crucial to reduce dimension, otherwise the ratio = torch.exp(logp - logp_old) will have wrong result with boardcasting\n",
    "            act_logp = dist.log_prob(act).sum(axis=-1) \n",
    "        else:\n",
    "            dist = Categorical(F.softmax(self.forward(x)))\n",
    "            act_logp = dist.log_prob(act)\n",
    "        entropy = dist.entropy()\n",
    "        \n",
    "        return entropy, act_logp\n",
    "    \n",
    "   \n",
    "class Critic_Net(nn.Module):\n",
    "    def __init__(self, n_observations, num_cells):\n",
    "        super(Critic_Net,self).__init__()\n",
    "        self.layer1 = nn.Linear(n_observations, num_cells)\n",
    "        self.layer2 = nn.Linear(num_cells, num_cells)\n",
    "        self.layer3 = nn.Linear(num_cells, 1)\n",
    "\n",
    "    def forward(self, x):\n",
    "        activation1 = F.tanh(self.layer1(x))\n",
    "        activation2 = F.tanh(self.layer2(activation1))\n",
    "        activation3 = self.layer3(activation2)\n",
    "\n",
    "        return activation3\n",
    "\n",
    "class Actor_Critic_net(nn.Module):\n",
    "    def __init__(self, obs_dim, act_dim, hidden_dim, continous_action, parameters_hardshare):\n",
    "\n",
    "        super(Actor_Critic_net, self).__init__()\n",
    "\n",
    "        self.parameters_hardshare = parameters_hardshare\n",
    "        self.continous_action = continous_action\n",
    "        self.act_dim = act_dim\n",
    "        if self.continous_action:\n",
    "            log_std = -0.5 * np.ones(self.act_dim, dtype=np.float32)\n",
    "            # Add it to the list of parameters\n",
    "            self.log_std = torch.nn.Parameter(torch.as_tensor(log_std))\n",
    "\n",
    "        if self.parameters_hardshare:\n",
    "            self.layer1 = nn.Linear(obs_dim, hidden_dim)\n",
    "            self.layer2 = nn.Linear(hidden_dim, hidden_dim)\n",
    "\n",
    "            self.actor_head = nn.Linear(hidden_dim, act_dim)\n",
    "            self.critic_head = nn.Linear(hidden_dim, 1)\n",
    "\n",
    "        else:\n",
    "            self.actor = Actor_Net(obs_dim, act_dim, hidden_dim, continous_action)\n",
    "            self.critic = Critic_Net(obs_dim, hidden_dim)\n",
    "\n",
    "\n",
    "    def forward(self, x):\n",
    "        if self.parameters_hardshare:\n",
    "            activation1 = F.tanh(self.layer1(x))\n",
    "            activation2 = F.tanh(self.layer2(activation1))\n",
    "            actor_logits = self.actor_head(activation2)\n",
    "            value = self.critic_head(activation2)\n",
    "        else:\n",
    "            actor_logits = self.actor.forward(x)\n",
    "            value = self.critic.forward(x)\n",
    "\n",
    "        return actor_logits, value\n",
    "\n",
    "    \n",
    "    def act(self, x):\n",
    "        if self.continous_action:\n",
    "            mu, value = self.forward(x)\n",
    "            std = torch.exp(self.log_std)\n",
    "            dist = Normal(mu, std)\n",
    "        else:\n",
    "            actor_logits, value = self.forward(x)\n",
    "            log_probs = F.log_softmax(actor_logits, dim=1)\n",
    "            dist = Categorical(log_probs)\n",
    "\n",
    "        action = dist.sample()\n",
    "        if self.continous_action:\n",
    "            action_logprob = dist.log_prob(action).sum(axis=-1)\n",
    "        else:\n",
    "            action_logprob = dist.log_prob(action)\n",
    "        \n",
    "\n",
    "        return action.detach().cpu().numpy(), action_logprob.detach().cpu().numpy(), value.detach().item()     \n",
    "\n",
    "    def logprob_ent_from_state_acton(self, x, act):\n",
    "\n",
    "        if self.continous_action:\n",
    "            mu, value = self.forward(x)\n",
    "            std = torch.exp(self.log_std)\n",
    "            dist = Normal(mu, std)\n",
    "            # sum term is crucial to reduce dimension, otherwise the ratio = torch.exp(logp - logp_old) will have wrong result with boardcasting\n",
    "            act_logp = dist.log_prob(act).sum(axis=-1) \n",
    "        else:\n",
    "            actor_logits, value = self.forward(x)\n",
    "            dist = Categorical(F.softmax(actor_logits))\n",
    "            act_logp = dist.log_prob(act)\n",
    "        entropy = dist.entropy().sum(axis=-1)\n",
    "        \n",
    "        return entropy, act_logp, value"
   ]
  },
  {
   "cell_type": "code",
   "execution_count": 17,
   "metadata": {},
   "outputs": [],
   "source": [
    "class PPO():\n",
    "    def __init__(self, gamma, lamb, eps_clip, K_epochs, \\\n",
    "                 observation_space, action_space, num_cells, \\\n",
    "                 actor_lr, critic_lr, memory_size , minibatch_size,\\\n",
    "                 max_training_iter, cal_total_loss, c1, c2, \\\n",
    "                 early_stop, kl_threshold, parameters_hardshare, \\\n",
    "                 max_grad_norm , device\n",
    "                 ):\n",
    "        self.gamma = gamma\n",
    "        self.lamb = lamb\n",
    "        self.eps_clip = eps_clip\n",
    "        self.K_epochs = K_epochs\n",
    "        self.max_training_iter = max_training_iter\n",
    "\n",
    "        self.n_observations = observation_space\n",
    "        self.n_actions = action_space\n",
    "        self.memory_size = memory_size\n",
    "        self.minibatch_size = minibatch_size\n",
    "        \n",
    "        self.cal_total_loss = cal_total_loss\n",
    "        self.c1 = c1\n",
    "        self.c2 = c2\n",
    "        self.early_stop = early_stop\n",
    "        self.kl_threshold = kl_threshold\n",
    "\n",
    "        self.parameters_hardshare = parameters_hardshare\n",
    "        self.episode_count = 0\n",
    "        self.max_grad_norm = max_grad_norm\n",
    "        self.global_step = 0\n",
    "\n",
    "\n",
    "        if isinstance(action_space, Box):\n",
    "            self.continous_action = True\n",
    "        elif isinstance(action_space, Discrete):\n",
    "            self.continous_action = False\n",
    "        else:\n",
    "            raise AssertionError(f\"action space is not valid {action_space}\")\n",
    "\n",
    "\n",
    "        self.observtion_dim = observation_space.shape[0]\n",
    "\n",
    "        # self.actor = Actor_Net(self.observtion_dim, \\\n",
    "        #                        action_space.shape[0] if self.continous_action else action_space.n, \\\n",
    "        #                           num_cells, self.continous_action).to(device)\n",
    "          \n",
    "        # self.critic = Critic_Net(self.observtion_dim, num_cells).to(device)\n",
    "        self.actor_critic = Actor_Critic_net(self.observtion_dim, \\\n",
    "                               action_space.shape[0] if self.continous_action else action_space.n, \\\n",
    "                                  num_cells, self.continous_action, parameters_hardshare).to(device)\n",
    "\n",
    "        # self.actor_opt = torch.optim.Adam(self.actor.parameters(), lr=actor_lr)\n",
    "        # self.critic_opt = torch.optim.Adam(self.critic.parameters(), lr=critic_lr)\n",
    "        if parameters_hardshare:\n",
    "            self.actor_critic_opt = torch.optim.Adam(self.actor_critic.parameters(), lr=actor_lr)\n",
    "            \n",
    "        else:\n",
    "            self.actor_critic_opt = torch.optim.Adam([ \n",
    "                {'params': self.actor_critic.actor.parameters(), 'lr': actor_lr},\n",
    "                {'params': self.actor_critic.critic.parameters(), 'lr': critic_lr} \n",
    "            ])\n",
    "\n",
    "\n",
    "        self.memory = PPOBuffer(observation_space.shape, action_space.shape, memory_size, gamma, lamb)\n",
    "\n",
    "        self.device = device\n",
    "        \n",
    "        wandb.watch(self.actor_critic.actor, log='all', log_freq=1000, idx=1)\n",
    "        wandb.watch(self.actor_critic.critic, log='all', log_freq=1000, idx=2)\n",
    "        # wandb.watch(self.actor_critic, log='all', log_freq=1000)\n",
    "\n",
    "    def roll_out(self, env):\n",
    "        # TODO: implement multiple thread\n",
    "        # make a new environment instance\n",
    "        \n",
    "\n",
    "        # Maybe a deep copy is necessary for multi-thread processing\n",
    "        obs, _ = env.reset()\n",
    "\n",
    "        ep_reward = 0\n",
    "        \n",
    "\n",
    "        action_shape = env.action_space.shape\n",
    "        # Run the policy for T timestep\n",
    "        for i in tnrange(self.memory_size, desc=\"roll_out\", leave=False):\n",
    "\n",
    "            obs_tensor = torch.tensor(obs, \\\n",
    "                                    dtype=torch.float32, device=self.device).unsqueeze(0)\n",
    "            \n",
    "            # action, action_logprob = self.actor.act(obs_tensor)\n",
    "\n",
    "            # action = action.reshape(action_shape)\n",
    "             \n",
    "            # value = self.critic.forward(obs_tensor).item()\n",
    "            \n",
    "\n",
    "            action, action_logprob, value = self.actor_critic.act(obs_tensor)\n",
    "            \n",
    "            action = action.reshape(action_shape)\n",
    "\n",
    "            next_obs, reward, terminated, truncated, _ = env.step(action)\n",
    "\n",
    "            self.global_step += 1\n",
    "\n",
    "            self.memory.push(obs, action, reward, value, action_logprob)\n",
    "\n",
    "            obs = next_obs\n",
    "\n",
    "            ep_reward += reward\n",
    "\n",
    "            if terminated or truncated:\n",
    "                if truncated:\n",
    "                    # last_value = self.critic.forward(torch.tensor(next_obs, dtype=torch.float32, device=self.device)).item()\n",
    "                    _, last_value = self.actor_critic.forward(torch.tensor(next_obs, dtype=torch.float32, device=self.device))\n",
    "                    last_value = last_value.item()\n",
    "                else:\n",
    "                    last_value = 0\n",
    "\n",
    "                \n",
    "                self.memory.GAE_cal(last_value)\n",
    "          \n",
    "                obs,_ = env.reset()\n",
    "                self.episode_count += 1\n",
    "                wandb.log({'episode_reward' : ep_reward}, step=self.global_step)\n",
    "                ep_reward = 0\n",
    "        \n",
    "        with torch.no_grad():\n",
    "            _, last_value = self.actor_critic.forward(torch.tensor(next_obs, dtype=torch.float32, device=self.device))\n",
    "        last_value = last_value.item()\n",
    "        self.memory.GAE_cal(last_value)\n",
    "\n",
    "\n",
    "\n",
    "\n",
    "    # def compute_loss(self, data):\n",
    "    #     observations, actions, logp_old = data['obs'], data['act'], data['logp']\n",
    "    #     advs, rtgs = data['adv'], data['rtg']\n",
    "\n",
    "    #     # Calculate the pi_theta (a_t|s_t)\n",
    "    #     entropy, logp = self.actor.logprob_ent_from_state_acton(observations, actions)\n",
    "    #     ratio = torch.exp(logp - logp_old)\n",
    "    #     # Kl approx according to http://joschu.net/blog/kl-approx.html\n",
    "    #     kl_apx = ((ratio - 1) - (logp - logp_old)).mean()\n",
    "    #     wandb.log({'KL approx': kl_apx})\n",
    "    #     clip_advs = torch.clamp(ratio, 1-self.eps_clip, 1+self.eps_clip) * advs\n",
    "    #     # Torch Adam implement tation mius the gradient, to plus the gradient, we need make the loss negative\n",
    "    #     actor_loss = -(torch.min(ratio*advs, clip_advs)).mean()\n",
    "\n",
    "    #     values = self.critic(observations).squeeze()\n",
    "    #     critic_loss = nn.MSELoss()(values, rtgs)\n",
    "\n",
    "    #     entropy_loss = entropy.mean()\n",
    "\n",
    "    #     return actor_loss, critic_loss, entropy_loss, kl_apx\n",
    "\n",
    "    def compute_loss(self, data):\n",
    "        observations, actions, logp_old = data['obs'], data['act'], data['logp']\n",
    "        advs, rtgs = data['adv'], data['rtg']\n",
    "\n",
    "        # Calculate the pi_theta (a_t|s_t)\n",
    "        entropy, logp, values = self.actor_critic.logprob_ent_from_state_acton(observations, actions)\n",
    "        ratio = torch.exp(logp - logp_old)\n",
    "        # Kl approx according to http://joschu.net/blog/kl-approx.html\n",
    "        kl_apx = ((ratio - 1) - (logp - logp_old)).mean()\n",
    "    \n",
    "        clip_advs = torch.clamp(ratio, 1-self.eps_clip, 1+self.eps_clip) * advs\n",
    "        # Torch Adam implement tation mius the gradient, to plus the gradient, we need make the loss negative\n",
    "        actor_loss = -(torch.min(ratio*advs, clip_advs)).mean()\n",
    "\n",
    "        values = values.flatten() # I used squeeze before, maybe a mistake\n",
    "\n",
    "        critic_loss = F.mse_loss(values, rtgs)\n",
    "        # critic_loss = ((values - rtgs) ** 2).mean()\n",
    "\n",
    "        entropy_loss = entropy.mean()\n",
    "\n",
    "        return actor_loss, critic_loss, entropy_loss, kl_apx        \n",
    "\n",
    "    def optimise(self):\n",
    "\n",
    "        data = self.memory.sample(self.minibatch_size, self.device)\n",
    "\n",
    "        early_stop_count = 0\n",
    "\n",
    "        entropy_loss_list = []\n",
    "        actor_loss_list = []\n",
    "        critic_loss_list = []\n",
    "        kl_approx_list = []\n",
    "        \n",
    "        # for _ in tnrange(self.K_epochs, desc=f\"epochs\", position=1, leave=False):\n",
    "        for _ in range(self.K_epochs):\n",
    "            \n",
    "            for minibatch in data:\n",
    "            \n",
    "                actor_loss, critic_loss, entropy_loss, kl_apx = self.compute_loss(minibatch)\n",
    "\n",
    "                entropy_loss_list.append(entropy_loss.item())\n",
    "                actor_loss_list.append(actor_loss.item())\n",
    "                critic_loss_list.append(critic_loss.item())\n",
    "                kl_approx_list.append(kl_apx.item())\n",
    "\n",
    "                if self.cal_total_loss:\n",
    "                    total_loss = actor_loss + self.c1 * critic_loss - self.c2 * entropy_loss\n",
    "\n",
    "                # If this update is too big, early stop and try next minibatch\n",
    "                if self.early_stop and kl_apx > self.kl_threshold:\n",
    "                    early_stop_count += 1\n",
    "                    continue\n",
    "\n",
    "                # self.actor_opt.zero_grad()\n",
    "                # self.critic_opt.zero_grad()\n",
    "                # if self.cal_total_loss:\n",
    "                #     wandb.log({'total_loss': total_loss})\n",
    "                #     total_loss.backward()\n",
    "                #     self.actor_opt.step()\n",
    "                #     self.critic_opt.step()\n",
    "                # else:\n",
    "                #     wandb.log({'actor_loss': actor_loss, 'critic_loss': critic_loss})\n",
    "                #     actor_loss.backward()\n",
    "                #     self.actor_opt.step()\n",
    "                #     critic_loss.backward()\n",
    "                #     self.critic_opt.step()\n",
    "                \n",
    "                self.actor_critic_opt.zero_grad()\n",
    "                if self.cal_total_loss:\n",
    "                    total_loss.backward()\n",
    "                    # Used by stable-baseline3, maybe more important for RNN\n",
    "                    torch.nn.utils.clip_grad_norm_(self.actor_critic.parameters(), self.max_grad_norm)\n",
    "                    self.actor_critic_opt.step()\n",
    "\n",
    "                else:\n",
    "                    actor_loss.backward()\n",
    "                    critic_loss.backward()\n",
    "                    # Used by stable-baseline3, maybe more important for RNN\n",
    "                    torch.nn.utils.clip_grad_norm_(self.actor_critic.parameters(), self.max_grad_norm)\n",
    "                    self.actor_critic_opt.step()\n",
    "            \n",
    "        # wandb.run.summary['early_stop_count'] = early_stop_count\n",
    "        # Logging, use the same metric as stable-baselines3 to compare performance\n",
    "        wandb.log(\n",
    "            {\n",
    "                'actor_loss': np.mean(actor_loss_list),\n",
    "                'critic_loss' : np.mean(critic_loss_list),\n",
    "                'entropy_loss' : np.mean(entropy_loss_list),\n",
    "                'KL_approx' : np.mean(kl_approx_list)\n",
    "            }, step=self.global_step\n",
    "        )    \n",
    "\n",
    "                \n",
    "    def train(self, env):\n",
    "\n",
    "        for i in tnrange(self.max_training_iter // self.memory_size):\n",
    "\n",
    "            self.roll_out(env)\n",
    "\n",
    "            self.optimise()\n",
    "\n",
    "        # save the model to the wandb run folder\n",
    "        # PATH = os.path.join(wandb.run.dir, \"actor_critic.pt\")\n",
    "        # torch.save(self.actor_critic.state_dict(), PATH)\n",
    "\n",
    "        wandb.run.summary['total_episode'] = self.episode_count\n",
    "\n",
    "        \n",
    "    \n",
    "            \n",
    "\n",
    "        \n"
   ]
  },
  {
   "cell_type": "markdown",
   "metadata": {},
   "source": [
    "### Sweep for HalfCheetah\n",
    "#### Continous action space"
   ]
  },
  {
   "cell_type": "code",
   "execution_count": 18,
   "metadata": {},
   "outputs": [],
   "source": [
    "sweep_configuration = {\n",
    "    'method': 'random',\n",
    "    'metric':{'goal':'maximize', 'name':'episode_reward'},\n",
    "    'parameters':\n",
    "    {\n",
    "        'actor_lr' : {'value' : 3e-4},\n",
    "        'memory_size' : {'value' : 2048},\n",
    "        'k_epochs' : {'value' : 10},\n",
    "        'gamma' : {'value' : 0.99},\n",
    "        'lam' : {'value' : 0.95}, \n",
    "        'early_stop': {'value': False},\n",
    "        'cal_total_loss' : {'value' : False},\n",
    "        'parameters_hardshare' : {'value' : False},\n",
    "        'c1' : {'value': 0.5},\n",
    "        'c2' : {'value' : 0},\n",
    "        # 'kl_threshold' : {'min': 0.01, 'max': 0.04},\n",
    "        'minibatch_size' : {'value' : 64}\n",
    "    }\n",
    "}"
   ]
  },
  {
   "cell_type": "code",
   "execution_count": 19,
   "metadata": {},
   "outputs": [],
   "source": [
    "def main():\n",
    "\n",
    "\n",
    "\n",
    "    device = torch.device(\"cuda\" if torch.cuda.is_available() else \"cpu\")\n",
    "\n",
    "    run = wandb.init(\n",
    "            # project='PPO',\n",
    "            # mode='disabled',\n",
    "            # config = sweep_configuration\n",
    "        )\n",
    "\n",
    "\n",
    "    gamma = 0.99\n",
    "    # gamma = wandb.config.gamma\n",
    "    lamb = 0.95\n",
    "    # lamb = wandb.config.lam\n",
    "    eps_clip = 0.2\n",
    "    max_training_iter = 1_000_000\n",
    "    k_epochs = 10\n",
    "    # k_epochs = wandb.config.k_epochs\n",
    "    num_cells = 64\n",
    "    actor_lr = 3e-4 \n",
    "    # actor_lr = wandb.config.actor_lr\n",
    "    critic_lr = actor_lr\n",
    "    # critic_lr = wandb.config.critic_lr\n",
    "    memory_size = 2048\n",
    "    # memory_size = wandb.config.memory_size\n",
    "    minibatch_size = 64\n",
    "    # minibatch_size = wandb.config.minibatch_size\n",
    "    \n",
    "    c1 = 0.5\n",
    "    c2 = 0\n",
    "    kl_threshold = 0.013\n",
    "    # c1 = wandb.config.c1\n",
    "    # c2 = wandb.config.c2\n",
    "    # kl_threshold = wandb.config.kl_threshold\n",
    "    \n",
    "    env_name = \"HalfCheetah-v4\" # CartPole-v1\n",
    "    parameters_hardshare = False\n",
    "    early_stop = False\n",
    "    cal_total_loss = False\n",
    "    # parameters_hardshare = wandb.config.parameters_hardshare\n",
    "    # early_stop = wandb.config.early_stop\n",
    "    # cal_total_loss = wandb.config.cal_total_loss\n",
    "    max_grad_norm = 0.5\n",
    "\n",
    "    seed = 0\n",
    "\n",
    "    wandb.config.update(\n",
    "        {\n",
    "            'actor_lr' : actor_lr,\n",
    "            'critic_lr' : critic_lr,\n",
    "            'gamma' : gamma,\n",
    "            'lambda' : lamb,\n",
    "            'eps_clip' : eps_clip,\n",
    "            'max_training_iter' : max_training_iter,\n",
    "            'k_epochs' : k_epochs,\n",
    "            'hidden_cell_dim' : num_cells,\n",
    "            'memory_size' : memory_size,\n",
    "            'minibatch_size' : minibatch_size,\n",
    "            'cal_total_loss' : cal_total_loss,\n",
    "            'c1' : c1,\n",
    "            'c2' : c2,\n",
    "            'early_stop' : early_stop,\n",
    "            'env_name': env_name,\n",
    "            'kl_threshold' : kl_threshold\n",
    "\n",
    "        }\n",
    "    )\n",
    "\n",
    "    # wandb.define_metric(\"episode_reward\", summary=\"mean\")\n",
    "    # wandb.define_metric(\"KL_approx\", summary=\"mean\")\n",
    "        \n",
    "           \n",
    "    env = gym.make(env_name)\n",
    "\n",
    "    # Seeding evaluation purpose\n",
    "    env.action_space.seed(seed)\n",
    "    env.observation_space.seed(seed)\n",
    "    np.random.seed(seed)\n",
    "    torch.manual_seed(seed)\n",
    "\n",
    "    my_ppo = PPO(gamma, lamb, eps_clip, k_epochs, env.observation_space, env.action_space, num_cells,\\\n",
    "                 actor_lr, critic_lr, memory_size, minibatch_size, max_training_iter, \\\n",
    "                 cal_total_loss, c1, c2, early_stop, kl_threshold, parameters_hardshare, max_grad_norm, device)\n",
    "    \n",
    "    my_ppo.train(env)\n",
    "\n",
    "    env.close()\n",
    "    run.finish()"
   ]
  },
  {
   "cell_type": "code",
   "execution_count": 20,
   "metadata": {},
   "outputs": [],
   "source": [
    "# %%wandb\n",
    "# main()"
   ]
  },
  {
   "cell_type": "code",
   "execution_count": 21,
   "metadata": {},
   "outputs": [
    {
     "name": "stdout",
     "output_type": "stream",
     "text": [
      "env: \"WANDB_NOTEBOOK_NAME\"=\"PPO_GYM\"\n"
     ]
    },
    {
     "name": "stderr",
     "output_type": "stream",
     "text": [
      "\u001b[34m\u001b[1mwandb\u001b[0m: \u001b[33mWARNING\u001b[0m Calling wandb.login() after wandb.init() has no effect.\n"
     ]
    },
    {
     "name": "stdout",
     "output_type": "stream",
     "text": [
      "Create sweep with ID: wgua0p73\n",
      "Sweep URL: https://wandb.ai/tcd-clearway/PPO-HalfCheetah_cmp/sweeps/wgua0p73\n"
     ]
    },
    {
     "name": "stderr",
     "output_type": "stream",
     "text": [
      "\u001b[34m\u001b[1mwandb\u001b[0m: Agent Starting Run: affbctkw with config:\n",
      "\u001b[34m\u001b[1mwandb\u001b[0m: \tactor_lr: 0.0003\n",
      "\u001b[34m\u001b[1mwandb\u001b[0m: \tc1: 0.5\n",
      "\u001b[34m\u001b[1mwandb\u001b[0m: \tc2: 0\n",
      "\u001b[34m\u001b[1mwandb\u001b[0m: \tcal_total_loss: False\n",
      "\u001b[34m\u001b[1mwandb\u001b[0m: \tearly_stop: False\n",
      "\u001b[34m\u001b[1mwandb\u001b[0m: \tgamma: 0.99\n",
      "\u001b[34m\u001b[1mwandb\u001b[0m: \tk_epochs: 10\n",
      "\u001b[34m\u001b[1mwandb\u001b[0m: \tlam: 0.95\n",
      "\u001b[34m\u001b[1mwandb\u001b[0m: \tmemory_size: 2048\n",
      "\u001b[34m\u001b[1mwandb\u001b[0m: \tminibatch_size: 64\n",
      "\u001b[34m\u001b[1mwandb\u001b[0m: \tparameters_hardshare: False\n",
      "Failed to detect the name of this notebook, you can set it manually with the WANDB_NOTEBOOK_NAME environment variable to enable code saving.\n"
     ]
    },
    {
     "data": {
      "text/html": [
       "wandb version 0.15.7 is available!  To upgrade, please run:\n",
       " $ pip install wandb --upgrade"
      ],
      "text/plain": [
       "<IPython.core.display.HTML object>"
      ]
     },
     "metadata": {},
     "output_type": "display_data"
    },
    {
     "data": {
      "text/html": [
       "Tracking run with wandb version 0.15.5"
      ],
      "text/plain": [
       "<IPython.core.display.HTML object>"
      ]
     },
     "metadata": {},
     "output_type": "display_data"
    },
    {
     "data": {
      "text/html": [
       "Run data is saved locally in <code>/home/sky/Desktop/repositories/ppo/wandb/run-20230731_112151-affbctkw</code>"
      ],
      "text/plain": [
       "<IPython.core.display.HTML object>"
      ]
     },
     "metadata": {},
     "output_type": "display_data"
    },
    {
     "data": {
      "text/html": [
       "Syncing run <strong><a href='https://wandb.ai/tcd-clearway/PPO-HalfCheetah_cmp/runs/affbctkw' target=\"_blank\">lively-sweep-1</a></strong> to <a href='https://wandb.ai/tcd-clearway/PPO-HalfCheetah_cmp' target=\"_blank\">Weights & Biases</a> (<a href='https://wandb.me/run' target=\"_blank\">docs</a>)<br/>Sweep page: <a href='https://wandb.ai/tcd-clearway/PPO-HalfCheetah_cmp/sweeps/wgua0p73' target=\"_blank\">https://wandb.ai/tcd-clearway/PPO-HalfCheetah_cmp/sweeps/wgua0p73</a>"
      ],
      "text/plain": [
       "<IPython.core.display.HTML object>"
      ]
     },
     "metadata": {},
     "output_type": "display_data"
    },
    {
     "data": {
      "text/html": [
       " View project at <a href='https://wandb.ai/tcd-clearway/PPO-HalfCheetah_cmp' target=\"_blank\">https://wandb.ai/tcd-clearway/PPO-HalfCheetah_cmp</a>"
      ],
      "text/plain": [
       "<IPython.core.display.HTML object>"
      ]
     },
     "metadata": {},
     "output_type": "display_data"
    },
    {
     "data": {
      "text/html": [
       " View sweep at <a href='https://wandb.ai/tcd-clearway/PPO-HalfCheetah_cmp/sweeps/wgua0p73' target=\"_blank\">https://wandb.ai/tcd-clearway/PPO-HalfCheetah_cmp/sweeps/wgua0p73</a>"
      ],
      "text/plain": [
       "<IPython.core.display.HTML object>"
      ]
     },
     "metadata": {},
     "output_type": "display_data"
    },
    {
     "data": {
      "text/html": [
       " View run at <a href='https://wandb.ai/tcd-clearway/PPO-HalfCheetah_cmp/runs/affbctkw' target=\"_blank\">https://wandb.ai/tcd-clearway/PPO-HalfCheetah_cmp/runs/affbctkw</a>"
      ],
      "text/plain": [
       "<IPython.core.display.HTML object>"
      ]
     },
     "metadata": {},
     "output_type": "display_data"
    },
    {
     "name": "stderr",
     "output_type": "stream",
     "text": [
      "\u001b[34m\u001b[1mwandb\u001b[0m: \u001b[33mWARNING\u001b[0m Config item 'actor_lr' was locked by 'sweep' (ignored update).\n",
      "\u001b[34m\u001b[1mwandb\u001b[0m: \u001b[33mWARNING\u001b[0m Config item 'gamma' was locked by 'sweep' (ignored update).\n",
      "\u001b[34m\u001b[1mwandb\u001b[0m: \u001b[33mWARNING\u001b[0m Config item 'k_epochs' was locked by 'sweep' (ignored update).\n",
      "\u001b[34m\u001b[1mwandb\u001b[0m: \u001b[33mWARNING\u001b[0m Config item 'memory_size' was locked by 'sweep' (ignored update).\n",
      "\u001b[34m\u001b[1mwandb\u001b[0m: \u001b[33mWARNING\u001b[0m Config item 'minibatch_size' was locked by 'sweep' (ignored update).\n",
      "\u001b[34m\u001b[1mwandb\u001b[0m: \u001b[33mWARNING\u001b[0m Config item 'cal_total_loss' was locked by 'sweep' (ignored update).\n",
      "\u001b[34m\u001b[1mwandb\u001b[0m: \u001b[33mWARNING\u001b[0m Config item 'c1' was locked by 'sweep' (ignored update).\n",
      "\u001b[34m\u001b[1mwandb\u001b[0m: \u001b[33mWARNING\u001b[0m Config item 'c2' was locked by 'sweep' (ignored update).\n",
      "\u001b[34m\u001b[1mwandb\u001b[0m: \u001b[33mWARNING\u001b[0m Config item 'early_stop' was locked by 'sweep' (ignored update).\n"
     ]
    },
    {
     "data": {
      "application/vnd.jupyter.widget-view+json": {
       "model_id": "71ee30d95755464299528e4eb44f650b",
       "version_major": 2,
       "version_minor": 0
      },
      "text/plain": [
       "  0%|          | 0/488 [00:00<?, ?it/s]"
      ]
     },
     "metadata": {},
     "output_type": "display_data"
    },
    {
     "data": {
      "application/vnd.jupyter.widget-view+json": {
       "model_id": "ad17733544a24b988c4c9d5bf65de546",
       "version_major": 2,
       "version_minor": 0
      },
      "text/plain": [
       "roll_out:   0%|          | 0/2048 [00:00<?, ?it/s]"
      ]
     },
     "metadata": {},
     "output_type": "display_data"
    },
    {
     "data": {
      "application/vnd.jupyter.widget-view+json": {
       "model_id": "a9363da9c7cc43148059cd6b823d1ec9",
       "version_major": 2,
       "version_minor": 0
      },
      "text/plain": [
       "roll_out:   0%|          | 0/2048 [00:00<?, ?it/s]"
      ]
     },
     "metadata": {},
     "output_type": "display_data"
    },
    {
     "data": {
      "application/vnd.jupyter.widget-view+json": {
       "model_id": "39c7c5272d784fd2918a7f92051991d2",
       "version_major": 2,
       "version_minor": 0
      },
      "text/plain": [
       "roll_out:   0%|          | 0/2048 [00:00<?, ?it/s]"
      ]
     },
     "metadata": {},
     "output_type": "display_data"
    },
    {
     "data": {
      "application/vnd.jupyter.widget-view+json": {
       "model_id": "b053119b37504f5cbd5680a0d598fa66",
       "version_major": 2,
       "version_minor": 0
      },
      "text/plain": [
       "roll_out:   0%|          | 0/2048 [00:00<?, ?it/s]"
      ]
     },
     "metadata": {},
     "output_type": "display_data"
    },
    {
     "data": {
      "application/vnd.jupyter.widget-view+json": {
       "model_id": "1cbc74d27b90485b831ac4557a102138",
       "version_major": 2,
       "version_minor": 0
      },
      "text/plain": [
       "roll_out:   0%|          | 0/2048 [00:00<?, ?it/s]"
      ]
     },
     "metadata": {},
     "output_type": "display_data"
    },
    {
     "data": {
      "application/vnd.jupyter.widget-view+json": {
       "model_id": "5639b61d1f3d4978ba89ac71d0188336",
       "version_major": 2,
       "version_minor": 0
      },
      "text/plain": [
       "roll_out:   0%|          | 0/2048 [00:00<?, ?it/s]"
      ]
     },
     "metadata": {},
     "output_type": "display_data"
    },
    {
     "data": {
      "application/vnd.jupyter.widget-view+json": {
       "model_id": "70effec2677e4eefbda637934f8fa1f6",
       "version_major": 2,
       "version_minor": 0
      },
      "text/plain": [
       "roll_out:   0%|          | 0/2048 [00:00<?, ?it/s]"
      ]
     },
     "metadata": {},
     "output_type": "display_data"
    },
    {
     "data": {
      "application/vnd.jupyter.widget-view+json": {
       "model_id": "0dfa1ea41b6d4041b25935a2f7e7d1eb",
       "version_major": 2,
       "version_minor": 0
      },
      "text/plain": [
       "roll_out:   0%|          | 0/2048 [00:00<?, ?it/s]"
      ]
     },
     "metadata": {},
     "output_type": "display_data"
    },
    {
     "data": {
      "application/vnd.jupyter.widget-view+json": {
       "model_id": "bb3067ffe61c4c5b89e0189462032b58",
       "version_major": 2,
       "version_minor": 0
      },
      "text/plain": [
       "roll_out:   0%|          | 0/2048 [00:00<?, ?it/s]"
      ]
     },
     "metadata": {},
     "output_type": "display_data"
    },
    {
     "data": {
      "application/vnd.jupyter.widget-view+json": {
       "model_id": "9328c6eba66a4a3381c0876bbcd15831",
       "version_major": 2,
       "version_minor": 0
      },
      "text/plain": [
       "roll_out:   0%|          | 0/2048 [00:00<?, ?it/s]"
      ]
     },
     "metadata": {},
     "output_type": "display_data"
    },
    {
     "data": {
      "application/vnd.jupyter.widget-view+json": {
       "model_id": "798634866db3436ea9e55f705248ef51",
       "version_major": 2,
       "version_minor": 0
      },
      "text/plain": [
       "roll_out:   0%|          | 0/2048 [00:00<?, ?it/s]"
      ]
     },
     "metadata": {},
     "output_type": "display_data"
    },
    {
     "data": {
      "application/vnd.jupyter.widget-view+json": {
       "model_id": "f3c2c945af8741b0b809f0453f2cbd42",
       "version_major": 2,
       "version_minor": 0
      },
      "text/plain": [
       "roll_out:   0%|          | 0/2048 [00:00<?, ?it/s]"
      ]
     },
     "metadata": {},
     "output_type": "display_data"
    },
    {
     "data": {
      "application/vnd.jupyter.widget-view+json": {
       "model_id": "c7a27646c4344950a077a63f66dda404",
       "version_major": 2,
       "version_minor": 0
      },
      "text/plain": [
       "roll_out:   0%|          | 0/2048 [00:00<?, ?it/s]"
      ]
     },
     "metadata": {},
     "output_type": "display_data"
    },
    {
     "data": {
      "application/vnd.jupyter.widget-view+json": {
       "model_id": "6cac0dfea12942aea25ee9c1ea5d6f57",
       "version_major": 2,
       "version_minor": 0
      },
      "text/plain": [
       "roll_out:   0%|          | 0/2048 [00:00<?, ?it/s]"
      ]
     },
     "metadata": {},
     "output_type": "display_data"
    },
    {
     "data": {
      "application/vnd.jupyter.widget-view+json": {
       "model_id": "5d5d9abf49544ad39f6ec5df4a304a09",
       "version_major": 2,
       "version_minor": 0
      },
      "text/plain": [
       "roll_out:   0%|          | 0/2048 [00:00<?, ?it/s]"
      ]
     },
     "metadata": {},
     "output_type": "display_data"
    },
    {
     "data": {
      "application/vnd.jupyter.widget-view+json": {
       "model_id": "61240d03e6784bf1a81f9d90ad9cb6ef",
       "version_major": 2,
       "version_minor": 0
      },
      "text/plain": [
       "roll_out:   0%|          | 0/2048 [00:00<?, ?it/s]"
      ]
     },
     "metadata": {},
     "output_type": "display_data"
    },
    {
     "data": {
      "application/vnd.jupyter.widget-view+json": {
       "model_id": "8987e8e5d0d74651ac4592cfb32e2b0c",
       "version_major": 2,
       "version_minor": 0
      },
      "text/plain": [
       "roll_out:   0%|          | 0/2048 [00:00<?, ?it/s]"
      ]
     },
     "metadata": {},
     "output_type": "display_data"
    },
    {
     "data": {
      "application/vnd.jupyter.widget-view+json": {
       "model_id": "c558911d869a408f852c80ab412912b3",
       "version_major": 2,
       "version_minor": 0
      },
      "text/plain": [
       "roll_out:   0%|          | 0/2048 [00:00<?, ?it/s]"
      ]
     },
     "metadata": {},
     "output_type": "display_data"
    },
    {
     "data": {
      "application/vnd.jupyter.widget-view+json": {
       "model_id": "2676c2ba676c4abf9cba2e672755bc5d",
       "version_major": 2,
       "version_minor": 0
      },
      "text/plain": [
       "roll_out:   0%|          | 0/2048 [00:00<?, ?it/s]"
      ]
     },
     "metadata": {},
     "output_type": "display_data"
    },
    {
     "data": {
      "application/vnd.jupyter.widget-view+json": {
       "model_id": "e69d586eb70c4e949f01f9a6a1975eb8",
       "version_major": 2,
       "version_minor": 0
      },
      "text/plain": [
       "roll_out:   0%|          | 0/2048 [00:00<?, ?it/s]"
      ]
     },
     "metadata": {},
     "output_type": "display_data"
    },
    {
     "data": {
      "application/vnd.jupyter.widget-view+json": {
       "model_id": "7c7a1da2fab44887877f299ab9450600",
       "version_major": 2,
       "version_minor": 0
      },
      "text/plain": [
       "roll_out:   0%|          | 0/2048 [00:00<?, ?it/s]"
      ]
     },
     "metadata": {},
     "output_type": "display_data"
    },
    {
     "data": {
      "application/vnd.jupyter.widget-view+json": {
       "model_id": "7bfb3ba4995d4c888fb3d71793fe5f38",
       "version_major": 2,
       "version_minor": 0
      },
      "text/plain": [
       "roll_out:   0%|          | 0/2048 [00:00<?, ?it/s]"
      ]
     },
     "metadata": {},
     "output_type": "display_data"
    },
    {
     "data": {
      "application/vnd.jupyter.widget-view+json": {
       "model_id": "bf19c2dc0624491ca26a589fac18820c",
       "version_major": 2,
       "version_minor": 0
      },
      "text/plain": [
       "roll_out:   0%|          | 0/2048 [00:00<?, ?it/s]"
      ]
     },
     "metadata": {},
     "output_type": "display_data"
    },
    {
     "data": {
      "application/vnd.jupyter.widget-view+json": {
       "model_id": "0b31567cbd8a4ad597cc945412470f40",
       "version_major": 2,
       "version_minor": 0
      },
      "text/plain": [
       "roll_out:   0%|          | 0/2048 [00:00<?, ?it/s]"
      ]
     },
     "metadata": {},
     "output_type": "display_data"
    },
    {
     "data": {
      "application/vnd.jupyter.widget-view+json": {
       "model_id": "4f5ef32826734dc4a1525e5ba3310a2b",
       "version_major": 2,
       "version_minor": 0
      },
      "text/plain": [
       "roll_out:   0%|          | 0/2048 [00:00<?, ?it/s]"
      ]
     },
     "metadata": {},
     "output_type": "display_data"
    },
    {
     "data": {
      "application/vnd.jupyter.widget-view+json": {
       "model_id": "03b756aa3b3540619f464beadbeeb915",
       "version_major": 2,
       "version_minor": 0
      },
      "text/plain": [
       "roll_out:   0%|          | 0/2048 [00:00<?, ?it/s]"
      ]
     },
     "metadata": {},
     "output_type": "display_data"
    },
    {
     "data": {
      "application/vnd.jupyter.widget-view+json": {
       "model_id": "32ad7e29af12407e970334a158b7e5e9",
       "version_major": 2,
       "version_minor": 0
      },
      "text/plain": [
       "roll_out:   0%|          | 0/2048 [00:00<?, ?it/s]"
      ]
     },
     "metadata": {},
     "output_type": "display_data"
    },
    {
     "data": {
      "application/vnd.jupyter.widget-view+json": {
       "model_id": "46c07ed5500c4e9faacd0e8861b4398a",
       "version_major": 2,
       "version_minor": 0
      },
      "text/plain": [
       "roll_out:   0%|          | 0/2048 [00:00<?, ?it/s]"
      ]
     },
     "metadata": {},
     "output_type": "display_data"
    },
    {
     "data": {
      "application/vnd.jupyter.widget-view+json": {
       "model_id": "2f7755ed928a481ea3494b0e3431aa75",
       "version_major": 2,
       "version_minor": 0
      },
      "text/plain": [
       "roll_out:   0%|          | 0/2048 [00:00<?, ?it/s]"
      ]
     },
     "metadata": {},
     "output_type": "display_data"
    },
    {
     "data": {
      "application/vnd.jupyter.widget-view+json": {
       "model_id": "b3aad2c5d5194dbb847a3100c057300e",
       "version_major": 2,
       "version_minor": 0
      },
      "text/plain": [
       "roll_out:   0%|          | 0/2048 [00:00<?, ?it/s]"
      ]
     },
     "metadata": {},
     "output_type": "display_data"
    },
    {
     "data": {
      "application/vnd.jupyter.widget-view+json": {
       "model_id": "254fb80a46054c1a81f27ed54d02a299",
       "version_major": 2,
       "version_minor": 0
      },
      "text/plain": [
       "roll_out:   0%|          | 0/2048 [00:00<?, ?it/s]"
      ]
     },
     "metadata": {},
     "output_type": "display_data"
    },
    {
     "data": {
      "application/vnd.jupyter.widget-view+json": {
       "model_id": "9ef48988b8844c618a6137d78947f3b7",
       "version_major": 2,
       "version_minor": 0
      },
      "text/plain": [
       "roll_out:   0%|          | 0/2048 [00:00<?, ?it/s]"
      ]
     },
     "metadata": {},
     "output_type": "display_data"
    },
    {
     "data": {
      "application/vnd.jupyter.widget-view+json": {
       "model_id": "98cc8e2784a540f08f1d4cf8ecbf2a77",
       "version_major": 2,
       "version_minor": 0
      },
      "text/plain": [
       "roll_out:   0%|          | 0/2048 [00:00<?, ?it/s]"
      ]
     },
     "metadata": {},
     "output_type": "display_data"
    },
    {
     "data": {
      "application/vnd.jupyter.widget-view+json": {
       "model_id": "673d096337034f34a8b6a4d32ec0470f",
       "version_major": 2,
       "version_minor": 0
      },
      "text/plain": [
       "roll_out:   0%|          | 0/2048 [00:00<?, ?it/s]"
      ]
     },
     "metadata": {},
     "output_type": "display_data"
    },
    {
     "data": {
      "application/vnd.jupyter.widget-view+json": {
       "model_id": "19ae25d391564a46a2520f56f7b852f7",
       "version_major": 2,
       "version_minor": 0
      },
      "text/plain": [
       "roll_out:   0%|          | 0/2048 [00:00<?, ?it/s]"
      ]
     },
     "metadata": {},
     "output_type": "display_data"
    },
    {
     "data": {
      "application/vnd.jupyter.widget-view+json": {
       "model_id": "dea91efb52cc4b44a535a57e3f05d2cf",
       "version_major": 2,
       "version_minor": 0
      },
      "text/plain": [
       "roll_out:   0%|          | 0/2048 [00:00<?, ?it/s]"
      ]
     },
     "metadata": {},
     "output_type": "display_data"
    },
    {
     "data": {
      "application/vnd.jupyter.widget-view+json": {
       "model_id": "e12e8e24c6bf42d0a50a6a58fb265a06",
       "version_major": 2,
       "version_minor": 0
      },
      "text/plain": [
       "roll_out:   0%|          | 0/2048 [00:00<?, ?it/s]"
      ]
     },
     "metadata": {},
     "output_type": "display_data"
    },
    {
     "data": {
      "application/vnd.jupyter.widget-view+json": {
       "model_id": "344fd59935c1426eb208f23bd6f9dc40",
       "version_major": 2,
       "version_minor": 0
      },
      "text/plain": [
       "roll_out:   0%|          | 0/2048 [00:00<?, ?it/s]"
      ]
     },
     "metadata": {},
     "output_type": "display_data"
    },
    {
     "data": {
      "application/vnd.jupyter.widget-view+json": {
       "model_id": "33227a2da7d1440588b6e55589091bb8",
       "version_major": 2,
       "version_minor": 0
      },
      "text/plain": [
       "roll_out:   0%|          | 0/2048 [00:00<?, ?it/s]"
      ]
     },
     "metadata": {},
     "output_type": "display_data"
    },
    {
     "data": {
      "application/vnd.jupyter.widget-view+json": {
       "model_id": "2b9c8952b7fc4ae2abf625bead85f367",
       "version_major": 2,
       "version_minor": 0
      },
      "text/plain": [
       "roll_out:   0%|          | 0/2048 [00:00<?, ?it/s]"
      ]
     },
     "metadata": {},
     "output_type": "display_data"
    },
    {
     "data": {
      "application/vnd.jupyter.widget-view+json": {
       "model_id": "1b173b12e78c41db9ab83f3dd46778c3",
       "version_major": 2,
       "version_minor": 0
      },
      "text/plain": [
       "roll_out:   0%|          | 0/2048 [00:00<?, ?it/s]"
      ]
     },
     "metadata": {},
     "output_type": "display_data"
    },
    {
     "data": {
      "application/vnd.jupyter.widget-view+json": {
       "model_id": "0397335d8cb148d787829b2665902216",
       "version_major": 2,
       "version_minor": 0
      },
      "text/plain": [
       "roll_out:   0%|          | 0/2048 [00:00<?, ?it/s]"
      ]
     },
     "metadata": {},
     "output_type": "display_data"
    },
    {
     "data": {
      "application/vnd.jupyter.widget-view+json": {
       "model_id": "156e1578be5142419df3de68d95f55b0",
       "version_major": 2,
       "version_minor": 0
      },
      "text/plain": [
       "roll_out:   0%|          | 0/2048 [00:00<?, ?it/s]"
      ]
     },
     "metadata": {},
     "output_type": "display_data"
    },
    {
     "data": {
      "application/vnd.jupyter.widget-view+json": {
       "model_id": "a10467aa25de4e6698e55e713bcfde61",
       "version_major": 2,
       "version_minor": 0
      },
      "text/plain": [
       "roll_out:   0%|          | 0/2048 [00:00<?, ?it/s]"
      ]
     },
     "metadata": {},
     "output_type": "display_data"
    },
    {
     "data": {
      "application/vnd.jupyter.widget-view+json": {
       "model_id": "35deed9c111f42149fcd94ae30f41c77",
       "version_major": 2,
       "version_minor": 0
      },
      "text/plain": [
       "roll_out:   0%|          | 0/2048 [00:00<?, ?it/s]"
      ]
     },
     "metadata": {},
     "output_type": "display_data"
    },
    {
     "data": {
      "application/vnd.jupyter.widget-view+json": {
       "model_id": "60b50b41734944c19fd0ea7e54ef4f5d",
       "version_major": 2,
       "version_minor": 0
      },
      "text/plain": [
       "roll_out:   0%|          | 0/2048 [00:00<?, ?it/s]"
      ]
     },
     "metadata": {},
     "output_type": "display_data"
    },
    {
     "data": {
      "application/vnd.jupyter.widget-view+json": {
       "model_id": "8beaa2f8ef1b44a6960a0d79e536b98f",
       "version_major": 2,
       "version_minor": 0
      },
      "text/plain": [
       "roll_out:   0%|          | 0/2048 [00:00<?, ?it/s]"
      ]
     },
     "metadata": {},
     "output_type": "display_data"
    },
    {
     "data": {
      "application/vnd.jupyter.widget-view+json": {
       "model_id": "506472416676422b87da72cf4a3de142",
       "version_major": 2,
       "version_minor": 0
      },
      "text/plain": [
       "roll_out:   0%|          | 0/2048 [00:00<?, ?it/s]"
      ]
     },
     "metadata": {},
     "output_type": "display_data"
    },
    {
     "data": {
      "application/vnd.jupyter.widget-view+json": {
       "model_id": "538db79f52fb44d8b363e57ec409bc2a",
       "version_major": 2,
       "version_minor": 0
      },
      "text/plain": [
       "roll_out:   0%|          | 0/2048 [00:00<?, ?it/s]"
      ]
     },
     "metadata": {},
     "output_type": "display_data"
    },
    {
     "data": {
      "application/vnd.jupyter.widget-view+json": {
       "model_id": "1536005bae2440e48e03fa92dec089f1",
       "version_major": 2,
       "version_minor": 0
      },
      "text/plain": [
       "roll_out:   0%|          | 0/2048 [00:00<?, ?it/s]"
      ]
     },
     "metadata": {},
     "output_type": "display_data"
    },
    {
     "data": {
      "application/vnd.jupyter.widget-view+json": {
       "model_id": "b6951b73c659492185f709c8a14eee8b",
       "version_major": 2,
       "version_minor": 0
      },
      "text/plain": [
       "roll_out:   0%|          | 0/2048 [00:00<?, ?it/s]"
      ]
     },
     "metadata": {},
     "output_type": "display_data"
    },
    {
     "data": {
      "application/vnd.jupyter.widget-view+json": {
       "model_id": "f3ab38c27eb8446fadfc16b54ee2f4e0",
       "version_major": 2,
       "version_minor": 0
      },
      "text/plain": [
       "roll_out:   0%|          | 0/2048 [00:00<?, ?it/s]"
      ]
     },
     "metadata": {},
     "output_type": "display_data"
    },
    {
     "data": {
      "application/vnd.jupyter.widget-view+json": {
       "model_id": "6b8196bb2dcb41e2a5529fb336d9d411",
       "version_major": 2,
       "version_minor": 0
      },
      "text/plain": [
       "roll_out:   0%|          | 0/2048 [00:00<?, ?it/s]"
      ]
     },
     "metadata": {},
     "output_type": "display_data"
    },
    {
     "data": {
      "application/vnd.jupyter.widget-view+json": {
       "model_id": "f45abb5f7db14ca8a82ff2b04ca2a228",
       "version_major": 2,
       "version_minor": 0
      },
      "text/plain": [
       "roll_out:   0%|          | 0/2048 [00:00<?, ?it/s]"
      ]
     },
     "metadata": {},
     "output_type": "display_data"
    },
    {
     "data": {
      "application/vnd.jupyter.widget-view+json": {
       "model_id": "6c7a76cdf3f045deac6e49a6a7858514",
       "version_major": 2,
       "version_minor": 0
      },
      "text/plain": [
       "roll_out:   0%|          | 0/2048 [00:00<?, ?it/s]"
      ]
     },
     "metadata": {},
     "output_type": "display_data"
    },
    {
     "data": {
      "application/vnd.jupyter.widget-view+json": {
       "model_id": "ac6132ebddc24ebc8d1050f2b5cbc4ef",
       "version_major": 2,
       "version_minor": 0
      },
      "text/plain": [
       "roll_out:   0%|          | 0/2048 [00:00<?, ?it/s]"
      ]
     },
     "metadata": {},
     "output_type": "display_data"
    },
    {
     "data": {
      "application/vnd.jupyter.widget-view+json": {
       "model_id": "84b2a34e3ce84962915d2de2ac4010fc",
       "version_major": 2,
       "version_minor": 0
      },
      "text/plain": [
       "roll_out:   0%|          | 0/2048 [00:00<?, ?it/s]"
      ]
     },
     "metadata": {},
     "output_type": "display_data"
    },
    {
     "data": {
      "application/vnd.jupyter.widget-view+json": {
       "model_id": "797a5db118e2483c9f0a2007222fa7e3",
       "version_major": 2,
       "version_minor": 0
      },
      "text/plain": [
       "roll_out:   0%|          | 0/2048 [00:00<?, ?it/s]"
      ]
     },
     "metadata": {},
     "output_type": "display_data"
    },
    {
     "data": {
      "application/vnd.jupyter.widget-view+json": {
       "model_id": "6d8e4323a40443f8b950c6e6e996f10e",
       "version_major": 2,
       "version_minor": 0
      },
      "text/plain": [
       "roll_out:   0%|          | 0/2048 [00:00<?, ?it/s]"
      ]
     },
     "metadata": {},
     "output_type": "display_data"
    },
    {
     "data": {
      "application/vnd.jupyter.widget-view+json": {
       "model_id": "a2f0f358a55344f587887743198c3587",
       "version_major": 2,
       "version_minor": 0
      },
      "text/plain": [
       "roll_out:   0%|          | 0/2048 [00:00<?, ?it/s]"
      ]
     },
     "metadata": {},
     "output_type": "display_data"
    },
    {
     "data": {
      "application/vnd.jupyter.widget-view+json": {
       "model_id": "d4e78b3eae15475b8077a78c092727eb",
       "version_major": 2,
       "version_minor": 0
      },
      "text/plain": [
       "roll_out:   0%|          | 0/2048 [00:00<?, ?it/s]"
      ]
     },
     "metadata": {},
     "output_type": "display_data"
    },
    {
     "data": {
      "application/vnd.jupyter.widget-view+json": {
       "model_id": "5ad6ede9fd4744f2abfa7b1a8c2ac997",
       "version_major": 2,
       "version_minor": 0
      },
      "text/plain": [
       "roll_out:   0%|          | 0/2048 [00:00<?, ?it/s]"
      ]
     },
     "metadata": {},
     "output_type": "display_data"
    },
    {
     "data": {
      "application/vnd.jupyter.widget-view+json": {
       "model_id": "21cfe651f4cc441baa652446f7fbaae8",
       "version_major": 2,
       "version_minor": 0
      },
      "text/plain": [
       "roll_out:   0%|          | 0/2048 [00:00<?, ?it/s]"
      ]
     },
     "metadata": {},
     "output_type": "display_data"
    },
    {
     "data": {
      "application/vnd.jupyter.widget-view+json": {
       "model_id": "32adb7ace7344938a058d76966230756",
       "version_major": 2,
       "version_minor": 0
      },
      "text/plain": [
       "roll_out:   0%|          | 0/2048 [00:00<?, ?it/s]"
      ]
     },
     "metadata": {},
     "output_type": "display_data"
    },
    {
     "data": {
      "application/vnd.jupyter.widget-view+json": {
       "model_id": "04cd7457a69b4f0882ee88337d4fe361",
       "version_major": 2,
       "version_minor": 0
      },
      "text/plain": [
       "roll_out:   0%|          | 0/2048 [00:00<?, ?it/s]"
      ]
     },
     "metadata": {},
     "output_type": "display_data"
    },
    {
     "data": {
      "application/vnd.jupyter.widget-view+json": {
       "model_id": "b41aed3f62ea455c9ba9d5691e3a87c1",
       "version_major": 2,
       "version_minor": 0
      },
      "text/plain": [
       "roll_out:   0%|          | 0/2048 [00:00<?, ?it/s]"
      ]
     },
     "metadata": {},
     "output_type": "display_data"
    },
    {
     "data": {
      "application/vnd.jupyter.widget-view+json": {
       "model_id": "e19a78c2f4c8483d8bf2ccc3fac86a57",
       "version_major": 2,
       "version_minor": 0
      },
      "text/plain": [
       "roll_out:   0%|          | 0/2048 [00:00<?, ?it/s]"
      ]
     },
     "metadata": {},
     "output_type": "display_data"
    },
    {
     "data": {
      "application/vnd.jupyter.widget-view+json": {
       "model_id": "2494b84c89384d77b1a693ded4ab9c1e",
       "version_major": 2,
       "version_minor": 0
      },
      "text/plain": [
       "roll_out:   0%|          | 0/2048 [00:00<?, ?it/s]"
      ]
     },
     "metadata": {},
     "output_type": "display_data"
    },
    {
     "data": {
      "application/vnd.jupyter.widget-view+json": {
       "model_id": "d5bc7e17bdbd420ab9c8810afeb7be45",
       "version_major": 2,
       "version_minor": 0
      },
      "text/plain": [
       "roll_out:   0%|          | 0/2048 [00:00<?, ?it/s]"
      ]
     },
     "metadata": {},
     "output_type": "display_data"
    },
    {
     "data": {
      "application/vnd.jupyter.widget-view+json": {
       "model_id": "65ac142b5d0a4b60a8535870bdcab8fa",
       "version_major": 2,
       "version_minor": 0
      },
      "text/plain": [
       "roll_out:   0%|          | 0/2048 [00:00<?, ?it/s]"
      ]
     },
     "metadata": {},
     "output_type": "display_data"
    },
    {
     "data": {
      "application/vnd.jupyter.widget-view+json": {
       "model_id": "bfc17004fb8a45a086a88edbe8891ce2",
       "version_major": 2,
       "version_minor": 0
      },
      "text/plain": [
       "roll_out:   0%|          | 0/2048 [00:00<?, ?it/s]"
      ]
     },
     "metadata": {},
     "output_type": "display_data"
    },
    {
     "data": {
      "application/vnd.jupyter.widget-view+json": {
       "model_id": "15434dbe485547c488cc46f1d5ec4550",
       "version_major": 2,
       "version_minor": 0
      },
      "text/plain": [
       "roll_out:   0%|          | 0/2048 [00:00<?, ?it/s]"
      ]
     },
     "metadata": {},
     "output_type": "display_data"
    },
    {
     "data": {
      "application/vnd.jupyter.widget-view+json": {
       "model_id": "46cf8d58639d4d23b69aadc2e4eb6777",
       "version_major": 2,
       "version_minor": 0
      },
      "text/plain": [
       "roll_out:   0%|          | 0/2048 [00:00<?, ?it/s]"
      ]
     },
     "metadata": {},
     "output_type": "display_data"
    },
    {
     "data": {
      "application/vnd.jupyter.widget-view+json": {
       "model_id": "2fc88c322743404184117d60d1de9446",
       "version_major": 2,
       "version_minor": 0
      },
      "text/plain": [
       "roll_out:   0%|          | 0/2048 [00:00<?, ?it/s]"
      ]
     },
     "metadata": {},
     "output_type": "display_data"
    },
    {
     "data": {
      "application/vnd.jupyter.widget-view+json": {
       "model_id": "6681b443dcf24b379e0dc3cb80fcf93d",
       "version_major": 2,
       "version_minor": 0
      },
      "text/plain": [
       "roll_out:   0%|          | 0/2048 [00:00<?, ?it/s]"
      ]
     },
     "metadata": {},
     "output_type": "display_data"
    },
    {
     "data": {
      "application/vnd.jupyter.widget-view+json": {
       "model_id": "31a1173c8f814bfcb54afae7938253f8",
       "version_major": 2,
       "version_minor": 0
      },
      "text/plain": [
       "roll_out:   0%|          | 0/2048 [00:00<?, ?it/s]"
      ]
     },
     "metadata": {},
     "output_type": "display_data"
    },
    {
     "data": {
      "application/vnd.jupyter.widget-view+json": {
       "model_id": "6e35b378a7ca4477ba79e461254b2e88",
       "version_major": 2,
       "version_minor": 0
      },
      "text/plain": [
       "roll_out:   0%|          | 0/2048 [00:00<?, ?it/s]"
      ]
     },
     "metadata": {},
     "output_type": "display_data"
    },
    {
     "data": {
      "application/vnd.jupyter.widget-view+json": {
       "model_id": "dda8b768698e4a33bc844eeff9862eba",
       "version_major": 2,
       "version_minor": 0
      },
      "text/plain": [
       "roll_out:   0%|          | 0/2048 [00:00<?, ?it/s]"
      ]
     },
     "metadata": {},
     "output_type": "display_data"
    },
    {
     "data": {
      "application/vnd.jupyter.widget-view+json": {
       "model_id": "62db827d207f4a0b92830c8cbebf06db",
       "version_major": 2,
       "version_minor": 0
      },
      "text/plain": [
       "roll_out:   0%|          | 0/2048 [00:00<?, ?it/s]"
      ]
     },
     "metadata": {},
     "output_type": "display_data"
    },
    {
     "data": {
      "application/vnd.jupyter.widget-view+json": {
       "model_id": "5590626bc0564b1f86a35086f94d71a4",
       "version_major": 2,
       "version_minor": 0
      },
      "text/plain": [
       "roll_out:   0%|          | 0/2048 [00:00<?, ?it/s]"
      ]
     },
     "metadata": {},
     "output_type": "display_data"
    },
    {
     "data": {
      "application/vnd.jupyter.widget-view+json": {
       "model_id": "b957dd073483442cbb1b3a0d51ab5750",
       "version_major": 2,
       "version_minor": 0
      },
      "text/plain": [
       "roll_out:   0%|          | 0/2048 [00:00<?, ?it/s]"
      ]
     },
     "metadata": {},
     "output_type": "display_data"
    },
    {
     "data": {
      "application/vnd.jupyter.widget-view+json": {
       "model_id": "75a2389fb8e248fba88b52166688c474",
       "version_major": 2,
       "version_minor": 0
      },
      "text/plain": [
       "roll_out:   0%|          | 0/2048 [00:00<?, ?it/s]"
      ]
     },
     "metadata": {},
     "output_type": "display_data"
    },
    {
     "data": {
      "application/vnd.jupyter.widget-view+json": {
       "model_id": "028bb46f508042bba120cd1403ebd04b",
       "version_major": 2,
       "version_minor": 0
      },
      "text/plain": [
       "roll_out:   0%|          | 0/2048 [00:00<?, ?it/s]"
      ]
     },
     "metadata": {},
     "output_type": "display_data"
    },
    {
     "data": {
      "application/vnd.jupyter.widget-view+json": {
       "model_id": "d7fcf14650ce4a63a739339d8ced7d13",
       "version_major": 2,
       "version_minor": 0
      },
      "text/plain": [
       "roll_out:   0%|          | 0/2048 [00:00<?, ?it/s]"
      ]
     },
     "metadata": {},
     "output_type": "display_data"
    },
    {
     "data": {
      "application/vnd.jupyter.widget-view+json": {
       "model_id": "362e9340892d4ee19d5b84f7ecee2811",
       "version_major": 2,
       "version_minor": 0
      },
      "text/plain": [
       "roll_out:   0%|          | 0/2048 [00:00<?, ?it/s]"
      ]
     },
     "metadata": {},
     "output_type": "display_data"
    },
    {
     "data": {
      "application/vnd.jupyter.widget-view+json": {
       "model_id": "d2109e6a7c7c4505abec959244224273",
       "version_major": 2,
       "version_minor": 0
      },
      "text/plain": [
       "roll_out:   0%|          | 0/2048 [00:00<?, ?it/s]"
      ]
     },
     "metadata": {},
     "output_type": "display_data"
    },
    {
     "data": {
      "application/vnd.jupyter.widget-view+json": {
       "model_id": "2f0c87d74aa746558e9d7f7ff7495cc9",
       "version_major": 2,
       "version_minor": 0
      },
      "text/plain": [
       "roll_out:   0%|          | 0/2048 [00:00<?, ?it/s]"
      ]
     },
     "metadata": {},
     "output_type": "display_data"
    },
    {
     "data": {
      "application/vnd.jupyter.widget-view+json": {
       "model_id": "99daa05ceb014210984888b6d8f6cbe2",
       "version_major": 2,
       "version_minor": 0
      },
      "text/plain": [
       "roll_out:   0%|          | 0/2048 [00:00<?, ?it/s]"
      ]
     },
     "metadata": {},
     "output_type": "display_data"
    },
    {
     "data": {
      "application/vnd.jupyter.widget-view+json": {
       "model_id": "9c32de2c69e541529cf293b3c41e05d6",
       "version_major": 2,
       "version_minor": 0
      },
      "text/plain": [
       "roll_out:   0%|          | 0/2048 [00:00<?, ?it/s]"
      ]
     },
     "metadata": {},
     "output_type": "display_data"
    },
    {
     "data": {
      "application/vnd.jupyter.widget-view+json": {
       "model_id": "56adc8ddd3334c419c2bbf0af0435fd1",
       "version_major": 2,
       "version_minor": 0
      },
      "text/plain": [
       "roll_out:   0%|          | 0/2048 [00:00<?, ?it/s]"
      ]
     },
     "metadata": {},
     "output_type": "display_data"
    },
    {
     "data": {
      "application/vnd.jupyter.widget-view+json": {
       "model_id": "57be609c8f6d4c8ab70eb41999fa928b",
       "version_major": 2,
       "version_minor": 0
      },
      "text/plain": [
       "roll_out:   0%|          | 0/2048 [00:00<?, ?it/s]"
      ]
     },
     "metadata": {},
     "output_type": "display_data"
    },
    {
     "data": {
      "application/vnd.jupyter.widget-view+json": {
       "model_id": "dad1fa46a57b421aa1e9cf72278c5015",
       "version_major": 2,
       "version_minor": 0
      },
      "text/plain": [
       "roll_out:   0%|          | 0/2048 [00:00<?, ?it/s]"
      ]
     },
     "metadata": {},
     "output_type": "display_data"
    },
    {
     "data": {
      "application/vnd.jupyter.widget-view+json": {
       "model_id": "e7fbda4d5fbd457ea207306c711ee7f3",
       "version_major": 2,
       "version_minor": 0
      },
      "text/plain": [
       "roll_out:   0%|          | 0/2048 [00:00<?, ?it/s]"
      ]
     },
     "metadata": {},
     "output_type": "display_data"
    },
    {
     "data": {
      "application/vnd.jupyter.widget-view+json": {
       "model_id": "c7f84115cd6944a68be4029f4630d60a",
       "version_major": 2,
       "version_minor": 0
      },
      "text/plain": [
       "roll_out:   0%|          | 0/2048 [00:00<?, ?it/s]"
      ]
     },
     "metadata": {},
     "output_type": "display_data"
    },
    {
     "data": {
      "application/vnd.jupyter.widget-view+json": {
       "model_id": "94f1a0ce2e2146b5b2f43762ff7b7ec9",
       "version_major": 2,
       "version_minor": 0
      },
      "text/plain": [
       "roll_out:   0%|          | 0/2048 [00:00<?, ?it/s]"
      ]
     },
     "metadata": {},
     "output_type": "display_data"
    },
    {
     "data": {
      "application/vnd.jupyter.widget-view+json": {
       "model_id": "088658cfe157496ea5c42f592ddab027",
       "version_major": 2,
       "version_minor": 0
      },
      "text/plain": [
       "roll_out:   0%|          | 0/2048 [00:00<?, ?it/s]"
      ]
     },
     "metadata": {},
     "output_type": "display_data"
    },
    {
     "data": {
      "application/vnd.jupyter.widget-view+json": {
       "model_id": "44b2dd4c974c4348a84bd320b43f268d",
       "version_major": 2,
       "version_minor": 0
      },
      "text/plain": [
       "roll_out:   0%|          | 0/2048 [00:00<?, ?it/s]"
      ]
     },
     "metadata": {},
     "output_type": "display_data"
    },
    {
     "data": {
      "application/vnd.jupyter.widget-view+json": {
       "model_id": "707da55f8668465997d2f903703c88d0",
       "version_major": 2,
       "version_minor": 0
      },
      "text/plain": [
       "roll_out:   0%|          | 0/2048 [00:00<?, ?it/s]"
      ]
     },
     "metadata": {},
     "output_type": "display_data"
    },
    {
     "data": {
      "application/vnd.jupyter.widget-view+json": {
       "model_id": "20310c2a6de94d6b8bafc288f8342ba7",
       "version_major": 2,
       "version_minor": 0
      },
      "text/plain": [
       "roll_out:   0%|          | 0/2048 [00:00<?, ?it/s]"
      ]
     },
     "metadata": {},
     "output_type": "display_data"
    },
    {
     "data": {
      "application/vnd.jupyter.widget-view+json": {
       "model_id": "4d62690aeb404ea2b5a24501555d7e95",
       "version_major": 2,
       "version_minor": 0
      },
      "text/plain": [
       "roll_out:   0%|          | 0/2048 [00:00<?, ?it/s]"
      ]
     },
     "metadata": {},
     "output_type": "display_data"
    },
    {
     "data": {
      "application/vnd.jupyter.widget-view+json": {
       "model_id": "4d7cb9682f4b45cbbc24fce314b046a9",
       "version_major": 2,
       "version_minor": 0
      },
      "text/plain": [
       "roll_out:   0%|          | 0/2048 [00:00<?, ?it/s]"
      ]
     },
     "metadata": {},
     "output_type": "display_data"
    },
    {
     "data": {
      "application/vnd.jupyter.widget-view+json": {
       "model_id": "01602b1dc6254ab0a28a99837721f537",
       "version_major": 2,
       "version_minor": 0
      },
      "text/plain": [
       "roll_out:   0%|          | 0/2048 [00:00<?, ?it/s]"
      ]
     },
     "metadata": {},
     "output_type": "display_data"
    },
    {
     "data": {
      "application/vnd.jupyter.widget-view+json": {
       "model_id": "4f9e955ab365423686d6ff19145de8b9",
       "version_major": 2,
       "version_minor": 0
      },
      "text/plain": [
       "roll_out:   0%|          | 0/2048 [00:00<?, ?it/s]"
      ]
     },
     "metadata": {},
     "output_type": "display_data"
    },
    {
     "data": {
      "application/vnd.jupyter.widget-view+json": {
       "model_id": "9c275f9f740e49dfaf2d7b2c96664185",
       "version_major": 2,
       "version_minor": 0
      },
      "text/plain": [
       "roll_out:   0%|          | 0/2048 [00:00<?, ?it/s]"
      ]
     },
     "metadata": {},
     "output_type": "display_data"
    },
    {
     "data": {
      "application/vnd.jupyter.widget-view+json": {
       "model_id": "5d22da35b0d5405abdb10e057f797ce2",
       "version_major": 2,
       "version_minor": 0
      },
      "text/plain": [
       "roll_out:   0%|          | 0/2048 [00:00<?, ?it/s]"
      ]
     },
     "metadata": {},
     "output_type": "display_data"
    },
    {
     "data": {
      "application/vnd.jupyter.widget-view+json": {
       "model_id": "9da4cda9177f4df1af0a8c99589f8bca",
       "version_major": 2,
       "version_minor": 0
      },
      "text/plain": [
       "roll_out:   0%|          | 0/2048 [00:00<?, ?it/s]"
      ]
     },
     "metadata": {},
     "output_type": "display_data"
    },
    {
     "data": {
      "application/vnd.jupyter.widget-view+json": {
       "model_id": "9731f8349dec4d91831f90c29a905cfc",
       "version_major": 2,
       "version_minor": 0
      },
      "text/plain": [
       "roll_out:   0%|          | 0/2048 [00:00<?, ?it/s]"
      ]
     },
     "metadata": {},
     "output_type": "display_data"
    },
    {
     "data": {
      "application/vnd.jupyter.widget-view+json": {
       "model_id": "aecd0ff5ba11471da57d75c56ee276b4",
       "version_major": 2,
       "version_minor": 0
      },
      "text/plain": [
       "roll_out:   0%|          | 0/2048 [00:00<?, ?it/s]"
      ]
     },
     "metadata": {},
     "output_type": "display_data"
    },
    {
     "data": {
      "application/vnd.jupyter.widget-view+json": {
       "model_id": "4699e0993e6b48099ab45b03b2859f4f",
       "version_major": 2,
       "version_minor": 0
      },
      "text/plain": [
       "roll_out:   0%|          | 0/2048 [00:00<?, ?it/s]"
      ]
     },
     "metadata": {},
     "output_type": "display_data"
    },
    {
     "data": {
      "application/vnd.jupyter.widget-view+json": {
       "model_id": "5a78c181aec34919b3b8aeaf4750cbcf",
       "version_major": 2,
       "version_minor": 0
      },
      "text/plain": [
       "roll_out:   0%|          | 0/2048 [00:00<?, ?it/s]"
      ]
     },
     "metadata": {},
     "output_type": "display_data"
    },
    {
     "data": {
      "application/vnd.jupyter.widget-view+json": {
       "model_id": "099fd18630084f659c92ec060a8cf5c4",
       "version_major": 2,
       "version_minor": 0
      },
      "text/plain": [
       "roll_out:   0%|          | 0/2048 [00:00<?, ?it/s]"
      ]
     },
     "metadata": {},
     "output_type": "display_data"
    },
    {
     "data": {
      "application/vnd.jupyter.widget-view+json": {
       "model_id": "78c24026119d42b88e8ad08d79eab794",
       "version_major": 2,
       "version_minor": 0
      },
      "text/plain": [
       "roll_out:   0%|          | 0/2048 [00:00<?, ?it/s]"
      ]
     },
     "metadata": {},
     "output_type": "display_data"
    },
    {
     "data": {
      "application/vnd.jupyter.widget-view+json": {
       "model_id": "ac5a55b15d584bb6a9675066da9c821f",
       "version_major": 2,
       "version_minor": 0
      },
      "text/plain": [
       "roll_out:   0%|          | 0/2048 [00:00<?, ?it/s]"
      ]
     },
     "metadata": {},
     "output_type": "display_data"
    },
    {
     "data": {
      "application/vnd.jupyter.widget-view+json": {
       "model_id": "cd5a0b8b9a6a45b68947a68dafaa7e83",
       "version_major": 2,
       "version_minor": 0
      },
      "text/plain": [
       "roll_out:   0%|          | 0/2048 [00:00<?, ?it/s]"
      ]
     },
     "metadata": {},
     "output_type": "display_data"
    },
    {
     "data": {
      "application/vnd.jupyter.widget-view+json": {
       "model_id": "3faf28489fe44da689f64ed8b8dcbf1f",
       "version_major": 2,
       "version_minor": 0
      },
      "text/plain": [
       "roll_out:   0%|          | 0/2048 [00:00<?, ?it/s]"
      ]
     },
     "metadata": {},
     "output_type": "display_data"
    },
    {
     "data": {
      "application/vnd.jupyter.widget-view+json": {
       "model_id": "2bd49eec52be4471a015330593543b05",
       "version_major": 2,
       "version_minor": 0
      },
      "text/plain": [
       "roll_out:   0%|          | 0/2048 [00:00<?, ?it/s]"
      ]
     },
     "metadata": {},
     "output_type": "display_data"
    },
    {
     "data": {
      "application/vnd.jupyter.widget-view+json": {
       "model_id": "eea4825dc5f843bb98e0a988479a5570",
       "version_major": 2,
       "version_minor": 0
      },
      "text/plain": [
       "roll_out:   0%|          | 0/2048 [00:00<?, ?it/s]"
      ]
     },
     "metadata": {},
     "output_type": "display_data"
    },
    {
     "data": {
      "application/vnd.jupyter.widget-view+json": {
       "model_id": "e753661f035b4a9683fbee0855306ea0",
       "version_major": 2,
       "version_minor": 0
      },
      "text/plain": [
       "roll_out:   0%|          | 0/2048 [00:00<?, ?it/s]"
      ]
     },
     "metadata": {},
     "output_type": "display_data"
    },
    {
     "data": {
      "application/vnd.jupyter.widget-view+json": {
       "model_id": "ee242699e5644b409b76c4167e3cca36",
       "version_major": 2,
       "version_minor": 0
      },
      "text/plain": [
       "roll_out:   0%|          | 0/2048 [00:00<?, ?it/s]"
      ]
     },
     "metadata": {},
     "output_type": "display_data"
    },
    {
     "data": {
      "application/vnd.jupyter.widget-view+json": {
       "model_id": "b488427762af4c7b9940b714676d0dbf",
       "version_major": 2,
       "version_minor": 0
      },
      "text/plain": [
       "roll_out:   0%|          | 0/2048 [00:00<?, ?it/s]"
      ]
     },
     "metadata": {},
     "output_type": "display_data"
    },
    {
     "data": {
      "application/vnd.jupyter.widget-view+json": {
       "model_id": "6e80d9c0a6a24db288a557d89aee485d",
       "version_major": 2,
       "version_minor": 0
      },
      "text/plain": [
       "roll_out:   0%|          | 0/2048 [00:00<?, ?it/s]"
      ]
     },
     "metadata": {},
     "output_type": "display_data"
    },
    {
     "data": {
      "application/vnd.jupyter.widget-view+json": {
       "model_id": "0e3469d8815d48838e5b42e20c5682f7",
       "version_major": 2,
       "version_minor": 0
      },
      "text/plain": [
       "roll_out:   0%|          | 0/2048 [00:00<?, ?it/s]"
      ]
     },
     "metadata": {},
     "output_type": "display_data"
    },
    {
     "data": {
      "application/vnd.jupyter.widget-view+json": {
       "model_id": "497f268b959340b58138af9cfb19fb85",
       "version_major": 2,
       "version_minor": 0
      },
      "text/plain": [
       "roll_out:   0%|          | 0/2048 [00:00<?, ?it/s]"
      ]
     },
     "metadata": {},
     "output_type": "display_data"
    },
    {
     "data": {
      "application/vnd.jupyter.widget-view+json": {
       "model_id": "9826e79523564672bc47907ca6183078",
       "version_major": 2,
       "version_minor": 0
      },
      "text/plain": [
       "roll_out:   0%|          | 0/2048 [00:00<?, ?it/s]"
      ]
     },
     "metadata": {},
     "output_type": "display_data"
    },
    {
     "data": {
      "application/vnd.jupyter.widget-view+json": {
       "model_id": "104ffa1052a8464fa57d8c77012890a1",
       "version_major": 2,
       "version_minor": 0
      },
      "text/plain": [
       "roll_out:   0%|          | 0/2048 [00:00<?, ?it/s]"
      ]
     },
     "metadata": {},
     "output_type": "display_data"
    },
    {
     "data": {
      "application/vnd.jupyter.widget-view+json": {
       "model_id": "2fc3ee449ccc4b5b88e09523519a408c",
       "version_major": 2,
       "version_minor": 0
      },
      "text/plain": [
       "roll_out:   0%|          | 0/2048 [00:00<?, ?it/s]"
      ]
     },
     "metadata": {},
     "output_type": "display_data"
    },
    {
     "data": {
      "application/vnd.jupyter.widget-view+json": {
       "model_id": "6ed82f3f502842078710a35352c786ab",
       "version_major": 2,
       "version_minor": 0
      },
      "text/plain": [
       "roll_out:   0%|          | 0/2048 [00:00<?, ?it/s]"
      ]
     },
     "metadata": {},
     "output_type": "display_data"
    },
    {
     "data": {
      "application/vnd.jupyter.widget-view+json": {
       "model_id": "e846f055c1df4361a5d4227096b00db0",
       "version_major": 2,
       "version_minor": 0
      },
      "text/plain": [
       "roll_out:   0%|          | 0/2048 [00:00<?, ?it/s]"
      ]
     },
     "metadata": {},
     "output_type": "display_data"
    },
    {
     "data": {
      "application/vnd.jupyter.widget-view+json": {
       "model_id": "23af3f5c7ad74cca803c7bd7d929e3aa",
       "version_major": 2,
       "version_minor": 0
      },
      "text/plain": [
       "roll_out:   0%|          | 0/2048 [00:00<?, ?it/s]"
      ]
     },
     "metadata": {},
     "output_type": "display_data"
    },
    {
     "data": {
      "application/vnd.jupyter.widget-view+json": {
       "model_id": "8437e5479843419ea5e6da19089b79e6",
       "version_major": 2,
       "version_minor": 0
      },
      "text/plain": [
       "roll_out:   0%|          | 0/2048 [00:00<?, ?it/s]"
      ]
     },
     "metadata": {},
     "output_type": "display_data"
    },
    {
     "data": {
      "application/vnd.jupyter.widget-view+json": {
       "model_id": "188f1f8d86414a9b8732c09d08476315",
       "version_major": 2,
       "version_minor": 0
      },
      "text/plain": [
       "roll_out:   0%|          | 0/2048 [00:00<?, ?it/s]"
      ]
     },
     "metadata": {},
     "output_type": "display_data"
    },
    {
     "data": {
      "application/vnd.jupyter.widget-view+json": {
       "model_id": "a64ed24bec1e4790bc0bf80bee946be2",
       "version_major": 2,
       "version_minor": 0
      },
      "text/plain": [
       "roll_out:   0%|          | 0/2048 [00:00<?, ?it/s]"
      ]
     },
     "metadata": {},
     "output_type": "display_data"
    },
    {
     "data": {
      "application/vnd.jupyter.widget-view+json": {
       "model_id": "4b47a4c03b9a4d5c9ea255533fac95bf",
       "version_major": 2,
       "version_minor": 0
      },
      "text/plain": [
       "roll_out:   0%|          | 0/2048 [00:00<?, ?it/s]"
      ]
     },
     "metadata": {},
     "output_type": "display_data"
    },
    {
     "data": {
      "application/vnd.jupyter.widget-view+json": {
       "model_id": "6be85decd06747e3a2ae67e87c600d37",
       "version_major": 2,
       "version_minor": 0
      },
      "text/plain": [
       "roll_out:   0%|          | 0/2048 [00:00<?, ?it/s]"
      ]
     },
     "metadata": {},
     "output_type": "display_data"
    },
    {
     "data": {
      "application/vnd.jupyter.widget-view+json": {
       "model_id": "602e4bf88e2a48d384b50ffbe6309cbf",
       "version_major": 2,
       "version_minor": 0
      },
      "text/plain": [
       "roll_out:   0%|          | 0/2048 [00:00<?, ?it/s]"
      ]
     },
     "metadata": {},
     "output_type": "display_data"
    },
    {
     "data": {
      "application/vnd.jupyter.widget-view+json": {
       "model_id": "bea5d1af0f4d460780fa6ce4cb87754c",
       "version_major": 2,
       "version_minor": 0
      },
      "text/plain": [
       "roll_out:   0%|          | 0/2048 [00:00<?, ?it/s]"
      ]
     },
     "metadata": {},
     "output_type": "display_data"
    },
    {
     "data": {
      "application/vnd.jupyter.widget-view+json": {
       "model_id": "2abc05e30bdf4de08f4db26af784b5cb",
       "version_major": 2,
       "version_minor": 0
      },
      "text/plain": [
       "roll_out:   0%|          | 0/2048 [00:00<?, ?it/s]"
      ]
     },
     "metadata": {},
     "output_type": "display_data"
    },
    {
     "data": {
      "application/vnd.jupyter.widget-view+json": {
       "model_id": "34992a7b03d6456f8eebb61bac4a8c24",
       "version_major": 2,
       "version_minor": 0
      },
      "text/plain": [
       "roll_out:   0%|          | 0/2048 [00:00<?, ?it/s]"
      ]
     },
     "metadata": {},
     "output_type": "display_data"
    },
    {
     "data": {
      "application/vnd.jupyter.widget-view+json": {
       "model_id": "59e77f366a7c4baea1325cea945bee1a",
       "version_major": 2,
       "version_minor": 0
      },
      "text/plain": [
       "roll_out:   0%|          | 0/2048 [00:00<?, ?it/s]"
      ]
     },
     "metadata": {},
     "output_type": "display_data"
    },
    {
     "data": {
      "application/vnd.jupyter.widget-view+json": {
       "model_id": "290d880cf8da49cd99ead64a4c711ee4",
       "version_major": 2,
       "version_minor": 0
      },
      "text/plain": [
       "roll_out:   0%|          | 0/2048 [00:00<?, ?it/s]"
      ]
     },
     "metadata": {},
     "output_type": "display_data"
    },
    {
     "data": {
      "application/vnd.jupyter.widget-view+json": {
       "model_id": "8b2be2290eb849a98390140258613acf",
       "version_major": 2,
       "version_minor": 0
      },
      "text/plain": [
       "roll_out:   0%|          | 0/2048 [00:00<?, ?it/s]"
      ]
     },
     "metadata": {},
     "output_type": "display_data"
    },
    {
     "data": {
      "application/vnd.jupyter.widget-view+json": {
       "model_id": "10dc65d58cac43cebe7ffaac49e16f69",
       "version_major": 2,
       "version_minor": 0
      },
      "text/plain": [
       "roll_out:   0%|          | 0/2048 [00:00<?, ?it/s]"
      ]
     },
     "metadata": {},
     "output_type": "display_data"
    },
    {
     "data": {
      "application/vnd.jupyter.widget-view+json": {
       "model_id": "cc7004e446544bafbd7198f50bf40c19",
       "version_major": 2,
       "version_minor": 0
      },
      "text/plain": [
       "roll_out:   0%|          | 0/2048 [00:00<?, ?it/s]"
      ]
     },
     "metadata": {},
     "output_type": "display_data"
    },
    {
     "data": {
      "application/vnd.jupyter.widget-view+json": {
       "model_id": "14aa2b4dc65146ddb44fee0a7405f7fe",
       "version_major": 2,
       "version_minor": 0
      },
      "text/plain": [
       "roll_out:   0%|          | 0/2048 [00:00<?, ?it/s]"
      ]
     },
     "metadata": {},
     "output_type": "display_data"
    },
    {
     "data": {
      "application/vnd.jupyter.widget-view+json": {
       "model_id": "549b52ce0a684bd3a4bb9defceb55794",
       "version_major": 2,
       "version_minor": 0
      },
      "text/plain": [
       "roll_out:   0%|          | 0/2048 [00:00<?, ?it/s]"
      ]
     },
     "metadata": {},
     "output_type": "display_data"
    },
    {
     "data": {
      "application/vnd.jupyter.widget-view+json": {
       "model_id": "a5953aabc2074118a78caecb43690fc8",
       "version_major": 2,
       "version_minor": 0
      },
      "text/plain": [
       "roll_out:   0%|          | 0/2048 [00:00<?, ?it/s]"
      ]
     },
     "metadata": {},
     "output_type": "display_data"
    },
    {
     "data": {
      "application/vnd.jupyter.widget-view+json": {
       "model_id": "9622731684d6482f87d26e0e02d414c7",
       "version_major": 2,
       "version_minor": 0
      },
      "text/plain": [
       "roll_out:   0%|          | 0/2048 [00:00<?, ?it/s]"
      ]
     },
     "metadata": {},
     "output_type": "display_data"
    },
    {
     "data": {
      "application/vnd.jupyter.widget-view+json": {
       "model_id": "c99e29f4205e49e6a18834bd6c58b68d",
       "version_major": 2,
       "version_minor": 0
      },
      "text/plain": [
       "roll_out:   0%|          | 0/2048 [00:00<?, ?it/s]"
      ]
     },
     "metadata": {},
     "output_type": "display_data"
    },
    {
     "data": {
      "application/vnd.jupyter.widget-view+json": {
       "model_id": "65837c20691e41d49a752762eefd2498",
       "version_major": 2,
       "version_minor": 0
      },
      "text/plain": [
       "roll_out:   0%|          | 0/2048 [00:00<?, ?it/s]"
      ]
     },
     "metadata": {},
     "output_type": "display_data"
    },
    {
     "data": {
      "application/vnd.jupyter.widget-view+json": {
       "model_id": "e08fc2d76d3541cc857524626b8cb4b9",
       "version_major": 2,
       "version_minor": 0
      },
      "text/plain": [
       "roll_out:   0%|          | 0/2048 [00:00<?, ?it/s]"
      ]
     },
     "metadata": {},
     "output_type": "display_data"
    },
    {
     "data": {
      "application/vnd.jupyter.widget-view+json": {
       "model_id": "37d00e21325b4ac0ad8f292c5889e11c",
       "version_major": 2,
       "version_minor": 0
      },
      "text/plain": [
       "roll_out:   0%|          | 0/2048 [00:00<?, ?it/s]"
      ]
     },
     "metadata": {},
     "output_type": "display_data"
    },
    {
     "data": {
      "application/vnd.jupyter.widget-view+json": {
       "model_id": "f3da990d38a84a5f9b5ce03f62979641",
       "version_major": 2,
       "version_minor": 0
      },
      "text/plain": [
       "roll_out:   0%|          | 0/2048 [00:00<?, ?it/s]"
      ]
     },
     "metadata": {},
     "output_type": "display_data"
    },
    {
     "data": {
      "application/vnd.jupyter.widget-view+json": {
       "model_id": "24c138893d0e4dff8535ae68189d6aee",
       "version_major": 2,
       "version_minor": 0
      },
      "text/plain": [
       "roll_out:   0%|          | 0/2048 [00:00<?, ?it/s]"
      ]
     },
     "metadata": {},
     "output_type": "display_data"
    },
    {
     "data": {
      "application/vnd.jupyter.widget-view+json": {
       "model_id": "3a6eb0cb63b14152ae2470ea565d11f7",
       "version_major": 2,
       "version_minor": 0
      },
      "text/plain": [
       "roll_out:   0%|          | 0/2048 [00:00<?, ?it/s]"
      ]
     },
     "metadata": {},
     "output_type": "display_data"
    },
    {
     "data": {
      "application/vnd.jupyter.widget-view+json": {
       "model_id": "4069d393418f41b1a0469a3435d1aeab",
       "version_major": 2,
       "version_minor": 0
      },
      "text/plain": [
       "roll_out:   0%|          | 0/2048 [00:00<?, ?it/s]"
      ]
     },
     "metadata": {},
     "output_type": "display_data"
    },
    {
     "data": {
      "application/vnd.jupyter.widget-view+json": {
       "model_id": "45ae168abe9d49148ed55179d9d2859f",
       "version_major": 2,
       "version_minor": 0
      },
      "text/plain": [
       "roll_out:   0%|          | 0/2048 [00:00<?, ?it/s]"
      ]
     },
     "metadata": {},
     "output_type": "display_data"
    },
    {
     "data": {
      "application/vnd.jupyter.widget-view+json": {
       "model_id": "556b1fc8168747cda4422bd3e696b70c",
       "version_major": 2,
       "version_minor": 0
      },
      "text/plain": [
       "roll_out:   0%|          | 0/2048 [00:00<?, ?it/s]"
      ]
     },
     "metadata": {},
     "output_type": "display_data"
    },
    {
     "data": {
      "application/vnd.jupyter.widget-view+json": {
       "model_id": "37e5c645436e49a3a525a7d5614ee7e7",
       "version_major": 2,
       "version_minor": 0
      },
      "text/plain": [
       "roll_out:   0%|          | 0/2048 [00:00<?, ?it/s]"
      ]
     },
     "metadata": {},
     "output_type": "display_data"
    },
    {
     "data": {
      "application/vnd.jupyter.widget-view+json": {
       "model_id": "34688951d0b14b49981c62388576e552",
       "version_major": 2,
       "version_minor": 0
      },
      "text/plain": [
       "roll_out:   0%|          | 0/2048 [00:00<?, ?it/s]"
      ]
     },
     "metadata": {},
     "output_type": "display_data"
    },
    {
     "data": {
      "application/vnd.jupyter.widget-view+json": {
       "model_id": "e61328b54d3048b6bca1589dcd2db000",
       "version_major": 2,
       "version_minor": 0
      },
      "text/plain": [
       "roll_out:   0%|          | 0/2048 [00:00<?, ?it/s]"
      ]
     },
     "metadata": {},
     "output_type": "display_data"
    },
    {
     "data": {
      "application/vnd.jupyter.widget-view+json": {
       "model_id": "b5273152315e41a2b3648c5f6604a88b",
       "version_major": 2,
       "version_minor": 0
      },
      "text/plain": [
       "roll_out:   0%|          | 0/2048 [00:00<?, ?it/s]"
      ]
     },
     "metadata": {},
     "output_type": "display_data"
    },
    {
     "data": {
      "application/vnd.jupyter.widget-view+json": {
       "model_id": "382d331d119c45f2aafa1debe2e4b1f3",
       "version_major": 2,
       "version_minor": 0
      },
      "text/plain": [
       "roll_out:   0%|          | 0/2048 [00:00<?, ?it/s]"
      ]
     },
     "metadata": {},
     "output_type": "display_data"
    },
    {
     "data": {
      "application/vnd.jupyter.widget-view+json": {
       "model_id": "d7794949423d445fa99310220006e05f",
       "version_major": 2,
       "version_minor": 0
      },
      "text/plain": [
       "roll_out:   0%|          | 0/2048 [00:00<?, ?it/s]"
      ]
     },
     "metadata": {},
     "output_type": "display_data"
    },
    {
     "data": {
      "application/vnd.jupyter.widget-view+json": {
       "model_id": "1e5a7616550d45b3819f04c000b0a6b9",
       "version_major": 2,
       "version_minor": 0
      },
      "text/plain": [
       "roll_out:   0%|          | 0/2048 [00:00<?, ?it/s]"
      ]
     },
     "metadata": {},
     "output_type": "display_data"
    },
    {
     "data": {
      "application/vnd.jupyter.widget-view+json": {
       "model_id": "f947d4dc18d14d38b27c5b50ba6c2a26",
       "version_major": 2,
       "version_minor": 0
      },
      "text/plain": [
       "roll_out:   0%|          | 0/2048 [00:00<?, ?it/s]"
      ]
     },
     "metadata": {},
     "output_type": "display_data"
    },
    {
     "data": {
      "application/vnd.jupyter.widget-view+json": {
       "model_id": "a2c00d947e8b45daa87b6e886875b550",
       "version_major": 2,
       "version_minor": 0
      },
      "text/plain": [
       "roll_out:   0%|          | 0/2048 [00:00<?, ?it/s]"
      ]
     },
     "metadata": {},
     "output_type": "display_data"
    },
    {
     "data": {
      "application/vnd.jupyter.widget-view+json": {
       "model_id": "ad5f6c635e8a448d86e5f8e73c60d71b",
       "version_major": 2,
       "version_minor": 0
      },
      "text/plain": [
       "roll_out:   0%|          | 0/2048 [00:00<?, ?it/s]"
      ]
     },
     "metadata": {},
     "output_type": "display_data"
    },
    {
     "data": {
      "application/vnd.jupyter.widget-view+json": {
       "model_id": "3d4b79be94f94a2e8271348e1eef4b86",
       "version_major": 2,
       "version_minor": 0
      },
      "text/plain": [
       "roll_out:   0%|          | 0/2048 [00:00<?, ?it/s]"
      ]
     },
     "metadata": {},
     "output_type": "display_data"
    },
    {
     "data": {
      "application/vnd.jupyter.widget-view+json": {
       "model_id": "d3d7597460e34bfe9919da5be7f805c9",
       "version_major": 2,
       "version_minor": 0
      },
      "text/plain": [
       "roll_out:   0%|          | 0/2048 [00:00<?, ?it/s]"
      ]
     },
     "metadata": {},
     "output_type": "display_data"
    },
    {
     "data": {
      "application/vnd.jupyter.widget-view+json": {
       "model_id": "7ea12e3391194052adcedd30fc6fb904",
       "version_major": 2,
       "version_minor": 0
      },
      "text/plain": [
       "roll_out:   0%|          | 0/2048 [00:00<?, ?it/s]"
      ]
     },
     "metadata": {},
     "output_type": "display_data"
    },
    {
     "data": {
      "application/vnd.jupyter.widget-view+json": {
       "model_id": "dfb4282183ac42aba4dc20891ff774d1",
       "version_major": 2,
       "version_minor": 0
      },
      "text/plain": [
       "roll_out:   0%|          | 0/2048 [00:00<?, ?it/s]"
      ]
     },
     "metadata": {},
     "output_type": "display_data"
    },
    {
     "data": {
      "application/vnd.jupyter.widget-view+json": {
       "model_id": "c2722bd657bf4706a37b69929ce9c2c6",
       "version_major": 2,
       "version_minor": 0
      },
      "text/plain": [
       "roll_out:   0%|          | 0/2048 [00:00<?, ?it/s]"
      ]
     },
     "metadata": {},
     "output_type": "display_data"
    },
    {
     "data": {
      "application/vnd.jupyter.widget-view+json": {
       "model_id": "f7d02a33a2b14358913b385c87dfea48",
       "version_major": 2,
       "version_minor": 0
      },
      "text/plain": [
       "roll_out:   0%|          | 0/2048 [00:00<?, ?it/s]"
      ]
     },
     "metadata": {},
     "output_type": "display_data"
    },
    {
     "data": {
      "application/vnd.jupyter.widget-view+json": {
       "model_id": "40719f35559943579591f545e86fbe87",
       "version_major": 2,
       "version_minor": 0
      },
      "text/plain": [
       "roll_out:   0%|          | 0/2048 [00:00<?, ?it/s]"
      ]
     },
     "metadata": {},
     "output_type": "display_data"
    },
    {
     "data": {
      "application/vnd.jupyter.widget-view+json": {
       "model_id": "f74bb7d69a8a4bfba21964500f5bd71a",
       "version_major": 2,
       "version_minor": 0
      },
      "text/plain": [
       "roll_out:   0%|          | 0/2048 [00:00<?, ?it/s]"
      ]
     },
     "metadata": {},
     "output_type": "display_data"
    },
    {
     "data": {
      "application/vnd.jupyter.widget-view+json": {
       "model_id": "a86d5ef278f94ead809ea981d1ec4907",
       "version_major": 2,
       "version_minor": 0
      },
      "text/plain": [
       "roll_out:   0%|          | 0/2048 [00:00<?, ?it/s]"
      ]
     },
     "metadata": {},
     "output_type": "display_data"
    },
    {
     "data": {
      "application/vnd.jupyter.widget-view+json": {
       "model_id": "1cec74afe05b4f1c9fb5fa8e0a3af8fc",
       "version_major": 2,
       "version_minor": 0
      },
      "text/plain": [
       "roll_out:   0%|          | 0/2048 [00:00<?, ?it/s]"
      ]
     },
     "metadata": {},
     "output_type": "display_data"
    },
    {
     "data": {
      "application/vnd.jupyter.widget-view+json": {
       "model_id": "1dd3317ce7d8423c9f34be4c973a81ee",
       "version_major": 2,
       "version_minor": 0
      },
      "text/plain": [
       "roll_out:   0%|          | 0/2048 [00:00<?, ?it/s]"
      ]
     },
     "metadata": {},
     "output_type": "display_data"
    },
    {
     "data": {
      "application/vnd.jupyter.widget-view+json": {
       "model_id": "5f6edbfc5cbb41faa87cdee0b8fd1110",
       "version_major": 2,
       "version_minor": 0
      },
      "text/plain": [
       "roll_out:   0%|          | 0/2048 [00:00<?, ?it/s]"
      ]
     },
     "metadata": {},
     "output_type": "display_data"
    },
    {
     "data": {
      "application/vnd.jupyter.widget-view+json": {
       "model_id": "c3cd977890cc41bda490772a12a50ef6",
       "version_major": 2,
       "version_minor": 0
      },
      "text/plain": [
       "roll_out:   0%|          | 0/2048 [00:00<?, ?it/s]"
      ]
     },
     "metadata": {},
     "output_type": "display_data"
    },
    {
     "data": {
      "application/vnd.jupyter.widget-view+json": {
       "model_id": "5cda1e337de14c63a36658ecdd73c8c8",
       "version_major": 2,
       "version_minor": 0
      },
      "text/plain": [
       "roll_out:   0%|          | 0/2048 [00:00<?, ?it/s]"
      ]
     },
     "metadata": {},
     "output_type": "display_data"
    },
    {
     "data": {
      "application/vnd.jupyter.widget-view+json": {
       "model_id": "883b5eb0a40e41bea686d6c1bd1a6f84",
       "version_major": 2,
       "version_minor": 0
      },
      "text/plain": [
       "roll_out:   0%|          | 0/2048 [00:00<?, ?it/s]"
      ]
     },
     "metadata": {},
     "output_type": "display_data"
    },
    {
     "data": {
      "application/vnd.jupyter.widget-view+json": {
       "model_id": "b7aebc0670c64b22b9deb1f4f479f481",
       "version_major": 2,
       "version_minor": 0
      },
      "text/plain": [
       "roll_out:   0%|          | 0/2048 [00:00<?, ?it/s]"
      ]
     },
     "metadata": {},
     "output_type": "display_data"
    },
    {
     "data": {
      "application/vnd.jupyter.widget-view+json": {
       "model_id": "e357476cfe8840bfb1e606f2a644e718",
       "version_major": 2,
       "version_minor": 0
      },
      "text/plain": [
       "roll_out:   0%|          | 0/2048 [00:00<?, ?it/s]"
      ]
     },
     "metadata": {},
     "output_type": "display_data"
    },
    {
     "data": {
      "application/vnd.jupyter.widget-view+json": {
       "model_id": "f07e06e304cb41b0bbec710cb4f2981d",
       "version_major": 2,
       "version_minor": 0
      },
      "text/plain": [
       "roll_out:   0%|          | 0/2048 [00:00<?, ?it/s]"
      ]
     },
     "metadata": {},
     "output_type": "display_data"
    },
    {
     "data": {
      "application/vnd.jupyter.widget-view+json": {
       "model_id": "36aeca8310ce44ffb3c6e241feecdf17",
       "version_major": 2,
       "version_minor": 0
      },
      "text/plain": [
       "roll_out:   0%|          | 0/2048 [00:00<?, ?it/s]"
      ]
     },
     "metadata": {},
     "output_type": "display_data"
    },
    {
     "data": {
      "application/vnd.jupyter.widget-view+json": {
       "model_id": "32b1107885ec4cae9b8dcdd068685afc",
       "version_major": 2,
       "version_minor": 0
      },
      "text/plain": [
       "roll_out:   0%|          | 0/2048 [00:00<?, ?it/s]"
      ]
     },
     "metadata": {},
     "output_type": "display_data"
    },
    {
     "data": {
      "application/vnd.jupyter.widget-view+json": {
       "model_id": "b4ce94bc97bf41668b7903e4a48d517a",
       "version_major": 2,
       "version_minor": 0
      },
      "text/plain": [
       "roll_out:   0%|          | 0/2048 [00:00<?, ?it/s]"
      ]
     },
     "metadata": {},
     "output_type": "display_data"
    },
    {
     "data": {
      "application/vnd.jupyter.widget-view+json": {
       "model_id": "31412aa74b04447a9851dccd8d8533ae",
       "version_major": 2,
       "version_minor": 0
      },
      "text/plain": [
       "roll_out:   0%|          | 0/2048 [00:00<?, ?it/s]"
      ]
     },
     "metadata": {},
     "output_type": "display_data"
    },
    {
     "data": {
      "application/vnd.jupyter.widget-view+json": {
       "model_id": "bf0908b3977e4e4abc1b4468fd02855d",
       "version_major": 2,
       "version_minor": 0
      },
      "text/plain": [
       "roll_out:   0%|          | 0/2048 [00:00<?, ?it/s]"
      ]
     },
     "metadata": {},
     "output_type": "display_data"
    },
    {
     "data": {
      "application/vnd.jupyter.widget-view+json": {
       "model_id": "75abc727415e4404908c2d201da5f426",
       "version_major": 2,
       "version_minor": 0
      },
      "text/plain": [
       "roll_out:   0%|          | 0/2048 [00:00<?, ?it/s]"
      ]
     },
     "metadata": {},
     "output_type": "display_data"
    },
    {
     "data": {
      "application/vnd.jupyter.widget-view+json": {
       "model_id": "b609e0f5144b443bab90f18a4d47dc25",
       "version_major": 2,
       "version_minor": 0
      },
      "text/plain": [
       "roll_out:   0%|          | 0/2048 [00:00<?, ?it/s]"
      ]
     },
     "metadata": {},
     "output_type": "display_data"
    },
    {
     "data": {
      "application/vnd.jupyter.widget-view+json": {
       "model_id": "7cb24e6b491347f6b83da341caa8b9d2",
       "version_major": 2,
       "version_minor": 0
      },
      "text/plain": [
       "roll_out:   0%|          | 0/2048 [00:00<?, ?it/s]"
      ]
     },
     "metadata": {},
     "output_type": "display_data"
    },
    {
     "data": {
      "application/vnd.jupyter.widget-view+json": {
       "model_id": "7f397e9cc2564c708f6a932d200bb7c9",
       "version_major": 2,
       "version_minor": 0
      },
      "text/plain": [
       "roll_out:   0%|          | 0/2048 [00:00<?, ?it/s]"
      ]
     },
     "metadata": {},
     "output_type": "display_data"
    },
    {
     "data": {
      "application/vnd.jupyter.widget-view+json": {
       "model_id": "b4b66c7a1dd740bcbd11689b0cdcc35f",
       "version_major": 2,
       "version_minor": 0
      },
      "text/plain": [
       "roll_out:   0%|          | 0/2048 [00:00<?, ?it/s]"
      ]
     },
     "metadata": {},
     "output_type": "display_data"
    },
    {
     "data": {
      "application/vnd.jupyter.widget-view+json": {
       "model_id": "f31817ccbd3649368a3ec1c390afc2db",
       "version_major": 2,
       "version_minor": 0
      },
      "text/plain": [
       "roll_out:   0%|          | 0/2048 [00:00<?, ?it/s]"
      ]
     },
     "metadata": {},
     "output_type": "display_data"
    },
    {
     "data": {
      "application/vnd.jupyter.widget-view+json": {
       "model_id": "ac7faa8a10ff4ea7bc71854686583e29",
       "version_major": 2,
       "version_minor": 0
      },
      "text/plain": [
       "roll_out:   0%|          | 0/2048 [00:00<?, ?it/s]"
      ]
     },
     "metadata": {},
     "output_type": "display_data"
    },
    {
     "data": {
      "application/vnd.jupyter.widget-view+json": {
       "model_id": "108064db42e04e65b7d1ced9910b84ab",
       "version_major": 2,
       "version_minor": 0
      },
      "text/plain": [
       "roll_out:   0%|          | 0/2048 [00:00<?, ?it/s]"
      ]
     },
     "metadata": {},
     "output_type": "display_data"
    },
    {
     "data": {
      "application/vnd.jupyter.widget-view+json": {
       "model_id": "bf77219ffaee46df922dce0905b32d59",
       "version_major": 2,
       "version_minor": 0
      },
      "text/plain": [
       "roll_out:   0%|          | 0/2048 [00:00<?, ?it/s]"
      ]
     },
     "metadata": {},
     "output_type": "display_data"
    },
    {
     "data": {
      "application/vnd.jupyter.widget-view+json": {
       "model_id": "ce87167b988a49bc8898be295dda7db3",
       "version_major": 2,
       "version_minor": 0
      },
      "text/plain": [
       "roll_out:   0%|          | 0/2048 [00:00<?, ?it/s]"
      ]
     },
     "metadata": {},
     "output_type": "display_data"
    },
    {
     "data": {
      "application/vnd.jupyter.widget-view+json": {
       "model_id": "75d4b3814f5242f9818345d55db78ad8",
       "version_major": 2,
       "version_minor": 0
      },
      "text/plain": [
       "roll_out:   0%|          | 0/2048 [00:00<?, ?it/s]"
      ]
     },
     "metadata": {},
     "output_type": "display_data"
    },
    {
     "data": {
      "application/vnd.jupyter.widget-view+json": {
       "model_id": "b8662ce8116446cdbc85034fffea8aaa",
       "version_major": 2,
       "version_minor": 0
      },
      "text/plain": [
       "roll_out:   0%|          | 0/2048 [00:00<?, ?it/s]"
      ]
     },
     "metadata": {},
     "output_type": "display_data"
    },
    {
     "data": {
      "application/vnd.jupyter.widget-view+json": {
       "model_id": "89d4067ee310454fb9ef99282e73d635",
       "version_major": 2,
       "version_minor": 0
      },
      "text/plain": [
       "roll_out:   0%|          | 0/2048 [00:00<?, ?it/s]"
      ]
     },
     "metadata": {},
     "output_type": "display_data"
    },
    {
     "data": {
      "application/vnd.jupyter.widget-view+json": {
       "model_id": "ff3d91479a6246e9ac0806ba3d25c98f",
       "version_major": 2,
       "version_minor": 0
      },
      "text/plain": [
       "roll_out:   0%|          | 0/2048 [00:00<?, ?it/s]"
      ]
     },
     "metadata": {},
     "output_type": "display_data"
    },
    {
     "data": {
      "application/vnd.jupyter.widget-view+json": {
       "model_id": "0e3bd160c60145dd9b5038d66599973a",
       "version_major": 2,
       "version_minor": 0
      },
      "text/plain": [
       "roll_out:   0%|          | 0/2048 [00:00<?, ?it/s]"
      ]
     },
     "metadata": {},
     "output_type": "display_data"
    },
    {
     "data": {
      "application/vnd.jupyter.widget-view+json": {
       "model_id": "063d788dd5694c5f830a8708e0a8529d",
       "version_major": 2,
       "version_minor": 0
      },
      "text/plain": [
       "roll_out:   0%|          | 0/2048 [00:00<?, ?it/s]"
      ]
     },
     "metadata": {},
     "output_type": "display_data"
    },
    {
     "data": {
      "application/vnd.jupyter.widget-view+json": {
       "model_id": "203cf50817ad4b1596daf7b147d55230",
       "version_major": 2,
       "version_minor": 0
      },
      "text/plain": [
       "roll_out:   0%|          | 0/2048 [00:00<?, ?it/s]"
      ]
     },
     "metadata": {},
     "output_type": "display_data"
    },
    {
     "data": {
      "application/vnd.jupyter.widget-view+json": {
       "model_id": "a411f0ddbd3446448b9124438677bc1b",
       "version_major": 2,
       "version_minor": 0
      },
      "text/plain": [
       "roll_out:   0%|          | 0/2048 [00:00<?, ?it/s]"
      ]
     },
     "metadata": {},
     "output_type": "display_data"
    },
    {
     "data": {
      "application/vnd.jupyter.widget-view+json": {
       "model_id": "287aa494f28b4ea68756578ff3aed7f9",
       "version_major": 2,
       "version_minor": 0
      },
      "text/plain": [
       "roll_out:   0%|          | 0/2048 [00:00<?, ?it/s]"
      ]
     },
     "metadata": {},
     "output_type": "display_data"
    },
    {
     "data": {
      "application/vnd.jupyter.widget-view+json": {
       "model_id": "6505268f7aaf44b8a949e76378811bab",
       "version_major": 2,
       "version_minor": 0
      },
      "text/plain": [
       "roll_out:   0%|          | 0/2048 [00:00<?, ?it/s]"
      ]
     },
     "metadata": {},
     "output_type": "display_data"
    },
    {
     "data": {
      "application/vnd.jupyter.widget-view+json": {
       "model_id": "213f48c234a24c7a81e8cb701c253cbc",
       "version_major": 2,
       "version_minor": 0
      },
      "text/plain": [
       "roll_out:   0%|          | 0/2048 [00:00<?, ?it/s]"
      ]
     },
     "metadata": {},
     "output_type": "display_data"
    },
    {
     "data": {
      "application/vnd.jupyter.widget-view+json": {
       "model_id": "72446ac4b6114fba959676ba953eeaa5",
       "version_major": 2,
       "version_minor": 0
      },
      "text/plain": [
       "roll_out:   0%|          | 0/2048 [00:00<?, ?it/s]"
      ]
     },
     "metadata": {},
     "output_type": "display_data"
    },
    {
     "data": {
      "application/vnd.jupyter.widget-view+json": {
       "model_id": "c18ec49453104568992eae2f05a630b1",
       "version_major": 2,
       "version_minor": 0
      },
      "text/plain": [
       "roll_out:   0%|          | 0/2048 [00:00<?, ?it/s]"
      ]
     },
     "metadata": {},
     "output_type": "display_data"
    },
    {
     "data": {
      "application/vnd.jupyter.widget-view+json": {
       "model_id": "328534a041d54cda81bc93211c0abcde",
       "version_major": 2,
       "version_minor": 0
      },
      "text/plain": [
       "roll_out:   0%|          | 0/2048 [00:00<?, ?it/s]"
      ]
     },
     "metadata": {},
     "output_type": "display_data"
    },
    {
     "data": {
      "application/vnd.jupyter.widget-view+json": {
       "model_id": "293f0b29a9e5416da475eba6369eaf06",
       "version_major": 2,
       "version_minor": 0
      },
      "text/plain": [
       "roll_out:   0%|          | 0/2048 [00:00<?, ?it/s]"
      ]
     },
     "metadata": {},
     "output_type": "display_data"
    },
    {
     "data": {
      "application/vnd.jupyter.widget-view+json": {
       "model_id": "f49d2f6145bf4946a46e0d0f233a5a04",
       "version_major": 2,
       "version_minor": 0
      },
      "text/plain": [
       "roll_out:   0%|          | 0/2048 [00:00<?, ?it/s]"
      ]
     },
     "metadata": {},
     "output_type": "display_data"
    },
    {
     "data": {
      "application/vnd.jupyter.widget-view+json": {
       "model_id": "abe49c786ba5458b840d655913a15983",
       "version_major": 2,
       "version_minor": 0
      },
      "text/plain": [
       "roll_out:   0%|          | 0/2048 [00:00<?, ?it/s]"
      ]
     },
     "metadata": {},
     "output_type": "display_data"
    },
    {
     "data": {
      "application/vnd.jupyter.widget-view+json": {
       "model_id": "eb7886f3db9a4ffca9c50857e8154fb2",
       "version_major": 2,
       "version_minor": 0
      },
      "text/plain": [
       "roll_out:   0%|          | 0/2048 [00:00<?, ?it/s]"
      ]
     },
     "metadata": {},
     "output_type": "display_data"
    },
    {
     "data": {
      "application/vnd.jupyter.widget-view+json": {
       "model_id": "b21b9b08f5c047deba546e644289d03b",
       "version_major": 2,
       "version_minor": 0
      },
      "text/plain": [
       "roll_out:   0%|          | 0/2048 [00:00<?, ?it/s]"
      ]
     },
     "metadata": {},
     "output_type": "display_data"
    },
    {
     "data": {
      "application/vnd.jupyter.widget-view+json": {
       "model_id": "c3c3fccd5e4d486c80b9c2a02193f9e9",
       "version_major": 2,
       "version_minor": 0
      },
      "text/plain": [
       "roll_out:   0%|          | 0/2048 [00:00<?, ?it/s]"
      ]
     },
     "metadata": {},
     "output_type": "display_data"
    },
    {
     "data": {
      "application/vnd.jupyter.widget-view+json": {
       "model_id": "688b83d380a046499e6b2b08147ebef5",
       "version_major": 2,
       "version_minor": 0
      },
      "text/plain": [
       "roll_out:   0%|          | 0/2048 [00:00<?, ?it/s]"
      ]
     },
     "metadata": {},
     "output_type": "display_data"
    },
    {
     "data": {
      "application/vnd.jupyter.widget-view+json": {
       "model_id": "1791095c49c34bfd968619f818afb2a4",
       "version_major": 2,
       "version_minor": 0
      },
      "text/plain": [
       "roll_out:   0%|          | 0/2048 [00:00<?, ?it/s]"
      ]
     },
     "metadata": {},
     "output_type": "display_data"
    },
    {
     "data": {
      "application/vnd.jupyter.widget-view+json": {
       "model_id": "f4e9a7c9a3664896906eff4b857b453f",
       "version_major": 2,
       "version_minor": 0
      },
      "text/plain": [
       "roll_out:   0%|          | 0/2048 [00:00<?, ?it/s]"
      ]
     },
     "metadata": {},
     "output_type": "display_data"
    },
    {
     "data": {
      "application/vnd.jupyter.widget-view+json": {
       "model_id": "59f4d2efd87e45abbcbe465b1b6fb0d5",
       "version_major": 2,
       "version_minor": 0
      },
      "text/plain": [
       "roll_out:   0%|          | 0/2048 [00:00<?, ?it/s]"
      ]
     },
     "metadata": {},
     "output_type": "display_data"
    },
    {
     "data": {
      "application/vnd.jupyter.widget-view+json": {
       "model_id": "8c15f50678fb44aeabbc6faff21ef7bc",
       "version_major": 2,
       "version_minor": 0
      },
      "text/plain": [
       "roll_out:   0%|          | 0/2048 [00:00<?, ?it/s]"
      ]
     },
     "metadata": {},
     "output_type": "display_data"
    },
    {
     "data": {
      "application/vnd.jupyter.widget-view+json": {
       "model_id": "ddb86f4ced534afa93a74e031b1613c9",
       "version_major": 2,
       "version_minor": 0
      },
      "text/plain": [
       "roll_out:   0%|          | 0/2048 [00:00<?, ?it/s]"
      ]
     },
     "metadata": {},
     "output_type": "display_data"
    },
    {
     "data": {
      "application/vnd.jupyter.widget-view+json": {
       "model_id": "2d931bddcedd4118843251756b8e11e0",
       "version_major": 2,
       "version_minor": 0
      },
      "text/plain": [
       "roll_out:   0%|          | 0/2048 [00:00<?, ?it/s]"
      ]
     },
     "metadata": {},
     "output_type": "display_data"
    },
    {
     "data": {
      "application/vnd.jupyter.widget-view+json": {
       "model_id": "353bbcbf581a47d8b96900a5467618e9",
       "version_major": 2,
       "version_minor": 0
      },
      "text/plain": [
       "roll_out:   0%|          | 0/2048 [00:00<?, ?it/s]"
      ]
     },
     "metadata": {},
     "output_type": "display_data"
    },
    {
     "data": {
      "application/vnd.jupyter.widget-view+json": {
       "model_id": "c74b4a3371b2425ca9c12c00dd83f29d",
       "version_major": 2,
       "version_minor": 0
      },
      "text/plain": [
       "roll_out:   0%|          | 0/2048 [00:00<?, ?it/s]"
      ]
     },
     "metadata": {},
     "output_type": "display_data"
    },
    {
     "data": {
      "application/vnd.jupyter.widget-view+json": {
       "model_id": "59bbd72fd6804011af20814dd7ceba7f",
       "version_major": 2,
       "version_minor": 0
      },
      "text/plain": [
       "roll_out:   0%|          | 0/2048 [00:00<?, ?it/s]"
      ]
     },
     "metadata": {},
     "output_type": "display_data"
    },
    {
     "data": {
      "application/vnd.jupyter.widget-view+json": {
       "model_id": "3b5d7afa03734f859e812bb968e03654",
       "version_major": 2,
       "version_minor": 0
      },
      "text/plain": [
       "roll_out:   0%|          | 0/2048 [00:00<?, ?it/s]"
      ]
     },
     "metadata": {},
     "output_type": "display_data"
    },
    {
     "data": {
      "application/vnd.jupyter.widget-view+json": {
       "model_id": "c5b7768a842c4da7b349efd2d16020dc",
       "version_major": 2,
       "version_minor": 0
      },
      "text/plain": [
       "roll_out:   0%|          | 0/2048 [00:00<?, ?it/s]"
      ]
     },
     "metadata": {},
     "output_type": "display_data"
    },
    {
     "data": {
      "application/vnd.jupyter.widget-view+json": {
       "model_id": "a86eb45b51f44d26b5f13f49e9dd444d",
       "version_major": 2,
       "version_minor": 0
      },
      "text/plain": [
       "roll_out:   0%|          | 0/2048 [00:00<?, ?it/s]"
      ]
     },
     "metadata": {},
     "output_type": "display_data"
    },
    {
     "data": {
      "application/vnd.jupyter.widget-view+json": {
       "model_id": "eb205eabe74842d79f0c328cfb52bda5",
       "version_major": 2,
       "version_minor": 0
      },
      "text/plain": [
       "roll_out:   0%|          | 0/2048 [00:00<?, ?it/s]"
      ]
     },
     "metadata": {},
     "output_type": "display_data"
    },
    {
     "data": {
      "application/vnd.jupyter.widget-view+json": {
       "model_id": "779eca9aecf0428a88d52e6b6f09b4aa",
       "version_major": 2,
       "version_minor": 0
      },
      "text/plain": [
       "roll_out:   0%|          | 0/2048 [00:00<?, ?it/s]"
      ]
     },
     "metadata": {},
     "output_type": "display_data"
    },
    {
     "data": {
      "application/vnd.jupyter.widget-view+json": {
       "model_id": "808606c4207f486aa233e77a303d8c3c",
       "version_major": 2,
       "version_minor": 0
      },
      "text/plain": [
       "roll_out:   0%|          | 0/2048 [00:00<?, ?it/s]"
      ]
     },
     "metadata": {},
     "output_type": "display_data"
    },
    {
     "data": {
      "application/vnd.jupyter.widget-view+json": {
       "model_id": "70f7e4505bce4690af18a57e552465f8",
       "version_major": 2,
       "version_minor": 0
      },
      "text/plain": [
       "roll_out:   0%|          | 0/2048 [00:00<?, ?it/s]"
      ]
     },
     "metadata": {},
     "output_type": "display_data"
    },
    {
     "data": {
      "application/vnd.jupyter.widget-view+json": {
       "model_id": "5ffb41b0bab84724984894ae29e8e900",
       "version_major": 2,
       "version_minor": 0
      },
      "text/plain": [
       "roll_out:   0%|          | 0/2048 [00:00<?, ?it/s]"
      ]
     },
     "metadata": {},
     "output_type": "display_data"
    },
    {
     "data": {
      "application/vnd.jupyter.widget-view+json": {
       "model_id": "3310fba691b94455bb63b876441bce04",
       "version_major": 2,
       "version_minor": 0
      },
      "text/plain": [
       "roll_out:   0%|          | 0/2048 [00:00<?, ?it/s]"
      ]
     },
     "metadata": {},
     "output_type": "display_data"
    },
    {
     "data": {
      "application/vnd.jupyter.widget-view+json": {
       "model_id": "58998ff4d8e24c399813196740355dba",
       "version_major": 2,
       "version_minor": 0
      },
      "text/plain": [
       "roll_out:   0%|          | 0/2048 [00:00<?, ?it/s]"
      ]
     },
     "metadata": {},
     "output_type": "display_data"
    },
    {
     "data": {
      "application/vnd.jupyter.widget-view+json": {
       "model_id": "4ab7b2c2c31145508ac604f5eba4b100",
       "version_major": 2,
       "version_minor": 0
      },
      "text/plain": [
       "roll_out:   0%|          | 0/2048 [00:00<?, ?it/s]"
      ]
     },
     "metadata": {},
     "output_type": "display_data"
    },
    {
     "data": {
      "application/vnd.jupyter.widget-view+json": {
       "model_id": "456f6e3fb33a4c428f6db8d658f2d5aa",
       "version_major": 2,
       "version_minor": 0
      },
      "text/plain": [
       "roll_out:   0%|          | 0/2048 [00:00<?, ?it/s]"
      ]
     },
     "metadata": {},
     "output_type": "display_data"
    },
    {
     "data": {
      "application/vnd.jupyter.widget-view+json": {
       "model_id": "9d7d78b0d9934285a7dd972f60e1fe87",
       "version_major": 2,
       "version_minor": 0
      },
      "text/plain": [
       "roll_out:   0%|          | 0/2048 [00:00<?, ?it/s]"
      ]
     },
     "metadata": {},
     "output_type": "display_data"
    },
    {
     "data": {
      "application/vnd.jupyter.widget-view+json": {
       "model_id": "11382bf24894471fa84605d0aef2fcc2",
       "version_major": 2,
       "version_minor": 0
      },
      "text/plain": [
       "roll_out:   0%|          | 0/2048 [00:00<?, ?it/s]"
      ]
     },
     "metadata": {},
     "output_type": "display_data"
    },
    {
     "data": {
      "application/vnd.jupyter.widget-view+json": {
       "model_id": "3a7f7c68fa1d41b19daffff5147d47c6",
       "version_major": 2,
       "version_minor": 0
      },
      "text/plain": [
       "roll_out:   0%|          | 0/2048 [00:00<?, ?it/s]"
      ]
     },
     "metadata": {},
     "output_type": "display_data"
    },
    {
     "data": {
      "application/vnd.jupyter.widget-view+json": {
       "model_id": "c214cd0527db4c04a25d2477cd5c02c2",
       "version_major": 2,
       "version_minor": 0
      },
      "text/plain": [
       "roll_out:   0%|          | 0/2048 [00:00<?, ?it/s]"
      ]
     },
     "metadata": {},
     "output_type": "display_data"
    },
    {
     "data": {
      "application/vnd.jupyter.widget-view+json": {
       "model_id": "9597cd425ca44e63b8e008c11d82ee4f",
       "version_major": 2,
       "version_minor": 0
      },
      "text/plain": [
       "roll_out:   0%|          | 0/2048 [00:00<?, ?it/s]"
      ]
     },
     "metadata": {},
     "output_type": "display_data"
    },
    {
     "data": {
      "application/vnd.jupyter.widget-view+json": {
       "model_id": "e72a80db00c1459ea55ccf3773ac0d92",
       "version_major": 2,
       "version_minor": 0
      },
      "text/plain": [
       "roll_out:   0%|          | 0/2048 [00:00<?, ?it/s]"
      ]
     },
     "metadata": {},
     "output_type": "display_data"
    },
    {
     "data": {
      "application/vnd.jupyter.widget-view+json": {
       "model_id": "0f681eecb8bd414dba8e2ae9f21afda8",
       "version_major": 2,
       "version_minor": 0
      },
      "text/plain": [
       "roll_out:   0%|          | 0/2048 [00:00<?, ?it/s]"
      ]
     },
     "metadata": {},
     "output_type": "display_data"
    },
    {
     "data": {
      "application/vnd.jupyter.widget-view+json": {
       "model_id": "c5931e38796945408900774a02881b19",
       "version_major": 2,
       "version_minor": 0
      },
      "text/plain": [
       "roll_out:   0%|          | 0/2048 [00:00<?, ?it/s]"
      ]
     },
     "metadata": {},
     "output_type": "display_data"
    },
    {
     "data": {
      "application/vnd.jupyter.widget-view+json": {
       "model_id": "e3226eaef605483da8c5e0b86c69d616",
       "version_major": 2,
       "version_minor": 0
      },
      "text/plain": [
       "roll_out:   0%|          | 0/2048 [00:00<?, ?it/s]"
      ]
     },
     "metadata": {},
     "output_type": "display_data"
    },
    {
     "data": {
      "application/vnd.jupyter.widget-view+json": {
       "model_id": "af3e0daeda7841b1a92fda5be5efc2e8",
       "version_major": 2,
       "version_minor": 0
      },
      "text/plain": [
       "roll_out:   0%|          | 0/2048 [00:00<?, ?it/s]"
      ]
     },
     "metadata": {},
     "output_type": "display_data"
    },
    {
     "data": {
      "application/vnd.jupyter.widget-view+json": {
       "model_id": "c0dbd71a9760401785b406028fc7bdcb",
       "version_major": 2,
       "version_minor": 0
      },
      "text/plain": [
       "roll_out:   0%|          | 0/2048 [00:00<?, ?it/s]"
      ]
     },
     "metadata": {},
     "output_type": "display_data"
    },
    {
     "data": {
      "application/vnd.jupyter.widget-view+json": {
       "model_id": "35fc69e3bc1e493e8ff31b87efbd71a2",
       "version_major": 2,
       "version_minor": 0
      },
      "text/plain": [
       "roll_out:   0%|          | 0/2048 [00:00<?, ?it/s]"
      ]
     },
     "metadata": {},
     "output_type": "display_data"
    },
    {
     "data": {
      "application/vnd.jupyter.widget-view+json": {
       "model_id": "eb2492c706ef4424aa0b890a967e4d89",
       "version_major": 2,
       "version_minor": 0
      },
      "text/plain": [
       "roll_out:   0%|          | 0/2048 [00:00<?, ?it/s]"
      ]
     },
     "metadata": {},
     "output_type": "display_data"
    },
    {
     "data": {
      "application/vnd.jupyter.widget-view+json": {
       "model_id": "4532e84e44b544dc83f9b4c94b398603",
       "version_major": 2,
       "version_minor": 0
      },
      "text/plain": [
       "roll_out:   0%|          | 0/2048 [00:00<?, ?it/s]"
      ]
     },
     "metadata": {},
     "output_type": "display_data"
    },
    {
     "data": {
      "application/vnd.jupyter.widget-view+json": {
       "model_id": "d7f7af8fc63d4b17909b679f498da1da",
       "version_major": 2,
       "version_minor": 0
      },
      "text/plain": [
       "roll_out:   0%|          | 0/2048 [00:00<?, ?it/s]"
      ]
     },
     "metadata": {},
     "output_type": "display_data"
    },
    {
     "data": {
      "application/vnd.jupyter.widget-view+json": {
       "model_id": "974307c4bb3d4663989742d2b4edc01c",
       "version_major": 2,
       "version_minor": 0
      },
      "text/plain": [
       "roll_out:   0%|          | 0/2048 [00:00<?, ?it/s]"
      ]
     },
     "metadata": {},
     "output_type": "display_data"
    },
    {
     "data": {
      "application/vnd.jupyter.widget-view+json": {
       "model_id": "1f349abd43c34a41975d7c1891ddc2bb",
       "version_major": 2,
       "version_minor": 0
      },
      "text/plain": [
       "roll_out:   0%|          | 0/2048 [00:00<?, ?it/s]"
      ]
     },
     "metadata": {},
     "output_type": "display_data"
    },
    {
     "data": {
      "application/vnd.jupyter.widget-view+json": {
       "model_id": "9a0f9edbf86a4afcb36320091fe02d6e",
       "version_major": 2,
       "version_minor": 0
      },
      "text/plain": [
       "roll_out:   0%|          | 0/2048 [00:00<?, ?it/s]"
      ]
     },
     "metadata": {},
     "output_type": "display_data"
    },
    {
     "data": {
      "application/vnd.jupyter.widget-view+json": {
       "model_id": "fbfb1dce7c964240885f6c94763d5e33",
       "version_major": 2,
       "version_minor": 0
      },
      "text/plain": [
       "roll_out:   0%|          | 0/2048 [00:00<?, ?it/s]"
      ]
     },
     "metadata": {},
     "output_type": "display_data"
    },
    {
     "data": {
      "application/vnd.jupyter.widget-view+json": {
       "model_id": "bc6f221d54d441fbbadc6354d636ddd1",
       "version_major": 2,
       "version_minor": 0
      },
      "text/plain": [
       "roll_out:   0%|          | 0/2048 [00:00<?, ?it/s]"
      ]
     },
     "metadata": {},
     "output_type": "display_data"
    },
    {
     "data": {
      "application/vnd.jupyter.widget-view+json": {
       "model_id": "6e1a1eb0c8f04a82871367bfc6d31d29",
       "version_major": 2,
       "version_minor": 0
      },
      "text/plain": [
       "roll_out:   0%|          | 0/2048 [00:00<?, ?it/s]"
      ]
     },
     "metadata": {},
     "output_type": "display_data"
    },
    {
     "data": {
      "application/vnd.jupyter.widget-view+json": {
       "model_id": "7c51506de6744bfe844f5542d4226704",
       "version_major": 2,
       "version_minor": 0
      },
      "text/plain": [
       "roll_out:   0%|          | 0/2048 [00:00<?, ?it/s]"
      ]
     },
     "metadata": {},
     "output_type": "display_data"
    },
    {
     "data": {
      "application/vnd.jupyter.widget-view+json": {
       "model_id": "bc22da00157e4c66936261bf1d90db8f",
       "version_major": 2,
       "version_minor": 0
      },
      "text/plain": [
       "roll_out:   0%|          | 0/2048 [00:00<?, ?it/s]"
      ]
     },
     "metadata": {},
     "output_type": "display_data"
    },
    {
     "data": {
      "application/vnd.jupyter.widget-view+json": {
       "model_id": "d1bad231e0c54a52851fdebba3049c82",
       "version_major": 2,
       "version_minor": 0
      },
      "text/plain": [
       "roll_out:   0%|          | 0/2048 [00:00<?, ?it/s]"
      ]
     },
     "metadata": {},
     "output_type": "display_data"
    },
    {
     "data": {
      "application/vnd.jupyter.widget-view+json": {
       "model_id": "d58ba6ff738a4e5db14cf27fae683e6c",
       "version_major": 2,
       "version_minor": 0
      },
      "text/plain": [
       "roll_out:   0%|          | 0/2048 [00:00<?, ?it/s]"
      ]
     },
     "metadata": {},
     "output_type": "display_data"
    },
    {
     "data": {
      "application/vnd.jupyter.widget-view+json": {
       "model_id": "0fdcd5864d464ee6a815a4641c09b754",
       "version_major": 2,
       "version_minor": 0
      },
      "text/plain": [
       "roll_out:   0%|          | 0/2048 [00:00<?, ?it/s]"
      ]
     },
     "metadata": {},
     "output_type": "display_data"
    },
    {
     "data": {
      "application/vnd.jupyter.widget-view+json": {
       "model_id": "1bfece4ace4a4e7ebaf4466953d5dc3a",
       "version_major": 2,
       "version_minor": 0
      },
      "text/plain": [
       "roll_out:   0%|          | 0/2048 [00:00<?, ?it/s]"
      ]
     },
     "metadata": {},
     "output_type": "display_data"
    },
    {
     "data": {
      "application/vnd.jupyter.widget-view+json": {
       "model_id": "fe5c8027e3734ca6bb00e7e64cf3adba",
       "version_major": 2,
       "version_minor": 0
      },
      "text/plain": [
       "roll_out:   0%|          | 0/2048 [00:00<?, ?it/s]"
      ]
     },
     "metadata": {},
     "output_type": "display_data"
    },
    {
     "data": {
      "application/vnd.jupyter.widget-view+json": {
       "model_id": "0539148997a04378afcf8aec251cc2f1",
       "version_major": 2,
       "version_minor": 0
      },
      "text/plain": [
       "roll_out:   0%|          | 0/2048 [00:00<?, ?it/s]"
      ]
     },
     "metadata": {},
     "output_type": "display_data"
    },
    {
     "data": {
      "application/vnd.jupyter.widget-view+json": {
       "model_id": "13ab91fd0e634afea9ed054e0fd99b8a",
       "version_major": 2,
       "version_minor": 0
      },
      "text/plain": [
       "roll_out:   0%|          | 0/2048 [00:00<?, ?it/s]"
      ]
     },
     "metadata": {},
     "output_type": "display_data"
    },
    {
     "data": {
      "application/vnd.jupyter.widget-view+json": {
       "model_id": "f0c794f4ee2f453bbd17aeabd9c6c443",
       "version_major": 2,
       "version_minor": 0
      },
      "text/plain": [
       "roll_out:   0%|          | 0/2048 [00:00<?, ?it/s]"
      ]
     },
     "metadata": {},
     "output_type": "display_data"
    },
    {
     "data": {
      "application/vnd.jupyter.widget-view+json": {
       "model_id": "ca12e28a905d4d55838e57b6a61931cf",
       "version_major": 2,
       "version_minor": 0
      },
      "text/plain": [
       "roll_out:   0%|          | 0/2048 [00:00<?, ?it/s]"
      ]
     },
     "metadata": {},
     "output_type": "display_data"
    },
    {
     "data": {
      "application/vnd.jupyter.widget-view+json": {
       "model_id": "8fd9f38313fd48428e1103f88538a188",
       "version_major": 2,
       "version_minor": 0
      },
      "text/plain": [
       "roll_out:   0%|          | 0/2048 [00:00<?, ?it/s]"
      ]
     },
     "metadata": {},
     "output_type": "display_data"
    },
    {
     "data": {
      "application/vnd.jupyter.widget-view+json": {
       "model_id": "5226b6ab4f104b6796b50d183ee6ad4e",
       "version_major": 2,
       "version_minor": 0
      },
      "text/plain": [
       "roll_out:   0%|          | 0/2048 [00:00<?, ?it/s]"
      ]
     },
     "metadata": {},
     "output_type": "display_data"
    },
    {
     "data": {
      "application/vnd.jupyter.widget-view+json": {
       "model_id": "767f6bab8aec4190bfedffb6daa215b2",
       "version_major": 2,
       "version_minor": 0
      },
      "text/plain": [
       "roll_out:   0%|          | 0/2048 [00:00<?, ?it/s]"
      ]
     },
     "metadata": {},
     "output_type": "display_data"
    },
    {
     "data": {
      "application/vnd.jupyter.widget-view+json": {
       "model_id": "245b24695f904065ac2f3d05ed395983",
       "version_major": 2,
       "version_minor": 0
      },
      "text/plain": [
       "roll_out:   0%|          | 0/2048 [00:00<?, ?it/s]"
      ]
     },
     "metadata": {},
     "output_type": "display_data"
    },
    {
     "data": {
      "application/vnd.jupyter.widget-view+json": {
       "model_id": "fa3b8cf4e51a4a559340c8c3101dbfcb",
       "version_major": 2,
       "version_minor": 0
      },
      "text/plain": [
       "roll_out:   0%|          | 0/2048 [00:00<?, ?it/s]"
      ]
     },
     "metadata": {},
     "output_type": "display_data"
    },
    {
     "data": {
      "application/vnd.jupyter.widget-view+json": {
       "model_id": "932fc2857c804a0b9e08e73fa71fefef",
       "version_major": 2,
       "version_minor": 0
      },
      "text/plain": [
       "roll_out:   0%|          | 0/2048 [00:00<?, ?it/s]"
      ]
     },
     "metadata": {},
     "output_type": "display_data"
    },
    {
     "data": {
      "application/vnd.jupyter.widget-view+json": {
       "model_id": "8d495ca8289642bd857ba16566a95a80",
       "version_major": 2,
       "version_minor": 0
      },
      "text/plain": [
       "roll_out:   0%|          | 0/2048 [00:00<?, ?it/s]"
      ]
     },
     "metadata": {},
     "output_type": "display_data"
    },
    {
     "data": {
      "application/vnd.jupyter.widget-view+json": {
       "model_id": "21e33dbd231e444ca06b3be95f46b05d",
       "version_major": 2,
       "version_minor": 0
      },
      "text/plain": [
       "roll_out:   0%|          | 0/2048 [00:00<?, ?it/s]"
      ]
     },
     "metadata": {},
     "output_type": "display_data"
    },
    {
     "data": {
      "application/vnd.jupyter.widget-view+json": {
       "model_id": "425bf98a49ac4e49815129b5741d67dc",
       "version_major": 2,
       "version_minor": 0
      },
      "text/plain": [
       "roll_out:   0%|          | 0/2048 [00:00<?, ?it/s]"
      ]
     },
     "metadata": {},
     "output_type": "display_data"
    },
    {
     "data": {
      "application/vnd.jupyter.widget-view+json": {
       "model_id": "ed48f9838ca14774af419bc0d78cf18d",
       "version_major": 2,
       "version_minor": 0
      },
      "text/plain": [
       "roll_out:   0%|          | 0/2048 [00:00<?, ?it/s]"
      ]
     },
     "metadata": {},
     "output_type": "display_data"
    },
    {
     "data": {
      "application/vnd.jupyter.widget-view+json": {
       "model_id": "a66ea566537d42838b4e96fc2c5a9029",
       "version_major": 2,
       "version_minor": 0
      },
      "text/plain": [
       "roll_out:   0%|          | 0/2048 [00:00<?, ?it/s]"
      ]
     },
     "metadata": {},
     "output_type": "display_data"
    },
    {
     "data": {
      "application/vnd.jupyter.widget-view+json": {
       "model_id": "4297f65a271e475cbdf5cbafa1178119",
       "version_major": 2,
       "version_minor": 0
      },
      "text/plain": [
       "roll_out:   0%|          | 0/2048 [00:00<?, ?it/s]"
      ]
     },
     "metadata": {},
     "output_type": "display_data"
    },
    {
     "data": {
      "application/vnd.jupyter.widget-view+json": {
       "model_id": "64cda38642ca4a8aa79736be34a4a4ec",
       "version_major": 2,
       "version_minor": 0
      },
      "text/plain": [
       "roll_out:   0%|          | 0/2048 [00:00<?, ?it/s]"
      ]
     },
     "metadata": {},
     "output_type": "display_data"
    },
    {
     "data": {
      "application/vnd.jupyter.widget-view+json": {
       "model_id": "fb617211444443659bb11e4973368581",
       "version_major": 2,
       "version_minor": 0
      },
      "text/plain": [
       "roll_out:   0%|          | 0/2048 [00:00<?, ?it/s]"
      ]
     },
     "metadata": {},
     "output_type": "display_data"
    },
    {
     "data": {
      "application/vnd.jupyter.widget-view+json": {
       "model_id": "6fa020661c7f4bce9f8fd3358fcd5935",
       "version_major": 2,
       "version_minor": 0
      },
      "text/plain": [
       "roll_out:   0%|          | 0/2048 [00:00<?, ?it/s]"
      ]
     },
     "metadata": {},
     "output_type": "display_data"
    },
    {
     "data": {
      "application/vnd.jupyter.widget-view+json": {
       "model_id": "c2e5012fcdaa470b80eb87dbb678645c",
       "version_major": 2,
       "version_minor": 0
      },
      "text/plain": [
       "roll_out:   0%|          | 0/2048 [00:00<?, ?it/s]"
      ]
     },
     "metadata": {},
     "output_type": "display_data"
    },
    {
     "data": {
      "application/vnd.jupyter.widget-view+json": {
       "model_id": "fcfd03c8e76d40d5ac04bbd985063c9d",
       "version_major": 2,
       "version_minor": 0
      },
      "text/plain": [
       "roll_out:   0%|          | 0/2048 [00:00<?, ?it/s]"
      ]
     },
     "metadata": {},
     "output_type": "display_data"
    },
    {
     "data": {
      "application/vnd.jupyter.widget-view+json": {
       "model_id": "5d029e550b71405cac58e57a5d143474",
       "version_major": 2,
       "version_minor": 0
      },
      "text/plain": [
       "roll_out:   0%|          | 0/2048 [00:00<?, ?it/s]"
      ]
     },
     "metadata": {},
     "output_type": "display_data"
    },
    {
     "data": {
      "application/vnd.jupyter.widget-view+json": {
       "model_id": "b2032c3d1b854b93b56fbc4b32fc674f",
       "version_major": 2,
       "version_minor": 0
      },
      "text/plain": [
       "roll_out:   0%|          | 0/2048 [00:00<?, ?it/s]"
      ]
     },
     "metadata": {},
     "output_type": "display_data"
    },
    {
     "data": {
      "application/vnd.jupyter.widget-view+json": {
       "model_id": "47d764a41b7e41a1b300933d4afb3b63",
       "version_major": 2,
       "version_minor": 0
      },
      "text/plain": [
       "roll_out:   0%|          | 0/2048 [00:00<?, ?it/s]"
      ]
     },
     "metadata": {},
     "output_type": "display_data"
    },
    {
     "data": {
      "application/vnd.jupyter.widget-view+json": {
       "model_id": "df1b3659e18e4fda9fd592cf2ae461c7",
       "version_major": 2,
       "version_minor": 0
      },
      "text/plain": [
       "roll_out:   0%|          | 0/2048 [00:00<?, ?it/s]"
      ]
     },
     "metadata": {},
     "output_type": "display_data"
    },
    {
     "data": {
      "application/vnd.jupyter.widget-view+json": {
       "model_id": "1a03098e3cf04d9f8b9e933dbe5707a0",
       "version_major": 2,
       "version_minor": 0
      },
      "text/plain": [
       "roll_out:   0%|          | 0/2048 [00:00<?, ?it/s]"
      ]
     },
     "metadata": {},
     "output_type": "display_data"
    },
    {
     "data": {
      "application/vnd.jupyter.widget-view+json": {
       "model_id": "92f57010f8f941a59f99811b01431dc5",
       "version_major": 2,
       "version_minor": 0
      },
      "text/plain": [
       "roll_out:   0%|          | 0/2048 [00:00<?, ?it/s]"
      ]
     },
     "metadata": {},
     "output_type": "display_data"
    },
    {
     "data": {
      "application/vnd.jupyter.widget-view+json": {
       "model_id": "14e118b43f8443c595010b04d5390348",
       "version_major": 2,
       "version_minor": 0
      },
      "text/plain": [
       "roll_out:   0%|          | 0/2048 [00:00<?, ?it/s]"
      ]
     },
     "metadata": {},
     "output_type": "display_data"
    },
    {
     "data": {
      "application/vnd.jupyter.widget-view+json": {
       "model_id": "6265332b27804d84bad431635dfbef60",
       "version_major": 2,
       "version_minor": 0
      },
      "text/plain": [
       "roll_out:   0%|          | 0/2048 [00:00<?, ?it/s]"
      ]
     },
     "metadata": {},
     "output_type": "display_data"
    },
    {
     "data": {
      "application/vnd.jupyter.widget-view+json": {
       "model_id": "9e58556cc87d49efb4bb52bc730c1b44",
       "version_major": 2,
       "version_minor": 0
      },
      "text/plain": [
       "roll_out:   0%|          | 0/2048 [00:00<?, ?it/s]"
      ]
     },
     "metadata": {},
     "output_type": "display_data"
    },
    {
     "data": {
      "application/vnd.jupyter.widget-view+json": {
       "model_id": "5033169366c54477883819e2c901fd27",
       "version_major": 2,
       "version_minor": 0
      },
      "text/plain": [
       "roll_out:   0%|          | 0/2048 [00:00<?, ?it/s]"
      ]
     },
     "metadata": {},
     "output_type": "display_data"
    },
    {
     "data": {
      "application/vnd.jupyter.widget-view+json": {
       "model_id": "eb89c80e3f194407b36a57c814df1964",
       "version_major": 2,
       "version_minor": 0
      },
      "text/plain": [
       "roll_out:   0%|          | 0/2048 [00:00<?, ?it/s]"
      ]
     },
     "metadata": {},
     "output_type": "display_data"
    },
    {
     "data": {
      "application/vnd.jupyter.widget-view+json": {
       "model_id": "cae9290370d047f8b69490ccc9c776db",
       "version_major": 2,
       "version_minor": 0
      },
      "text/plain": [
       "roll_out:   0%|          | 0/2048 [00:00<?, ?it/s]"
      ]
     },
     "metadata": {},
     "output_type": "display_data"
    },
    {
     "data": {
      "application/vnd.jupyter.widget-view+json": {
       "model_id": "1d311d37fb5746ecb637b80a1a98c68f",
       "version_major": 2,
       "version_minor": 0
      },
      "text/plain": [
       "roll_out:   0%|          | 0/2048 [00:00<?, ?it/s]"
      ]
     },
     "metadata": {},
     "output_type": "display_data"
    },
    {
     "data": {
      "application/vnd.jupyter.widget-view+json": {
       "model_id": "252fac5d0eb74113b415d4effb92b12e",
       "version_major": 2,
       "version_minor": 0
      },
      "text/plain": [
       "roll_out:   0%|          | 0/2048 [00:00<?, ?it/s]"
      ]
     },
     "metadata": {},
     "output_type": "display_data"
    },
    {
     "data": {
      "application/vnd.jupyter.widget-view+json": {
       "model_id": "97b7d6fea2fd4ed085c63f11702aa8bf",
       "version_major": 2,
       "version_minor": 0
      },
      "text/plain": [
       "roll_out:   0%|          | 0/2048 [00:00<?, ?it/s]"
      ]
     },
     "metadata": {},
     "output_type": "display_data"
    },
    {
     "data": {
      "application/vnd.jupyter.widget-view+json": {
       "model_id": "036664510c7f4c91a6f3f24375047be2",
       "version_major": 2,
       "version_minor": 0
      },
      "text/plain": [
       "roll_out:   0%|          | 0/2048 [00:00<?, ?it/s]"
      ]
     },
     "metadata": {},
     "output_type": "display_data"
    },
    {
     "data": {
      "application/vnd.jupyter.widget-view+json": {
       "model_id": "2c36a0fee7a341a1a0e10cb326515800",
       "version_major": 2,
       "version_minor": 0
      },
      "text/plain": [
       "roll_out:   0%|          | 0/2048 [00:00<?, ?it/s]"
      ]
     },
     "metadata": {},
     "output_type": "display_data"
    },
    {
     "data": {
      "application/vnd.jupyter.widget-view+json": {
       "model_id": "4f13b5c0664248958d838ee393c9c50b",
       "version_major": 2,
       "version_minor": 0
      },
      "text/plain": [
       "roll_out:   0%|          | 0/2048 [00:00<?, ?it/s]"
      ]
     },
     "metadata": {},
     "output_type": "display_data"
    },
    {
     "data": {
      "application/vnd.jupyter.widget-view+json": {
       "model_id": "8dc2047bccdf427b809220ee34ff056b",
       "version_major": 2,
       "version_minor": 0
      },
      "text/plain": [
       "roll_out:   0%|          | 0/2048 [00:00<?, ?it/s]"
      ]
     },
     "metadata": {},
     "output_type": "display_data"
    },
    {
     "data": {
      "application/vnd.jupyter.widget-view+json": {
       "model_id": "cc994f20f6b841e5b52ecb256df1abb0",
       "version_major": 2,
       "version_minor": 0
      },
      "text/plain": [
       "roll_out:   0%|          | 0/2048 [00:00<?, ?it/s]"
      ]
     },
     "metadata": {},
     "output_type": "display_data"
    },
    {
     "data": {
      "application/vnd.jupyter.widget-view+json": {
       "model_id": "c346af67202c48839d0e3c0b7e289020",
       "version_major": 2,
       "version_minor": 0
      },
      "text/plain": [
       "roll_out:   0%|          | 0/2048 [00:00<?, ?it/s]"
      ]
     },
     "metadata": {},
     "output_type": "display_data"
    },
    {
     "data": {
      "application/vnd.jupyter.widget-view+json": {
       "model_id": "64fb4cee841f4730b09a51cc01261350",
       "version_major": 2,
       "version_minor": 0
      },
      "text/plain": [
       "roll_out:   0%|          | 0/2048 [00:00<?, ?it/s]"
      ]
     },
     "metadata": {},
     "output_type": "display_data"
    },
    {
     "data": {
      "application/vnd.jupyter.widget-view+json": {
       "model_id": "49d3a6a6973048e9a0f26593f161780c",
       "version_major": 2,
       "version_minor": 0
      },
      "text/plain": [
       "roll_out:   0%|          | 0/2048 [00:00<?, ?it/s]"
      ]
     },
     "metadata": {},
     "output_type": "display_data"
    },
    {
     "data": {
      "application/vnd.jupyter.widget-view+json": {
       "model_id": "993a9d2038504f3880cf62dd724de03e",
       "version_major": 2,
       "version_minor": 0
      },
      "text/plain": [
       "roll_out:   0%|          | 0/2048 [00:00<?, ?it/s]"
      ]
     },
     "metadata": {},
     "output_type": "display_data"
    },
    {
     "data": {
      "application/vnd.jupyter.widget-view+json": {
       "model_id": "5496590b8a4145ef80d9986d6cc17987",
       "version_major": 2,
       "version_minor": 0
      },
      "text/plain": [
       "roll_out:   0%|          | 0/2048 [00:00<?, ?it/s]"
      ]
     },
     "metadata": {},
     "output_type": "display_data"
    },
    {
     "data": {
      "application/vnd.jupyter.widget-view+json": {
       "model_id": "078c02709b764466afdcd9d99af8b09b",
       "version_major": 2,
       "version_minor": 0
      },
      "text/plain": [
       "roll_out:   0%|          | 0/2048 [00:00<?, ?it/s]"
      ]
     },
     "metadata": {},
     "output_type": "display_data"
    },
    {
     "data": {
      "application/vnd.jupyter.widget-view+json": {
       "model_id": "274459eae6bd4c89b3b8c7392a3571a4",
       "version_major": 2,
       "version_minor": 0
      },
      "text/plain": [
       "roll_out:   0%|          | 0/2048 [00:00<?, ?it/s]"
      ]
     },
     "metadata": {},
     "output_type": "display_data"
    },
    {
     "data": {
      "application/vnd.jupyter.widget-view+json": {
       "model_id": "32c8e9b49ec440319d71ff623aa19374",
       "version_major": 2,
       "version_minor": 0
      },
      "text/plain": [
       "roll_out:   0%|          | 0/2048 [00:00<?, ?it/s]"
      ]
     },
     "metadata": {},
     "output_type": "display_data"
    },
    {
     "data": {
      "application/vnd.jupyter.widget-view+json": {
       "model_id": "ef079743ef3a4cbb876f197c8d89f123",
       "version_major": 2,
       "version_minor": 0
      },
      "text/plain": [
       "roll_out:   0%|          | 0/2048 [00:00<?, ?it/s]"
      ]
     },
     "metadata": {},
     "output_type": "display_data"
    },
    {
     "data": {
      "application/vnd.jupyter.widget-view+json": {
       "model_id": "323d717ce83e408c97fc218aa29fb72b",
       "version_major": 2,
       "version_minor": 0
      },
      "text/plain": [
       "roll_out:   0%|          | 0/2048 [00:00<?, ?it/s]"
      ]
     },
     "metadata": {},
     "output_type": "display_data"
    },
    {
     "data": {
      "application/vnd.jupyter.widget-view+json": {
       "model_id": "456be659babd4409a8b28d9307d52d82",
       "version_major": 2,
       "version_minor": 0
      },
      "text/plain": [
       "roll_out:   0%|          | 0/2048 [00:00<?, ?it/s]"
      ]
     },
     "metadata": {},
     "output_type": "display_data"
    },
    {
     "data": {
      "application/vnd.jupyter.widget-view+json": {
       "model_id": "31844de7cfe640f6b1b2dd5558cf82f4",
       "version_major": 2,
       "version_minor": 0
      },
      "text/plain": [
       "roll_out:   0%|          | 0/2048 [00:00<?, ?it/s]"
      ]
     },
     "metadata": {},
     "output_type": "display_data"
    },
    {
     "data": {
      "application/vnd.jupyter.widget-view+json": {
       "model_id": "7ff07ae74527437b9af803f862e406ff",
       "version_major": 2,
       "version_minor": 0
      },
      "text/plain": [
       "roll_out:   0%|          | 0/2048 [00:00<?, ?it/s]"
      ]
     },
     "metadata": {},
     "output_type": "display_data"
    },
    {
     "data": {
      "application/vnd.jupyter.widget-view+json": {
       "model_id": "2f130e21979c44feb848ce6c7a2123bf",
       "version_major": 2,
       "version_minor": 0
      },
      "text/plain": [
       "roll_out:   0%|          | 0/2048 [00:00<?, ?it/s]"
      ]
     },
     "metadata": {},
     "output_type": "display_data"
    },
    {
     "data": {
      "application/vnd.jupyter.widget-view+json": {
       "model_id": "209b2251330a48b9a9394f50a871fc2a",
       "version_major": 2,
       "version_minor": 0
      },
      "text/plain": [
       "roll_out:   0%|          | 0/2048 [00:00<?, ?it/s]"
      ]
     },
     "metadata": {},
     "output_type": "display_data"
    },
    {
     "data": {
      "application/vnd.jupyter.widget-view+json": {
       "model_id": "a975b4db122a4e4ca11981b9bc9639a9",
       "version_major": 2,
       "version_minor": 0
      },
      "text/plain": [
       "roll_out:   0%|          | 0/2048 [00:00<?, ?it/s]"
      ]
     },
     "metadata": {},
     "output_type": "display_data"
    },
    {
     "data": {
      "application/vnd.jupyter.widget-view+json": {
       "model_id": "b15410a19c3e4b62ab2d920bde77e29c",
       "version_major": 2,
       "version_minor": 0
      },
      "text/plain": [
       "roll_out:   0%|          | 0/2048 [00:00<?, ?it/s]"
      ]
     },
     "metadata": {},
     "output_type": "display_data"
    },
    {
     "data": {
      "application/vnd.jupyter.widget-view+json": {
       "model_id": "93106343494a4a31aeec00666975641a",
       "version_major": 2,
       "version_minor": 0
      },
      "text/plain": [
       "roll_out:   0%|          | 0/2048 [00:00<?, ?it/s]"
      ]
     },
     "metadata": {},
     "output_type": "display_data"
    },
    {
     "data": {
      "application/vnd.jupyter.widget-view+json": {
       "model_id": "6ae297d1b83d4588a4959010ce1a284a",
       "version_major": 2,
       "version_minor": 0
      },
      "text/plain": [
       "roll_out:   0%|          | 0/2048 [00:00<?, ?it/s]"
      ]
     },
     "metadata": {},
     "output_type": "display_data"
    },
    {
     "data": {
      "application/vnd.jupyter.widget-view+json": {
       "model_id": "065978dbcb6c47ee8ae7c54d3b45f405",
       "version_major": 2,
       "version_minor": 0
      },
      "text/plain": [
       "roll_out:   0%|          | 0/2048 [00:00<?, ?it/s]"
      ]
     },
     "metadata": {},
     "output_type": "display_data"
    },
    {
     "data": {
      "application/vnd.jupyter.widget-view+json": {
       "model_id": "950dadda29424191a76112f6bf7e88be",
       "version_major": 2,
       "version_minor": 0
      },
      "text/plain": [
       "roll_out:   0%|          | 0/2048 [00:00<?, ?it/s]"
      ]
     },
     "metadata": {},
     "output_type": "display_data"
    },
    {
     "data": {
      "application/vnd.jupyter.widget-view+json": {
       "model_id": "7b1e6cd445194bcbbeb93ced7bdfef65",
       "version_major": 2,
       "version_minor": 0
      },
      "text/plain": [
       "roll_out:   0%|          | 0/2048 [00:00<?, ?it/s]"
      ]
     },
     "metadata": {},
     "output_type": "display_data"
    },
    {
     "data": {
      "application/vnd.jupyter.widget-view+json": {
       "model_id": "1f43c0cf45984d7cab1c52bcd02dd496",
       "version_major": 2,
       "version_minor": 0
      },
      "text/plain": [
       "roll_out:   0%|          | 0/2048 [00:00<?, ?it/s]"
      ]
     },
     "metadata": {},
     "output_type": "display_data"
    },
    {
     "data": {
      "application/vnd.jupyter.widget-view+json": {
       "model_id": "468e18afc3ae4a9c83f192773d3dcd3e",
       "version_major": 2,
       "version_minor": 0
      },
      "text/plain": [
       "roll_out:   0%|          | 0/2048 [00:00<?, ?it/s]"
      ]
     },
     "metadata": {},
     "output_type": "display_data"
    },
    {
     "data": {
      "application/vnd.jupyter.widget-view+json": {
       "model_id": "8f7b15c0023e4955acc7db396154884d",
       "version_major": 2,
       "version_minor": 0
      },
      "text/plain": [
       "roll_out:   0%|          | 0/2048 [00:00<?, ?it/s]"
      ]
     },
     "metadata": {},
     "output_type": "display_data"
    },
    {
     "data": {
      "application/vnd.jupyter.widget-view+json": {
       "model_id": "4f905a3912a44518a7f1c8904b6b9a81",
       "version_major": 2,
       "version_minor": 0
      },
      "text/plain": [
       "roll_out:   0%|          | 0/2048 [00:00<?, ?it/s]"
      ]
     },
     "metadata": {},
     "output_type": "display_data"
    },
    {
     "data": {
      "application/vnd.jupyter.widget-view+json": {
       "model_id": "1e8f06cfed7c484fb1bc25067ea9dd86",
       "version_major": 2,
       "version_minor": 0
      },
      "text/plain": [
       "roll_out:   0%|          | 0/2048 [00:00<?, ?it/s]"
      ]
     },
     "metadata": {},
     "output_type": "display_data"
    },
    {
     "data": {
      "application/vnd.jupyter.widget-view+json": {
       "model_id": "454529e7e8d34880838c33344c724eed",
       "version_major": 2,
       "version_minor": 0
      },
      "text/plain": [
       "roll_out:   0%|          | 0/2048 [00:00<?, ?it/s]"
      ]
     },
     "metadata": {},
     "output_type": "display_data"
    },
    {
     "data": {
      "application/vnd.jupyter.widget-view+json": {
       "model_id": "ee45b61531b5432b850cb95711ed9e69",
       "version_major": 2,
       "version_minor": 0
      },
      "text/plain": [
       "roll_out:   0%|          | 0/2048 [00:00<?, ?it/s]"
      ]
     },
     "metadata": {},
     "output_type": "display_data"
    },
    {
     "data": {
      "application/vnd.jupyter.widget-view+json": {
       "model_id": "797c84e347354f9793ce0182fe29ea06",
       "version_major": 2,
       "version_minor": 0
      },
      "text/plain": [
       "roll_out:   0%|          | 0/2048 [00:00<?, ?it/s]"
      ]
     },
     "metadata": {},
     "output_type": "display_data"
    },
    {
     "data": {
      "application/vnd.jupyter.widget-view+json": {
       "model_id": "aa4690fcbb054d8fba1a14c22ff43b47",
       "version_major": 2,
       "version_minor": 0
      },
      "text/plain": [
       "roll_out:   0%|          | 0/2048 [00:00<?, ?it/s]"
      ]
     },
     "metadata": {},
     "output_type": "display_data"
    },
    {
     "data": {
      "application/vnd.jupyter.widget-view+json": {
       "model_id": "c652ffc1a0144c44b7be479a7e21daaa",
       "version_major": 2,
       "version_minor": 0
      },
      "text/plain": [
       "roll_out:   0%|          | 0/2048 [00:00<?, ?it/s]"
      ]
     },
     "metadata": {},
     "output_type": "display_data"
    },
    {
     "data": {
      "application/vnd.jupyter.widget-view+json": {
       "model_id": "5335257035e9424dbd36f501ef477d60",
       "version_major": 2,
       "version_minor": 0
      },
      "text/plain": [
       "roll_out:   0%|          | 0/2048 [00:00<?, ?it/s]"
      ]
     },
     "metadata": {},
     "output_type": "display_data"
    },
    {
     "data": {
      "application/vnd.jupyter.widget-view+json": {
       "model_id": "842ecc66a9ec4a5a9cd51105a2f7dc8d",
       "version_major": 2,
       "version_minor": 0
      },
      "text/plain": [
       "roll_out:   0%|          | 0/2048 [00:00<?, ?it/s]"
      ]
     },
     "metadata": {},
     "output_type": "display_data"
    },
    {
     "data": {
      "application/vnd.jupyter.widget-view+json": {
       "model_id": "da9dabe31ce444f8bd175562b499b3ab",
       "version_major": 2,
       "version_minor": 0
      },
      "text/plain": [
       "roll_out:   0%|          | 0/2048 [00:00<?, ?it/s]"
      ]
     },
     "metadata": {},
     "output_type": "display_data"
    },
    {
     "data": {
      "application/vnd.jupyter.widget-view+json": {
       "model_id": "cb9a10676d554e3abf7274ab4d581498",
       "version_major": 2,
       "version_minor": 0
      },
      "text/plain": [
       "roll_out:   0%|          | 0/2048 [00:00<?, ?it/s]"
      ]
     },
     "metadata": {},
     "output_type": "display_data"
    },
    {
     "data": {
      "application/vnd.jupyter.widget-view+json": {
       "model_id": "6ea0b8bfe3e548a795c6ee8826b95fe6",
       "version_major": 2,
       "version_minor": 0
      },
      "text/plain": [
       "roll_out:   0%|          | 0/2048 [00:00<?, ?it/s]"
      ]
     },
     "metadata": {},
     "output_type": "display_data"
    },
    {
     "data": {
      "application/vnd.jupyter.widget-view+json": {
       "model_id": "72836b32bd0342c99d089f08ea1f6636",
       "version_major": 2,
       "version_minor": 0
      },
      "text/plain": [
       "roll_out:   0%|          | 0/2048 [00:00<?, ?it/s]"
      ]
     },
     "metadata": {},
     "output_type": "display_data"
    },
    {
     "data": {
      "application/vnd.jupyter.widget-view+json": {
       "model_id": "67c769db3b1f413dba8b67ee06ef1081",
       "version_major": 2,
       "version_minor": 0
      },
      "text/plain": [
       "roll_out:   0%|          | 0/2048 [00:00<?, ?it/s]"
      ]
     },
     "metadata": {},
     "output_type": "display_data"
    },
    {
     "data": {
      "application/vnd.jupyter.widget-view+json": {
       "model_id": "88b2e4db93e0406bac61c35edbc5f351",
       "version_major": 2,
       "version_minor": 0
      },
      "text/plain": [
       "roll_out:   0%|          | 0/2048 [00:00<?, ?it/s]"
      ]
     },
     "metadata": {},
     "output_type": "display_data"
    },
    {
     "data": {
      "application/vnd.jupyter.widget-view+json": {
       "model_id": "175a3c91b3594a0d919a8f6ed2c8a6b4",
       "version_major": 2,
       "version_minor": 0
      },
      "text/plain": [
       "roll_out:   0%|          | 0/2048 [00:00<?, ?it/s]"
      ]
     },
     "metadata": {},
     "output_type": "display_data"
    },
    {
     "data": {
      "application/vnd.jupyter.widget-view+json": {
       "model_id": "3986753570c645d0b5fc512eb31d00af",
       "version_major": 2,
       "version_minor": 0
      },
      "text/plain": [
       "roll_out:   0%|          | 0/2048 [00:00<?, ?it/s]"
      ]
     },
     "metadata": {},
     "output_type": "display_data"
    },
    {
     "data": {
      "application/vnd.jupyter.widget-view+json": {
       "model_id": "ecea6ac8173b40179a831a927a039b30",
       "version_major": 2,
       "version_minor": 0
      },
      "text/plain": [
       "roll_out:   0%|          | 0/2048 [00:00<?, ?it/s]"
      ]
     },
     "metadata": {},
     "output_type": "display_data"
    },
    {
     "data": {
      "application/vnd.jupyter.widget-view+json": {
       "model_id": "26ce0f9d154248e9aad4ec5b779c4c6b",
       "version_major": 2,
       "version_minor": 0
      },
      "text/plain": [
       "roll_out:   0%|          | 0/2048 [00:00<?, ?it/s]"
      ]
     },
     "metadata": {},
     "output_type": "display_data"
    },
    {
     "data": {
      "application/vnd.jupyter.widget-view+json": {
       "model_id": "5ed589a977d94d19b223cc5b2569167e",
       "version_major": 2,
       "version_minor": 0
      },
      "text/plain": [
       "roll_out:   0%|          | 0/2048 [00:00<?, ?it/s]"
      ]
     },
     "metadata": {},
     "output_type": "display_data"
    },
    {
     "data": {
      "application/vnd.jupyter.widget-view+json": {
       "model_id": "1315c3ff5a634118b670bfc717701564",
       "version_major": 2,
       "version_minor": 0
      },
      "text/plain": [
       "roll_out:   0%|          | 0/2048 [00:00<?, ?it/s]"
      ]
     },
     "metadata": {},
     "output_type": "display_data"
    },
    {
     "data": {
      "application/vnd.jupyter.widget-view+json": {
       "model_id": "310572415e554135a25e9dabe5e774ba",
       "version_major": 2,
       "version_minor": 0
      },
      "text/plain": [
       "roll_out:   0%|          | 0/2048 [00:00<?, ?it/s]"
      ]
     },
     "metadata": {},
     "output_type": "display_data"
    },
    {
     "data": {
      "application/vnd.jupyter.widget-view+json": {
       "model_id": "5d7437e4956948c99d3e25d28614e0b4",
       "version_major": 2,
       "version_minor": 0
      },
      "text/plain": [
       "roll_out:   0%|          | 0/2048 [00:00<?, ?it/s]"
      ]
     },
     "metadata": {},
     "output_type": "display_data"
    },
    {
     "data": {
      "application/vnd.jupyter.widget-view+json": {
       "model_id": "bd51a58c30f4463883d4a090817668c0",
       "version_major": 2,
       "version_minor": 0
      },
      "text/plain": [
       "roll_out:   0%|          | 0/2048 [00:00<?, ?it/s]"
      ]
     },
     "metadata": {},
     "output_type": "display_data"
    },
    {
     "data": {
      "application/vnd.jupyter.widget-view+json": {
       "model_id": "2e3dbe19ac644407a9793673957a2f25",
       "version_major": 2,
       "version_minor": 0
      },
      "text/plain": [
       "roll_out:   0%|          | 0/2048 [00:00<?, ?it/s]"
      ]
     },
     "metadata": {},
     "output_type": "display_data"
    },
    {
     "data": {
      "application/vnd.jupyter.widget-view+json": {
       "model_id": "9be1aac86f474fe3bce7511f2e25bcce",
       "version_major": 2,
       "version_minor": 0
      },
      "text/plain": [
       "roll_out:   0%|          | 0/2048 [00:00<?, ?it/s]"
      ]
     },
     "metadata": {},
     "output_type": "display_data"
    },
    {
     "data": {
      "application/vnd.jupyter.widget-view+json": {
       "model_id": "2304a190cc4b43be82ddcd36d32bf487",
       "version_major": 2,
       "version_minor": 0
      },
      "text/plain": [
       "roll_out:   0%|          | 0/2048 [00:00<?, ?it/s]"
      ]
     },
     "metadata": {},
     "output_type": "display_data"
    },
    {
     "data": {
      "application/vnd.jupyter.widget-view+json": {
       "model_id": "3992b2fbd3404d8ebb24e428d622178d",
       "version_major": 2,
       "version_minor": 0
      },
      "text/plain": [
       "roll_out:   0%|          | 0/2048 [00:00<?, ?it/s]"
      ]
     },
     "metadata": {},
     "output_type": "display_data"
    },
    {
     "data": {
      "application/vnd.jupyter.widget-view+json": {
       "model_id": "1b113a303a164aa5a88af0a3f60b7940",
       "version_major": 2,
       "version_minor": 0
      },
      "text/plain": [
       "roll_out:   0%|          | 0/2048 [00:00<?, ?it/s]"
      ]
     },
     "metadata": {},
     "output_type": "display_data"
    },
    {
     "data": {
      "application/vnd.jupyter.widget-view+json": {
       "model_id": "8aec194ab77b40a59e0bc90ab7626228",
       "version_major": 2,
       "version_minor": 0
      },
      "text/plain": [
       "roll_out:   0%|          | 0/2048 [00:00<?, ?it/s]"
      ]
     },
     "metadata": {},
     "output_type": "display_data"
    },
    {
     "data": {
      "application/vnd.jupyter.widget-view+json": {
       "model_id": "9e729eeb65e84b11b1abe899e7bef748",
       "version_major": 2,
       "version_minor": 0
      },
      "text/plain": [
       "roll_out:   0%|          | 0/2048 [00:00<?, ?it/s]"
      ]
     },
     "metadata": {},
     "output_type": "display_data"
    },
    {
     "data": {
      "application/vnd.jupyter.widget-view+json": {
       "model_id": "71b99db5f345440b8c8e035f1f096dd1",
       "version_major": 2,
       "version_minor": 0
      },
      "text/plain": [
       "roll_out:   0%|          | 0/2048 [00:00<?, ?it/s]"
      ]
     },
     "metadata": {},
     "output_type": "display_data"
    },
    {
     "data": {
      "application/vnd.jupyter.widget-view+json": {
       "model_id": "4ed787d038bb4eb1a30abda35b8db547",
       "version_major": 2,
       "version_minor": 0
      },
      "text/plain": [
       "roll_out:   0%|          | 0/2048 [00:00<?, ?it/s]"
      ]
     },
     "metadata": {},
     "output_type": "display_data"
    },
    {
     "data": {
      "application/vnd.jupyter.widget-view+json": {
       "model_id": "6762ec64a68d4b2390a9e103c5a4ce89",
       "version_major": 2,
       "version_minor": 0
      },
      "text/plain": [
       "roll_out:   0%|          | 0/2048 [00:00<?, ?it/s]"
      ]
     },
     "metadata": {},
     "output_type": "display_data"
    },
    {
     "data": {
      "application/vnd.jupyter.widget-view+json": {
       "model_id": "4ad2d8538e594fd78e13569fc3bfdf8e",
       "version_major": 2,
       "version_minor": 0
      },
      "text/plain": [
       "roll_out:   0%|          | 0/2048 [00:00<?, ?it/s]"
      ]
     },
     "metadata": {},
     "output_type": "display_data"
    },
    {
     "data": {
      "application/vnd.jupyter.widget-view+json": {
       "model_id": "45e21edb076544ddbb9cabcdc7256b54",
       "version_major": 2,
       "version_minor": 0
      },
      "text/plain": [
       "roll_out:   0%|          | 0/2048 [00:00<?, ?it/s]"
      ]
     },
     "metadata": {},
     "output_type": "display_data"
    },
    {
     "data": {
      "application/vnd.jupyter.widget-view+json": {
       "model_id": "1c7e50d395804ce8a8cc54569360bb0e",
       "version_major": 2,
       "version_minor": 0
      },
      "text/plain": [
       "roll_out:   0%|          | 0/2048 [00:00<?, ?it/s]"
      ]
     },
     "metadata": {},
     "output_type": "display_data"
    },
    {
     "data": {
      "application/vnd.jupyter.widget-view+json": {
       "model_id": "dadb28ed412246ba963df7e59c563c96",
       "version_major": 2,
       "version_minor": 0
      },
      "text/plain": [
       "roll_out:   0%|          | 0/2048 [00:00<?, ?it/s]"
      ]
     },
     "metadata": {},
     "output_type": "display_data"
    },
    {
     "data": {
      "application/vnd.jupyter.widget-view+json": {
       "model_id": "082ca228d3e3490ea25395edfa0f5cd8",
       "version_major": 2,
       "version_minor": 0
      },
      "text/plain": [
       "roll_out:   0%|          | 0/2048 [00:00<?, ?it/s]"
      ]
     },
     "metadata": {},
     "output_type": "display_data"
    },
    {
     "data": {
      "application/vnd.jupyter.widget-view+json": {
       "model_id": "d3c4517cdede4df98ccce0153e095f78",
       "version_major": 2,
       "version_minor": 0
      },
      "text/plain": [
       "roll_out:   0%|          | 0/2048 [00:00<?, ?it/s]"
      ]
     },
     "metadata": {},
     "output_type": "display_data"
    },
    {
     "data": {
      "application/vnd.jupyter.widget-view+json": {
       "model_id": "a62c5f4e5bfb4cb5927f7943344743fb",
       "version_major": 2,
       "version_minor": 0
      },
      "text/plain": [
       "roll_out:   0%|          | 0/2048 [00:00<?, ?it/s]"
      ]
     },
     "metadata": {},
     "output_type": "display_data"
    },
    {
     "data": {
      "application/vnd.jupyter.widget-view+json": {
       "model_id": "6195caa78c464e7fb57cfb1108946d98",
       "version_major": 2,
       "version_minor": 0
      },
      "text/plain": [
       "roll_out:   0%|          | 0/2048 [00:00<?, ?it/s]"
      ]
     },
     "metadata": {},
     "output_type": "display_data"
    },
    {
     "data": {
      "application/vnd.jupyter.widget-view+json": {
       "model_id": "f3368b6f30e64e18aa9ce61f2f78df63",
       "version_major": 2,
       "version_minor": 0
      },
      "text/plain": [
       "roll_out:   0%|          | 0/2048 [00:00<?, ?it/s]"
      ]
     },
     "metadata": {},
     "output_type": "display_data"
    },
    {
     "data": {
      "application/vnd.jupyter.widget-view+json": {
       "model_id": "7684f509a0cf4da9b1ffc704b8795895",
       "version_major": 2,
       "version_minor": 0
      },
      "text/plain": [
       "roll_out:   0%|          | 0/2048 [00:00<?, ?it/s]"
      ]
     },
     "metadata": {},
     "output_type": "display_data"
    },
    {
     "data": {
      "application/vnd.jupyter.widget-view+json": {
       "model_id": "c1745c59fb714d949d24ca81c224c37c",
       "version_major": 2,
       "version_minor": 0
      },
      "text/plain": [
       "roll_out:   0%|          | 0/2048 [00:00<?, ?it/s]"
      ]
     },
     "metadata": {},
     "output_type": "display_data"
    },
    {
     "data": {
      "application/vnd.jupyter.widget-view+json": {
       "model_id": "3982cdfc21794b56bfc2db571f0091cf",
       "version_major": 2,
       "version_minor": 0
      },
      "text/plain": [
       "roll_out:   0%|          | 0/2048 [00:00<?, ?it/s]"
      ]
     },
     "metadata": {},
     "output_type": "display_data"
    },
    {
     "data": {
      "application/vnd.jupyter.widget-view+json": {
       "model_id": "da8971dbaea34a2e917adec9c0340af9",
       "version_major": 2,
       "version_minor": 0
      },
      "text/plain": [
       "roll_out:   0%|          | 0/2048 [00:00<?, ?it/s]"
      ]
     },
     "metadata": {},
     "output_type": "display_data"
    },
    {
     "data": {
      "application/vnd.jupyter.widget-view+json": {
       "model_id": "eef391a51d974b1db92695a5f852d35c",
       "version_major": 2,
       "version_minor": 0
      },
      "text/plain": [
       "roll_out:   0%|          | 0/2048 [00:00<?, ?it/s]"
      ]
     },
     "metadata": {},
     "output_type": "display_data"
    },
    {
     "data": {
      "application/vnd.jupyter.widget-view+json": {
       "model_id": "7d59e123259947ef993ece6e59468d0c",
       "version_major": 2,
       "version_minor": 0
      },
      "text/plain": [
       "roll_out:   0%|          | 0/2048 [00:00<?, ?it/s]"
      ]
     },
     "metadata": {},
     "output_type": "display_data"
    },
    {
     "data": {
      "application/vnd.jupyter.widget-view+json": {
       "model_id": "ce63e636fa9f4ff48b08e7c80c3cc32c",
       "version_major": 2,
       "version_minor": 0
      },
      "text/plain": [
       "roll_out:   0%|          | 0/2048 [00:00<?, ?it/s]"
      ]
     },
     "metadata": {},
     "output_type": "display_data"
    },
    {
     "data": {
      "application/vnd.jupyter.widget-view+json": {
       "model_id": "0f7a835de17d42ce9a29af4858819357",
       "version_major": 2,
       "version_minor": 0
      },
      "text/plain": [
       "roll_out:   0%|          | 0/2048 [00:00<?, ?it/s]"
      ]
     },
     "metadata": {},
     "output_type": "display_data"
    },
    {
     "data": {
      "application/vnd.jupyter.widget-view+json": {
       "model_id": "65be8170b4994e7e91f4989336e3167f",
       "version_major": 2,
       "version_minor": 0
      },
      "text/plain": [
       "roll_out:   0%|          | 0/2048 [00:00<?, ?it/s]"
      ]
     },
     "metadata": {},
     "output_type": "display_data"
    },
    {
     "data": {
      "application/vnd.jupyter.widget-view+json": {
       "model_id": "3ba4e1bc1a38429bb9e3d362e9bf93d7",
       "version_major": 2,
       "version_minor": 0
      },
      "text/plain": [
       "roll_out:   0%|          | 0/2048 [00:00<?, ?it/s]"
      ]
     },
     "metadata": {},
     "output_type": "display_data"
    },
    {
     "data": {
      "application/vnd.jupyter.widget-view+json": {
       "model_id": "7ccb8d42e04c42a085d18c07a1f480cf",
       "version_major": 2,
       "version_minor": 0
      },
      "text/plain": [
       "roll_out:   0%|          | 0/2048 [00:00<?, ?it/s]"
      ]
     },
     "metadata": {},
     "output_type": "display_data"
    },
    {
     "data": {
      "application/vnd.jupyter.widget-view+json": {
       "model_id": "16b0bb20bad848cba09564b48a0fd4df",
       "version_major": 2,
       "version_minor": 0
      },
      "text/plain": [
       "roll_out:   0%|          | 0/2048 [00:00<?, ?it/s]"
      ]
     },
     "metadata": {},
     "output_type": "display_data"
    },
    {
     "data": {
      "application/vnd.jupyter.widget-view+json": {
       "model_id": "2c87e859a6d44748b32fffaf36bf3819",
       "version_major": 2,
       "version_minor": 0
      },
      "text/plain": [
       "roll_out:   0%|          | 0/2048 [00:00<?, ?it/s]"
      ]
     },
     "metadata": {},
     "output_type": "display_data"
    },
    {
     "data": {
      "application/vnd.jupyter.widget-view+json": {
       "model_id": "cdfcc09d7c834372be901bdf55083015",
       "version_major": 2,
       "version_minor": 0
      },
      "text/plain": [
       "roll_out:   0%|          | 0/2048 [00:00<?, ?it/s]"
      ]
     },
     "metadata": {},
     "output_type": "display_data"
    },
    {
     "data": {
      "application/vnd.jupyter.widget-view+json": {
       "model_id": "1b34d8430a94470a87292d08b5308ccf",
       "version_major": 2,
       "version_minor": 0
      },
      "text/plain": [
       "roll_out:   0%|          | 0/2048 [00:00<?, ?it/s]"
      ]
     },
     "metadata": {},
     "output_type": "display_data"
    },
    {
     "data": {
      "application/vnd.jupyter.widget-view+json": {
       "model_id": "fa248ef9f4b84c9c980b08cc838f3908",
       "version_major": 2,
       "version_minor": 0
      },
      "text/plain": [
       "roll_out:   0%|          | 0/2048 [00:00<?, ?it/s]"
      ]
     },
     "metadata": {},
     "output_type": "display_data"
    },
    {
     "data": {
      "application/vnd.jupyter.widget-view+json": {
       "model_id": "deddbcfc8503427db567e57cca2bfa62",
       "version_major": 2,
       "version_minor": 0
      },
      "text/plain": [
       "roll_out:   0%|          | 0/2048 [00:00<?, ?it/s]"
      ]
     },
     "metadata": {},
     "output_type": "display_data"
    },
    {
     "data": {
      "application/vnd.jupyter.widget-view+json": {
       "model_id": "d2a213c465fe49dba3bd76f887b200f4",
       "version_major": 2,
       "version_minor": 0
      },
      "text/plain": [
       "roll_out:   0%|          | 0/2048 [00:00<?, ?it/s]"
      ]
     },
     "metadata": {},
     "output_type": "display_data"
    },
    {
     "data": {
      "application/vnd.jupyter.widget-view+json": {
       "model_id": "68daaaf356ff42f890d6b7894db337f8",
       "version_major": 2,
       "version_minor": 0
      },
      "text/plain": [
       "roll_out:   0%|          | 0/2048 [00:00<?, ?it/s]"
      ]
     },
     "metadata": {},
     "output_type": "display_data"
    },
    {
     "data": {
      "application/vnd.jupyter.widget-view+json": {
       "model_id": "e7d3f9df6202449da20bfefd0ba28df4",
       "version_major": 2,
       "version_minor": 0
      },
      "text/plain": [
       "roll_out:   0%|          | 0/2048 [00:00<?, ?it/s]"
      ]
     },
     "metadata": {},
     "output_type": "display_data"
    },
    {
     "data": {
      "application/vnd.jupyter.widget-view+json": {
       "model_id": "226f99dfd2194554be83519fe06918b3",
       "version_major": 2,
       "version_minor": 0
      },
      "text/plain": [
       "roll_out:   0%|          | 0/2048 [00:00<?, ?it/s]"
      ]
     },
     "metadata": {},
     "output_type": "display_data"
    },
    {
     "data": {
      "application/vnd.jupyter.widget-view+json": {
       "model_id": "aaf599b8bad6472e8af4b5c3044511a1",
       "version_major": 2,
       "version_minor": 0
      },
      "text/plain": [
       "roll_out:   0%|          | 0/2048 [00:00<?, ?it/s]"
      ]
     },
     "metadata": {},
     "output_type": "display_data"
    },
    {
     "data": {
      "application/vnd.jupyter.widget-view+json": {
       "model_id": "c1cfce3da5c141d89aed7bdd7891da16",
       "version_major": 2,
       "version_minor": 0
      },
      "text/plain": [
       "roll_out:   0%|          | 0/2048 [00:00<?, ?it/s]"
      ]
     },
     "metadata": {},
     "output_type": "display_data"
    },
    {
     "data": {
      "application/vnd.jupyter.widget-view+json": {
       "model_id": "9d844c6ef6f24bd2ad8e6346a496c107",
       "version_major": 2,
       "version_minor": 0
      },
      "text/plain": [
       "roll_out:   0%|          | 0/2048 [00:00<?, ?it/s]"
      ]
     },
     "metadata": {},
     "output_type": "display_data"
    },
    {
     "data": {
      "application/vnd.jupyter.widget-view+json": {
       "model_id": "76295217e24445e58552603ec0a7a011",
       "version_major": 2,
       "version_minor": 0
      },
      "text/plain": [
       "roll_out:   0%|          | 0/2048 [00:00<?, ?it/s]"
      ]
     },
     "metadata": {},
     "output_type": "display_data"
    },
    {
     "data": {
      "application/vnd.jupyter.widget-view+json": {
       "model_id": "7ee8d4d162ad4e30ae059e1de28515a0",
       "version_major": 2,
       "version_minor": 0
      },
      "text/plain": [
       "roll_out:   0%|          | 0/2048 [00:00<?, ?it/s]"
      ]
     },
     "metadata": {},
     "output_type": "display_data"
    },
    {
     "data": {
      "application/vnd.jupyter.widget-view+json": {
       "model_id": "83e0d9870b76465eb8eabfc036c75c2a",
       "version_major": 2,
       "version_minor": 0
      },
      "text/plain": [
       "roll_out:   0%|          | 0/2048 [00:00<?, ?it/s]"
      ]
     },
     "metadata": {},
     "output_type": "display_data"
    },
    {
     "data": {
      "application/vnd.jupyter.widget-view+json": {
       "model_id": "219696e03692476bb99c40d3c362a690",
       "version_major": 2,
       "version_minor": 0
      },
      "text/plain": [
       "roll_out:   0%|          | 0/2048 [00:00<?, ?it/s]"
      ]
     },
     "metadata": {},
     "output_type": "display_data"
    },
    {
     "data": {
      "application/vnd.jupyter.widget-view+json": {
       "model_id": "b3ef50a25a6d4a9a817aa003ea1cc525",
       "version_major": 2,
       "version_minor": 0
      },
      "text/plain": [
       "roll_out:   0%|          | 0/2048 [00:00<?, ?it/s]"
      ]
     },
     "metadata": {},
     "output_type": "display_data"
    },
    {
     "data": {
      "application/vnd.jupyter.widget-view+json": {
       "model_id": "29a486525711430887f34c9e6eb4a677",
       "version_major": 2,
       "version_minor": 0
      },
      "text/plain": [
       "roll_out:   0%|          | 0/2048 [00:00<?, ?it/s]"
      ]
     },
     "metadata": {},
     "output_type": "display_data"
    },
    {
     "data": {
      "application/vnd.jupyter.widget-view+json": {
       "model_id": "a9de594d5a3c436087c08e2a5dd26937",
       "version_major": 2,
       "version_minor": 0
      },
      "text/plain": [
       "roll_out:   0%|          | 0/2048 [00:00<?, ?it/s]"
      ]
     },
     "metadata": {},
     "output_type": "display_data"
    },
    {
     "data": {
      "application/vnd.jupyter.widget-view+json": {
       "model_id": "2395740d38e8499aa0b90eecaef59e95",
       "version_major": 2,
       "version_minor": 0
      },
      "text/plain": [
       "roll_out:   0%|          | 0/2048 [00:00<?, ?it/s]"
      ]
     },
     "metadata": {},
     "output_type": "display_data"
    },
    {
     "data": {
      "application/vnd.jupyter.widget-view+json": {
       "model_id": "47fd467755db416ebaec943c15173f53",
       "version_major": 2,
       "version_minor": 0
      },
      "text/plain": [
       "roll_out:   0%|          | 0/2048 [00:00<?, ?it/s]"
      ]
     },
     "metadata": {},
     "output_type": "display_data"
    },
    {
     "data": {
      "application/vnd.jupyter.widget-view+json": {
       "model_id": "0759741cbb894b288ab9a587762fcb38",
       "version_major": 2,
       "version_minor": 0
      },
      "text/plain": [
       "roll_out:   0%|          | 0/2048 [00:00<?, ?it/s]"
      ]
     },
     "metadata": {},
     "output_type": "display_data"
    },
    {
     "data": {
      "application/vnd.jupyter.widget-view+json": {
       "model_id": "d9003fbdaea549ab82d4b62cffe62860",
       "version_major": 2,
       "version_minor": 0
      },
      "text/plain": [
       "roll_out:   0%|          | 0/2048 [00:00<?, ?it/s]"
      ]
     },
     "metadata": {},
     "output_type": "display_data"
    },
    {
     "data": {
      "application/vnd.jupyter.widget-view+json": {
       "model_id": "10b3f050669541bf91d3ea613e0ad53f",
       "version_major": 2,
       "version_minor": 0
      },
      "text/plain": [
       "roll_out:   0%|          | 0/2048 [00:00<?, ?it/s]"
      ]
     },
     "metadata": {},
     "output_type": "display_data"
    },
    {
     "data": {
      "application/vnd.jupyter.widget-view+json": {
       "model_id": "12aa78a851c944eab3e352343c3853e4",
       "version_major": 2,
       "version_minor": 0
      },
      "text/plain": [
       "roll_out:   0%|          | 0/2048 [00:00<?, ?it/s]"
      ]
     },
     "metadata": {},
     "output_type": "display_data"
    },
    {
     "data": {
      "application/vnd.jupyter.widget-view+json": {
       "model_id": "84022f7694f7447eb403f6799a4bb137",
       "version_major": 2,
       "version_minor": 0
      },
      "text/plain": [
       "roll_out:   0%|          | 0/2048 [00:00<?, ?it/s]"
      ]
     },
     "metadata": {},
     "output_type": "display_data"
    },
    {
     "data": {
      "application/vnd.jupyter.widget-view+json": {
       "model_id": "41ccf2201de84646a3c4833c09537d9a",
       "version_major": 2,
       "version_minor": 0
      },
      "text/plain": [
       "roll_out:   0%|          | 0/2048 [00:00<?, ?it/s]"
      ]
     },
     "metadata": {},
     "output_type": "display_data"
    },
    {
     "data": {
      "application/vnd.jupyter.widget-view+json": {
       "model_id": "bd865f95b951489eb9e7fae65492eed3",
       "version_major": 2,
       "version_minor": 0
      },
      "text/plain": [
       "roll_out:   0%|          | 0/2048 [00:00<?, ?it/s]"
      ]
     },
     "metadata": {},
     "output_type": "display_data"
    },
    {
     "data": {
      "application/vnd.jupyter.widget-view+json": {
       "model_id": "b1361e98ef154ce3b3d46fae45e89296",
       "version_major": 2,
       "version_minor": 0
      },
      "text/plain": [
       "roll_out:   0%|          | 0/2048 [00:00<?, ?it/s]"
      ]
     },
     "metadata": {},
     "output_type": "display_data"
    },
    {
     "data": {
      "application/vnd.jupyter.widget-view+json": {
       "model_id": "10018241f4c34cb38ce16a047b02ba55",
       "version_major": 2,
       "version_minor": 0
      },
      "text/plain": [
       "roll_out:   0%|          | 0/2048 [00:00<?, ?it/s]"
      ]
     },
     "metadata": {},
     "output_type": "display_data"
    },
    {
     "data": {
      "application/vnd.jupyter.widget-view+json": {
       "model_id": "76723dcba2d049e98d2302ac206514b6",
       "version_major": 2,
       "version_minor": 0
      },
      "text/plain": [
       "roll_out:   0%|          | 0/2048 [00:00<?, ?it/s]"
      ]
     },
     "metadata": {},
     "output_type": "display_data"
    },
    {
     "data": {
      "application/vnd.jupyter.widget-view+json": {
       "model_id": "5958b22a465742db82a68ce317660bdd",
       "version_major": 2,
       "version_minor": 0
      },
      "text/plain": [
       "roll_out:   0%|          | 0/2048 [00:00<?, ?it/s]"
      ]
     },
     "metadata": {},
     "output_type": "display_data"
    },
    {
     "data": {
      "application/vnd.jupyter.widget-view+json": {
       "model_id": "8a66cc827314486287274e9a16c896bb",
       "version_major": 2,
       "version_minor": 0
      },
      "text/plain": [
       "roll_out:   0%|          | 0/2048 [00:00<?, ?it/s]"
      ]
     },
     "metadata": {},
     "output_type": "display_data"
    },
    {
     "data": {
      "application/vnd.jupyter.widget-view+json": {
       "model_id": "303172ec78a048348e5525724d555092",
       "version_major": 2,
       "version_minor": 0
      },
      "text/plain": [
       "roll_out:   0%|          | 0/2048 [00:00<?, ?it/s]"
      ]
     },
     "metadata": {},
     "output_type": "display_data"
    },
    {
     "data": {
      "application/vnd.jupyter.widget-view+json": {
       "model_id": "3ce4284cae434532868c5a117cd2fdf8",
       "version_major": 2,
       "version_minor": 0
      },
      "text/plain": [
       "roll_out:   0%|          | 0/2048 [00:00<?, ?it/s]"
      ]
     },
     "metadata": {},
     "output_type": "display_data"
    },
    {
     "data": {
      "application/vnd.jupyter.widget-view+json": {
       "model_id": "19d5f95bc32642b0bf8ae4434149ffe7",
       "version_major": 2,
       "version_minor": 0
      },
      "text/plain": [
       "roll_out:   0%|          | 0/2048 [00:00<?, ?it/s]"
      ]
     },
     "metadata": {},
     "output_type": "display_data"
    },
    {
     "data": {
      "application/vnd.jupyter.widget-view+json": {
       "model_id": "553343dbe3f84a1187859f573632be3c",
       "version_major": 2,
       "version_minor": 0
      },
      "text/plain": [
       "roll_out:   0%|          | 0/2048 [00:00<?, ?it/s]"
      ]
     },
     "metadata": {},
     "output_type": "display_data"
    },
    {
     "data": {
      "application/vnd.jupyter.widget-view+json": {
       "model_id": "f91b2d64a2fd4937aa5ba3314c7896d8",
       "version_major": 2,
       "version_minor": 0
      },
      "text/plain": [
       "roll_out:   0%|          | 0/2048 [00:00<?, ?it/s]"
      ]
     },
     "metadata": {},
     "output_type": "display_data"
    },
    {
     "data": {
      "application/vnd.jupyter.widget-view+json": {
       "model_id": "3469a4549a0c400083381554a2bb17d7",
       "version_major": 2,
       "version_minor": 0
      },
      "text/plain": [
       "roll_out:   0%|          | 0/2048 [00:00<?, ?it/s]"
      ]
     },
     "metadata": {},
     "output_type": "display_data"
    },
    {
     "data": {
      "application/vnd.jupyter.widget-view+json": {
       "model_id": "9d697e455a974f1fa80751cffcc84c77",
       "version_major": 2,
       "version_minor": 0
      },
      "text/plain": [
       "roll_out:   0%|          | 0/2048 [00:00<?, ?it/s]"
      ]
     },
     "metadata": {},
     "output_type": "display_data"
    },
    {
     "data": {
      "application/vnd.jupyter.widget-view+json": {
       "model_id": "b19b13fcc4f2406f920cd61ee7013a1d",
       "version_major": 2,
       "version_minor": 0
      },
      "text/plain": [
       "roll_out:   0%|          | 0/2048 [00:00<?, ?it/s]"
      ]
     },
     "metadata": {},
     "output_type": "display_data"
    },
    {
     "data": {
      "application/vnd.jupyter.widget-view+json": {
       "model_id": "dea9fb8fa8fb4bb49aee87213c4c9fe4",
       "version_major": 2,
       "version_minor": 0
      },
      "text/plain": [
       "roll_out:   0%|          | 0/2048 [00:00<?, ?it/s]"
      ]
     },
     "metadata": {},
     "output_type": "display_data"
    },
    {
     "data": {
      "application/vnd.jupyter.widget-view+json": {
       "model_id": "e94463e548e84d3693feafafc1e65285",
       "version_major": 2,
       "version_minor": 0
      },
      "text/plain": [
       "roll_out:   0%|          | 0/2048 [00:00<?, ?it/s]"
      ]
     },
     "metadata": {},
     "output_type": "display_data"
    },
    {
     "data": {
      "application/vnd.jupyter.widget-view+json": {
       "model_id": "ff6c1240477e40c89b3d1e781c1cc81f",
       "version_major": 2,
       "version_minor": 0
      },
      "text/plain": [
       "roll_out:   0%|          | 0/2048 [00:00<?, ?it/s]"
      ]
     },
     "metadata": {},
     "output_type": "display_data"
    },
    {
     "data": {
      "application/vnd.jupyter.widget-view+json": {
       "model_id": "787ca2018a9c4303b5a3fdeb3449b3eb",
       "version_major": 2,
       "version_minor": 0
      },
      "text/plain": [
       "roll_out:   0%|          | 0/2048 [00:00<?, ?it/s]"
      ]
     },
     "metadata": {},
     "output_type": "display_data"
    },
    {
     "data": {
      "application/vnd.jupyter.widget-view+json": {
       "model_id": "3e1db76d3ffc42f2a4d0a1f44dd9ee70",
       "version_major": 2,
       "version_minor": 0
      },
      "text/plain": [
       "roll_out:   0%|          | 0/2048 [00:00<?, ?it/s]"
      ]
     },
     "metadata": {},
     "output_type": "display_data"
    },
    {
     "data": {
      "application/vnd.jupyter.widget-view+json": {
       "model_id": "182433aea1f24087af5d54f7223a9c56",
       "version_major": 2,
       "version_minor": 0
      },
      "text/plain": [
       "roll_out:   0%|          | 0/2048 [00:00<?, ?it/s]"
      ]
     },
     "metadata": {},
     "output_type": "display_data"
    },
    {
     "data": {
      "application/vnd.jupyter.widget-view+json": {
       "model_id": "579c48be9a70489bbcb130a6000d61d6",
       "version_major": 2,
       "version_minor": 0
      },
      "text/plain": [
       "roll_out:   0%|          | 0/2048 [00:00<?, ?it/s]"
      ]
     },
     "metadata": {},
     "output_type": "display_data"
    },
    {
     "data": {
      "application/vnd.jupyter.widget-view+json": {
       "model_id": "d3e7d0644ba74b8a8b3e00d81fd39306",
       "version_major": 2,
       "version_minor": 0
      },
      "text/plain": [
       "roll_out:   0%|          | 0/2048 [00:00<?, ?it/s]"
      ]
     },
     "metadata": {},
     "output_type": "display_data"
    },
    {
     "data": {
      "application/vnd.jupyter.widget-view+json": {
       "model_id": "363bd7ba541d495c9822628eba26bed4",
       "version_major": 2,
       "version_minor": 0
      },
      "text/plain": [
       "roll_out:   0%|          | 0/2048 [00:00<?, ?it/s]"
      ]
     },
     "metadata": {},
     "output_type": "display_data"
    },
    {
     "data": {
      "application/vnd.jupyter.widget-view+json": {
       "model_id": "d5414399ec284a35b7b5c414acf36553",
       "version_major": 2,
       "version_minor": 0
      },
      "text/plain": [
       "roll_out:   0%|          | 0/2048 [00:00<?, ?it/s]"
      ]
     },
     "metadata": {},
     "output_type": "display_data"
    },
    {
     "data": {
      "application/vnd.jupyter.widget-view+json": {
       "model_id": "4acadd3feb4548708cf0d5409a44b475",
       "version_major": 2,
       "version_minor": 0
      },
      "text/plain": [
       "roll_out:   0%|          | 0/2048 [00:00<?, ?it/s]"
      ]
     },
     "metadata": {},
     "output_type": "display_data"
    },
    {
     "data": {
      "application/vnd.jupyter.widget-view+json": {
       "model_id": "2980e1de53c14d0db1dce0df4e183009",
       "version_major": 2,
       "version_minor": 0
      },
      "text/plain": [
       "roll_out:   0%|          | 0/2048 [00:00<?, ?it/s]"
      ]
     },
     "metadata": {},
     "output_type": "display_data"
    },
    {
     "data": {
      "application/vnd.jupyter.widget-view+json": {
       "model_id": "d5459ab9c4b74e61b5b5d4b5aec85a05",
       "version_major": 2,
       "version_minor": 0
      },
      "text/plain": [
       "roll_out:   0%|          | 0/2048 [00:00<?, ?it/s]"
      ]
     },
     "metadata": {},
     "output_type": "display_data"
    },
    {
     "data": {
      "application/vnd.jupyter.widget-view+json": {
       "model_id": "2b5a1fd5a12443adab3978e07603f036",
       "version_major": 2,
       "version_minor": 0
      },
      "text/plain": [
       "roll_out:   0%|          | 0/2048 [00:00<?, ?it/s]"
      ]
     },
     "metadata": {},
     "output_type": "display_data"
    },
    {
     "data": {
      "application/vnd.jupyter.widget-view+json": {
       "model_id": "086d04b2500c485db0a2f73002a2d7ea",
       "version_major": 2,
       "version_minor": 0
      },
      "text/plain": [
       "roll_out:   0%|          | 0/2048 [00:00<?, ?it/s]"
      ]
     },
     "metadata": {},
     "output_type": "display_data"
    },
    {
     "data": {
      "application/vnd.jupyter.widget-view+json": {
       "model_id": "741962ef2c9e449188d0cb1dcc38e141",
       "version_major": 2,
       "version_minor": 0
      },
      "text/plain": [
       "roll_out:   0%|          | 0/2048 [00:00<?, ?it/s]"
      ]
     },
     "metadata": {},
     "output_type": "display_data"
    },
    {
     "data": {
      "application/vnd.jupyter.widget-view+json": {
       "model_id": "2c1aede6a4b44b90a51e30a99c176d18",
       "version_major": 2,
       "version_minor": 0
      },
      "text/plain": [
       "roll_out:   0%|          | 0/2048 [00:00<?, ?it/s]"
      ]
     },
     "metadata": {},
     "output_type": "display_data"
    },
    {
     "data": {
      "application/vnd.jupyter.widget-view+json": {
       "model_id": "b8a27994e8f4418283ee5d9dec3fdf73",
       "version_major": 2,
       "version_minor": 0
      },
      "text/plain": [
       "roll_out:   0%|          | 0/2048 [00:00<?, ?it/s]"
      ]
     },
     "metadata": {},
     "output_type": "display_data"
    },
    {
     "data": {
      "application/vnd.jupyter.widget-view+json": {
       "model_id": "dd9b093c9d7141a0a7cd45aa7c735741",
       "version_major": 2,
       "version_minor": 0
      },
      "text/plain": [
       "roll_out:   0%|          | 0/2048 [00:00<?, ?it/s]"
      ]
     },
     "metadata": {},
     "output_type": "display_data"
    },
    {
     "data": {
      "application/vnd.jupyter.widget-view+json": {
       "model_id": "61dde984a72f4e0bbdaa6a0b34a46734",
       "version_major": 2,
       "version_minor": 0
      },
      "text/plain": [
       "roll_out:   0%|          | 0/2048 [00:00<?, ?it/s]"
      ]
     },
     "metadata": {},
     "output_type": "display_data"
    },
    {
     "data": {
      "application/vnd.jupyter.widget-view+json": {
       "model_id": "b6d753119ab249a3b7fe2cb1bfd8ac03",
       "version_major": 2,
       "version_minor": 0
      },
      "text/plain": [
       "roll_out:   0%|          | 0/2048 [00:00<?, ?it/s]"
      ]
     },
     "metadata": {},
     "output_type": "display_data"
    },
    {
     "data": {
      "application/vnd.jupyter.widget-view+json": {
       "model_id": "0fe8b6ab646845cfbcd1f17753568afe",
       "version_major": 2,
       "version_minor": 0
      },
      "text/plain": [
       "roll_out:   0%|          | 0/2048 [00:00<?, ?it/s]"
      ]
     },
     "metadata": {},
     "output_type": "display_data"
    },
    {
     "data": {
      "application/vnd.jupyter.widget-view+json": {
       "model_id": "610b55529df941aab8eb02bd1208a447",
       "version_major": 2,
       "version_minor": 0
      },
      "text/plain": [
       "roll_out:   0%|          | 0/2048 [00:00<?, ?it/s]"
      ]
     },
     "metadata": {},
     "output_type": "display_data"
    },
    {
     "data": {
      "application/vnd.jupyter.widget-view+json": {
       "model_id": "6ef2d3eebf1940a4adbc20d9eed077f8",
       "version_major": 2,
       "version_minor": 0
      },
      "text/plain": [
       "roll_out:   0%|          | 0/2048 [00:00<?, ?it/s]"
      ]
     },
     "metadata": {},
     "output_type": "display_data"
    },
    {
     "data": {
      "application/vnd.jupyter.widget-view+json": {
       "model_id": "bf2e6b16fb1346beba86cdc28191b2a7",
       "version_major": 2,
       "version_minor": 0
      },
      "text/plain": [
       "roll_out:   0%|          | 0/2048 [00:00<?, ?it/s]"
      ]
     },
     "metadata": {},
     "output_type": "display_data"
    },
    {
     "data": {
      "application/vnd.jupyter.widget-view+json": {
       "model_id": "a1a4548668a74f618f3f3b3826a2b632",
       "version_major": 2,
       "version_minor": 0
      },
      "text/plain": [
       "roll_out:   0%|          | 0/2048 [00:00<?, ?it/s]"
      ]
     },
     "metadata": {},
     "output_type": "display_data"
    },
    {
     "data": {
      "application/vnd.jupyter.widget-view+json": {
       "model_id": "aa8a1b6f587c4b76952084253dca603c",
       "version_major": 2,
       "version_minor": 0
      },
      "text/plain": [
       "roll_out:   0%|          | 0/2048 [00:00<?, ?it/s]"
      ]
     },
     "metadata": {},
     "output_type": "display_data"
    },
    {
     "data": {
      "application/vnd.jupyter.widget-view+json": {
       "model_id": "4d318224bda5411c8854fa10c200d19c",
       "version_major": 2,
       "version_minor": 0
      },
      "text/plain": [
       "roll_out:   0%|          | 0/2048 [00:00<?, ?it/s]"
      ]
     },
     "metadata": {},
     "output_type": "display_data"
    },
    {
     "data": {
      "application/vnd.jupyter.widget-view+json": {
       "model_id": "53885da854fe45c880e9bf1a132f8aec",
       "version_major": 2,
       "version_minor": 0
      },
      "text/plain": [
       "roll_out:   0%|          | 0/2048 [00:00<?, ?it/s]"
      ]
     },
     "metadata": {},
     "output_type": "display_data"
    },
    {
     "data": {
      "application/vnd.jupyter.widget-view+json": {
       "model_id": "fa22861b45744ba48ee6b4ea795c4904",
       "version_major": 2,
       "version_minor": 0
      },
      "text/plain": [
       "roll_out:   0%|          | 0/2048 [00:00<?, ?it/s]"
      ]
     },
     "metadata": {},
     "output_type": "display_data"
    },
    {
     "data": {
      "application/vnd.jupyter.widget-view+json": {
       "model_id": "78e67203bb3b4af5b7c4573a9633236f",
       "version_major": 2,
       "version_minor": 0
      },
      "text/plain": [
       "roll_out:   0%|          | 0/2048 [00:00<?, ?it/s]"
      ]
     },
     "metadata": {},
     "output_type": "display_data"
    },
    {
     "data": {
      "application/vnd.jupyter.widget-view+json": {
       "model_id": "b047137705924e7ab0a04e950461083a",
       "version_major": 2,
       "version_minor": 0
      },
      "text/plain": [
       "roll_out:   0%|          | 0/2048 [00:00<?, ?it/s]"
      ]
     },
     "metadata": {},
     "output_type": "display_data"
    },
    {
     "data": {
      "application/vnd.jupyter.widget-view+json": {
       "model_id": "5b6cc3f744c548cb839718095a8be8e8",
       "version_major": 2,
       "version_minor": 0
      },
      "text/plain": [
       "roll_out:   0%|          | 0/2048 [00:00<?, ?it/s]"
      ]
     },
     "metadata": {},
     "output_type": "display_data"
    },
    {
     "data": {
      "application/vnd.jupyter.widget-view+json": {
       "model_id": "192ab84705614187b5d94362a00f18e2",
       "version_major": 2,
       "version_minor": 0
      },
      "text/plain": [
       "roll_out:   0%|          | 0/2048 [00:00<?, ?it/s]"
      ]
     },
     "metadata": {},
     "output_type": "display_data"
    },
    {
     "data": {
      "application/vnd.jupyter.widget-view+json": {
       "model_id": "0f66a1b90f254fe8b9faf1f2fc0b29ac",
       "version_major": 2,
       "version_minor": 0
      },
      "text/plain": [
       "roll_out:   0%|          | 0/2048 [00:00<?, ?it/s]"
      ]
     },
     "metadata": {},
     "output_type": "display_data"
    },
    {
     "data": {
      "application/vnd.jupyter.widget-view+json": {
       "model_id": "448082e4bc6c40e09abfc1bf9a76136d",
       "version_major": 2,
       "version_minor": 0
      },
      "text/plain": [
       "roll_out:   0%|          | 0/2048 [00:00<?, ?it/s]"
      ]
     },
     "metadata": {},
     "output_type": "display_data"
    },
    {
     "data": {
      "application/vnd.jupyter.widget-view+json": {
       "model_id": "d396046379c145f4908d83b49524055b",
       "version_major": 2,
       "version_minor": 0
      },
      "text/plain": [
       "roll_out:   0%|          | 0/2048 [00:00<?, ?it/s]"
      ]
     },
     "metadata": {},
     "output_type": "display_data"
    },
    {
     "data": {
      "application/vnd.jupyter.widget-view+json": {
       "model_id": "9460da240c9f4df8918b84796ecac714",
       "version_major": 2,
       "version_minor": 0
      },
      "text/plain": [
       "roll_out:   0%|          | 0/2048 [00:00<?, ?it/s]"
      ]
     },
     "metadata": {},
     "output_type": "display_data"
    },
    {
     "data": {
      "application/vnd.jupyter.widget-view+json": {
       "model_id": "6f7db82ed5584c08856962f5c1e087a7",
       "version_major": 2,
       "version_minor": 0
      },
      "text/plain": [
       "roll_out:   0%|          | 0/2048 [00:00<?, ?it/s]"
      ]
     },
     "metadata": {},
     "output_type": "display_data"
    },
    {
     "data": {
      "application/vnd.jupyter.widget-view+json": {
       "model_id": "6df752f79d14461192f10d7329d2db1e",
       "version_major": 2,
       "version_minor": 0
      },
      "text/plain": [
       "roll_out:   0%|          | 0/2048 [00:00<?, ?it/s]"
      ]
     },
     "metadata": {},
     "output_type": "display_data"
    },
    {
     "data": {
      "application/vnd.jupyter.widget-view+json": {
       "model_id": "7a39a4fa101a4579beeb38e6152de86f",
       "version_major": 2,
       "version_minor": 0
      },
      "text/plain": [
       "roll_out:   0%|          | 0/2048 [00:00<?, ?it/s]"
      ]
     },
     "metadata": {},
     "output_type": "display_data"
    },
    {
     "data": {
      "application/vnd.jupyter.widget-view+json": {
       "model_id": "52712a62478e42c88f4e36f4412a0e99",
       "version_major": 2,
       "version_minor": 0
      },
      "text/plain": [
       "roll_out:   0%|          | 0/2048 [00:00<?, ?it/s]"
      ]
     },
     "metadata": {},
     "output_type": "display_data"
    },
    {
     "data": {
      "application/vnd.jupyter.widget-view+json": {
       "model_id": "f14c6faf957d4fac8b41a05fdc7a15fe",
       "version_major": 2,
       "version_minor": 0
      },
      "text/plain": [
       "roll_out:   0%|          | 0/2048 [00:00<?, ?it/s]"
      ]
     },
     "metadata": {},
     "output_type": "display_data"
    },
    {
     "data": {
      "application/vnd.jupyter.widget-view+json": {
       "model_id": "e6990b2d903d4d8a824eb0493dce02d5",
       "version_major": 2,
       "version_minor": 0
      },
      "text/plain": [
       "roll_out:   0%|          | 0/2048 [00:00<?, ?it/s]"
      ]
     },
     "metadata": {},
     "output_type": "display_data"
    },
    {
     "data": {
      "application/vnd.jupyter.widget-view+json": {
       "model_id": "7771d4cca424431c8da1b525663c63d9",
       "version_major": 2,
       "version_minor": 0
      },
      "text/plain": [
       "roll_out:   0%|          | 0/2048 [00:00<?, ?it/s]"
      ]
     },
     "metadata": {},
     "output_type": "display_data"
    },
    {
     "data": {
      "application/vnd.jupyter.widget-view+json": {
       "model_id": "f94d6fdc79f5407f8357edd9a3abbb11",
       "version_major": 2,
       "version_minor": 0
      },
      "text/plain": [
       "roll_out:   0%|          | 0/2048 [00:00<?, ?it/s]"
      ]
     },
     "metadata": {},
     "output_type": "display_data"
    },
    {
     "data": {
      "application/vnd.jupyter.widget-view+json": {
       "model_id": "6f96ef5c33384b7c905d5872fcb94347",
       "version_major": 2,
       "version_minor": 0
      },
      "text/plain": [
       "roll_out:   0%|          | 0/2048 [00:00<?, ?it/s]"
      ]
     },
     "metadata": {},
     "output_type": "display_data"
    },
    {
     "data": {
      "application/vnd.jupyter.widget-view+json": {
       "model_id": "e92522cc95f94d6ba0a911a4535cd6e9",
       "version_major": 2,
       "version_minor": 0
      },
      "text/plain": [
       "roll_out:   0%|          | 0/2048 [00:00<?, ?it/s]"
      ]
     },
     "metadata": {},
     "output_type": "display_data"
    },
    {
     "data": {
      "application/vnd.jupyter.widget-view+json": {
       "model_id": "8f94c6e0e9aa4fa6a2d46cd81c6ca208",
       "version_major": 2,
       "version_minor": 0
      },
      "text/plain": [
       "roll_out:   0%|          | 0/2048 [00:00<?, ?it/s]"
      ]
     },
     "metadata": {},
     "output_type": "display_data"
    },
    {
     "data": {
      "application/vnd.jupyter.widget-view+json": {
       "model_id": "09157391b3b541b58d2ab2c7813455a3",
       "version_major": 2,
       "version_minor": 0
      },
      "text/plain": [
       "roll_out:   0%|          | 0/2048 [00:00<?, ?it/s]"
      ]
     },
     "metadata": {},
     "output_type": "display_data"
    },
    {
     "data": {
      "application/vnd.jupyter.widget-view+json": {
       "model_id": "25d8ed0ee78e4ec6af2b81ff3488983b",
       "version_major": 2,
       "version_minor": 0
      },
      "text/plain": [
       "roll_out:   0%|          | 0/2048 [00:00<?, ?it/s]"
      ]
     },
     "metadata": {},
     "output_type": "display_data"
    },
    {
     "data": {
      "application/vnd.jupyter.widget-view+json": {
       "model_id": "eb7489da19cb43ceaf702d3d121908ce",
       "version_major": 2,
       "version_minor": 0
      },
      "text/plain": [
       "roll_out:   0%|          | 0/2048 [00:00<?, ?it/s]"
      ]
     },
     "metadata": {},
     "output_type": "display_data"
    },
    {
     "data": {
      "application/vnd.jupyter.widget-view+json": {
       "model_id": "7a19ecbd9d8144589da5b72c356c7fdd",
       "version_major": 2,
       "version_minor": 0
      },
      "text/plain": [
       "roll_out:   0%|          | 0/2048 [00:00<?, ?it/s]"
      ]
     },
     "metadata": {},
     "output_type": "display_data"
    },
    {
     "data": {
      "application/vnd.jupyter.widget-view+json": {
       "model_id": "7f9a268250194ceea8924a10c64fd6c9",
       "version_major": 2,
       "version_minor": 0
      },
      "text/plain": [
       "roll_out:   0%|          | 0/2048 [00:00<?, ?it/s]"
      ]
     },
     "metadata": {},
     "output_type": "display_data"
    },
    {
     "data": {
      "application/vnd.jupyter.widget-view+json": {
       "model_id": "21bc5798e6ea4c53b009af30ec9b8416",
       "version_major": 2,
       "version_minor": 0
      },
      "text/plain": [
       "roll_out:   0%|          | 0/2048 [00:00<?, ?it/s]"
      ]
     },
     "metadata": {},
     "output_type": "display_data"
    },
    {
     "data": {
      "application/vnd.jupyter.widget-view+json": {
       "model_id": "b2b55fe90a984e01896e25581163708d",
       "version_major": 2,
       "version_minor": 0
      },
      "text/plain": [
       "roll_out:   0%|          | 0/2048 [00:00<?, ?it/s]"
      ]
     },
     "metadata": {},
     "output_type": "display_data"
    },
    {
     "data": {
      "text/html": [
       "Waiting for W&B process to finish... <strong style=\"color:green\">(success).</strong>"
      ],
      "text/plain": [
       "<IPython.core.display.HTML object>"
      ]
     },
     "metadata": {},
     "output_type": "display_data"
    },
    {
     "data": {
      "text/html": [
       "<style>\n",
       "    table.wandb td:nth-child(1) { padding: 0 10px; text-align: left ; width: auto;} td:nth-child(2) {text-align: left ; width: 100%}\n",
       "    .wandb-row { display: flex; flex-direction: row; flex-wrap: wrap; justify-content: flex-start; width: 100% }\n",
       "    .wandb-col { display: flex; flex-direction: column; flex-basis: 100%; flex: 1; padding: 10px; }\n",
       "    </style>\n",
       "<div class=\"wandb-row\"><div class=\"wandb-col\"><h3>Run history:</h3><br/><table class=\"wandb\"><tr><td>KL_approx</td><td>▁▂▄▁▃▂▃▃▄▄▄▃▃▄▄▃▅▅▅▆▄▅▇█▄▇▄▅▅▅▄▇▄▃▇▄▃▃▅▇</td></tr><tr><td>actor_loss</td><td>█▄▄▆▄▅▄▃▃▄▃▂▂▃▂▃▃▂▄▃▄▃▂▂▁▂▃▁▁▃▃▁▄▄▂▃▆▄▁▂</td></tr><tr><td>critic_loss</td><td>▂▁▁▂▂▁▃▂▃▄▄▅▅▆▄▄▃▄▆▄▄▅▄▃▄▃▅▄▄▄▆▅▄█▄▆██▆▄</td></tr><tr><td>entropy_loss</td><td>▁▁▁▁▁▁▁▁▁▁▁▁▁▁▁▁▁▁▁▁▁▁▁▁▁▁▁▁▁▁▁▁▁▁▁▁▁▁▁▁</td></tr><tr><td>episode_reward</td><td>▁▁▁▁▂▃▃▃▃▂▃▃▃▃▄▄▄▄▄▄▄▄▄▅▅▆▅▆▆▇▄▆▇▇▇▄▁███</td></tr></table><br/></div><div class=\"wandb-col\"><h3>Run summary:</h3><br/><table class=\"wandb\"><tr><td>KL_approx</td><td>0.03385</td></tr><tr><td>actor_loss</td><td>-0.04834</td></tr><tr><td>critic_loss</td><td>62.90139</td></tr><tr><td>entropy_loss</td><td>5.51363</td></tr><tr><td>episode_reward</td><td>1726.21496</td></tr><tr><td>total_episode</td><td>976</td></tr></table><br/></div></div>"
      ],
      "text/plain": [
       "<IPython.core.display.HTML object>"
      ]
     },
     "metadata": {},
     "output_type": "display_data"
    },
    {
     "data": {
      "text/html": [
       " View run <strong style=\"color:#cdcd00\">lively-sweep-1</strong> at: <a href='https://wandb.ai/tcd-clearway/PPO-HalfCheetah_cmp/runs/affbctkw' target=\"_blank\">https://wandb.ai/tcd-clearway/PPO-HalfCheetah_cmp/runs/affbctkw</a><br/>Synced 6 W&B file(s), 0 media file(s), 0 artifact file(s) and 0 other file(s)"
      ],
      "text/plain": [
       "<IPython.core.display.HTML object>"
      ]
     },
     "metadata": {},
     "output_type": "display_data"
    },
    {
     "data": {
      "text/html": [
       "Find logs at: <code>./wandb/run-20230731_112151-affbctkw/logs</code>"
      ],
      "text/plain": [
       "<IPython.core.display.HTML object>"
      ]
     },
     "metadata": {},
     "output_type": "display_data"
    }
   ],
   "source": [
    "\n",
    "%env \"WANDB_NOTEBOOK_NAME\" \"PPO_GYM\"\n",
    "sweep_id = wandb.sweep(sweep=sweep_configuration, project='PPO-HalfCheetah_cmp')\n",
    "wandb.agent(sweep_id, function=main, count=1)"
   ]
  },
  {
   "cell_type": "markdown",
   "metadata": {},
   "source": [
    "### Sweep configuration for Pendulum\n",
    "#### Continous action space"
   ]
  },
  {
   "cell_type": "code",
   "execution_count": null,
   "metadata": {},
   "outputs": [],
   "source": [
    "sweep_configuration = {\n",
    "    'method': 'grid',\n",
    "    'metric':{'goal':'maximize', 'name':'episode_reward'},\n",
    "    'parameters':\n",
    "    {\n",
    "        'early_stop': {'value': False},\n",
    "        'cal_total_loss' : {'value' : True},\n",
    "        'parameters_hardshare' : {'value' : False},\n",
    "        'c1' : {'value': 0.5020639303776493},\n",
    "        'c2' : {'value' : 0.910077248529638},\n",
    "        # 'kl_threshold' : {'min': 0.01, 'max': 0.04},\n",
    "        'minibatch_size' : {'values' : [128, 256, 512, 1024]}\n",
    "    }\n",
    "}\n",
    "%env \"WANDB_NOTEBOOK_NAME\" \"PPO_GYM\"\n",
    "sweep_id = wandb.sweep(sweep=sweep_configuration, project='PPO-Pendulum-2')\n",
    "wandb.agent(sweep_id, function=main, count=4)"
   ]
  },
  {
   "cell_type": "code",
   "execution_count": null,
   "metadata": {},
   "outputs": [],
   "source": []
  },
  {
   "cell_type": "code",
   "execution_count": null,
   "metadata": {},
   "outputs": [],
   "source": []
  },
  {
   "cell_type": "code",
   "execution_count": null,
   "metadata": {},
   "outputs": [],
   "source": []
  },
  {
   "cell_type": "code",
   "execution_count": null,
   "metadata": {},
   "outputs": [],
   "source": []
  },
  {
   "cell_type": "code",
   "execution_count": null,
   "metadata": {},
   "outputs": [],
   "source": []
  },
  {
   "cell_type": "code",
   "execution_count": null,
   "metadata": {},
   "outputs": [],
   "source": []
  },
  {
   "cell_type": "code",
   "execution_count": null,
   "metadata": {},
   "outputs": [],
   "source": []
  }
 ],
 "metadata": {
  "kernelspec": {
   "display_name": "Python 3",
   "language": "python",
   "name": "python3"
  },
  "language_info": {
   "codemirror_mode": {
    "name": "ipython",
    "version": 3
   },
   "file_extension": ".py",
   "mimetype": "text/x-python",
   "name": "python",
   "nbconvert_exporter": "python",
   "pygments_lexer": "ipython3",
   "version": "3.9.17"
  },
  "orig_nbformat": 4
 },
 "nbformat": 4,
 "nbformat_minor": 2
}
